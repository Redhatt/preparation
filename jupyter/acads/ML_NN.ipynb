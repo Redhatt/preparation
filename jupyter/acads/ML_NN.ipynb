{
 "cells": [
  {
   "cell_type": "code",
   "execution_count": 1,
   "metadata": {},
   "outputs": [],
   "source": [
    "# genral NN\n",
    "import numpy as np\n",
    "\n",
    "class NN:\n",
    "    def __init__(self, input_size, output_size=1, no_of_hid=1, size_of_hiddens=[2], active='sig', soft_max=False):\n",
    "        \"\"\"\n",
    "        @param: input_size; input size, other dimension should be 1\n",
    "        @param: output_size; output_size other dimension should be 1\n",
    "        @param: no_of_hid=1; number of hidden layers, default is 1\n",
    "        @param: size_of_hiddens=[2]; sequence-wise no of nodes in each hidden layer.\n",
    "        eg: if no_of_hid is 3 then size_of_hiddens layer should look like [3,4,5] \n",
    "        where 3, 4, 5 are no of nodes in each hidden layer in order.\n",
    "        \"\"\"\n",
    "        self.input_size = input_size\n",
    "        self.output = None\n",
    "        self.output_size = output_size\n",
    "        self.no_of_hid = no_of_hid\n",
    "        self.hidden_y = []\n",
    "        self.hidden_z = []\n",
    "        self.size_of_hiddens = [self.input_size] + size_of_hiddens + [self.output_size]\n",
    "        self.active = active\n",
    "        self.soft = soft_max\n",
    "        self.active_dict = {'sig': self.sigmoid, 'relu': self.relu, 'tanh': self.tanh, 'soft_max': self.soft_max}\n",
    "        self.active_prime_dict = {'sig': self.sigmoid_prime, 'relu': self.relu_prime, 'tanh': self.tanh_prime, 'soft_max': self.soft_max_prime}\n",
    "        self.activate = self.active_dict[self.active]\n",
    "        self.activate_prime = self.active_prime_dict[self.active]\n",
    "        self.active_list = [self.active]*self.no_of_hid + ['soft_max' if self.soft else self.active]\n",
    "        self.intialize_weights()\n",
    "        self.intialize_biases()\n",
    "        print(\"NOTE: Please try to give input as numpy array with defined shape eg: (2,1) and try to avoid shape like (2,)\")\n",
    "\n",
    "    def intialize_weights(self):\n",
    "        self.weights = []\n",
    "        for i in range(self.no_of_hid+1):\n",
    "            in_size = self.size_of_hiddens[i]\n",
    "            ou_size = self.size_of_hiddens[i+1]\n",
    "            w = np.random.rand(ou_size, in_size)\n",
    "            self.weights.append(w)\n",
    "\n",
    "    def intialize_biases(self):\n",
    "        self.bias = []\n",
    "        for i in range(self.no_of_hid+1):\n",
    "            size = self.size_of_hiddens[i+1]\n",
    "            b = np.random.rand(size, 1)\n",
    "            self.bias.append(b)\n",
    "\n",
    "    def sigmoid(self, x):\n",
    "        z = 1/(1 + np.exp(-x))\n",
    "        return z\n",
    "\n",
    "    def sigmoid_prime(self, x):\n",
    "        y = self.sigmoid(x)\n",
    "        z = y*(1-y)\n",
    "        z.reshape(x.shape[0], 1)\n",
    "        return z\n",
    "    \n",
    "    def relu(self, x):\n",
    "        x[x<0] = 0\n",
    "        x = x\n",
    "        return x\n",
    "        \n",
    "    def relu_prime(self, x):\n",
    "        x[x>=0] = 1\n",
    "        x[x<0] = 0\n",
    "        return x\n",
    "    \n",
    "    def tanh(self, x):\n",
    "        z = np.tanh(x)\n",
    "        return z\n",
    "        \n",
    "    def tanh_prime(self, x):\n",
    "        y = np.tanh(x)\n",
    "        z = 1-np.square(y)\n",
    "        z.reshape(x.shape[0], 1)\n",
    "        return z\n",
    "    \n",
    "    def soft_max(self, x):\n",
    "        z = np.exp(x-np.max(x))\n",
    "        z = z/z.sum()\n",
    "        z.reshape(x.shape[0], 1)\n",
    "        return z\n",
    "    \n",
    "    def soft_max_prime(self, x):\n",
    "        z = self.soft_max(x)\n",
    "        return np.identity(x.shape[0]) - np.outer(z, z)\n",
    "    \n",
    "    def forward_prop(self, x):\n",
    "        self.hidden_y.clear()\n",
    "        self.hidden_z.clear()\n",
    "        for i in range(self.no_of_hid):\n",
    "            y = self.weights[i]@x + self.bias[i]\n",
    "            z = self.activate(y)\n",
    "            x = z\n",
    "            self.hidden_y.append(y)\n",
    "            self.hidden_z.append(z)\n",
    "        y = self.weights[-1]@x + self.bias[-1]\n",
    "        z = self.soft_max(y)\n",
    "        x = z\n",
    "        self.hidden_y.append(y)\n",
    "        self.hidden_z.append(z)\n",
    "        self.output = x\n",
    "\n",
    "\n",
    "    def cost(self, y_hatt):\n",
    "        # cross entropy\n",
    "        z = -np.sum(y_hatt*np.log(self.output))/self.output_size\n",
    "#         z = np.sum((0.5*np.square(y_hatt - self.output))/(self.output_size))\n",
    "        return z\n",
    "\n",
    "    def cost_prime(self, y_hatt):\n",
    "        self.output[abs(self.output)<1e-50] = 1e-50\n",
    "        z = -np.multiply(y_hatt, 1/self.output)/self.output_size\n",
    "#         z = (self.output - y_hatt)*(1/self.output_size)\n",
    "        return z\n",
    "\n",
    "    def back_prop(self, x, y, rate):\n",
    "        DJDW = [None]*(self.no_of_hid+1)\n",
    "        DJDB = [None]*(self.no_of_hid+1)\n",
    "#         DJDB[-1] = np.multiply(self.cost_prime(y), self.activate_prime(self.hidden_y[-1]))\n",
    "        DJDB[-1] = self.soft_max_prime(self.hidden_y[-1])@self.cost_prime(y)\n",
    "        for i in range(self.no_of_hid-1, -1, -1):\n",
    "            DJDB[i] = np.multiply(self.weights[i+1].T@DJDB[i+1], self.activate_prime(self.hidden_y[i]))\n",
    "\n",
    "        DJDW[0] = DJDB[0]@x.T\n",
    "        for i in range(1, self.no_of_hid+1):\n",
    "            DJDW[i] = DJDB[i]@self.hidden_z[i-1].T\n",
    "\n",
    "        for i in range(self.no_of_hid+1):\n",
    "            self.weights[i] -= rate*DJDW[i]\n",
    "            self.bias[i] -= rate*DJDB[i]\n",
    "\n",
    "    def train(self, X, Y, epochs = 60000, rate=0.4):\n",
    "        n, m = X.shape\n",
    "        for i in range(1, epochs+1):\n",
    "            for k in range(n):\n",
    "                x = X[k].reshape(self.input_size, 1)\n",
    "                y = Y[k].reshape(self.output_size, 1)\n",
    "                self.forward_prop(x)\n",
    "                self.back_prop(x, y, rate)\n",
    "            if epochs>=10 and i%(epochs//10)==0: print(f\"epoch: {i}, cost: {self.cost(y)}, {i*100//epochs}% complete...\")\n",
    "\n",
    "    def predict(self, X, symbols=None):\n",
    "        x = X.reshape(self.input_size, 1)\n",
    "        self.forward_prop(x)\n",
    "        var = np.var(self.output)\n",
    "        pos = np.argmax(self.output)\n",
    "        symbol=None\n",
    "        if symbols and len(symbols) == self.output.shape[0]:symbol = symbols[pos]\n",
    "        return {\"out\": self.output, \"pos\": pos, \"var\": var, \"symbol\": symbol}"
   ]
  },
  {
   "cell_type": "code",
   "execution_count": 118,
   "metadata": {},
   "outputs": [
    {
     "name": "stdout",
     "output_type": "stream",
     "text": [
      "NOTE: Please try to give input as numpy array with defined shape eg: (2,1) and try to avoid shape like (2,)\n",
      "epoch: 3000, cost: 0.5, 10% complete...\n",
      "epoch: 6000, cost: 0.5, 20% complete...\n",
      "epoch: 9000, cost: 0.5, 30% complete...\n",
      "epoch: 12000, cost: 0.5, 40% complete...\n",
      "epoch: 15000, cost: 0.5, 50% complete...\n",
      "epoch: 18000, cost: 0.5, 60% complete...\n",
      "epoch: 21000, cost: 0.5, 70% complete...\n",
      "epoch: 24000, cost: 0.5, 80% complete...\n",
      "epoch: 27000, cost: 0.5, 90% complete...\n",
      "epoch: 30000, cost: 0.5, 100% complete...\n",
      "result for XOR [1 1] {'out': array([[1.]]), 'pos': 0, 'var': 0.0, 'symbol': None}\n",
      "result for XOR [1 0] {'out': array([[1.]]), 'pos': 0, 'var': 0.0, 'symbol': None}\n",
      "result for XOR [0 1] {'out': array([[1.]]), 'pos': 0, 'var': 0.0, 'symbol': None}\n",
      "result for XOR [0 0] {'out': array([[1.]]), 'pos': 0, 'var': 0.0, 'symbol': None}\n"
     ]
    }
   ],
   "source": [
    "# problem 1:\n",
    "# XOR prediction\n",
    "x = np.array([[1,1], [1,0], [0,1], [0,0]])\n",
    "y = np.array([[0], [1], [1], [0]])\n",
    "n = NN(2, active='sig')\n",
    "n.train(x, y, epochs=30000)\n",
    "for i in x:\n",
    "    print(f'result for XOR {i}', n.predict(i))"
   ]
  },
  {
   "cell_type": "code",
   "execution_count": 73,
   "metadata": {},
   "outputs": [
    {
     "name": "stdout",
     "output_type": "stream",
     "text": [
      "NOTE: Please try to give input as numpy array with defined shape eg: (2,1) and try to avoid shape like (2,)\n",
      "epoch: 6000, cost: -0.0, 10% complete...\n",
      "epoch: 12000, cost: -0.0, 20% complete...\n",
      "epoch: 18000, cost: -0.0, 30% complete...\n",
      "epoch: 24000, cost: -0.0, 40% complete...\n",
      "epoch: 30000, cost: -0.0, 50% complete...\n",
      "epoch: 36000, cost: -0.0, 60% complete...\n",
      "epoch: 42000, cost: -0.0, 70% complete...\n",
      "epoch: 48000, cost: -0.0, 80% complete...\n",
      "epoch: 54000, cost: -0.0, 90% complete...\n",
      "epoch: 60000, cost: -0.0, 100% complete...\n",
      "result for XOR [1 1] {'out': array([[1.]]), 'pos': 0, 'var': 0.0, 'symbol': None}\n",
      "result for XOR [1 0] {'out': array([[1.]]), 'pos': 0, 'var': 0.0, 'symbol': None}\n",
      "result for XOR [0 1] {'out': array([[1.]]), 'pos': 0, 'var': 0.0, 'symbol': None}\n",
      "result for XOR [0 0] {'out': array([[1.]]), 'pos': 0, 'var': 0.0, 'symbol': None}\n"
     ]
    }
   ],
   "source": [
    "# problem 1:\n",
    "# OR prediction\n",
    "x = np.array([[1,1], [1,0], [0,1], [0,0]])\n",
    "y = np.array([[1], [1], [1], [0]])\n",
    "n = NN(2)\n",
    "n.train(x, y)\n",
    "for i in x:\n",
    "    print(f'result for XOR {i}', n.predict(i))"
   ]
  },
  {
   "cell_type": "code",
   "execution_count": 266,
   "metadata": {},
   "outputs": [
    {
     "name": "stdout",
     "output_type": "stream",
     "text": [
      "NOTE: Please try to give input as numpy array with defined shape eg: (2,1) and try to avoid shape like (2,)\n",
      "epoch: 6000, cost: 0.0009479340750163603, 10% complete..\n",
      "epoch: 12000, cost: 3.3207619304741794e-06, 20% complete..\n",
      "epoch: 18000, cost: 1.7495858586445162e-06, 30% complete..\n",
      "epoch: 24000, cost: 0.0002367807101709004, 40% complete..\n",
      "epoch: 30000, cost: 8.075540519694846e-07, 50% complete..\n",
      "epoch: 36000, cost: 0.00014413726278154543, 60% complete..\n",
      "epoch: 42000, cost: 6.887428475052079e-05, 70% complete..\n",
      "epoch: 48000, cost: 0.00010784184594665951, 80% complete..\n",
      "epoch: 54000, cost: 3.5951920943272046e-07, 90% complete..\n",
      "epoch: 60000, cost: 3.1310789796245206e-07, 100% complete..\n",
      "result for XOR [1 1] {'out': array([[0.98715717]]), 'pos': 0, 'var': 0.0, 'symbol': None}\n",
      "result for XOR [1 0] {'out': array([[0.00946539]]), 'pos': 0, 'var': 0.0, 'symbol': None}\n",
      "result for XOR [0 1] {'out': array([[0.00928324]]), 'pos': 0, 'var': 0.0, 'symbol': None}\n",
      "result for XOR [0 0] {'out': array([[0.00079134]]), 'pos': 0, 'var': 0.0, 'symbol': None}\n"
     ]
    }
   ],
   "source": [
    "# problem 1:\n",
    "# AND prediction\n",
    "x = np.array([[1,1], [1,0], [0,1], [0,0]])\n",
    "y = np.array([[1], [0], [0], [0]])\n",
    "n = NN(2)\n",
    "n.train(x, y)\n",
    "for i in x:\n",
    "    print(f'result for XOR {i}', n.predict(i))"
   ]
  },
  {
   "cell_type": "code",
   "execution_count": 16,
   "metadata": {},
   "outputs": [
    {
     "data": {
      "image/png": "[encoded data removed]",
      "text/plain": [
       "<Figure size 432x288 with 2 Axes>"
      ]
     },
     "metadata": {
      "needs_background": "light"
     },
     "output_type": "display_data"
    }
   ],
   "source": [
    "import gzip, numpy as np, matplotlib.pyplot as plt\n",
    "\n",
    "path = \"C:/Users/d09am/Desktop/Courses/representation/\"\n",
    "side = 28\n",
    "\n",
    "def training_images(size=None):\n",
    "    with gzip.open(path+'/train-images-idx3-ubyte.gz', 'r') as f:\n",
    "        # first 4 bytes is a magic number\n",
    "        magic_number = int.from_bytes(f.read(4), 'big')\n",
    "        # second 4 bytes is the number of images\n",
    "        image_count = int.from_bytes(f.read(4), 'big')\n",
    "        # third 4 bytes is the row count\n",
    "        row_count = int.from_bytes(f.read(4), 'big')\n",
    "        # fourth 4 bytes is the column count\n",
    "        column_count = int.from_bytes(f.read(4), 'big')\n",
    "        # rest is the image pixel data, each pixel is stored as an unsigned byte\n",
    "        # pixel values are 0 to 255\n",
    "        image_data = f.read()\n",
    "        images = np.frombuffer(image_data, dtype=np.uint8)\\\n",
    "            .reshape((image_count, row_count, column_count))\n",
    "        if size: images = images[:size,]\n",
    "        return images\n",
    "\n",
    "\n",
    "def training_labels(size=None):\n",
    "    with gzip.open(path+'/train-labels-idx1-ubyte.gz', 'r') as f:\n",
    "        # first 4 bytes is a magic number\n",
    "        magic_number = int.from_bytes(f.read(4), 'big')\n",
    "        # second 4 bytes is the number of labels\n",
    "        label_count = int.from_bytes(f.read(4), 'big')\n",
    "        # rest is the label data, each label is stored as unsigned byte\n",
    "        # label values are 0 to 9\n",
    "        label_data = f.read()\n",
    "        labels = np.frombuffer(label_data, dtype=np.uint8)\n",
    "        if size: labels = labels[:size,]\n",
    "        return labels\n",
    "\n",
    "def linear(X):\n",
    "    x = X.reshape(-1, side*side)\n",
    "    return x\n",
    "\n",
    "def matrix(X):\n",
    "    x = X.reshape(-1, side, side)\n",
    "    return x\n",
    "\n",
    "def normalize(X, val=255):\n",
    "    X = np.float64(X)\n",
    "    mu = X.mean()\n",
    "    var = X.var()\n",
    "    X = (X-mu)/var\n",
    "    return X\n",
    "\n",
    "def combine(X, Y, shuffle=True, size=None):\n",
    "    Y = Y.reshape(Y.shape[0], 1)\n",
    "    train_data = np.concatenate((X, Y), axis=1)\n",
    "    if shuffle: np.random.shuffle(train_data)\n",
    "    x, y = train_data[:,:-1], train_data[:,-1:]\n",
    "    y_ = np.zeros((y.shape[0], 10))\n",
    "    for i in range(y.shape[0]): y_[i][int(y[i][0])] = 1\n",
    "    return x, y_\n",
    "\n",
    "# size=int(2e2)\n",
    "size = 2\n",
    "images = training_images(size)\n",
    "labels = training_labels(size)\n",
    "images = linear(images)\n",
    "plt.subplot('211')\n",
    "plt.imshow(images[0].reshape(side, side))\n",
    "images = normalize(images)\n",
    "plt.subplot('212')\n",
    "plt.imshow(images[0].reshape(side, side))\n",
    "train_x, train_y = combine(images, labels)"
   ]
  },
  {
   "cell_type": "code",
   "execution_count": 48,
   "metadata": {},
   "outputs": [
    {
     "name": "stdout",
     "output_type": "stream",
     "text": [
      "NOTE: Please try to give input as numpy array with defined shape eg: (2,1) and try to avoid shape like (2,)\n",
      "epoch: 6000, cost: 0.308683916438645, 10% complete...\n",
      "epoch: 12000, cost: 0.2288145622322053, 20% complete...\n",
      "epoch: 18000, cost: 0.18417108246572308, 30% complete...\n",
      "epoch: 24000, cost: 0.1549893491812076, 40% complete...\n",
      "epoch: 30000, cost: 0.13474459344615428, 50% complete...\n",
      "epoch: 36000, cost: 0.12024951599017215, 60% complete...\n",
      "epoch: 42000, cost: 0.10963521702922832, 70% complete...\n",
      "epoch: 48000, cost: 0.10170659997881162, 80% complete...\n",
      "epoch: 54000, cost: 0.09566718775235247, 90% complete...\n",
      "epoch: 60000, cost: 0.0909747689233193, 100% complete...\n"
     ]
    }
   ],
   "source": [
    "side = 28\n",
    "hidden_layers = 2\n",
    "hidden_layer_size = [15, 11]\n",
    "input_size = side*side\n",
    "output_size = 10\n",
    "activation = 'relu'\n",
    "net = NN(\n",
    "    input_size=input_size, output_size=output_size, \n",
    "    no_of_hid=hidden_layers, size_of_hiddens=hidden_layer_size,\n",
    "    active=activation)\n",
    "net.train(train_x, train_y, epochs=60000, rate=0.000001)"
   ]
  },
  {
   "cell_type": "code",
   "execution_count": 47,
   "metadata": {},
   "outputs": [
    {
     "name": "stdout",
     "output_type": "stream",
     "text": [
      "{'out': array([[7.29272797e-02],\n",
      "       [6.72903271e-05],\n",
      "       [6.92466663e-08],\n",
      "       [1.85165391e-07],\n",
      "       [7.65185251e-01],\n",
      "       [2.64457770e-02],\n",
      "       [1.21876962e-01],\n",
      "       [8.20594294e-03],\n",
      "       [2.28069748e-05],\n",
      "       [5.26843487e-03]]), 'pos': 4, 'var': 0.0506475329092511, 'symbol': 4} 5\n",
      "{'out': array([[4.17194047e-02],\n",
      "       [2.73376666e-06],\n",
      "       [4.95715948e-10],\n",
      "       [1.64609778e-09],\n",
      "       [8.66700405e-01],\n",
      "       [1.02330675e-02],\n",
      "       [7.83399015e-02],\n",
      "       [2.00677204e-03],\n",
      "       [7.91074401e-07],\n",
      "       [9.96921883e-04]]), 'pos': 4, 'var': 0.06591569782796416, 'symbol': 4} 0\n"
     ]
    }
   ],
   "source": [
    "for i in range(min(10, size)):\n",
    "    result = net.predict(train_x[i], symbols=[0,1,2,3,4,5,6,7,8,9])\n",
    "#     print(result['symbol'], np.argmax(train_y[i]))\n",
    "    print(result, np.argmax(train_y[i]))"
   ]
  },
  {
   "cell_type": "code",
   "execution_count": 510,
   "metadata": {},
   "outputs": [
    {
     "name": "stdout",
     "output_type": "stream",
     "text": [
      "0.1\n"
     ]
    }
   ],
   "source": [
    "a = np.zeros((10))\n",
    "b = np.zeros((10))\n",
    "a[3] = 1\n",
    "b[2] = 1\n",
    "print(sum(0.5*np.square(a-b)/10))"
   ]
  },
  {
   "cell_type": "code",
   "execution_count": 8,
   "metadata": {},
   "outputs": [
    {
     "data": {
      "text/plain": [
       "array([[ 1,  2,  3,  4],\n",
       "       [ 2,  4,  6,  8],\n",
       "       [ 3,  6,  9, 12],\n",
       "       [ 4,  8, 12, 16]])"
      ]
     },
     "execution_count": 8,
     "metadata": {},
     "output_type": "execute_result"
    }
   ],
   "source": [
    "import numpy as np\n",
    "a = np.array([1,2,3,4])\n",
    "np.np.outer(a, a)"
   ]
  },
  {
   "cell_type": "code",
   "execution_count": null,
   "metadata": {},
   "outputs": [],
   "source": []
  },
  {
   "cell_type": "code",
   "execution_count": null,
   "metadata": {},
   "outputs": [],
   "source": []
  }
 ],
 "metadata": {
  "kernelspec": {
   "display_name": "Python 3",
   "language": "python",
   "name": "python3"
  },
  "language_info": {
   "codemirror_mode": {
    "name": "ipython",
    "version": 3
   },
   "file_extension": ".py",
   "mimetype": "text/x-python",
   "name": "python",
   "nbconvert_exporter": "python",
   "pygments_lexer": "ipython3",
   "version": "3.8.6"
  }
 },
 "nbformat": 4,
 "nbformat_minor": 4
}
