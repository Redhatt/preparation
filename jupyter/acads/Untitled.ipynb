{
 "cells": [
  {
   "cell_type": "code",
   "execution_count": 18,
   "id": "talented-symbol",
   "metadata": {},
   "outputs": [],
   "source": [
    "import numpy as np\n",
    "import matplotlib.pyplot as plt\n",
    "\n",
    "def get(n):\n",
    "    if n == 2:\n",
    "        return np.array([[1, 0], [1, 1]])\n",
    "    H = get(n//2)\n",
    "    v = np.hstack([H, np.zeros((n//2, n//2))])\n",
    "    e = np.hstack([H, H])\n",
    "    return np.vstack([v, e])\n",
    "\n",
    "def RM(n=32, k=16):\n",
    "    G = get(n)\n",
    "    G = np.asarray(sorted(G, key=lambda x: sum(x), reverse=True), dtype=np.int32)[:k, :]\n",
    "    return G\n",
    "\n",
    "def MDS(n=32, k=16):\n",
    "    row = np.arange(1, n+1)\n",
    "    G = np.zeros((k, n))\n",
    "    for i in range(k):\n",
    "        for j in range(n):\n",
    "            G[i][j] = row[j]**i\n",
    "    return G\n",
    "\n",
    "def get_mes(k=16):\n",
    "    p = 0.5\n",
    "    n = 4\n",
    "    m = np.random.binomial(n, p, k)\n",
    "    return m\n",
    "\n",
    "def get_Aset(M, k=16):\n",
    "    A_set = [0 for i in range(k)]\n",
    "    r, c = M.shape\n",
    "    for i in range(k):\n",
    "        A_set[i] = M[i*(r//k): (i+1)*r//k, :]\n",
    "    return A_set\n",
    "\n",
    "def get_code(A_set, G):\n",
    "    k, n = G.shape\n",
    "    row, col = A_set[0].shape\n",
    "    A_set_ = [np.zeros(A_set[0].shape) for _ in range(n)]\n",
    "    for r in range(row):\n",
    "        for c in range(col):\n",
    "            for i in range(n):\n",
    "                for j in range(k):\n",
    "                    A_set_[i][r][c] += A_set[j][r][c] * G[j][i]\n",
    "    return A_set_\n",
    "\n",
    "\n",
    "def workers_time(message, code):\n",
    "    pass\n",
    "    \n",
    "matrix = 10 * np.random.rand(32, 4)\n",
    "\n",
    "N =  int(1e1)\n",
    "for i in range(N):\n",
    "    message = get_mes()\n",
    "    code    = get_Aset(matrix)\n",
    "    \n",
    "     \n",
    "    \n",
    "    "
   ]
  },
  {
   "cell_type": "code",
   "execution_count": 57,
   "id": "authorized-complexity",
   "metadata": {},
   "outputs": [
    {
     "name": "stdout",
     "output_type": "stream",
     "text": [
      "-0.2740552418539841\n",
      "-0.06610296493116599\n",
      "3.0206141310684695\n"
     ]
    }
   ],
   "source": [
    "rm  = RM()\n",
    "mds = MDS()\n",
    "\n",
    "def worker(n=32, k=16):\n",
    "    time = np.random.normal(0, 1, n)\n",
    "    return time\n",
    "        \n",
    "def solve_RM(t, G):\n",
    "    k, n = G.shape\n",
    "    time, index = zip(*sorted([(t[i], i) for i in range(n)]))\n",
    "    \n",
    "    matrix = G[: , index[0]].reshape(k, 1)\n",
    "    for i in range(1, k-1):\n",
    "        matrix = np.hstack([matrix, G[: , index[i]].reshape(k,1)])\n",
    "        \n",
    "    for i in range(k-1, n):\n",
    "        matrix = np.hstack([matrix, G[: , index[i]].reshape(k,1)])\n",
    "        if np.linalg.matrix_rank(matrix) == k:\n",
    "            return time[i]\n",
    "\n",
    "    return time[-1]\n",
    "\n",
    "def solve_MDS(t, G):\n",
    "    k, n = G.shape\n",
    "    time, index = zip(*sorted([(t[i], i) for i in range(n)]))\n",
    "    return time[k-1]\n",
    "        \n",
    "\n",
    "def solve_NC(t):\n",
    "    return max(t)\n",
    "\n",
    "print(solve_RM(worker(), RM()))\n",
    "print(solve_MDS(worker(), MDS()))\n",
    "print(solve_NC(worker()))\n",
    "\n",
    "def simulation():\n",
    "    N = int(1e2)\n",
    "    time = worker()\n",
    "    print(solve_RM(worker(), RM()))\n",
    "    print(solve_MDS(worker(), MDS()))\n",
    "    print(solve_NC(worker()))\n"
   ]
  },
  {
   "cell_type": "code",
   "execution_count": 58,
   "id": "continuing-winner",
   "metadata": {},
   "outputs": [
    {
     "data": {
      "text/plain": [
       "array([0.69117738, 0.03909797, 1.22207157, 0.02705131, 0.48172852,\n",
       "       0.25517599, 1.57066791, 0.14362039, 0.56532947, 0.11827181])"
      ]
     },
     "execution_count": 58,
     "metadata": {},
     "output_type": "execute_result"
    }
   ],
   "source": [
    "np.random.exponential(1, 10)"
   ]
  },
  {
   "cell_type": "code",
   "execution_count": null,
   "id": "discrete-header",
   "metadata": {},
   "outputs": [],
   "source": []
  }
 ],
 "metadata": {
  "kernelspec": {
   "display_name": "Python 3",
   "language": "python",
   "name": "python3"
  },
  "language_info": {
   "codemirror_mode": {
    "name": "ipython",
    "version": 3
   },
   "file_extension": ".py",
   "mimetype": "text/x-python",
   "name": "python",
   "nbconvert_exporter": "python",
   "pygments_lexer": "ipython3",
   "version": "3.8.6"
  }
 },
 "nbformat": 4,
 "nbformat_minor": 5
}
