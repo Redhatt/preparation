{
 "cells": [
  {
   "cell_type": "code",
   "execution_count": null,
   "metadata": {},
   "outputs": [
    {
     "name": "stdout",
     "output_type": "stream",
     "text": [
      "Connection from ('127.0.0.1', 51738)  has been setup\n",
      "{\"lat_long\": [[28.804100000000002, 77.2025], \"DELHI\"]}\n",
      "Connection from ('127.0.0.1', 51739)  has been setup\n",
      "{\"lat_long\": [[28.804100000000002, 77.2025], \"DELHI\"]}\n",
      "Connection from ('127.0.0.1', 51745)  has been setup\n",
      "{\"lat_long\": [[28.804100000000002, 77.2025], \"DELHI\"]}\n",
      "Connection from ('127.0.0.1', 51747)  has been setup\n",
      "{\"lat_long\": [[28.804100000000002, 77.2025], \"DELHI\"]}\n",
      "Connection from ('127.0.0.1', 51748)  has been setup\n",
      "{\"lat_long\": [[28.804100000000002, 77.2025], \"DELHI\"]}\n",
      "Connection from ('127.0.0.1', 51750)  has been setup\n",
      "{\"lat_long\": [[28.804100000000002, 77.2025], \"DELHI\"]}\n",
      "Connection from ('127.0.0.1', 51752)  has been setup\n",
      "{\"lat_long\": [[28.804100000000002, 77.2025], \"DELHI\"]}\n",
      "Connection from ('127.0.0.1', 51754)  has been setup\n",
      "{\"lat_long\": [[28.804100000000002, 77.2025], \"DELHI\"]}\n",
      "Connection from ('127.0.0.1', 51756)  has been setup\n",
      "{\"lat_long\": [[28.804100000000002, 77.2025], \"DELHI\"]}\n",
      "Connection from ('127.0.0.1', 51758)  has been setup\n",
      "{\"lat_long\": [[28.804100000000002, 77.2025], \"DELHI\"]}\n"
     ]
    }
   ],
   "source": [
    "import socket, time\n",
    "\n",
    "s = socket.socket(socket.AF_INET, socket.SOCK_STREAM)\n",
    "s.bind((\"127.0.0.1\", 5556))\n",
    "\n",
    "s.listen(5)\n",
    "while 1:\n",
    "    c_socket, address = s.accept()\n",
    "    print(f\"Connection from {address}  has been setup\")\n",
    "    c_socket.send(bytes(\"welcome bro\", \"utf-8\"))\n",
    "    print(c_socket.recv(1024).decode(\"utf-8\"))\n",
    "    time.sleep(2)"
   ]
  },
  {
   "cell_type": "code",
   "execution_count": 1,
   "metadata": {},
   "outputs": [],
   "source": [
    "# merge sort\n",
    "\n",
    "def merge_divide(arr, low, high):\n",
    "    if low<high:\n",
    "        mid = (low+high)//2\n",
    "        print(1, mid, arr[low:high])\n",
    "        merge_divide(arr, low, mid)\n",
    "        print(2, mid+1, arr[low:high])\n",
    "        merge_divide(arr, mid+1, high)\n",
    "        print(3)\n",
    "        merge(arr, low, high, mid)\n",
    "    return\n",
    "def merge(arr, low, high, mid):\n",
    "    print(arr[low:high])\n",
    "def merge_sort(arr):\n",
    "    pass\n",
    "\n",
    "arr = [1,2,3,4,5,6,7,8,9,10,11,12]\n",
    "#merge_divide(arr, 0, 12)\n"
   ]
  },
  {
   "cell_type": "code",
   "execution_count": 2,
   "metadata": {},
   "outputs": [],
   "source": [
    "import numpy as np"
   ]
  },
  {
   "cell_type": "code",
   "execution_count": 3,
   "metadata": {},
   "outputs": [],
   "source": [
    "l = 17"
   ]
  },
  {
   "cell_type": "code",
   "execution_count": 4,
   "metadata": {},
   "outputs": [
    {
     "data": {
      "text/plain": [
       "15"
      ]
     },
     "execution_count": 4,
     "metadata": {},
     "output_type": "execute_result"
    }
   ],
   "source": [
    "pow(2,1+int(np.log2(l)))-l"
   ]
  },
  {
   "cell_type": "code",
   "execution_count": 16,
   "metadata": {},
   "outputs": [
    {
     "name": "stdout",
     "output_type": "stream",
     "text": [
      "[15. +0.j         -2.5+3.4409548j  -2.5+0.81229924j -2.5-0.81229924j\n",
      " -2.5-3.4409548j ]\n",
      "[15.        +0.j         -5.41421356-7.24264069j  3.        +2.j\n",
      " -2.58578644-1.24264069j  3.        +0.j         -2.58578644+1.24264069j\n",
      "  3.        -2.j         -5.41421356+7.24264069j]\n"
     ]
    }
   ],
   "source": [
    "arr = [1,2,3,4,5]\n",
    "arr1 = [1,2,3,4,5,0,0,0]\n",
    "print(np.fft.fft(arr))\n",
    "print(np.fft.fft(arr1))"
   ]
  },
  {
   "cell_type": "code",
   "execution_count": 14,
   "metadata": {},
   "outputs": [],
   "source": [
    "def FFT(arr, k):\n",
    "    N = len(arr)\n",
    "    if N>2:\n",
    "        arr_e = arr[::2]\n",
    "        arr_o = arr[1::2]\n",
    "        #print(arr_e, arr_o)\n",
    "        return FFT(arr_e, k) + FFT(arr_o, k)*np.exp(-1j*2*np.pi*k/N)\n",
    "    else:\n",
    "        print(arr[0], arr[1], np.exp(-1j*2*np.pi*k/N))\n",
    "        return arr[0] + arr[1]*np.exp(-1j*2*np.pi*k/N)"
   ]
  },
  {
   "cell_type": "code",
   "execution_count": null,
   "metadata": {},
   "outputs": [],
   "source": []
  },
  {
   "cell_type": "code",
   "execution_count": null,
   "metadata": {},
   "outputs": [],
   "source": []
  },
  {
   "cell_type": "code",
   "execution_count": 1,
   "metadata": {},
   "outputs": [
    {
     "ename": "ModuleNotFoundError",
     "evalue": "No module named 'win32clipboard'",
     "output_type": "error",
     "traceback": [
      "\u001b[1;31m---------------------------------------------------------------------------\u001b[0m",
      "\u001b[1;31mModuleNotFoundError\u001b[0m                       Traceback (most recent call last)",
      "\u001b[1;32m<ipython-input-1-4d9d05cfd611>\u001b[0m in \u001b[0;36m<module>\u001b[1;34m\u001b[0m\n\u001b[1;32m----> 1\u001b[1;33m \u001b[1;32mimport\u001b[0m \u001b[0mwin32clipboard\u001b[0m\u001b[1;33m\u001b[0m\u001b[1;33m\u001b[0m\u001b[0m\n\u001b[0m\u001b[0;32m      2\u001b[0m \u001b[1;33m\u001b[0m\u001b[0m\n\u001b[0;32m      3\u001b[0m \u001b[1;31m# set clipboard data\u001b[0m\u001b[1;33m\u001b[0m\u001b[1;33m\u001b[0m\u001b[1;33m\u001b[0m\u001b[0m\n\u001b[0;32m      4\u001b[0m \u001b[0mwin32clipboard\u001b[0m\u001b[1;33m.\u001b[0m\u001b[0mOpenClipboard\u001b[0m\u001b[1;33m(\u001b[0m\u001b[1;33m)\u001b[0m\u001b[1;33m\u001b[0m\u001b[1;33m\u001b[0m\u001b[0m\n\u001b[0;32m      5\u001b[0m \u001b[0mwin32clipboard\u001b[0m\u001b[1;33m.\u001b[0m\u001b[0mEmptyClipboard\u001b[0m\u001b[1;33m(\u001b[0m\u001b[1;33m)\u001b[0m\u001b[1;33m\u001b[0m\u001b[1;33m\u001b[0m\u001b[0m\n",
      "\u001b[1;31mModuleNotFoundError\u001b[0m: No module named 'win32clipboard'"
     ]
    }
   ],
   "source": [
    "import win32clipboard\n",
    "\n",
    "# set clipboard data\n",
    "win32clipboard.OpenClipboard()\n",
    "win32clipboard.EmptyClipboard()\n",
    "win32clipboard.SetClipboardText('testing 123')\n",
    "win32clipboard.CloseClipboard()\n",
    "\n",
    "# get clipboard data\n",
    "win32clipboard.OpenClipboard()\n",
    "data = win32clipboard.GetClipboardData()\n",
    "win32clipboard.CloseClipboard()\n",
    "print(data)"
   ]
  },
  {
   "cell_type": "code",
   "execution_count": 9,
   "metadata": {},
   "outputs": [
    {
     "name": "stdout",
     "output_type": "stream",
     "text": [
      "from Tkinter import Tk\n",
      "Tk().clipboard_get()\n"
     ]
    }
   ],
   "source": [
    "from tkinter import Tk\n",
    "a = Tk().clipboard_get()\n",
    "print(a)"
   ]
  },
  {
   "cell_type": "code",
   "execution_count": 7,
   "metadata": {},
   "outputs": [],
   "source": [
    "n = 4\n",
    "subset = []\n",
    "def search(k):\n",
    "    print(k)\n",
    "    if k==n:\n",
    "        pass\n",
    "    else:\n",
    "        search(k+1)\n",
    "        subset.append(k)\n",
    "        search(k+1)\n",
    "        subset.pop()"
   ]
  },
  {
   "cell_type": "code",
   "execution_count": 8,
   "metadata": {},
   "outputs": [
    {
     "name": "stdout",
     "output_type": "stream",
     "text": [
      "0\n",
      "1\n",
      "2\n",
      "3\n",
      "4\n",
      "4\n",
      "3\n",
      "4\n",
      "4\n",
      "2\n",
      "3\n",
      "4\n",
      "4\n",
      "3\n",
      "4\n",
      "4\n",
      "1\n",
      "2\n",
      "3\n",
      "4\n",
      "4\n",
      "3\n",
      "4\n",
      "4\n",
      "2\n",
      "3\n",
      "4\n",
      "4\n",
      "3\n",
      "4\n",
      "4\n"
     ]
    }
   ],
   "source": [
    "search(0)"
   ]
  },
  {
   "cell_type": "code",
   "execution_count": null,
   "metadata": {},
   "outputs": [],
   "source": []
  }
 ],
 "metadata": {
  "kernelspec": {
   "display_name": "Python 3",
   "language": "python",
   "name": "python3"
  },
  "language_info": {
   "codemirror_mode": {
    "name": "ipython",
    "version": 3
   },
   "file_extension": ".py",
   "mimetype": "text/x-python",
   "name": "python",
   "nbconvert_exporter": "python",
   "pygments_lexer": "ipython3",
   "version": "3.7.2"
  }
 },
 "nbformat": 4,
 "nbformat_minor": 4
}
