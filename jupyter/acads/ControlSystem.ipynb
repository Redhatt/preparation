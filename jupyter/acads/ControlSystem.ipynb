{
 "cells": [
  {
   "cell_type": "code",
   "execution_count": 1,
   "metadata": {},
   "outputs": [],
   "source": [
    "import matplotlib.pyplot as plt\n",
    "import numpy as np"
   ]
  },
  {
   "cell_type": "code",
   "execution_count": 2,
   "metadata": {},
   "outputs": [],
   "source": [
    "s = np.linspace(0.1, 10, 100)*1j"
   ]
  },
  {
   "cell_type": "code",
   "execution_count": 3,
   "metadata": {},
   "outputs": [],
   "source": [
    "Hs = 1/((s+0.1)*(s+1)*(s+10))"
   ]
  },
  {
   "cell_type": "code",
   "execution_count": 20,
   "metadata": {},
   "outputs": [
    {
     "data": {
      "image/png": "[encoded data removed]",
      "text/plain": [
       "<Figure size 432x288 with 2 Axes>"
      ]
     },
     "metadata": {
      "needs_background": "light"
     },
     "output_type": "display_data"
    }
   ],
   "source": [
    "plt.figure()\n",
    "plt.subplot(211)\n",
    "plt.plot(abs(s), abs(Hs))\n",
    "plt.yscale('log')\n",
    "plt.xscale('log')\n",
    "plt.grid(True)\n",
    "plt.subplot(212)\n",
    "angle = 180*np.angle(Hs)/np.pi\n",
    "plt.plot(abs(s), angle)\n",
    "#plt.yscale('log')\n",
    "plt.xscale('log')\n",
    "plt.grid(True)\n",
    "plt.show()"
   ]
  },
  {
   "cell_type": "code",
   "execution_count": 6,
   "metadata": {},
   "outputs": [],
   "source": [
    "# routh-Hurwitz\n",
    "def Routh_hurwitz(coef):\n",
    "    l = len(coef)\n",
    "    even = list(coef[0::2][:])\n",
    "    odd = list(coef[1::2][:])\n",
    "    for i in range(3):\n",
    "        if len(even) <= 3:\n",
    "            even.append(0)\n",
    "        if len(odd) <= 3:\n",
    "            odd.append(0)\n",
    "    curr = odd[:]\n",
    "    prev = even[:]\n",
    "    matrix = []\n",
    "    matrix.append(prev)\n",
    "    matrix.append(curr)\n",
    "    for i in range(l-2):\n",
    "        temp = []\n",
    "        for j in range(len(curr)-1):\n",
    "            if abs(curr[0]) <= 1e-3:\n",
    "                a = 0.01\n",
    "            else:\n",
    "                a = curr[0]\n",
    "            temp.append(-np.linalg.det(np.array([[prev[0] ,prev[j+1]],[a, curr[j+1]]]))/a)\n",
    "        matrix.append(temp)\n",
    "        prev = curr[:]\n",
    "        curr = temp[:]\n",
    "    for i in matrix:\n",
    "        print(i)\n",
    "        "
   ]
  },
  {
   "cell_type": "code",
   "execution_count": 9,
   "metadata": {},
   "outputs": [
    {
     "name": "stdout",
     "output_type": "stream",
     "text": [
      "[1, 10, 0, 0]\n",
      "[3, 1030, 0, 0]\n",
      "[-333.33333333333354, -0.0, -0.0]\n",
      "[1029.999999999999, 0.0]\n"
     ]
    }
   ],
   "source": [
    "Routh_hurwitz((1,3,10,1030))"
   ]
  },
  {
   "cell_type": "code",
   "execution_count": null,
   "metadata": {},
   "outputs": [],
   "source": []
  },
  {
   "cell_type": "code",
   "execution_count": null,
   "metadata": {},
   "outputs": [],
   "source": []
  }
 ],
 "metadata": {
  "kernelspec": {
   "display_name": "Python 3",
   "language": "python",
   "name": "python3"
  },
  "language_info": {
   "codemirror_mode": {
    "name": "ipython",
    "version": 3
   },
   "file_extension": ".py",
   "mimetype": "text/x-python",
   "name": "python",
   "nbconvert_exporter": "python",
   "pygments_lexer": "ipython3",
   "version": "3.7.2"
  }
 },
 "nbformat": 4,
 "nbformat_minor": 4
}
