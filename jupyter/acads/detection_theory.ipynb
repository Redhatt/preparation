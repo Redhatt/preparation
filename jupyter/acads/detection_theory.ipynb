{
 "cells": [
  {
   "cell_type": "code",
   "execution_count": 94,
   "id": "honest-plate",
   "metadata": {},
   "outputs": [],
   "source": [
    "import numpy as np\n",
    "import matplotlib.pyplot as plt\n",
    "from scipy import special as sp\n",
    "\n",
    "import time "
   ]
  },
  {
   "cell_type": "code",
   "execution_count": 95,
   "id": "joined-environment",
   "metadata": {},
   "outputs": [],
   "source": [
    "# utility functions\n",
    "mu1, mu2 = 3, -1\n",
    "sd1, sd2 = 1, 1\n",
    "C01 = C10 = 1\n",
    "\n",
    "def p0():\n",
    "    return np.array([np.random.normal(mu1, sd1), np.random.normal(mu2, sd2)])\n",
    "\n",
    "def p1():\n",
    "    return np.array([np.random.laplace(0, 1), np.random.laplace(0, 1)])\n",
    "\n",
    "def decision(y1, y2, pi):\n",
    "    Ly = np.exp(-((y1 - mu1)**2 + (y2 - mu2)**2)/2) / (np.pi * np.exp(-np.abs(y1) - np.abs(y2)))\n",
    "    \n",
    "    tau = pi / (1-pi) * np.ones(y1.shape)\n",
    "    \n",
    "    return np.array(Ly >= tau, dtype=np.int32)\n",
    "\n",
    "def getH(pi, n=int(1e2)):\n",
    "    return np.random.binomial(1, pi, n)\n",
    "\n",
    "Hmap = lambda x: p0() if x else p1()"
   ]
  },
  {
   "cell_type": "code",
   "execution_count": 99,
   "id": "academic-creation",
   "metadata": {},
   "outputs": [
    {
     "name": "stdout",
     "output_type": "stream",
     "text": [
      "(1000000, 2)\n",
      "(1000000, 2)\n",
      "(1000000, 2)\n",
      "(1000000, 2)\n",
      "(1000000, 2)\n",
      "(1000000, 2)\n",
      "(1000000, 2)\n",
      "(1000000, 2)\n",
      "(1000000, 2)\n"
     ]
    },
    {
     "data": {
      "image/png": "[encoded data removed]",
      "text/plain": [
       "<Figure size 432x288 with 1 Axes>"
      ]
     },
     "metadata": {
      "needs_background": "light"
     },
     "output_type": "display_data"
    },
    {
     "name": "stdout",
     "output_type": "stream",
     "text": [
      "time taken 78.35198044776917\n"
     ]
    }
   ],
   "source": [
    "def simulate():\n",
    "    sample_no = 9\n",
    "    n = int(1e6)\n",
    "    pi0 = np.linspace(0.1, 0.9, sample_no)\n",
    "    ans = np.zeros((9, ))\n",
    "        \n",
    "    for k in range(sample_no):\n",
    "        H = getH(pi0[k], n)\n",
    "        \n",
    "        bits = 1 - H\n",
    "#         Y = np.array(list(map(Hmap, H)), dtype=np.float64)\n",
    "        Y = np.array([Hmap(x) for x in H], dtype=np.float64)\n",
    "        \n",
    "        print(Y.shape)\n",
    "        H_ = decision(Y[:, 0], Y[:, 1], pi0[k])\n",
    "        \n",
    "        # bits recovered\n",
    "        bits_ = 1 - H_\n",
    "        bit_error = (1 - np.sum(bits == bits_)) / n\n",
    "        \n",
    "        ans[k] = bit_error\n",
    "    plt.plot(pi0, ans)\n",
    "    plt.show()\n",
    "    \n",
    "start = time.time()\n",
    "simulate()\n",
    "print(f\"time taken {time.time() - start}\")"
   ]
  },
  {
   "cell_type": "code",
   "execution_count": null,
   "id": "simple-brisbane",
   "metadata": {},
   "outputs": [],
   "source": []
  },
  {
   "cell_type": "code",
   "execution_count": null,
   "id": "accepted-proceeding",
   "metadata": {},
   "outputs": [],
   "source": [
    "time taken 78.70907473564148"
   ]
  },
  {
   "cell_type": "code",
   "execution_count": 110,
   "id": "dense-thing",
   "metadata": {},
   "outputs": [
    {
     "name": "stdout",
     "output_type": "stream",
     "text": [
      "[0.1  0.2  0.25 0.3  0.4  0.5  0.6  0.7  0.8  0.9  1.  ]\n"
     ]
    }
   ],
   "source": [
    "a = np.linspace(0.1, 1, 10)\n",
    "a = np.sort(np.hstack((a, [0.25])))\n",
    "print(a)"
   ]
  },
  {
   "cell_type": "code",
   "execution_count": 119,
   "id": "stone-fraud",
   "metadata": {},
   "outputs": [
    {
     "name": "stdout",
     "output_type": "stream",
     "text": [
      "0.099847\n"
     ]
    }
   ],
   "source": [
    "n = int(1e6)\n",
    "print(sum(np.random.binomial(1, 0.1, n)) / n)"
   ]
  },
  {
   "cell_type": "code",
   "execution_count": null,
   "id": "classified-diana",
   "metadata": {},
   "outputs": [],
   "source": []
  },
  {
   "cell_type": "code",
   "execution_count": 120,
   "id": "altered-lancaster",
   "metadata": {},
   "outputs": [
    {
     "data": {
      "text/plain": [
       "0.09499999999999997"
      ]
     },
     "execution_count": 120,
     "metadata": {},
     "output_type": "execute_result"
    }
   ],
   "source": [
    "1 - 0.905"
   ]
  },
  {
   "cell_type": "code",
   "execution_count": null,
   "id": "continued-portrait",
   "metadata": {},
   "outputs": [],
   "source": []
  }
 ],
 "metadata": {
  "kernelspec": {
   "display_name": "Python 3",
   "language": "python",
   "name": "python3"
  },
  "language_info": {
   "codemirror_mode": {
    "name": "ipython",
    "version": 3
   },
   "file_extension": ".py",
   "mimetype": "text/x-python",
   "name": "python",
   "nbconvert_exporter": "python",
   "pygments_lexer": "ipython3",
   "version": "3.8.6"
  }
 },
 "nbformat": 4,
 "nbformat_minor": 5
}
