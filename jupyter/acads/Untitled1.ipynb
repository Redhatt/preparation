{
 "cells": [
  {
   "cell_type": "markdown",
   "id": "0c7e2282-60fc-4797-a1a6-91da8f0ce1d2",
   "metadata": {},
   "source": [
    "# Fractals?"
   ]
  },
  {
   "cell_type": "code",
   "execution_count": 32,
   "id": "1f76ae5f-0159-450b-bd2f-2220ee42ec22",
   "metadata": {},
   "outputs": [],
   "source": [
    "import numpy as np\n",
    "import matplotlib.pyplot as plt\n",
    "from itertools import *\n",
    "from collections import *\n",
    "from heapq import *\n",
    "from math import *"
   ]
  },
  {
   "cell_type": "code",
   "execution_count": 33,
   "id": "7a378c83-ec9a-4fa7-9a94-5306e7ffc89a",
   "metadata": {},
   "outputs": [],
   "source": [
    "def fx(Z):\n",
    "    return [z**2 + 1 for z in Z]"
   ]
  },
  {
   "cell_type": "code",
   "execution_count": 72,
   "id": "f9a386a1-bd71-4579-a54f-333a29c8edcb",
   "metadata": {},
   "outputs": [
    {
     "data": {
      "image/png": "[encoded data removed]",
      "text/plain": [
       "<Figure size 432x288 with 1 Axes>"
      ]
     },
     "metadata": {
      "needs_background": "light"
     },
     "output_type": "display_data"
    }
   ],
   "source": [
    "# plane\n",
    "def getPlane(xl=-10, xh=10, xs=101, yl=-10, yh=10, ys=101):\n",
    "    z_plane = [complex(x, y) for x, y in product(np.linspace(xl, xh, xs), np.linspace(yl, yh, ys))]\n",
    "    return z_plane\n",
    "\n",
    "def getLine(a, b, tl=-10, th=10, ts=101):\n",
    "    return [a + (b-a)*t for t in np.linspace(tl, th, ts)]\n",
    "\n",
    "def gc(Z):\n",
    "    x, y = zip(*((z.real, z.imag) for z in Z))\n",
    "    return x, y\n",
    "\n",
    "def iterator(f, z):\n",
    "    a = [z]\n",
    "    for _ in range(10): a.append(f[a[-1]])\n",
    "    \n",
    "\n",
    "Z = getPlane()\n",
    "lz = getLine(1+3j, 2j)\n",
    "a, b = gc(lz)\n",
    "x, y = gc(fx(lz))\n",
    "\n",
    "plt.scatter(a, b, color='red', s=0.2)\n",
    "plt.scatter(x, y, color='blue', s=0.2)\n",
    "\n",
    "# plt.plot(a, b, color='red')\n",
    "# plt.plot(x, y, color='blue')\n",
    "plt.grid()\n",
    "plt.show()"
   ]
  },
  {
   "cell_type": "code",
   "execution_count": null,
   "id": "a7348c0f-ca01-46a9-9f0a-7897fb0bdbad",
   "metadata": {},
   "outputs": [],
   "source": []
  },
  {
   "cell_type": "code",
   "execution_count": null,
   "id": "555b33e3-e25a-40a5-908d-9a5c7bd5771f",
   "metadata": {},
   "outputs": [],
   "source": []
  }
 ],
 "metadata": {
  "kernelspec": {
   "display_name": "Python 3 (ipykernel)",
   "language": "python",
   "name": "python3"
  },
  "language_info": {
   "codemirror_mode": {
    "name": "ipython",
    "version": 3
   },
   "file_extension": ".py",
   "mimetype": "text/x-python",
   "name": "python",
   "nbconvert_exporter": "python",
   "pygments_lexer": "ipython3",
   "version": "3.10.0"
  }
 },
 "nbformat": 4,
 "nbformat_minor": 5
}
