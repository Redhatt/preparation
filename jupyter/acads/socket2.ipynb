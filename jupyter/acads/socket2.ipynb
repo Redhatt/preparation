{
 "cells": [
  {
   "cell_type": "code",
   "execution_count": null,
   "metadata": {},
   "outputs": [],
   "source": [
    "import socket, json, time\n",
    "\n",
    "def sender():\n",
    "    s = socket.socket(socket.AF_INET, socket.SOCK_STREAM)\n",
    "    s.connect((\"127.0.0.1\", 5556))\n",
    "\n",
    "    msg = s.recv(1024)\n",
    "    lat_long = [[28.7041, 77.1025], \"DELHI\"]\n",
    "    lat_long[0][0]+=0.1\n",
    "    lat_long[0][1]+=0.1\n",
    "    send = {'lat_long': lat_long}\n",
    "    s.send(bytes(json.dumps(send), \"utf-8\"))\n",
    "    print(msg.decode('utf-8'))\n",
    "\n",
    "    \n",
    "for i in range(10):\n",
    "    sender()\n",
    "    time.sleep(0.1)"
   ]
  },
  {
   "cell_type": "code",
   "execution_count": 8,
   "metadata": {},
   "outputs": [
    {
     "name": "stdout",
     "output_type": "stream",
     "text": [
      "11:03:04\n",
      "5\n",
      "2019-09-07 13:59:21.336376\n",
      "2019-09-07 13:58:50.004567\n",
      "2019-04-13\n"
     ]
    }
   ],
   "source": [
    "from datetime import datetime, date, time\n",
    "\n",
    "\n",
    "t = time(11, 3, 4)\n",
    "print(t)\n",
    "today = datetime.today()\n",
    "print(today.weekday())\n",
    "print(today)\n",
    "d = date(2019, 4, 13)\n",
    "day = datetime(2019, 9, 7, 13, 58, 50, 4567)\n",
    "print(day)\n",
    "print(d)"
   ]
  },
  {
   "cell_type": "code",
   "execution_count": null,
   "metadata": {},
   "outputs": [],
   "source": []
  },
  {
   "cell_type": "code",
   "execution_count": 1,
   "metadata": {},
   "outputs": [
    {
     "ename": "AttributeError",
     "evalue": "'Figure' object has no attribute 'render'",
     "output_type": "error",
     "traceback": [
      "\u001b[1;31m---------------------------------------------------------------------------\u001b[0m",
      "\u001b[1;31mAttributeError\u001b[0m                            Traceback (most recent call last)",
      "\u001b[1;32m<ipython-input-1-43139969b84b>\u001b[0m in \u001b[0;36m<module>\u001b[1;34m\u001b[0m\n\u001b[0;32m     12\u001b[0m \u001b[0mfig\u001b[0m \u001b[1;33m=\u001b[0m \u001b[0mgmaps\u001b[0m\u001b[1;33m.\u001b[0m\u001b[0mfigure\u001b[0m\u001b[1;33m(\u001b[0m\u001b[1;33m)\u001b[0m\u001b[1;33m\u001b[0m\u001b[1;33m\u001b[0m\u001b[0m\n\u001b[0;32m     13\u001b[0m \u001b[0mfig\u001b[0m\u001b[1;33m.\u001b[0m\u001b[0madd_layer\u001b[0m\u001b[1;33m(\u001b[0m\u001b[0mgmaps\u001b[0m\u001b[1;33m.\u001b[0m\u001b[0mheatmap_layer\u001b[0m\u001b[1;33m(\u001b[0m\u001b[0mlocations\u001b[0m\u001b[1;33m,\u001b[0m \u001b[0mweights\u001b[0m\u001b[1;33m=\u001b[0m\u001b[0mweights\u001b[0m\u001b[1;33m)\u001b[0m\u001b[1;33m)\u001b[0m\u001b[1;33m\u001b[0m\u001b[1;33m\u001b[0m\u001b[0m\n\u001b[1;32m---> 14\u001b[1;33m \u001b[0mfig\u001b[0m\u001b[1;33m.\u001b[0m\u001b[0mrender\u001b[0m\u001b[1;33m(\u001b[0m\u001b[1;33m)\u001b[0m\u001b[1;33m\u001b[0m\u001b[1;33m\u001b[0m\u001b[0m\n\u001b[0m",
      "\u001b[1;31mAttributeError\u001b[0m: 'Figure' object has no attribute 'render'"
     ]
    }
   ],
   "source": [
    "import gmaps\n",
    "import gmaps.datasets\n",
    "# Use google maps api\n",
    "#gmaps.configure(api_key=api_key) # Fill in with your API key\n",
    "# Get the dataset\n",
    "earthquake_df = gmaps.datasets.load_dataset_as_df('earthquakes')\n",
    "#Get the locations from the data set\n",
    "locations = earthquake_df[['latitude', 'longitude']]\n",
    "#Get the magnitude from the data\n",
    "weights = earthquake_df['magnitude']\n",
    "#Set up your map\n",
    "fig = gmaps.figure()\n",
    "fig.add_layer(gmaps.heatmap_layer(locations, weights=weights))\n",
    "fig.render()"
   ]
  },
  {
   "cell_type": "code",
   "execution_count": 1,
   "metadata": {},
   "outputs": [
    {
     "name": "stdout",
     "output_type": "stream",
     "text": [
      "<!DOCTYPE html>\n",
      "<head>    \n",
      "    <meta http-equiv=\"content-type\" content=\"text/html; charset=UTF-8\" />\n",
      "</head>\n",
      "<body>    \n",
      "    <button id=\"myBtn\">Try it</button>\n",
      "    <p>\n",
      " TEST \n",
      "</p>\n",
      "    <script src=\"https://rawgit.com/toknowjoyman/qwebch/master/qwebchannel.js\"></script>\n",
      "</body>\n",
      "<script>    \n",
      "</script>\n"
     ]
    },
    {
     "ename": "SystemExit",
     "evalue": "0",
     "output_type": "error",
     "traceback": [
      "An exception has occurred, use %tb to see the full traceback.\n",
      "\u001b[1;31mSystemExit\u001b[0m\u001b[1;31m:\u001b[0m 0\n"
     ]
    },
    {
     "name": "stderr",
     "output_type": "stream",
     "text": [
      "C:\\Users\\danis\\AppData\\Roaming\\Python\\Python37\\site-packages\\IPython\\core\\interactiveshell.py:3275: UserWarning: To exit: use 'exit', 'quit', or Ctrl-D.\n",
      "  warn(\"To exit: use 'exit', 'quit', or Ctrl-D.\", stacklevel=1)\n"
     ]
    }
   ],
   "source": [
    "import sys\n",
    "import os\n",
    "\n",
    "import branca\n",
    "from branca.element import *\n",
    "\n",
    "import folium\n",
    "from folium import plugins\n",
    "\n",
    "from PyQt5 import QtWebEngineWidgets, QtCore, QtWidgets, QtWebChannel\n",
    "from PyQt5.QtWidgets import QMainWindow, QAction, QMenu, QApplication, QWidget, QLineEdit, QLabel, QPushButton, QGridLayout, QDockWidget\n",
    "\n",
    "\n",
    "class Example(QMainWindow):\n",
    "\n",
    "    def __init__(self):\n",
    "        super().__init__()\n",
    "\n",
    "        self.setObjectName('Main')\n",
    "        QtCore.QMetaObject.connectSlotsByName(self)\n",
    "\n",
    "        self.view = QtWebEngineWidgets.QWebEngineView()\n",
    "        self.view.setObjectName('MapWidget')\n",
    "\n",
    "        self.window  = QWidget()\n",
    "        self.window.setObjectName('MainWidget')\n",
    "        self.layout = QGridLayout()\n",
    "        self.window.setLayout(self.layout)\n",
    "        self.layout.addWidget(self.view)\n",
    "        self.setCentralWidget(self.window);\n",
    "\n",
    "        self.channel = QtWebChannel.QWebChannel(self.view.page())\n",
    "        self.view.page().setWebChannel(self.channel)\n",
    "        self.channel.registerObject(\"jshelper\", self)\n",
    "\n",
    "        self.us = folium.Map(location=[36,-108],\n",
    "                    zoom_start=5, tiles='StamenWatercolor')\n",
    "        fastestRoute = folium.PolyLine( ((40,-110), (50,-110)),\n",
    "                    weight=5,color='blue').add_to(self.us)\n",
    "        f = Figure()\n",
    "        f.html.add_child(Element('<button id=\"myBtn\">Try it</button>'))\n",
    "        f.html.add_child(Element('<p>\\n TEST \\n</p>'))\n",
    "        link = JavascriptLink('https://rawgit.com/toknowjoyman/qwebch/master/qwebchannel.js')\n",
    "        f.html.add_child(Element(link.render()))\n",
    "        print (f.render())\n",
    "        iframe = branca.element.IFrame(html=f.render(), width=500, height=300)\n",
    "        popup = folium.Popup(iframe, max_width=500)\n",
    "        fastestRoute.add_child(popup)\n",
    "        #self.us.save(\"html/test.html\")\n",
    "        #self.view.load(QtCore.QUrl().fromLocalFile(\n",
    "        #    os.path.split(os.path.abspath(__file__))[0]+r'/html/test.html'\n",
    "        #))\n",
    "        self.view.show()\n",
    "\n",
    "        self.setGeometry(100,100,1200,900)\n",
    "        self.show()\n",
    "\n",
    "    @QtCore.pyqtSlot(str)\n",
    "    def pathSelected(self, lat):\n",
    "      print(lat)\n",
    "\n",
    "if __name__ == '__main__':\n",
    "    sys.argv.append(\"--remote-debugging-port=8000\")\n",
    "    app = QApplication(sys.argv)\n",
    "    ex = Example()\n",
    "    sys.exit(app.exec_())"
   ]
  },
  {
   "cell_type": "code",
   "execution_count": null,
   "metadata": {},
   "outputs": [],
   "source": [
    "token = \"pk....\" # your mapbox token\n",
    "tileurl = 'https://api.mapbox.com/v4/mapbox.satellite/{z}/{x}/{y}@2x.png?access_token=' + str(token)\n",
    "\n",
    "m = folium.Map(\n",
    "    location=[48.73596, 11.18434], zoom_start=9, tiles=tileurl, attr='Mapbox')"
   ]
  }
 ],
 "metadata": {
  "kernelspec": {
   "display_name": "Python 3",
   "language": "python",
   "name": "python3"
  },
  "language_info": {
   "codemirror_mode": {
    "name": "ipython",
    "version": 3
   },
   "file_extension": ".py",
   "mimetype": "text/x-python",
   "name": "python",
   "nbconvert_exporter": "python",
   "pygments_lexer": "ipython3",
   "version": "3.7.2"
  }
 },
 "nbformat": 4,
 "nbformat_minor": 4
}
