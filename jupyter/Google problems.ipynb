{
 "cells": [
  {
   "cell_type": "markdown",
   "metadata": {},
   "source": [
    "[Link for below 2 questions](https://www.geeksforgeeks.org/google-internship-2020-google-online-challenge1st-coding-round/?ref=rp)   "
   ]
  },
  {
   "cell_type": "markdown",
   "metadata": {},
   "source": [
    "A Special String: You Are given a string S consisting of the lowercase Latin alphabet, a – z. Find the minimum number of characters that must be changed to make S special.  \n",
    "A string S is said to be special if and only if for all (S[i], S[j]) where (1 ≤  i ≤ N/2) and (N/2 + 1 ≤ j ≤ N) one of the following condition is true:"
   ]
  },
  {
   "cell_type": "code",
   "execution_count": 5,
   "metadata": {},
   "outputs": [
    {
     "name": "stdout",
     "output_type": "stream",
     "text": [
      "2\n",
      "[2, 3, 3]\n",
      "aab abc\n"
     ]
    }
   ],
   "source": [
    "#code\n",
    "# Atlassian \n",
    "from collections import Counter\n",
    "s = \"aababc\"\n",
    "n = len(s)\n",
    "s1 = s[:n//2]\n",
    "s2 = s[n//2:]\n",
    "m1 = max(s1)\n",
    "cnt = [0, 0, 0]\n",
    "for i in s2:\n",
    "    if i<=m1: cnt[0]+=1\n",
    "m2 = max(s2)\n",
    "for i in s1:\n",
    "    if i<=m2: cnt[1]+=1\n",
    "a = Counter(s)\n",
    "m3 = max(a.values())\n",
    "cnt[2] = n-m3\n",
    "print(min(cnt))\n",
    "print(cnt)\n",
    "print(s1, s2)"
   ]
  },
  {
   "cell_type": "markdown",
   "metadata": {},
   "source": [
    "A Special Matrix: You are given an N × N matrix A. The matrix consists of positive integers. In one move, you can apply the following single transformation to the matrix:\n",
    "\n",
    "Select an arbitrary element of the matrix and increase or decrease it by 1. Each element can be increased or decreased for any arbitrary number of times.\n",
    "\n",
    "A special number P is a non-negative integer for which the following quadratic equation has at least one negative integer root:\n",
    "\n",
    "X2 - 2 × P + x = 0  \n",
    "A matrix is called special if at least one of the following conditions is true:\n",
    "\n",
    "\n",
    "\n",
    "The matrix has a row with special numbers only.\n",
    "The matrix has a column with special numbers only.\n",
    "Your task is to count the minimum number of moves required to get special matrix A"
   ]
  },
  {
   "cell_type": "code",
   "execution_count": 7,
   "metadata": {},
   "outputs": [],
   "source": [
    "#code"
   ]
  },
  {
   "cell_type": "markdown",
   "metadata": {},
   "source": [
    "[Link for below 2 questions](https://www.geeksforgeeks.org/googles-online-challenge-for-2021-intern-india-experience/?ref=rp)"
   ]
  },
  {
   "cell_type": "markdown",
   "metadata": {},
   "source": [
    "Problem Statement: There are N words in a dictionary such that each word is of fixed length M and consists only of lowercase English letters, that is (‘a’, ‘b’, ‘c’, ………’z’).\n",
    "\n",
    "A query word is denoted by Q.  The length of a query word is M. These words contain lowercase English letters but at some places instead of a letter between ‘a’, ‘b’……’z’ there is ‘?’. Refer to the Sample Input section to understand this case.\n",
    "\n",
    "A match count of Q, denoted by match_count(Q), is the count of words that are in the dictionary and contain the same English letters(excluding a letter that can be in the position of ‘?’) in the same position as the letters are there in the query word  Q. In other words, a word in the dictionary can contain any letters at the position of ‘?’ but the remaining alphabets must match with the query word.\n",
    "\n",
    "You are given a query word Q and you have required top compute match_count."
   ]
  },
  {
   "cell_type": "code",
   "execution_count": 1,
   "metadata": {},
   "outputs": [
    {
     "name": "stdout",
     "output_type": "stream",
     "text": [
      "2\n",
      "2\n",
      "4\n",
      "2\n"
     ]
    }
   ],
   "source": [
    "#code\n",
    "# problem link\n",
    "# https://www.geeksforgeeks.org/googles-online-challenge-for-2021-intern-india-experience/?ref=rp\n",
    "class node:\n",
    "    def __init__(self, val=\"\"):\n",
    "        self.val = val\n",
    "        self.end = 0\n",
    "        self.d = dict()\n",
    "\n",
    "def fill(root, w):\n",
    "    if w == \"\": root.end = 1\n",
    "    else:\n",
    "        if w[0] not in root.d: root.d[w[0]] = node(w[0])\n",
    "        fill(root.d[w[0]], w[1:])\n",
    "\n",
    "lis = ['cat','map', 'bat','man','pen']\n",
    "n = len(lis)\n",
    "root = node()\n",
    "for i in lis: fill(root, i)\n",
    "\n",
    "def find(root, w):\n",
    "    if w ==\"\": return 1\n",
    "    if w[0] == \"?\":\n",
    "        ans = 0\n",
    "        for i in root.d.values(): ans += find(i, w[1:])\n",
    "        return ans\n",
    "    elif w[0] not in root.d: return 0\n",
    "    return find(root.d[w[0]], w[1:])\n",
    "q = [\"?at\",\"ma?\",\"?a?\",\"??n\"]\n",
    "for a in q: print(find(root, a))"
   ]
  },
  {
   "cell_type": "markdown",
   "metadata": {},
   "source": [
    " given an array with a single element i.e 0 and after that, we have some queries which are of 2 types :\n",
    "\n",
    "Type 1: Insert the given element into the array  \n",
    "Type 2: XOR all the elements present in the array with the given element.  \n",
    "Output format: Print the final array after all the given queries in sorted order."
   ]
  },
  {
   "cell_type": "code",
   "execution_count": 10,
   "metadata": {},
   "outputs": [],
   "source": [
    "#code\n",
    "# i think code is worng but idea is correct.\n",
    "#  idea is to store index and xor value, since every xor element will be xored eventually so keep xoring them as u get and store it with\n",
    "# corresponding index. now first set before first xor will be xored with all next set will be xored with all except first set xor.\n",
    "lis = []\n",
    "store1, store2 = [], []\n",
    "e = 0\n",
    "for i in range(int(input())):\n",
    "    a, b = map(int, input().split())\n",
    "    if a == 1: lis.append(b)\n",
    "    else:\n",
    "        e = e^b\n",
    "        store1.append(e)\n",
    "        store2.append(len(lis))\n",
    "store1.reverse()\n",
    "print(lis)\n",
    "prev = 0\n",
    "for i in range(len(store1)):\n",
    "    b, a = store1[i], store2[i]\n",
    "    for i in range(prev, a): \n",
    "        if i<len(lis): \n",
    "            print(lis[i], b)\n",
    "            lis[i] = lis[i]^b\n",
    "    prev = a\n",
    "print(lis)\n",
    "print(store1, store2)\n"
   ]
  },
  {
   "cell_type": "markdown",
   "metadata": {},
   "source": [
    "[Link for below 2 questions](https://www.geeksforgeeks.org/gocc14-google-online-coding-challenge-2020-new-grad-india/?ref=rp)"
   ]
  },
  {
   "cell_type": "markdown",
   "metadata": {},
   "source": [
    "First Question: You are given a string S ( having lowercase English letters only). In one operation, you can remove the substring “pr” from the string S and get amount X or you can remove the substring “rp” and get the amount Y. \n",
    "Find the maximum amount you can get if you perform zero or more such operations optimally. "
   ]
  },
  {
   "cell_type": "code",
   "execution_count": 11,
   "metadata": {},
   "outputs": [],
   "source": [
    "#code"
   ]
  },
  {
   "cell_type": "markdown",
   "metadata": {},
   "source": [
    "Second Question: Given an array A of N integers and another array B of M integers (not necessarily distinct). The task is to find the minimum number of elements to be added in B so that A becomes subsequence of B. Note that you can add elements at any position in B. "
   ]
  },
  {
   "cell_type": "code",
   "execution_count": 12,
   "metadata": {},
   "outputs": [],
   "source": [
    "#code"
   ]
  },
  {
   "cell_type": "markdown",
   "metadata": {},
   "source": [
    "[GFG 1](https://www.geeksforgeeks.org/gocc14-googles-online-coding-challenge-new-grad-india/?ref=rp)  \n",
    "[GFG 2](https://www.geeksforgeeks.org/gocc15-google-swe-online-coding-challenge-internship-2021/?ref=rp)  \n",
    "[GFG 3](https://www.geeksforgeeks.org/google-online-challenge-2020/?ref=rp)  \n",
    "[GFG 4](https://www.geeksforgeeks.org/google-interview-experience-on-campus-2020/?ref=rp)  \n",
    "[CF 1](https://codeforces.com/blog/entry/70126)  \n",
    "[CF 2](https://codeforces.com/blog/entry/71356)  \n",
    "[LC 1](https://leetcode.com/discuss/interview-question/352460/Google-Online-Assessment-Questions/)  "
   ]
  },
  {
   "cell_type": "code",
   "execution_count": 24,
   "metadata": {},
   "outputs": [
    {
     "name": "stdout",
     "output_type": "stream",
     "text": [
      "4\n",
      "25\n",
      "20\n",
      "6\n",
      "27\n",
      "11\n"
     ]
    }
   ],
   "source": [
    "from bisect import *\n",
    "from math import log2\n",
    "n = 7\n",
    "lis = [3, 7, 19, 18, 7, 12, 17]\n",
    "bit = [0]*n\n",
    "q = 7\n",
    "qu = [[3, 8],[21, 20],[24, 17],[1, 7],[23, 17],[12, 9]]\n",
    "lis.sort()\n",
    "for i in qu:\n",
    "    x, m = i\n",
    "    p = x\n",
    "    index = bisect_right(lis, m)\n",
    "    index2 = bisect_right(lis, p)\n",
    "    ans = 0\n",
    "    while index2 >= index:\n",
    "        p = p^(1<<int(log2(p)))\n",
    "        index2 = bisect_right(lis, p)\n",
    "    for i in range(index2, index):\n",
    "        ans = max(ans, x^lis[i])\n",
    "    print(ans)"
   ]
  },
  {
   "cell_type": "code",
   "execution_count": 23,
   "metadata": {},
   "outputs": [
    {
     "name": "stdout",
     "output_type": "stream",
     "text": [
      "4\n",
      "25\n",
      "31\n",
      "6\n",
      "27\n",
      "15\n"
     ]
    }
   ],
   "source": [
    "for i in qu:\n",
    "    x, m = i\n",
    "    index = bisect_right(lis, m)\n",
    "    ans = 0\n",
    "    for i in range(index):\n",
    "        ans = max(ans, x^lis[i])\n",
    "    print(ans)"
   ]
  },
  {
   "cell_type": "code",
   "execution_count": null,
   "metadata": {},
   "outputs": [],
   "source": []
  }
 ],
 "metadata": {
  "kernelspec": {
   "display_name": "Python 3 (ipykernel)",
   "language": "python",
   "name": "python3"
  },
  "language_info": {
   "codemirror_mode": {
    "name": "ipython",
    "version": 3
   },
   "file_extension": ".py",
   "mimetype": "text/x-python",
   "name": "python",
   "nbconvert_exporter": "python",
   "pygments_lexer": "ipython3",
   "version": "3.10.0"
  }
 },
 "nbformat": 4,
 "nbformat_minor": 4
}
