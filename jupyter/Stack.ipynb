{
 "cells": [
  {
   "cell_type": "markdown",
   "id": "55022cf7-6234-417e-badc-7be80f8f705f",
   "metadata": {},
   "source": [
    "# Infix, Postfix, Prefix conversions and evaluations"
   ]
  },
  {
   "cell_type": "markdown",
   "id": "5cdfbeac-c4f7-431e-8052-73604b74299a",
   "metadata": {},
   "source": [
    "## Infix to Postfix\n",
    "\n",
    "for infix to prefix, use postfix to prefix as second step."
   ]
  },
  {
   "cell_type": "code",
   "execution_count": 1,
   "id": "fa2188da-06af-459e-80e2-1ec21c3cbef1",
   "metadata": {},
   "outputs": [
    {
     "name": "stdout",
     "output_type": "stream",
     "text": [
      "a+b*(c^d-e)^(f+g*h)-i\n",
      "+ []\n",
      "* ['+']\n",
      "^ ['+', '*', '(']\n",
      "- ['+', '*', '(', '^']\n",
      "^ ['+', '*']\n",
      "+ ['+', '*', '^', '(']\n",
      "* ['+', '*', '^', '(', '+']\n",
      "- ['+', '*', '^']\n",
      "abcd^e-fgh*+^*+i-\n"
     ]
    }
   ],
   "source": [
    "exp = \"a+b*(c^d-e)^(f+g*h)-i\"\n",
    "\n",
    "def solve(exp):\n",
    "    ans = []\n",
    "    stack = []\n",
    "    \n",
    "    # operator and brackets stays in stack while aperands stay inside ans list.\n",
    "    \n",
    "    # operator precendence order\n",
    "    op = {'+': 1, '-': 1, '*': 2, '/': 2, '^': 3}\n",
    "    \n",
    "    for i in exp:\n",
    "        \n",
    "        # if a char is an operator it must be strictly greater in precesdence than others inside stack.\n",
    "        # no operator can pop '('.\n",
    "        # every popped operator is pushed into ans lis t.\n",
    "        if i in op.keys():\n",
    "            print(i, stack)\n",
    "            while stack and stack[-1] != '(' and op[stack[-1]] >= op[i]:\n",
    "                ans.append(stack.pop())\n",
    "            stack.append(i)\n",
    "            \n",
    "        elif i == '(':\n",
    "            stack.append(i)\n",
    "            \n",
    "        # append all operators into ans list until an '(' is encountered\n",
    "        elif i == ')':\n",
    "            while stack and stack[-1] != '(':\n",
    "                ans.append(stack.pop())\n",
    "            if stack and stack[-1] == '(': stack.pop()\n",
    "                \n",
    "        else:\n",
    "            ans.append(i)\n",
    "    \n",
    "    # append all left operators into ans list\n",
    "    while stack: ans.append(stack.pop())\n",
    "    return \"\".join(ans)\n",
    "\n",
    "print(exp)\n",
    "print(solve(exp))"
   ]
  },
  {
   "cell_type": "markdown",
   "id": "d038d318-390c-4bb1-9eeb-827a1e034c61",
   "metadata": {},
   "source": [
    "## Prefix to Infix"
   ]
  },
  {
   "cell_type": "code",
   "execution_count": 2,
   "id": "5a906f03-c597-46e3-92c0-f9d27305b014",
   "metadata": {},
   "outputs": [
    {
     "name": "stdout",
     "output_type": "stream",
     "text": [
      "((A-(B/C))*((A/K)-L))\n"
     ]
    }
   ],
   "source": [
    "exp = \"*-A/BC-/AKL\"\n",
    "\n",
    "def solve(exp):\n",
    "    stack = []\n",
    "    op = {'+': 1, '-': 1, '*': 2, '/': 2, '^': 3}\n",
    "    for i in reversed(exp):\n",
    "        if i in op.keys():\n",
    "            a = stack.pop()\n",
    "            b = stack.pop()\n",
    "            c = '(' + a + i + b + ')'\n",
    "            stack.append(c)\n",
    "        else:\n",
    "            stack.append(i)\n",
    "        \n",
    "    return stack.pop()\n",
    "\n",
    "print(solve(exp))"
   ]
  },
  {
   "cell_type": "markdown",
   "id": "ff0471a6-a4fb-466a-819e-4e3b62007ef8",
   "metadata": {},
   "source": [
    "## Prefix to Postfix"
   ]
  },
  {
   "cell_type": "code",
   "execution_count": 3,
   "id": "54903bf6-01a3-4004-95b1-a32fae071769",
   "metadata": {},
   "outputs": [
    {
     "name": "stdout",
     "output_type": "stream",
     "text": [
      "ABC/-AK/L-*\n"
     ]
    }
   ],
   "source": [
    "exp = \"*-A/BC-/AKL\"\n",
    "\n",
    "def solve(exp):\n",
    "    stack = []\n",
    "    op = {'+': 1, '-': 1, '*': 2, '/': 2, '^': 3}\n",
    "    for i in reversed(exp):\n",
    "        if i in op.keys():\n",
    "            a = stack.pop()\n",
    "            b = stack.pop()\n",
    "            c = a + b + i\n",
    "            stack.append(c)\n",
    "        else:\n",
    "            stack.append(i)\n",
    "    \n",
    "    return stack.pop()\n",
    "\n",
    "print(solve(exp))"
   ]
  },
  {
   "cell_type": "markdown",
   "id": "9d0c597b-57a3-46e0-90cc-274a6da40fca",
   "metadata": {},
   "source": [
    "### calculator"
   ]
  },
  {
   "cell_type": "markdown",
   "id": "d627426b-1778-4bfa-8fe7-d252ee831e00",
   "metadata": {},
   "source": [
    "# Parenthesis Problems"
   ]
  },
  {
   "cell_type": "markdown",
   "id": "87f23bbe-d7ad-4d5b-96ee-fb783a627a4f",
   "metadata": {},
   "source": [
    "## balance parenthesis\n",
    "Given an expression string x. Examine whether the pairs and the orders of “{“,”}”,”(“,”)”,”\\[“,”\\]” are correct in exp.\n",
    "For example, the function should return 'true' for exp = “\\[()\\]{}{\\[()()\\]()}” and 'false' for exp = “\\[(\\])”."
   ]
  },
  {
   "cell_type": "code",
   "execution_count": 4,
   "id": "3d372dbd-1210-4d05-a4de-762969fb0221",
   "metadata": {},
   "outputs": [
    {
     "name": "stdout",
     "output_type": "stream",
     "text": [
      "True\n"
     ]
    }
   ],
   "source": [
    "def solve(x):\n",
    "        stack = []\n",
    "        d = {'(': ')', '{': '}', '[': ']'}\n",
    "        for i in x:\n",
    "            if i in \")}]\":\n",
    "                # if encountered a closing bracket then\n",
    "                # condition 1:\n",
    "                #   whenever there is a closing bracket it must match its opening one.\n",
    "                # condition 2:\n",
    "                #   stack should not be empty\n",
    "                if not stack: return False\n",
    "                if d[stack[-1]] != i: return False\n",
    "                stack.pop()\n",
    "            else: stack.append(i)\n",
    "        \n",
    "        # stack must be empty in the end\n",
    "        if stack: return False\n",
    "        return True\n",
    "    \n",
    "exp = \"{([])}\"\n",
    "exp = \"()()\"\n",
    "print(solve(exp))"
   ]
  },
  {
   "cell_type": "markdown",
   "id": "788d0eca-f7a1-4c11-afa8-c0130bad64f7",
   "metadata": {},
   "source": [
    "## All valid parenthesis"
   ]
  },
  {
   "cell_type": "code",
   "execution_count": 5,
   "id": "a68220c6-d0d7-483e-974d-f0b51f97e175",
   "metadata": {},
   "outputs": [
    {
     "name": "stdout",
     "output_type": "stream",
     "text": [
      "['((()))', '(()())', '(())()', '()(())', '()()()']\n"
     ]
    }
   ],
   "source": [
    "def AllParenthesis(n):\n",
    "    def solve(n, o=0, c=0, ans=''):\n",
    "        if o == c and o + c == 2*n: total.append(ans)\n",
    "        if c > o: return \n",
    "        if o > n: return\n",
    "        if o+c > 2*n: return \n",
    "        \n",
    "        solve(n, o+1, c, ans + '(')\n",
    "        solve(n, o, c+1, ans + ')')\n",
    "    total = []\n",
    "    solve(n)\n",
    "    return total\n",
    "print(AllParenthesis(3))"
   ]
  },
  {
   "cell_type": "markdown",
   "id": "3d725686-33cd-4654-80be-5d20b384496d",
   "metadata": {},
   "source": [
    "## maximum depth parenthesis"
   ]
  },
  {
   "cell_type": "code",
   "execution_count": 6,
   "id": "41443362-9b4b-486f-a273-e425fe6a5adf",
   "metadata": {},
   "outputs": [
    {
     "name": "stdout",
     "output_type": "stream",
     "text": [
      "4\n"
     ]
    }
   ],
   "source": [
    "def solve(s):\n",
    "    count = ans = 0\n",
    "    for i in s:\n",
    "        if i == '(': count += 1\n",
    "        else: count -= 1\n",
    "        ans = max(ans, count)\n",
    "    \n",
    "    return ans\n",
    "\n",
    "s = \"((())((())))\"\n",
    "print(solve(s))"
   ]
  },
  {
   "cell_type": "markdown",
   "id": "d27cc51f-af75-4161-b2e5-88e9975a9060",
   "metadata": {},
   "source": [
    "## Longest Valid parenthesis"
   ]
  },
  {
   "cell_type": "code",
   "execution_count": 7,
   "id": "77977f81-7df3-4069-8eb9-91570691d6f0",
   "metadata": {},
   "outputs": [
    {
     "name": "stdout",
     "output_type": "stream",
     "text": [
      "10\n"
     ]
    }
   ],
   "source": [
    "# since we are tracking the index in stack therefore \n",
    "# while remove valid brackets we can dircetly check till where the valid\n",
    "# bracket is and keep track the max.\n",
    "def solve(s):\n",
    "    stack = [-1]\n",
    "    ans = 0\n",
    "    for i, val in enumerate(s):\n",
    "        if val == '(':\n",
    "            stack.append(i)\n",
    "        else:\n",
    "            stack.pop()\n",
    "            if stack:\n",
    "                ans = max(ans, i - stack[-1])\n",
    "            else:\n",
    "                stack.append(i)\n",
    "    return ans\n",
    "\n",
    "s = \"(())((())))))(\"\n",
    "print(solve(s))"
   ]
  },
  {
   "cell_type": "markdown",
   "id": "6e7c163b-8824-466f-88f9-8110c2ac6205",
   "metadata": {},
   "source": [
    "## Minimum number of bracket reversals"
   ]
  },
  {
   "cell_type": "code",
   "execution_count": 8,
   "id": "b43bb365-a206-4d22-8cdf-be2b129da6f6",
   "metadata": {},
   "outputs": [
    {
     "name": "stdout",
     "output_type": "stream",
     "text": [
      "3\n"
     ]
    }
   ],
   "source": [
    "def solve(s):\n",
    "    stack = []\n",
    "    if len(s)&1: return -1\n",
    "    for i in s:\n",
    "        # this technique will only keep invalid parenthesis\n",
    "        if i == '}' and stack and stack[-1] == '{': stack.pop()\n",
    "        else: stack.append(i)\n",
    "            \n",
    "    a = b = 0\n",
    "    for i in stack:\n",
    "        if i == '{': a += 1\n",
    "        else: b += 1\n",
    "    \n",
    "    return a//2 + b//2 + 2*(a&1) # if a is odd then so is b in that case \n",
    "                                 # the final situation will be }{ \n",
    "                                 # and here we have to filp both\n",
    "\n",
    "s = \"}{{}}{{{\"\n",
    "print(solve(s))"
   ]
  },
  {
   "cell_type": "markdown",
   "id": "1cc190ee-dd8e-4ff9-8007-ee9c499935cd",
   "metadata": {},
   "source": [
    "## Redundant Brackets\n",
    "\n",
    "The idea is to keep pushing elements into stack.  \n",
    "once you get \")\" pop until you get \"(\" and then check if exp between \"(\" and \")\" has any \n",
    "operator if yes then not redundant and so push '#' to replace (a+b)   \n",
    "and continue and if no operator in exp then break because its redundant"
   ]
  },
  {
   "cell_type": "code",
   "execution_count": 9,
   "id": "e2d0b158-1b34-40bd-81bd-dac789db8635",
   "metadata": {},
   "outputs": [
    {
     "name": "stdout",
     "output_type": "stream",
     "text": [
      "False\n",
      "True\n",
      "True\n"
     ]
    }
   ],
   "source": [
    "lis = [\"(a+b*(c-d))\", \"((c-d)*a+b/(e))\", \"((a-)b)\"]\n",
    "\n",
    "def solve(A):\n",
    "        operators = [\"*\", \"/\", \"+\", \"-\"]\n",
    "        stack = []\n",
    "        \n",
    "        def Any(e):\n",
    "            for i in operators:\n",
    "                if i in e: return True\n",
    "            return False\n",
    "\n",
    "        for i in A:\n",
    "            if i == ')':\n",
    "                e = ''\n",
    "                while stack and stack[-1] != '(': e += stack.pop()\n",
    "                if stack: stack.pop()\n",
    "                if not Any(e): return True\n",
    "                stack.append('#')\n",
    "            else:\n",
    "                stack.append(i)\n",
    "        \n",
    "        return False\n",
    "\n",
    "for i in lis:\n",
    "    print(solve(i))"
   ]
  },
  {
   "cell_type": "markdown",
   "id": "d5e44734-4a23-4afb-8d73-325f649f6e8e",
   "metadata": {},
   "source": [
    "# Binary tree searlize and deserealize"
   ]
  },
  {
   "cell_type": "markdown",
   "id": "21959175-cc9c-4d2d-9967-e26ced02bd11",
   "metadata": {},
   "source": [
    "## Construct String from Binary Tree"
   ]
  },
  {
   "cell_type": "code",
   "execution_count": 10,
   "id": "7e452fb8-4ce8-4e7a-a83e-be2de8b0a7e4",
   "metadata": {},
   "outputs": [],
   "source": [
    "def tree2str(root) -> str:\n",
    "        if root is None: return \"\"\n",
    "        if root.left is None and root.right is None: return str(root.val)\n",
    "        s = str(root.val)\n",
    "        s += '(' + tree2str(root.left) + ')'\n",
    "        if root.right:\n",
    "            s += '(' + tree2str(root.right) + ')'\n",
    "        \n",
    "        return s"
   ]
  },
  {
   "cell_type": "markdown",
   "id": "32bf42d8-669f-48bb-8cd4-838ab5eff652",
   "metadata": {},
   "source": [
    "## Construct Binary Tree from string"
   ]
  },
  {
   "cell_type": "code",
   "execution_count": 16,
   "id": "ddb1e7dd-572a-41dc-909f-6e31571300d4",
   "metadata": {},
   "outputs": [
    {
     "data": {
      "image/png": "[encoded data removed]",
      "text/plain": [
       "<PIL.Image.Image image mode=RGBA size=503x180 at 0x23E4001EAD0>"
      ]
     },
     "execution_count": 16,
     "metadata": {},
     "output_type": "execute_result"
    }
   ],
   "source": [
    "from treeVisuals import visual, DrawTree\n",
    "    \n",
    "def str2tree(s):\n",
    "    # write your code here\n",
    "    lis = parse2(s)\n",
    "    def rec(s):\n",
    "        if not s: return None\n",
    "        val, s1, s2 = parse(s)\n",
    "        root = TreeNode(val)\n",
    "        root.left = rec(s1)\n",
    "        root.right = rec(s2)\n",
    "        return root\n",
    "\n",
    "    return rec(lis)\n",
    "  \n",
    "# to seperate integers and other characters in a string.\n",
    "# lis \"-123(23(3)(-4))\" => ['-123', '(', '23', '(', '3', ')', '(', '-4', ')', ')']\n",
    "def parse2(s):\n",
    "    i = 0\n",
    "    lis = []\n",
    "    while i<len(s):\n",
    "        start = i\n",
    "        if s[i].isdigit() or s[i] == '-':\n",
    "            while s[i].isdigit() or s[i] == '-': i+=1\n",
    "            lis.append(s[start: i])\n",
    "            i-=1\n",
    "        else:\n",
    "            lis.append(s[i])\n",
    "        i+=1\n",
    "\n",
    "    return lis\n",
    "\n",
    "def parse(s):\n",
    "    a = b = 1\n",
    "    count = 0\n",
    "    flag = False\n",
    "    for i in range(len(s)):\n",
    "        if s[i] == '(': count += 1\n",
    "        elif s[i] == ')': count -= 1\n",
    "\n",
    "        if count == 1 and not flag: \n",
    "            a = i\n",
    "            flag = True\n",
    "\n",
    "        if count == 0 and flag:\n",
    "            b = i\n",
    "            break\n",
    "\n",
    "    val = int(\"\".join(s[:a]))\n",
    "    s1 = s[a+1:b]\n",
    "    s2 = s[b+2:-1]\n",
    "    return val, s1, s2\n",
    "\n",
    "s = \"-4(2(3)(1))(6(5))\"\n",
    "DrawTree(str2tree(s), (300, 300)).drawTree()"
   ]
  },
  {
   "cell_type": "markdown",
   "id": "24e4f2c2-f2c2-4fd0-b766-066e39e0dc36",
   "metadata": {},
   "source": [
    "# Next Greatest Element "
   ]
  },
  {
   "cell_type": "code",
   "execution_count": 17,
   "id": "add2b76c-2f80-4f4f-ba78-9ec11a09c8aa",
   "metadata": {},
   "outputs": [
    {
     "name": "stdout",
     "output_type": "stream",
     "text": [
      "[8, -1, 1, 3, -1]\n"
     ]
    }
   ],
   "source": [
    "def solve(arr):\n",
    "    n = len(arr)\n",
    "    stack = []\n",
    "    ans = [-1]*n\n",
    "    for i in reversed(range(n)):\n",
    "        while stack and stack[-1] <= arr[i]: stack.pop()\n",
    "        ans[i] = stack[-1] if stack else -1\n",
    "        stack.append(arr[i])\n",
    "\n",
    "    return ans\n",
    "\n",
    "arr = [6, 8, 0, 1, 3]\n",
    "print(solve(arr))"
   ]
  },
  {
   "cell_type": "markdown",
   "id": "5f51dc0f-e7bf-4dde-98d3-a45a3bd01fe7",
   "metadata": {},
   "source": [
    "## Stock span Problem\n",
    "\n",
    "Given the price of the stocks per days, return the no of days for which the price of a particular day stays maximum among all the previous days.\n",
    "\n",
    "***This is basically next greatest element from left.***"
   ]
  },
  {
   "cell_type": "code",
   "execution_count": 18,
   "id": "73338201-0208-4828-b800-581e1aacaeee",
   "metadata": {},
   "outputs": [
    {
     "name": "stdout",
     "output_type": "stream",
     "text": [
      "[1, 1, 1, 2, 1, 4, 6]\n"
     ]
    }
   ],
   "source": [
    "def solve(stocks):\n",
    "    stack = []\n",
    "    n = len(stocks)\n",
    "    ans = [1]*n\n",
    "    for i in range(n):\n",
    "        while stack and stocks[stack[-1]]<=stocks[i]: stack.pop()\n",
    "        ans[i] = (i - stack[-1]) if stack else (i+1)\n",
    "        stack.append(i)\n",
    "    return ans\n",
    "    \n",
    "stocks = [100, 80, 60, 70, 60, 75, 85]\n",
    "print(solve(stocks))"
   ]
  },
  {
   "cell_type": "markdown",
   "id": "0ee80eef-eaf9-4653-9040-e9785f5882c0",
   "metadata": {},
   "source": [
    "### Maximum Area of Histogram simple technique"
   ]
  },
  {
   "cell_type": "code",
   "execution_count": 3,
   "id": "1e79875e-687a-412d-8f5f-27a068f488b3",
   "metadata": {},
   "outputs": [
    {
     "name": "stdout",
     "output_type": "stream",
     "text": [
      "\u001b[31m \u001b[0m  \u001b[32m \u001b[0m  \u001b[33m \u001b[0m  \u001b[34m \u001b[0m  \u001b[35m \u001b[0m  \u001b[36m \u001b[0m  \n",
      "\u001b[31m \u001b[0m  \u001b[32m \u001b[0m  \u001b[33m \u001b[0m  \u001b[34m \u001b[0m  \u001b[35m \u001b[0m  \u001b[36m \u001b[0m  \n",
      "\u001b[31m \u001b[0m  \u001b[32m \u001b[0m  \u001b[33m \u001b[0m  \u001b[34m▒\u001b[0m  \u001b[35m \u001b[0m  \u001b[36m \u001b[0m  \n",
      "\u001b[31m \u001b[0m  \u001b[32m \u001b[0m  \u001b[33m▒\u001b[0m  \u001b[34m▒\u001b[0m  \u001b[35m \u001b[0m  \u001b[36m \u001b[0m  \n",
      "\u001b[31m \u001b[0m  \u001b[32m \u001b[0m  \u001b[33m▒\u001b[0m  \u001b[34m▒\u001b[0m  \u001b[35m \u001b[0m  \u001b[36m \u001b[0m  \n",
      "\u001b[31m \u001b[0m  \u001b[32m \u001b[0m  \u001b[33m▒\u001b[0m  \u001b[34m▒\u001b[0m  \u001b[35m \u001b[0m  \u001b[36m▒\u001b[0m  \n",
      "\u001b[31m▒\u001b[0m  \u001b[32m \u001b[0m  \u001b[33m▒\u001b[0m  \u001b[34m▒\u001b[0m  \u001b[35m▒\u001b[0m  \u001b[36m▒\u001b[0m  \n",
      "\u001b[31m▒\u001b[0m  \u001b[32m▒\u001b[0m  \u001b[33m▒\u001b[0m  \u001b[34m▒\u001b[0m  \u001b[35m▒\u001b[0m  \u001b[36m▒\u001b[0m  \n",
      "10\n"
     ]
    }
   ],
   "source": [
    "from arrayVisuals import render\n",
    "\n",
    "def solve(heights) -> int:\n",
    "        n = len(heights)\n",
    "        stack = []\n",
    "        left = [-1]*n\n",
    "        right = [n]*n\n",
    "        \n",
    "        for i in range(n):\n",
    "            while stack and heights[stack[-1]] >= heights[i]: stack.pop()\n",
    "            left[i] = stack[-1] if stack else -1\n",
    "            stack.append(i)\n",
    "        \n",
    "        stack = []\n",
    "        \n",
    "        for i in reversed(range(n)):\n",
    "            while stack and heights[stack[-1]] >= heights[i]: stack.pop()\n",
    "            right[i] = stack[-1] if stack else n\n",
    "            stack.append(i)\n",
    "        \n",
    "        area = 0\n",
    "        for i in range(n):\n",
    "            h = heights[i]\n",
    "            l = left[i] + 1\n",
    "            r = right[i] -1\n",
    "            area = max(area, h*(r - l + 1))\n",
    "        \n",
    "        return area\n",
    "\n",
    "heights = [2,1,5,6,2,3]\n",
    "render(heights)\n",
    "print(solve(heights))"
   ]
  },
  {
   "cell_type": "markdown",
   "id": "b99b5dc7-0ef6-4233-b3fe-4efbdc831dd4",
   "metadata": {},
   "source": [
    "### Maximum Area of Histogram, better technique\n",
    "\n",
    "The key point is that Stack is always sorted therefore, we know the range of any all elements while poping from stack.\n",
    "suppose we are popping jth element in stack, then (j-1)th element is surely the limit of jth element and since we are removing some element then that element is the other limit of jth element, therefore we know the left and right limiting ranges of jth element."
   ]
  },
  {
   "cell_type": "code",
   "execution_count": 8,
   "id": "df140204-516b-4b20-84c4-034be33352af",
   "metadata": {},
   "outputs": [
    {
     "name": "stdout",
     "output_type": "stream",
     "text": [
      "\u001b[31m \u001b[0m  \u001b[32m \u001b[0m  \u001b[33m \u001b[0m  \u001b[34m \u001b[0m  \u001b[35m \u001b[0m  \u001b[36m \u001b[0m  \n",
      "\u001b[31m \u001b[0m  \u001b[32m \u001b[0m  \u001b[33m \u001b[0m  \u001b[34m \u001b[0m  \u001b[35m \u001b[0m  \u001b[36m \u001b[0m  \n",
      "\u001b[31m \u001b[0m  \u001b[32m \u001b[0m  \u001b[33m \u001b[0m  \u001b[34m▒\u001b[0m  \u001b[35m \u001b[0m  \u001b[36m \u001b[0m  \n",
      "\u001b[31m \u001b[0m  \u001b[32m \u001b[0m  \u001b[33m▒\u001b[0m  \u001b[34m▒\u001b[0m  \u001b[35m \u001b[0m  \u001b[36m \u001b[0m  \n",
      "\u001b[31m \u001b[0m  \u001b[32m \u001b[0m  \u001b[33m▒\u001b[0m  \u001b[34m▒\u001b[0m  \u001b[35m \u001b[0m  \u001b[36m \u001b[0m  \n",
      "\u001b[31m \u001b[0m  \u001b[32m \u001b[0m  \u001b[33m▒\u001b[0m  \u001b[34m▒\u001b[0m  \u001b[35m \u001b[0m  \u001b[36m▒\u001b[0m  \n",
      "\u001b[31m▒\u001b[0m  \u001b[32m \u001b[0m  \u001b[33m▒\u001b[0m  \u001b[34m▒\u001b[0m  \u001b[35m▒\u001b[0m  \u001b[36m▒\u001b[0m  \n",
      "\u001b[31m▒\u001b[0m  \u001b[32m▒\u001b[0m  \u001b[33m▒\u001b[0m  \u001b[34m▒\u001b[0m  \u001b[35m▒\u001b[0m  \u001b[36m▒\u001b[0m  \n",
      "10\n"
     ]
    }
   ],
   "source": [
    "def solve(lis):\n",
    "    A = [0] + lis + [0]\n",
    "    ans = 0\n",
    "    stack = []\n",
    "    for i in range(len(A)):\n",
    "        while stack and A[stack[-1]] > A[i]:\n",
    "            j = stack.pop()\n",
    "            k = stack[-1]\n",
    "            ans = max(ans, A[j]*(i-k-1)) # -1 because we don't have to include i and k\n",
    "        stack.append(i)\n",
    "    return ans\n",
    "            \n",
    "heights = [2,1,5,6,2,3]\n",
    "render(heights)\n",
    "print(solve(heights))"
   ]
  },
  {
   "cell_type": "markdown",
   "id": "f72a7b7b-3241-4fe5-890c-f689ee4a66ac",
   "metadata": {},
   "source": [
    "## Towers Without a Valley\n",
    "\n",
    "Choose and element, get answer for left and right if it, if it were the maximum value, do this for all elements.  \n",
    "stack will help to get answer in O(N)"
   ]
  },
  {
   "cell_type": "code",
   "execution_count": 50,
   "id": "6de14a11-a9fb-4115-9c1f-a615537891bc",
   "metadata": {},
   "outputs": [
    {
     "name": "stdout",
     "output_type": "stream",
     "text": [
      "22\n"
     ]
    }
   ],
   "source": [
    "def solve(nums):\n",
    "\n",
    "    def fun(lis):\n",
    "        left = [0]*len(lis)\n",
    "        stack = []\n",
    "        for i in range(len(lis)):\n",
    "            while stack and lis[stack[-1]] > lis[i]: stack.pop()\n",
    "            if stack: left[i] = left[stack[-1]] + (i - stack[-1])*lis[i]\n",
    "            else: left[i] = (i+1)*lis[i]\n",
    "            stack.append(i)\n",
    "        return left\n",
    "\n",
    "    a, b = fun(nums), fun(nums[::-1]) # left, right\n",
    "    return max(l + r -x for l, r, x in zip(a, b[::-1], nums))\n",
    "\n",
    "nums = [10, 6, 8]\n",
    "print(solve(nums))"
   ]
  },
  {
   "cell_type": "markdown",
   "id": "83105e86-dde9-4897-90b0-ef82b1a3b4bf",
   "metadata": {},
   "source": [
    "## Maximum Subarray Min-Product\n",
    "The min-product of an array is equal to the minimum value in the array multiplied by the array's sum."
   ]
  },
  {
   "cell_type": "code",
   "execution_count": 19,
   "id": "a02eeff1-3ebe-481a-a4cf-16b43015e2d8",
   "metadata": {},
   "outputs": [
    {
     "name": "stdout",
     "output_type": "stream",
     "text": [
      "14\n"
     ]
    }
   ],
   "source": [
    "def maxSumMinProduct(nums) -> int:\n",
    "    A = [0] + nums + [0]\n",
    "    ps = [0]\n",
    "    for i in A: ps.append(ps[-1] + i)\n",
    "    ans = 0\n",
    "    stack = []\n",
    "    for i in range(len(A)):\n",
    "        while stack and A[stack[-1]] > A[i]:\n",
    "            j = stack.pop()\n",
    "            k = stack[-1]\n",
    "            ans = max(ans, A[j] * (ps[i] - ps[k+1]))\n",
    "        stack.append(i)\n",
    "    return ans % (int(1e9)+7)\n",
    "\n",
    "lis = [1, 2, 3, 2]\n",
    "print(maxSumMinProduct(lis))"
   ]
  },
  {
   "cell_type": "markdown",
   "id": "949336dd-74e2-4b8a-b82b-1ba7849444d4",
   "metadata": {},
   "source": [
    "## Sum of Subarray Ranges\n",
    "\n",
    "You are given an integer array nums. The range of a subarray of nums is the difference between the largest and smallest element in the subarray.\n",
    "\n",
    "Return the sum of all subarray ranges of nums."
   ]
  },
  {
   "cell_type": "code",
   "execution_count": 52,
   "id": "6f9afcef-ef98-41f5-9125-bb4b02319579",
   "metadata": {},
   "outputs": [
    {
     "name": "stdout",
     "output_type": "stream",
     "text": [
      "[1, 2, 3]\n",
      "4\n"
     ]
    }
   ],
   "source": [
    "def subArrayRanges(nums) -> int:\n",
    "    ans, inf = 0, 1e10\n",
    "    stack = []\n",
    "    A = [-inf] + nums + [-inf]\n",
    "\n",
    "    for i in range(len(A)):\n",
    "        while stack and A[stack[-1]] > A[i]:\n",
    "            j = stack.pop()\n",
    "            k = stack[-1]\n",
    "            ans -= A[j]*(j-k)*(i-j) # get the high and lower range where A[j] is minimum\n",
    "        stack.append(i)\n",
    "\n",
    "    stack = []\n",
    "    A = [inf] + nums + [inf]\n",
    "    for i in range(len(A)):\n",
    "        while stack and A[stack[-1]] < A[i]:\n",
    "            j = stack.pop()\n",
    "            k = stack[-1]\n",
    "            ans += A[j]*(j-k)*(i-j) # get the high and lower range where A[j] is maximum\n",
    "        stack.append(i)\n",
    "\n",
    "    return ans\n",
    "\n",
    "nums = [1,2,3]\n",
    "print(nums)\n",
    "print(subArrayRanges(nums))"
   ]
  },
  {
   "cell_type": "markdown",
   "id": "e693250b-42e3-4008-8f1b-4e5e2f8aa404",
   "metadata": {},
   "source": [
    "## Remove K digit\n",
    "Given string num representing a non-negative integer num, and an integer k, return the smallest possible integer after removing k digits from num."
   ]
  },
  {
   "cell_type": "code",
   "execution_count": 21,
   "id": "29723647-35f4-4eb6-897b-4b6ac04dff5a",
   "metadata": {},
   "outputs": [
    {
     "name": "stdout",
     "output_type": "stream",
     "text": [
      "1219\n"
     ]
    }
   ],
   "source": [
    " def removeKdigits(num: str, k: int) -> str:\n",
    "        if k == 0: return num\n",
    "        stack = []\n",
    "        for i in num:\n",
    "            while stack and k>0 and int(stack[-1])>int(i): \n",
    "                stack.pop()\n",
    "                k-=1\n",
    "            stack.append(i)\n",
    "        \n",
    "        while k>0:\n",
    "            stack.pop()\n",
    "            k-=1\n",
    "        \n",
    "        return str(int(\"\".join(stack))) if stack else '0'\n",
    "    \n",
    "num = \"1432219\"\n",
    "k = 3\n",
    "\n",
    "print(removeKdigits(num, k))"
   ]
  },
  {
   "cell_type": "markdown",
   "id": "eca1b011-cad7-4ace-b811-8422c830a53a",
   "metadata": {},
   "source": [
    "### Create Maximum Number\n",
    "You are given two integer arrays nums1 and nums2 of lengths m and n respectively. nums1 and nums2 represent the digits of two numbers. You are also given an integer k.\n",
    "\n",
    "Create the maximum number of length k <= m + n from digits of the two numbers. The relative order of the digits from the same array must be preserved.\n",
    "\n",
    "Return an array of the k digits representing the answer."
   ]
  },
  {
   "cell_type": "code",
   "execution_count": 18,
   "id": "b251bd57-4fad-4f14-81a1-21a81f56af6b",
   "metadata": {},
   "outputs": [
    {
     "data": {
      "text/plain": [
       "[9, 8, 6, 5, 3]"
      ]
     },
     "execution_count": 18,
     "metadata": {},
     "output_type": "execute_result"
    }
   ],
   "source": [
    "def maxNumber(lis1, lis2, k) -> int:\n",
    "        n, m = len(lis1), len(lis2)\n",
    "        \n",
    "        def solve(a, k):\n",
    "            k = len(a) - k\n",
    "            a = a[:] + [int(1e10)]\n",
    "            stack = []\n",
    "            for i in a:\n",
    "                while stack and k>0 and stack[-1] < i:\n",
    "                    stack.pop()\n",
    "                    k-=1\n",
    "                stack.append(i)\n",
    "            stack.pop()\n",
    "            return stack\n",
    "        \n",
    "        def merge(a, b):\n",
    "            return [max(a, b).pop(0) for i in a+b]\n",
    "        \n",
    "        ans = []\n",
    "        for i in range(k+1):\n",
    "            x, y = i, k-i\n",
    "            a, b = solve(lis1, x), solve(lis2, y)\n",
    "            t = merge(a, b)\n",
    "            if len(t)>len(ans): ans = t[:]\n",
    "            elif len(t) == len(ans): ans = max(ans, t)[:]\n",
    "        return ans\n",
    "        \n",
    "maxNumber([3,4,6,5], [9,1,2,5,8,3], 5)"
   ]
  },
  {
   "cell_type": "markdown",
   "id": "5367809e-0bb3-4316-b507-0dc2747d671e",
   "metadata": {},
   "source": [
    "# Celebrity Problem "
   ]
  },
  {
   "cell_type": "code",
   "execution_count": 19,
   "id": "87a0e074-7e15-40f6-bec8-29fa7ba79b8b",
   "metadata": {},
   "outputs": [
    {
     "data": {
      "text/plain": [
       "2"
      ]
     },
     "execution_count": 19,
     "metadata": {},
     "output_type": "execute_result"
    }
   ],
   "source": [
    "def solve(matrix):\n",
    "    n = len(matrix)\n",
    "    stack = list(range(n))\n",
    "    while len(stack) > 1:\n",
    "        a = stack.pop()\n",
    "        b = stack.pop()\n",
    "        if matrix[a][b] == 1:\n",
    "            stack.append(b)\n",
    "        else:\n",
    "            stack.append(a)\n",
    "    if stack: return stack[0]\n",
    "    else: return -1\n",
    "    \n",
    "matrix = [ [ 0, 0, 1, 0 ],\n",
    "           [ 0, 0, 1, 0 ],\n",
    "           [ 0, 0, 0, 0 ],\n",
    "           [ 0, 0, 1, 0 ] ]\n",
    "\n",
    "solve(matrix)"
   ]
  },
  {
   "cell_type": "markdown",
   "id": "e808b8d7-faba-4f38-9cfa-318830219ad5",
   "metadata": {},
   "source": [
    "# Min Stack\n",
    "\n",
    "The main issue is to keep track of minimum element.  \n",
    "The problem comes when an element in pushed which is smaller than current *min_element*.  \n",
    "in that case we push *new_element* with this modification  \n",
    "$new\\_element = 2 * current\\_element - min\\_element$  and update *min_element* to *current_element*.  \n",
    "because this *new_element* is always smaller than new *min_element* and while popping we can check the same to recalculate the new *min_element*."
   ]
  },
  {
   "cell_type": "code",
   "execution_count": 20,
   "id": "8723390c-85eb-4d23-9c69-96244af80724",
   "metadata": {},
   "outputs": [],
   "source": [
    "class MinStack:\n",
    "\n",
    "    def __init__(self):\n",
    "        self.stack = []\n",
    "        self.minn = None\n",
    "\n",
    "    def push(self, val: int) -> None:\n",
    "        if self.stack:\n",
    "            if val >= self.minn:\n",
    "                self.stack.append(val)\n",
    "            else:\n",
    "                self.stack.append(2 * val - self.minn)\n",
    "                self.minn = val\n",
    "        else:\n",
    "            self.stack.append(val)\n",
    "            self.minn = val\n",
    "\n",
    "    def pop(self) -> None:\n",
    "        if self.stack:\n",
    "            if self.stack[-1] < self.minn:\n",
    "                self.minn = 2 * self.minn - self.stack[-1]\n",
    "            self.stack.pop()\n",
    "        \n",
    "        if not self.stack:\n",
    "            self.minn = None\n",
    "\n",
    "    def top(self) -> int:\n",
    "        if self.stack:\n",
    "            if self.stack[-1] < self.minn:\n",
    "                return self.minn\n",
    "            return self.stack[-1]\n",
    "        return None\n",
    "\n",
    "    def getMin(self) -> int:\n",
    "        return self.minn"
   ]
  },
  {
   "cell_type": "markdown",
   "id": "164a0404-1c07-4a52-99c0-e9ff947e0e70",
   "metadata": {},
   "source": [
    "# Max Freqency Stack"
   ]
  },
  {
   "cell_type": "code",
   "execution_count": 14,
   "id": "a524a6be-5550-4636-8761-7528ac00c47b",
   "metadata": {},
   "outputs": [],
   "source": [
    "class FreqStack:\n",
    "\n",
    "    def __init__(self):\n",
    "        self.d = defaultdict(int)\n",
    "        self.heap = []\n",
    "        self.time = 0\n",
    "\n",
    "    def push(self, val: int) -> None:\n",
    "        self.d[val] += 1\n",
    "        self.time += 1\n",
    "        heappush(self.heap, (-self.d[val], -self.time, val))\n",
    "\n",
    "    def pop(self) -> int:\n",
    "        if self.heap:\n",
    "            f, time, val = heappop(self.heap)\n",
    "            self.d[val] -= 1\n",
    "            return val\n",
    "        return None\n"
   ]
  },
  {
   "cell_type": "code",
   "execution_count": null,
   "id": "86fa0c3f-313c-492f-a07f-8bdb3233d182",
   "metadata": {},
   "outputs": [],
   "source": []
  }
 ],
 "metadata": {
  "kernelspec": {
   "display_name": "Python 3",
   "language": "python",
   "name": "python3"
  },
  "language_info": {
   "codemirror_mode": {
    "name": "ipython",
    "version": 3
   },
   "file_extension": ".py",
   "mimetype": "text/x-python",
   "name": "python",
   "nbconvert_exporter": "python",
   "pygments_lexer": "ipython3",
   "version": "3.8.6"
  }
 },
 "nbformat": 4,
 "nbformat_minor": 5
}
