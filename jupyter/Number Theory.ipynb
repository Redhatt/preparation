{
 "cells": [
  {
   "cell_type": "markdown",
   "metadata": {},
   "source": [
    "# Tips\n",
    "1. $\\log_2(-n \\& n)+1$ returns the position of the rightmost set bit.\n",
    "1. $-n\\&n$ is rightmostbit value.  \n",
    "1. $log_2(n)+1$ returns the number of digits in the binary representation of the given number  \n",
    "1. $log_{10}(n)+1$ returns the number of digits in the number decimal number O(1) time  \n",
    "1. $x=x\\&(x-1)$ turn off the rightmost set bit  \n",
    "1. bit size of a number N is $int(\\log_2{n})+1$\n",
    "1. ceil of $\\frac{a}{b}$ = `(a+b-1)//b`"
   ]
  },
  {
   "cell_type": "code",
   "execution_count": 10,
   "metadata": {},
   "outputs": [
    {
     "name": "stdout",
     "output_type": "stream",
     "text": [
      "6\n"
     ]
    }
   ],
   "source": [
    "# gcd\n",
    "def gcd(a,b):\n",
    "    a,b = (a,b) if a>b else (b,a)\n",
    "    if b==0: return a\n",
    "    return gcd(b, a%b)\n",
    "print(gcd(48, 18))"
   ]
  },
  {
   "cell_type": "code",
   "execution_count": 11,
   "metadata": {},
   "outputs": [
    {
     "name": "stdout",
     "output_type": "stream",
     "text": [
      "[2, 3, 5, 7, 11, 13, 17, 19, 23, 29, 31, 37, 41, 43, 47, 53, 59, 61, 67]\n"
     ]
    }
   ],
   "source": [
    "# prime number upto n\n",
    "def prime_upto(n):\n",
    "    p = []\n",
    "    for i in range(2, n+1):\n",
    "        f = 1\n",
    "        j = 2\n",
    "        while j*j<=i:\n",
    "            if i%j == 0:\n",
    "                f = 0\n",
    "                break\n",
    "            j+=1\n",
    "        if f:\n",
    "            p.append(i)\n",
    "    return p\n",
    "print(prime_upto(70))"
   ]
  },
  {
   "cell_type": "code",
   "execution_count": 12,
   "metadata": {},
   "outputs": [
    {
     "name": "stdout",
     "output_type": "stream",
     "text": [
      "[1, 2, 2, 7]\n"
     ]
    }
   ],
   "source": [
    "# prime factors of n\n",
    "def prime_factors(n):\n",
    "    p = [1]\n",
    "    i = 2\n",
    "    while i<n:\n",
    "        while n%i == 0:\n",
    "            n = n//i\n",
    "            p.append(i)\n",
    "        i+=1\n",
    "    if n != 1:\n",
    "        p.append(n)\n",
    "    return p\n",
    "\n",
    "print(prime_factors(28))"
   ]
  },
  {
   "cell_type": "code",
   "execution_count": 15,
   "metadata": {},
   "outputs": [
    {
     "name": "stdout",
     "output_type": "stream",
     "text": [
      "11000\n",
      "9\n"
     ]
    }
   ],
   "source": [
    "def bina(a):\n",
    "    s = \"\"\n",
    "    while a:\n",
    "        s+=str(a&1)\n",
    "        a >>= 1\n",
    "    print(s[::-1])\n",
    "    \n",
    "def deci(a):\n",
    "    a = str(a)\n",
    "    ans = 0\n",
    "    for j, i in enumerate(a):\n",
    "        ans += int(i)*2**j\n",
    "    print(ans)\n",
    "\n",
    "bina(24)\n",
    "deci(1001)"
   ]
  },
  {
   "cell_type": "markdown",
   "metadata": {},
   "source": [
    "# Left right mids\n",
    "To get uperbound on\n",
    "$$\\frac{n(n+1)}{2} \\leq S$$\n",
    "just use qudratic formula and take ceil of it and then verify it, if not valid just subtract 1."
   ]
  },
  {
   "cell_type": "markdown",
   "metadata": {},
   "source": [
    "Index related stuff.\n",
    "In even length ther are two mids one left and other right and in odd they are same.\n",
    "below formula works for all kind of mids left mid and right mid.\n",
    "gives zero_index.\n",
    "$$size = (high_{z}-low_{z}+1)$$  \n",
    "$$mid_{right} = \\frac{(low_{z} + high_{z} +1)}{2} = \\frac{size}{2}$$\n",
    "$$mid_{left} = \\frac{(low_{z} + high_{z})}{2} = \\frac{(size-1)}{2}$$\n",
    "For odd $mid_{left} = mid_{right}$  \n",
    "so all formula gives same result for odds."
   ]
  },
  {
   "cell_type": "raw",
   "metadata": {},
   "source": [
    "below to get x from k.x > y"
   ]
  },
  {
   "cell_type": "markdown",
   "metadata": {},
   "source": [
    "<span class=\"MathJax\" id=\"MathJax-Element-19-Frame\" tabindex=\"0\" data-mathml=\"<math xmlns=&quot;http://www.w3.org/1998/Math/MathML&quot;><mi>k</mi><mo>&amp;#x22C5;</mo><mi>x</mi><mo>&amp;gt;</mo><mi>y</mi><mo stretchy=&quot;false&quot;>&amp;#x21D4;</mo><mi>k</mi><mo>&amp;#x22C5;</mo><mi>x</mi><mo>&amp;#x2265;</mo><mi>y</mi><mo>+</mo><mn>1</mn><mo stretchy=&quot;false&quot;>&amp;#x21D4;</mo><mi>x</mi><mo>&amp;#x2265;</mo><mrow><mo>&amp;#x2308;</mo><mfrac><mrow><mi>y</mi><mo>+</mo><mn>1</mn></mrow><mi>k</mi></mfrac><mo>&amp;#x2309;</mo></mrow><mo stretchy=&quot;false&quot;>&amp;#x21D4;</mo><mi>x</mi><mo>&amp;#x2265;</mo><mrow><mo>&amp;#x230A;</mo><mfrac><mrow><mi>y</mi><mo>+</mo><mn>1</mn><mo>+</mo><mi>k</mi><mo>&amp;#x2212;</mo><mn>1</mn></mrow><mi>k</mi></mfrac><mo>&amp;#x230B;</mo></mrow><mo stretchy=&quot;false&quot;>&amp;#x21D4;</mo><mi>x</mi><mo>&amp;#x2265;</mo><mrow><mo>&amp;#x230A;</mo><mfrac><mrow><mi>y</mi><mo>+</mo><mi>k</mi></mrow><mi>k</mi></mfrac><mo>&amp;#x230B;</mo></mrow></math>\" role=\"presentation\" style=\"position: relative;\"><nobr aria-hidden=\"true\"><span class=\"math\" id=\"MathJax-Span-288\" style=\"width: 37.622em; display: inline-block;\"><span style=\"display: inline-block; position: relative; width: 31.312em; height: 0px; font-size: 120%;\"><span style=\"position: absolute; clip: rect(1.967em, 1031.07em, 4.11em, -999.997em); top: -3.271em; left: 0em;\"><span class=\"mrow\" id=\"MathJax-Span-289\"><span class=\"mi\" id=\"MathJax-Span-290\" style=\"font-family: MathJax_Math-italic;\">k</span><span class=\"mo\" id=\"MathJax-Span-291\" style=\"font-family: MathJax_Main; padding-left: 0.241em;\">⋅</span><span class=\"mi\" id=\"MathJax-Span-292\" style=\"font-family: MathJax_Math-italic; padding-left: 0.241em;\">x</span><span class=\"mo\" id=\"MathJax-Span-293\" style=\"font-family: MathJax_Main; padding-left: 0.301em;\">&gt;</span><span class=\"mi\" id=\"MathJax-Span-294\" style=\"font-family: MathJax_Math-italic; padding-left: 0.301em;\">y<span style=\"display: inline-block; overflow: hidden; height: 1px; width: 0.003em;\"></span></span><span class=\"mo\" id=\"MathJax-Span-295\" style=\"font-family: MathJax_Main; padding-left: 0.301em;\">⇔</span><span class=\"mi\" id=\"MathJax-Span-296\" style=\"font-family: MathJax_Math-italic; padding-left: 0.301em;\">k</span><span class=\"mo\" id=\"MathJax-Span-297\" style=\"font-family: MathJax_Main; padding-left: 0.241em;\">⋅</span><span class=\"mi\" id=\"MathJax-Span-298\" style=\"font-family: MathJax_Math-italic; padding-left: 0.241em;\">x</span><span class=\"mo\" id=\"MathJax-Span-299\" style=\"font-family: MathJax_Main; padding-left: 0.301em;\">≥</span><span class=\"mi\" id=\"MathJax-Span-300\" style=\"font-family: MathJax_Math-italic; padding-left: 0.301em;\">y<span style=\"display: inline-block; overflow: hidden; height: 1px; width: 0.003em;\"></span></span><span class=\"mo\" id=\"MathJax-Span-301\" style=\"font-family: MathJax_Main; padding-left: 0.241em;\">+</span><span class=\"mn\" id=\"MathJax-Span-302\" style=\"font-family: MathJax_Main; padding-left: 0.241em;\">1</span><span class=\"mo\" id=\"MathJax-Span-303\" style=\"font-family: MathJax_Main; padding-left: 0.301em;\">⇔</span><span class=\"mi\" id=\"MathJax-Span-304\" style=\"font-family: MathJax_Math-italic; padding-left: 0.301em;\">x</span><span class=\"mo\" id=\"MathJax-Span-305\" style=\"font-family: MathJax_Main; padding-left: 0.301em;\">≥</span><span class=\"mrow\" id=\"MathJax-Span-306\" style=\"padding-left: 0.301em;\"><span class=\"mo\" id=\"MathJax-Span-307\" style=\"vertical-align: 0em;\"><span style=\"font-family: MathJax_Size2;\">⌈</span></span><span class=\"mfrac\" id=\"MathJax-Span-308\"><span style=\"display: inline-block; position: relative; width: 1.372em; height: 0px; margin-right: 0.122em; margin-left: 0.122em;\"><span style=\"position: absolute; clip: rect(3.336em, 1001.19em, 4.289em, -999.997em); top: -4.58em; left: 50%; margin-left: -0.652em;\"><span class=\"mrow\" id=\"MathJax-Span-309\"><span class=\"mi\" id=\"MathJax-Span-310\" style=\"font-size: 70.7%; font-family: MathJax_Math-italic;\">y<span style=\"display: inline-block; overflow: hidden; height: 1px; width: 0.003em;\"></span></span><span class=\"mo\" id=\"MathJax-Span-311\" style=\"font-size: 70.7%; font-family: MathJax_Main;\">+</span><span class=\"mn\" id=\"MathJax-Span-312\" style=\"font-size: 70.7%; font-family: MathJax_Main;\">1</span></span><span style=\"display: inline-block; width: 0px; height: 3.991em;\"></span></span><span style=\"position: absolute; clip: rect(3.336em, 1000.36em, 4.17em, -999.997em); top: -3.568em; left: 50%; margin-left: -0.176em;\"><span class=\"mi\" id=\"MathJax-Span-313\" style=\"font-size: 70.7%; font-family: MathJax_Math-italic;\">k</span><span style=\"display: inline-block; width: 0px; height: 3.991em;\"></span></span><span style=\"position: absolute; clip: rect(0.836em, 1001.37em, 1.253em, -999.997em); top: -1.307em; left: 0em;\"><span style=\"display: inline-block; overflow: hidden; vertical-align: 0em; border-top: 1.3px solid; width: 1.372em; height: 0px;\"></span><span style=\"display: inline-block; width: 0px; height: 1.074em;\"></span></span></span></span><span class=\"mo\" id=\"MathJax-Span-314\" style=\"vertical-align: 0em;\"><span style=\"font-family: MathJax_Size2;\">⌉</span></span></span><span class=\"mo\" id=\"MathJax-Span-315\" style=\"font-family: MathJax_Main; padding-left: 0.301em;\">⇔</span><span class=\"mi\" id=\"MathJax-Span-316\" style=\"font-family: MathJax_Math-italic; padding-left: 0.301em;\">x</span><span class=\"mo\" id=\"MathJax-Span-317\" style=\"font-family: MathJax_Main; padding-left: 0.301em;\">≥</span><span class=\"mrow\" id=\"MathJax-Span-318\" style=\"padding-left: 0.301em;\"><span class=\"mo\" id=\"MathJax-Span-319\" style=\"vertical-align: 0em;\"><span style=\"font-family: MathJax_Size2;\">⌊</span></span><span class=\"mfrac\" id=\"MathJax-Span-320\"><span style=\"display: inline-block; position: relative; width: 3.217em; height: 0px; margin-right: 0.122em; margin-left: 0.122em;\"><span style=\"position: absolute; clip: rect(3.336em, 1003.04em, 4.289em, -999.997em); top: -4.58em; left: 50%; margin-left: -1.545em;\"><span class=\"mrow\" id=\"MathJax-Span-321\"><span class=\"mi\" id=\"MathJax-Span-322\" style=\"font-size: 70.7%; font-family: MathJax_Math-italic;\">y<span style=\"display: inline-block; overflow: hidden; height: 1px; width: 0.003em;\"></span></span><span class=\"mo\" id=\"MathJax-Span-323\" style=\"font-size: 70.7%; font-family: MathJax_Main;\">+</span><span class=\"mn\" id=\"MathJax-Span-324\" style=\"font-size: 70.7%; font-family: MathJax_Main;\">1</span><span class=\"mo\" id=\"MathJax-Span-325\" style=\"font-size: 70.7%; font-family: MathJax_Main;\">+</span><span class=\"mi\" id=\"MathJax-Span-326\" style=\"font-size: 70.7%; font-family: MathJax_Math-italic;\">k</span><span class=\"mo\" id=\"MathJax-Span-327\" style=\"font-size: 70.7%; font-family: MathJax_Main;\">−</span><span class=\"mn\" id=\"MathJax-Span-328\" style=\"font-size: 70.7%; font-family: MathJax_Main;\">1</span></span><span style=\"display: inline-block; width: 0px; height: 3.991em;\"></span></span><span style=\"position: absolute; clip: rect(3.336em, 1000.36em, 4.17em, -999.997em); top: -3.568em; left: 50%; margin-left: -0.176em;\"><span class=\"mi\" id=\"MathJax-Span-329\" style=\"font-size: 70.7%; font-family: MathJax_Math-italic;\">k</span><span style=\"display: inline-block; width: 0px; height: 3.991em;\"></span></span><span style=\"position: absolute; clip: rect(0.836em, 1003.22em, 1.253em, -999.997em); top: -1.307em; left: 0em;\"><span style=\"display: inline-block; overflow: hidden; vertical-align: 0em; border-top: 1.3px solid; width: 3.217em; height: 0px;\"></span><span style=\"display: inline-block; width: 0px; height: 1.074em;\"></span></span></span></span><span class=\"mo\" id=\"MathJax-Span-330\" style=\"vertical-align: 0em;\"><span style=\"font-family: MathJax_Size2;\">⌋</span></span></span><span class=\"mo\" id=\"MathJax-Span-331\" style=\"font-family: MathJax_Main; padding-left: 0.301em;\">⇔</span><span class=\"mi\" id=\"MathJax-Span-332\" style=\"font-family: MathJax_Math-italic; padding-left: 0.301em;\">x</span><span class=\"mo\" id=\"MathJax-Span-333\" style=\"font-family: MathJax_Main; padding-left: 0.301em;\">≥</span><span class=\"mrow\" id=\"MathJax-Span-334\" style=\"padding-left: 0.301em;\"><span class=\"mo\" id=\"MathJax-Span-335\" style=\"vertical-align: 0em;\"><span style=\"font-family: MathJax_Size2;\">⌊</span></span><span class=\"mfrac\" id=\"MathJax-Span-336\"><span style=\"display: inline-block; position: relative; width: 1.372em; height: 0px; margin-right: 0.122em; margin-left: 0.122em;\"><span style=\"position: absolute; clip: rect(3.336em, 1001.25em, 4.289em, -999.997em); top: -4.58em; left: 50%; margin-left: -0.652em;\"><span class=\"mrow\" id=\"MathJax-Span-337\"><span class=\"mi\" id=\"MathJax-Span-338\" style=\"font-size: 70.7%; font-family: MathJax_Math-italic;\">y<span style=\"display: inline-block; overflow: hidden; height: 1px; width: 0.003em;\"></span></span><span class=\"mo\" id=\"MathJax-Span-339\" style=\"font-size: 70.7%; font-family: MathJax_Main;\">+</span><span class=\"mi\" id=\"MathJax-Span-340\" style=\"font-size: 70.7%; font-family: MathJax_Math-italic;\">k</span></span><span style=\"display: inline-block; width: 0px; height: 3.991em;\"></span></span><span style=\"position: absolute; clip: rect(3.336em, 1000.36em, 4.17em, -999.997em); top: -3.568em; left: 50%; margin-left: -0.176em;\"><span class=\"mi\" id=\"MathJax-Span-341\" style=\"font-size: 70.7%; font-family: MathJax_Math-italic;\">k</span><span style=\"display: inline-block; width: 0px; height: 3.991em;\"></span></span><span style=\"position: absolute; clip: rect(0.836em, 1001.37em, 1.253em, -999.997em); top: -1.307em; left: 0em;\"><span style=\"display: inline-block; overflow: hidden; vertical-align: 0em; border-top: 1.3px solid; width: 1.372em; height: 0px;\"></span><span style=\"display: inline-block; width: 0px; height: 1.074em;\"></span></span></span></span><span class=\"mo\" id=\"MathJax-Span-342\" style=\"vertical-align: 0em;\"><span style=\"font-family: MathJax_Size2;\">⌋</span></span></span></span><span style=\"display: inline-block; width: 0px; height: 3.277em;\"></span></span></span><span style=\"display: inline-block; overflow: hidden; vertical-align: -0.854em; border-left: 0px solid; width: 0px; height: 2.289em;\"></span></span></nobr><span class=\"MJX_Assistive_MathML\" role=\"presentation\"><math xmlns=\"http://www.w3.org/1998/Math/MathML\"><mi>k</mi><mo>⋅</mo><mi>x</mi><mo>&gt;</mo><mi>y</mi><mo stretchy=\"false\">⇔</mo><mi>k</mi><mo>⋅</mo><mi>x</mi><mo>≥</mo><mi>y</mi><mo>+</mo><mn>1</mn><mo stretchy=\"false\">⇔</mo><mi>x</mi><mo>≥</mo><mrow><mo>⌈</mo><mfrac><mrow><mi>y</mi><mo>+</mo><mn>1</mn></mrow><mi>k</mi></mfrac><mo>⌉</mo></mrow><mo stretchy=\"false\">⇔</mo><mi>x</mi><mo>≥</mo><mrow><mo>⌊</mo><mfrac><mrow><mi>y</mi><mo>+</mo><mn>1</mn><mo>+</mo><mi>k</mi><mo>−</mo><mn>1</mn></mrow><mi>k</mi></mfrac><mo>⌋</mo></mrow><mo stretchy=\"false\">⇔</mo><mi>x</mi><mo>≥</mo><mrow><mo>⌊</mo><mfrac><mrow><mi>y</mi><mo>+</mo><mi>k</mi></mrow><mi>k</mi></mfrac><mo>⌋</mo></mrow></math></span></span>"
   ]
  },
  {
   "cell_type": "code",
   "execution_count": 5,
   "metadata": {},
   "outputs": [
    {
     "data": {
      "text/plain": [
       "'132,877'"
      ]
     },
     "execution_count": 5,
     "metadata": {},
     "output_type": "execute_result"
    }
   ],
   "source": [
    "# time comlexity function\n",
    "from math import log2, ceil\n",
    "def frmt(s, f=3, d=3):\n",
    "    def frmt_(s, d):\n",
    "        if len(s)<=d: return s\n",
    "        return frmt_(s[:-d], d)+\",\"+s[-d:]\n",
    "    if type(s) != str: s = str(s)\n",
    "    if len(s)<=f: return s\n",
    "    return frmt_(s[:-f], d=d) + \",\" + s[-f:]\n",
    "\n",
    "def nlog(n): return (frmt(int(n*log2(n))))\n",
    "def nloglog(n): return (frmt(int(n*log2(log2(n)))))\n",
    "def mlogn(n, m): return (frmt(int(m*log2(n))))\n",
    "m = 1e7\n",
    "n = 1e4\n",
    "nlog(n)"
   ]
  },
  {
   "cell_type": "markdown",
   "metadata": {},
   "source": [
    "# Diophantine equation's initial solutions "
   ]
  },
  {
   "cell_type": "code",
   "execution_count": 16,
   "metadata": {},
   "outputs": [
    {
     "name": "stdout",
     "output_type": "stream",
     "text": [
      "8 1 -1\n"
     ]
    }
   ],
   "source": [
    "def gcd(a, b):\n",
    "    if b == 0: return a, 1, 0\n",
    "    d, x1, y1 = gcd(b, a%b)\n",
    "    return d, y1, x1 - y1*(a//b)\n",
    "d, x, y = gcd(24, 16)\n",
    "print(d, x, y)"
   ]
  },
  {
   "cell_type": "raw",
   "metadata": {},
   "source": [
    "x, y are solution of ax + by = gcd(a,b)\n",
    "so\n",
    "ax_ + by_ = n has solution(integer) only if n|gcd(a,b).\n",
    "if so, then \n",
    "x_ = x*(n/d), y_ = y*(n/d)\n",
    "and genral solutions are\n",
    "x = x_ + m*(b/gcd(a,b))\n",
    "y = y_ - m*(a/gcd(a,b))"
   ]
  },
  {
   "cell_type": "markdown",
   "metadata": {},
   "source": [
    "# Rounding in python"
   ]
  },
  {
   "cell_type": "code",
   "execution_count": 17,
   "metadata": {},
   "outputs": [
    {
     "data": {
      "text/plain": [
       "'1.000000'"
      ]
     },
     "execution_count": 17,
     "metadata": {},
     "output_type": "execute_result"
    }
   ],
   "source": [
    "d = 1.0\n",
    "'{:.6f}'.format(round(d))"
   ]
  },
  {
   "cell_type": "markdown",
   "metadata": {},
   "source": [
    "# Remainder Finding\n",
    "\n",
    "Simple logic as in division."
   ]
  },
  {
   "cell_type": "code",
   "execution_count": 18,
   "metadata": {},
   "outputs": [
    {
     "name": "stdout",
     "output_type": "stream",
     "text": [
      "[1, 2, 5]\n"
     ]
    }
   ],
   "source": [
    "a = 1\n",
    "b = 8\n",
    "r = a%b\n",
    "ans = []\n",
    "while r:\n",
    "    r = r*10\n",
    "    ans += [r//b]\n",
    "    r = r%b\n",
    "print(ans)"
   ]
  },
  {
   "cell_type": "code",
   "execution_count": null,
   "metadata": {},
   "outputs": [],
   "source": []
  },
  {
   "cell_type": "code",
   "execution_count": null,
   "metadata": {},
   "outputs": [],
   "source": []
  }
 ],
 "metadata": {
  "kernelspec": {
   "display_name": "Python 3 (ipykernel)",
   "language": "python",
   "name": "python3"
  },
  "language_info": {
   "codemirror_mode": {
    "name": "ipython",
    "version": 3
   },
   "file_extension": ".py",
   "mimetype": "text/x-python",
   "name": "python",
   "nbconvert_exporter": "python",
   "pygments_lexer": "ipython3",
   "version": "3.8.9"
  }
 },
 "nbformat": 4,
 "nbformat_minor": 4
}
