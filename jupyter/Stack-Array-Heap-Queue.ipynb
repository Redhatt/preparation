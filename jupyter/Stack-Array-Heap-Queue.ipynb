{
 "cells": [
  {
   "cell_type": "code",
   "execution_count": 1,
   "metadata": {},
   "outputs": [
    {
     "name": "stdout",
     "output_type": "stream",
     "text": [
      "[1, 1, 1, 2, 2, 2, 2, 11, 3, 3]\n",
      "[3, 3, 3, 4, 4, 4, 4, 1, 2, 2]\n",
      "[2, 2, 2, -1, -1, -1, -1, 3, -1, -1]\n"
     ]
    }
   ],
   "source": [
    "# greatest frequency elements\n",
    "# https://www.geeksforgeeks.org/next-greater-frequency-element/\n",
    "# emplemented NRE in 6th cell.\n",
    "\n",
    "def GFE(arr):\n",
    "    n = len(arr)\n",
    "    freq = dict()\n",
    "    for i in arr:\n",
    "        if i in freq:\n",
    "            freq[i] += 1\n",
    "        else:\n",
    "            freq[i] = 1\n",
    "    \n",
    "    ans = [0 for i in range(n)]\n",
    "    for i in range(n):\n",
    "        ans[i] = freq[arr[i]]\n",
    "        \n",
    "    final = [-1 for i in range(n)]\n",
    "    \n",
    "    stack = []\n",
    "    # running in reverse because we have to find greatest element in right.\n",
    "    for i in range(n-2, -1, -1):\n",
    "        # if right ele is > current, than add it into stack and make it currents value\n",
    "        if ans[i]<ans[i+1]:\n",
    "            stack.append(arr[i+1])\n",
    "            final[i] = stack[-1]\n",
    "        # if equal then previous value continued but check if stack not empty because then ans is always -1\n",
    "        elif ans[i] == ans[i+1]:\n",
    "            if stack:\n",
    "                final[i] = stack[-1]\n",
    "            else:\n",
    "                final[i] = -1\n",
    "        # if value is less, then keep poping until you stack runs out of ele, or stack element is greater than current.\n",
    "        # but here it modified to get frequency mapped element.\n",
    "        else:\n",
    "            while(stack and ans[i]>=ans[arr.index(stack[-1])]):\n",
    "                stack.pop()\n",
    "            if stack:\n",
    "                final[i] = stack[-1]\n",
    "            else:\n",
    "                final[i] = -1\n",
    "    print(arr)\n",
    "    print(ans)\n",
    "    print(final)\n",
    "                \n",
    "arr = [1, 1, 2, 3, 4, 2, 1]\n",
    "arr = [1, 1, 1, 2, 2, 2, 2, 11, 3, 3]\n",
    "GFE(arr)"
   ]
  },
  {
   "cell_type": "code",
   "execution_count": 2,
   "metadata": {},
   "outputs": [
    {
     "name": "stdout",
     "output_type": "stream",
     "text": [
      "[0, 1, 2, 2, 1, 0, 0]\n",
      "[0, 6, 5, 5, 6, 0, 0]\n"
     ]
    }
   ],
   "source": [
    "# LRP product\n",
    "\n",
    "def LRP(arr):\n",
    "    n = len(arr)\n",
    "    L = [0 for i in range(n)]\n",
    "    R = [0 for i in range(n)]\n",
    "        \n",
    "    stack = []\n",
    "    \n",
    "    for i in range(1, n):\n",
    "        if arr[i]<arr[i-1]:\n",
    "            stack.append(i)\n",
    "            L[i] = stack[-1]\n",
    "        elif arr[i] == arr[i-1]:\n",
    "            if stack:\n",
    "                L[i] = stack[-1]\n",
    "            else:\n",
    "                L[i] = 0\n",
    "        else:\n",
    "            while(stack and arr[i]>=arr[stack[-1]-1]):\n",
    "                stack.pop()\n",
    "            \n",
    "            if stack:\n",
    "                L[i] = stack[-1]\n",
    "            else:\n",
    "                L[i] = 0\n",
    "                \n",
    "    stack = []\n",
    "    \n",
    "    for i in range(n-2, -1, -1):\n",
    "        if arr[i]<arr[i+1]:\n",
    "            stack.append(i+2)\n",
    "            R[i] = stack[-1]\n",
    "        elif arr[i] == arr[i+1]:\n",
    "            if stack:\n",
    "                R[i] = stack[-1]\n",
    "            else:\n",
    "                R[i] = 0\n",
    "        else:\n",
    "            while(stack and arr[i]>=arr[stack[-1]-1]):\n",
    "                stack.pop()\n",
    "            if stack:\n",
    "                R[i] = stack[-1]\n",
    "            else:\n",
    "                R[i] = 0\n",
    "    \n",
    "    print(L)\n",
    "    print(R)\n",
    "    \n",
    "# arr = [5,1,2,2,2]\n",
    "# arr = [3, 3, 2, 1, 1, 2, 3]\n",
    "arr = [3,2,1,1,2,3,3]\n",
    "LRP(arr)\n",
    "            "
   ]
  },
  {
   "cell_type": "code",
   "execution_count": 3,
   "metadata": {},
   "outputs": [
    {
     "name": "stdout",
     "output_type": "stream",
     "text": [
      "3\n"
     ]
    }
   ],
   "source": [
    "# clebrity\n",
    "# this is very efficient just make a stack with all memebers as celebrity then compare two top member.\n",
    "# if both knows each other no one is celeb and if both don't know each other then too no one celeb.\n",
    "# if one knows other and other does not then the one who does not know can be celeb so put it back into stack \n",
    "# and repeat until stack len is 1 or smaller.\n",
    "\n",
    "matrix =  [[0, 1, 1, 0],\n",
    "           [0, 0, 1, 0],\n",
    "           [0, 0, 1, 0],\n",
    "           [0, 0, 1, 0]]\n",
    "\n",
    "def question(a, b):\n",
    "    return matrix[a-1][b-1]\n",
    "\n",
    "def celebrity(n):\n",
    "    stack = []\n",
    "    for i in range(n):\n",
    "        stack.append(i)\n",
    "    \n",
    "    while len(stack) > 1:\n",
    "        a = stack.pop()\n",
    "        b = stack.pop()\n",
    "        \n",
    "        res1 = question(a,b)\n",
    "        res2 = question(b, a)\n",
    "        \n",
    "        if res1^res2:\n",
    "            if not res1:\n",
    "                stack.append(a)\n",
    "            else:\n",
    "                stack.append(b)\n",
    "        \n",
    "    if stack:\n",
    "        print(stack[0])\n",
    "    else:\n",
    "        print(-1)\n",
    "    \n",
    "                \n",
    "celebrity(len(matrix))\n",
    "        "
   ]
  },
  {
   "cell_type": "code",
   "execution_count": 4,
   "metadata": {},
   "outputs": [
    {
     "name": "stdout",
     "output_type": "stream",
     "text": [
      "-4\n"
     ]
    }
   ],
   "source": [
    "# postfix calculation easy..\n",
    "\n",
    "s = \"2 3 1 * + 9 -\"\n",
    "\n",
    "operators = [\"*\", \"/\", \"+\", \"-\"]\n",
    "\n",
    "ss = list(s.split())\n",
    "ans = 0\n",
    "stack = []\n",
    "for i in ss:\n",
    "    if i not in operators:\n",
    "        stack.append(i)\n",
    "    else:\n",
    "        a = stack.pop()\n",
    "        b = stack.pop()\n",
    "        if i == \"+\":\n",
    "            ans = int(a)+int(b)\n",
    "        elif i == \"*\":\n",
    "            ans = int(a)*int(b)\n",
    "        elif i == \"/\":\n",
    "            ans = int(b)/int(a)\n",
    "        else:\n",
    "            ans = int(b)-int(a)\n",
    "        stack.append(str(ans))\n",
    "    \n",
    "print(ans)    "
   ]
  },
  {
   "cell_type": "code",
   "execution_count": 5,
   "metadata": {},
   "outputs": [],
   "source": [
    "# Hanoi tower\n",
    "# https://www.geeksforgeeks.org/iterative-tower-of-hanoi/\n",
    "\n",
    "# formula based just check it onece "
   ]
  },
  {
   "cell_type": "code",
   "execution_count": 2,
   "metadata": {},
   "outputs": [
    {
     "name": "stdout",
     "output_type": "stream",
     "text": [
      "8 -1 7\n"
     ]
    }
   ],
   "source": [
    "# next greater element emplementation\n",
    "\n",
    "arr = [3, 4, 2, 7, 5, 8, 10, 6]\n",
    "q = [3, 6, 1]\n",
    "n = len(arr)\n",
    "stack = []\n",
    "final = [-1 for i in range(n)]\n",
    "for i in range(n-2, -1, -1):\n",
    "    if arr[i]<=arr[i+1]:\n",
    "        stack.append(arr[i+1])\n",
    "        final[i] = stack[-1]\n",
    "    else:\n",
    "        while(stack and arr[i]>= stack[-1]):\n",
    "            stack.pop()\n",
    "        if stack: final[i] = stack[-1]\n",
    "        else: final[i] = -1\n",
    "\n",
    "for i in range(len(q)-1):\n",
    "    print(final[q[i]], end=\" \")\n",
    "print(final[q[-1]])\n",
    "    "
   ]
  },
  {
   "cell_type": "code",
   "execution_count": 7,
   "metadata": {},
   "outputs": [],
   "source": [
    "# reverse a stack with only push, pop, and empty.\n",
    "# https://www.geeksforgeeks.org/reverse-a-stack-using-recursion/\n",
    "\n",
    "stack = [1,2,3,4]\n",
    "\n",
    "def reverse(stack, first):\n",
    "    if stack:\n",
    "        a = stack.pop()\n",
    "        reverse(stack, a)\n",
    "        \n",
    "# INCOMPLETE\n"
   ]
  },
  {
   "cell_type": "code",
   "execution_count": 8,
   "metadata": {},
   "outputs": [
    {
     "name": "stdout",
     "output_type": "stream",
     "text": [
      "12\n"
     ]
    }
   ],
   "source": [
    "# max area of a histogram\n",
    "# so here for all elements make a list of left next smaller element index and right next smaller element \n",
    "# index then get area from them.\n",
    "\n",
    "def area_dp(hist):\n",
    "    n = len(hist)\n",
    "    stack = []\n",
    "    \n",
    "    L = [-1 for i in range(n)]\n",
    "    R = [n for i in range(n)]\n",
    "    \n",
    "    for i in range(1, n):\n",
    "        if hist[i]==hist[i-1]:\n",
    "            if stack:\n",
    "                L[i] =  stack[-1]\n",
    "            else:\n",
    "                L[i] = -1\n",
    "        elif hist[i]>hist[i-1]:\n",
    "            stack.append(i-1)\n",
    "            L[i] = stack[-1]\n",
    "        else:\n",
    "            while(stack and hist[i]<hist[stack[-1]]):\n",
    "                stack.pop()\n",
    "            if stack:\n",
    "                L[i] = stack[-1]\n",
    "            else:\n",
    "                L[i] = -1\n",
    "#         print(L)\n",
    "\n",
    "    stack = []\n",
    "    for i in range(n-2, -1, -1):\n",
    "        if hist[i] == hist[i+1]:\n",
    "            if stack:\n",
    "                R[i] = stack[-1]\n",
    "            else:\n",
    "                R[i] = n\n",
    "        elif hist[i]>hist[i+1]:\n",
    "            stack.append(i+1)\n",
    "            R[i] = stack[-1]\n",
    "        else:\n",
    "            while (stack and hist[i]<hist[stack[-1]]):\n",
    "                stack.pop()\n",
    "            if stack:\n",
    "                R[i] = stack[-1]\n",
    "            else:\n",
    "                R[i] = n\n",
    "                \n",
    "#     print(L)\n",
    "#     print(R)\n",
    "    \n",
    "    maxx = 0\n",
    "    for i in range(n):\n",
    "#         print(hist[i],abs(L[i]-R[i])-1)\n",
    "        maxx = max(maxx, hist[i]*(abs(L[i]-R[i])-1))\n",
    "    print(maxx)\n",
    "    \n",
    "    \n",
    "hist = [6,2,5,4,5,1,6]\n",
    "area_dp(hist)"
   ]
  },
  {
   "cell_type": "code",
   "execution_count": 9,
   "metadata": {},
   "outputs": [
    {
     "name": "stdout",
     "output_type": "stream",
     "text": [
      "4\n"
     ]
    }
   ],
   "source": [
    "# parenthesis max depth\n",
    "\n",
    "s = \"(()()())(((())))\"\n",
    "count = 0\n",
    "stack = []\n",
    "maxx = 0\n",
    "\n",
    "for i in s:\n",
    "    if i == \"(\":\n",
    "        stack.append(1)\n",
    "        count+=1\n",
    "    elif i == \")\":\n",
    "        if stack:\n",
    "            maxx = max(maxx, count)\n",
    "            count-=1\n",
    "            stack.pop()\n",
    "        else:\n",
    "            print(\"String not balanced\")\n",
    "            break\n",
    "    else:\n",
    "        pass\n",
    "    \n",
    "print(maxx)"
   ]
  },
  {
   "cell_type": "code",
   "execution_count": 10,
   "metadata": {},
   "outputs": [],
   "source": [
    "# https://www.geeksforgeeks.org/find-the-maximum-of-minimums-for-every-window-size-in-a-given-array/\n",
    "\n",
    "# INCOMPLETE"
   ]
  },
  {
   "cell_type": "code",
   "execution_count": 11,
   "metadata": {},
   "outputs": [
    {
     "name": "stdout",
     "output_type": "stream",
     "text": [
      "10\n",
      "30\n"
     ]
    }
   ],
   "source": [
    "# longest substring of valid parenthesis.\n",
    "\n",
    "s = \"(())((())))))(\"\n",
    "def maxValidParenthesisSubstring(s):\n",
    "    m1 = 0\n",
    "    m2 = 0\n",
    "    n = len(s)\n",
    "    left = 0\n",
    "    right = 0\n",
    "    for i in s:\n",
    "        if i == \"(\":\n",
    "            left += 1\n",
    "        else:\n",
    "            right -= 1\n",
    "            if left + right == 0:\n",
    "                m1 = max(m1, left)\n",
    "            elif left + right < 0:\n",
    "                left = 0\n",
    "                right = 0\n",
    "    left = 0\n",
    "    right = 0\n",
    "    for i in s[::-1]:\n",
    "        if i == \")\":\n",
    "            left += 1\n",
    "        else:\n",
    "            right -= 1\n",
    "            if left + right == 0:\n",
    "                m2 = max(m2, left)\n",
    "            elif left + right < 0:\n",
    "                left = 0\n",
    "                right = 0\n",
    "    print(2*max(m1, m2))\n",
    "    \n",
    "maxValidParenthesisSubstring(s)\n",
    "\n",
    "# another elegent way to do it.\n",
    "A = \")()))(())((())))))())()(((((())())((()())(())((((())))())((()()))(()(((()()(()((()()))(())()))(((\"\n",
    "stack = [-1]\n",
    "ans = 0\n",
    "for i in range(len(A)):\n",
    "    if A[i] == \"(\":\n",
    "        stack.append(i)\n",
    "    else:\n",
    "        stack.pop()\n",
    "        if stack: ans = max(ans, i-stack[-1])\n",
    "        else: stack.append(i)\n",
    "print(ans)"
   ]
  },
  {
   "cell_type": "code",
   "execution_count": null,
   "metadata": {},
   "outputs": [],
   "source": [
    "((()))\n",
    "0,1,\n",
    "3 - 1 = "
   ]
  },
  {
   "cell_type": "code",
   "execution_count": 12,
   "metadata": {},
   "outputs": [
    {
     "name": "stdout",
     "output_type": "stream",
     "text": [
      "2\n"
     ]
    }
   ],
   "source": [
    "# minimum no of braket reversal need to make it valid\n",
    "\n",
    "s = \"}}}}{{{{}}}}{}\"\n",
    "\n",
    "m = 0\n",
    "n = 0\n",
    "stack = []\n",
    "\n",
    "if len(s)%2:\n",
    "    print(\"NO\")\n",
    "else:\n",
    "    for i in range(len(s)):\n",
    "        if s[i] == \"{\":\n",
    "            m+=1\n",
    "            stack.append(1)\n",
    "        else:\n",
    "            n+=1\n",
    "            if stack:\n",
    "                stack.pop()\n",
    "                m-=1\n",
    "                n-=1\n",
    "    m = m//2 + 1 if m%2 else m//2\n",
    "    n = n//2 + 1 if n%2 else n//2\n",
    "\n",
    "    print(m+n)\n",
    "    \n"
   ]
  },
  {
   "cell_type": "code",
   "execution_count": 13,
   "metadata": {},
   "outputs": [
    {
     "name": "stdout",
     "output_type": "stream",
     "text": [
      "YES\n"
     ]
    }
   ],
   "source": [
    "# removing redundant brackets\n",
    "# idea is to keep pushing elements into stack and once you got \")\" pop until you get \"(\" and then check if exp between \"(\" and \")\" has any \n",
    "# operator if yes then not redundant and so push # to replace (a+b) and continue and if no operator in exp then break because its redundant\n",
    "\n",
    "# s = \"(a+b*(c-d))\"\n",
    "# s = \"((c-d)*a+b/(e))\"\n",
    "s = \"((a-)b)\"\n",
    "\n",
    "stack = []\n",
    "operators = [\"*\", \"/\", \"+\", \"-\"]\n",
    "got = False\n",
    "for j,i in enumerate(s):\n",
    "    if i == \")\":\n",
    "        count = 0\n",
    "        exp = \")\"\n",
    "        e = stack.pop()\n",
    "        exp+=e\n",
    "        while e != \"(\" and stack:\n",
    "            e = stack.pop()\n",
    "            if e in operators:\n",
    "                count=1\n",
    "            exp+=e\n",
    "        if not count:\n",
    "            print(\"YES\")\n",
    "            got = True\n",
    "            break\n",
    "        else:\n",
    "            stack.append(\"#\")\n",
    "    else:\n",
    "        stack.append(i)\n",
    "    if got:\n",
    "        break\n",
    "\n",
    "if not got:\n",
    "    print(\"NO\")\n",
    "            "
   ]
  },
  {
   "cell_type": "code",
   "execution_count": 2,
   "metadata": {},
   "outputs": [
    {
     "name": "stdout",
     "output_type": "stream",
     "text": [
      "0 2 0 "
     ]
    }
   ],
   "source": [
    "# sliding window max using deque\n",
    "from collections import deque\n",
    "# arr = [1, 2, 3, 1, 4, 5, 2, 3, 6]\n",
    "arr = [0, 2, 0]\n",
    "n = len(arr)\n",
    "# k = 3 \n",
    "k = 1\n",
    "q = deque()\n",
    "for i in range(k):\n",
    "    while q and arr[q[-1]]<=arr[i]: q.pop()\n",
    "    q.append(i) # it stores index and not value.\n",
    "print(arr[q[0]], end=\" \") # print value and not index.\n",
    "for i in range(k, n):\n",
    "    while q and q[0]<i-k+1: q.popleft()\n",
    "    while q and arr[q[-1]]<=arr[i]: q.pop()\n",
    "    q.append(i)\n",
    "    print(arr[q[0]], end=\" \")    \n"
   ]
  },
  {
   "cell_type": "markdown",
   "metadata": {},
   "source": [
    "### Next Permuation"
   ]
  },
  {
   "cell_type": "code",
   "execution_count": 7,
   "metadata": {},
   "outputs": [
    {
     "name": "stdout",
     "output_type": "stream",
     "text": [
      "8829294507\n",
      "8829294570\n"
     ]
    }
   ],
   "source": [
    "import random\n",
    "\n",
    "def solve( n):\n",
    "    s = list(str(n))\n",
    "    l = len(s)\n",
    "    print(n)\n",
    "\n",
    "    x = l-2\n",
    "    while x>=0 and s[x]>=s[x+1]: x-=1\n",
    "    if x == -1: return int(\"\".join(sorted(s)))\n",
    "\n",
    "    index = -1\n",
    "    val = '99'\n",
    "    for i in range(x+1, l):\n",
    "        if s[i] > s[x] and s[i]<val:\n",
    "            index = i\n",
    "            val = s[i]\n",
    "\n",
    "    if index != -1: s[index], s[x] = s[x], s[index]\n",
    "    ans = s[:x+1] + list(sorted(s[x+1:]))\n",
    "\n",
    "    return int(\"\".join(ans))\n",
    "\n",
    "print(solve(random.randint(0, int(1e10))))"
   ]
  },
  {
   "cell_type": "markdown",
   "metadata": {},
   "source": [
    "### Median of 2 sorted lists"
   ]
  },
  {
   "cell_type": "code",
   "execution_count": 12,
   "metadata": {},
   "outputs": [
    {
     "name": "stdout",
     "output_type": "stream",
     "text": [
      "[3, 11, 23, 80, 97]\n",
      "[0, 13, 18, 43, 68]\n",
      "20.5 20.5 True\n",
      "\n"
     ]
    }
   ],
   "source": [
    "import random\n",
    "def solve(a, b):\n",
    "    def kth(a, b, k):\n",
    "        if len(a) > len(b): return kth(b, a, k)\n",
    "        if len(a) == 0: return b[k-1]\n",
    "        if k == 1: return min(a[0], b[0])\n",
    "\n",
    "        i = min(len(a), k//2)\n",
    "        j = k - i\n",
    "\n",
    "        if a[i-1] <= b[j-1]: return kth(a[i:], b[:j], k-i)\n",
    "        else: return kth(a[:i], b[j:], k-j)\n",
    "\n",
    "    n, m = len(a), len(b)\n",
    "    k1 = 1 + (n+m)//2\n",
    "    k2 = 1 + (n+m-1)//2\n",
    "\n",
    "    return 0.5*(kth(a, b, k1) + kth(a, b, k2))\n",
    "    \n",
    "for i in range(1):\n",
    "    a = sorted(random.sample(range(0,99), random.randint(0,10)))\n",
    "    b = sorted(random.sample(range(0,99), random.randint(0,10)))\n",
    "    print(a)\n",
    "    print(b)\n",
    "    c = sorted(a+b)\n",
    "    l = len(c)\n",
    "    ac = 0.5*(c[l//2] + c[(l-1)//2])\n",
    "    sc = solve(a, b)\n",
    "    print(ac, sc, ac==sc)\n",
    "    print()"
   ]
  },
  {
   "cell_type": "code",
   "execution_count": null,
   "metadata": {},
   "outputs": [],
   "source": []
  }
 ],
 "metadata": {
  "kernelspec": {
   "display_name": "Python 3",
   "language": "python",
   "name": "python3"
  },
  "language_info": {
   "codemirror_mode": {
    "name": "ipython",
    "version": 3
   },
   "file_extension": ".py",
   "mimetype": "text/x-python",
   "name": "python",
   "nbconvert_exporter": "python",
   "pygments_lexer": "ipython3",
   "version": "3.8.6"
  }
 },
 "nbformat": 4,
 "nbformat_minor": 4
}
