{
 "cells": [
  {
   "cell_type": "code",
   "execution_count": 2,
   "metadata": {},
   "outputs": [],
   "source": [
    "# 1. principal of optimality 2. optimal recursive substructure 3. recurring sub problems\n",
    "import sys\n",
    "INF = sys.maxsize"
   ]
  },
  {
   "cell_type": "code",
   "execution_count": 5,
   "metadata": {},
   "outputs": [
    {
     "name": "stdin",
     "output_type": "stream",
     "text": [
      " 4\n"
     ]
    },
    {
     "name": "stdout",
     "output_type": "stream",
     "text": [
      "16\n",
      "0\n"
     ]
    }
   ],
   "source": [
    "# Your task is to count the number of ways to construct sum n by throwing a dice one or more times. Each throw produces an outcome between 1 and 6. \n",
    "# here order does matter and this is simple\n",
    "sys.setrecursionlimit(10**3)\n",
    "n = int(input())\n",
    "\n",
    "#  this is wrong ----\n",
    "lis = [2,2,2,2]\n",
    "\n",
    "# classic recursion\n",
    "def rec(s):\n",
    "    if s == 0:\n",
    "        return 1\n",
    "    if s < 0:\n",
    "        return 0\n",
    "    c = 0\n",
    "    for i in lis:\n",
    "        c+= rec(s-i)\n",
    "    return c\n",
    "\n",
    "# def dp_t(s):\n",
    "#     dp = [0]*(s+1)\n",
    "#     for i in range(s+1):\n",
    "#         if i == 0:\n",
    "#             dp[i] = 1\n",
    "#         else:\n",
    "#             c = 0\n",
    "#             for j in lis:\n",
    "#                 if i-j > 0:\n",
    "#                     c+=dp[i-j]\n",
    "#             dp[i] = c\n",
    "#     print(dp[-1])\n",
    "\n",
    "# # complete memorization\n",
    "# dpm = [0]*(n+1)\n",
    "# def dp_m(s):\n",
    "#     if s == 0:\n",
    "#         dp[s] = 1\n",
    "#         return dp[s]\n",
    "#     if s < 0:\n",
    "#         return 0\n",
    "    \n",
    "# print(rec(n))\n",
    "# dp_t(n)\n",
    "# # print(dp_m(n, 0))\n",
    "# total no of ways to create s from subset of lis using element only once. Wrong\n",
    "dp = [0]*(s+1)\n",
    "for i in range(1,s+1):\n",
    "    for j in lis:\n",
    "        if i-j == 0:\n",
    "            dp[i] += 1\n",
    "        elif i-j>0:\n",
    "            dp[i] = dp[i-j]\n",
    "print(dp)\n",
    "# total no of ways to create s from subset of lis using element any number of times.\n",
    "dp = [0]*(s+1)\n",
    "dp[0] = 1\n",
    "for i in range(1,s+1):\n",
    "    for j in lis:\n",
    "        if i-j>=0:\n",
    "            dp[i]+=dp[i-j]\n",
    "print(dp)"
   ]
  },
  {
   "cell_type": "code",
   "execution_count": 1,
   "metadata": {},
   "outputs": [
    {
     "ename": "SyntaxError",
     "evalue": "invalid syntax (<ipython-input-1-6d9326fd9c10>, line 18)",
     "output_type": "error",
     "traceback": [
      "\u001b[1;36m  File \u001b[1;32m\"<ipython-input-1-6d9326fd9c10>\"\u001b[1;36m, line \u001b[1;32m18\u001b[0m\n\u001b[1;33m    for i in range()\u001b[0m\n\u001b[1;37m                    ^\u001b[0m\n\u001b[1;31mSyntaxError\u001b[0m\u001b[1;31m:\u001b[0m invalid syntax\n"
     ]
    }
   ],
   "source": [
    "# no of way to create sum s where order does'nt matter.\n",
    "\n",
    "# rec\n",
    "lis = (1,2,3)\n",
    "def sol(s, m):\n",
    "    if s == 0:\n",
    "        return 1\n",
    "    if s < 0:\n",
    "        return 0\n",
    "    if s>0 and m<0:\n",
    "        return 0\n",
    "    # kind of like knapsack, here you either choose mth element or never choose mth element.\n",
    "    return sol(s, m-1) + sol(s-lis[m], m)\n",
    "\n",
    "def solDP(s):\n",
    "    n = len(lis)\n",
    "    dp = [[0 for i in range(n)] for i in range(s+1)]\n",
    "    for i in range()\n",
    "    for i in range(s+1):\n",
    "        for j in range(n):\n",
    "            a = dp[i-lis[j]][j] if i-lis[j]>= 0 else 0\n",
    "            b = dp[i][j-1] if j>0\n",
    "s = 3\n",
    "# print(sol(s, 2))\n",
    "solDP(s)"
   ]
  },
  {
   "cell_type": "code",
   "execution_count": 31,
   "metadata": {},
   "outputs": [],
   "source": [
    "# conversion for string1 to string2\n",
    "import time\n",
    "\n",
    "s1 = 'abcdo'\n",
    "s2 = 'wxabu'\n",
    "\n",
    "#naive\n",
    "def minOp(str1, str2):\n",
    "    if len(str1) == 0:\n",
    "        return len(str2)\n",
    "    if len(str2) == 0:\n",
    "        return len(str1)\n",
    "    \n",
    "    if str1[-1] == str2[-1]:\n",
    "        return minOp(str1[:-1], str2[:-1])\n",
    "    else:\n",
    "        return 1+min(minOp(str1[:-1], str2), minOp(str1[:-1], str2[:-1]), minOp(str1, str2[:-1]))\n",
    "                    #   insertion             repalce                     deletion\n",
    "# dp\n",
    "def minOpDP(str1, str2):\n",
    "    DP = [[-1 for i in range(len(str2)+1)] for i in range(len(str1)+1)]\n",
    "    #print(DP_lis)\n",
    "    for i in range(len(str1)+1):\n",
    "        for j in range(len(str2)+1):\n",
    "            if i == 0:\n",
    "                DP[i][j] = j\n",
    "            elif j == 0:\n",
    "                DP[i][j] = i\n",
    "            elif str1[i-1] == str2[j-1]:\n",
    "                DP[i][j] = DP[i-1][j-1]\n",
    "            else:\n",
    "                DP[i][j] = 1+min(DP[i-1][j-1], DP[i-1][j], DP[i][j-1])\n",
    "    return DP[len(str1)][len(str2)]"
   ]
  },
  {
   "cell_type": "code",
   "execution_count": 32,
   "metadata": {},
   "outputs": [
    {
     "name": "stdout",
     "output_type": "stream",
     "text": [
      "5\n",
      "0.012553215026855469\n"
     ]
    }
   ],
   "source": [
    "t = time.time()\n",
    "print(minOp(s1, s2))\n",
    "print(time.time() - t)"
   ]
  },
  {
   "cell_type": "code",
   "execution_count": 33,
   "metadata": {},
   "outputs": [
    {
     "name": "stdout",
     "output_type": "stream",
     "text": [
      "5\n",
      "0.0010726451873779297\n"
     ]
    }
   ],
   "source": [
    "t = time.time()\n",
    "print(minOpDP(s1, s2))\n",
    "print(time.time() - t)"
   ]
  },
  {
   "cell_type": "code",
   "execution_count": 34,
   "metadata": {},
   "outputs": [],
   "source": [
    "# longest common subsequence\n",
    "\n",
    "#naive\n",
    "def LCS(s1, s2):\n",
    "    if len(s1) == 0 or len(s2) == 0:\n",
    "        return 0\n",
    "    if s1[-1] == s2[-1]:\n",
    "        return 1+LCS(s1[:-1], s2[:-1])\n",
    "    else:\n",
    "        return max(LCS(s1[:-1], s2), LCS(s1, s2[:-1]))\n",
    "    \n",
    "# DP\n",
    "def LCS_DP(s1, s2):\n",
    "    DP = [[None for i in range(len(s2)+1)] for i in range(len(s1)+1)]\n",
    "    for i in range(len(s1)+1):\n",
    "        for j in range(len(s2)+1):\n",
    "#             print(DP[0])\n",
    "#             print(DP[1])\n",
    "#             print()\n",
    "            if i == 0 or j == 0:\n",
    "                DP[i][j] = 0\n",
    "            elif s1[i-1] == s2[j-1]:\n",
    "                DP[i][j] = DP[i-1][j-1]+1\n",
    "            else:\n",
    "                DP[i][j] = max(DP[i-1][j], DP[i][j-1])\n",
    "    return DP[len(s1)][len(s2)]"
   ]
  },
  {
   "cell_type": "code",
   "execution_count": 35,
   "metadata": {},
   "outputs": [
    {
     "name": "stdout",
     "output_type": "stream",
     "text": [
      "result of LCS is 4 and LCS_DP is 4\n"
     ]
    }
   ],
   "source": [
    "s1 = \"AGGTAB\"\n",
    "s2 = \"GXTXAYB\"\n",
    "print(f\"result of LCS is {LCS(s1,s2)} and LCS_DP is {LCS_DP(s1,s2)}\")"
   ]
  },
  {
   "cell_type": "code",
   "execution_count": 3,
   "metadata": {},
   "outputs": [
    {
     "name": "stdout",
     "output_type": "stream",
     "text": [
      "4\n"
     ]
    }
   ],
   "source": [
    "# longest common substring\n",
    "\n",
    "def check(s1, s2, m, n):\n",
    "    value = 0\n",
    "    for i in range(min(len(s1)-m-1, len(s2)-n-1)):\n",
    "        if s1[i+m+1] == s2[i+n+1]:\n",
    "            value+=1\n",
    "        else:\n",
    "            break\n",
    "    return value\n",
    "\n",
    "def my(s1, s2):\n",
    "    maxx = []\n",
    "    for i in range(len(s1)):\n",
    "        value = 0\n",
    "        for j in range(len(s2)):\n",
    "            prev = 0\n",
    "            if s1[i] == s2[j]:\n",
    "                prev = check(s1, s2, i, j) + 1\n",
    "            if prev >= value:\n",
    "                value = prev\n",
    "        maxx.append(value)\n",
    "    print(max(maxx))\n",
    "    print(maxx)\n",
    "    \n",
    "# longest increasing subsequence non-contigous\n",
    "lis = [3,8,3,8,1,5,10,5,8,10]\n",
    "n = len(lis)\n",
    "dp = [1]*n\n",
    "for i in range(n):\n",
    "    for j in range(i):\n",
    "        if lis[i] > lis[j] and dp[i] < dp[j]+1:\n",
    "            dp[i] = dp[j]+1\n",
    "print(max(dp))"
   ]
  },
  {
   "cell_type": "code",
   "execution_count": 37,
   "metadata": {},
   "outputs": [
    {
     "name": "stdout",
     "output_type": "stream",
     "text": [
      "4\n",
      "[4, 3, 2, 1, 3, 2, 1]\n"
     ]
    }
   ],
   "source": [
    "s1 = \"abcdxyz\"\n",
    "s2 = \"xyzabcd\"\n",
    "my(s1, s2)"
   ]
  },
  {
   "cell_type": "code",
   "execution_count": 38,
   "metadata": {},
   "outputs": [],
   "source": [
    "# endless point matrix geeksforgeeks\n",
    "\n",
    "matrix  =  [[0, 1, 0],\n",
    "            [1, 1, 1],\n",
    "            [0, 1, 1]]\n",
    "\n",
    "def print_matrix(matrix):\n",
    "    for i in range(len(matrix)-1):\n",
    "        print(matrix[i][:-1])\n",
    "\n",
    "def EndLess(matrix):\n",
    "    endless = [[False for i in range(len(matrix[0]))] for i in range(len(matrix))]\n",
    "    for i in endless:\n",
    "        i.append(True)\n",
    "    endless.append([True for i in range(len(matrix[0])+1)])\n",
    "    row = len(matrix)\n",
    "    col = len(matrix[0])\n",
    "    i = row-1\n",
    "    while i>=0:\n",
    "        j = col-1\n",
    "        while j>=0:\n",
    "            if matrix[i][j] == 1 and endless[i+1][j] and endless[i][j+1]:\n",
    "                endless[i][j] = True\n",
    "            j-=1\n",
    "        i-=1\n",
    "    print_matrix(endless)"
   ]
  },
  {
   "cell_type": "code",
   "execution_count": 39,
   "metadata": {},
   "outputs": [
    {
     "name": "stdout",
     "output_type": "stream",
     "text": [
      "[False, False, False]\n",
      "[False, True, True]\n",
      "[False, True, True]\n"
     ]
    }
   ],
   "source": [
    "EndLess(matrix)"
   ]
  },
  {
   "cell_type": "code",
   "execution_count": 40,
   "metadata": {},
   "outputs": [],
   "source": [
    "# Stern’s Diatomic Series\n",
    "\n",
    "#naive\n",
    "def stern(n):\n",
    "    if n == 1:\n",
    "        return 1\n",
    "    if n == 0:\n",
    "        return 0\n",
    "    \n",
    "    if n%2 == 0:\n",
    "        return stern(n/2)\n",
    "    else:\n",
    "        return stern((n+1)/2) + stern((n-1)/2)\n",
    "    \n",
    "# DP\n",
    "def stern_DP(n):\n",
    "    p = [0, 1]\n",
    "    for i in range(2,n+1):\n",
    "        if (i)%2 == 0:\n",
    "            p.append(p[int(i/2)])\n",
    "        else:\n",
    "            p.append(p[int((i+1)/2)] + p[int((i-1)/2)])\n",
    "    print(p[n])\n"
   ]
  },
  {
   "cell_type": "code",
   "execution_count": 41,
   "metadata": {},
   "outputs": [
    {
     "name": "stdout",
     "output_type": "stream",
     "text": [
      "5\n"
     ]
    }
   ],
   "source": [
    "# 0, 1, 1, 2, 1, 3, 2, 3, 1, 4, 3, 5, 2, 5, 3, 4\n",
    "stern_DP(13)"
   ]
  },
  {
   "cell_type": "code",
   "execution_count": 42,
   "metadata": {},
   "outputs": [],
   "source": [
    "# Super Ugly Number\n",
    "\n",
    "def SUN(n, lis):\n",
    "    prime = []\n",
    "    new_lis = [1]\n",
    "    for i in lis:\n",
    "        new_lis.append(i)\n",
    "        \n",
    "    l = len(new_lis)\n",
    "    x = 1\n",
    "    while l<=n:\n",
    "        for i in range(1, l):\n",
    "            for j in range(x+i-1, l):\n",
    "                #print(new_lis)\n",
    "                #print(i, j, new_lis[i], new_lis[j], new_lis[i]*new_lis[j])\n",
    "                new_lis.append(new_lis[i]*new_lis[j])\n",
    "        x += l-1\n",
    "        l = len(new_lis)\n",
    "    new_lis.sort()\n",
    "    print(new_lis)\n",
    "\n",
    "# INCOMPLETE\n",
    "# https://www.geeksforgeeks.org/super-ugly-number-number-whose-prime-factors-given-set/"
   ]
  },
  {
   "cell_type": "code",
   "execution_count": 43,
   "metadata": {},
   "outputs": [
    {
     "name": "stdout",
     "output_type": "stream",
     "text": [
      "[1, 2, 3, 4, 5, 6, 8, 9, 10, 12, 15, 18, 18, 20, 25, 27, 30, 30, 36, 45, 45, 50, 50, 60, 75, 75, 90, 100, 125, 150, 250]\n"
     ]
    }
   ],
   "source": [
    "SUN(16, [2,3,5])"
   ]
  },
  {
   "cell_type": "code",
   "execution_count": null,
   "metadata": {},
   "outputs": [],
   "source": [
    "# Dynamic Programming Python implementation of Min Cost Path \n",
    "# problem \n",
    "R = 3\n",
    "C = 3\n",
    "  \n",
    "def minCost(cost, m, n): \n",
    "  \n",
    "    # Instead of following line, we can use int tc[m+1][n+1] or \n",
    "    # dynamically allocate memoery to save space. The following \n",
    "    # line is used to keep te program simple and make it working \n",
    "    # on all compilers. \n",
    "    tc = [[0 for x in range(C)] for x in range(R)] \n",
    "  \n",
    "    tc[0][0] = cost[0][0] \n",
    "  \n",
    "    # Initialize first column of total cost(tc) array \n",
    "    for i in range(1, m+1): \n",
    "        tc[i][0] = tc[i-1][0] + cost[i][0] \n",
    "    # Initialize first row of tc array \n",
    "    for j in range(1, n+1): \n",
    "        tc[0][j] = tc[0][j-1] + cost[0][j] \n",
    "    \n",
    "    for i in tc:\n",
    "        print(i)\n",
    "    # Construct rest of the tc array \n",
    "    for i in range(1, m+1): \n",
    "        for j in range(1, n+1): \n",
    "            print(tc[i-1][j-1], tc[i-1][j], tc[i][j-1], cost[i][j])\n",
    "            tc[i][j] = min(tc[i-1][j-1], tc[i-1][j], tc[i][j-1]) + cost[i][j] \n",
    "            print(tc)\n",
    "    return tc[m][n] \n",
    "  \n",
    "# Driver program to test above functions \n",
    "cost = [[1, 2, 3], \n",
    "        [4, 8, 2], \n",
    "        [1, 5, 3]] \n",
    "print(minCost(cost, 2, 2)) "
   ]
  },
  {
   "cell_type": "code",
   "execution_count": 44,
   "metadata": {},
   "outputs": [],
   "source": [
    "# knapsack problem\n",
    "\"\"\"\n",
    "To consider all subsets of items, there can be two cases for every item: (1) the item is included in the optimal subset, (2) not included in the optimal set.\n",
    "Therefore, the maximum value that can be obtained from n items is max of following two values.\n",
    "1) Maximum value obtained by n-1 items and W weight (excluding nth item).\n",
    "2) Value of nth item plus maximum value obtained by n-1 items and W minus weight of the nth item (including nth item).\n",
    "\n",
    "If weight of nth item is greater than W, then the nth item cannot be included and case 1 is the only possibility.\n",
    "\"\"\"\n",
    "value  = [1,2,3,4,2,6,7,8,9,1,3,7,5]\n",
    "weight = [3,4,5,6,7,8,9,1,4,7,9,5,2]\n",
    "\n",
    "# naive\n",
    "def knapsack(value, weight, W, n):\n",
    "    if n==0 or W==0:\n",
    "        return 0\n",
    "    \n",
    "    if weight[n-1] > W:\n",
    "        return knapsack(value, weight, W, n-1)\n",
    "    else:\n",
    "        return max(knapsack(value, weight, W, n-1), value[n-1]+knapsack(value, weight, W-weight[n-1], n-1))\n",
    "\n",
    "# DP\n",
    "def knapsack_DP(value, weight, W, n):\n",
    "    sack =[[None for i in range(W+1)] for i in range(n+1)]\n",
    "    # sack[i][w]\n",
    "    for i in range(n+1):\n",
    "        for w in range(W+1):\n",
    "            if i==0 or w==0:\n",
    "                sack[i][w] = 0\n",
    "            elif weight[i-1]>w:\n",
    "                sack[i][w] = sack[i-1][w]\n",
    "            else:\n",
    "                sack[i][w] = max(sack[i-1][w], value[i-1]+sack[i-1][w-weight[i-1]]) \n",
    "    return sack[n][W]"
   ]
  },
  {
   "cell_type": "code",
   "execution_count": 45,
   "metadata": {},
   "outputs": [
    {
     "name": "stdout",
     "output_type": "stream",
     "text": [
      "24\n",
      "24\n"
     ]
    }
   ],
   "source": [
    "print(knapsack_DP(value, weight, 10, 13))\n",
    "print(knapsack(value, weight, 10, 13))"
   ]
  },
  {
   "cell_type": "code",
   "execution_count": 46,
   "metadata": {},
   "outputs": [],
   "source": [
    "#long increasing subsequence, contigous.\n",
    "seq = (1,2,3,4,2,-3,-4,-7,-2,-3,-4,5,1,3)\n",
    "\n",
    "def LISC(seq):\n",
    "    maxx = 0\n",
    "    n = 1\n",
    "    m = 0\n",
    "    for i in range(len(seq)):\n",
    "        if seq[i]>maxx:\n",
    "            maxx = seq[i]\n",
    "            n+=1\n",
    "            if n>m:\n",
    "                m = n\n",
    "        else:\n",
    "            n = 1\n",
    "            maxx = seq[i]\n",
    "    print(m)\n",
    "    \n",
    "# this might be wrong.....\n",
    "# largest sum subsequence, contigous.\n",
    "def LSSC(seq):\n",
    "    maxx = 0\n",
    "    summ = seq[0]\n",
    "    m = 0\n",
    "    for i in range(len(seq)):\n",
    "        summ += seq[i]\n",
    "        maxx = max(summ, seq[i])\n",
    "        m = max(maxx, m)\n",
    "    print(m)"
   ]
  },
  {
   "cell_type": "code",
   "execution_count": 47,
   "metadata": {},
   "outputs": [
    {
     "name": "stdout",
     "output_type": "stream",
     "text": [
      "5\n",
      "12\n"
     ]
    }
   ],
   "source": [
    "LISC(seq)\n",
    "LSSC(seq)"
   ]
  },
  {
   "cell_type": "code",
   "execution_count": 4,
   "metadata": {},
   "outputs": [],
   "source": [
    "# longest palindrome detection\n",
    "\n",
    "s = 'abbcccbbbcaaccbababcbcabca'\n",
    "\n",
    "def LPD(s):\n",
    "    l = len(s)\n",
    "    max_value = 0\n",
    "    for i in range(l):\n",
    "        value1 = 1  # odd, because center one will be not counted so already 1\n",
    "        value2 = 0  # even, no center\n",
    "        # this loop detects odd length palindromes\n",
    "        for j in range(1,i+1):\n",
    "            if (i-j>=0) and (i+j<l):\n",
    "                if s[i-j] == s[i+j]:\n",
    "                    value1+=2\n",
    "                else:\n",
    "                    break\n",
    "        # this loop detects even length palindromes\n",
    "        for j in range(1,i+1):\n",
    "            if (i-j>=0) and (i+j<l):\n",
    "                if s[i-j+1] == s[i+j]:\n",
    "                    value2+=2\n",
    "                else:\n",
    "                    break\n",
    "\n",
    "        max_value = max(max_value, value1, value2)\n",
    "    print(max_value)"
   ]
  },
  {
   "cell_type": "code",
   "execution_count": 5,
   "metadata": {},
   "outputs": [
    {
     "name": "stdout",
     "output_type": "stream",
     "text": [
      "7\n"
     ]
    }
   ],
   "source": [
    "LPD(s)"
   ]
  },
  {
   "cell_type": "code",
   "execution_count": 50,
   "metadata": {},
   "outputs": [],
   "source": [
    "# Eulaerian number\n",
    "\n",
    "#naive\n",
    "def EulaerianNumber(n, m):\n",
    "    if m>n:\n",
    "        return 0\n",
    "    elif m == 0:\n",
    "        return 1\n",
    "    else:\n",
    "        return (n-m)*EulaerianNumber(n-1, m-1)+(m+1)*EulaerianNumber(n-1, m)\n",
    "    \n",
    "def A_dp(n, m):\n",
    "    dp = [[-1 for i in range(m+1)] for j in range(n+1)]\n",
    "    for i in range(n+1):\n",
    "        for j in range(m+1):\n",
    "            if j == 0:\n",
    "                dp[i][j] = 1\n",
    "            elif j>i:\n",
    "                dp[i][j] = 0\n",
    "            else:\n",
    "                dp[i][j] = (i-j)*dp[i-1][j-1]+(j+1)*dp[i-1][j]\n",
    "    return dp[n][m]"
   ]
  },
  {
   "cell_type": "code",
   "execution_count": 51,
   "metadata": {},
   "outputs": [
    {
     "name": "stdout",
     "output_type": "stream",
     "text": [
      "302\n",
      "302\n"
     ]
    }
   ],
   "source": [
    "print(EulaerianNumber(6,3))\n",
    "print(A_dp(6,3))"
   ]
  },
  {
   "cell_type": "code",
   "execution_count": 52,
   "metadata": {},
   "outputs": [],
   "source": [
    "# Salesman problem.\n",
    "# this is NP hard and time complexity is O(n^2 * 2^n)\n",
    "\n",
    "def dist(j, i, graph):\n",
    "    for x in graph[j]:\n",
    "        if x[0] == i:\n",
    "            return x[1]\n",
    "        else:\n",
    "            return INF\n",
    "\n",
    "def salesman(graph):\n",
    "    s = []\n",
    "    cost = [[0 for i in len(graph)] for j in range(len(graph))]\n",
    "    for i in range(len(graph)):\n",
    "        s.append(i)\n",
    "        for j in range(1, len(graph)):\n",
    "            if len(s) == 1:\n",
    "                cost[i][j] = 0\n",
    "            elif i == j:\n",
    "                pass\n",
    "            else:\n",
    "                cost[i][j] = min(cost[i-1][j] + graph[j])\n",
    "                \n",
    "# INCOMPLETE"
   ]
  },
  {
   "cell_type": "code",
   "execution_count": 53,
   "metadata": {},
   "outputs": [],
   "source": [
    "# egg drop problem\n",
    "'''\n",
    "1) If the egg breaks after dropping from xth floor, then we only need to check for floors lower than x \n",
    "with remaining eggs; so the problem reduces to x-1 floors and n-1 eggs\n",
    "2) If the egg doesn’t break after dropping from the xth floor, then we only need to check for floors higher \n",
    "than x; so the problem reduces to k-x floors and n eggs.\n",
    "'''\n",
    "\n",
    "def summ(total):\n",
    "    s = 0\n",
    "    count = 0\n",
    "    while s<total:\n",
    "        count+=1\n",
    "        s += count\n",
    "    return count\n",
    "\n",
    "# naive\n",
    "def eggDrop(levels, eggs):\n",
    "    if eggs == 1:\n",
    "        return levels\n",
    "    elif eggs == 2:\n",
    "        return summ(levels)\n",
    "    elif levels == 1 or levels == 0:\n",
    "        return levels\n",
    "    else:\n",
    "        z = INF\n",
    "        for x in range(1,levels+1):\n",
    "            z = min(z, max(eggDrop(x-1, eggs-1), eggDrop(levels-x, eggs)))\n",
    "        return 1+z\n",
    "    \n",
    "#dp\n",
    "def eggDrop_dp(levels, eggs):\n",
    "    dp = [[0 for i in range(levels+1)] for j in range(eggs+1)]\n",
    "    for i in range(eggs+1):\n",
    "        for j in range(levels+1):\n",
    "            if i == 0:\n",
    "                dp[i][j] = -1\n",
    "            elif i == 1:\n",
    "                dp[i][j] = j\n",
    "            elif j == 0 or j == 1:\n",
    "                dp[i][j] = j\n",
    "            else:\n",
    "                dp[i][j] = INF\n",
    "                for x in range(1, j+1):\n",
    "                    dp[i][j] = min(dp[i][j], 1+max(dp[i-1][x-1], dp[i][j-x]))    \n",
    "    for i in dp:\n",
    "        print(i)\n",
    "    return dp[eggs][levels]"
   ]
  },
  {
   "cell_type": "code",
   "execution_count": 54,
   "metadata": {},
   "outputs": [
    {
     "name": "stdout",
     "output_type": "stream",
     "text": [
      "[-1, -1, -1, -1, -1, -1, -1, -1, -1, -1, -1, -1, -1, -1, -1, -1, -1, -1, -1, -1, -1, -1]\n",
      "[0, 1, 2, 3, 4, 5, 6, 7, 8, 9, 10, 11, 12, 13, 14, 15, 16, 17, 18, 19, 20, 21]\n",
      "[0, 1, 2, 2, 3, 3, 3, 4, 4, 4, 4, 5, 5, 5, 5, 5, 6, 6, 6, 6, 6, 6]\n",
      "[0, 1, 2, 2, 3, 3, 3, 3, 4, 4, 4, 4, 4, 4, 4, 5, 5, 5, 5, 5, 5, 5]\n",
      "5\n"
     ]
    }
   ],
   "source": [
    "#print(eggDrop(10, 3))\n",
    "print(eggDrop_dp(21, 3))"
   ]
  },
  {
   "cell_type": "code",
   "execution_count": 55,
   "metadata": {},
   "outputs": [],
   "source": [
    "# no of paths\n",
    "# https://www.geeksforgeeks.org/count-number-of-paths-with-k-turns/\n",
    "# naive \n",
    "def f(m, n, k, d):\n",
    "    if k == 1:\n",
    "        return 1\n",
    "    elif d == 0 and n == 1:\n",
    "        return 1\n",
    "    elif d == 1 and m == 1:\n",
    "        return 1\n",
    "    elif d == 0 and m == 1:\n",
    "        return 0\n",
    "    elif d == 1 and n == 1:\n",
    "        return 0\n",
    "    else:\n",
    "        if d == 1:\n",
    "            return f(m, n-1, k, 1)+f(m, n-1, k-1, 0)\n",
    "        else:\n",
    "            return f(m-1, n, k, 0)+f(m-1, n, k-1, 1)\n",
    "        "
   ]
  },
  {
   "cell_type": "code",
   "execution_count": 56,
   "metadata": {},
   "outputs": [
    {
     "data": {
      "text/plain": [
       "19"
      ]
     },
     "execution_count": 56,
     "metadata": {},
     "output_type": "execute_result"
    }
   ],
   "source": [
    "f(4,5,3,1)+f(4,5,3,0)"
   ]
  },
  {
   "cell_type": "code",
   "execution_count": 57,
   "metadata": {},
   "outputs": [],
   "source": [
    "def ncr(n,r):\n",
    "    dp = [[-1 for i in range(r+1)] for j in range(n+1)]\n",
    "    for i in range(n+1):\n",
    "        for j in range(r+1):\n",
    "            if i == 0:\n",
    "                dp[i][j] = 0\n",
    "            elif j == 0:\n",
    "                dp[i][j] = 1\n",
    "            elif i==1 and j==1:\n",
    "                dp[i][j] = 1\n",
    "            else:\n",
    "                dp[i][j] = dp[i-1][j-1] + dp[i-1][j]\n",
    "    return dp[n][r]"
   ]
  },
  {
   "cell_type": "code",
   "execution_count": 58,
   "metadata": {},
   "outputs": [],
   "source": [
    "def count(n):\n",
    "    if n == 1:\n",
    "        print(1)\n",
    "    elif n == 2:\n",
    "        print(1)\n",
    "    else:\n",
    "        m = ncr(n-1, 2)\n",
    "        value = 0\n",
    "        for i in range(m+1):\n",
    "            value += ncr(m, i)*(2**(i+1)-1)\n",
    "    print(value%663224321)"
   ]
  },
  {
   "cell_type": "code",
   "execution_count": 59,
   "metadata": {},
   "outputs": [
    {
     "name": "stdout",
     "output_type": "stream",
     "text": [
      "200350507\n"
     ]
    }
   ],
   "source": [
    "count(10)"
   ]
  },
  {
   "cell_type": "code",
   "execution_count": 60,
   "metadata": {},
   "outputs": [],
   "source": [
    "# check below...\n",
    "\n",
    "def check(a, b, count):\n",
    "    dif = b-a\n",
    "    #print(dif)\n",
    "    if dif == 0:\n",
    "        return 0, count\n",
    "    elif dif%10 == 8:\n",
    "        dif, count = check(a+3, b, count)\n",
    "        dif += 3\n",
    "        count +=2\n",
    "    elif dif%10 == 6:\n",
    "        dif, count = check(a+1, b, count)\n",
    "        dif += 1\n",
    "        count +=1\n",
    "    elif dif%5 == 0:\n",
    "        count += dif//5\n",
    "    elif dif%2 == 0:\n",
    "        a+=2\n",
    "        dif, count = check(a, b, count)\n",
    "        count+=1\n",
    "        dif += 2\n",
    "    else:\n",
    "        a+=1\n",
    "        dif, count = check(a, b, count)\n",
    "        count+=1\n",
    "        dif += 1\n",
    "    return dif, count\n",
    "\n",
    "def main(l):\n",
    "    maxx = max(l)\n",
    "    get_min = min(l)\n",
    "    get_min_index = l.index(get_min)\n",
    "    count_total = 0\n",
    "    while(any(0 if l[0]-i == 0 else 1 for i in l)):\n",
    "        #print(l)\n",
    "        maxx = max(l)\n",
    "        min_diff = 0\n",
    "        minn = 1000000\n",
    "        maxx_index = l.index(maxx)\n",
    "        for i in range(len(l)):\n",
    "            #print(f\"index {maxx_index}\")\n",
    "            if i == maxx_index:\n",
    "                continue\n",
    "            else:\n",
    "                count = 0\n",
    "                dif, count = check(l[i], maxx, count)\n",
    "                if minn>=count and dif > 0:\n",
    "                    minn = count\n",
    "                    min_diff = dif\n",
    "        count_total += minn\n",
    "        for i in range(len(l)):\n",
    "            #print(maxx_index,1111)\n",
    "            if i == maxx_index:\n",
    "                continue\n",
    "            else:\n",
    "                l[i] += min_diff\n",
    "    return count_total"
   ]
  },
  {
   "cell_type": "code",
   "execution_count": 61,
   "metadata": {},
   "outputs": [],
   "source": [
    "lis = \"259 454 467 674 1803 765 130 170 794 470 436 502 666 294 646 755 803 160 684 410 133 23 298 902 538 423 986 47 693 207 151 304 14 970 979 817 736 461 339 530 931 775 384 598 70 383 705 873 543 742 635 29 765 285 931 655 709 917 702 402 477 206 59 491 176 38 660 912 499 0 795 431 775 531 29 197 914 86 70 810 828 57 839 594 343 122 601 404 391 304 158 868 862 217 711 38 255 372 303 755 372 450 538 499 333 919 697 248 5 119 58 834 529 249 780 872 371 381 276 762 37 786 631 899 4 694 290 259 66 945 366 790 395 256 642 728 175 691 328 181 810 738 367 691 987 147 563 358 880 191 473 918 978 456 169 982 150 459 593 569 404 312 359 151 568 353 232 744 44 560 277 207 651 644 898 638 791 814 349 23 5 822 293 335 278 463 669 780 274 263 349 31 927 61 182 847 414 766 591 811 679 868 18 330 864 268 968 655 82 669 31 88 491 324 775 121 139 445 902 414 60 251 445 987 664 979 186 79 746 130 890 425 350 260 107 215 528 75 222 611 97 253 51 588 578 826 62 717 623 964 483 683 567 928 22 232 260 209 663 358 339 905 135 689 165 242 904 693 669 127 656 766 732 707 355 662 886 769 380 509 733 215 545 652 144 567 236 756 128 899 114 467 804 601 509 321 843 413 367 512 892 23 279 977 83 986 639 969 755 19 830 840 235 375 492 731 943 81 839 71 980 305 891 137 906 400 458 101 165 177 613 410 201 244 387 284 582 26 605 689 398 435 529 985 163 374 68 458 455 259 529 787 564 772 924 822 524 735 923 690 912 888 452 465 485 191 749 67 217 706 757 967 494 638 304 657 12 372 115 467 631 996 255 547 121 531 369 645 266 644 687 531 533 139 996 18 330 98 437 900 804 194 219 650 833 524 307 197 248 774 17 232 771 624 131 892 155 501 537 774 497 577 657 30 716 653 400 399 103 838 651 260 384 222 910 569 98 570 119 347 344 136 931 115 760 62 359 267 915 249 41 413 826 698 795 542 704 196 293 159 386 296 419 122 519 682 44 617 252 163 316 596 299 247 712 411 662 423 678 577 672 72 342 498 770 138 393 826 686 686 986 424 983 757 546 502 439 942 471 691 105 788 288 756 35 352 167 697 775 198 627 448 270 321 946 392 811 339 219 497 378 557 273 361 314 172 215 754 114 686 797 220 474 85 328 862 437 496 911 565 694 890 13 964 212 311 356 375 3 927 873 381 484 498 94 151 670 661 257 785 699 54 357 526 492 685 388 281 181 651 846 227 894 211 543 106 523 252 833 878 531 58 259 368 557 705 519 227 718 128 12 417 182 369 943 674 407 683 956 588 687 802 168 581 366 711 39 889 315 872 119 847 931 730 215 488 435 86 67 153 214 80 922 396 801 218 423 208 253 379 149 940 533 669 521 899 732 560 140 48 785 259 895 716 989 462 556 776 548 623 281 762 703 204 510 857 774 933 417 27 664 918 968 550 587 841 801 320 754 294 720 539 905 967 255 247 429 811 23 329 434 657 443 490 213 305 699 987 591 468 14 255 387 334 157 326 176 311 646 930 605 718 469 510 685 76 757 114 887 133 795 673 790 238 515 355 896 566 342 487 35 708 94 422 43 252 100 219 563 747 149 520 817 970 30 503 46 140 969 285 273 765 958 415 355 826 770 251 392 464 738 427 172 833 201 567 437 302 786 352 401 287 872 218 257 254 73 303 394 43 588 19 808 899 434 515 77 556 767 469 372 857 249 897 690 802 464 479 456 603 831 209 890 55 428 148 310 501 803 704 896 744 724 704 995 510 572 72 419 339 893 791 548 494 688 591 297 505 70 753 108 254 963 350 309 743 850 619 596 654 676 493 398 400 549 745 910 473 817 681 812 710 473 361 205 513 304 854 18 374 959 478 628 274 829 290 17 679 261 966 685 937 811 435 337 712 180 600 186 997 281 350 60 106 63 265 972 367 119 990 94 430 821 74 705 2 364 722 681 626 40 367 563 203 154 253 916 335 205 454 332 838 804 744 945 868 9 269 587 480 611 681 911 432 756 616 434 120 690 468 98 83 187 14 286 341 267 554 676 824 8 361 662 165 105 959 33 467 228 972 299 840 654 562 624 762 530 59 882 573 879 333 8 66 347 294 407 966 201 436 142 209 149 804 374 254 116 759 73 696 732 725 888 738 639 513 500 170 924 734 95 803 67 103 221 766 749 628 84 950 416 226 160 565 383 886 820 851 646 245 547 730 322 788 468 962 301 320 484 577 54 579 732 474 682 953 592 431 581 677 382 998 255 894 915 638 780 87 489 778 333 389 860 655 177 680 969 830 0 453 407 407 32 139 233 66 444 825 498 377 854 232 375 110 478 643 100 610 730 590 389 63 979 601 71 508 282 40 338 634 494 745 41 878 236 626 945 680 804 795 57 658 27 785 120 857 428 221 467 158 811 208 574 142 810 997 650 92 389 988 78 235 85 472 114 673 98 59 705 902 854 114 913 233 251 33 442 31 606 909 542 417 118 468 911 280 465 913 724 854 253 802 90 690 274 556 363 725 615 420 627 821 535 892 406 786 278 848 818 884 109 712 302 227 180 565 859 645 479 583 851 84 386 293 775 12 849 138 737 464 559 717 637 446 609 395 584 887 595 754 772 705 466 426 284 646 343 144 643 174 727 495 259 465 788 34 478 990 524 567 454 435 284 444 233 246 191 818 485 787 572 257 492 39 35 128 37 379 272 33 905 352 528 164 169 668 550 647 658 427 567 465 862 851 261 448 97 452 266 583 239 838 192 83 229 580 212 619 311 836 652 216 540 532 381 710 552 283 709 563 710 276 380 925 480 641 373 929 445 639 864 37 829 57 120 411 989 684 382 300 521 34 516 413 918 249 123 470 533 833 385 243 461 765 168 941 758 541 871 204 532 735 241 362 144 713 125 133 398 507 433 271 541 302 684 811 551 160 633 84 345 19 328 806 136 496 748 895 390 971 451 922 58 44 636 203 757 761 336 507 268 122 778 161 424 815 972 327 975 606 412 320 625 740 478 113 588 578 360 330 549 811 253 608 855 241 163 965 3 851 472 271 973 603 433 749 418 405 77 745 363 841 417 340 581 895 454 521 474 814 204 375 978 809 335 185 50 498 150 53 350 975 677 675 930 110 425 700 867 854 445 231 695 862 923 628 109 377 501 935 192 705 311 522 514 646 707 917 145 210 970 847 185 647 522 115 109 299 815 329 153 612 912 200 826 835 828 935 213 682 223 757 387 534 631 254 532 338 171 29 548 493 876 85 493 751 552 954 50 719 283 204 331 547 756 509 383 585 445 948 619 20 57 358 554 688 612 438 378 135 468 279 981 696 364 474 447 269 780 498 988 416 54 672 963 810 181 698 747 978 998 366 998 55 725 904 95 689 343 826 177 163 105 158 211 821 632 659 90 412 509 79 828 915 751 144 725 284 842 825 263 841 543 261 248 268 166 696 310 861 522 487 24 979 645 235 800 629 246 891 393 107 322 574 22 425 718 100 709 912 925 972 105 820 586 706 441 104 754 751 965 628 590 341 607 235 576 407 216 175 650 609 282 972 535 305 397 605 757 107 518 34 431 975 854 369 33 295 473 787 46 438 415 636 779 22 223 708 782 791 235 432 753 517 757 288 174 154 894 283 613 764 317 397 91 172 766 125 819 240 912 866 30 328 854 162 702 430 222 484 221 457 269 974 326 26 615 853 180 861 488 146 625 806 543 716 330 309 193 149 901 106 367 932 786 574 446 488 4 668 973 577 477 242 904 155 620 871 360 800 732 849 298 709 655 841 425 337 503 971 486 404 77 854 688 863 780 486 703 136 506 676 713 983 270 969 491 890 840 851 43 572 700 341 281 707 535 59 44 38 382 883 794 459 89 835 674 869 321 377 5 180 406 70 515 28 392 6 271 584 858 314 157 910 7 790 970 542 201 14 932 583 249 79 394 338 914 68 207 587 798 564 767 204 987 635 232 379 641 503 963 851 169 472 114 529 615 84 423 168 450 708 104 700 787 498 38 53 919 598 992 717 162 112 921 149 747 505 880 388 361 844 592 882 668 706 411 283 790 187 452 240 895 556 940 682 406 331 87 325 929 79 394 91 191 667 593 938 173 473 679 886 317 271 768 338 977 180 621 119 719 425 711 614 333 4 648 740 335 735 417 264 814 812 707 358 479 300 296 4 774 327 890 443 598 659 781 927 191 755 398 910 180 110 876 514 114 524 606 449 259 23 65 425 835 772 783 667 73 432 671 199 111 914 994 62 573 128 989 116 883 388 26 415 850 902 929 964 778 535 765 37 911 830 814 98 954 950 765 379 382 789 578 845 703 925 907 628 53 897 744 288 637 122 703 839 24 985 155 154 872 920 191 783 102 357 882 56 307 999 436 41 140 366 887 195 291 794 823 696 43 567 336 32 689 40 871 65 25 26 571 897 946 762 681 400 472 915 457 779 266 245 821 407 611 60 602 255 854 426 303 898 345 640 930 387 32 154 804 57 180 376 306 479 490 339 879 962 254 688 94 873 933 267 280 897 327 234 504 181 12 159 431 710 799 714 97 183 868 253 240 400 629 899 879 472 238 111 786 845 799 880 718 85 147 350 334 826 584 838 360 949 349 791 659 501 857 108 684 725 361 925 478 343 824 709 167 414 820 953 259 972 186 329 409 333 679 743 512 616 933 872 565 282 663 576 783 521 684 468 598 45 745 428 740 921 138 907 687 310 861 947 282 47 276 691 732 308 786 244 924 71 116 841 354 132 417 489 5 101 309 955 498 406 384 239 679 522 498 367 832 359 314 467 758 942 510 843 250 297 87 526 368 556 367 74 688 136 916 693 589 577 0 88 984 384 679 15 258 177 382 91 889 48 910 999 991 420 842 593 717 282 472 438 190 191 512 878 328 780 923 917 358 275 357 694 660 36 709 918 566 92 361 807 140 271 158 483 692 1 429 761 635 901 199 825 444 64 55 772 844 330 42 554 605 399 248 617 788 958 536 706 402 249 513 894 521 671 730 213 24 159 974 11 412 526 188 208 590 595 981 786 925 23 341 883 774 941 852 562 899 388 268 653 990 133 548 511 805 278 76 181 789 50 193 553 928 733 761 518 329 94 657 606 469 350 489 244 291 342 158 543 82 427 196 72 912 744 935 69 374 11 251 515 414 796 420 342 529 534 213 858 628 870 465 98 220 306 694 511 0 852 54 435 631 603 859 544 699 795 613 426 806 864 941 220 12 714 915 894 248 128 104 876 350 921 326 922 228 20 785 580 225 192 15 856 795 875 400 846 22 366 272 828 582 214 401 595 280 668 841 528 796 945 756 498 867 435 772 447 807 557 379 32 749 395 241 896 622 641 743 644 359 15 824 942 581 577 537 213 245 730 741 393 675 850 891 894 285 15 341 92 573 721 477 674 468 718 923 442 711 666 438 71 33 262 13 967 192 902 180 437 632 922 831 307 124 74 202 409 90 895 501 15 968 330 689 436 48 612 230 760 630 668 831 16 283 844 983 475 98 163 912 730 437 95 389 561 522 591 970 964 839 824 979 807 506 20 596 555 985 826 315 615 847 498 631 130 694 966 605 792 130 869 522 919 965 911 481 839 855 803 803 46 979 134 205 486 154 153 41 491 332 708 107 179 558 90 309 252 57 266 44 539 135 918 458 452 181 291 643 388 95 446 434 426 932 640 912 87 145 305 930 477 13 37 656 571 480 317 175 889 583 571 780 71 489 238 875 23 530 519 411 977 965 198 403 898 190 668 337 335 973 267 813 339 657 821 262 489 139 438 730 74 9 510 145 851 748 21 874 630 892 637 959 209 835 715 107 25 383 796 713 708 416 526 47 425 347 662 914 838 100 644 913 461 506 410 664 606 783 890 237 675 528 548 885 715 263 344 93 998 493 806 707 909 684 754 686 31 416 600 870 868 596 135 682 102 545 346 708 329 589 297 4 117 198 241 184 461 586 277 460 79 435 167 340 119 273 26 151 42 978 373 910 926 860 944 28 405 643 88 734 232 738 91 701 936 684 885 749 270 515 561 701 950 80 41 70 354 419 573 748 397 298 10 323 158 955 703 563 598 144 650 830 882 93 531 170 777 768 919 400 283 481 101 234 561 495 656 267 266 581 15 16 879 26 339 37 981 395 952 931 539 954 761 773 47 644 943 177 412 862 577 696 695 30 282 257 877 290 876 144 871 892 160 750 270 851 139 251 246 91 182 137 398 295 910 445 939 853 974 351 68 551 399 763 934 681 372 811 971 249 955 842 141 115 944 411 319 83 14 565 527 548 703 925 843 965 722 782 171 49 485 239 600 885 354 886 918 79 698 890 328 5 84 821 473 381 584 792 816 950 357 695 498 412 972 693 730 47 827 901 96 312 492 696 549 198 935 468 277 633 710 605 638 146 778 111 527 362 903 344 312 613 391 162 377 364 207 107 411 34 360 507 699 204 555 248 403 490 68 32 475 778 990 114 925 768 225 804 483 481 500 147 446 892 662 823 256 869 283 19 904 995 878 955 200 433 203 955 276 272 339 751 402 329 865 327 450 443 132 285 276 984 432 722 876 446 897 484 316 532 503 572 528 733 527 80 167 82 387 795 706 726 546 109 408 764 436 210 559 920 495 835 257 279 909 133 726 806 970 394 691 825 318 219 559 845 651 726 279 390 521 986 468 419 95 876 183 883 86 742 156 933 929 413 213 190 546 291 349 868 37 40 694 355 611 253 552 262 331 831 4 204 817 472 623 264 701 159 148 139 253 304 73 183 69 638 725 967 281 74 836 318 114 530 25 725 783 577 339 466 760 343 670 930 816 293 194 869 452 694 8 58 350 81 593 419 71 318 387 352 393 575 22 507 105 47 585 240 976 924 706 737 620 376 19 788 21 565 657 826 260 665 884 962 99 477 382 170 795 121 875 188 696 897 48 153 945 633 745 273 909 451 362 529 179 381 669 200 947 326 378 559 992 262 521 443 91 255 613 239 728 488 779 424 738 827 929 683 812 674 308 722 477 671 603 656 404 273 209 703 951 939 262 295 202 136 738 645 391 704 884 120 192 664 896 930 843 178 965 8 852 626 82 682 297 685 690 53 310 251 757 614 191 371 909 745 507 0 390 251 704 627 723 248 643 971 179 486 149 496 846 354 122 928 36 771 966 726 825 628 978 934 242 169 305 152 266 165 152 656 768 856 635 491 104 278 462 635 117 964 484 963 318 958 892 354 730 858 432 907 486 410 193 729 931 498 233 549 15 737 206 783 945 193 274 401 472 89 389 589 53 873 552 723 831 796 77 913 654 861 172 493 624 365 574 907 216 807 457 231 896 663 15 841 208 641 242 680 82 631 269 487 856 174 210 688 970 639 953 977 501 126 470 477 491 396 384 59 203 841 291 99 856 658 292 65 651 534 745 86 518 367 573 374 893 136 414 215 127 368 192 628 494 14 457 337 762 842 397 317 683 40 416 540 50 60 605 701 947 702 787 465 421 713 839 314 849 606 530 976 974 74 957 820 441 414 509 203 608 258 521 292 298 289 832 700 702 789 754 649 843 893 114 265 606 305 579 807 911 461 136 237 888 445 57 681 211 919 884 820 177 757 112 828 399 296 528 101 437 282 102 280 176 216 545 134 873 477 942 137 938 78 374 178 875 784 859 86 703 96 906 880 205 370 60 956 18 589 57 455 871 159 88 399 727 633 534 953 462 476 90 753 906 816 931 781 952 143 219 655 239 126 888 444 848 948 401 867 889 810 674 761 322 762 512 401 748 46 354 210 874 796 963 132 613 247 265 565 390 485 573 629 963 813 425 163 761 178 30 651 341 57 764 15 819 276 416 567 675 123 778 901 919 93 386 884 340 651 802 730 488 727 711 803 540 137 967 301 667 349 304 8 758 420 23 578 49 792 497 76 915 627 977 186 721 363 423 413 367 225 144 207 952 207 363 844 344 682 497 364 31 802 724 142 574 100 720 623 892 569 699 159 197 29 697 270 744 120 683 463 697 827 671 1 35 34 845 731 68 343 447 451 497 172 593 71 272 313 695 164 235 746 675 432 127 372 702 872 845 385 335 542 565 358 544 952 744 741 35 812 84 483 264 581 655 209 5 927 875 52 443 110 798 118 542 926 842 596 150 687 981 837 582 898 548 478 850 644 219 886 457 656 369 73 237 376 282 594 303 157 646 98 267 445 568 161 723 410 757 225 450 91 62 384 989 962 862 192 607 433 78 416 89 799 489 679 527 123 273 830 633 920 280 252 717 848 414 440 610 523 17 60 614 431 796 956 394 658 148 1 92 226 417 533 377 258 212 904 381 486 86 14 758 366 619 475 566 385 267 176 908 284 589 875 715 385 831 109 44 979 110 488 557 879 373 286 137 586 190 871 424 628 237 182 346 856 9 912 241 276 88 502 560 677 377 627 415 560 737 811 539 199 651 448 431 24 734 568 962 276 439 386 904 677 920 602 885 929 514 127 557 954 629 117 632 358 97 399 918 186 210 809 737 861 257 168 885 343 89 848 619 880 586 875 557 507 477 795 788 991 922 346 945 903 815 929 613 264 680 531 450 890 692 188 751 949 708 989 292 797 837 263 678 775 138 587 282 615 382 423 958 656 121 255 911 288 537 524 553 217 407 3 108 99 543 211 400 252 200 44 49 389 307 727 165 445 667 799 412 49 222 722 706 695 330 617 984 867 494 537 436 901 892 896 353 436 108 753 40 660 150 89 50 457 169 215 255 836 14 667 237 589 742 295 284 72 913 268 291 759 157 727 660 402 624 365 838 84 471 230 744 621 319 794 78 840 9 333 28 376 353 266 965 447 561 249 519 826 870 810 585 379 537 598 781 513 963 971 597 786 201 342 407 873 136 838 713 498 523 742 874 876 360 191 675 273 440 194 100 662 356 37 42 246 635 823 759 951 795 709 737 348 51 497 221 539 335 935 389 858 29 263 87 741 454 762 14 247 957 466 909 665 504 303 911 491 127 23 794 274 732 532 622 783 29 844 674 364 131 64 574 512 679 661 253 486 424 619 733 733 86 994 398 942 298 662 785 777 685 580 403 417 112 25 552 493 221 226 209 704 290 783 568 970 797 173 456 221 793 541 306 231 887 56 525 537 718 310 314 755 890 69 172 354 95 724 199 668 303 760 725 593 544 293 915 693 467 723 914 612 616 572 843 504 628 720 393 699 30 60 454 273 129 627 627 576 703 179 245 6 939 322 952 835 615 219 528 434 943 794 46 911 366 241 767 347 961 161 46 344 221 500 617 350 479 596 279 535 775 876 893 67 198 197 902 165 417 431 600 712 225 998 623 944 240 391 291 553 904 689 897 125 541 866 827 373 463 106 260 590 982 153 657 532 351 912 698 120 343 650 832 920 648 807 216 240 550 859 794 454 548 43 931 442 910 111 815 725 569 75 315 904 580 325 436 283 237 134 403 932 784 587 204 433 747 773 25 649 632 819 456 181 863 739 623 125 850 790 850 420 865 517 676 797 842 112 81 431 247 836 715 383 424 272 168 523 45 194 172 677 13 628 210 228 368 185 353 570 975 203 990 192 721 18 990 915 131 423 699 730 259 414 113 683 38 634 558 83 828 731 113 193 359 323 422 79 861 127 650 188 683 992 733 756 11 75 23 142 498 722 872 757 489 337 793 527 971 351 963 799 82 76 345 794 399 119 873 612 246 875 801 281 868 534 37 879 609 61 373 107 135 597 216 624 934 9 504 906 361 467 57 795 543 402 941 294 521 167 907 120 42 60 401 910 594 791 141 555 852 514 14 339 111 230 964 398 592 468 304 305 935 713 100 830 468 394 124 341 561 383 461 603 443 215 514 389 358 655 296 562 522 310 901 985 893 865 383 485 685 39 790 972 753 242 802 221 636 279 914 197 14 728 801 810 943 667 199 653 674 848 215 548 158 116 534 403 334 917 888 19 957 30 344 62 625 498 635 613 129 549 811 144 277 964 954 220 983 505 873 9 353 440 558 864 557 92 267 891 361 508 262 318 890 606 380 515 457 15 481 586 917 292 730 194 608 36 767 943 542 992 952 895 433 510 111 990 954 379 233 316 239 495 986 129 454 367 997 911 734 478 497 651 122 580 198 730 616 965 673 158 957 977 406 390 488 517 732 442 248 317 758 487 165 745 617 619 464 614 882 550 444 731 554 566 663 752 296 280 69 321 790 26 650 548 769 138 66 501 933 666 819 43 154 336 788 771 955 604 737 189 507 181 272 413 747 936 165 395 568 586 68 358 612 718 907 381 209 325 235 142 991 406 185 497 742 326 620 49 282 357 590 141 890 862 554 989 150 71 736 718 657 156 429 270 875 336 3 436 13 590 930 356 348 115 854 442 793 826 843 428 184 433 569 426 648 124 416 798 195 504 869 853 661 298 475 888 986 830 324 351 421 254 707 121 721 913 564 867 740 759 295 276 545 864 54 193 340 822 343 536 327 564 741 988 862 216 876 848 46 552 199 819 158 259 941 231 524 857 98 616 616 745 244 513 962 299 58 302 121 402 838 448 318 579 788 181 147 16 381 546 920 933 365 78 544 658 310 68 515 760 685 484 506 929 997 468 580 56 770 702 810 961 502 128 892 643 661 40 659 395 586 580 680 303 10 224 962 672 292 477 433 329 313 939 611 311 759 543 719 529 597 881 842 100 9 735 95 23 127 754 770 713 686 450 16 697 674 978 721 318 808 154 0 473 445 963 136 204 506 855 86 104 736 928 556 98 15 651 473 142 757 243 207 444 693 576 493 367 906 214 37 714 721 37 540 166 0 676 371 507 532 457 963 620 737 519 718 753 170 191 247 927 434 455 723 127 31 568 846 937 783 884 4 504 273 544 22 274 220 393 133 752 202 96 725 940 967 443 45 489 987 292 416 773 747 492 253 130 60 99 68 195 335 72 699 609 616 722 235 188 467 368 941 670 816 666 962 135 461 359 624 800 3 40 574 103 884 827 233 945 278 301 140 966 725 192 575 693 266 810 882 733 530 175 755 698 193 69 833 654 780 457 807 784 849 381 887 734 560 472 679 190 126 171 156 851 363 731 897 629 893 779 715 423 954 470 473 147 892 306 153 672 763 960 808 965 693 695 699 605 520 730 796 646 253 952 497 617 684 746 598 929 525 313 705 831 136 178 978 380 485 484 52 600 796 213 917 842 908 968 447 780 698 243 426 952 196 276 921 232 22 519 161 548 185 218 379 673 397 710 53 234 546 457 186 694 670 104 536 931 72 336 711 123 579 490 427 127 766 700 711 788 219 225 688 756 443 420 429 192 482 834 426 28 644 613 74 314 69 611 597 141 299 309 616 878 151 43 358 917 743 69 57 315 294 746 423 90 518 205 282 0 39 709 380 683 674 454 350 743 417 947 236 716 608 853 947 759 248 305 28 344 374 86 11 21 184 434 111 702 991 745 54 383 454 434 418 480 888 768 223 658 68 812 374 28 17 321 140 265 626 168 961 353 606 972 726 142 759 189 844 750 934 250 133 741 684 904 221 925 672 797 583 92 609 957 473 626 631 613 243 609 133 205 962 92 529 40 234 640 229 431 743 516 681 228 257 366 132 478 291 157 275 226 249 236 535 722 862 166 687 458 776 821 15 90 913 896 131 499 537 712 930 280 228 612 860 485 978 993 316 621 150 943 199 751 180 734 826 42 901 513 852 29 686 867 119 951 764 602 451 653 315 381 285 895 993 145 381 323 138 49 296 640 992 495 744 172 230 570 567 483 435 419 512 474 639 983 425 403 938 876 56 253 258 341 500 603 838 233 279 329 282 575 969 275 423 65 799 5 987 366 488 423 138 352 897 777 687 674 532 625 551 588 230 161 281 731 116 119 964 395 800 599 323 770 226 746 187 25 751 175 392 591 950 530 295 847 659 334 521 191 312 424 131 542 937 764 625 54 235 942 801 36 893 124 158 119 870 345 144 973 520 888 916 470 418 563 669 429 250 543 620 562 967 751 456 905 867 82 311 103 376 112 139 269 237 297 388 459 642 532 785 515 421 53 985 191 969 655 973 219 198 593 781 517 697 237 774 564 671 85 667 47 198 158 316 787 455 56 598 450 941 735 965 714 789 950 257 758 957 230 977 507 824 758 25 873 347 799 437 19 237 457 66 787 615 735 574 423 143 524 873 84 260 190 150 401 492 408 159 450 638 488 957 814 598 334 687 945 134 477 316 723 934 735 510 901 822 436 324 965 960 549 402 572 91 552 973 584 960 484 386 951 324 695 765 274 30 805 572 516 282 888 239 216 623 749 117 797 537 794 763 849 695 517 422 787 421 747 371 734 584 757 685 260 452 802 535 834 607 107 350 889 995 941 457 971 42 575 768 579 721 883 429 416 752 203 203 174 302 926 908 886 35 593 499 840 395 34 674 355 141 377 244 488 318 702 811 713 629 932 292 702 167 73 470 920 276 26 94 931 952 354 169 340 947 668 180 694 702 206 401 195 935 998 684 606 52 847 319 681 779 963 735 299 37 205 219 665 231 665 596 536 19 766 876 318 434 408 364 137 966 766 332 254 764 368 860 816 216 531 849 347 494 584 646 531 141 217 549 725 882 145 261 253 263 489 571 698 249 936 187 567 702 871 821 466 240 33 282 808 564 483 507 411 67 154 942 560 723 491 285 606 989 546 859 252 387 783 302 636 719 489 556 421 361 377 239 953 763 873 113 679 356 620 90 775 126 385 335 850 876 621 808 217 519 19 822 907 802 124 895 873 614 451 646 327 829 885 632 592 110 745 623 818 717 714 593 844 99 281 46 327 902 854 545 773 225 367 680 380 843 576 253 809 27 900 136 208 137 120 152 248 865 776 66 583 490 12 779 589 293 825 916 547 31 813 320 608 532 353 988 376 929 242 185 308 142 674 517 279 794 21 879 12 797 946 595 287 310 726 228 955 903 145 502 286 310 174 894 843 879 883 571 160 477 756 469 971 430 338 250 577 359 130 589 157 428 536 796 90 614 25 45 517 522 899 803 184 425 49 27 305 284 598 465 761 707 286 732 489 624 335 66 984 817 7 493 597 895 641 687 509 18 732 26 892 983 181 77 408 231 456 713 515 55 531 629 114 817 713 603 442 48 22 778 217 29 623 814 277 616 501 786 635 585 813 527 568 346 604 329 577 413 42 445 820 925 74 934 743 139 889 537 188 911 667 405 293 290 572 570 906 425 356 893 363 521 421 283 868 377 612 797 790 7 242 610 932 668 896 675 808 786 212 348 697 231 105 342 521 677 912 780 103 621 673 466 494 446 749 362 824 714 512 966 721 754 577 653 775 473 681 935 259 245 283 309 477 388 651 350 418 916 130 873 537 156 691 31 602 792 746 426 506 258 745 227 364 322 233 139 147 914 426 759 511 709 420 988 450 71 339 220 339 821 93 228 977 784 260 580 928 358 358 435 968 103 14 332 777 247 824 277 513 250 388 377 312 808 365 114 231 56 334 571 230 779 799 207 915 411 139 843 121 850 278 89 305 645 422 435 892 598 712 758 848 452 135 512 260 852 626 843 261 312 766 491 91 918 50 6 681 542 202 803 744 480 892 49 477 666 484 370 616 548 480 465 0 967 329 612 819 308 808 432 620 574 275 712 844 678 70 526 220 272 681 964 105 925 365 582 944 850 304 560 750 136 377 103 103 707 715 275 15 875 707 635 450 983 699 646 661 122 524 233 394 205 549 851 131 914 786 75 116 90 635 219 227 13 322 330 72 37 605 87 913 665 74 715 648 126 713 661 248 238 246 994 795 795 846 926 709 632 353 178 74 341 397 301 706 719 984 778 108 941 217 373 606 643 440 606 769 154 619 369 744 865 364 539 660 210 466 722 194 171 900 268 864 649 570 570 368 906 700 828 847 269 202 806 265 642 412 34 148 32 404 892 249 120 432 910 330 250 632 524 421 884 144 638 885 714 208 253 972 261 433 820 530 635 626 795 630 390 182 778 774 938 671 24 58 455 934 740 705 918 616 478 154 760 116 39 475 677 644 447 938 77 619 820 713 597 968 695 988 150 473 762 440 496 138 498 951 72 590 656 342 206 487 496 966 603 887 793 280 531 593 570 609 212 391 674 810 711 369 150 213 842 264 653 691 403 503 642 827 93 651 170 299 138 18 265 93 906 59 726 437 652 296 398 216 39 72 378 750 441 880 963 636 145 968 679 900 471 321 727 916 324 249 215 814 268 833 908 526 244 634 963 248 282 714 464 322 786 195 424 580 75 740 216 572 708 247 472 180 568 552 96 245 801 664 59 421 849 967 947 93 953 263 341 588 977 157 910 763 352 686 695 780 426 263 352 487 510 825 667 79 729 115 324 530 131 383 952 980 703 251 73 8 514 766 596 843 924 858 607 628 545 302 408 323 918 113 810 428 290 829 507 19 297 183 549 428 919 853 761 974 457 186 982 971 953 579 167 229 437 126 209 334 780 618 658 698 731 820 127 21 650 634 392 299 170 941 79 89 147 840 415 604 27 397 927 332 328 94 913 118 220 122 452 1 92 462 699 175 283 826 548 285 813 940 584 335 882 15 776 381 856 191 985 235 588 264 919 269 711 832 387 931 954 839 284 399 654 336 574 937 514 123 574 327 63 510 662 297 525 438 678 733 981 15 968 570 280 887 839 343 719 226 274 26 417 911 425 71 247 999 360 761 474 934 441 538 796 455 835 674 246 866 407 227 881 376 149 513 263 340 856 335 566 483 713 336 746 138 407 345 489 120 458 964 406 899 854 203 707 41 877 953 907 284 180 789 12 682 654 628 22 863 315 589 346 28 277 92 518 36 437 359 156 895 323 563 147 529 118 854 571 347 159 830 983 691 619 996 373 626 976 396 489 291 337 835 319 614 279 837 650 68 196 159 315 872 722 462 753 192 668 676 539 827 507 522 519 478 870 244 104 846 640 593 137 329 780 808 943 411 997 946 831 546 457 147 770 179 961 523 723 630 200 262 809 59 136 680 537 7 925 642 853 917 587 343 247 720 151 542 131 501 840 963 47 297 462 817 476 423 692 551 53 244 813 215 303 950 895 841 309 820 835 162 90 422 857 337 494 361 879 978 862 720 941 261 369 755 430 846 178 122 749 584 719 563 799 374 865 694 215 174 867 402 688 957 825 546 646 319 907 525 297 121 597 590 382 967 697 164 165 876 638 914 460 357 829 611 732 694 305 299 220 524 702 909 833 879 455 479 550 714 357 200 187 306 790 921 625 840 85 790 716 723 57 528 433 238 139 517 285 796 816 505 673 518 414 506 397 221 986 300 287 343 500 826 649 642 747 275 482 184 417 198 908 826 78 693 417 569 210 702 366 26 207 39 897 974 545 646 547 883 946 835 578 446 661 228 89 761 855 923 945 624 122 205 451 552 898 868 122 460 922 840 839 129 231 736 455 128 734 3 12 33 190 590 479 203 170 920 964 25 844 910 2 318 467 805 222 366 25 344 826 947 536 17 428 767 753 884 896 840 239 908 873 429 850 704 984 21 977 949 398 173 211 400 843 678 557 65 396 582 762 575 529 298 592 310 66 698 194 962 538 785 222 763 566 72 467 550 445 796 499 196 969 62 948 812 741 506 230 489 88 992 64 618 290 657 280 356 707 826 670 597 611 892 360 177 317 179 79 114 976 579 310 945 993 259 110 734 765 340 224 853 332 640 823 622 649 103 331 356 929 1 953 892 246 313 69 915 493 501 29 821 80 692 118 73 303 228 160 68 920 736 273 252 376 449 227 378 904 910 734 834 263 688 78 861 353 500 776 198 1 158 371 433 202 490 506 505 718 18 573 639 106 198 243 835 647 822 213 552 732 947 738 348 987 816 209 693 316 338 243 317 848 615 750 50 105 609 555 175 979 480 166 86 678 410 273 678 584 486 230 669 785 968 17 773 136 578 818 805 916 61 474 764 28 225 166 133 186 721 309 517 553 475 955 232 237 228 910 174 714 492 843 500 812 212 625 948 790 795 105 707 208 580 823 237 157 990 722 695 63 383 212 617 211 168 201 448 748 463 622 463 955 817 315 119 29 292 419 820 439 525 879 647 105 54 236 262 44 959 957 460 342 521 77 553 41 630 354 790 93 328 605 400 146 272 519 175 916 938 347 355 815 226 2 272 633 239 534 677 198 843 489 892 717 918 446 758 548 800 900 641 128 505 393 626 129 912 154 45 203 501 400 370 80 403 643 713 994 529 742 544 725 232 436 442 150 234 552 51 34 453 692 515 310 438 493 440 350 647 485 905 501 886 276 933 641 271 646 987 800 740 531 525 324 319 319 475 554 872 878 940 677 570 807 987 360 301 427 711 300 265 968 801 503 596 734 144 867 732 131 20 473 14 897 149 333 217 976 887 441 854 180 118 777 987 105 137 640 885 200 941 502 169 742 5 117 829 149 985 913 632 357 738 646 254 888 331 471 864 571 912 719 751 382 496 738 488 633 379 725 834 672 227 355 414 232 472 595 733 809 509 365 518 247 363 773 135 694 596 352 265 861 71 368 243 919 107 83 904 838 808 90 510 387 445 276 971 270 224 704 79 733 421 598 332 136 723 820 831 319 172 448 180 595 169 424 514 276 859 418 466 668 509 328 407 306 604 379 576 180 83 8 913 857 958 246 993 681 418 176 352 590 977 533 185 146 309 51 774 168 821 240 188 330 920 596 989 876 327 565 57 410 925 970 619 883 568 613 916 986 789 269 928 766 154 113 912 815 516 686 335 338 278 524 20 198 472 9 75 151 575 132 913 500 454 533 736 375 146 652 361 287 921 642 54 427 107 318 242 624 357 578 962 635 454 982 186 278 992 613 429 919 745 342 771 551 875 507 926 373 160 288 661 433 282 67 861 389 737 103 13 94 33 327 82 487 310 620 117 654 233 546 573 330 889 696 881 116 204 808 490 716 448 503 149 730 570 362 119 659 818 133 106 851 460 188 691 122 160 808 776 393 707 701 723 948 398 604 64 954 412 906 22 860 409 171 942 331 886 62 343 704 547 449 907 7 989 950 130 149 111 258 894 818 312 617 766 62 573 182 368 338 89 390 550 850 913 493 534 799 555 877 855 102 326 763 461 667 65 943 816 176 554 710 994 866 679 760 280 252 943 648 590 384 38 141 586 951 986 120 751 893 349 958 995 27 721 808 694 139 752 510 315 306 572 310 524 251 422 804 856 717 452 446 453 490 939 40 441 277 160 544 170 510 503 165 537 576 974 232 715 78 94 383 736 667 693 260 270 467 64 126 185 516 925 638 6 216 30 799 494 191 696 664 53 199 182 942 127 508 526 843 586 621 226 322 640 271 582 262 738 998 389 275 514 666 266 872 882 296 23 376 839 719 393 244 270 575 187 398 83 713 241 21 686 819 695 326 442 629 941 532 627 330 160 493 996 426 717 230 74 740 607 266 812 0 510 82 927 697 480 362 763 73 383 449 244 430 128 686 59 69 571 38 399 731 883 747 509 600 977 583 692 936 201 504 288 712 587 215 761 419 577 524 493 312 974 737 94 102 776 505 171 347 543 922 78 778 21 587 730 998 522 423 287 724 279 575 788 866 791 549 638 720 74 131 33 400 220 479 502 996 985 25 695 880 947 773 659 320 712 389 318 587 812 605 663 92 181 451 310 324 352 300 44 426 431 429 178 4 909 680 0 246 57 696 126 4 821 785 324 886 175 995 473 339 952 488 783 485 939 446 809 643 746 206 422 530 987 600 534 248 281 886 494 338 582 621 695 756 758 371 994 285 718 467 625 671 955 760 508 246 206 670 889 305 228 663 835 215 264 369 816 897 255 310 235 190 283 282 298 42 6 292 327 724 111 304 747 418 65 256 16 623 278 905 280 506 569 115 73 185 836 889 82 444 200 669 986 835 952 636 877 310 928 557 34 391 861 134 809 278 742 825 254 20 82 534 878 3 2 951 188 838 841 622 634 393 292 972 228 244 608 106 906 888 15 292 279 228 426 88 507 520 265 761 892 700 647 770 703 649 722 244 840 563 866 826 956 158 799 536 754 407 642 660 296 9 305 575 238 731 16 745 252 633 858 144 333 857 267 389 507 989 985 699 904 851 525 212 362 676 748 468 84 743 481 732 752 786 659 990 869 675 87 473 661 297 970 994 155 237 735 14 578 720 65 482 924 942 694 286 619 442 106 55 537 587 787 290 725 446 632 595 474 72 420 135 369 390 481 876 627 217 242 205 289 659 39 213 602 733 851 573 528 958 628 417 897 767 707 975 565 692 922 39 764 342 526 485 733 8 714 712 577 308 270 866 968 309 432 922 395 283 495 275 593 475 692 843 242 752 818 807 444 740 199 560 434 77 45 519 437 111 232 366 420 854 233 388 163 17 310 910 300 157 185 246 632 230 89 226 982 907 385 778 999 936 690 785 14 87 305 451 199 889 818 619 743 403 7 258 420 669 521 72 826 58 318 810 288 407 36 622 666 421 752 17 710 442 155 724 530 460 527 729 701 345 700 796 100 59 406 872 728 927 945 906 986 263 68 626 23 104 249 41 877 353 59 587 796 566 663 678 26 191 759 79 888 459 875 989 870 281 861 598 561 158 856 547 774 924 525 797 380 126 190 609 480 601 197 628 167 212 306 545 403 417 624 292 876 851 633 746 485 846 696 46 357 904 945 131 180 470 280 560 597 470 169 429 72 718 57 239 931 363 785 686 780 761 330 8 613 963 106 98 162 154 496 519 410 441 650 590 263 930 502 860 752 671 289 824 742 698 416 25 61 553 63 193 314 394 553 927 709 11 377 871 517 873 390 927 314 392 517 930 674 19 790 427 43 432 603 137 130 371 162 544 924 225 89 239 971 995 518 681 358 896 552 876 121 295 803 788 687 321 718 714 692 860 493 735 292 96 872 775 820 386 671 744 964 112 335 935 459 206 616 818 102 521 694 575 816 497 363 855 170 81 569 863 942 62 950 586 511 823 713 331 561 384 75 525 849 763 461 308 969 429 126 423 950 820 998 118 670 362 974 840 795 895 55 737 958 6 324 821 181 389 152 742 774 579 268 975 342 81 283 663 862 410 86 813 582 437 931 604 799 257 797 594 153 852 684 111 210 360 932 391 749 436 486 875 15 106 850 710 187 486 373 49 248 812 214 830 249 498 787 400 755 584 994 908 788 30 371 351 390 303 742 492 91 580 719 459 686 570 169 225 56 894 627 656 706 841 838 307 691 625 707 447 561 54 355 350 84 727 53 827 382 147 671 826 728 390 285 414 312 454 992 720 700 619 376 759 812 215 66 504 840 774 303 754 828 658 456 264 737 509 443 472 656 114 650 384 505 935 151 817 741 143 538 441 114 266 200 926 481 267 782 674 41 85 428 221 96 236 837 185 745 281 9 401 395 659 138 900 594 289 70 335 784 960 777 898 226 329 824 60 596 959 734 989 44 514 562 140 750 400 678 495 681 687 248 76 347 386 329 293 27 399 629 811 711 758 709 289 87 886 349 36 845 435 25 889 949 588 382 51 340 60 898 21 99 147 97 446 885 778 740 913 529 721 724 240 831 786 530 918 672 231 954 517 667 332 758 616 272 492 20 612 552 918 633 652 417 82 450 303 213 542 568 742 615 644 335 446 430 217 365 102 448 671 971 115 3 730 84 627 574 104 239 127 22 224 131 440 659 933 95 872 828 663 966 443 307 301 890 738 870 607 192 319 630 164 434 986 246 870 613 820 974 205 299 997 429 782 789 440 68 884 664 896 547 631 339 206 284 581 944 155 540 137 826 171 653 612 157 251 483 122 423 457 327 75 806 109 857 947 549 925 831 214 821 730 197 513 937 481 446 233 988 339 722 166 510 375 779 19 978 262 141 402 71 469 477 230 930 686 177 479 964 361 45 137 443 242 650 732 76 449 966 416 788 688 583 650 416 362 669 746 976 162 148 47 983 977 629 913 16 807 393 980 520 790 117 963 33 120 48 109 921 14 877 709 54 460 359 822 822 380 569 150 894 69 198 878 47 827 143 415 986 888 395 506 679 512 822 712 984 870 173 905 236 50 966 290 863 677 113 37 57 34 188 304 103 386 534 502 565 677 917 904 918 312 410 597 177 584 661 513 806 186 419 42 588 385 685 451 63 150 489 472 184 677 128 287 415 662 790 332 340 707 236 610 372 999 207 901 583 220 414 742 758 185 784 346 923 469 150 338 619 639 162 155 668 291 443 435 953 585 767 645 292 4 255 16 355 814 269 938 34 36 680 792 221 817 491 144 638 641 834 610 632 997 765 652 288 560 87 241 145 206 239 790 210 494 806 565 309 76 856 695 112 888 840 685 57 331 182 696 324 16 658 308 13 775 960 653 336 47 895 481 253 134 271 816 980 430 733 641 506 941 337 970 830 529 7 239 212 189 287 888 558 945 196 923 721 156 577 409 555 824 890 808 310 514 976 290 944 710 932 802 3 621 772 833 502 131 425 714 321 712 954 231 658 150 154 731 306 731 140 861 907 382 21 217 896 350 860 840 412 144 642 415 117 766 601 619 898 26 685 571 738 639 154 748 141 308 831 447 392 323 660 651 706 33 869 602 383 81 795 795 225 789 211 342 556 812 313 806 838 350 729 928 989 883 677 130 543 860 929 287 184 941 939 890 974 808 844 358 889 639 505 466 429 716 808 337 880 473 495 70 823 224 999 812 459 28 294 2 240 575 290 424 516 229 666 490 389 511 200 630 502 706 96 283 774 256 620 7 729 467 77 552 691 428 716 502 808 10 505 49 937 147 825 453 728 492 295 117 3 496 99 857 554 195 141 680 451 113 687 180 581 117 84 624 545 800 127 706 162 984 107 99 483 932 552 211 424 847 680 779 695 131 989 601 326 482 282 129 595 969 661 528 86 745 505 984 897 984 42 59 320 149 158 803 81 710 366 858 909 398 989 957 529 978 558 207 460 192 688 408 514 349 288 952 446 145 936 343 129 330 402 801 479 560 956 913 622 674 123 883 72 112 192 953 443 103 512 903 295 200 663 809 901 952 114 699 449 50 42 931 381 796 732 212 708 689 477 682 363 600 918 788 713 110 93 156 565 606 411 861 158 75 22 60 379 136 759 828 539 154 111 272 950 844 836 11 885 314 693 600 914 611 388 979 74 482 135 639 440 899 852 598 974 875 10 705 363 122 885 254 276 997 878 578 193 715 941 78 29 635 678 295 598 67 275 672 901 762 664 693 661 516 291 987 743 654 692 459 776 930 713 52 927 592 982 120 307 924 198 688 911 228 983 509 295 610 534 548 373 198 241 34 714 885 22 810 539 66 269 667 996 982 719 275 926 53 747 585 329 297 273 240 526 609 102 173 219 636 74 944 186 315 979 252 552 353 62 443 771 331 110 120 666 181 395 592 235 143 178 916 440 803 157 318 764 611 492 336 599 566 280 785 233 611 389 786 316 452 581 88 135 692 208 801 873 603 746 460 98 276 377 891 431 886 209 196 849 53 532 448 971 812 585 205 776 974 343 92 778 924 180 914 968 740 67 842 696 165 654 794 441 383 37 873 269 599 421 470 652 953 918 624 117 503 181 893 830 524 338 960 800 518 226 121 611 294 315 307 811 969 101 605 353 491 478 974 90 251 445 94 204 715 718 673 571 251 919 401 127 257 361 928 127 588 49 738 234 364 45 397 685 499 2 390 990 832 717 432 83 162 526 639 229 245 313 800 496 232 553 624 841 915 904 968 855 305 59 441 21 104 838 706 955 841 97 297 673 814 729 109 328 256 748 909 501 61 710 349 645 263 325 838 530 581 807 737 886 218 178 907 674 369 966 630 210 415 927 235 581 657 344 261 913 93 170 766 506 880 467 504 496 793 342 26 374 501 116 613 719 646 872 394 15 838 24 577 605 303 165 186 960 861 447 225 306 618 991 813 850 459 669 346 604 11 725 330 513 841 295 232 839 168 626 855 358 2 784 964 306 949 502 618 811 950 844 117 920 187 282 122 998 951 469 602 315 546 285 828 739 580 412 578 100 391 785 811 393 570 775 51 871 629 670 34 931 866 504 203 53 786 326 52 90 795 6 405 693 291 233 432 224 997 10 676 388 148 487 134 718 614 185 941 244 207 976 175 425 480 379 479 266 57 883 708 852 241 113 897 885 698 329 109 696 691 137 84 839 625 570 909 239 108 851 835 667 179 363 93 659 94 924 277 151 807 986 355 48 451 252 933 150 581 394 846 624 532 282 816 157 853 725 748 313 928 584 980 107 299 73 766 393 997 396 544 156 734 899 205 185 151 490 335 84 237 533 708 769 168 524 278 373 602 378 686 530 314 666 990 613 740 756 6 89 504 902 246 238 801 803 424 304 645 111 388 882 645 97 3 165 973 633 538 575 12 224 458 678 242 448 644 334 556 650 776 61 905 22 299 706 177 75 363 174 187 751 57 184 200 412 349 174 46 887 101 410 463 559 440 57 7 84 392 564 87 168 625 992 542 276 50 71 352 413 245 891 517 302 75 717 67 424 243 465 663 345 227 126 904 667 183 264 752 927 828\"\n",
    "car = lis.strip().split()\n",
    "cari = [int(i) for i in car]\n",
    "#check(1, 9, 0)"
   ]
  },
  {
   "cell_type": "code",
   "execution_count": 62,
   "metadata": {},
   "outputs": [],
   "source": [
    "# NOT A DP\n",
    "# equal set problem You should rememeber it....\n",
    "\n",
    "def minStep(a, b):\n",
    "    steps = (a-b)//5 + (a-b)%5//2 + (a-b)%5%2\n",
    "    return steps\n",
    "\n",
    "def newCounter(lis):\n",
    "    import sys\n",
    "    INF = sys.maxsize//2\n",
    "    min_count = INF\n",
    "    for i in range(5):\n",
    "        lis_copy = lis[:]\n",
    "        min_value = min(lis_copy)\n",
    "        min_index = lis_copy.index(min_value)\n",
    "        lis_copy[min_index] -= i\n",
    "        min_value_copy = lis_copy[min_index]\n",
    "        counter = minStep(i,0)\n",
    "        for i in range(len(lis_copy)):\n",
    "            if i != min_index:\n",
    "                counter += minStep(lis_copy[i], min_value_copy)\n",
    "        min_count = min(counter, min_count)\n",
    "    return min_count"
   ]
  },
  {
   "cell_type": "code",
   "execution_count": 63,
   "metadata": {},
   "outputs": [
    {
     "name": "stdout",
     "output_type": "stream",
     "text": [
      "6\n"
     ]
    },
    {
     "data": {
      "text/plain": [
       "10"
      ]
     },
     "execution_count": 63,
     "metadata": {},
     "output_type": "execute_result"
    }
   ],
   "source": [
    "l = [2,5,5,5,5,5]\n",
    "print(newCounter(l))\n",
    "main(l)"
   ]
  },
  {
   "cell_type": "code",
   "execution_count": 89,
   "metadata": {},
   "outputs": [],
   "source": [
    "# coin change problem\n",
    "lis = [1,2,5]\n",
    "\n",
    "#naive and a bit wrong at edge cases\n",
    "def minCoin(lis, V):\n",
    "    if V <= 0:\n",
    "        return 0\n",
    "    else:\n",
    "        minValue = 1000\n",
    "        for i in lis:\n",
    "            minValue = min(minValue, 1+minCoin(lis, V-i))\n",
    "        return minValue\n",
    "\n",
    "#DP correct one\n",
    "def minCoin_dp(lis, V):\n",
    "    dp = [-1 for i in range(V+1)]\n",
    "    for i in range(V+1):\n",
    "        if i == 0:\n",
    "            dp[i] = 0\n",
    "        else:\n",
    "            dp[i] = INF\n",
    "            for j in lis:\n",
    "                if i-j<0:\n",
    "                    dp[i] = min(dp[i], INF)\n",
    "                else:\n",
    "                    dp[i] = min(dp[i], 1+dp[i-j])\n",
    "    print(dp[V])"
   ]
  },
  {
   "cell_type": "code",
   "execution_count": 90,
   "metadata": {},
   "outputs": [
    {
     "name": "stdout",
     "output_type": "stream",
     "text": [
      "3\n",
      "4\n"
     ]
    }
   ],
   "source": [
    "print(minCoin(lis, 13))\n",
    "\n",
    "minCoin_dp(lis, 13)"
   ]
  },
  {
   "cell_type": "code",
   "execution_count": 9,
   "metadata": {},
   "outputs": [
    {
     "name": "stdout",
     "output_type": "stream",
     "text": [
      "[0, 5, 6, 10, 11]\n",
      "[-1, 0, 1, 2, 5]\n"
     ]
    }
   ],
   "source": [
    "def billBorads(m, r, t):\n",
    "    pos = [-1,0]\n",
    "    dp = [0,r[0]]\n",
    "    \n",
    "    for i in range(1,len(m)):\n",
    "        if m[i]-m[pos[-1]]>t:\n",
    "            dp.append(dp[-1]+r[i])\n",
    "            pos.append(i)\n",
    "        else:\n",
    "            if dp[-1]<dp[-2]+r[i]:\n",
    "                dp.append(dp[-2]+r[i])\n",
    "                pos.append(i)\n",
    "    print(dp)\n",
    "    print(pos)\n",
    "            \n",
    "m = [6, 7, 12, 13, 14, 18]\n",
    "r = [5, 6, 5,  3,  1, 1]\n",
    "t = 5\n",
    "\n",
    "billBorads(m,r,t)"
   ]
  },
  {
   "cell_type": "code",
   "execution_count": 2,
   "metadata": {},
   "outputs": [
    {
     "name": "stdout",
     "output_type": "stream",
     "text": [
      "True\n",
      "True\n"
     ]
    }
   ],
   "source": [
    "# sub-set of arr with sum == s \n",
    "def isSubsetSum(arr, s, l):\n",
    "    if s == 0:\n",
    "        return True\n",
    "    elif l == 0 and s != 0:\n",
    "        return False\n",
    "    elif arr[l]>s:\n",
    "        return isSubsetSum(arr, s, l-1)\n",
    "    else:\n",
    "        return isSubsetSum(arr, s, l-1) or isSubsetSum(arr, s-arr[l], l-1)\n",
    "    \n",
    "def isSubsetSumDP(arr, s):\n",
    "    dp = [[False for i in range(len(arr)+1)] for i in range(s+1)]\n",
    "    \n",
    "    for i in range(s+1):\n",
    "        for j in range(len(arr)+1):\n",
    "            if i == 0:\n",
    "                dp[i][j] = True\n",
    "            elif j == 0 and i != 0:\n",
    "                dp[i][j] = False\n",
    "            elif arr[j-1]>i:\n",
    "                dp[i][j] = dp[i][j-1]\n",
    "            else:\n",
    "                dp[i][j] = dp[i][j-1] or dp[i-arr[j-1]][j-1]\n",
    "    print(dp[s][len(arr)])\n",
    "#     for i in dp:\n",
    "#         print(i)\n",
    "\n",
    "s = 7\n",
    "arr = [1,2,3,4,5,6]\n",
    "print(isSubsetSum(arr, s, len(arr)-1))\n",
    "isSubsetSumDP(arr, s)"
   ]
  },
  {
   "cell_type": "code",
   "execution_count": 40,
   "metadata": {},
   "outputs": [
    {
     "name": "stdout",
     "output_type": "stream",
     "text": [
      "0 [0, 0, 0, 0, 0]\n",
      "1 [3, 0, 0, 0, 0]\n",
      "2 [3, 8, 0, 0, 0]\n",
      "3 [3, 8, 12, 0, 0]\n",
      "4 [3, 8, 12, 17, 0]\n"
     ]
    }
   ],
   "source": [
    "# https://www.geeksforgeeks.org/dynamic-programming-high-effort-vs-low-effort-tasks-problem/\n",
    "def effort(high, low):\n",
    "    dp = [0 for i in range(len(high))]\n",
    "    for i in range(len(dp)):\n",
    "        print(i,dp)\n",
    "        if i == 0:\n",
    "            dp[i] = high[i]\n",
    "        else:\n",
    "            dp[i] = max(dp[i-2]+high[i], dp[i-1]+low[i])\n",
    "    \n",
    "high = [3,6,8,7,6]\n",
    "low =  [1,5,4,5,3]\n",
    "\n",
    "effort(high, low)\n"
   ]
  },
  {
   "cell_type": "code",
   "execution_count": 1,
   "metadata": {},
   "outputs": [],
   "source": [
    "# bitonic\n",
    "\n",
    "def bitonic(s):\n",
    "    count = 1\n",
    "    flag = 0\n",
    "    for i in range(len(s)-1):\n",
    "        if s[i+1]>s[i]:\n",
    "            count+=1"
   ]
  },
  {
   "cell_type": "code",
   "execution_count": 35,
   "metadata": {},
   "outputs": [
    {
     "name": "stdout",
     "output_type": "stream",
     "text": [
      "250\n",
      "250\n"
     ]
    }
   ],
   "source": [
    "# max of job include and job not include\n",
    "def jobs(s, e, p, k):\n",
    "    if k == 0:\n",
    "        return p[k]\n",
    "    else:\n",
    "        l = 0\n",
    "        for i in range(k):\n",
    "            if s[k]<s[i]<e[k] or s[k]<e[i]<e[k]:\n",
    "                l+=p[i]\n",
    "        return max(jobs(s,e,p,k-1)+p[k]-l, jobs(s,e,p,k-1))\n",
    "    \n",
    "def jobsDP(s,e,p):\n",
    "    dp = [0 for i in range(len(s))]\n",
    "    \n",
    "    for i in range(len(dp)):\n",
    "        if i == 0:\n",
    "            dp[i] = p[i]\n",
    "        else:\n",
    "            l = 0\n",
    "            for j in range(i):\n",
    "                if s[i]<s[j]<e[i] or s[i]<e[j]<e[i]:\n",
    "                    l+=p[j]\n",
    "            dp[i] = max(dp[i-1]+p[i]-l, dp[i-1])\n",
    "    print(dp[-1])\n",
    "\n",
    "s = [1,3,6,2]\n",
    "e = [2,5,19,100]\n",
    "p = [50, 20, 100, 200]\n",
    "\n",
    "print(jobs(s,e,p,len(s)-1))\n",
    "jobsDP(s,e,p)\n"
   ]
  },
  {
   "cell_type": "code",
   "execution_count": 1,
   "metadata": {},
   "outputs": [
    {
     "name": "stdout",
     "output_type": "stream",
     "text": [
      "1\n"
     ]
    }
   ],
   "source": [
    "matrix = [[1,2,3],\n",
    "          [4,6,5],\n",
    "          [3,2,1]]\n",
    "\n",
    "def coinPath(m, n, k):\n",
    "    if m == 0 and n == 0:\n",
    "        return matrix[m][n] == k\n",
    "    elif m == 0 and n>0:\n",
    "        return coinPath(m,n-1, k-matrix[m][n])\n",
    "    elif n == 0 and m>0:\n",
    "        return coinPath(m-1,n, k-matrix[m][n])\n",
    "    else:\n",
    "        return coinPath(m-1, n, k-matrix[m][n])+coinPath(m,n-1, k-matrix[m][n])\n",
    "    \n",
    "def coinPathDP(N,k):\n",
    "    dp = [[[0 for i in range(k+1)] for i in range(N)] for i in range(N)]\n",
    "    for i in range(N):\n",
    "        for j in range(N):\n",
    "            for l in range(k+1):\n",
    "                if i == 0 and j == 0:\n",
    "                    if matrix[i][j] == l: \n",
    "                        dp[i][j][l] = 1\n",
    "                    else:\n",
    "                        dp[i][j][l] = 0\n",
    "                elif i == 0 and j>0:\n",
    "                    dp[i][j][l] = dp[i][j-1][l-matrix[i][j]]\n",
    "                elif j == 0 and i>0:\n",
    "                    dp[i][j][l] = dp[i-1][j][l-matrix[i][j]]\n",
    "                else:\n",
    "                    dp[i][j][l] = dp[i-1][j][l-matrix[i][j]]+dp[i][j-1][l-matrix[i][j]]\n",
    "    #print(dp)\n",
    "    return dp[N-1][N-1][k]\n",
    "\n",
    "coins = 1\n",
    "# coinPath(len(matrix)-1, len(matrix[0])-1, coins)\n",
    "print(coinPathDP(1, coins))"
   ]
  },
  {
   "cell_type": "code",
   "execution_count": 25,
   "metadata": {},
   "outputs": [
    {
     "name": "stdout",
     "output_type": "stream",
     "text": [
      "[0, 0, 1, 2, 4]\n"
     ]
    }
   ],
   "source": [
    "# market = [7,1,5,3,6,4]\n",
    "market = [7,4,5,6,8]\n",
    "def game(m):\n",
    "    sell = []\n",
    "    buy = []\n",
    "    dp = [0 for i in range(len(m))]\n",
    "    for i in range(len(m)):\n",
    "        if i == 0:\n",
    "            buy.append(m[i])\n",
    "        else:\n",
    "            profit = 0\n",
    "            for j in buy:\n",
    "                profit = max(profit, m[i]-j)\n",
    "            dp[i] = profit\n",
    "            buy.append(m[i])\n",
    "    print(dp)     \n",
    "    \n",
    "game(market)"
   ]
  },
  {
   "cell_type": "code",
   "execution_count": 16,
   "metadata": {},
   "outputs": [
    {
     "name": "stdout",
     "output_type": "stream",
     "text": [
      "8\n",
      "8\n"
     ]
    }
   ],
   "source": [
    "# https://www.geeksforgeeks.org/collect-maximum-coins-before-hitting-a-dead-end/\n",
    "\n",
    "m = [['E', 'C', 'C', 'C', 'C'], \n",
    "     ['C', '#', 'C', '#', 'E'], \n",
    "     ['#', 'C', 'C', '#', 'C'], \n",
    "     ['C', 'E', 'E', 'C', 'E'], \n",
    "     ['C', 'E', '#', 'C', 'E']] \n",
    "\n",
    "# m = [[\"C\", \"#\"], \n",
    "#      [\"C\", \"C\"]]\n",
    "\n",
    "def isValid(matrix, i, j):\n",
    "    return (0<=i<len(matrix)) and (0<=j<len(matrix[0]))\n",
    "\n",
    "def maxCoin(matrix, i, j, d):\n",
    "    if not isValid(matrix, i, j) or matrix[i][j] == \"#\" :\n",
    "        return 0\n",
    "    else:\n",
    "        if d == 1:\n",
    "            return (matrix[i][j] == \"C\")+max(maxCoin(matrix, i, j+1, 1), maxCoin(matrix, i+1, j, 0))\n",
    "        else:\n",
    "            return (matrix[i][j] == \"C\")+max(maxCoin(matrix, i, j-1, 0), maxCoin(matrix, i+1, j, 1))\n",
    "\n",
    "def maxCoinDPU(matrix, dp, i, j, d):\n",
    "    if not isValid(matrix, i, j) or matrix[i][j] == \"#\" :\n",
    "        return 0\n",
    "    if dp[i][j][d] != -1:\n",
    "        return dp[i][j][d]\n",
    "    else:\n",
    "        if d == 1:\n",
    "            dp[i][j][d] += (matrix[i][j] == \"C\")+max(maxCoin(matrix, i, j+1, 1), maxCoin(matrix, i+1, j, 0))+1\n",
    "        else:\n",
    "            dp[i][j][d] += (matrix[i][j] == \"C\")+max(maxCoin(matrix, i, j-1, 0), maxCoin(matrix, i+1, j, 1))+1\n",
    "        return dp[i][j][d]\n",
    "\n",
    "def maxCoinDP(matrix):\n",
    "    dp = [[[-1 for i in range(2)] for i in range(len(matrix[0]))] for i in range(len(matrix))]\n",
    "    print(maxCoinDPU(matrix, dp, 0 ,0, 1))\n",
    "\n",
    "print(maxCoin(m, 0, 0, 1 ))\n",
    "maxCoinDP(m)\n"
   ]
  },
  {
   "cell_type": "code",
   "execution_count": 22,
   "metadata": {},
   "outputs": [
    {
     "name": "stdout",
     "output_type": "stream",
     "text": [
      "A\n"
     ]
    }
   ],
   "source": [
    "# https://www.geeksforgeeks.org/coin-game-winner-every-player-three-choices/\n",
    "def coinGame(n, x, y):\n",
    "    dp = [None for i in range(n+1)]\n",
    "    \n",
    "    for i in range(n+1):\n",
    "        if i == 0:\n",
    "            dp[i] = \"B\"\n",
    "        elif i == 1:\n",
    "            dp[i] == \"A\"\n",
    "        else:\n",
    "            if dp[i-1] == \"B\" or dp[i-3] == \"B\" or dp[i-4] == \"B\":\n",
    "                dp[i] = \"A\"\n",
    "            else:\n",
    "                dp[i] = \"B\"\n",
    "    print(dp[-1])\n",
    "    \n",
    "coinGame(5,3,4)"
   ]
  },
  {
   "cell_type": "code",
   "execution_count": 9,
   "metadata": {},
   "outputs": [
    {
     "name": "stdout",
     "output_type": "stream",
     "text": [
      "6\n"
     ]
    }
   ],
   "source": [
    "no = [2,5,1,20, 34, 58, 90, 500]\n",
    "\n",
    "def cubes(no):\n",
    "    k = 1\n",
    "    all_cubes = []\n",
    "    ans = 0\n",
    "    while k**3<=15000:\n",
    "        all_cubes.append(k**3)\n",
    "        k+=1\n",
    "    for i in range(len(no)):\n",
    "        for j in range(i, len(no)):\n",
    "            for l in all_cubes:\n",
    "                if (l-no[i]-no[j]) in no:\n",
    "                    ans+=1\n",
    "#                     print(l, no[i], no[j], l-no[i]-no[j])\n",
    "    print(ans//2)\n",
    "                    \n",
    "cubes(no)"
   ]
  },
  {
   "cell_type": "code",
   "execution_count": 1,
   "metadata": {},
   "outputs": [
    {
     "name": "stdout",
     "output_type": "stream",
     "text": [
      "138\n"
     ]
    }
   ],
   "source": [
    "# keypad problem\n",
    "# https://www.geeksforgeeks.org/mobile-numeric-keypad-problem/\n",
    "keys = [[1,2,3],[4,5,6],[7,8,9],['*', 0, '#']]\n",
    "def keypad(n):\n",
    "    dp = [[0 for i in range(n+1)] for i in range(10)]\n",
    "    lis = [[0,8],[1,2,4],[2,1,3,5], [3,2,6], [4,1,7,5], [5,2,6,4,8], [6,3,9,5], [7,4,8], [8,0,5,7,9], [9,6,8]]\n",
    "    for i in range(1,n+1):\n",
    "        for j in range(10):\n",
    "            if i == 1:\n",
    "                dp[j][i] = 1\n",
    "            else:\n",
    "                for k in lis[j]:\n",
    "                    dp[j][i]+=dp[k][i-1]\n",
    "    ans = 0\n",
    "    for val in dp:\n",
    "        ans+=val[n]\n",
    "    print(ans)\n",
    "        \n",
    "keypad(3)"
   ]
  },
  {
   "cell_type": "code",
   "execution_count": null,
   "metadata": {},
   "outputs": [],
   "source": [
    "# important: https://www.geeksforgeeks.org/optimal-strategy-for-a-game-dp-31/\n",
    "# check explaination on site, its better there.\n",
    "def solDP():\n",
    "    dp = [[0 for i in range(n)] for i in range(n)]\n",
    "    for gap in range(n):\n",
    "        for j in range(gap, n):\n",
    "            i = j-gap\n",
    "            if i == j:\n",
    "                dp[i][j] = lis[i]\n",
    "            elif i == j-1:\n",
    "                dp[i][j] = max(lis[i], lis[j])\n",
    "            else:\n",
    "                x = 0\n",
    "                if (i+2)<=j:\n",
    "                    x = dp[i+2][j]\n",
    "                y = 0\n",
    "                if (i+1) <= (j-1):\n",
    "                    y = dp[i+1][j-1]\n",
    "                z = 0\n",
    "                if (i)<=j-2:\n",
    "                    z = dp[i][j-2]\n",
    "                dp[i][j] = max(lis[i] + min(x, y), lis[j] + min(y, z))\n",
    "    print(dp)\n",
    "    \n",
    "solDP()\n"
   ]
  },
  {
   "cell_type": "code",
   "execution_count": 2,
   "metadata": {},
   "outputs": [
    {
     "ename": "ValueError",
     "evalue": "not enough values to unpack (expected 2, got 0)",
     "output_type": "error",
     "traceback": [
      "\u001b[1;31m---------------------------------------------------------------------------\u001b[0m",
      "\u001b[1;31mValueError\u001b[0m                                Traceback (most recent call last)",
      "\u001b[1;32m<ipython-input-2-999cc6a2cd77>\u001b[0m in \u001b[0;36m<module>\u001b[1;34m\u001b[0m\n\u001b[0;32m      5\u001b[0m \u001b[1;32mimport\u001b[0m \u001b[0msys\u001b[0m\u001b[1;33m\u001b[0m\u001b[1;33m\u001b[0m\u001b[0m\n\u001b[0;32m      6\u001b[0m \u001b[0msys\u001b[0m\u001b[1;33m.\u001b[0m\u001b[0msetrecursionlimit\u001b[0m\u001b[1;33m(\u001b[0m\u001b[0mint\u001b[0m\u001b[1;33m(\u001b[0m\u001b[1;36m1e6\u001b[0m\u001b[1;33m)\u001b[0m\u001b[1;33m)\u001b[0m\u001b[1;33m\u001b[0m\u001b[1;33m\u001b[0m\u001b[0m\n\u001b[1;32m----> 7\u001b[1;33m \u001b[0mn\u001b[0m\u001b[1;33m,\u001b[0m \u001b[0mm\u001b[0m \u001b[1;33m=\u001b[0m \u001b[0mmap\u001b[0m\u001b[1;33m(\u001b[0m\u001b[0mint\u001b[0m\u001b[1;33m,\u001b[0m \u001b[0msys\u001b[0m\u001b[1;33m.\u001b[0m\u001b[0mstdin\u001b[0m\u001b[1;33m.\u001b[0m\u001b[0mreadline\u001b[0m\u001b[1;33m(\u001b[0m\u001b[1;33m)\u001b[0m\u001b[1;33m.\u001b[0m\u001b[0msplit\u001b[0m\u001b[1;33m(\u001b[0m\u001b[1;33m)\u001b[0m\u001b[1;33m)\u001b[0m\u001b[1;33m\u001b[0m\u001b[1;33m\u001b[0m\u001b[0m\n\u001b[0m\u001b[0;32m      8\u001b[0m \u001b[0mmatrix\u001b[0m \u001b[1;33m=\u001b[0m \u001b[1;33m[\u001b[0m\u001b[0mlist\u001b[0m\u001b[1;33m(\u001b[0m\u001b[0mmap\u001b[0m\u001b[1;33m(\u001b[0m\u001b[0mint\u001b[0m\u001b[1;33m,\u001b[0m \u001b[0msys\u001b[0m\u001b[1;33m.\u001b[0m\u001b[0mstdin\u001b[0m\u001b[1;33m.\u001b[0m\u001b[0mreadline\u001b[0m\u001b[1;33m(\u001b[0m\u001b[1;33m)\u001b[0m\u001b[1;33m.\u001b[0m\u001b[0msplit\u001b[0m\u001b[1;33m(\u001b[0m\u001b[1;33m)\u001b[0m\u001b[1;33m)\u001b[0m\u001b[1;33m)\u001b[0m \u001b[1;32mfor\u001b[0m \u001b[0m_\u001b[0m \u001b[1;32min\u001b[0m \u001b[0mrange\u001b[0m\u001b[1;33m(\u001b[0m\u001b[0mn\u001b[0m\u001b[1;33m)\u001b[0m\u001b[1;33m]\u001b[0m\u001b[1;33m\u001b[0m\u001b[1;33m\u001b[0m\u001b[0m\n\u001b[0;32m      9\u001b[0m \u001b[0mdebug\u001b[0m\u001b[1;33m(\u001b[0m\u001b[0mmatrix\u001b[0m\u001b[1;33m=\u001b[0m\u001b[0mmatrix\u001b[0m\u001b[1;33m)\u001b[0m\u001b[1;33m\u001b[0m\u001b[1;33m\u001b[0m\u001b[0m\n",
      "\u001b[1;31mValueError\u001b[0m: not enough values to unpack (expected 2, got 0)"
     ]
    }
   ],
   "source": [
    "# an example of problem which is easier to execute using memoization and not tabulization.\n",
    "# https://www.techiedelight.com/find-longest-sequence-formed-adjacent-numbers-matrix/\n",
    "\n",
    "# from debug import debug\n",
    "import sys\n",
    "sys.setrecursionlimit(int(1e6))\n",
    "n, m = map(int, sys.stdin.readline().split())\n",
    "matrix = [list(map(int, sys.stdin.readline().split())) for _ in range(n)]\n",
    "debug(matrix=matrix)\n",
    "def valid(i, j): return (0<=i<n) and (0<=j<m)\n",
    "dp = [[-1 for _ in range(m)] for _ in range(n)]\n",
    "\n",
    "moves = [(1, 0), (-1, 0), (0, 1), (0, -1)]\n",
    "def sol(i, j):\n",
    "    if dp[i][j] == -1:\n",
    "        dp[i][j] = 0\n",
    "        for move in moves:\n",
    "            xx, yy = i+move[0], j+move[1]\n",
    "            if valid(xx, yy) and matrix[xx][yy]-1==matrix[i][j]:\n",
    "                dp[i][j] += 1+sol(xx, yy)\n",
    "\n",
    "    return dp[i][j]\n",
    "\n",
    "\n",
    "for i in range(n):\n",
    "    for j in range(m):\n",
    "        if dp[i][j] == -1:\n",
    "            sol(i,j)\n",
    "# sol(0, 0)\n",
    "debug(dp=dp)"
   ]
  },
  {
   "cell_type": "code",
   "execution_count": 1,
   "metadata": {},
   "outputs": [
    {
     "name": "stdout",
     "output_type": "stream",
     "text": [
      "[0, 1, 5, 8, 10, 13, 17, 18, 22]\n"
     ]
    }
   ],
   "source": [
    "# https://www.techiedelight.com/rot-cutting/\n",
    "lis = [1,2,3,4,5,6,7,8]\n",
    "p =   [1,5,8,9,10,17,17,20]\n",
    "n = len(lis)\n",
    "s = 8\n",
    "\n",
    "dp = [0 for i in range(s+1)]\n",
    "for i in range(n):\n",
    "    if lis[i]<=s: dp[lis[i]] = p[i]\n",
    "\n",
    "for i in range(s+1):\n",
    "    for j in range(n):\n",
    "        if i-lis[j]>0: dp[i] = max(dp[i], dp[i-lis[j]]+p[j])\n",
    "print(dp)"
   ]
  },
  {
   "cell_type": "code",
   "execution_count": 1,
   "metadata": {},
   "outputs": [
    {
     "name": "stdout",
     "output_type": "stream",
     "text": [
      "12\n",
      "12\n",
      "4163 106\n"
     ]
    }
   ],
   "source": [
    "# longest palindromic subsequence in a string\n",
    "# two variables, i, j\n",
    "# i start , j end\n",
    "# if s[i] == s[j] then find between i+1, j-1 and add 2 to it.\n",
    "# else max if i+1, j or i, j-1.\n",
    "s = \"bstringgnirtsa\"\n",
    "# s = \"BBABCBCAB\"\n",
    "n = len(s)\n",
    "from debug import *\n",
    "\n",
    "@timit\n",
    "def rec(i, j):\n",
    "    if i == j: return 1\n",
    "    if i < j:\n",
    "        if s[i] == s[j]:\n",
    "            return 2 + rec(i+1, j-1)\n",
    "        return max(rec(i, j-1), rec(i+1, j))\n",
    "    return 0\n",
    "\n",
    "dp = [[None for _ in range(n)] for _ in range(n)]\n",
    "@timit\n",
    "def recDP(i, j):\n",
    "    if i == j: dp[i][j] = 1; return dp[i][j]\n",
    "    if i < j:\n",
    "        if s[i] == s[j]:\n",
    "            if dp[i+1][j-1] is None: dp[i+1][j-1] = recDP(i+1, j-1)\n",
    "            return 2 + dp[i+1][j-1]\n",
    "        if dp[i+1][j] is None: dp[i+1][j] = recDP(i+1, j)\n",
    "        if dp[i][j-1] is None: dp[i][j-1] = recDP(i, j-1)\n",
    "        return max(dp[i][j-1], dp[i+1][j])\n",
    "    dp[i][j] = 0; return dp[i][j]\n",
    "\n",
    "print(rec(0, n-1))\n",
    "print(recDP(0, n-1))\n",
    "print(rec.call, recDP.call)"
   ]
  },
  {
   "cell_type": "code",
   "execution_count": 1,
   "metadata": {},
   "outputs": [
    {
     "name": "stdout",
     "output_type": "stream",
     "text": [
      "bb\n"
     ]
    }
   ],
   "source": [
    "# longest palindromic substring\n",
    "# dp[i][j] store if s[i:j+1] is palindrome or not.\n",
    "# base cases are of len 1 and 2.\n",
    "# if s[i] == s[j] and dp[i+1][j-1] == 1. means d[i][j] = 1.\n",
    "# then get the longest substring.\n",
    "# s = \"bstringgnirtsa\"\n",
    "s = \"abb\"\n",
    "n = len(s)\n",
    "c = 0\n",
    "dp = [[0 for _ in range(n)] for _ in range(n)]\n",
    "for i in range(n): dp[i][i] = 1\n",
    "for i in range(n-1): dp[i][i+1] = 1*(s[i] == s[i+1])\n",
    "ans = 0\n",
    "s1, s2 = -1, -1\n",
    "for i in range(n-3, -1, -1):\n",
    "    for j in range(i+2, n):\n",
    "        dp[i][j] = 1*(s[i] == s[j] and dp[i+1][j-1])\n",
    "\n",
    "for i in range(n):\n",
    "    l, f = -1, -1\n",
    "    for j in range(i, n):\n",
    "        if dp[i][j] and f == -1: f = l = j\n",
    "        elif dp[i][j]: l = max(l, j)\n",
    "    if ans < l-f+1: s1, s2 = f, l; ans = l-f+1\n",
    "print(s[s1:s2+1])"
   ]
  },
  {
   "cell_type": "code",
   "execution_count": 2,
   "metadata": {},
   "outputs": [
    {
     "name": "stdin",
     "output_type": "stream",
     "text": [
      " 1\n",
      " 1\n"
     ]
    },
    {
     "name": "stdout",
     "output_type": "stream",
     "text": [
      "1\n"
     ]
    }
   ],
   "source": [
    "# subset partition best sol.\n",
    "n = int(input())\n",
    "lis = list(map(int, input().split()))\n",
    "S = sum(lis)\n",
    "s, m = S//2 + 1, int(1e10)\n",
    "dp = {0}\n",
    "for x in lis: dp = dp.union({i+x for i in dp})\n",
    "for i in dp: m = min(m, abs(S-2*i))\n",
    "print(m)"
   ]
  },
  {
   "cell_type": "code",
   "execution_count": 4,
   "metadata": {},
   "outputs": [
    {
     "name": "stdout",
     "output_type": "stream",
     "text": [
      "60\n"
     ]
    }
   ],
   "source": [
    "# Painter's partion problem.\n",
    "arr = [10, 20, 30, 40]\n",
    "n = len(arr)\n",
    "k = 2\n",
    "\n",
    "def getit(m):\n",
    "    no = 1\n",
    "    total = 0\n",
    "    for i in arr:\n",
    "        total += i\n",
    "        if total > m:\n",
    "            total = i\n",
    "            no += 1\n",
    "    return no\n",
    "\n",
    "low, high = max(arr), sum(arr)\n",
    "while low < high:\n",
    "    mid = (high+low)//2\n",
    "    res = getit(mid)\n",
    "    if res<=k: high = mid\n",
    "    else: low = mid + 1\n",
    "print(low)"
   ]
  },
  {
   "cell_type": "code",
   "execution_count": null,
   "metadata": {},
   "outputs": [],
   "source": []
  }
 ],
 "metadata": {
  "kernelspec": {
   "display_name": "Python 3",
   "language": "python",
   "name": "python3"
  },
  "language_info": {
   "codemirror_mode": {
    "name": "ipython",
    "version": 3
   },
   "file_extension": ".py",
   "mimetype": "text/x-python",
   "name": "python",
   "nbconvert_exporter": "python",
   "pygments_lexer": "ipython3",
   "version": "3.8.6"
  }
 },
 "nbformat": 4,
 "nbformat_minor": 4
}
