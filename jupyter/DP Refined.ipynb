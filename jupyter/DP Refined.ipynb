{
 "cells": [
  {
   "cell_type": "markdown",
   "metadata": {},
   "source": [
    "String DP\n",
    "========"
   ]
  },
  {
   "cell_type": "markdown",
   "metadata": {},
   "source": [
    "Longest common subsequence\n",
    "-------"
   ]
  },
  {
   "cell_type": "markdown",
   "metadata": {},
   "source": [
    "`if s1[i] == s2[j] -> lcsb(i, j) = lcsb(i-1, j-1)+1\n",
    "else lcsb(i, j) = max(lcsb(i, j-1), lcsb(i-1, j))`"
   ]
  },
  {
   "cell_type": "code",
   "execution_count": 1,
   "metadata": {},
   "outputs": [
    {
     "name": "stdout",
     "output_type": "stream",
     "text": [
      "10\n"
     ]
    }
   ],
   "source": [
    "# code\n",
    "s1 = \"danishamin\"\n",
    "s2 = \"danishazmziznz\"\n",
    "n, m = len(s1), len(s2)\n",
    "dp = [[0 for _ in range(m+1)] for _ in range(n+1)]\n",
    "for i in range(1, n+1):\n",
    "    for j in range(1, m+1):\n",
    "        if s1[i-1] == s2[j-1]: dp[i][j] = dp[i-1][j-1] + 1  # NOTE: string index is 1 step lagging dp index.\n",
    "        else: dp[i][j] = max(dp[i-1][j], dp[i][j-1])\n",
    "print(dp[n][m])"
   ]
  },
  {
   "cell_type": "markdown",
   "metadata": {},
   "source": [
    "Longest common substring\n",
    "-----"
   ]
  },
  {
   "cell_type": "markdown",
   "metadata": {},
   "source": [
    "`if s1[i] == s2[j] -> lcst(i, j) = lcst(i-1, j-1)+1\n",
    "else lcst(i, j) = 0\n",
    "ans = max(lcst(i, j), ans)`"
   ]
  },
  {
   "cell_type": "code",
   "execution_count": 1,
   "metadata": {},
   "outputs": [
    {
     "name": "stdout",
     "output_type": "stream",
     "text": [
      "7\n"
     ]
    }
   ],
   "source": [
    "#code\n",
    "s1 = \"danishamin\"\n",
    "s2 = \"danishazmziznz\"\n",
    "n, m = len(s1), len(s2)\n",
    "dp = [[0 for _ in range(m+1)] for _ in range(n+1)]\n",
    "ans = 0\n",
    "for i in range(1, n+1):\n",
    "    for j in range(1, m+1):\n",
    "        if s1[i-1] == s2[j-1]: dp[i][j] = dp[i-1][j-1] + 1  # NOTE: string index is 1 step lagging dp index.\n",
    "        else: dp[i][j] = 0\n",
    "        ans = max(ans, dp[i][j])\n",
    "print(ans)"
   ]
  },
  {
   "cell_type": "markdown",
   "metadata": {},
   "source": [
    "Longest plaindromice subsequence\n",
    "----"
   ]
  },
  {
   "cell_type": "markdown",
   "metadata": {},
   "source": [
    "`make a 2D-array(nxn) dp[i][j] = stores the maximum palindromic length between s[i] and s[j].\n",
    "now base cases are 1 len string and 2 len string.\n",
    "if s[i] == s[j] -> dp[i][j] = dp[i+1][j-1] + 2\n",
    "else -> dp[i][j] = max(dp[i+1][j], dp[i][j-1])\n",
    "ans = max(ans, dp[i][j])`"
   ]
  },
  {
   "cell_type": "code",
   "execution_count": null,
   "metadata": {},
   "outputs": [],
   "source": []
  },
  {
   "cell_type": "code",
   "execution_count": 27,
   "metadata": {},
   "outputs": [
    {
     "name": "stdout",
     "output_type": "stream",
     "text": [
      "6\n"
     ]
    }
   ],
   "source": [
    "# code\n",
    "A = \"bebeeeb\"\n",
    "n = len(A)\n",
    "ans = 0\n",
    "dp = [[0 for i in range(n)] for i in range(n)]\n",
    "for i in range(n): dp[i][i] = 1\n",
    "for l in range(2, n+1):\n",
    "    for i in range(n-l+1):\n",
    "        j = i+l-1\n",
    "        if A[i] == A[j] and l == 2: dp[i][j] = 2\n",
    "        elif A[i] == A[j]: dp[i][j] = dp[i+1][j-1]+2\n",
    "        else: dp[i][j] = max(dp[i][j-1], dp[i+1][j])\n",
    "        ans = max(ans, dp[i][j])\n",
    "print(ans)"
   ]
  },
  {
   "cell_type": "markdown",
   "metadata": {},
   "source": [
    "Longest repeating subsequance\n",
    "-----"
   ]
  },
  {
   "cell_type": "markdown",
   "metadata": {},
   "source": [
    "`same as LCS(both string are same) but with variation that letters can only be equal at different position.`"
   ]
  },
  {
   "cell_type": "code",
   "execution_count": 28,
   "metadata": {},
   "outputs": [
    {
     "name": "stdout",
     "output_type": "stream",
     "text": [
      "2\n"
     ]
    }
   ],
   "source": [
    "s = \"aabb\"\n",
    "n = len(s)\n",
    "dp = [[0 for _ in range(n+1)] for _ in range(n+1)]\n",
    "for i in range(1, n+1):\n",
    "    for j in range(1, n+1):\n",
    "        if s[i-1] == s[j-1] and i != j: dp[i][j] = dp[i-1][j-1]+1  # here it is a bit different from LCS.\n",
    "        else: dp[i][j] = max(dp[i-1][j], dp[i][j-1])\n",
    "print(dp[n][n])"
   ]
  },
  {
   "cell_type": "markdown",
   "metadata": {},
   "source": [
    "Numbers of subsequence\n",
    "-----"
   ]
  },
  {
   "cell_type": "markdown",
   "metadata": {},
   "source": [
    "`find no of B in A.\n",
    "recursive idea: if B[i] == A[j] means either we can choose to stay at same B and move A or can move both. else we have to move A because we have to find B[i].\n",
    "`"
   ]
  },
  {
   "cell_type": "code",
   "execution_count": 2,
   "metadata": {},
   "outputs": [
    {
     "name": "stdout",
     "output_type": "stream",
     "text": [
      "3\n"
     ]
    }
   ],
   "source": [
    "#code\n",
    "A = \"rabbbit\" \n",
    "B = \"rabbit\"\n",
    "n, m = len(A), len(B)\n",
    "dp = [[0 for i in range(n+1)] for i in range(m+1)]\n",
    "for i in range(1, n+1): dp[0][i] = 1\n",
    "for i in range(1, m+1):\n",
    "    for j in range(1, n+1):\n",
    "        if i == j == 1 and A[0] == B[0]: dp[i][j] = 1\n",
    "        else:\n",
    "            if B[i-1] == A[j-1]: dp[i][j] = dp[i][j-1] + dp[i-1][j-1] # knapsack type. either take it or not take it.\n",
    "            else: dp[i][j] = dp[i][j-1]\n",
    "print(dp[m][n])"
   ]
  },
  {
   "cell_type": "markdown",
   "metadata": {},
   "source": [
    "Interleaving of string\n",
    "-------"
   ]
  },
  {
   "cell_type": "markdown",
   "metadata": {},
   "source": [
    "Can *a* and *b* form *c* by interleaving only.  \n",
    "So recursion is if current $a[i] == c[k]$, then go for $i+1$ and $k+1$. else if $b[j] == c[k]$ go for $j+1$ and $k+1$, else not possible.  \n",
    "Base case if *a* end compare left *b* and left *c* and return their truth value or if *b* end than with *a* and *c*.  \n",
    "It may look 3D-dp because **i j k** but its not beacuse $i+j = k$. so $k$ is not independent variable.  "
   ]
  },
  {
   "cell_type": "code",
   "execution_count": 2,
   "metadata": {},
   "outputs": [
    {
     "name": "stdout",
     "output_type": "stream",
     "text": [
      "1\n"
     ]
    }
   ],
   "source": [
    "#code\n",
    "s1 = \"aabcc\"\n",
    "s2 = \"dbbca\"\n",
    "s3 = \"aadbbcbcac\"\n",
    "dp = [[-1 for i in range(len(s2))] for i in range(len(s1))]\n",
    "def sol(i, j, k):\n",
    "    if i == len(s1): return (s2[j:] == s3[k:])\n",
    "    if j == len(s2): return (s1[i:] == s3[k:])\n",
    "    if dp[i][j] != -1: return dp[i][j]\n",
    "    dp[i][j] = 0\n",
    "    if s1[i] == s3[k] and sol(i+1, j, k+1): dp[i][j] = 1\n",
    "    elif s2[j] == s3[k] and sol(i, j+1, k+1): dp[i][j] = 1\n",
    "    return dp[i][j]\n",
    "print(sol(0, 0, 0))"
   ]
  },
  {
   "cell_type": "markdown",
   "metadata": {},
   "source": [
    "### String Conversion"
   ]
  },
  {
   "cell_type": "markdown",
   "metadata": {},
   "source": [
    "So base cases are if either of string is of 0 length than it requires that length of operation.  \n",
    "`dp = 1+min(insertion, deletetion, repalce)\n",
    "dp = 1+min(dp[i-1][j], dp[i][j-1], dp[i-1][j-1])`"
   ]
  },
  {
   "cell_type": "code",
   "execution_count": 6,
   "metadata": {},
   "outputs": [
    {
     "name": "stdout",
     "output_type": "stream",
     "text": [
      "5\n"
     ]
    }
   ],
   "source": [
    "s1 = 'abcdo'\n",
    "s2 = 'wxabu'\n",
    "def minOpDP(str1, str2):\n",
    "    DP = [[-1 for i in range(len(str2)+1)] for i in range(len(str1)+1)]\n",
    "    #print(DP_lis)\n",
    "    for i in range(len(str1)+1):\n",
    "        for j in range(len(str2)+1):\n",
    "            if i == 0:\n",
    "                DP[i][j] = j\n",
    "            elif j == 0:\n",
    "                DP[i][j] = i\n",
    "            elif str1[i-1] == str2[j-1]:\n",
    "                DP[i][j] = DP[i-1][j-1]\n",
    "            else:\n",
    "                DP[i][j] = 1+min(DP[i-1][j-1], DP[i-1][j], DP[i][j-1])\n",
    "    return DP[len(str1)][len(str2)]\n",
    "print(minOpDP(s1, s2))"
   ]
  },
  {
   "cell_type": "markdown",
   "metadata": {},
   "source": [
    "Array DP\n",
    "======="
   ]
  },
  {
   "cell_type": "markdown",
   "metadata": {},
   "source": [
    "Longest increasing subsequence\n",
    "------"
   ]
  },
  {
   "cell_type": "markdown",
   "metadata": {},
   "source": [
    "This is simple ${n}\\times{n}$ solution."
   ]
  },
  {
   "cell_type": "code",
   "execution_count": 10,
   "metadata": {},
   "outputs": [
    {
     "name": "stdout",
     "output_type": "stream",
     "text": [
      "6\n"
     ]
    }
   ],
   "source": [
    "#code\n",
    "A = [0, 8, 4, 12, 2, 10, 6, 14, 1, 9, 5, 13, 3, 11, 7, 15]\n",
    "n = len(A)\n",
    "dp = [1]*n\n",
    "for i in range(n):\n",
    "    for j in range(i):\n",
    "        if A[i] > A[j]: dp[i] = max(dp[i], dp[j]+1)\n",
    "print(max(dp)) # max of dp"
   ]
  },
  {
   "cell_type": "code",
   "execution_count": 6,
   "metadata": {},
   "outputs": [
    {
     "name": "stdout",
     "output_type": "stream",
     "text": [
      "[5, 7, 11, 13, 17, 19]\n"
     ]
    }
   ],
   "source": [
    "# with back tracing of points.\n",
    "lis = [5, 7, 11, 13, 19, 17, 8, 4, 10, 19]\n",
    "n = len(lis)\n",
    "dp = [1]*n\n",
    "p = [-1]*n\n",
    "for i in range(n):\n",
    "    for j in range(i):\n",
    "        if lis[j]<lis[i] and dp[i]<dp[j]+1:\n",
    "            dp[i] = dp[j]+1\n",
    "            p[i] = j\n",
    "val = max(dp)\n",
    "pos = dp.index(val)\n",
    "ans = []\n",
    "while pos != -1:\n",
    "    ans.append(lis[pos])\n",
    "    pos = p[pos]\n",
    "print(ans[::-1])"
   ]
  },
  {
   "cell_type": "markdown",
   "metadata": {},
   "source": [
    "[Link](http://lightoj.com/article_show.php?article=1000&language=english&type=pdf) for nlogn solution explaination.\n",
    "Simple logic for example in the list `[10,9,11,2,5,3,7,101,18]` if a sequence exist from starting `10` then that seqence is also valid for starting from `9`, so you don't need `10` but we cannot say the same about `11` as said for `9`. this logic can be applied repeatedly."
   ]
  },
  {
   "cell_type": "code",
   "execution_count": 5,
   "metadata": {},
   "outputs": [
    {
     "name": "stdout",
     "output_type": "stream",
     "text": [
      "4\n"
     ]
    }
   ],
   "source": [
    "# nlogn code\n",
    "from bisect import *\n",
    "lis = [10,9,2,5,3,7,101,18]\n",
    "inf = int(1e20)\n",
    "n = len(lis)\n",
    "dp = [inf]*(n+1)\n",
    "dp[0] = -inf\n",
    "for i in range(n):\n",
    "    index = bisect_left(dp, lis[i])\n",
    "    dp[index] = lis[i]\n",
    "for i in range(n+1):\n",
    "    if dp[i]<inf:\n",
    "        ans = i\n",
    "print(ans)"
   ]
  },
  {
   "cell_type": "markdown",
   "metadata": {},
   "source": [
    "### Subset Sum count - Max Selection Single\n"
   ]
  },
  {
   "cell_type": "markdown",
   "metadata": {},
   "source": [
    "`Idea is to either take it in sum or to not take it in sum and then never consider it again.`"
   ]
  },
  {
   "cell_type": "code",
   "execution_count": 15,
   "metadata": {},
   "outputs": [
    {
     "name": "stdout",
     "output_type": "stream",
     "text": [
      "[1, 0, 0, 0, 0, 0, 0, 0, 0, 0, 0, 0, 0]\n",
      "[1, 0, 0, 0, 1, 0, 0, 0, 0, 0, 0, 0, 0]\n",
      "[1, 0, 0, 0, 1, 0, 0, 1, 0, 0, 0, 1, 0]\n",
      "[1, 1, 0, 0, 1, 1, 0, 1, 1, 0, 0, 1, 1]\n",
      "[1, 1, 0, 0, 1, 1, 1, 2, 1, 0, 1, 2, 1]\n",
      "[1, 1, 0, 1, 2, 1, 1, 3, 2, 1, 3, 3, 1]\n",
      "[1, 1, 0, 1, 2, 1, 1, 3, 2, 2, 4, 3, 2]\n",
      "[1, 1, 0, 1, 2, 1, 1, 3, 3, 3, 4, 4, 4]\n",
      "[1, 1, 0, 1, 2, 1, 1, 4, 4, 3, 5, 6, 5]\n",
      "[1, 1, 0, 1, 2, 2, 2, 4, 5, 5, 6, 7, 9]\n",
      "9\n"
     ]
    }
   ],
   "source": [
    "#code\n",
    "lis = [4,7,1,6,3,9,8,7,5]\n",
    "n = len(lis)\n",
    "s = 12\n",
    "dp = [[0 for i in range(s+1)] for i in range(n+1)]\n",
    "# base case is 0 sum can be created in any range of list.\n",
    "for i in range(n+1): dp[i][0] = 1\n",
    "for i in range(1, n+1):\n",
    "    for j in range(s+1):\n",
    "        dp[i][j] = dp[i-1][j] + (dp[i-1][j-lis[i-1]] if j-lis[i-1]>=0 else 0)\n",
    "for i in dp: print(i)\n",
    "print(dp[n][s])"
   ]
  },
  {
   "cell_type": "code",
   "execution_count": 19,
   "metadata": {},
   "outputs": [
    {
     "name": "stdout",
     "output_type": "stream",
     "text": [
      "[1, 1, 2, 4, 5, 7, 8, 9, 11, 12, 14, 15, 16]\n",
      "16\n"
     ]
    }
   ],
   "source": [
    "# space efficient \n",
    "lis = [4,7,1,6,3,9,8,7,5]\n",
    "n = len(lis)\n",
    "s = 12\n",
    "dp = [0]*(s+1)\n",
    "dp[0] = 1\n",
    "for j in range(n):\n",
    "    for i in range(lis[j], s+1):\n",
    "        dp[i] = dp[lis[j]]+dp[i-lis[j]]\n",
    "print(dp)\n",
    "print(dp[s])"
   ]
  },
  {
   "cell_type": "markdown",
   "metadata": {},
   "source": [
    "### Subset Sum count - Max Selection INF"
   ]
  },
  {
   "cell_type": "markdown",
   "metadata": {},
   "source": [
    "`Idea is to either to consider a number in the set always or to take it never.`"
   ]
  },
  {
   "cell_type": "code",
   "execution_count": 8,
   "metadata": {},
   "outputs": [
    {
     "name": "stdout",
     "output_type": "stream",
     "text": [
      "[1, 0, 0, 0, 0, 0]\n",
      "[1, 1, 1, 1, 1, 1]\n",
      "[1, 1, 2, 2, 3, 3]\n",
      "[1, 1, 2, 3, 4, 5]\n",
      "[1, 1, 2, 3, 5, 6]\n",
      "[1, 1, 2, 3, 5, 7]\n",
      "[1, 1, 2, 3, 5, 7]\n",
      "[1, 1, 2, 3, 5, 7]\n",
      "[1, 1, 2, 3, 5, 7]\n",
      "[1, 1, 2, 3, 5, 7]\n",
      "7\n"
     ]
    }
   ],
   "source": [
    "#code\n",
    "lis = [1,2,3,4,5,6]\n",
    "s = 5\n",
    "dp = [[0 for i in range(s+1)] for i in range(n+1)]\n",
    "# base case is 0 sum can be created in any range of list.\n",
    "for i in range(n+1): dp[i][0] = 1\n",
    "for i in range(1, n+1):\n",
    "    for j in range(s+1):\n",
    "#                      didn't take it     took it        \n",
    "        dp[i][j]   =   dp[i-1][j]     +  (dp[i][j-lis[i-1]] if j-lis[i-1]>=0 else 0)\n",
    "for i in dp: print(i)\n",
    "print(dp[n][s])"
   ]
  },
  {
   "cell_type": "markdown",
   "metadata": {},
   "source": [
    "### Subset Sum possible - Fast - Max Selection Single"
   ]
  },
  {
   "cell_type": "markdown",
   "metadata": {},
   "source": [
    "`Rather than making a dp list to store value use a set data type because we have to only check if that number is possible or not.`"
   ]
  },
  {
   "cell_type": "code",
   "execution_count": 1,
   "metadata": {},
   "outputs": [
    {
     "name": "stdout",
     "output_type": "stream",
     "text": [
      "YES\n"
     ]
    }
   ],
   "source": [
    "n = 5\n",
    "lis = [1,2,3,4,5,6]\n",
    "s = 10\n",
    "dp = {0}\n",
    "for x in lis: dp.update({i+x for i in dp})\n",
    "if s in dp: print(\"YES\")\n",
    "else: print(\"NO\")"
   ]
  },
  {
   "cell_type": "markdown",
   "metadata": {},
   "source": [
    "### Subset sum permuation - Max selection INF"
   ]
  },
  {
   "cell_type": "code",
   "execution_count": 25,
   "metadata": {},
   "outputs": [
    {
     "name": "stdout",
     "output_type": "stream",
     "text": [
      "401\n"
     ]
    }
   ],
   "source": [
    "A = 10\n",
    "lis = [1, 2, 3, 4]\n",
    "n = len(lis)\n",
    "dp = [0 for _ in range(A+1)]\n",
    "dp[0] = 1\n",
    "for i in range(A+1):\n",
    "    for j in lis:\n",
    "        if i-j>=0: dp[i] += dp[i-j]\n",
    "print(dp[A])"
   ]
  },
  {
   "cell_type": "markdown",
   "metadata": {},
   "source": [
    "### Max product of a sub array"
   ]
  },
  {
   "cell_type": "markdown",
   "metadata": {},
   "source": [
    "Here we keep two variable (max, min) and recursive relations is, dp -> [[max, min]....]  \n",
    "`\n",
    "if A[i] < 0:\n",
    "    dp[i][0] = max(A[i], dp[i-1][1]*A[i])\n",
    "    dp[i][1] = min(A[i], dp[i-1][0]*A[i]) basically switching min and max because multiplying with negtive causes to them to switch.\n",
    "else:\n",
    "    dp[i][0] = max(A[i], dp[i-1][0]*A[i])\n",
    "    dp[i][1] = min(A[i], dp[i-1][1]*A[i])\n",
    "`"
   ]
  },
  {
   "cell_type": "code",
   "execution_count": 2,
   "metadata": {},
   "outputs": [
    {
     "name": "stdout",
     "output_type": "stream",
     "text": [
      "40\n"
     ]
    }
   ],
   "source": [
    "# code\n",
    "nums = [2,0,-1,4,-2,-5]\n",
    "n = len(nums)\n",
    "ans = nums[0]\n",
    "dp = [[ans, ans] for i in range(n)]\n",
    "for i in range(1, n):\n",
    "    if nums[i]<0:\n",
    "        dp[i][0] = max(nums[i], nums[i]*dp[i-1][1])\n",
    "        dp[i][1] = min(nums[i], nums[i]*dp[i-1][0])\n",
    "    else:\n",
    "        dp[i][0] = max(nums[i], nums[i]*dp[i-1][0])\n",
    "        dp[i][1] = min(nums[i], nums[i]*dp[i-1][1])\n",
    "    ans = max(dp[i][0], ans)\n",
    "print(ans)"
   ]
  },
  {
   "cell_type": "code",
   "execution_count": 3,
   "metadata": {},
   "outputs": [
    {
     "name": "stdout",
     "output_type": "stream",
     "text": [
      "40\n"
     ]
    }
   ],
   "source": [
    "#simpler version\n",
    "n = len(nums)\n",
    "mn = mx = ans = nums[0]\n",
    "for i in range(1, n):\n",
    "    if nums[i]<0: mx, mn = mn, mx #switching which was mentioned earlier.\n",
    "    mx = max(nums[i], nums[i]*mx)\n",
    "    mn = min(nums[i], nums[i]*mn)\n",
    "    ans = max(mx, ans)\n",
    "print(ans)"
   ]
  },
  {
   "cell_type": "markdown",
   "metadata": {},
   "source": [
    "### Rod cut problem"
   ]
  },
  {
   "cell_type": "markdown",
   "metadata": {},
   "source": [
    "Bottom up approach.  \n",
    "`for every i get max cut at j->(0, 1)`"
   ]
  },
  {
   "cell_type": "code",
   "execution_count": 2,
   "metadata": {},
   "outputs": [
    {
     "name": "stdout",
     "output_type": "stream",
     "text": [
      "22\n"
     ]
    }
   ],
   "source": [
    "arr = [1, 5, 8, 9, 10, 17, 17, 20]\n",
    "n = len(arr)\n",
    "dp = [0 for i in range(n+1)]\n",
    "for i in range(1, n+1):\n",
    "    ans = 0    \n",
    "    for j in range(i):\n",
    "        ans = max(ans, arr[j]+dp[i-j-1])\n",
    "    dp[i] = ans\n",
    "print(dp[-1])"
   ]
  },
  {
   "cell_type": "markdown",
   "metadata": {},
   "source": [
    "### 0-1 Knapsack "
   ]
  },
  {
   "cell_type": "markdown",
   "metadata": {},
   "source": [
    "`ans = max(val after including nth, val after not including nth)`"
   ]
  },
  {
   "cell_type": "code",
   "execution_count": 3,
   "metadata": {},
   "outputs": [
    {
     "name": "stdout",
     "output_type": "stream",
     "text": [
      "45\n",
      "45\n"
     ]
    }
   ],
   "source": [
    "#code\n",
    "val = [1,2,3,4,5,6,7,8,9]\n",
    "wei = [10, 10, 1,2,3,4,5,6,7,8]\n",
    "n, w = len(val), 50\n",
    "dp = [[-1]*(w+1) for i in range(n)]\n",
    "\n",
    "#memo - a bit faster I guess cause it only goes to required (i, j) states, rather then going for all possible (i, j) states in iter.\n",
    "def sol(i, j):\n",
    "    if i<0: return 0\n",
    "    if dp[i][j] != -1: return dp[i][j]\n",
    "    if wei[i]>j: return sol(i-1, j)\n",
    "    dp[i][j] =  max(sol(i-1, j), val[i] + sol(i-1, j-wei[i]))\n",
    "    return dp[i][j]\n",
    "print(sol(n-1, w))\n",
    "\n",
    "# iter\n",
    "for i in range(n):\n",
    "    for j in range(w+1):\n",
    "        if j>=wei[i]: dp[i][j] = max(val[i]+dp[i-1][j-wei[i]], dp[i-1][j])\n",
    "        else: dp[i][j] = dp[i-1][j]\n",
    "print(dp[-1][-1])"
   ]
  },
  {
   "cell_type": "markdown",
   "metadata": {},
   "source": [
    "### Box stack problem"
   ]
  },
  {
   "cell_type": "markdown",
   "metadata": {},
   "source": [
    "This is extended LIS problem.\n",
    "Given a set of rectangular 3D boxes, create a stack of boxes which is as tall as possible. A box can be placed on top of another box if the dimensions of the 2D base of the lower box are each strictly larger than those of the 2D base of the higher box. no of each boxes are infinte.\n",
    "\n",
    "So convert it into a list of `[(condition variables, value), ...]` (here conditions are lower faces should be s.greater than upper)\n",
    "then sort it according to area. and use LIS dp.\n",
    "~~~~\n",
    "for i in range(n):\n",
    "    for j in range(i):\n",
    "        if (condition_variable[i]) condition (condition_variable[j]): then dp[i] = max(dp[i], val[i]+dp[j])\n",
    "return max(dp)\n",
    "~~~~"
   ]
  },
  {
   "cell_type": "code",
   "execution_count": 18,
   "metadata": {},
   "outputs": [
    {
     "name": "stdout",
     "output_type": "stream",
     "text": [
      "60\n"
     ]
    }
   ],
   "source": [
    "height = [4,1,4,10]\n",
    "width = [6,2,5,12]\n",
    "length = [7,3,6,32]\n",
    "faces = []\n",
    "n = len(width)\n",
    "for i in range(n):\n",
    "    h, w, l = height[i], width[i], length[i]\n",
    "    faces.append((h,w, l))\n",
    "    faces.append((w,l, h)) #index 0 and index 1 are condition variables and index 2 in value variable.\n",
    "    faces.append((l,h, w))\n",
    "faces.sort(key=lambda x: x[0]*x[1], reverse=True)\n",
    "p = len(faces)\n",
    "dp = [i[2] for i in faces]\n",
    "for i in range(p):\n",
    "    for j in range(i):\n",
    "        if (faces[j][0]>faces[i][0] and faces[j][1]>faces[i][1]) or \\\n",
    "        (faces[j][0]>faces[i][1] and faces[j][1]>faces[i][0]): dp[i] = max(dp[i], faces[i][2]+dp[j])\n",
    "print(max(dp))"
   ]
  },
  {
   "cell_type": "markdown",
   "metadata": {},
   "source": [
    "### Weighted Job Scheduling Problem\n",
    "\n",
    "`NOTE: sort according to finish time as you do in non weighted one.`  \n",
    "So include the weights of current job and get the first non overlaping job and add its dp weights(max till that index)"
   ]
  },
  {
   "cell_type": "code",
   "execution_count": 5,
   "metadata": {},
   "outputs": [
    {
     "name": "stdout",
     "output_type": "stream",
     "text": [
      "120\n"
     ]
    }
   ],
   "source": [
    "# code\n",
    "s = [1,2,3,3]\n",
    "e = [3,4,5,6]\n",
    "p = [50,10,40,70]\n",
    "n = len(s)\n",
    "lis = [(s[i], e[i], p[i]) for i in range(n)]\n",
    "lis.sort(key=lambda x:x[1])\n",
    "# finds last non overlapping index\n",
    "def last(i):\n",
    "    for j in range(i-1, -1 ,-1):\n",
    "        if lis[j][1]<=lis[i][0]: return j\n",
    "    return -1\n",
    "# dp to store previous results\n",
    "dp = [0]*n\n",
    "dp[0] = lis[0][2]\n",
    "for i in range(1, n):\n",
    "    v = lis[i][2]\n",
    "    index = last(i)\n",
    "    if index != -1: v+=dp[index]\n",
    "    dp[i] = max(v, dp[i-1]) # max of including curr or no including\n",
    "print(dp[-1])"
   ]
  },
  {
   "cell_type": "markdown",
   "metadata": {},
   "source": [
    "### Matrix product optimization (MCM)"
   ]
  },
  {
   "cell_type": "code",
   "execution_count": 1,
   "metadata": {},
   "outputs": [
    {
     "name": "stdout",
     "output_type": "stream",
     "text": [
      "30\n"
     ]
    }
   ],
   "source": [
    "ans = 0\n",
    "lis = [1, 2, 3, 4, 3]\n",
    "n = len(lis)\n",
    "inf = int(1e10)\n",
    "dp = [[-1]*n for _ in range(n)]\n",
    "\n",
    "def sol(i, j):\n",
    "    if j-i == 1: return 0\n",
    "    if j-i == 2: return lis[i]*lis[i+1]*lis[i+2]\n",
    "    if dp[i][j] != -1: return dp[i][j]\n",
    "    val = inf\n",
    "    for k in range(i+1, j): val = min(val, sol(i, k) + sol(k, j))\n",
    "    dp[i][j] = lis[i]*lis[k]*lis[j] + val\n",
    "    return dp[i][j]\n",
    "\n",
    "ans = sol(0, len(lis)-1)\n",
    "print(ans)"
   ]
  },
  {
   "cell_type": "markdown",
   "metadata": {},
   "source": [
    "# matrix DP"
   ]
  },
  {
   "cell_type": "markdown",
   "metadata": {},
   "source": [
    "## Largest Square Area in 1-0 matrix"
   ]
  },
  {
   "cell_type": "code",
   "execution_count": 7,
   "metadata": {},
   "outputs": [
    {
     "name": "stdout",
     "output_type": "stream",
     "text": [
      "4\n"
     ]
    }
   ],
   "source": [
    "A = [  [1, 1, 1],\n",
    "       [0, 1, 1],\n",
    "       [1, 0, 0] \n",
    "    ]\n",
    "\n",
    "def solve(matrix):\n",
    "    n,m  = len(matrix), len(matrix[0])\n",
    "    dp = [[0 for i in range(m)] for i in range(n)]\n",
    "    ans = 0\n",
    "    \n",
    "    for i in range(n): \n",
    "        dp[i][0] = matrix[i][0]\n",
    "        ans = max(ans, dp[i][0])\n",
    "        \n",
    "    for j in range(m): \n",
    "        dp[0][j] = matrix[0][j]\n",
    "        ans = max(ans, dp[0][j])\n",
    "        \n",
    "    for i in range(1, n):\n",
    "        for j in range(1, m):\n",
    "            dp[i][j] = 1+min(dp[i-1][j-1], dp[i-1][j], dp[i][j-1])\n",
    "            ans = max(ans, dp[i][j])\n",
    "    \n",
    "    return ans*ans\n",
    "\n",
    "print(solve(A))"
   ]
  },
  {
   "cell_type": "markdown",
   "metadata": {},
   "source": [
    "## Largest square with same elements"
   ]
  },
  {
   "cell_type": "code",
   "execution_count": 8,
   "metadata": {},
   "outputs": [
    {
     "name": "stdout",
     "output_type": "stream",
     "text": [
      "1 1 1 1 1 1\n",
      "1 2 1 2 2 1\n",
      "1 1 1 2 3 1\n",
      "1 2 1 1 1 1\n",
      "3\n"
     ]
    }
   ],
   "source": [
    "A = [[1,1,2,2,2,1],\n",
    "     [1,1,2,2,2,2],\n",
    "     [3,3,2,2,2,3],\n",
    "     [3,3,3,5,4,4]]\n",
    "\n",
    "def solve(matrix):\n",
    "    n, m = len(matrix), len(matrix[0])\n",
    "    dp = [[1 for i in range(m)] for i in range(n)]\n",
    "    ans = 0\n",
    "    for i in range(1, n):\n",
    "        for j in range(1, m):\n",
    "            if matrix[i][j] == matrix[i-1][j] == matrix[i][j-1] == matrix[i-1][j-1]:\n",
    "                dp[i][j] = 1 + min(dp[i-1][j], dp[i][j-1], dp[i-1][j-1])\n",
    "                ans = max(ans, dp[i][j])\n",
    "    for i in dp: print(*i)\n",
    "    return ans\n",
    "\n",
    "print(solve(A))"
   ]
  },
  {
   "cell_type": "markdown",
   "metadata": {},
   "source": [
    "## Largest Rectangle in 1-0 matrix"
   ]
  },
  {
   "cell_type": "code",
   "execution_count": 9,
   "metadata": {},
   "outputs": [
    {
     "name": "stdout",
     "output_type": "stream",
     "text": [
      "8\n"
     ]
    }
   ],
   "source": [
    "A = [[0,0,1,1,1],\n",
    "     [0,1,1,1,1],\n",
    "     [0,0,0,1,1],\n",
    "     [1,0,1,1,1]]\n",
    "\n",
    "def solve(matrix):\n",
    "    n, m = len(matrix), len(matrix[0])\n",
    "    dp = [[0 for i in range(m)] for i in range(n)]\n",
    "    for i in range(m): dp[0][i] = matrix[0][i]\n",
    "        \n",
    "    def histMax(lis):\n",
    "        left = [-1]*m\n",
    "        right = [m]*m\n",
    "        \n",
    "        stack = []\n",
    "        for i in range(m):\n",
    "            while stack and lis[stack[-1]]>=lis[i]: stack.pop()\n",
    "            if stack: left[i] = stack[-1]\n",
    "            stack.append(i)\n",
    "        \n",
    "        stack = []\n",
    "        for i in reversed(range(m)):\n",
    "            while stack and lis[stack[-1]]>=lis[i]: stack.pop()\n",
    "            if stack: right[i] = stack[-1]\n",
    "            stack.append(i)\n",
    "        \n",
    "        ans = 0\n",
    "        for i in range(m):\n",
    "            l = left[i]\n",
    "            r = right[i]\n",
    "            h = lis[i]\n",
    "            ans = max(ans, h*(r - l - 1))\n",
    "            \n",
    "        return ans\n",
    "    \n",
    "    ans = histMax(dp[0])\n",
    "    for i in range(1, n):\n",
    "        for j in range(m):\n",
    "            if matrix[i][j] == 1: dp[i][j] = 1 + dp[i-1][j]\n",
    "        ans = max(ans, histMax(dp[i]))\n",
    "        \n",
    "    return ans\n",
    "\n",
    "print(solve(A))"
   ]
  },
  {
   "cell_type": "markdown",
   "metadata": {},
   "source": [
    "## Largest Rectangle with same value\n",
    "\n",
    "Here dp list doesn't care if its neighbours are same, it only cares about its top elements therefore while gettting the area from histogram we have to partition it till those index where neighbour are equal."
   ]
  },
  {
   "cell_type": "code",
   "execution_count": 10,
   "metadata": {},
   "outputs": [
    {
     "name": "stdout",
     "output_type": "stream",
     "text": [
      "8\n"
     ]
    }
   ],
   "source": [
    "A = [[3,4,1,1,1],\n",
    "     [5,5,5,5,1],\n",
    "     [5,5,5,5,1],\n",
    "     [1,7,3,1,1]]\n",
    "\n",
    "def solve(matrix):\n",
    "    n, m = len(matrix), len(matrix[0])\n",
    "    dp = [[1 for i in range(m)] for i in range(n)]\n",
    "        \n",
    "    def histMax(lis):\n",
    "        size = len(lis)\n",
    "        left = [-1]*size\n",
    "        right = [size]*size\n",
    "        \n",
    "        stack = []\n",
    "        for i in range(size):\n",
    "            while stack and lis[stack[-1]]>=lis[i]: stack.pop()\n",
    "            if stack: left[i] = stack[-1]\n",
    "            stack.append(i)\n",
    "        \n",
    "        stack = []\n",
    "        for i in reversed(range(size)):\n",
    "            while stack and lis[stack[-1]]>=lis[i]: stack.pop()\n",
    "            if stack: right[i] = stack[-1]\n",
    "            stack.append(i)\n",
    "        \n",
    "        ans = 0\n",
    "        for i in range(size):\n",
    "            l = left[i]\n",
    "            r = right[i]\n",
    "            h = lis[i]\n",
    "            ans = max(ans, h*(r - l - 1))\n",
    "            \n",
    "        return ans\n",
    "    \n",
    "    ans = histMax(dp[0])\n",
    "    for i in range(1, n):\n",
    "        for j in range(m):\n",
    "            if matrix[i][j] == matrix[i-1][j]: dp[i][j] = 1 + dp[i-1][j]\n",
    "        \n",
    "        x = 0\n",
    "        while x<m:\n",
    "            v = x\n",
    "            while x+1<m and matrix[i][x] == matrix[i][x+1]: x+=1\n",
    "            if x>=m: break\n",
    "            ans = max(ans, histMax(dp[i][v:x+1]))\n",
    "            x+=1\n",
    "        \n",
    "    return ans\n",
    "\n",
    "print(solve(A))"
   ]
  },
  {
   "cell_type": "markdown",
   "metadata": {},
   "source": [
    "## Sub-matrix sum querry in *O(1)*"
   ]
  },
  {
   "cell_type": "code",
   "execution_count": 11,
   "metadata": {},
   "outputs": [
    {
     "name": "stdout",
     "output_type": "stream",
     "text": [
      "_____________________\n",
      ">dp = (4, 5)\n",
      " [\n",
      "   [1, 3, 6, 10, 15],\n",
      "   [4, 8, 15, 20, 30],\n",
      "   [10, 17, 25, 36, 50],\n",
      "   [13, 24, 38, 58, 73],\n",
      " ]\n",
      "---------------------\n",
      "36\n"
     ]
    }
   ],
   "source": [
    "from debug import *\n",
    "\n",
    "matrix = [[1,2,3,4,5],\n",
    "          [3,2,4,1,5],\n",
    "          [6,3,1,6,4],\n",
    "          [3,4,6,9,1]]\n",
    "\n",
    "n,m = len(matrix), len(matrix[0])\n",
    "\n",
    "dp = [[0 for _ in range(m)] for _ in range(n)]\n",
    "dp[0][0] = matrix[0][0]\n",
    "\n",
    "for i in range(1, n):\n",
    "    dp[i][0] = dp[i-1][0] + matrix[i][0]\n",
    "    \n",
    "for i in range(1, m):\n",
    "    dp[0][i] = dp[0][i-1] + matrix[0][i]\n",
    "    \n",
    "for i in range(1, n):\n",
    "    for j in range(1, m):\n",
    "        dp[i][j] = matrix[i][j] + dp[i-1][j] + dp[i][j-1] - dp[i-1][j-1]\n",
    "\n",
    "debug(dp=dp)\n",
    "\n",
    "def ask(a, b, x, y):\n",
    "    T, U, L, S = dp[x][y], 0, 0, 0\n",
    "        \n",
    "    if a>0:\n",
    "        U = dp[a-1][y]\n",
    "    \n",
    "    if b>0:\n",
    "        L = dp[x][b-1]\n",
    "    \n",
    "    if a>0 or  b>0:\n",
    "        S = dp[a-1][b-1]\n",
    "            \n",
    "    return T - L - U + S\n",
    "\n",
    "print(ask(1,1,3,3))"
   ]
  },
  {
   "cell_type": "markdown",
   "metadata": {},
   "source": [
    "[Link](https://www.techiedelight.com/collect-maximum-value-coins-matrix/#:~:text=For%20each%20step%2C%20row%20number,return%20the%20maximum%20possible%20collection.)  \n",
    "Asked in 2020 Google"
   ]
  },
  {
   "cell_type": "code",
   "execution_count": null,
   "metadata": {},
   "outputs": [],
   "source": [
    "inf = int(1e10)\n",
    "matrix = [\n",
    "        [0, 2, 4, 1],\n",
    "        [4, 8, 3, 7],\n",
    "        [2, 3, 6, 2],\n",
    "        [9, 7, 8, 3],\n",
    "        [1, 5, 9, 4]\n",
    "    ]\n",
    "n, m = len(matrix), len(matrix[0])\n",
    "dp = [[[-1 for i in range(m)] for i in range(m)] for i in range(n)]\n",
    "\n",
    "def addpoints(i, x, y):\n",
    "    ans = 0\n",
    "    ans += matrix[i][x]\n",
    "    matrix[i][x] = 0\n",
    "    ans += matrix[i][y]\n",
    "    matrix[i][y] = 0\n",
    "    return ans\n",
    "\n",
    "def valid(i, x, y): return (0<=i<n) and (0<=x<m) and (0<=y<m)\n",
    "def sol(i, x, y):\n",
    "    if not valid(i, x, y): return -inf\n",
    "    if i == n-1:\n",
    "        if x == 0 and y == m-1: return addpoints(i, x, y)\n",
    "        return -inf\n",
    "    if dp[i][x][y] != -1: return dp[i][x][y]\n",
    "    p1, p2 = matrix[i][x], matrix[i][y]\n",
    "    ans = -inf\n",
    "    val = addpoints(i, x, y)\n",
    "    ans = max(ans, sol(i+1, x, y-1))\n",
    "    ans = max(ans, sol(i+1, x, y))\n",
    "    ans = max(ans, sol(i+1, x, y+1))\n",
    "\n",
    "    ans = max(ans, sol(i+1, x+1, y-1))\n",
    "    ans = max(ans, sol(i+1, x+1, y))\n",
    "    ans = max(ans, sol(i+1, x+1, y+1))\n",
    "\n",
    "    ans = max(ans, sol(i+1, x-1, y-1))\n",
    "    ans = max(ans, sol(i+1, x-1, y))\n",
    "    ans = max(ans, sol(i+1, x-1, y+1))\n",
    "    dp[i][x][y] = val + ans\n",
    "    matrix[i][x], matrix[i][y] = p1, p2\n",
    "    return dp[i][x][y]\n",
    "\n",
    "val = sol(0, 0, m-1)\n",
    "print(val)"
   ]
  },
  {
   "cell_type": "markdown",
   "metadata": {},
   "source": [
    "# Bit masking dp"
   ]
  },
  {
   "cell_type": "markdown",
   "metadata": {},
   "source": [
    "Problem is to find a shortest superstring which contain all letter in A.  \n",
    "`NOTE: code is wrong somewhere`"
   ]
  },
  {
   "cell_type": "code",
   "execution_count": 2,
   "metadata": {},
   "outputs": [
    {
     "name": "stdout",
     "output_type": "stream",
     "text": [
      "abcdefgha\n",
      "33\n",
      "0.0\n"
     ]
    }
   ],
   "source": [
    "#code\n",
    "from debug import *\n",
    "A = ['abc', 'bcd', 'def', 'cdefgha']\n",
    "inf = int(1e10)\n",
    "n = len(A)\n",
    "mask = 0\n",
    "dp = dict()\n",
    "\n",
    "# utility function to determine for a, b max common prefix and sufix of a and b, vice-versa too.\n",
    "# simple use KMP lps idea.\n",
    "def combine(a, b):\n",
    "    n, m = len(a), len(b)\n",
    "    if n == 0: return b\n",
    "    if m == 0: return a\n",
    "    s = b+a\n",
    "    i, l = 1, 0\n",
    "    lps = [0]*(n+m)\n",
    "    while i<n+m:\n",
    "        if s[i] == s[l]: l+=1; lps[i] = l; i+=1\n",
    "        else:\n",
    "            if l: l = lps[l-1]\n",
    "            else: i+=1\n",
    "    v1 = lps[-1]\n",
    "    s = a+b\n",
    "    i, l = 1, 0\n",
    "    lps = [0]*(n+m)\n",
    "    while i<n+m:\n",
    "        if s[i] == s[l]: l+=1; lps[i] = l; i+=1\n",
    "        else:\n",
    "            if l: l = lps[l-1]\n",
    "            else: i+=1\n",
    "    v2 = lps[-1]\n",
    "    if v1>v2: return a+b[v1:]\n",
    "    return b+a[v2:] \n",
    "\n",
    "# bit mask dp solution Not perfect though...\n",
    "# as we know binary no: can represent subset uniquely, so we are using mask as an integer to determine what subset we are considering.\n",
    "@timit\n",
    "def sol(mask):\n",
    "    if mask == 1<<n: return \"\" # total possibilities 2^n, so mask == 2^n break or return base case.\n",
    "    if mask in dp: return dp[mask]\n",
    "    s, l = \"\", inf\n",
    "    for i in range(n):\n",
    "        # if ith bit is 1 means already consider in set so move on to next bit and if that is zero then procced.\n",
    "        if (mask>>i)&1 == 0:\n",
    "            mask = mask|(1<<i) #updating mask\n",
    "            val = sol(mask) # passing updated mask\n",
    "            string = combine(A[i], val)\n",
    "            if len(string)<l: s, l = string, len(string)\n",
    "            mask -= (1<<i)\n",
    "    dp[mask] = s\n",
    "    return s\n",
    "print(sol(0))\n",
    "print(sol.call)"
   ]
  },
  {
   "cell_type": "markdown",
   "metadata": {},
   "source": [
    "# Tree DP"
   ]
  },
  {
   "cell_type": "markdown",
   "metadata": {},
   "source": [
    "### Total no: of BST  in a permuation"
   ]
  },
  {
   "cell_type": "markdown",
   "metadata": {},
   "source": [
    "$ans(n)$ is total no of BST in size of n.  \n",
    "$root(i)$ is total no of BST possible if $i$ is taken as root.  \n",
    "$ans(n) = root(1) + root(2) + root(3) + \\ldots + root(n)$  \n",
    "$f(root) = ans(root-1) \\times ans(p-root)$    \n",
    "where p is the size of tree.  "
   ]
  },
  {
   "cell_type": "code",
   "execution_count": 2,
   "metadata": {},
   "outputs": [
    {
     "data": {
      "text/plain": [
       "42"
      ]
     },
     "execution_count": 2,
     "metadata": {},
     "output_type": "execute_result"
    }
   ],
   "source": [
    "#code\n",
    "def numTrees(n: int) -> int:\n",
    "    dp = [0]*(n+1)\n",
    "    dp[0] = 1\n",
    "    dp[1] = 1\n",
    "    for size in range(2, n+1):\n",
    "        total = 0\n",
    "        for root in range(size+1):\n",
    "            left = root - 1\n",
    "            right = size - root\n",
    "            total += dp[left]*dp[right]\n",
    "        dp[size] = total\n",
    "    return dp[n]\n",
    "numTrees(5)"
   ]
  },
  {
   "cell_type": "markdown",
   "metadata": {},
   "source": [
    "### Painter's partition "
   ]
  },
  {
   "cell_type": "code",
   "execution_count": 53,
   "metadata": {},
   "outputs": [
    {
     "name": "stdout",
     "output_type": "stream",
     "text": [
      "60\n"
     ]
    }
   ],
   "source": [
    "# add painter's partition\n",
    "arr = [10, 20, 30, 40]\n",
    "n = len(arr)\n",
    "k = 2\n",
    "\n",
    "def getit(m):\n",
    "    no = 1\n",
    "    total = 0\n",
    "    for i in arr:\n",
    "        total += i\n",
    "        if total > m:\n",
    "            total = i\n",
    "            no += 1\n",
    "    return no\n",
    "\n",
    "low, high = max(arr), sum(arr)\n",
    "while low < high:\n",
    "    mid = (high+low)//2\n",
    "    res = getit(mid)\n",
    "    if res<=k: high = mid\n",
    "    else: low = mid + 1\n",
    "print(low)"
   ]
  },
  {
   "cell_type": "markdown",
   "metadata": {},
   "source": [
    "# Buy and Sell Stocks\n",
    "[Blog Link](https://medium.com/algorithms-and-leetcode/best-time-to-buy-sell-stocks-on-leetcode-the-ultimate-guide-ce420259b323)"
   ]
  },
  {
   "cell_type": "markdown",
   "metadata": {},
   "source": [
    "## Buy and sell Stock I\n",
    "You want to maximize your profit by choosing a single day to buy one stock and choosing a different day in the future to sell that stock."
   ]
  },
  {
   "cell_type": "code",
   "execution_count": 3,
   "metadata": {},
   "outputs": [
    {
     "name": "stdout",
     "output_type": "stream",
     "text": [
      "8\n"
     ]
    }
   ],
   "source": [
    "\n",
    "prices = [1,7,2,5,7,3,9,4,8,7]\n",
    "\n",
    "ans = max(prices) - min(prices)\n",
    "print(ans)"
   ]
  },
  {
   "cell_type": "markdown",
   "metadata": {},
   "source": [
    "## Buy and Sell Stock II\n",
    "On each day, you may decide to buy and/or sell the stock. You can only hold at most one share of the stock at any time. However, you can buy it then immediately sell it on the same day."
   ]
  },
  {
   "cell_type": "code",
   "execution_count": 4,
   "metadata": {},
   "outputs": [
    {
     "name": "stdout",
     "output_type": "stream",
     "text": [
      "21\n"
     ]
    }
   ],
   "source": [
    "\n",
    "prices = [1,7,2,5,7,3,9,4,8,7]\n",
    "\n",
    "ans = 0\n",
    "for i in range(1, len(prices)):\n",
    "    ans += max(0, prices[i] - prices[i-1])\n",
    "\n",
    "print(ans)  "
   ]
  },
  {
   "cell_type": "markdown",
   "metadata": {},
   "source": [
    "## Buy and Sell Stock III\n",
    "Find the maximum profit you can achieve. You may complete at most two transactions."
   ]
  },
  {
   "cell_type": "code",
   "execution_count": 12,
   "metadata": {},
   "outputs": [
    {
     "name": "stdout",
     "output_type": "stream",
     "text": [
      "1 -1 0 -1 0\n",
      "7 -1 6 -1 6\n",
      "2 -1 6 4 6\n",
      "5 -1 6 4 9\n",
      "7 -1 6 4 11\n",
      "3 -1 6 4 11\n",
      "9 -1 8 4 13\n",
      "4 -1 8 4 13\n",
      "8 -1 8 4 13\n",
      "7 -1 8 4 13\n",
      "13\n"
     ]
    }
   ],
   "source": [
    "prices = [1,7,2,5,7,3,9,4,8,7]\n",
    "inf = int(1e10)\n",
    "firstBuy, firstSell = -inf, 0\n",
    "secondBuy, secondSell = -inf, 0\n",
    "\n",
    "for p in prices:\n",
    "    firstBuy = max(firstBuy, -p) # sort of min\n",
    "    firstSell = max(firstSell, firstBuy + p)\n",
    "    secondBuy = max(secondBuy, firstSell - p)\n",
    "    secondSell = max(secondSell, secondBuy + p)\n",
    "\n",
    "print(secondSell)"
   ]
  },
  {
   "cell_type": "markdown",
   "metadata": {},
   "source": [
    "## Buy and Sell Stock IV\n",
    "Find the maximum profit you can achieve. You may complete at most *k* transactions."
   ]
  },
  {
   "cell_type": "code",
   "execution_count": 6,
   "metadata": {},
   "outputs": [
    {
     "name": "stdout",
     "output_type": "stream",
     "text": [
      "17\n"
     ]
    }
   ],
   "source": [
    "# generalization of the III one\n",
    "\n",
    "k = 3\n",
    "prices = [1,7,2,5,7,3,9,4,8,7]\n",
    "inf = int(1e10)\n",
    "buy = [-inf]*k\n",
    "sell = [0]*k\n",
    "\n",
    "for p in prices:\n",
    "    buy[0] = max(buy[0], -p)\n",
    "    sell[0] = max(sell[0], buy[0] + p)\n",
    "\n",
    "    for i in range(1, k):\n",
    "        buy[i] = max(buy[i], sell[i-1] - p)\n",
    "        sell[i] = max(sell[i], buy[i] + p)\n",
    "    \n",
    "print(sell[-1])\n",
    "\n"
   ]
  },
  {
   "cell_type": "code",
   "execution_count": null,
   "metadata": {},
   "outputs": [],
   "source": []
  },
  {
   "cell_type": "code",
   "execution_count": null,
   "metadata": {},
   "outputs": [],
   "source": []
  }
 ],
 "metadata": {
  "kernelspec": {
   "display_name": "Python 3",
   "language": "python",
   "name": "python3"
  },
  "language_info": {
   "codemirror_mode": {
    "name": "ipython",
    "version": 3
   },
   "file_extension": ".py",
   "mimetype": "text/x-python",
   "name": "python",
   "nbconvert_exporter": "python",
   "pygments_lexer": "ipython3",
   "version": "3.8.6"
  },
  "toc-autonumbering": true,
  "toc-showcode": false,
  "toc-showmarkdowntxt": false
 },
 "nbformat": 4,
 "nbformat_minor": 4
}
