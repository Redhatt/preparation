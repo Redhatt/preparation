{
 "cells": [
  {
   "cell_type": "markdown",
   "metadata": {},
   "source": [
    "String DP\n",
    "========"
   ]
  },
  {
   "cell_type": "markdown",
   "metadata": {},
   "source": [
    "Longest common subsequence\n",
    "-------"
   ]
  },
  {
   "cell_type": "markdown",
   "metadata": {},
   "source": [
    "`if s1[i] == s2[j] -> lcsb(i, j) = lcsb(i-1, j-1)+1\n",
    "else lcsb(i, j) = max(lcsb(i, j-1), lcsb(i-1, j))`"
   ]
  },
  {
   "cell_type": "code",
   "execution_count": 1,
   "metadata": {},
   "outputs": [
    {
     "name": "stdout",
     "output_type": "stream",
     "text": [
      "10\n"
     ]
    }
   ],
   "source": [
    "# code\n",
    "s1 = \"danishamin\"\n",
    "s2 = \"danishazmziznz\"\n",
    "n, m = len(s1), len(s2)\n",
    "dp = [[0 for _ in range(m+1)] for _ in range(n+1)]\n",
    "for i in range(1, n+1):\n",
    "    for j in range(1, m+1):\n",
    "        if s1[i-1] == s2[j-1]: dp[i][j] = dp[i-1][j-1] + 1  # NOTE: string index is 1 step lagging dp index.\n",
    "        else: dp[i][j] = max(dp[i-1][j], dp[i][j-1])\n",
    "print(dp[n][m])"
   ]
  },
  {
   "cell_type": "markdown",
   "metadata": {},
   "source": [
    "Longest common substring\n",
    "-----"
   ]
  },
  {
   "cell_type": "markdown",
   "metadata": {},
   "source": [
    "`if s1[i] == s2[j] -> lcst(i, j) = lcst(i-1, j-1)+1\n",
    "else lcst(i, j) = 0\n",
    "ans = max(lcst(i, j), ans)`"
   ]
  },
  {
   "cell_type": "code",
   "execution_count": 1,
   "metadata": {},
   "outputs": [
    {
     "name": "stdout",
     "output_type": "stream",
     "text": [
      "7\n"
     ]
    }
   ],
   "source": [
    "#code\n",
    "s1 = \"danishamin\"\n",
    "s2 = \"danishazmziznz\"\n",
    "n, m = len(s1), len(s2)\n",
    "dp = [[0 for _ in range(m+1)] for _ in range(n+1)]\n",
    "ans = 0\n",
    "for i in range(1, n+1):\n",
    "    for j in range(1, m+1):\n",
    "        if s1[i-1] == s2[j-1]: dp[i][j] = dp[i-1][j-1] + 1  # NOTE: string index is 1 step lagging dp index.\n",
    "        else: dp[i][j] = 0\n",
    "        ans = max(ans, dp[i][j])\n",
    "print(ans)"
   ]
  },
  {
   "cell_type": "markdown",
   "metadata": {},
   "source": [
    "Longest plaindromice subsequence\n",
    "----"
   ]
  },
  {
   "cell_type": "markdown",
   "metadata": {},
   "source": [
    "`make a 2D-array(nxn) dp[i][j] = stores the maximum palindromic length between s[i] and s[j].\n",
    "now base cases are 1 len string and 2 len string.\n",
    "if s[i] == s[j] -> dp[i][j] = dp[i+1][j-1] + 2\n",
    "else -> dp[i][j] = max(dp[i+1][j], dp[i][j-1])\n",
    "ans = max(ans, dp[i][j])`"
   ]
  },
  {
   "cell_type": "code",
   "execution_count": 27,
   "metadata": {},
   "outputs": [
    {
     "name": "stdout",
     "output_type": "stream",
     "text": [
      "6\n"
     ]
    }
   ],
   "source": [
    "# code\n",
    "A = \"bebeeeb\"\n",
    "n = len(A)\n",
    "ans = 0\n",
    "dp = [[0 for i in range(n)] for i in range(n)]\n",
    "for i in range(n): dp[i][i] = 1\n",
    "for l in range(2, n+1):\n",
    "    for i in range(n-l+1):\n",
    "        j = i+l-1\n",
    "        if A[i] == A[j] and l == 2: dp[i][j] = 2\n",
    "        elif A[i] == A[j]: dp[i][j] = dp[i+1][j-1]+2\n",
    "        else: dp[i][j] = max(dp[i][j-1], dp[i+1][j])\n",
    "        ans = max(ans, dp[i][j])\n",
    "print(ans)"
   ]
  },
  {
   "cell_type": "markdown",
   "metadata": {},
   "source": [
    "Longest repeating subsequance\n",
    "-----"
   ]
  },
  {
   "cell_type": "markdown",
   "metadata": {},
   "source": [
    "`same as LCS(both string are same) but with variation that letters can only be equal at different position.`"
   ]
  },
  {
   "cell_type": "code",
   "execution_count": 28,
   "metadata": {},
   "outputs": [
    {
     "name": "stdout",
     "output_type": "stream",
     "text": [
      "2\n"
     ]
    }
   ],
   "source": [
    "s = \"aabb\"\n",
    "n = len(s)\n",
    "dp = [[0 for _ in range(n+1)] for _ in range(n+1)]\n",
    "for i in range(1, n+1):\n",
    "    for j in range(1, n+1):\n",
    "        if s[i-1] == s[j-1] and i != j: dp[i][j] = dp[i-1][j-1]+1  # here it is a bit different from LCS.\n",
    "        else: dp[i][j] = max(dp[i-1][j], dp[i][j-1])\n",
    "print(dp[n][n])"
   ]
  },
  {
   "cell_type": "markdown",
   "metadata": {},
   "source": [
    "Numbers of subsequence\n",
    "-----"
   ]
  },
  {
   "cell_type": "markdown",
   "metadata": {},
   "source": [
    "`find no of B in A.\n",
    "recursive idea: if B[i] == A[j] means either we can choose to stay at same B and move A or can move both. else we have to move A because we have to find B[i].\n",
    "`"
   ]
  },
  {
   "cell_type": "code",
   "execution_count": 2,
   "metadata": {},
   "outputs": [
    {
     "name": "stdout",
     "output_type": "stream",
     "text": [
      "3\n"
     ]
    }
   ],
   "source": [
    "#code\n",
    "A = \"rabbbit\" \n",
    "B = \"rabbit\"\n",
    "n, m = len(A), len(B)\n",
    "dp = [[0 for i in range(n+1)] for i in range(m+1)]\n",
    "for i in range(1, n+1): dp[0][i] = 1\n",
    "for i in range(1, m+1):\n",
    "    for j in range(1, n+1):\n",
    "        if i == j == 1 and A[0] == B[0]: dp[i][j] = 1\n",
    "        else:\n",
    "            if B[i-1] == A[j-1]: dp[i][j] = dp[i][j-1] + dp[i-1][j-1] # knapsack type. either take it or not take it.\n",
    "            else: dp[i][j] = dp[i][j-1]\n",
    "print(dp[m][n])"
   ]
  },
  {
   "cell_type": "markdown",
   "metadata": {},
   "source": [
    "Interleaving of string\n",
    "-------"
   ]
  },
  {
   "cell_type": "markdown",
   "metadata": {},
   "source": [
    "Can *a* and *b* form *c* by interleaving only.  \n",
    "So recursion is if current $a[i] == c[k]$, then go for $i+1$ and $k+1$. else if $b[j] == c[k]$ go for $j+1$ and $k+1$, else not possible.  \n",
    "Base case if *a* end compare left *b* and left *c* and return their truth value or if *b* end than with *a* and *c*.  \n",
    "It may look 3D-dp because **i j k** but its not beacuse $i+j = k$. so $k$ is not independent variable.  "
   ]
  },
  {
   "cell_type": "code",
   "execution_count": 2,
   "metadata": {},
   "outputs": [
    {
     "name": "stdout",
     "output_type": "stream",
     "text": [
      "1\n"
     ]
    }
   ],
   "source": [
    "#code\n",
    "s1 = \"aabcc\"\n",
    "s2 = \"dbbca\"\n",
    "s3 = \"aadbbcbcac\"\n",
    "dp = [[-1 for i in range(len(s2))] for i in range(len(s1))]\n",
    "def sol(i, j, k):\n",
    "    if i == len(s1): return (s2[j:] == s3[k:])\n",
    "    if j == len(s2): return (s1[i:] == s3[k:])\n",
    "    if dp[i][j] != -1: return dp[i][j]\n",
    "    dp[i][j] = 0\n",
    "    if s1[i] == s3[k] and sol(i+1, j, k+1): dp[i][j] = 1\n",
    "    elif s2[j] == s3[k] and sol(i, j+1, k+1): dp[i][j] = 1\n",
    "    return dp[i][j]\n",
    "print(sol(0, 0, 0))"
   ]
  },
  {
   "cell_type": "markdown",
   "metadata": {},
   "source": [
    "## Edit Distance"
   ]
  },
  {
   "cell_type": "markdown",
   "metadata": {},
   "source": [
    "So base cases are if either of string is of 0 length than it requires that length of operation.  \n",
    "`dp = 1+min(insertion, deletetion, repalce)\n",
    "dp = 1+min(dp[i-1][j], dp[i][j-1], dp[i-1][j-1])`"
   ]
  },
  {
   "cell_type": "code",
   "execution_count": 6,
   "metadata": {},
   "outputs": [
    {
     "name": "stdout",
     "output_type": "stream",
     "text": [
      "5\n"
     ]
    }
   ],
   "source": [
    "s1 = 'abcdo'\n",
    "s2 = 'wxabu'\n",
    "def minOpDP(str1, str2):\n",
    "    DP = [[-1 for i in range(len(str2)+1)] for i in range(len(str1)+1)]\n",
    "    #print(DP_lis)\n",
    "    for i in range(len(str1)+1):\n",
    "        for j in range(len(str2)+1):\n",
    "            if i == 0:\n",
    "                DP[i][j] = j\n",
    "            elif j == 0:\n",
    "                DP[i][j] = i\n",
    "            elif str1[i-1] == str2[j-1]:\n",
    "                DP[i][j] = DP[i-1][j-1]\n",
    "            else:\n",
    "                DP[i][j] = 1+min(DP[i-1][j-1], DP[i-1][j], DP[i][j-1])\n",
    "    return DP[len(str1)][len(str2)]\n",
    "print(minOpDP(s1, s2))"
   ]
  },
  {
   "cell_type": "markdown",
   "metadata": {},
   "source": [
    "## [Scramble String](https://leetcode.com/problems/scramble-string/)\n",
    "\n",
    "We can scramble a string s to get a string t using the following algorithm:\n",
    "\n",
    "If the length of the string is 1, stop.\n",
    "If the length of the string is > 1, do the following:\n",
    "Split the string into two non-empty substrings at a random index, i.e., if the string is s, divide it to x and y where s = x + y.\n",
    "Randomly decide to swap the two substrings or to keep them in the same order. i.e., after this step, s may become s = x + y or s = y + x.\n",
    "Apply step 1 recursively on each of the two substrings x and y.\n",
    "Given two strings s1 and s2 of the same length, return true if s2 is a scrambled string of s1, otherwise, return false."
   ]
  },
  {
   "cell_type": "markdown",
   "metadata": {},
   "source": [
    "the idea is, once you have spilt the string from one point,  \n",
    "the left and right sections will have that many characters only.  \n",
    "The above need to be checked from x+y, and y+x both cases.  \n",
    "in dp you can store if this string combination has been seen before."
   ]
  },
  {
   "cell_type": "code",
   "execution_count": 11,
   "metadata": {},
   "outputs": [
    {
     "name": "stdout",
     "output_type": "stream",
     "text": [
      "True\n"
     ]
    }
   ],
   "source": [
    "class Solution:\n",
    "    def isScramble(self, s1: str, s2: str) -> bool:\n",
    "        self.d = defaultdict(lambda :-1)\n",
    "        def solve(s1, s2):    \n",
    "            if s1 == s2: return True\n",
    "            if sorted(s1) != sorted(s2): return False\n",
    "            if len(s1) == 2 and s1 == s2[::-1]: return True\n",
    "            \n",
    "            # dp------\n",
    "            v = s1+'-'+'s2'\n",
    "            if self.d[v] != -1: return self.d[v]\n",
    "            #---------\n",
    "\n",
    "            for i in range(1, len(s1)):\n",
    "                a, b = s1[:i], s1[i:]\n",
    "                d, c = s1[:~i+1], s1[~i+1:]\n",
    "                x, y = s2[:i], s2[i:]\n",
    "\n",
    "                if solve(a, x) and solve(b, y): \n",
    "                    self.d[v] = True # dp--------\n",
    "                    return True\n",
    "                if solve(c, x) and solve(d, y): \n",
    "                    self.d[v] = True # dp--------\n",
    "                    return True\n",
    "                \n",
    "            self.d[v] = False # dp--------\n",
    "            return False\n",
    "        return solve(s1, s2)\n",
    "    \n",
    "print(Solution().isScramble(\"abcd\", \"abdc\"))"
   ]
  },
  {
   "cell_type": "markdown",
   "metadata": {},
   "source": [
    "## Palindrome Partitioning I\n",
    "\n",
    "Given a string s, partition s such that every substring of the partition is a palindrome. Return all possible palindrome partitioning of s."
   ]
  },
  {
   "cell_type": "markdown",
   "metadata": {},
   "source": [
    "if S is given. the split s into two substring, **s = a + b**.  \n",
    "solve for a and b recursively with condition check.  \n",
    "But we need not to check for **a** here because we already have its optimal answer.   "
   ]
  },
  {
   "cell_type": "code",
   "execution_count": 13,
   "metadata": {},
   "outputs": [
    {
     "data": {
      "text/plain": [
       "[['a', 'a', 'b'], ['aa', 'b']]"
      ]
     },
     "execution_count": 13,
     "metadata": {},
     "output_type": "execute_result"
    }
   ],
   "source": [
    "def partition(s: str):\n",
    "    # palindrom store technique\n",
    "    n = len(s)\n",
    "    #----------- To check a substring is palindrome in O(1)--------------\n",
    "    dp = [[0]*n for i in range(n)]\n",
    "    for i in range(n):\n",
    "        if i+1<n and s[i] == s[i+1]: dp[i][i+1] = 1\n",
    "        dp[i][i] = 1\n",
    "\n",
    "    for length in range(3, n+1):\n",
    "        for low in range(n - length+1):\n",
    "            high = low+length-1\n",
    "            if s[high] == s[low]: dp[low][high] = dp[low+1][high-1]\n",
    "\n",
    "    #--------------------------------------------------------------------\n",
    "    \n",
    "    ans = []\n",
    "    def rec(i, lis=[]):\n",
    "        if i >= n: \n",
    "            ans.append(lis[:])\n",
    "            return\n",
    "        \n",
    "        for k in range(i, n):\n",
    "            if dp[i][k]:\n",
    "                lis.append(s[i:k+1])\n",
    "                rec(k+1, lis)\n",
    "                lis.pop()\n",
    "\n",
    "    rec(0)\n",
    "    return ans\n",
    "\n",
    "s = \"aab\"\n",
    "partition(s)"
   ]
  },
  {
   "cell_type": "markdown",
   "metadata": {},
   "source": [
    "## Palindrome Partitioning II\n",
    "Given a string s, partition s such that every substring of the partition is a palindrome.\n",
    "\n",
    "Return the minimum cuts needed for a palindrome partitioning of s."
   ]
  },
  {
   "cell_type": "code",
   "execution_count": 14,
   "metadata": {},
   "outputs": [
    {
     "data": {
      "text/plain": [
       "1"
      ]
     },
     "execution_count": 14,
     "metadata": {},
     "output_type": "execute_result"
    }
   ],
   "source": [
    "def minCut(s: str) -> int:\n",
    "    n = len(s)\n",
    "\n",
    "    #----------- To check a substring is palindrome in O(1)--------------\n",
    "    check = [[0]*n for i in range(n)]\n",
    "    for i in range(n):\n",
    "        if i+1<n and s[i] == s[i+1]: check[i][i+1] = 1\n",
    "        check[i][i] = 1\n",
    "\n",
    "    for length in range(3, n+1):\n",
    "        for low in range(n-length+1):\n",
    "            high = low+length-1\n",
    "            if s[low] == s[high]: \n",
    "                check[low][high] = check[low+1][high-1]\n",
    "    #--------------------------------------------------------------------\n",
    "          \n",
    "    dp = [-1]*n\n",
    "    def solve(i):\n",
    "        if i == n or check[i][n-1]: return 0\n",
    "        if dp[i] != -1: return dp[i]\n",
    "        \n",
    "        dp[i] = 1e10\n",
    "        for k in range(i, n):\n",
    "            if check[i][k]:\n",
    "                dp[i] = min(dp[i], 1+solve(k+1))\n",
    "        return dp[i]\n",
    "\n",
    "    return solve(0)\n",
    "\n",
    "s = \"aab\"\n",
    "minCut(s)"
   ]
  },
  {
   "cell_type": "markdown",
   "metadata": {},
   "source": [
    "## Palindrome Partitioning III\n",
    "\n",
    "You are given a string s containing lowercase letters and an integer k. You need to :\n",
    "1. First, change some characters of s to other lowercase English letters.  \n",
    "2. Then divide s into k non-empty disjoint substrings such that each substring is a palindrome.  \n",
    "\n",
    "Return the minimal number of characters that you need to change to divide the string."
   ]
  },
  {
   "cell_type": "code",
   "execution_count": 19,
   "metadata": {},
   "outputs": [
    {
     "data": {
      "text/plain": [
       "1"
      ]
     },
     "execution_count": 19,
     "metadata": {},
     "output_type": "execute_result"
    }
   ],
   "source": [
    "def palindromePartition(s: str, k: int) -> int:\n",
    "    n = len(s)\n",
    "\n",
    "    # return number of \n",
    "    def req(a):\n",
    "        ans = 0\n",
    "        for i in range(len(a)//2):\n",
    "            if a[i] != a[~i]: ans += 1\n",
    "        return ans\n",
    "\n",
    "    table = [[0]*n for i in range(n)]\n",
    "    for i in range(n):\n",
    "        for j in range(i+1):\n",
    "            table[j][i] = req(s[j:i+1])\n",
    "\n",
    "    dp = dict()\n",
    "    def solve(i, k):\n",
    "        if k == 1: return table[i][n-1]\n",
    "        if (i, k) in dp: return dp[(i, k)]\n",
    "        ans = 1e10\n",
    "        for x in range(i, n-k+1):\n",
    "            v = table[i][x]\n",
    "            ans = min(ans, v+solve(x+1, k-1))\n",
    "        dp[(i, k)] = ans\n",
    "        return ans\n",
    "\n",
    "    return solve(0, k)\n",
    "\n",
    "s = \"aabcdcr\"\n",
    "palindromePartition(s, 2)"
   ]
  },
  {
   "cell_type": "markdown",
   "metadata": {},
   "source": [
    "Array DP\n",
    "======="
   ]
  },
  {
   "cell_type": "markdown",
   "metadata": {},
   "source": [
    "Longest increasing subsequence\n",
    "------"
   ]
  },
  {
   "cell_type": "markdown",
   "metadata": {},
   "source": [
    "### Simple DP"
   ]
  },
  {
   "cell_type": "code",
   "execution_count": 20,
   "metadata": {},
   "outputs": [
    {
     "name": "stdout",
     "output_type": "stream",
     "text": [
      "6\n"
     ]
    }
   ],
   "source": [
    "#code\n",
    "A = [0, 8, 4, 12, 2, 10, 6, 14, 1, 9, 5, 13, 3, 11, 7, 15]\n",
    "n = len(A)\n",
    "dp = [1]*n\n",
    "for i in range(n):\n",
    "    for j in range(i):\n",
    "        if A[i] > A[j]: dp[i] = max(dp[i], dp[j]+1)\n",
    "print(max(dp)) # max of dp"
   ]
  },
  {
   "cell_type": "markdown",
   "metadata": {},
   "source": [
    "### DP with back tracing"
   ]
  },
  {
   "cell_type": "code",
   "execution_count": 6,
   "metadata": {},
   "outputs": [
    {
     "name": "stdout",
     "output_type": "stream",
     "text": [
      "[5, 7, 11, 13, 17, 19]\n"
     ]
    }
   ],
   "source": [
    "# with back tracing of points.\n",
    "lis = [5, 7, 11, 13, 19, 17, 8, 4, 10, 19]\n",
    "n = len(lis)\n",
    "dp = [1]*n\n",
    "p = [-1]*n\n",
    "for i in range(n):\n",
    "    for j in range(i):\n",
    "        if lis[j]<lis[i] and dp[i]<dp[j]+1:\n",
    "            dp[i] = dp[j]+1\n",
    "            p[i] = j\n",
    "val = max(dp)\n",
    "pos = dp.index(val)\n",
    "ans = []\n",
    "while pos != -1:\n",
    "    ans.append(lis[pos])\n",
    "    pos = p[pos]\n",
    "print(ans[::-1])"
   ]
  },
  {
   "cell_type": "markdown",
   "metadata": {},
   "source": [
    "### [$N\\log{N}$ solution](http://lightoj.com/article_show.php?article=1000&language=english&type=pdf)"
   ]
  },
  {
   "cell_type": "markdown",
   "metadata": {},
   "source": [
    "for nlogn solution explaination.\n",
    "Simple logic for example in the list `[10,9,11,2,5,3,7,101,18]` if a sequence exist from starting `10` then that seqence is also valid for starting from `9`, so you don't need `10` but we cannot say the same about `11` as said for `9`. this logic can be applied repeatedly."
   ]
  },
  {
   "cell_type": "code",
   "execution_count": 5,
   "metadata": {},
   "outputs": [
    {
     "name": "stdout",
     "output_type": "stream",
     "text": [
      "4\n"
     ]
    }
   ],
   "source": [
    "# nlogn code\n",
    "from bisect import *\n",
    "lis = [10,9,2,5,3,7,101,18]\n",
    "inf = int(1e20)\n",
    "n = len(lis)\n",
    "dp = [inf]*(n+1)\n",
    "dp[0] = -inf\n",
    "for i in range(n):\n",
    "    index = bisect_left(dp, lis[i])\n",
    "    dp[index] = lis[i]\n",
    "for i in range(n+1):\n",
    "    if dp[i]<inf:\n",
    "        ans = i\n",
    "print(ans)"
   ]
  },
  {
   "cell_type": "markdown",
   "metadata": {},
   "source": [
    "##  [Delete Columns to Make Sorted III (vectorized version of LIS)](https://leetcode.com/problems/delete-columns-to-make-sorted-iii/)"
   ]
  },
  {
   "cell_type": "code",
   "execution_count": 44,
   "metadata": {},
   "outputs": [
    {
     "data": {
      "text/plain": [
       "0"
      ]
     },
     "execution_count": 44,
     "metadata": {},
     "output_type": "execute_result"
    }
   ],
   "source": [
    "def minDeletionSize(A) -> int:\n",
    "    n, m = len(A), len(A[0])\n",
    "    dp = [1]*m\n",
    "\n",
    "    for j in reversed(range(m-1)):\n",
    "        for k in range(j+1, m):\n",
    "            if all(row[j]<=row[k] for row in A):\n",
    "                dp[j] = max(dp[j], dp[k]+1)\n",
    "\n",
    "    return m - max(dp)\n",
    "\n",
    "strs = [\"abcdef\",\"uvwxyz\"]\n",
    "minDeletionSize(strs)"
   ]
  },
  {
   "cell_type": "markdown",
   "metadata": {},
   "source": [
    "## Subset Sum count - Max Selection Single\n"
   ]
  },
  {
   "cell_type": "markdown",
   "metadata": {},
   "source": [
    "`Idea is to either take it in sum or to not take it in sum and then never consider it again.`"
   ]
  },
  {
   "cell_type": "code",
   "execution_count": 54,
   "metadata": {},
   "outputs": [
    {
     "name": "stdout",
     "output_type": "stream",
     "text": [
      "9\n"
     ]
    }
   ],
   "source": [
    "#code\n",
    "lis = [4,7,1,6,3,9,8,7,5]\n",
    "n = len(lis)\n",
    "s = 12\n",
    "dp = [[0 for i in range(s+1)] for i in range(n+1)]\n",
    "# base case is 0 sum can be created in any range of list.\n",
    "for i in range(n+1): dp[i][0] = 1\n",
    "for i in range(1, n+1):\n",
    "    for j in range(s+1):\n",
    "        dp[i][j] = dp[i-1][j] + (dp[i-1][j-lis[i-1]] if j-lis[i-1]>=0 else 0)\n",
    "print(dp[n][s])"
   ]
  },
  {
   "cell_type": "code",
   "execution_count": 21,
   "metadata": {},
   "outputs": [],
   "source": [
    "# space efficient (please figure out!)"
   ]
  },
  {
   "cell_type": "markdown",
   "metadata": {},
   "source": [
    "## Subset Sum count - Max Selection INF"
   ]
  },
  {
   "cell_type": "markdown",
   "metadata": {},
   "source": [
    "`Idea is to either to consider a number in the set always or to take it never.`"
   ]
  },
  {
   "cell_type": "code",
   "execution_count": 63,
   "metadata": {},
   "outputs": [
    {
     "name": "stdout",
     "output_type": "stream",
     "text": [
      "6\n"
     ]
    }
   ],
   "source": [
    "lis = [1,2,3,4]\n",
    "n = len(lis)\n",
    "s = 5\n",
    "dp = [[0]*(n+1) for i in range(s+1)]\n",
    "\n",
    "#base case, sum == 0 always possible\n",
    "for i in range(n+1):\n",
    "    dp[0][i] = 1\n",
    "    \n",
    "# dp\n",
    "for i in range(1, s+1):\n",
    "    for j in range(1, n+1):\n",
    "        a = dp[i-lis[j-1]][j] if i>=j else 0 # always select\n",
    "        b = dp[i][j-1]  # never select\n",
    "        dp[i][j] = a + b\n",
    "print(dp[-1][-1])"
   ]
  },
  {
   "cell_type": "markdown",
   "metadata": {},
   "source": [
    "## Subset Sum possible - Fast - Max Selection Single"
   ]
  },
  {
   "cell_type": "markdown",
   "metadata": {},
   "source": [
    "`Rather than making a dp list to store value use a set data type because we have to only check if that number is possible or not.`"
   ]
  },
  {
   "cell_type": "code",
   "execution_count": 1,
   "metadata": {},
   "outputs": [
    {
     "name": "stdout",
     "output_type": "stream",
     "text": [
      "YES\n"
     ]
    }
   ],
   "source": [
    "n = 5\n",
    "lis = [1,2,3,4,5,6]\n",
    "s = 10\n",
    "dp = {0}\n",
    "for x in lis: dp.update({i+x for i in dp})\n",
    "if s in dp: print(\"YES\")\n",
    "else: print(\"NO\")"
   ]
  },
  {
   "cell_type": "markdown",
   "metadata": {},
   "source": [
    "## split into 2 subset with minimum difference of thier Sum (only Positive)"
   ]
  },
  {
   "cell_type": "code",
   "execution_count": 32,
   "metadata": {},
   "outputs": [
    {
     "name": "stdout",
     "output_type": "stream",
     "text": [
      "1\n"
     ]
    }
   ],
   "source": [
    "def minimumDifference1(nums) -> int:\n",
    "    set_ = set() # add 0 if phi is a subset too.\n",
    "    for i in nums:\n",
    "        temp = {i} # remove i if phi is a subset too.\n",
    "        for k in set_:\n",
    "            temp.add(i+k)\n",
    "        set_ = set_.union(temp)\n",
    "\n",
    "    total = sum(nums)\n",
    "    ans = 1e10\n",
    "    for i in reversed(range(total//2 + 2)):\n",
    "        if i in set_:\n",
    "            a = i\n",
    "            b = total - i\n",
    "            ans = min(ans, abs(b-a))\n",
    "\n",
    "    return ans\n",
    "\n",
    "arr = [1,2,3,4,5,6]\n",
    "print(minimumDifference1(arr))"
   ]
  },
  {
   "cell_type": "markdown",
   "metadata": {},
   "source": [
    "## split into 2 subset with minimum difference of thier Sum (general)\n",
    "\n",
    "*  We divide the input array into two arbitary parts. \n",
    "*  Then, We take one subset from each part, such that, sum of size of both subset = n. \n",
    "*  And with that subset we try to minimise the absolute difference."
   ]
  },
  {
   "cell_type": "code",
   "execution_count": 37,
   "metadata": {},
   "outputs": [
    {
     "name": "stdout",
     "output_type": "stream",
     "text": [
      "3\n"
     ]
    }
   ],
   "source": [
    "# bit masking technique to get all subset of lis\n",
    "# here we are doing it for two arrays therefore that k+n for right array.\n",
    "\n",
    "from collections import defaultdict\n",
    "from bisect import *\n",
    "def solve(lis, L, R):\n",
    "    n = len(lis)//2\n",
    "    for mask in range(2**n):\n",
    "        l, r, s = 0, 0, 0\n",
    "        for k in range(n):\n",
    "            if mask&(1<<k):\n",
    "                s+=1\n",
    "                l+=lis[k]\n",
    "                r+=lis[k+n]\n",
    "        L[s].add(l)\n",
    "        R[s].add(r)\n",
    "\n",
    "\n",
    "def minimumDifference2(nums) -> int:\n",
    "    n = len(nums)//2\n",
    "    total = sum(nums)\n",
    "    dleft, dright = defaultdict(lambda :set()), defaultdict(lambda :set())\n",
    "\n",
    "    solve(nums, dleft, dright)\n",
    "\n",
    "    ans = 1e10\n",
    "    for i in range(n+1):\n",
    "        a, b = sorted(dleft[i]), sorted(dright[n-i])\n",
    "        for j in a:\n",
    "            val = (total - 2*j)//2\n",
    "            index = bisect_right(b, val) - 1\n",
    "            ans = min(ans, abs(total - 2*(j + b[index])))\n",
    "            if index+1<len(b):\n",
    "                ans = min(ans, abs(total - 2*(j + b[index+1])))\n",
    "\n",
    "    return ans\n",
    "\n",
    "arr = [-1,-2,-3,-4,-5,6]\n",
    "print(minimumDifference2(arr))"
   ]
  },
  {
   "cell_type": "markdown",
   "metadata": {},
   "source": [
    "## Subset sum permuation - Max selection INF"
   ]
  },
  {
   "cell_type": "code",
   "execution_count": 25,
   "metadata": {},
   "outputs": [
    {
     "name": "stdout",
     "output_type": "stream",
     "text": [
      "401\n"
     ]
    }
   ],
   "source": [
    "A = 10\n",
    "lis = [1, 2, 3, 4]\n",
    "n = len(lis)\n",
    "dp = [0 for _ in range(A+1)]\n",
    "dp[0] = 1\n",
    "for i in range(A+1):\n",
    "    for j in lis:\n",
    "        if i-j>=0: dp[i] += dp[i-j]\n",
    "print(dp[A])"
   ]
  },
  {
   "cell_type": "markdown",
   "metadata": {},
   "source": [
    "## Max product of a sub array"
   ]
  },
  {
   "cell_type": "markdown",
   "metadata": {},
   "source": [
    "Here we keep two variable (max, min) and recursive relations is, dp -> [[max, min]....]  \n",
    "`\n",
    "if A[i] < 0:\n",
    "    dp[i][0] = max(A[i], dp[i-1][1]*A[i])\n",
    "    dp[i][1] = min(A[i], dp[i-1][0]*A[i]) basically switching min and max because multiplying with negtive causes to them to switch.\n",
    "else:\n",
    "    dp[i][0] = max(A[i], dp[i-1][0]*A[i])\n",
    "    dp[i][1] = min(A[i], dp[i-1][1]*A[i])\n",
    "`"
   ]
  },
  {
   "cell_type": "code",
   "execution_count": 4,
   "metadata": {},
   "outputs": [
    {
     "name": "stdout",
     "output_type": "stream",
     "text": [
      "40\n"
     ]
    }
   ],
   "source": [
    "# code\n",
    "nums = [2,0,-1,4,-2,-5]\n",
    "n = len(nums)\n",
    "ans = nums[0]\n",
    "dp = [[ans, ans] for i in range(n)]\n",
    "for i in range(1, n):\n",
    "    if nums[i]<0:\n",
    "        dp[i][0] = max(nums[i], nums[i]*dp[i-1][1])\n",
    "        dp[i][1] = min(nums[i], nums[i]*dp[i-1][0])\n",
    "    else:\n",
    "        dp[i][0] = max(nums[i], nums[i]*dp[i-1][0])\n",
    "        dp[i][1] = min(nums[i], nums[i]*dp[i-1][1])\n",
    "    ans = max(dp[i][0], ans)\n",
    "print(ans)"
   ]
  },
  {
   "cell_type": "code",
   "execution_count": 5,
   "metadata": {},
   "outputs": [
    {
     "name": "stdout",
     "output_type": "stream",
     "text": [
      "40\n"
     ]
    }
   ],
   "source": [
    "#simpler version\n",
    "n = len(nums)\n",
    "mn = mx = ans = nums[0]\n",
    "for i in range(1, n):\n",
    "    if nums[i]<0: mx, mn = mn, mx #switching which was mentioned earlier.\n",
    "    mx = max(nums[i], nums[i]*mx)\n",
    "    mn = min(nums[i], nums[i]*mn)\n",
    "    ans = max(mx, ans)\n",
    "print(ans)"
   ]
  },
  {
   "cell_type": "markdown",
   "metadata": {},
   "source": [
    "## Rod cut problem"
   ]
  },
  {
   "cell_type": "markdown",
   "metadata": {},
   "source": [
    "Get all possible cuts such that `l = a + b` and recursivly get and for `a` and `b`."
   ]
  },
  {
   "cell_type": "code",
   "execution_count": 6,
   "metadata": {},
   "outputs": [
    {
     "data": {
      "text/plain": [
       "35"
      ]
     },
     "execution_count": 6,
     "metadata": {},
     "output_type": "execute_result"
    }
   ],
   "source": [
    "def minCost(n: int, cuts) -> int:\n",
    "    cuts.sort()\n",
    "    cuts = [0] + cuts + [n]\n",
    "    n = len(cuts)\n",
    "    dp = [[1e10]*(n) for i in range(n)]\n",
    "\n",
    "    for i in range(n-1): dp[i][i+1] = 0\n",
    "\n",
    "    for length in range(2, n+1):\n",
    "        for low in range(n-length + 1):\n",
    "            high = low + length-1\n",
    "            val = cuts[high] - cuts[low]\n",
    "            \n",
    "            for mid in range(low+1, high):\n",
    "                dp[low][high] = min(dp[low][high], val + dp[low][mid] + dp[mid][high])\n",
    "\n",
    "    return dp[0][n-1]\n",
    "\n",
    "lis = list(range(10))\n",
    "minCost(10, lis)"
   ]
  },
  {
   "cell_type": "code",
   "execution_count": 39,
   "metadata": {},
   "outputs": [
    {
     "data": {
      "text/plain": [
       "35"
      ]
     },
     "execution_count": 39,
     "metadata": {},
     "output_type": "execute_result"
    }
   ],
   "source": [
    "# recursive, too slow\n",
    "def minCostR(n: int, cuts) -> int:\n",
    "    cuts.sort()\n",
    "    cuts = [0] + cuts + [n]\n",
    "    n = len(cuts)\n",
    "    dp = [[-1]*(n) for i in range(n)]\n",
    "\n",
    "    def solve(i, j):\n",
    "        if i+1 == j: return 0\n",
    "        if dp[i][j] != -1: return dp[i][j]\n",
    "        ans = 1e10\n",
    "        for k in range(i+1, j):\n",
    "            ans = min(ans, (cuts[j]-cuts[i])+solve(i,k)+solve(k,j))\n",
    "        dp[i][j] = ans\n",
    "        return ans\n",
    "\n",
    "    return solve(0, n-1)\n",
    "\n",
    "lis = list(range(10))\n",
    "minCostR(10, lis)"
   ]
  },
  {
   "cell_type": "markdown",
   "metadata": {},
   "source": [
    "## 0-1 Knapsack "
   ]
  },
  {
   "cell_type": "markdown",
   "metadata": {},
   "source": [
    "`ans = max(val after including nth, val after not including nth)`"
   ]
  },
  {
   "cell_type": "code",
   "execution_count": 7,
   "metadata": {},
   "outputs": [
    {
     "name": "stdout",
     "output_type": "stream",
     "text": [
      "45\n",
      "45\n"
     ]
    }
   ],
   "source": [
    "#code\n",
    "val = [1,2,3,4,5,6,7,8,9]\n",
    "wei = [10, 10, 1,2,3,4,5,6,7,8]\n",
    "n, w = len(val), 50\n",
    "dp = [[-1]*(w+1) for i in range(n)]\n",
    "\n",
    "#memo - a bit faster I guess cause it only goes to required (i, j) states, rather then going for all possible (i, j) states in iter.\n",
    "def sol(i, j):\n",
    "    if i<0: return 0\n",
    "    if dp[i][j] != -1: return dp[i][j]\n",
    "    if wei[i]>j: return sol(i-1, j)\n",
    "    dp[i][j] =  max(sol(i-1, j), val[i] + sol(i-1, j-wei[i]))\n",
    "    return dp[i][j]\n",
    "print(sol(n-1, w))\n",
    "\n",
    "# iter\n",
    "for i in range(n):\n",
    "    for j in range(w+1):\n",
    "        if j>=wei[i]: dp[i][j] = max(val[i]+dp[i-1][j-wei[i]], dp[i-1][j])\n",
    "        else: dp[i][j] = dp[i-1][j]\n",
    "print(dp[-1][-1])"
   ]
  },
  {
   "cell_type": "markdown",
   "metadata": {},
   "source": [
    "## Box stack problem"
   ]
  },
  {
   "cell_type": "markdown",
   "metadata": {},
   "source": [
    "This is extended LIS problem.\n",
    "Given a set of rectangular 3D boxes, create a stack of boxes which is as tall as possible. A box can be placed on top of another box if the dimensions of the 2D base of the lower box are each strictly larger than those of the 2D base of the higher box. no of each boxes are infinte.\n",
    "\n",
    "So convert it into a list of `[(condition variables, value), ...]` (here conditions are lower faces should be s.greater than upper)\n",
    "then sort it according to area. and use LIS dp.\n",
    "~~~~\n",
    "for i in range(n):\n",
    "    for j in range(i):\n",
    "        if (condition_variable[i]) condition (condition_variable[j]): then dp[i] = max(dp[i], val[i]+dp[j])\n",
    "return max(dp)\n",
    "~~~~"
   ]
  },
  {
   "cell_type": "code",
   "execution_count": 8,
   "metadata": {},
   "outputs": [
    {
     "name": "stdout",
     "output_type": "stream",
     "text": [
      "60\n"
     ]
    }
   ],
   "source": [
    "height = [4,1,4,10]\n",
    "width = [6,2,5,12]\n",
    "length = [7,3,6,32]\n",
    "faces = []\n",
    "n = len(width)\n",
    "for i in range(n):\n",
    "    h, w, l = height[i], width[i], length[i]\n",
    "    faces.append((h,w, l))\n",
    "    faces.append((w,l, h)) #index 0 and index 1 are condition variables and index 2 in value variable.\n",
    "    faces.append((l,h, w))\n",
    "faces.sort(key=lambda x: x[0]*x[1], reverse=True)\n",
    "p = len(faces)\n",
    "dp = [i[2] for i in faces]\n",
    "for i in range(p):\n",
    "    for j in range(i):\n",
    "        if (faces[j][0]>faces[i][0] and faces[j][1]>faces[i][1]) or \\\n",
    "        (faces[j][0]>faces[i][1] and faces[j][1]>faces[i][0]): dp[i] = max(dp[i], faces[i][2]+dp[j])\n",
    "print(max(dp))"
   ]
  },
  {
   "cell_type": "markdown",
   "metadata": {},
   "source": [
    "## Weighted Job Scheduling Problem\n",
    "\n",
    "`NOTE: sort according to finish time as you do in non weighted one.`  \n",
    "So include the weights of current job and get the first non overlaping job and add its dp weights(max till that index)"
   ]
  },
  {
   "cell_type": "code",
   "execution_count": 5,
   "metadata": {},
   "outputs": [
    {
     "name": "stdout",
     "output_type": "stream",
     "text": [
      "120\n"
     ]
    }
   ],
   "source": [
    "# code\n",
    "s = [1,2,3,3]\n",
    "e = [3,4,5,6]\n",
    "p = [50,10,40,70]\n",
    "n = len(s)\n",
    "lis = [(s[i], e[i], p[i]) for i in range(n)]\n",
    "lis.sort(key=lambda x:x[1])\n",
    "# finds last non overlapping index\n",
    "def last(i):\n",
    "    for j in range(i-1, -1 ,-1):\n",
    "        if lis[j][1]<=lis[i][0]: return j\n",
    "    return -1\n",
    "# dp to store previous results\n",
    "dp = [0]*n\n",
    "dp[0] = lis[0][2]\n",
    "for i in range(1, n):\n",
    "    v = lis[i][2]\n",
    "    index = last(i)\n",
    "    if index != -1: v+=dp[index]\n",
    "    dp[i] = max(v, dp[i-1]) # max of including curr or no including\n",
    "print(dp[-1])"
   ]
  },
  {
   "cell_type": "markdown",
   "metadata": {},
   "source": [
    "## Job Scheduling to Minimize Difficulty\n",
    "\n",
    "You are given a list of integers jobs and an integer k. You want to finish all jobs in k days. The jobs must be done in order and a job must be done each day.\n",
    "\n",
    "The difficulty of job i is jobs[i] and the difficulty of doing a list of jobs on a day is defined to be the maximum difficulty job performed on that day.\n",
    "\n",
    "Return the minimum sum of the difficulties to perform the jobs over k days."
   ]
  },
  {
   "cell_type": "markdown",
   "metadata": {},
   "source": [
    "`dp[i][k] = for x in range(n-k+1) : min(dp[i][k], max_till_i + dp[i+x][k-1])`"
   ]
  },
  {
   "cell_type": "markdown",
   "metadata": {},
   "source": [
    "**key point to notice**: since we have to complete jobs in exactly k day,  \n",
    "for each iteration we cannot go beyond $(n-k+1)_{th}$ index because we have to leave k-1 days for rest of the jobs.  "
   ]
  },
  {
   "cell_type": "code",
   "execution_count": 16,
   "metadata": {},
   "outputs": [
    {
     "name": "stdout",
     "output_type": "stream",
     "text": [
      "6\n"
     ]
    }
   ],
   "source": [
    "def solve(jobs, k):\n",
    "    n = len(jobs)\n",
    "    if n == 0: return 0\n",
    "    dp = defaultdict(lambda :-1)\n",
    "\n",
    "    def rec(i, k):\n",
    "        if k == 1: return max(jobs[i:])\n",
    "        if dp[(i, k)] != -1: return dp[(i, k)]\n",
    "        dp[(i, k)], m = 1e10, 0\n",
    "\n",
    "        for x in range(i, n-k+1):\n",
    "            m = max(jobs[x], m)\n",
    "            dp[(i, k)] = min(dp[(i, k)], m+rec(x+1, k-1))\n",
    "        return dp[(i, k)]\n",
    "\n",
    "    return rec(0, k)\n",
    "\n",
    "jobs = [1, 2, 3, 5, 2]\n",
    "k = 2\n",
    "print(solve(jobs, k))"
   ]
  },
  {
   "cell_type": "markdown",
   "metadata": {},
   "source": [
    "## Matrix product optimization (MCM)"
   ]
  },
  {
   "cell_type": "code",
   "execution_count": 1,
   "metadata": {},
   "outputs": [
    {
     "name": "stdout",
     "output_type": "stream",
     "text": [
      "30\n"
     ]
    }
   ],
   "source": [
    "ans = 0\n",
    "lis = [1, 2, 3, 4, 3]\n",
    "n = len(lis)\n",
    "inf = int(1e10)\n",
    "dp = [[-1]*n for _ in range(n)]\n",
    "\n",
    "def sol(i, j):\n",
    "    if j-i == 1: return 0\n",
    "    if j-i == 2: return lis[i]*lis[i+1]*lis[i+2]\n",
    "    if dp[i][j] != -1: return dp[i][j]\n",
    "    val = inf\n",
    "    for k in range(i+1, j): val = min(val, sol(i, k) + sol(k, j))\n",
    "    dp[i][j] = lis[i]*lis[k]*lis[j] + val\n",
    "    return dp[i][j]\n",
    "\n",
    "ans = sol(0, len(lis)-1)\n",
    "print(ans)"
   ]
  },
  {
   "cell_type": "markdown",
   "metadata": {},
   "source": [
    "## [ Solving Math Expression](https://leetcode.com/problems/the-score-of-students-solving-math-expression/) - MCM"
   ]
  },
  {
   "cell_type": "code",
   "execution_count": 77,
   "metadata": {},
   "outputs": [
    {
     "data": {
      "text/plain": [
       "9"
      ]
     },
     "execution_count": 77,
     "metadata": {},
     "output_type": "execute_result"
    }
   ],
   "source": [
    "def scoreOfStudents(s: str, answers: list) -> int:\n",
    "    correct = eval(s)\n",
    "    dp = {}\n",
    "\n",
    "    def dfs(s):\n",
    "        if s.isdigit(): return {int(s)}\n",
    "        if s in dp: return dp[s]\n",
    "        temp = set()\n",
    "        for i in range(len(s)):\n",
    "            v = s[i:i+1]\n",
    "            if v in \"*+\":\n",
    "                a = dfs(s[:i])\n",
    "                b = dfs(s[i+1:])\n",
    "                for x in a:\n",
    "                    for y in b:\n",
    "                        ans = x*y if v == '*' else x+y\n",
    "                        if ans<=1000: temp.add(ans)\n",
    "        dp[s] = temp\n",
    "        return temp\n",
    "\n",
    "    final = dfs(s)\n",
    "    ans = 0\n",
    "    for i in answers:\n",
    "        if i == correct: ans += 5\n",
    "        elif i in final: ans += 2\n",
    "\n",
    "    return ans\n",
    "\n",
    "scoreOfStudents(\"7+3*4*2\", [80,31,38])"
   ]
  },
  {
   "cell_type": "markdown",
   "metadata": {},
   "source": [
    "## Maxium length arithmetic sequence"
   ]
  },
  {
   "cell_type": "code",
   "execution_count": 3,
   "metadata": {},
   "outputs": [
    {
     "name": "stdout",
     "output_type": "stream",
     "text": [
      "5\n"
     ]
    }
   ],
   "source": [
    "from collections import defaultdict\n",
    "def longestSubsequence(arr, difference) -> int:\n",
    "    n = len(arr)\n",
    "    d = defaultdict(int)\n",
    "    ans = 1\n",
    "\n",
    "    for i in arr:\n",
    "        d[i] = 1 + d[i-difference]\n",
    "        ans = max(ans, d[i])\n",
    "    return ans\n",
    "\n",
    "lis = [1,5,2,6,3,5,7,8,9,3]\n",
    "print(longestSubsequence(lis, 2))"
   ]
  },
  {
   "cell_type": "markdown",
   "metadata": {},
   "source": [
    "# matrix DP"
   ]
  },
  {
   "cell_type": "markdown",
   "metadata": {},
   "source": [
    "## Largest Square Area in 1-0 matrix"
   ]
  },
  {
   "cell_type": "code",
   "execution_count": 7,
   "metadata": {},
   "outputs": [
    {
     "name": "stdout",
     "output_type": "stream",
     "text": [
      "4\n"
     ]
    }
   ],
   "source": [
    "A = [  [1, 1, 1],\n",
    "       [0, 1, 1],\n",
    "       [1, 0, 0] \n",
    "    ]\n",
    "\n",
    "def solve(matrix):\n",
    "    n,m  = len(matrix), len(matrix[0])\n",
    "    dp = [[0 for i in range(m)] for i in range(n)]\n",
    "    ans = 0\n",
    "    \n",
    "    for i in range(n): \n",
    "        dp[i][0] = matrix[i][0]\n",
    "        ans = max(ans, dp[i][0])\n",
    "        \n",
    "    for j in range(m): \n",
    "        dp[0][j] = matrix[0][j]\n",
    "        ans = max(ans, dp[0][j])\n",
    "        \n",
    "    for i in range(1, n):\n",
    "        for j in range(1, m):\n",
    "            dp[i][j] = 1+min(dp[i-1][j-1], dp[i-1][j], dp[i][j-1])\n",
    "            ans = max(ans, dp[i][j])\n",
    "    \n",
    "    return ans*ans\n",
    "\n",
    "print(solve(A))"
   ]
  },
  {
   "cell_type": "markdown",
   "metadata": {},
   "source": [
    "## Largest square with same elements"
   ]
  },
  {
   "cell_type": "code",
   "execution_count": 8,
   "metadata": {},
   "outputs": [
    {
     "name": "stdout",
     "output_type": "stream",
     "text": [
      "1 1 1 1 1 1\n",
      "1 2 1 2 2 1\n",
      "1 1 1 2 3 1\n",
      "1 2 1 1 1 1\n",
      "3\n"
     ]
    }
   ],
   "source": [
    "A = [[1,1,2,2,2,1],\n",
    "     [1,1,2,2,2,2],\n",
    "     [3,3,2,2,2,3],\n",
    "     [3,3,3,5,4,4]]\n",
    "\n",
    "def solve(matrix):\n",
    "    n, m = len(matrix), len(matrix[0])\n",
    "    dp = [[1 for i in range(m)] for i in range(n)]\n",
    "    ans = 0\n",
    "    for i in range(1, n):\n",
    "        for j in range(1, m):\n",
    "            if matrix[i][j] == matrix[i-1][j] == matrix[i][j-1] == matrix[i-1][j-1]:\n",
    "                dp[i][j] = 1 + min(dp[i-1][j], dp[i][j-1], dp[i-1][j-1])\n",
    "                ans = max(ans, dp[i][j])\n",
    "    for i in dp: print(*i)\n",
    "    return ans\n",
    "\n",
    "print(solve(A))"
   ]
  },
  {
   "cell_type": "markdown",
   "metadata": {},
   "source": [
    "## Largest Rectangle in 1-0 matrix"
   ]
  },
  {
   "cell_type": "code",
   "execution_count": 9,
   "metadata": {},
   "outputs": [
    {
     "name": "stdout",
     "output_type": "stream",
     "text": [
      "8\n"
     ]
    }
   ],
   "source": [
    "A = [[0,0,1,1,1],\n",
    "     [0,1,1,1,1],\n",
    "     [0,0,0,1,1],\n",
    "     [1,0,1,1,1]]\n",
    "\n",
    "def solve(matrix):\n",
    "    n, m = len(matrix), len(matrix[0])\n",
    "    dp = [[0 for i in range(m)] for i in range(n)]\n",
    "    for i in range(m): dp[0][i] = matrix[0][i]\n",
    "        \n",
    "    def histMax(lis):\n",
    "        left = [-1]*m\n",
    "        right = [m]*m\n",
    "        \n",
    "        stack = []\n",
    "        for i in range(m):\n",
    "            while stack and lis[stack[-1]]>=lis[i]: stack.pop()\n",
    "            if stack: left[i] = stack[-1]\n",
    "            stack.append(i)\n",
    "        \n",
    "        stack = []\n",
    "        for i in reversed(range(m)):\n",
    "            while stack and lis[stack[-1]]>=lis[i]: stack.pop()\n",
    "            if stack: right[i] = stack[-1]\n",
    "            stack.append(i)\n",
    "        \n",
    "        ans = 0\n",
    "        for i in range(m):\n",
    "            l = left[i]\n",
    "            r = right[i]\n",
    "            h = lis[i]\n",
    "            ans = max(ans, h*(r - l - 1))\n",
    "            \n",
    "        return ans\n",
    "    \n",
    "    ans = histMax(dp[0])\n",
    "    for i in range(1, n):\n",
    "        for j in range(m):\n",
    "            if matrix[i][j] == 1: dp[i][j] = 1 + dp[i-1][j]\n",
    "        ans = max(ans, histMax(dp[i]))\n",
    "        \n",
    "    return ans\n",
    "\n",
    "print(solve(A))"
   ]
  },
  {
   "cell_type": "markdown",
   "metadata": {},
   "source": [
    "## Largest Rectangle with same value\n",
    "\n",
    "Here dp list doesn't care if its neighbours are same, it only cares about its top elements therefore while gettting the area from histogram we have to partition it till those index where neighbour are equal."
   ]
  },
  {
   "cell_type": "code",
   "execution_count": 10,
   "metadata": {},
   "outputs": [
    {
     "name": "stdout",
     "output_type": "stream",
     "text": [
      "8\n"
     ]
    }
   ],
   "source": [
    "A = [[3,4,1,1,1],\n",
    "     [5,5,5,5,1],\n",
    "     [5,5,5,5,1],\n",
    "     [1,7,3,1,1]]\n",
    "\n",
    "def solve(matrix):\n",
    "    n, m = len(matrix), len(matrix[0])\n",
    "    dp = [[1 for i in range(m)] for i in range(n)]\n",
    "        \n",
    "    def histMax(lis):\n",
    "        size = len(lis)\n",
    "        left = [-1]*size\n",
    "        right = [size]*size\n",
    "        \n",
    "        stack = []\n",
    "        for i in range(size):\n",
    "            while stack and lis[stack[-1]]>=lis[i]: stack.pop()\n",
    "            if stack: left[i] = stack[-1]\n",
    "            stack.append(i)\n",
    "        \n",
    "        stack = []\n",
    "        for i in reversed(range(size)):\n",
    "            while stack and lis[stack[-1]]>=lis[i]: stack.pop()\n",
    "            if stack: right[i] = stack[-1]\n",
    "            stack.append(i)\n",
    "        \n",
    "        ans = 0\n",
    "        for i in range(size):\n",
    "            l = left[i]\n",
    "            r = right[i]\n",
    "            h = lis[i]\n",
    "            ans = max(ans, h*(r - l - 1))\n",
    "            \n",
    "        return ans\n",
    "    \n",
    "    ans = histMax(dp[0])\n",
    "    for i in range(1, n):\n",
    "        for j in range(m):\n",
    "            if matrix[i][j] == matrix[i-1][j]: dp[i][j] = 1 + dp[i-1][j]\n",
    "        \n",
    "        x = 0\n",
    "        while x<m:\n",
    "            v = x\n",
    "            while x+1<m and matrix[i][x] == matrix[i][x+1]: x+=1\n",
    "            if x>=m: break\n",
    "            ans = max(ans, histMax(dp[i][v:x+1]))\n",
    "            x+=1\n",
    "        \n",
    "    return ans\n",
    "\n",
    "print(solve(A))"
   ]
  },
  {
   "cell_type": "markdown",
   "metadata": {},
   "source": [
    "## Maximum Area Of Rectangle less that k\n",
    "\n",
    "Brute force approch will be to select two rows and two columns and find the answer for the rectangle between it.  \n",
    "We can optimize this approch by reducing serach time for column.  \n",
    "We will collapse the recangle between two selected rows into a single row by adding adding all columns.  \n",
    "eg.  \n",
    "suppose for some two selected row we get this rectangle, now rather than iterating over both columns possible.  \n",
    "we will convert this problem to finding largest sub-array sum in a list less than k (for largest go for kadance).  \n",
    "which is simple binary seach, but we have to keep presum array sorted.\n",
    "```\n",
    "1 2 3 4\n",
    "1 1 1 1\n",
    "2 3 4 5\n",
    "\n",
    "after collpaseing it will become.\n",
    "\n",
    "5 6 8 10\n",
    "```"
   ]
  },
  {
   "cell_type": "code",
   "execution_count": 13,
   "metadata": {},
   "outputs": [
    {
     "data": {
      "text/plain": [
       "2"
      ]
     },
     "execution_count": 13,
     "metadata": {},
     "output_type": "execute_result"
    }
   ],
   "source": [
    "from bisect import bisect_left, insort\n",
    "\n",
    "def maxSumSubmatrix( matrix, k: int) -> int:\n",
    "    n, m = len(matrix), len(matrix[0])\n",
    "    ans = -1e10\n",
    "    def solve(row, k):\n",
    "        ps = [0]\n",
    "        last = 0\n",
    "        ans = -1e10\n",
    "        for i in row:\n",
    "            last += i\n",
    "            index = bisect_left(ps, last - k)\n",
    "            if index<len(ps): ans = max(ans, last - ps[index])\n",
    "            insort(ps, last)\n",
    "        return ans\n",
    "\n",
    "    colsum = [[0]*m for i in range(n+1)]\n",
    "\n",
    "    for i in range(1, n+1):\n",
    "        for j in range(m):\n",
    "            colsum[i][j] = colsum[i-1][j] + matrix[i-1][j]\n",
    "\n",
    "    for x2 in range(n+1):\n",
    "        for x1 in range(x2):\n",
    "            row = [v2 - v1 for v1, v2 in zip(colsum[x1], colsum[x2])]\n",
    "            ans = max(ans, solve(row, k))\n",
    "    return ans\n",
    "\n",
    "matrix = [[1,0,1],\n",
    "          [0,-2,3]]\n",
    "k = 2\n",
    "maxSumSubmatrix(matrix, k)"
   ]
  },
  {
   "cell_type": "markdown",
   "metadata": {},
   "source": [
    "## Sub-matrix sum querry in *O(1)*"
   ]
  },
  {
   "cell_type": "code",
   "execution_count": 11,
   "metadata": {},
   "outputs": [
    {
     "name": "stdout",
     "output_type": "stream",
     "text": [
      "_____________________\n",
      ">dp = (4, 5)\n",
      " [\n",
      "   [1, 3, 6, 10, 15],\n",
      "   [4, 8, 15, 20, 30],\n",
      "   [10, 17, 25, 36, 50],\n",
      "   [13, 24, 38, 58, 73],\n",
      " ]\n",
      "---------------------\n",
      "36\n"
     ]
    }
   ],
   "source": [
    "from debug import *\n",
    "\n",
    "matrix = [[1,2,3,4,5],\n",
    "          [3,2,4,1,5],\n",
    "          [6,3,1,6,4],\n",
    "          [3,4,6,9,1]]\n",
    "\n",
    "n,m = len(matrix), len(matrix[0])\n",
    "\n",
    "dp = [[0 for _ in range(m)] for _ in range(n)]\n",
    "dp[0][0] = matrix[0][0]\n",
    "\n",
    "for i in range(1, n):\n",
    "    dp[i][0] = dp[i-1][0] + matrix[i][0]\n",
    "    \n",
    "for i in range(1, m):\n",
    "    dp[0][i] = dp[0][i-1] + matrix[0][i]\n",
    "    \n",
    "for i in range(1, n):\n",
    "    for j in range(1, m):\n",
    "        dp[i][j] = matrix[i][j] + dp[i-1][j] + dp[i][j-1] - dp[i-1][j-1]\n",
    "\n",
    "debug(dp=dp)\n",
    "\n",
    "def ask(a, b, x, y):\n",
    "    T, U, L, S = dp[x][y], 0, 0, 0\n",
    "        \n",
    "    if a>0:\n",
    "        U = dp[a-1][y]\n",
    "    \n",
    "    if b>0:\n",
    "        L = dp[x][b-1]\n",
    "    \n",
    "    if a>0 or  b>0:\n",
    "        S = dp[a-1][b-1]\n",
    "            \n",
    "    return T - L - U + S\n",
    "\n",
    "print(ask(1,1,3,3))"
   ]
  },
  {
   "cell_type": "markdown",
   "metadata": {},
   "source": [
    "## [Number of Ways of Cutting a Pizza](https://leetcode.com/problems/number-of-ways-of-cutting-a-pizza/)\n",
    "\n",
    "Given a rectangular pizza represented as a rows x cols matrix containing the following characters: 'A' (an apple) and '.' (empty cell) and given the integer k. You have to cut the pizza into k pieces using k-1 cuts. \n",
    "\n",
    "For each cut you choose the direction: vertical or horizontal, then you choose a cut position at the cell boundary and cut the pizza into two pieces. If you cut the pizza vertically, give the left part of the pizza to a person. If you cut the pizza horizontally, give the upper part of the pizza to a person. Give the last piece of pizza to the last person.\n",
    "\n",
    "Return the number of ways of cutting the pizza such that each piece contains at least one apple. \n",
    "\n",
    "<img src=\"https://assets.leetcode.com/uploads/2020/04/23/ways_to_cut_apple_1.png\" alt=\"drawing\" style=\"width:400px;\"/>  \n"
   ]
  },
  {
   "cell_type": "markdown",
   "metadata": {},
   "source": [
    "Split the grid for every possible slice once in vertical and other for horizontal.  \n",
    "Apply recursion for the rest of grid left.  \n",
    "Base case is when `k == 1`, then we have too return 1 if the pizza have atleast one apple.  \n"
   ]
  },
  {
   "cell_type": "code",
   "execution_count": null,
   "metadata": {},
   "outputs": [],
   "source": [
    "def ways(pizza, k: int) -> int:\n",
    "    \n",
    "    n, m = len(pizza), len(pizza[0])\n",
    "    \n",
    "    #-----------------for getting sub query in O(1)----------------------------------\n",
    "    dp = [[0]*m for i in range(n)]\n",
    "    dp[0][0] = 1*(pizza[0][0] == 'A')\n",
    "    for i in range(1, n):\n",
    "        dp[i][0] += dp[i-1][0] + 1*(pizza[i][0] == 'A')\n",
    "\n",
    "    for i in range(1, m):\n",
    "        dp[0][i] += dp[0][i-1] + 1*(pizza[0][i] == 'A')\n",
    "\n",
    "    for i in range(1, n):\n",
    "        for j in range(1, m):\n",
    "            dp[i][j] = dp[i][j-1] + dp[i-1][j] - dp[i-1][j-1] + 1*(pizza[i][j] == 'A')\n",
    "\n",
    "    store = dict()\n",
    "\n",
    "    def ask(a, b, x, y):\n",
    "        A = 0 if a==0 or b==0 else dp[a-1][b-1]\n",
    "        B = 0 if a==0 else dp[a-1][y]\n",
    "        C = 0 if b==0 else dp[x][b-1]\n",
    "        return dp[x][y] - B - C + A\n",
    "    #---------------------------------------------------------------------------------\n",
    "\n",
    "    store = dict()\n",
    "    def solve(a, b, x, y, k):\n",
    "        if k == 1: return 1*(ask(a, b, x, y) > 0)\n",
    "        if (a, b, x, y, k) in store: return store[(a, b, x, y, k)]\n",
    "        ans = 0\n",
    "        for i in range(x, a, -1):\n",
    "            # top and bottom\n",
    "            # a, b, i-1, y -> top\n",
    "            #i, b, x, y    -> bottom\n",
    "\n",
    "            if ask(a, b, i-1, y):\n",
    "                ans += solve(i, b, x, y, k-1)\n",
    "\n",
    "        for j in range(y, b, -1):\n",
    "            # left and right\n",
    "            # a, b, x, j-1 -> left\n",
    "            # a, j, x, y   -> rightog\n",
    "            if ask(a, b, x, j-1):\n",
    "                ans += solve(a, j, x, y, k-1)\n",
    "\n",
    "        store[(a, b, x, y, k)] = ans\n",
    "        return ans\n",
    "\n",
    "    return solve(0, 0, n-1, m-1, k)%(int(1e9)+7)"
   ]
  },
  {
   "cell_type": "markdown",
   "metadata": {},
   "source": [
    "## [Cherry Pickup II](https://leetcode.com/problems/cherry-pickup-ii/)  \n",
    "Asked in 2020 Google"
   ]
  },
  {
   "cell_type": "code",
   "execution_count": 68,
   "metadata": {},
   "outputs": [
    {
     "data": {
      "text/plain": [
       "56"
      ]
     },
     "execution_count": 68,
     "metadata": {},
     "output_type": "execute_result"
    }
   ],
   "source": [
    "from functools import lru_cache\n",
    "def cherryPickup(grid) -> int:\n",
    "        n, m = len(grid), len(grid[0]) \n",
    "        def valid(x, y): return (0<=x<n) and (0<=y<m)\n",
    "        \n",
    "        @lru_cache(1000000)\n",
    "        def solve(i, l, r):\n",
    "            if (not valid(i, l)) or (not valid(i, r)): return -1e10\n",
    "            val = grid[i][r] if l == r else (grid[i][l] + grid[i][r]) \n",
    "            \n",
    "            if i == n-1: return val\n",
    "            \n",
    "            ans = 0\n",
    "            for k in (-1, 0, 1):\n",
    "                for j in (1, 0, -1):\n",
    "                    ans = max(ans, solve(i+1, l+k, r+j))\n",
    "            return val + ans\n",
    "        \n",
    "        return solve(0, 0, m-1)\n",
    "\n",
    "matrix = [\n",
    "    [0, 2, 4, 1],\n",
    "    [4, 8, 3, 7],\n",
    "    [2, 3, 6, 2],\n",
    "    [9, 7, 8, 3],\n",
    "    [1, 5, 9, 4]\n",
    "]\n",
    "cherryPickup(matrix)"
   ]
  },
  {
   "cell_type": "markdown",
   "metadata": {},
   "source": [
    "## [Cherry Pick I](https://leetcode.com/problems/cherry-pickup/)\n",
    "\n",
    "Its not greedy!!  \n",
    "The problem is same as moving two person from (0, 0) to (n-1,n-1) like in cherry Pick II.  \n",
    "but moves are different.  \n",
    "r2 = (r1+c1)-c2, this reduces the output space.  \n",
    "\n",
    "* Person 1 down and person 2 down: dp[r1+1][c1][c2];\n",
    "* Person 1 right and person 2 down: dp[r1][c1+1][c2];\n",
    "* Person 1 down and person 2 right: dp[r1+1][c1][c2+1];\n",
    "* Person 1 right and person 2 right: dp[r1][c1+1][c2+1];"
   ]
  },
  {
   "cell_type": "code",
   "execution_count": 69,
   "metadata": {},
   "outputs": [
    {
     "data": {
      "text/plain": [
       "5"
      ]
     },
     "execution_count": 69,
     "metadata": {},
     "output_type": "execute_result"
    }
   ],
   "source": [
    "from functools import lru_cache\n",
    "def cherryPickup(grid) -> int:\n",
    "    n = len(grid)\n",
    "    def valid(x, y): return (0<=x<n) and (0<=y<n)\n",
    "\n",
    "    @lru_cache(100000)\n",
    "    def solve(r1, c1, c2):\n",
    "        r2 = r1+c1-c2\n",
    "        if (not valid(r1, c1)) or (not valid(r2, c2)): return -1e10\n",
    "        if grid[r1][c1] == -1 or grid[r2][c2] == -1: return -1e10\n",
    "        if r1 == c1 == n-1: return grid[r1][c1]\n",
    "        ans = grid[r1][c1]\n",
    "        if not (r1 == r2 and c1 == c2): ans += grid[r2][c2]\n",
    "        ans += max(solve(r1+1, c1, c2), solve(r1, c1+1, c2),\n",
    "                   solve(r1+1, c1, c2+1), solve(r1, c1+1, c2+1))\n",
    "        return ans\n",
    "\n",
    "    return max(0, solve(0, 0, 0))\n",
    "\n",
    "grid = [[0,1,-1],[1,0,-1],[1,1,1]]\n",
    "cherryPickup(grid)"
   ]
  },
  {
   "cell_type": "markdown",
   "metadata": {},
   "source": [
    "# Graph and Tree DP"
   ]
  },
  {
   "cell_type": "markdown",
   "metadata": {},
   "source": [
    "## Total no: of BST  in a permuation"
   ]
  },
  {
   "cell_type": "markdown",
   "metadata": {},
   "source": [
    "$ans(n)$ is total no of BST in size of n.  \n",
    "$root(i)$ is total no of BST possible if $i$ is taken as root.  \n",
    "$ans(n) = root(1) + root(2) + root(3) + \\ldots + root(n)$  \n",
    "$f(root) = ans(root-1) \\times ans(p-root)$    \n",
    "where p is the size of tree.  "
   ]
  },
  {
   "cell_type": "code",
   "execution_count": 2,
   "metadata": {},
   "outputs": [
    {
     "data": {
      "text/plain": [
       "42"
      ]
     },
     "execution_count": 2,
     "metadata": {},
     "output_type": "execute_result"
    }
   ],
   "source": [
    "#code\n",
    "def numTrees(n: int) -> int:\n",
    "    dp = [0]*(n+1)\n",
    "    dp[0] = 1\n",
    "    dp[1] = 1\n",
    "    for size in range(2, n+1):\n",
    "        total = 0\n",
    "        for root in range(size+1):\n",
    "            left = root - 1\n",
    "            right = size - root\n",
    "            total += dp[left]*dp[right]\n",
    "        dp[size] = total\n",
    "    return dp[n]\n",
    "numTrees(5)"
   ]
  },
  {
   "cell_type": "markdown",
   "metadata": {},
   "source": [
    "## [Parallel Course III](https://leetcode.com/problems/parallel-courses-iii/)\n",
    "\n",
    "You are given an integer n, which indicates that there are n courses labeled from 1 to n. You are also given a 2D integer array relations where relations[j] = [prevCoursej, nextCoursej] denotes that course prevCoursej has to be completed before course nextCoursej (prerequisite relationship). Furthermore, you are given a 0-indexed integer array time where time[i] denotes how many months it takes to complete the (i+1)th course.\n",
    "\n",
    "You must find the minimum number of months needed to complete all the courses following these rules:\n",
    "\n",
    "You may start taking a course at any time if the prerequisites are met.\n",
    "Any number of courses can be taken at the same time.\n",
    "Return the minimum number of months needed to complete all the courses.\n",
    "\n",
    "Note: The test cases are generated such that it is possible to complete every course (i.e., the graph is a directed acyclic graph)."
   ]
  },
  {
   "cell_type": "markdown",
   "metadata": {},
   "source": [
    "**Solution:**\n",
    "create a graph and its transpose too.  \n",
    "get toposort of graph and then taverse transpose graph in reverse toposort order while maintaining a dp array for  \n",
    "answer, get max time of child nodes and update dp."
   ]
  },
  {
   "cell_type": "code",
   "execution_count": 40,
   "metadata": {},
   "outputs": [
    {
     "data": {
      "text/plain": [
       "12"
      ]
     },
     "execution_count": 40,
     "metadata": {},
     "output_type": "execute_result"
    }
   ],
   "source": [
    "def minimumTime(n: int, relations, time) -> int:\n",
    "    graph = [[] for i in range(n+1)]\n",
    "    trans = [[] for i in range(n+1)]\n",
    "\n",
    "    for u, v in relations:\n",
    "        graph[u].append(v)\n",
    "        trans[v].append(u)\n",
    "\n",
    "    v = [0]*(n+1)\n",
    "    stack = []\n",
    "\n",
    "    def dfs(node):\n",
    "        v[node] = 1\n",
    "        for i in graph[node]: \n",
    "            if not v[i]: dfs(i)\n",
    "        stack.append(node)\n",
    "\n",
    "    for i in range(n): \n",
    "        if not v[i+1]: dfs(i+1)\n",
    "\n",
    "    dp = [-1]*(n+1)\n",
    "\n",
    "    def dfs2(node):\n",
    "        if dp[node] != -1: return dp[node]\n",
    "        mytime = time[node-1]\n",
    "        ans = 0\n",
    "        for i in trans[node]:\n",
    "            ans = max(ans, dfs2(i))\n",
    "        dp[node] = mytime + ans\n",
    "        return dp[node]\n",
    "\n",
    "    ans = 0\n",
    "    for node in stack:\n",
    "        ans = max(ans, dfs2(node))\n",
    "\n",
    "    return ans\n",
    "\n",
    "n = 5\n",
    "relations = [[1,5],[2,5],[3,5],[3,4],[4,5]]\n",
    "time = [1,2,3,4,5]\n",
    "minimumTime(n, relations, time)"
   ]
  },
  {
   "cell_type": "markdown",
   "metadata": {},
   "source": [
    "## Diameter of a tree."
   ]
  },
  {
   "cell_type": "code",
   "execution_count": 52,
   "metadata": {},
   "outputs": [
    {
     "data": {
      "text/plain": [
       "3"
      ]
     },
     "execution_count": 52,
     "metadata": {},
     "output_type": "execute_result"
    }
   ],
   "source": [
    "n = 4\n",
    "edges = [[1,2],[2,3],[2,4]]\n",
    "\n",
    "def diameter(n, edges):\n",
    "    graph = [[] for i in range(n+1)]\n",
    "    for u, v in edges:\n",
    "        graph[u].append(v)\n",
    "        graph[v].append(u)\n",
    "    \n",
    "    ans = 0\n",
    "    # stors the maxium line length of the subtree\n",
    "    dp = [1]*(n+1)\n",
    "    \n",
    "    def dfs(node, parent=-1):\n",
    "        nonlocal ans\n",
    "        line1 = line2 = 0 # top 2 maximum line length of sub tree\n",
    "        \n",
    "        for nbr in graph[node]:\n",
    "            if nbr == parent: continue\n",
    "            dfs(nbr, node)\n",
    "            sub_line = dp[nbr]\n",
    "            if sub_line >= line1:\n",
    "                line2 = line1\n",
    "                line1 = sub_line\n",
    "            elif sub_line >= line2:\n",
    "                line2 = sub_line\n",
    "        \n",
    "        dp[node] += line1 # updating maximum line length of node\n",
    "        ans = max(ans, 1 + line1 + line2) # answer will be maximum of ans and top 2 maximumu subline length.\n",
    "    \n",
    "    dfs(1)\n",
    "    return ans\n",
    "\n",
    "diameter(n, edges)"
   ]
  },
  {
   "cell_type": "markdown",
   "metadata": {},
   "source": [
    "## [Count Subtrees With Max Distance Between Cities](https://leetcode.com/problems/count-subtrees-with-max-distance-between-cities/)"
   ]
  },
  {
   "cell_type": "markdown",
   "metadata": {},
   "source": [
    "**Solution:**\n",
    "Get all the subset of nodes possible with bit masking DP.  \n",
    "Check if the subset of nodes makes a tree.  \n",
    "get the diameter of the tree and add it into the ans.  "
   ]
  },
  {
   "cell_type": "code",
   "execution_count": 53,
   "metadata": {},
   "outputs": [
    {
     "data": {
      "text/plain": [
       "[3, 4, 0]"
      ]
     },
     "execution_count": 53,
     "metadata": {},
     "output_type": "execute_result"
    }
   ],
   "source": [
    "def countSubgraphsForEachDiameter(n: int, edges):\n",
    "    ans = [0]*(n-1)\n",
    "\n",
    "    # build graph\n",
    "    graph = [[] for i in range(n+1)]\n",
    "    for u, v in edges:\n",
    "        graph[u].append(v)\n",
    "        graph[v].append(u)\n",
    "\n",
    "    # to check if a given graph is tree or not and get its diameter\n",
    "    # only counting edges for diameter of a tree\n",
    "    def check(node, visited, dp, d):\n",
    "        visited[node] = 1\n",
    "        myedges, mynodes = 0, 1\n",
    "        line1 = line2 = 0\n",
    "\n",
    "        for nbr in graph[node]:\n",
    "            if visited[nbr] == 0:\n",
    "                edges, nodes = check(nbr, visited, dp, d)\n",
    "                myedges += 1 + edges\n",
    "                mynodes += nodes\n",
    "                line_nbr = dp[nbr]\n",
    "                if line_nbr >= line1:\n",
    "                    line2 = line1\n",
    "                    line1 = line_nbr\n",
    "                elif line_nbr >= line2:\n",
    "                    line2 = line_nbr\n",
    "\n",
    "        dp[node] = 1 + line1\n",
    "        d[0] = max(d[0], line1+line2)\n",
    "        return myedges, mynodes\n",
    "\n",
    "     # build all posible node subset\n",
    "    for mask in range(2**n):\n",
    "        visited = [1]*(n+1)\n",
    "        dp      = [0]*(n+1)\n",
    "        start   = 0\n",
    "        count   = 0\n",
    "        d       = [0]\n",
    "        for i in range(n):\n",
    "            if mask&(1<<i): \n",
    "                visited[i+1] = 0\n",
    "                start = i+1\n",
    "                count += 1\n",
    "\n",
    "        # check if the subset is a tree and get answer for it.\n",
    "        if start == 0 or count in (0, 1): continue # \n",
    "        edge, node = check(start, visited, dp, d)\n",
    "        \n",
    "        #--edges 1 less than nodes\n",
    "        #--atleast 1 edge\n",
    "        #--it should not be a forest of trees\n",
    "        if edge+1 == node and edge > 0 and count == node:\n",
    "            ans[d[0]-1] += 1\n",
    "\n",
    "    return ans\n",
    "\n",
    "\n",
    "n = 4\n",
    "edges = [[1,2],[2,3],[2,4]]\n",
    "countSubgraphsForEachDiameter(n, edges)"
   ]
  },
  {
   "cell_type": "markdown",
   "metadata": {},
   "source": [
    "# [Buy and Sell Stocks](https://medium.com/algorithms-and-leetcode/best-time-to-buy-sell-stocks-on-leetcode-the-ultimate-guide-ce420259b323)"
   ]
  },
  {
   "cell_type": "markdown",
   "metadata": {},
   "source": [
    "## Buy and sell Stock I\n",
    "You want to maximize your profit by choosing a single day to buy one stock and choosing a different day in the future to sell that stock."
   ]
  },
  {
   "cell_type": "code",
   "execution_count": 3,
   "metadata": {},
   "outputs": [
    {
     "name": "stdout",
     "output_type": "stream",
     "text": [
      "8\n"
     ]
    }
   ],
   "source": [
    "\n",
    "prices = [1,7,2,5,7,3,9,4,8,7]\n",
    "\n",
    "ans = max(prices) - min(prices)\n",
    "print(ans)"
   ]
  },
  {
   "cell_type": "markdown",
   "metadata": {},
   "source": [
    "## Buy and Sell Stock II\n",
    "On each day, you may decide to buy and/or sell the stock. You can only hold at most one share of the stock at any time. However, you can buy it then immediately sell it on the same day."
   ]
  },
  {
   "cell_type": "code",
   "execution_count": 4,
   "metadata": {},
   "outputs": [
    {
     "name": "stdout",
     "output_type": "stream",
     "text": [
      "21\n"
     ]
    }
   ],
   "source": [
    "\n",
    "prices = [1,7,2,5,7,3,9,4,8,7]\n",
    "\n",
    "ans = 0\n",
    "for i in range(1, len(prices)):\n",
    "    ans += max(0, prices[i] - prices[i-1])\n",
    "\n",
    "print(ans)  "
   ]
  },
  {
   "cell_type": "markdown",
   "metadata": {},
   "source": [
    "## Buy and Sell Stock III\n",
    "Find the maximum profit you can achieve. You may complete at most two transactions."
   ]
  },
  {
   "cell_type": "code",
   "execution_count": 12,
   "metadata": {},
   "outputs": [
    {
     "name": "stdout",
     "output_type": "stream",
     "text": [
      "1 -1 0 -1 0\n",
      "7 -1 6 -1 6\n",
      "2 -1 6 4 6\n",
      "5 -1 6 4 9\n",
      "7 -1 6 4 11\n",
      "3 -1 6 4 11\n",
      "9 -1 8 4 13\n",
      "4 -1 8 4 13\n",
      "8 -1 8 4 13\n",
      "7 -1 8 4 13\n",
      "13\n"
     ]
    }
   ],
   "source": [
    "prices = [1,7,2,5,7,3,9,4,8,7]\n",
    "inf = int(1e10)\n",
    "firstBuy, firstSell = -inf, 0\n",
    "secondBuy, secondSell = -inf, 0\n",
    "\n",
    "for p in prices:\n",
    "    firstBuy = max(firstBuy, -p) # sort of min\n",
    "    firstSell = max(firstSell, firstBuy + p)\n",
    "    secondBuy = max(secondBuy, firstSell - p)\n",
    "    secondSell = max(secondSell, secondBuy + p)\n",
    "\n",
    "print(secondSell)"
   ]
  },
  {
   "cell_type": "markdown",
   "metadata": {},
   "source": [
    "## Buy and Sell Stock IV\n",
    "Find the maximum profit you can achieve. You may complete at most *k* transactions."
   ]
  },
  {
   "cell_type": "code",
   "execution_count": 6,
   "metadata": {},
   "outputs": [
    {
     "name": "stdout",
     "output_type": "stream",
     "text": [
      "17\n"
     ]
    }
   ],
   "source": [
    "# generalization of the III one\n",
    "\n",
    "k = 3\n",
    "prices = [1,7,2,5,7,3,9,4,8,7]\n",
    "inf = int(1e10)\n",
    "buy = [-inf]*k\n",
    "sell = [0]*k\n",
    "\n",
    "for p in prices:\n",
    "    buy[0] = max(buy[0], -p)\n",
    "    sell[0] = max(sell[0], buy[0] + p)\n",
    "\n",
    "    for i in range(1, k):\n",
    "        buy[i] = max(buy[i], sell[i-1] - p)\n",
    "        sell[i] = max(sell[i], buy[i] + p)\n",
    "    \n",
    "print(sell[-1])\n",
    "\n"
   ]
  },
  {
   "cell_type": "markdown",
   "metadata": {},
   "source": [
    "# Egg drop problem"
   ]
  },
  {
   "cell_type": "markdown",
   "metadata": {},
   "source": [
    "```\n",
    "dp[M][K]means that, given K eggs and M moves,\n",
    "what is the maximum number of floor that we can check.\n",
    "\n",
    "The dp equation is:\n",
    "dp[m][k] = dp[m - 1][k - 1] + dp[m - 1][k] + 1,\n",
    "which means we take 1 move to a floor,\n",
    "if egg breaks, then we can check dp[m - 1][k - 1] floors.\n",
    "if egg doesn't breaks, then we can check dp[m - 1][k] floors.\n",
    "\n",
    "dp[m][k] is the number of combinations and it increase exponentially to N\n",
    "```"
   ]
  },
  {
   "cell_type": "code",
   "execution_count": 20,
   "metadata": {},
   "outputs": [],
   "source": [
    "# classic floor vs egg dp\n",
    "\n",
    "def solve(n, k):\n",
    "    if n <= 0: return 0\n",
    "    if k == 1: return n\n",
    "    \n",
    "    ans = 1e10\n",
    "    for i in range(n):\n",
    "        # drop 1 egg, so 1 move\n",
    "        # broke: check i-1 below floors\n",
    "        # didnt: check n-i above floors\n",
    "        ans = min(ans, 1 + max(solve(i-1, k-1), solve(n-i, k)))\n",
    "    return ans"
   ]
  },
  {
   "cell_type": "code",
   "execution_count": 21,
   "metadata": {},
   "outputs": [
    {
     "data": {
      "text/plain": [
       "3"
      ]
     },
     "execution_count": 21,
     "metadata": {},
     "output_type": "execute_result"
    }
   ],
   "source": [
    "# moves vs egg dp\n",
    "def superEggDrop(k: int, n: int) -> int:\n",
    "    # moves vs eggs dp\n",
    "    dp = [[0]*(k+1) for i in range(n+1)]\n",
    "\n",
    "    for i in range(1, n+1):\n",
    "        for j in range(1, k+1):\n",
    "            dp[i][j] = dp[i-1][j-1] + dp[i-1][j] + 1\n",
    "        if dp[i][k]>=n: return i\n",
    "\n",
    "superEggDrop(10, 7)"
   ]
  },
  {
   "cell_type": "code",
   "execution_count": null,
   "metadata": {},
   "outputs": [],
   "source": []
  },
  {
   "cell_type": "code",
   "execution_count": null,
   "metadata": {},
   "outputs": [],
   "source": []
  }
 ],
 "metadata": {
  "kernelspec": {
   "display_name": "Python 3",
   "language": "python",
   "name": "python3"
  },
  "language_info": {
   "codemirror_mode": {
    "name": "ipython",
    "version": 3
   },
   "file_extension": ".py",
   "mimetype": "text/x-python",
   "name": "python",
   "nbconvert_exporter": "python",
   "pygments_lexer": "ipython3",
   "version": "3.8.6"
  },
  "toc-autonumbering": true,
  "toc-showcode": false,
  "toc-showmarkdowntxt": false
 },
 "nbformat": 4,
 "nbformat_minor": 4
}
