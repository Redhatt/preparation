{
 "cells": [
  {
   "cell_type": "code",
   "execution_count": null,
   "metadata": {},
   "outputs": [],
   "source": [
    "from sys import argv\n",
    "script = argv\n",
    "print(script)"
   ]
  },
  {
   "cell_type": "code",
   "execution_count": null,
   "metadata": {},
   "outputs": [],
   "source": [
    "from os.path import exists"
   ]
  },
  {
   "cell_type": "code",
   "execution_count": null,
   "metadata": {},
   "outputs": [],
   "source": [
    "one = '1'\n",
    "one.__add__('c')"
   ]
  },
  {
   "cell_type": "code",
   "execution_count": null,
   "metadata": {},
   "outputs": [],
   "source": [
    "car = ['c', 'b', 'n']\n",
    "value = 'c'\n",
    "car.__contains__(value)"
   ]
  },
  {
   "cell_type": "code",
   "execution_count": null,
   "metadata": {},
   "outputs": [],
   "source": [
    "class Danish:\n",
    "    car = 'car'\n",
    "    bike = 'bike'\n",
    "    def __init__(self, name, age):\n",
    "        self.name = name\n",
    "        self.age = age\n",
    "        \n",
    "    def printName(self):\n",
    "        print(self.name)\n",
    "    \n",
    "    def printAge(self):\n",
    "        print(self.age)\n",
    "        \n",
    "    def currentAge(self, current):\n",
    "        self.age+=current\n",
    "        print(self.age)\n",
    "        \n",
    "    def classVariable(self):\n",
    "        print(self.car, self.bike)\n",
    "        \n",
    "    def printLocal(self):\n",
    "        local(self.name, self.age)\n",
    "        \n",
    "    def local(name, age):\n",
    "        print(f\"my name is {name} and age is {age}.\")"
   ]
  },
  {
   "cell_type": "code",
   "execution_count": null,
   "metadata": {},
   "outputs": [],
   "source": [
    "# class AdjNode: \n",
    "#     def __init__(self, data): \n",
    "#         self.vertex = data \n",
    "#         self.next = None"
   ]
  },
  {
   "cell_type": "code",
   "execution_count": null,
   "metadata": {},
   "outputs": [],
   "source": [
    "# class Graph: \n",
    "#     def __init__(self, vertices): \n",
    "#         self.V = vertices \n",
    "#         self.graph = [None] * self.V \n",
    "#         for i in range(len(self.graph)):\n",
    "#             self.graph[i] = AdjNode(i)\n",
    "  \n",
    "#     # Function to add an edge in an undirected graph \n",
    "#     def add_edge(self, src, dest): \n",
    "#         # Adding the node to the source node \n",
    "#         node = AdjNode(dest) \n",
    "#         node.next = self.graph[src] \n",
    "#         self.graph[src] = node \n",
    "#         # Adding the source node to the destination as \n",
    "#         # it is the undirected graph \n",
    "#         node = AdjNode(src)\n",
    "#         node.next = self.graph[dest] \n",
    "#         self.graph[dest] = node \n",
    "  \n",
    "#     # Function to print the graph \n",
    "#     def print_graph(self): \n",
    "#         for i in range(self.V): \n",
    "#             print(\"Adjacency list of vertex {}\\n head\".format(i), end=\"\") \n",
    "#             temp = self.graph[i] \n",
    "#             while temp: \n",
    "#                 print(\" -> {}\".format(temp.vertex), end=\"\") \n",
    "#                 temp = temp.next\n",
    "#             print(\" \\n\") \n",
    "  "
   ]
  },
  {
   "cell_type": "code",
   "execution_count": null,
   "metadata": {},
   "outputs": [],
   "source": [
    "# V = 5\n",
    "# graph = Graph(V) \n",
    "# graph.add_edge(0, 1) \n",
    "# graph.add_edge(0, 4) \n",
    "# graph.add_edge(1, 2) \n",
    "# graph.add_edge(1, 3) \n",
    "# graph.add_edge(1, 4) \n",
    "# graph.add_edge(2, 3) \n",
    "# graph.add_edge(3, 4) \n",
    "\n",
    "# graph.print_graph() \n",
    "  "
   ]
  },
  {
   "cell_type": "code",
   "execution_count": null,
   "metadata": {},
   "outputs": [],
   "source": [
    "# class adjNode():\n",
    "#     def __init__(self, value):\n",
    "#         self.vertex = value\n",
    "#         self.next = None\n",
    "\n",
    "# class Graph():\n",
    "#     def __init__(self,vertices):\n",
    "#         self.vertices = vertices\n",
    "#         self.graph = [None]*self.vertices\n",
    "#         for i in range(len(self.graph)):\n",
    "#             self.graph[i] = adjNode(i)\n",
    "            \n",
    "#     def add_edge(self, src, dest):\n",
    "#         self.graph[src].next = self.graph[dest]\n",
    "#         self.graph[dest].next = self.graph[src]\n",
    "#         print(111, self.graph[src].vertex)\n",
    "#     def print_graph(self): \n",
    "#         for i in range(self.vertices): \n",
    "#             print(\"Adjacency list of vertex {}\\n head\".format(i), end=\"\") \n",
    "#             temp = self.graph[i] \n",
    "#             while temp: \n",
    "#                 print(\" -> {}\".format(temp.vertex), end=\"\") \n",
    "#                 temp = temp.next\n",
    "#             print(\" \\n\") \n",
    "            "
   ]
  },
  {
   "cell_type": "code",
   "execution_count": 6,
   "metadata": {},
   "outputs": [],
   "source": [
    "# graph\n",
    "import sys\n",
    "INT_MAX = sys.maxsize//2\n",
    "\n",
    "def Graph(V, lis, undirected=True):\n",
    "    graph_len = V\n",
    "    graph = [[] for i in range(graph_len)]\n",
    "    #lis = [(0, 1), (0, 2), (1, 3), (1, 4), (2, 4), (3, 4), (3, 5), (4, 5), (6, 7)]\n",
    "    for i in range(len(lis)):\n",
    "        graph[lis[i][0]].append(lis[i][1])\n",
    "        if undirected:\n",
    "            graph[lis[i][1]].append(lis[i][0])\n",
    "    print(graph)\n",
    "    return graph\n",
    "\n",
    "def wGraph(V, lis, undirected=True):\n",
    "    graph_len = V\n",
    "    wgraph = [[] for i in range(V)]\n",
    "    for i in range(len(lis)):\n",
    "        wgraph[lis[i][0]].append((lis[i][1], lis[i][2]))\n",
    "        if undirected:\n",
    "            wgraph[lis[i][1]].append((lis[i][0], lis[i][2]))\n",
    "    print(wgraph)\n",
    "    return wgraph"
   ]
  },
  {
   "cell_type": "code",
   "execution_count": 8,
   "metadata": {},
   "outputs": [
    {
     "name": "stdout",
     "output_type": "stream",
     "text": [
      "[[1, 2], [0, 3, 4], [0, 4], [1, 4, 5], [1, 2, 3, 5], [3, 4], [7], [6]]\n",
      "0\n",
      "1\n",
      "2\n",
      "3\n",
      "4\n",
      "5\n",
      "[0, 1, 1, 2, 2, 3, 1073741823, 1073741823]\n",
      "distance is 2\n",
      "visted nodes are [True, True, True, True, True, True, False, False]\n"
     ]
    }
   ],
   "source": [
    "# BFS\n",
    "lis = [(0, 1), (0, 2), (1, 3), (1, 4), (2, 4), (3, 4), (3, 5), (4, 5), (6, 7)]\n",
    "graph = Graph(8, lis)\n",
    "def BFS(node, search):\n",
    "    queue = []\n",
    "    visited = [False for i in range(graph_len)]\n",
    "    queue.append(node)\n",
    "\n",
    "    visited[node] = True\n",
    "    count = [INT_MAX for i in range(graph_len)]\n",
    "    count[node] = 0\n",
    "    while queue:\n",
    "        s = queue.pop(0)\n",
    "        for i in graph[s]:\n",
    "            if visited[i] is False and count[i] > count[s] + 1:\n",
    "                visited[i] = True\n",
    "                count[i] = count[s] + 1\n",
    "                queue.append(i)\n",
    "        print(s)\n",
    "    print(count)\n",
    "    print(f\"distance is {count[search]}\")\n",
    "    print(f\"visted nodes are {visited}\")\n",
    "BFS(0,3)"
   ]
  },
  {
   "cell_type": "code",
   "execution_count": 12,
   "metadata": {},
   "outputs": [
    {
     "name": "stdout",
     "output_type": "stream",
     "text": [
      "[[1, 2], [0, 3, 4], [0, 4], [1, 4, 5], [1, 2, 3, 5], [3, 4], [7], [6]]\n",
      "0\n",
      "1\n",
      "3\n",
      "4\n",
      "2\n",
      "5\n"
     ]
    }
   ],
   "source": [
    "# DFS\n",
    "lis = [(0, 1), (0, 2), (1, 3), (1, 4), (2, 4), (3, 4), (3, 5), (4, 5), (6, 7)]\n",
    "graph = Graph(8, lis)\n",
    "def DFSUtils(v, visited):\n",
    "    visited[v] = True\n",
    "    print(v)\n",
    "    for i in graph[v]:\n",
    "        if visited[i] is False:\n",
    "            DFSUtils(i, visited)\n",
    "\n",
    "def DFS(v, search):\n",
    "    visited = [False for i in range(graph_len)]\n",
    "    count = [INT_MAX for i in range(graph_len)]\n",
    "    count[v] = 0\n",
    "    DFSUtils(v, visited)\n",
    "DFS(0, 2)"
   ]
  },
  {
   "cell_type": "code",
   "execution_count": 29,
   "metadata": {},
   "outputs": [
    {
     "name": "stdout",
     "output_type": "stream",
     "text": [
      "[[1, 2], [3, 4], [4], [4, 5], [5], [], [7], []]\n"
     ]
    }
   ],
   "source": [
    "# directed DFS cycle detection\n",
    "# so here you make wil make a restack list \n",
    "lis = [(0, 1), (0, 2), (1, 3), (1, 4), (2, 4), (3, 4), (3, 5), (4, 5), (6, 7)]\n",
    "graph = Graph(8, lis, undirected=False)\n",
    "def cyc_DFSUtils(v, visited, restack):\n",
    "    visited[v] = True\n",
    "    restack[v] = True\n",
    "    print(222, v)\n",
    "    for i in graph[v]:\n",
    "        if visited[i] is False:\n",
    "            if DFSUtils(i, visited, restack) is True:\n",
    "                return True\n",
    "            #DFSUtils(i, visited, restack)\n",
    "        elif restack[i] is True:\n",
    "            return True\n",
    "    restack[v] = False\n",
    "    return False\n",
    "\n",
    "def cyc_DFS(v):\n",
    "    visited = [False for i in range(graph_len)]\n",
    "    restack = [False for i in range(graph_len)]\n",
    "    if DFSUtils(v, visited, restack) is True:\n",
    "        return True\n",
    "    else:\n",
    "        return False "
   ]
  },
  {
   "cell_type": "code",
   "execution_count": 30,
   "metadata": {},
   "outputs": [
    {
     "name": "stdout",
     "output_type": "stream",
     "text": [
      "[[1, 2], [3, 4], [4], [4, 5], [5], [], [7], []]\n"
     ]
    }
   ],
   "source": [
    "# all paths for u to v DFS\n",
    "# here the catch is at v == u you don't go into recursion but stop there and it ends when with normal recursion\n",
    "# when it does't finds u anymore.\n",
    "\n",
    "lis = [(0, 1), (0, 2), (1, 3), (1, 4), (2, 4), (3, 4), (3, 5), (4, 5), (6, 7)]\n",
    "graph = Graph(8, lis, undirected=False)\n",
    "def path_cyc_DFSUtils(v, u, visited, path):\n",
    "    visited[v] = True\n",
    "    print(222, v)\n",
    "    path.append(v)\n",
    "    if v == u:\n",
    "        print(path)\n",
    "    else:\n",
    "        for i in graph[v]:\n",
    "            if visited[i] is False:\n",
    "                path_cyc_DFSUtils(i, u, visited, path)\n",
    "    path.pop()\n",
    "    visited[v] = False\n",
    "\n",
    "def path_cyc_DFS(v, u):\n",
    "    visited = [False for i in range(graph_len)]\n",
    "    path = []\n",
    "    path_cyc_DFSUtils(v, u, visited, path)"
   ]
  },
  {
   "cell_type": "code",
   "execution_count": 8,
   "metadata": {},
   "outputs": [
    {
     "ename": "NameError",
     "evalue": "name 'graph_len' is not defined",
     "output_type": "error",
     "traceback": [
      "\u001b[1;31m---------------------------------------------------------------------------\u001b[0m",
      "\u001b[1;31mNameError\u001b[0m                                 Traceback (most recent call last)",
      "\u001b[1;32m<ipython-input-8-cadc92bc3e4d>\u001b[0m in \u001b[0;36m<module>\u001b[1;34m\u001b[0m\n\u001b[1;32m----> 1\u001b[1;33m \u001b[0mpath_cyc_DFS\u001b[0m\u001b[1;33m(\u001b[0m\u001b[1;36m0\u001b[0m\u001b[1;33m,\u001b[0m \u001b[1;36m4\u001b[0m\u001b[1;33m)\u001b[0m\u001b[1;33m\u001b[0m\u001b[1;33m\u001b[0m\u001b[0m\n\u001b[0m",
      "\u001b[1;32m<ipython-input-7-0eca8c73f7a0>\u001b[0m in \u001b[0;36mpath_cyc_DFS\u001b[1;34m(v, u)\u001b[0m\n\u001b[0;32m     19\u001b[0m \u001b[1;33m\u001b[0m\u001b[0m\n\u001b[0;32m     20\u001b[0m \u001b[1;32mdef\u001b[0m \u001b[0mpath_cyc_DFS\u001b[0m\u001b[1;33m(\u001b[0m\u001b[0mv\u001b[0m\u001b[1;33m,\u001b[0m \u001b[0mu\u001b[0m\u001b[1;33m)\u001b[0m\u001b[1;33m:\u001b[0m\u001b[1;33m\u001b[0m\u001b[1;33m\u001b[0m\u001b[0m\n\u001b[1;32m---> 21\u001b[1;33m     \u001b[0mvisited\u001b[0m \u001b[1;33m=\u001b[0m \u001b[1;33m[\u001b[0m\u001b[1;32mFalse\u001b[0m \u001b[1;32mfor\u001b[0m \u001b[0mi\u001b[0m \u001b[1;32min\u001b[0m \u001b[0mrange\u001b[0m\u001b[1;33m(\u001b[0m\u001b[0mgraph_len\u001b[0m\u001b[1;33m)\u001b[0m\u001b[1;33m]\u001b[0m\u001b[1;33m\u001b[0m\u001b[1;33m\u001b[0m\u001b[0m\n\u001b[0m\u001b[0;32m     22\u001b[0m     \u001b[0mpath\u001b[0m \u001b[1;33m=\u001b[0m \u001b[1;33m[\u001b[0m\u001b[1;33m]\u001b[0m\u001b[1;33m\u001b[0m\u001b[1;33m\u001b[0m\u001b[0m\n\u001b[0;32m     23\u001b[0m     \u001b[0mpath_cyc_DFSUtils\u001b[0m\u001b[1;33m(\u001b[0m\u001b[0mv\u001b[0m\u001b[1;33m,\u001b[0m \u001b[0mu\u001b[0m\u001b[1;33m,\u001b[0m \u001b[0mvisited\u001b[0m\u001b[1;33m,\u001b[0m \u001b[0mpath\u001b[0m\u001b[1;33m)\u001b[0m\u001b[1;33m\u001b[0m\u001b[1;33m\u001b[0m\u001b[0m\n",
      "\u001b[1;31mNameError\u001b[0m: name 'graph_len' is not defined"
     ]
    }
   ],
   "source": [
    "path_cyc_DFS(0, 4)"
   ]
  },
  {
   "cell_type": "code",
   "execution_count": 39,
   "metadata": {},
   "outputs": [
    {
     "name": "stdout",
     "output_type": "stream",
     "text": [
      "[[1, 3], [0, 2], [1], [0, 4], [3], [6, 7], [5], [5]]\n"
     ]
    }
   ],
   "source": [
    "# cyclic pattern finding \n",
    "#lis = [(0, 1), (0, 2), (1, 3), (1, 4), (2, 4), (3, 4), (3, 5), (4, 5), (6, 7)]\n",
    "lis = [(0,1), (0,3), (1,2), (3,4) ,(5,6), (5,7)]\n",
    "graph = Graph(8, lis, undirected=True)\n",
    "\n",
    "def findParent(parent, i):\n",
    "    if parent[i] == -1:\n",
    "        return i\n",
    "    else:\n",
    "        return findParent(parent, parent[i])\n",
    "    \n",
    "def union(parent, x, y):\n",
    "    x_parent = findParent(parent, x)\n",
    "    y_parent = findParent(parent, y)\n",
    "    parent[y_parent] = x_parent\n",
    "    \n",
    "def checkCyclic():\n",
    "    parent = [-1 for i in range(len(graph))]\n",
    "    prev = 0\n",
    "    for i, node in enumerate(graph):\n",
    "        for neighbour in node:\n",
    "            if neighbour != prev: \n",
    "                x = findParent(parent, i)\n",
    "                y = findParent(parent, neighbour)\n",
    "                if x == y:\n",
    "                    print(i, neighbour)\n",
    "                    return True\n",
    "                union(parent, x, y)\n",
    "            else:\n",
    "                continue\n",
    "        prev = i"
   ]
  },
  {
   "cell_type": "code",
   "execution_count": 40,
   "metadata": {},
   "outputs": [
    {
     "name": "stdout",
     "output_type": "stream",
     "text": [
      "3 0\n",
      "True\n"
     ]
    }
   ],
   "source": [
    "print(checkCyclic())"
   ]
  },
  {
   "cell_type": "code",
   "execution_count": 4,
   "metadata": {},
   "outputs": [
    {
     "name": "stdout",
     "output_type": "stream",
     "text": [
      "[[(1, 2), (2, 1)], [(0, 2), (3, 4), (4, 5)], [(0, 1), (4, 3)], [(1, 4), (4, 7), (5, 2)], [(1, 5), (2, 3), (3, 7), (5, 6)], [(3, 2), (4, 6)], [(7, 3)], [(6, 3)]]\n"
     ]
    }
   ],
   "source": [
    "# dijkstra\n",
    "# make a shortestPathTree(sptset) and make every node false initially\n",
    "# make dist list form source node with initial distance INF, only source node with 0 distance.\n",
    "# make a function minDist which basically returns the index of node nearest node not visted in sptset.\n",
    "# then run a for loop V times with everytime minDist returning a 'u' which is nearest to source.\n",
    "# another for loop to get if next node of 'u' is shorter than already in dist list\n",
    "# if so replace that element in dist with new one.\n",
    "graph_len = 8\n",
    "lis = [(0, 1, 2), (0, 2, 1), (1, 3, 4), (1, 4, 5), (2, 4, 3), (3, 4, 7), (3, 5, 2), (4, 5, 6), (6, 7, 3)]\n",
    "wgraph = wGraph(8, lis, undirected=True)\n",
    "\n",
    "def mindist(dist, sptset):\n",
    "    minn = INT_MAX\n",
    "    minn_index = 0\n",
    "    for i in range(len(dist)):\n",
    "        if dist[i]<minn and sptset[i] is False:\n",
    "            minn = dist[i]\n",
    "            minn_index = i\n",
    "    return minn_index\n",
    "    \n",
    "def dijkstra(src):\n",
    "    sptset = [False for i in range(graph_len)]\n",
    "    dist = [INT_MAX for i in range(graph_len)]\n",
    "    dist[src] = 0\n",
    "    \n",
    "    for j in range(graph_len):\n",
    "        u = mindist(dist, sptset)\n",
    "        sptset[u] =True\n",
    "        \n",
    "        for i in wgraph[u]:\n",
    "            if sptset[i[0]] is False and dist[i[0]]>dist[u]+i[1]:\n",
    "                dist[i[0]] = dist[u]+i[1]\n",
    "    print(dist)\n",
    "    "
   ]
  },
  {
   "cell_type": "code",
   "execution_count": 5,
   "metadata": {},
   "outputs": [
    {
     "name": "stdout",
     "output_type": "stream",
     "text": [
      "[6, 4, 7, 0, 7, 2, 1073741823, 1073741823]\n"
     ]
    }
   ],
   "source": [
    "dijkstra(3)"
   ]
  },
  {
   "cell_type": "code",
   "execution_count": null,
   "metadata": {},
   "outputs": [],
   "source": [
    "# KruskalMST\n",
    "graph_len = 8\n",
    "lis = [(0, 1, 2), (0, 2, 1), (1, 3, 4), (1, 4, 5), (2, 4, 3), (3, 4, 7), (3, 5, 2), (4, 5, 6), (6, 7, 3)]\n",
    "wgraph = wGraph(8, lis, undirected=True)\n",
    "def sortt():\n",
    "    return sorted(lis, key=lambda item=item[2])\n",
    "\n",
    "slis = sortt()\n",
    "\n",
    "def kruskal():\n",
    "    pass"
   ]
  },
  {
   "cell_type": "code",
   "execution_count": 15,
   "metadata": {},
   "outputs": [],
   "source": [
    "def func(arr, m, n):\n",
    "    k = 0\n",
    "    l = 0\n",
    "    while k<n and l<m:\n",
    "        for i in range(k, n):\n",
    "            print(arr[l][i])\n",
    "        l+=1\n",
    "        for j in range(l, m):\n",
    "            print(i, 111)\n",
    "            print(arr[j][n])\n",
    "        n-=1\n",
    "        for o in range(n, k, -1):\n",
    "            print(arr[m][o])\n",
    "        m-=1\n",
    "        for p in range(m, l, -1):\n",
    "            print(arr[p][k])\n",
    "        k+=1"
   ]
  },
  {
   "cell_type": "code",
   "execution_count": 26,
   "metadata": {},
   "outputs": [],
   "source": [
    "def rotate(arr, m):\n",
    "    l = 0 # n\n",
    "    m-=1\n",
    "    while l<m:\n",
    "        for i in range(l, m):\n",
    "            temp = arr[l+i][l]\n",
    "            arr[l+i][l] = arr[l][m-i]\n",
    "            arr[l][m-i] = arr[m-i][m]\n",
    "            arr[m-i][m] = arr[m][l+i]\n",
    "            arr[m][l+i] = temp\n",
    "        l+=1\n",
    "        m-=1\n",
    "    for i in arr:\n",
    "        print(i)"
   ]
  },
  {
   "cell_type": "code",
   "execution_count": 28,
   "metadata": {},
   "outputs": [
    {
     "name": "stdout",
     "output_type": "stream",
     "text": [
      "[1, 2, 3, 4]\n",
      "[5, 6, 7, 8]\n",
      "[9, 10, 11, 12]\n",
      "[13, 14, 15, 16]\n",
      "[4, 8, 12, 16]\n",
      "[3, 7, 11, 15]\n",
      "[2, 6, 10, 14]\n",
      "[1, 5, 9, 13]\n"
     ]
    }
   ],
   "source": [
    "arr = [[1,2,3,4], [5,6,7,8], [9,10,11,12], [13, 14, 15, 16]]\n",
    "for i in arr:\n",
    "    print(i)\n",
    "rotate(arr, 4)"
   ]
  },
  {
   "cell_type": "code",
   "execution_count": 43,
   "metadata": {},
   "outputs": [],
   "source": [
    "def findSort(arr, low, high):\n",
    "    print(low, high)\n",
    "    if high<low:\n",
    "        return -1\n",
    "    if low == high:\n",
    "        return low\n",
    "    mid = (low+high)//2\n",
    "    if mid<high and arr[mid]>arr[mid+1]:\n",
    "        return mid\n",
    "    if low<mid and arr[mid]<arr[mid-1]:\n",
    "        return mid-1\n",
    "    if arr[mid]>=arr[low]:\n",
    "        return findSort(arr, mid, high)\n",
    "    return findSort(arr, low, mid-1)"
   ]
  },
  {
   "cell_type": "code",
   "execution_count": 45,
   "metadata": {},
   "outputs": [
    {
     "name": "stdout",
     "output_type": "stream",
     "text": [
      "0 5\n",
      "2 5\n"
     ]
    },
    {
     "data": {
      "text/plain": [
       "3"
      ]
     },
     "execution_count": 45,
     "metadata": {},
     "output_type": "execute_result"
    }
   ],
   "source": [
    "arr = [3,4,5,6,1,2]\n",
    "findSort(arr, 0, 5)"
   ]
  },
  {
   "cell_type": "code",
   "execution_count": 38,
   "metadata": {},
   "outputs": [],
   "source": [
    "def maxSum(arr):\n",
    "    summ = 0\n",
    "    best = 0\n",
    "    for i in range(len(arr)):\n",
    "        summ = max(arr[i], summ+arr[i])\n",
    "        best = max(best, summ)\n",
    "    print(best)\n",
    "\n",
    "def maxProd(arr):\n",
    "    prod = 1\n",
    "    best = 1\n",
    "    for i in range(len(arr)):\n",
    "        prod = max(arr[i], arr[i]*prod)\n",
    "        best = max(best, prod)\n",
    "    print(best)"
   ]
  },
  {
   "cell_type": "code",
   "execution_count": 43,
   "metadata": {},
   "outputs": [
    {
     "name": "stdout",
     "output_type": "stream",
     "text": [
      "35\n",
      "132\n"
     ]
    }
   ],
   "source": [
    "arr = [6, 0, 3, 0, 0, 0, 12, 11, 0, 0, 3]\n",
    "maxSum(arr)\n",
    "maxProd(arr)"
   ]
  },
  {
   "cell_type": "code",
   "execution_count": 83,
   "metadata": {},
   "outputs": [],
   "source": [
    "def funct(arr):\n",
    "    lis = []\n",
    "    best = []\n",
    "    i=0\n",
    "    while i<len(arr)-1:\n",
    "        if arr[i]<=arr[i+1]:\n",
    "            lis.append(arr[i])\n",
    "            lis.append(arr[i+1])\n",
    "            i+=1\n",
    "        else:\n",
    "            while(len(lis)):\n",
    "                lis.pop()\n",
    "        if len(best)<len(lis):\n",
    "            best = lis[:]\n",
    "        i+=1\n",
    "    print(best)"
   ]
  },
  {
   "cell_type": "code",
   "execution_count": 87,
   "metadata": {},
   "outputs": [
    {
     "name": "stdout",
     "output_type": "stream",
     "text": [
      "[2, 5, 3, 7]\n"
     ]
    }
   ],
   "source": [
    "arr = [2, 5, 3, 7, 11, 8, 10, 13, 6]\n",
    "funct(arr)"
   ]
  },
  {
   "cell_type": "code",
   "execution_count": 70,
   "metadata": {},
   "outputs": [],
   "source": [
    "for i in range(5):\n",
    "    continue\n",
    "    print(i)"
   ]
  },
  {
   "cell_type": "code",
   "execution_count": 97,
   "metadata": {},
   "outputs": [],
   "source": [
    "def word(a):\n",
    "    w = a.split()\n",
    "    w.reverse()\n",
    "    for i in w:\n",
    "        print(i, end=\" \")"
   ]
  },
  {
   "cell_type": "code",
   "execution_count": 98,
   "metadata": {},
   "outputs": [
    {
     "name": "stdout",
     "output_type": "stream",
     "text": [
      "student a am i "
     ]
    }
   ],
   "source": [
    "word(\"i am a student\")"
   ]
  },
  {
   "cell_type": "code",
   "execution_count": 99,
   "metadata": {},
   "outputs": [
    {
     "ename": "SyntaxError",
     "evalue": "invalid syntax (<ipython-input-99-3dc40223cbbb>, line 6)",
     "output_type": "error",
     "traceback": [
      "\u001b[1;36m  File \u001b[1;32m\"<ipython-input-99-3dc40223cbbb>\"\u001b[1;36m, line \u001b[1;32m6\u001b[0m\n\u001b[1;33m    if arr[i]!=arr[i+1]\u001b[0m\n\u001b[1;37m                       ^\u001b[0m\n\u001b[1;31mSyntaxError\u001b[0m\u001b[1;31m:\u001b[0m invalid syntax\n"
     ]
    }
   ],
   "source": [
    "def dist(arr):\n",
    "    lis = []\n",
    "    best = []\n",
    "    i=0\n",
    "    while i<len(arr)-1:\n",
    "        if arr[i]!=arr[i+1]"
   ]
  },
  {
   "cell_type": "code",
   "execution_count": 100,
   "metadata": {},
   "outputs": [],
   "source": [
    "def merge(arr, l, m, r):\n",
    "    n1 = m-l+1\n",
    "    n2 = r-m\n",
    "    \n",
    "    a = arr[l:m+1]\n",
    "    b = arr[m+1:r+1]\n",
    "    \n",
    "    i=0\n",
    "    j=0\n",
    "    k=l\n",
    "    while i<n1 and j<n2:\n",
    "        "
   ]
  },
  {
   "cell_type": "code",
   "execution_count": 103,
   "metadata": {},
   "outputs": [
    {
     "name": "stdout",
     "output_type": "stream",
     "text": [
      "[2, 3, 4]\n"
     ]
    }
   ],
   "source": [
    "# cycle detection in undirected graph "
   ]
  },
  {
   "cell_type": "code",
   "execution_count": 22,
   "metadata": {},
   "outputs": [
    {
     "name": "stdout",
     "output_type": "stream",
     "text": [
      "Graph does not contain cycle \n"
     ]
    }
   ],
   "source": [
    "from collections import defaultdict \n",
    "   \n",
    "#This class represents a undirected graph using adjacency list representation \n",
    "class Graph: \n",
    "   \n",
    "    def __init__(self,vertices): \n",
    "        self.V= vertices #No. of vertices \n",
    "        self.graph = defaultdict(list) # default dictionary to store graph \n",
    "   \n",
    "  \n",
    "    # function to add an edge to graph \n",
    "    def addEdge(self,u,v): \n",
    "        self.graph[u].append(v) \n",
    "   \n",
    "    # A utility function to find the subset of an element i \n",
    "    def find_parent(self, parent,i): \n",
    "        if parent[i] == -1: \n",
    "            return i \n",
    "        if parent[i]!= -1: \n",
    "             return self.find_parent(parent,parent[i]) \n",
    "  \n",
    "    # A utility function to do union of two subsets \n",
    "    def union(self,parent,x,y): \n",
    "        x_set = self.find_parent(parent, x) \n",
    "        y_set = self.find_parent(parent, y) \n",
    "        parent[x_set] = y_set \n",
    "  \n",
    "   \n",
    "   \n",
    "    # The main function to check whether a given graph \n",
    "    # contains cycle or not \n",
    "    def isCyclic(self): \n",
    "          \n",
    "        # Allocate memory for creating V subsets and \n",
    "        # Initialize all subsets as single element sets \n",
    "        parent = [-1]*(self.V) \n",
    "  \n",
    "        # Iterate through all edges of graph, find subset of both \n",
    "        # vertices of every edge, if both subsets are same, then \n",
    "        # there is cycle in graph. \n",
    "        for i in self.graph: \n",
    "            for j in self.graph[i]: \n",
    "                x = self.find_parent(parent, i)  \n",
    "                y = self.find_parent(parent, j) \n",
    "                if x == y: \n",
    "                    return True\n",
    "                self.union(parent,x,y) \n",
    "  \n",
    "  \n",
    "# Create a graph given in the above diagram \n",
    "g = Graph(8) \n",
    "g.addEdge(0, 1) \n",
    "g.addEdge(1, 2) \n",
    "#g.addEdge(2, 0)\n",
    "g.addEdge(0, 3)\n",
    "g.addEdge(3, 4)\n",
    "g.addEdge(5, 6)\n",
    "g.addEdge(5, 7)\n",
    "\n",
    "  \n",
    "if g.isCyclic(): \n",
    "    print(\"Graph contains cycle\")\n",
    "else : \n",
    "    print(\"Graph does not contain cycle \")\n",
    "   \n",
    "#This code is contributed by Neelam Yadav "
   ]
  },
  {
   "cell_type": "code",
   "execution_count": 71,
   "metadata": {},
   "outputs": [
    {
     "name": "stdout",
     "output_type": "stream",
     "text": [
      "[True, True, True, True, True, False, False] [0, 1, 2, 3, 4] 4\n",
      "[True, True, True, True, True, True, True] [5, 6] 4\n",
      "2 2\n"
     ]
    }
   ],
   "source": [
    "def findParent(parent, node):\n",
    "    if parent[node] == -1:\n",
    "        return node\n",
    "\n",
    "    if parent[node] != -1:\n",
    "        return findParent(parent, parent[node])\n",
    "\n",
    "def unionParent(parent, x, y):\n",
    "    x_p = findParent(parent, x)\n",
    "    y_p = findParent(parent, y)\n",
    "    if x_p == y_p:\n",
    "        return 1\n",
    "    else:\n",
    "        parent[y_p] = x_p\n",
    "        return 0\n",
    "    \n",
    "def DFSU(src, prev, graph, visited, cluster, parent):\n",
    "    global cycle\n",
    "    cluster.append(src)\n",
    "    visited[src] = True\n",
    "    for i in graph[src]:\n",
    "        #print(src, i, 0)\n",
    "        if i != prev:\n",
    "            #print(src, i, 22)\n",
    "            if unionParent(parent, src, i):\n",
    "                cycle+=1\n",
    "                #print(11,cycle)\n",
    "            else:\n",
    "                DFSU(i, src, graph, visited, cluster, parent)\n",
    "\n",
    "\n",
    "def DFS(src, graph, visited):\n",
    "    global cycle\n",
    "    cluster = []\n",
    "    parent = [-1 for i in range(len(graph))]\n",
    "    DFSU(src, src, graph, visited, cluster, parent)\n",
    "    print(visited, cluster, cycle)\n",
    "    \n",
    "cycle = 0\n",
    "graph = [[1,2,3,4], [0,2], [0,1], [0, 4], [0,3], [6], [5]]\n",
    "#graph = [[1,2,3], [0,2], [0,1,3], [0,2]]\n",
    "visited = [False for i in range(len(graph))]\n",
    "#DFS(0, graph, visited)\n",
    "\n",
    "count = 0\n",
    "for i in range(len(graph)):\n",
    "    if not visited[i]:\n",
    "        DFS(i, graph, visited)\n",
    "        count+=1\n",
    "print(count, cycle//2)"
   ]
  },
  {
   "cell_type": "code",
   "execution_count": 21,
   "metadata": {},
   "outputs": [],
   "source": [
    "# longest non-contiguous increasing sub array\n",
    "\n",
    "def LIS(arr):\n",
    "    cache = [0 for i in range(len(arr))]\n",
    "    for i in range(len(arr)):\n",
    "        lis = []\n",
    "        for j in range(i):\n",
    "            if arr[i]>arr[j]:\n",
    "                lis.append(arr[j])\n",
    "        lis.append(arr[i])\n",
    "        cache[i] = lis\n",
    "        print(lis)\n",
    "    print(cache)"
   ]
  },
  {
   "cell_type": "code",
   "execution_count": 23,
   "metadata": {},
   "outputs": [
    {
     "name": "stdout",
     "output_type": "stream",
     "text": [
      "[11]\n",
      "[10]\n",
      "[9]\n",
      "[2]\n",
      "[2, 3]\n",
      "[2, 3, 8]\n",
      "[2, 3, 8]\n",
      "[1]\n",
      "[[11], [10], [9], [2], [2, 3], [2, 3, 8], [2, 3, 8], [1]]\n"
     ]
    }
   ],
   "source": [
    "arr = [11, 10, 9, 2, 3, 8, 8, 1]\n",
    "LIS(arr)"
   ]
  },
  {
   "cell_type": "code",
   "execution_count": null,
   "metadata": {},
   "outputs": [],
   "source": []
  },
  {
   "cell_type": "code",
   "execution_count": null,
   "metadata": {},
   "outputs": [],
   "source": []
  }
 ],
 "metadata": {
  "kernelspec": {
   "display_name": "Python 3",
   "language": "python",
   "name": "python3"
  },
  "language_info": {
   "codemirror_mode": {
    "name": "ipython",
    "version": 3
   },
   "file_extension": ".py",
   "mimetype": "text/x-python",
   "name": "python",
   "nbconvert_exporter": "python",
   "pygments_lexer": "ipython3",
   "version": "3.8.6"
  }
 },
 "nbformat": 4,
 "nbformat_minor": 4
}
