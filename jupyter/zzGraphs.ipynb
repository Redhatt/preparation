{
 "cells": [
  {
   "cell_type": "code",
   "execution_count": 13,
   "metadata": {},
   "outputs": [
    {
     "name": "stdout",
     "output_type": "stream",
     "text": [
      "False\n"
     ]
    }
   ],
   "source": [
    "print(cycleDetectionDFS(dgraph))"
   ]
  },
  {
   "cell_type": "code",
   "execution_count": 1,
   "metadata": {},
   "outputs": [],
   "source": [
    "### all paths from node u and v in a graph.\n",
    "# This is amazing.\n",
    "def allPathDFSUtils(graph, source, dest, visited, queue):\n",
    "    visited[source] = True\n",
    "    queue.append(source)\n",
    "    if source == dest:\n",
    "        print(queue)\n",
    "    else:\n",
    "        for neighbour in graph[source]:\n",
    "            if not visited[neighbour]:\n",
    "                allPathDFSUtils(graph, neighbour, dest, visited, queue) \n",
    "    queue.pop()\n",
    "    visited[source] = False\n",
    "    \n",
    "def allPathsDFS(graph, source, dest):\n",
    "    queue = []\n",
    "    visited = [False for i in range(len(graph))]\n",
    "    allPathDFSUtils(graph, source, dest, visited, queue)\n",
    "    print(queue)"
   ]
  },
  {
   "cell_type": "code",
   "execution_count": 2,
   "metadata": {},
   "outputs": [
    {
     "ename": "NameError",
     "evalue": "name 'graph' is not defined",
     "output_type": "error",
     "traceback": [
      "\u001b[1;31m---------------------------------------------------------------------------\u001b[0m",
      "\u001b[1;31mNameError\u001b[0m                                 Traceback (most recent call last)",
      "\u001b[1;32m<ipython-input-2-0a6f1ee20ccb>\u001b[0m in \u001b[0;36m<module>\u001b[1;34m\u001b[0m\n\u001b[1;32m----> 1\u001b[1;33m \u001b[0mallPathsDFS\u001b[0m\u001b[1;33m(\u001b[0m\u001b[0mgraph\u001b[0m\u001b[1;33m,\u001b[0m \u001b[1;36m0\u001b[0m\u001b[1;33m,\u001b[0m \u001b[1;36m5\u001b[0m\u001b[1;33m)\u001b[0m\u001b[1;33m\u001b[0m\u001b[1;33m\u001b[0m\u001b[0m\n\u001b[0m",
      "\u001b[1;31mNameError\u001b[0m: name 'graph' is not defined"
     ]
    }
   ],
   "source": [
    "allPathsDFS(graph, 0, 5)"
   ]
  },
  {
   "cell_type": "code",
   "execution_count": 16,
   "metadata": {},
   "outputs": [],
   "source": [
    "### cycle detction in undirected graph\n",
    "graph = [[2, 1, 4], [0, 3], [0, 4], [1, 4], [2, 0, 3]]\n",
    "def findParent(parent, node):\n",
    "    if parent[node] == -1:\n",
    "        return node\n",
    "    else:\n",
    "        return findParent(parent, parent[node])\n",
    "    \n",
    "def UnionParent(parent, node1, node2):\n",
    "    parent1 = findParent(parent, node1)\n",
    "    parent2 = findParent(parent, node2)\n",
    "    parent[parent2] = parent1\n",
    "       \n",
    "def cyclic(graph):\n",
    "    parent = [-1 for i in range(len(graph))]\n",
    "    prev = []\n",
    "    for node in range(len(graph)):\n",
    "        print(f\"node is {node}\")\n",
    "        for neighbour in graph[node]:\n",
    "            print(f\"neigbour is {neighbour} and prev is {prev}\")\n",
    "            if neighbour not in prev:\n",
    "                if findParent(parent, neighbour) == findParent(parent, node):\n",
    "                    print(f\"parent of neighbour is {findParent(parent, neighbour)}, and of node is {findParent(parent, node)}\")\n",
    "                    return True\n",
    "                UnionParent(parent, node, neighbour)\n",
    "        prev.append(node)\n",
    "    return False\n",
    "    \n",
    "    "
   ]
  },
  {
   "cell_type": "code",
   "execution_count": 3,
   "metadata": {},
   "outputs": [
    {
     "ename": "NameError",
     "evalue": "name 'cyclic' is not defined",
     "output_type": "error",
     "traceback": [
      "\u001b[1;31m---------------------------------------------------------------------------\u001b[0m",
      "\u001b[1;31mNameError\u001b[0m                                 Traceback (most recent call last)",
      "\u001b[1;32m<ipython-input-3-eae8f22bbef3>\u001b[0m in \u001b[0;36m<module>\u001b[1;34m\u001b[0m\n\u001b[0;32m      2\u001b[0m \u001b[1;31m# new_graph = Graph(7, new_lis)\u001b[0m\u001b[1;33m\u001b[0m\u001b[1;33m\u001b[0m\u001b[1;33m\u001b[0m\u001b[0m\n\u001b[0;32m      3\u001b[0m \u001b[1;31m# cyclic(new_graph)\u001b[0m\u001b[1;33m\u001b[0m\u001b[1;33m\u001b[0m\u001b[1;33m\u001b[0m\u001b[0m\n\u001b[1;32m----> 4\u001b[1;33m \u001b[0mcyclic\u001b[0m\u001b[1;33m(\u001b[0m\u001b[0mgraph\u001b[0m\u001b[1;33m)\u001b[0m\u001b[1;33m\u001b[0m\u001b[1;33m\u001b[0m\u001b[0m\n\u001b[0m",
      "\u001b[1;31mNameError\u001b[0m: name 'cyclic' is not defined"
     ]
    }
   ],
   "source": [
    "new_lis = [(0, 1), (0, 2), (1, 3), (1, 4), (2, 5), (2, 6)]\n",
    "# new_graph = Graph(7, new_lis)\n",
    "# cyclic(new_graph)\n",
    "cyclic(graph)"
   ]
  },
  {
   "cell_type": "code",
   "execution_count": null,
   "metadata": {},
   "outputs": [],
   "source": [
    "# cycle detection in directed graph\n",
    "#using color schemes.\n",
    "# traverse a path using dfs, initally all nodes are white, means non of them have been traversed.While traversing a path mark its nodes grey if\n",
    "# they are white and if a node is grey means you are in a cycle. But if path ends without any grey encounter mark all traverse node to black and \n",
    "# keep doing it untill you find cycle or exhaust the graph\n",
    "\n",
    "def dfs(graph, node, color):\n",
    "    # 2 -> white\n",
    "    # 1 -> grey\n",
    "    # 0 -> black\n",
    "    color[node] = 2\n",
    "    for neighbhour in graph[node]:\n",
    "        if color[neighbhour] == 1:\n",
    "            return True # ew got a cycle \n",
    "        if color[neighbhour] == 2 and dfs(graph, i, color):\n",
    "            return True # we got cycle since dfs returned True on a white node\n",
    "    # paht ends without any cycle so mark all visited nodes as black and return False\n",
    "    graph[node] = 0\n",
    "    return False\n",
    "\n",
    "color = [2 for i in range(len(graph))]\n",
    "\n",
    "got = 0\n",
    "for i in range(len(graph)):\n",
    "    if color[i] == 2:\n",
    "        if dfs(graph, i, color):\n",
    "            got = 1\n",
    "            break\n",
    "if got:\n",
    "    print(\"Cycle detected\")\n",
    "else:\n",
    "    print(\"NO cycle\")"
   ]
  },
  {
   "cell_type": "code",
   "execution_count": 18,
   "metadata": {},
   "outputs": [],
   "source": [
    "### Dijkstra\n",
    "# make a shortestPathTree(sptset) and make every node false initially\n",
    "# make dist list form source node with initial distance INF, only source node with 0 distance.\n",
    "# make a function minDist which basically returns the index of node nearest node not visted in sptset.\n",
    "# then run a for loop V times with everytime minDist returning a 'u' which is nearest to source.\n",
    "# another for loop to get if next node of 'u' is shorter than already in dist list\n",
    "# if so replace that element in dist with new one.\n",
    "\n",
    "\n",
    "def minDist(spt, dist):\n",
    "    minn = INF\n",
    "    minn_index = None\n",
    "    for i in range(len(dist)):\n",
    "        if not spt[i] and dist[i]<=minn:\n",
    "            minn = dist[i]\n",
    "            minn_index = i\n",
    "    return minn_index\n",
    "\n",
    "def Dijkstra(wgraph, source):\n",
    "    dist = [INF for i in range(len(wgraph))]\n",
    "    spt = [False for i in range(len(wgraph))]\n",
    "    dist[source] = 0\n",
    "    for i in range(len(graph)):\n",
    "        vertix = minDist(spt, dist)\n",
    "        if vertix is None:\n",
    "            break\n",
    "        spt[vertix] = True\n",
    "        for node in wgraph[vertix]:\n",
    "            if not spt[node[0]] and dist[node[0]]>=dist[vertix]+node[1]:\n",
    "                dist[node[0]] = dist[vertix]+node[1]\n",
    "    print(dist)\n",
    "            "
   ]
  },
  {
   "cell_type": "code",
   "execution_count": 19,
   "metadata": {},
   "outputs": [
    {
     "name": "stdout",
     "output_type": "stream",
     "text": [
      "[0, 4, 1, 6, 4, 11, 1073741823, 1073741823]\n"
     ]
    }
   ],
   "source": [
    "Dijkstra(wgraph, 0)"
   ]
  },
  {
   "cell_type": "code",
   "execution_count": 20,
   "metadata": {},
   "outputs": [],
   "source": [
    "# MST implementation in python is easier so once implement it in C++.\n",
    "'''\n",
    "Algorithm explained.\n",
    "let there be a graph with V vertices, and m vertices are connected optimally then to extend the tree the best \n",
    "possible connection will be to choose that connection which connectes the optimal tree to rest of nodes with \n",
    "least weighted node.\n",
    "'''\n",
    "def minEdge(graph, mst):\n",
    "    minn = INF\n",
    "    minVertix = None\n",
    "    minNode = None\n",
    "    for node in mst:\n",
    "        for vertix in graph[node]:\n",
    "            if vertix[0] not in mst:\n",
    "                if vertix[1]<=minn:\n",
    "                    minn = vertix[1]\n",
    "                    minVertix = vertix[0]\n",
    "                    minNode = node\n",
    "    return minVertix, minNode\n",
    "    \n",
    "def MSTPrims(graph):\n",
    "    mst = []\n",
    "    mst.append(0)\n",
    "    while len(mst) <= len(graph):\n",
    "        minVertix, minNode = minEdge(graph, mst)\n",
    "        print(f\"{minVertix}-{minNode}\")\n",
    "        if minVertix is not None:\n",
    "            mst.append(minVertix)\n",
    "        else:\n",
    "            break"
   ]
  },
  {
   "cell_type": "raw",
   "metadata": {},
   "source": [
    "# simple mst implementation\n",
    "s = 0\n",
    "q = [(0, 0)]\n",
    "v = [0]*n\n",
    "ans = 0\n",
    "heapify(q)\n",
    "while q:\n",
    "\tw, node = heappop(q)\n",
    "\tif not v[node]:\n",
    "\t\ts += 1\n",
    "\t\tans += w\n",
    "\t\tv[node] = 1\n",
    "\t\tfor i in graph[node]:\n",
    "\t\t\tif not v[i[0]]:\n",
    "\t\t\t\theappush(q, (i[1], i[0]))\n",
    "if s == n:\n",
    "\tprint(ans)\n",
    "else:\n",
    "\tprint(\"IMPOSSIBLE\")"
   ]
  },
  {
   "cell_type": "code",
   "execution_count": 21,
   "metadata": {},
   "outputs": [
    {
     "name": "stdout",
     "output_type": "stream",
     "text": [
      "2-0\n",
      "4-2\n",
      "1-0\n",
      "3-1\n",
      "5-4\n",
      "None-None\n"
     ]
    }
   ],
   "source": [
    "MSTPrims(wgraph)"
   ]
  },
  {
   "cell_type": "code",
   "execution_count": 8,
   "metadata": {},
   "outputs": [],
   "source": [
    "# bellmam-ford algorithm\n",
    "\n",
    "# Algorithm explained.\n",
    "# so basically you have to go through all the edges, and do the relaxation process.\n",
    "# But do this V-1 times because a simple path have at max V-1 nodes because if all path are optimized then \n",
    "# in worst case total optimization(which is the relaxation process) to be performed over all edges is V-1.\n",
    "# and if you can relax a path after V-1 times relaxtion, it means it has a negetive cycle because in case of \n",
    "# no-negetive cycle worst path can have V-1 nodes and after optimizing each edge V-1 times you should not be \n",
    "# able to relax it anymore.\n",
    "# Negetive-cycled graph don't have valid shortest path.\n",
    "\n",
    "def bellmanFord(graph, source):\n",
    "    minDist = [INF for i in range(len(graph))]\n",
    "    minDist[source] = 0\n",
    "    for i in range(len(graph)-1):\n",
    "        visited = [False for i in range(len(graph))]\n",
    "        for node in range(len(graph)):\n",
    "            for neighbour in graph[node]:\n",
    "                if not visited[neighbour[0]] and minDist[neighbour[0]]>minDist[node]+neighbour[1]:\n",
    "                    minDist[neighbour[0]] = minDist[node]+neighbour[1]\n",
    "                    visited[neighbour[0]] = True\n",
    "           \n",
    "    visited = [False for i in range(len(graph))]\n",
    "    for node in range(len(graph)):\n",
    "            for neighbour in graph[node]:\n",
    "                if not visited[neighbour[0]] and minDist[neighbour[0]]>minDist[node]+neighbour[1]:\n",
    "                    print(\"report\")\n",
    "    print(minDist)"
   ]
  },
  {
   "cell_type": "code",
   "execution_count": 10,
   "metadata": {},
   "outputs": [
    {
     "name": "stdout",
     "output_type": "stream",
     "text": [
      "[0, 3, -2, 2]\n"
     ]
    }
   ],
   "source": [
    "# nwlis = [(0, 1, 1), (0, 2, 2), (1, 3, 2), (1, 2, 3), (2, 3, -3), (3, 1, -3)]\n",
    "# nwgraph = wGraph(4, nwlis, undirected=False)\n",
    "# nwgraph = [[[1, 2, 3], [3], [3], []]]\n",
    "#           [[3, -2, 4], [-1], [7], []]\n",
    "nwgraph = [[[1,3], [2,-2], [3,4]], [[3, -1]], [[3, 7]], []]\n",
    "bellmanFord(nwgraph, 0)"
   ]
  },
  {
   "cell_type": "code",
   "execution_count": 24,
   "metadata": {},
   "outputs": [],
   "source": [
    "# Salesman problem.\n",
    "# this is NP hard and time complexity is O(n^2 * 2^n)\n",
    "\n",
    "def dist(j, i, graph):\n",
    "    for x in graph[j]:\n",
    "        if x[0] == i:\n",
    "            return x[1]\n",
    "        else:\n",
    "            return INF\n",
    "        \n",
    "def salesman(graph):\n",
    "    s = []\n",
    "    cost = [[INF for j in range(len(graph))] for i in range(len(graph))]\n",
    "    for i in range(len(graph)):\n",
    "        s.append(i)\n",
    "        for j in range(1, len(graph)):\n",
    "            if len(s) == 1:\n",
    "                cost[i][j] = 0\n",
    "            elif i == j:\n",
    "                cost[i][j] = 0\n",
    "            else:\n",
    "                cost[i][j] = min(cost[i-1][j] + dist(j, i, graph), cost[i][j])\n",
    "    print(cost)"
   ]
  },
  {
   "cell_type": "code",
   "execution_count": 25,
   "metadata": {},
   "outputs": [
    {
     "name": "stdout",
     "output_type": "stream",
     "text": [
      "This is the graph->[[(1, 10), (2, 15), (3, 20)], [(0, 10), (2, 35), (3, 25)], [(0, 15), (1, 35), (3, 30)], [(1, 25), (2, 30), (0, 20)]]\n",
      "[[1073741823, 0, 0, 0], [1073741823, 0, 1073741823, 25], [1073741823, 1073741823, 0, 1073741823], [1073741823, 1073741823, 1073741823, 0]]\n"
     ]
    }
   ],
   "source": [
    "swlis = [(0, 1, 10), (0, 2, 15), (1, 2, 35), (1, 3, 25), (2, 3, 30), (0, 3, 20)]\n",
    "saleGraph = wGraph(4, swlis)\n",
    "salesman(saleGraph)"
   ]
  },
  {
   "cell_type": "code",
   "execution_count": 3,
   "metadata": {},
   "outputs": [
    {
     "data": {
      "image/png": "[encoded data removed]",
      "text/plain": [
       "<Figure size 432x288 with 1 Axes>"
      ]
     },
     "metadata": {
      "needs_background": "light"
     },
     "output_type": "display_data"
    }
   ],
   "source": [
    "import numpy as np\n",
    "import matplotlib.pyplot as plt\n",
    "\n",
    "graph = [[], [2, 0], [3], [4], [], [4]]\n",
    "def plotGraph(graph):\n",
    "    no_node = len(graph)\n",
    "    nodeX = []\n",
    "    nodeY = []\n",
    "    for i in range(no_node):\n",
    "        value = np.exp(-2j*np.pi*i/no_node)\n",
    "        value *= np.exp(1j*np.pi/3)\n",
    "        x, y = np.real(value), np.imag(value)\n",
    "        nodeX.append(x)\n",
    "        nodeY.append(y)\n",
    "    plt.scatter(nodeX, nodeY)\n",
    "    delta = 0.01\n",
    "    for i in range(len(graph)):\n",
    "        plt.text(nodeX[i]+0.05, nodeY[i], \"{}\".format(i))\n",
    "        for j in (graph[i]):\n",
    "            plt.plot([nodeX[i], nodeX[j]],[nodeY[i], nodeY[j]])\n",
    "            slope = (nodeY[j]-nodeY[i])/(nodeX[j]-nodeX[i])\n",
    "            direction = -(nodeX[i]-nodeX[j])/abs(nodeX[i]-nodeX[j])\n",
    "            plt.arrow((nodeX[i]+nodeX[j])/2,(nodeY[i]+nodeY[j])/2, direction*delta, direction*delta*slope, shape='full', lw=0, length_includes_head=True, head_width=.05)\n",
    "    plt.show()\n",
    "    \n",
    "plotGraph(graph)"
   ]
  },
  {
   "cell_type": "code",
   "execution_count": 20,
   "metadata": {},
   "outputs": [],
   "source": [
    "# ===========================================Backtracking-1==================================================\n",
    "#The Knight’s tour problem\n",
    "# here a knight is on 0,0 on an empty chess board and has to cover all postion only once print no of move on the positions\n",
    "# if this is possible.\n",
    "\n",
    "def safe(board, pos):\n",
    "    w, h  = len(board), len(board[0])\n",
    "    if (0<=pos[0]<w) and (0<=pos[1]<h):\n",
    "        if board[pos[0]][pos[1]] == -1:\n",
    "            return True\n",
    "    else:\n",
    "        pass\n",
    "    return False\n",
    "\n",
    "def boardCovered(board):\n",
    "    for rows in board:\n",
    "        for col in rows:\n",
    "            if col == -1:\n",
    "                return False\n",
    "    return True\n",
    "\n",
    "def pathUtils(board, pos, moves, move_no):\n",
    "    for move in moves:\n",
    "        new_pos = pos[:]\n",
    "        new_pos[0] += move[0]\n",
    "        new_pos[1] += move[1]\n",
    "        if safe(board,new_pos):\n",
    "            board[new_pos[0]][new_pos[1]] = move_no+1\n",
    "            if pathUtils(board, new_pos, moves, move_no+1):\n",
    "                return True\n",
    "        else:\n",
    "            if boardCovered(board):\n",
    "                return True\n",
    "            \n",
    "    return False\n",
    "    \n",
    "\n",
    "def paths(pos, move_no):\n",
    "    board = [[-1 for i in range(8)] for i in range(8)]\n",
    "    board[0][0] = 0\n",
    "    moves = [(-1,-2), (1,-2), (-1,2), (1,2), (2,-1), (2,1), (-2,-1), (-2,1)]\n",
    "    for move in moves:\n",
    "        new_pos = pos[:]\n",
    "        new_pos[0] += move[0]\n",
    "        new_pos[1] += move[1]\n",
    "        if safe(board,new_pos):\n",
    "            board[new_pos[0]][new_pos[1]] = move_no+1\n",
    "            if pathUtils(board, new_pos, moves, move_no+1):\n",
    "                return board\n",
    "        \n",
    "    return \"not possible\"\n",
    "        \n"
   ]
  },
  {
   "cell_type": "code",
   "execution_count": 21,
   "metadata": {},
   "outputs": [
    {
     "name": "stdout",
     "output_type": "stream",
     "text": [
      "[0, 41, 22, 17, 14, 41, 44, 19]\n",
      "[23, 16, 1, 40, 21, 18, 13, 42]\n",
      "[2, 39, 24, 15, 12, 43, 20, 33]\n",
      "[25, 32, 3, 38, 35, 32, 11, 44]\n",
      "[4, 37, 26, 31, 10, 45, 34, 53]\n",
      "[27, 30, 5, 36, 49, 52, 9, 46]\n",
      "[6, 49, 28, 53, 8, 47, 50, 55]\n",
      "[29, 54, 7, 48, 51, 54, 53, 48]\n"
     ]
    }
   ],
   "source": [
    "b = paths([0, 0], 0)\n",
    "for i in b:\n",
    "    print(i)"
   ]
  },
  {
   "cell_type": "code",
   "execution_count": 29,
   "metadata": {},
   "outputs": [],
   "source": [
    "# Rat in a Maze! 0's are dead ends and 1's are paths. find the path!\n",
    "\n",
    "maze = [[1, 0, 0, 0], \n",
    "        [1, 1, 0, 1], \n",
    "        [0, 1, 0, 0], \n",
    "        [1, 1, 1, 1]] \n",
    "\n",
    "def safe_maze(maze, pos):\n",
    "    w, l = len(maze), len(maze[0])\n",
    "    if 0<=pos[0]<w and 0<=pos[1]<l:\n",
    "        if maze[pos[0]][pos[1]] != 0:\n",
    "            return True\n",
    "    return False\n",
    "\n",
    "def findPathUtils(maze, pos, moves, path):\n",
    "    if pos[0] == len(maze)-1 and pos[1] == len(maze[0])-1:\n",
    "        path.append(pos)\n",
    "        return True\n",
    "    else:\n",
    "        for move in moves:\n",
    "            new_pos = pos[:]\n",
    "            new_pos[0] += move[0]\n",
    "            new_pos[1] += move[1]\n",
    "            if safe_maze(maze, new_pos):\n",
    "                path.append(new_pos)\n",
    "                if findPathUtils(maze, new_pos, moves, path):\n",
    "                    return True\n",
    "                path.pop()\n",
    "        return False\n",
    "    \n",
    "def findPath(maze, pos):\n",
    "    path = [(0, 0)]\n",
    "    moves = [(0,1), (1,0)]\n",
    "    \n",
    "    for move in moves:\n",
    "        new_pos = pos[:]\n",
    "        new_pos[0] += move[0]\n",
    "        new_pos[1] += move[1]\n",
    "        if safe_maze(maze, new_pos):\n",
    "            if findPathUtils(maze, new_pos, moves, path):\n",
    "                return path\n",
    "    else:\n",
    "        return \"NOT POSSIBLE !\"\n",
    "            "
   ]
  },
  {
   "cell_type": "code",
   "execution_count": 32,
   "metadata": {},
   "outputs": [
    {
     "name": "stdout",
     "output_type": "stream",
     "text": [
      "[1, 0, 0, 0]\n",
      "[0, 1, 0, 0]\n",
      "[0, 1, 0, 0]\n",
      "[0, 1, 1, 1]\n"
     ]
    }
   ],
   "source": [
    "p = findPath(maze, [0,0])\n",
    "maze_copy = [[0 for i in range(len(maze[0]))] for i in range(len(maze))]\n",
    "for i in p:\n",
    "    maze_copy[i[0]][i[1]] = 1\n",
    "    \n",
    "for i in maze_copy:\n",
    "    print(i)"
   ]
  },
  {
   "cell_type": "code",
   "execution_count": 1,
   "metadata": {},
   "outputs": [
    {
     "name": "stdout",
     "output_type": "stream",
     "text": [
      "[2, 0, 0, 0, 0, 0, 0, 0]\n",
      "[0, 0, 0, 0, 2, 0, 0, 0]\n",
      "[0, 0, 0, 0, 0, 0, 0, 2]\n",
      "[0, 0, 0, 0, 0, 2, 0, 0]\n",
      "[0, 0, 2, 0, 0, 0, 0, 0]\n",
      "[0, 0, 0, 0, 0, 0, 2, 0]\n",
      "[0, 2, 0, 0, 0, 0, 0, 0]\n",
      "[0, 0, 0, 2, 0, 0, 0, 0]\n"
     ]
    }
   ],
   "source": [
    "# N-Queens problem! Place n queens on a chess NxN chess board such that no queen attacks any oher queen.\n",
    "# The way I have approched this problem is keep a queen(any postion and every position), and then check if the move is valid or not.\n",
    "# if valid then proceed but if not valid then backtrack and check for next move.\n",
    "# But I am doing this for all postions, this could be optimized If I place the queen column wise and not\n",
    "# at every place this way I don't have to check previous positions.\n",
    "def printB(board):\n",
    "    for i in board:\n",
    "        print(i)\n",
    "        \n",
    "def updateBoard(board_c, pos):\n",
    "    board = [x[:] for x in board_c]\n",
    "    for i in range(len(board)):\n",
    "        for j in range(len(board[0])):\n",
    "            if i-pos[0] == j-pos[1] or i-pos[0] == pos[1]-j:\n",
    "                board[i][j] = 1\n",
    "            elif i == pos[0] or j == pos[1]:\n",
    "                board[i][j] = 1\n",
    "    return board\n",
    "\n",
    "def safeBoard(board, pos):\n",
    "    if board[pos[0]][pos[1]] == 0:\n",
    "        return True\n",
    "    return False\n",
    "\n",
    "def solutionUtils(board, positions, pos, n):\n",
    "    if len(positions) >= n:\n",
    "        return True\n",
    "    else:\n",
    "        for i in range(len(board)):\n",
    "            for j in range(len(board[0])):\n",
    "                if safeBoard(board, (i,j)):\n",
    "                    positions.append((i,j))\n",
    "                    board_new = updateBoard(board, (i,j))\n",
    "                    if solutionUtils(board_new, positions, (i,j), n):\n",
    "                        return True\n",
    "                    positions.pop()\n",
    "    return False\n",
    "                \n",
    "def solution(n):\n",
    "    positions = []\n",
    "    board = [[0 for i in range(n)] for i in range(n)]\n",
    "    for i in range(len(board)):\n",
    "        for j in range(len(board[0])):\n",
    "            if safeBoard(board, (i,j)):\n",
    "                positions.append((i,j))\n",
    "                board_new = updateBoard(board, (i,j))\n",
    "                if solutionUtils(board_new, positions, (i,j), n):\n",
    "                    return positions\n",
    "                positions.pop()\n",
    "    return \"NOT POSSIBLE !\"\n",
    "\n",
    "n = 8\n",
    "l = solution(n)\n",
    "\n",
    "b = [[0 for i in range(n)] for i in range(n)]\n",
    "\n",
    "for i in l:\n",
    "    b[i[0]][i[1]] = 2\n",
    "    \n",
    "printB(b)"
   ]
  },
  {
   "cell_type": "code",
   "execution_count": 27,
   "metadata": {},
   "outputs": [
    {
     "name": "stdout",
     "output_type": "stream",
     "text": [
      "0 1 2 3 4 5 \n",
      "6 \n"
     ]
    }
   ],
   "source": [
    "# undirected\n",
    "graph = [[1, 5, 6], [0, 2], [1, 3], [2, 4, 6], [3, 5], [4, 0], [0, 3]]\n",
    "n = len(graph)\n",
    "color = [2 for i in range(n)]\n",
    "\n",
    "\n",
    "\n",
    "# def dfs(node , prev, path):\n",
    "#     color[node] = 1\n",
    "#     path.append(node)\n",
    "#     for i in graph[node]:\n",
    "#         if i != prev:\n",
    "#             if color[i] == 1:\n",
    "#                 return True\n",
    "#             if color[i] == 2 and dfs(i, node, path):\n",
    "#                 return True\n",
    "#     path.pop()\n",
    "#     color[node] = 0\n",
    "#     return False\n",
    "\n",
    "# for i in range(n):\n",
    "#     if color[i] == 2:\n",
    "#         path = []\n",
    "#         if dfs(i,-1, path):\n",
    "#             print(\"\".join(str(x)+\" \" for x in path))"
   ]
  },
  {
   "cell_type": "code",
   "execution_count": 1,
   "metadata": {},
   "outputs": [
    {
     "name": "stdout",
     "output_type": "stream",
     "text": [
      "[1, 0]\n"
     ]
    }
   ],
   "source": [
    "# articulation points\n",
    "inf = int(1e3)\n",
    "graph = [[1, 5], [0, 2, 3], [1, 3, 4], [1, 2, 4], [3, 2], [0]]\n",
    "n = len(graph)\n",
    "# logic is simple, if node is root and has more than two child then removing it will disconnect the graph.\n",
    "# If there is a backedge in a sub graph connecting it to ancestors then this not the articulation points.\n",
    "# To keep track of backedge connecting to ancestors we do the following.\n",
    "# make a discovery list with 0 time initially. This list store the dicovery time with dfs going.\n",
    "# make a parent list which simply markes the parent with dfs going.\n",
    "# make a low list, this is important. Here you update the lowest time of discovery of a node.\n",
    "# initialize it with inf.\n",
    "# initially discovery time and lowest time are same for the node, but once you enter its not visited neighbour ckeck if \n",
    "# discovery time can be minmized if it can be update it to low. \n",
    "# Now if a neighbour is discovered after its node(parent){lowest[neihboug] >= discovery[node]} then there \n",
    "# is no other way to reach it, so node is articulation point.\n",
    "# and chek for node if does not has any parent check for child greater than 1.\n",
    "# if a node is already visited and its not the previous node from where you are coming means parent, then update it \n",
    "# lowest discovery i.e min(lowest[node], discovery[neighbour]).\n",
    "\n",
    "discovery = [0]*n\n",
    "lowest_time = [inf]*n\n",
    "visited = [0]*n\n",
    "parent = [-1]*n\n",
    "time = 0\n",
    "ap = []\n",
    "def dfs(node, graph, discovery, visited, lowest_time, time):\n",
    "    visited[node] = True\n",
    "    discovery[node] = lowest_time[node] = time+1\n",
    "    child = 0\n",
    "    for neighbour in graph[node]:\n",
    "        if not visited[neighbour]:\n",
    "            parent[neighbour] = node\n",
    "            child += 1\n",
    "            dfs(neighbour, graph, discovery, visited, lowest_time, time+1)\n",
    "            # to update curr node low\n",
    "            lowest_time[node] = min(lowest_time[node], lowest_time[neighbour])\n",
    "            if parent[node] == -1 and child > 1:\n",
    "                ap.append(node)\n",
    "            if parent[node] != -1 and lowest_time[neighbour] >= discovery[node]:\n",
    "                ap.append(node)\n",
    "        elif neighbour != parent[node]:\n",
    "            # to update curr node low\n",
    "            lowest_time[node] = min(lowest_time[node], discovery[neighbour])\n",
    "dfs(0, graph, discovery, visited, lowest_time, time)\n",
    "print(ap)"
   ]
  },
  {
   "cell_type": "code",
   "execution_count": 12,
   "metadata": {},
   "outputs": [
    {
     "name": "stdout",
     "output_type": "stream",
     "text": [
      "[(1, 2), (0, 5)]\n"
     ]
    }
   ],
   "source": [
    "# finding bridge in graph\n",
    "# same as above just add node and its neighbour in bridge list as soon as you get a articulation point.\n",
    "\n",
    "graph = [[1, 5], [0, 2, 3], [1, 3, 4], [1, 2, 4], [3, 2], [0]]\n",
    "n = len(graph)\n",
    "v =[0]*n\n",
    "d = [0]*n\n",
    "l = [inf]*n\n",
    "p = [-1]*n\n",
    "bridge = []\n",
    "\n",
    "def dfs(node, time):\n",
    "    v[node] = True\n",
    "    d[node] = l[node] = time+1\n",
    "    c = 0\n",
    "    for i in graph[node]:\n",
    "        if not v[i]:\n",
    "            c+=1\n",
    "            p[i] = node\n",
    "            dfs(i, time+1)\n",
    "            l[node] = min(l[node], l[i])\n",
    "            if p[node] == -1 and c > 1:\n",
    "                bridge.append((node, i))\n",
    "            if p[node] != -1 and l[i]>=d[node]:\n",
    "                bridge.append((node, i))\n",
    "        elif p[node] != i:\n",
    "            l[node] = min(l[node], d[i])\n",
    "            \n",
    "dfs(0, 0)\n",
    "print(bridge)"
   ]
  },
  {
   "cell_type": "code",
   "execution_count": null,
   "metadata": {},
   "outputs": [],
   "source": [
    "# strongly connected nodes printing.\n",
    "# Kosaraju's algorithm\n",
    "# https://www.geeksforgeeks.org/strongly-connected-components/?ref=rp\n",
    "\n",
    "n, m = map(int ,sys.stdin.readline().split())\n",
    "graph = [[] for i in range(n)]\n",
    "trans = [[] for i in range(n)]\n",
    "\n",
    "for i in range(m):\n",
    "    a,b = map(int, sys.stdin.readline().split())\n",
    "    graph[a-1].append(b-1)\n",
    "    trans[b-1].append(a-1)\n",
    "\n",
    "stack = []\n",
    "v = [0]*n\n",
    "comp = []\n",
    "\n",
    "def dfs1(node):\n",
    "    v[node] = 1\n",
    "    for i in graph[node]:\n",
    "        if not v[i]: dfs1(i)\n",
    "    stack.append(node)\n",
    "\n",
    "\n",
    "def dfs2(node):\n",
    "    v[node] = 1\n",
    "    comp.append(node)\n",
    "    for i in trans[node]:\n",
    "        if not v[i]: dfs2(i)\n",
    "\n",
    "for i in range(n):\n",
    "    if not v[i]: dfs1(i)\n",
    "v = [0]*n\n",
    "ans = []\n",
    "stack.reverse()\n",
    "for i in stack:\n",
    "    if not v[i]:\n",
    "        dfs2(i)\n",
    "        if comp:\n",
    "            ans.append(comp[-1]+1)\n",
    "        if len(ans)>=2:\n",
    "            print(\"NO\")\n",
    "            print(ans[1], ans[0])\n",
    "            sys.exit()\n",
    "print(\"YES\")"
   ]
  },
  {
   "cell_type": "code",
   "execution_count": null,
   "metadata": {},
   "outputs": [],
   "source": []
  },
  {
   "cell_type": "code",
   "execution_count": null,
   "metadata": {},
   "outputs": [],
   "source": []
  }
 ],
 "metadata": {
  "kernelspec": {
   "display_name": "Python 3",
   "language": "python",
   "name": "python3"
  },
  "language_info": {
   "codemirror_mode": {
    "name": "ipython",
    "version": 3
   },
   "file_extension": ".py",
   "mimetype": "text/x-python",
   "name": "python",
   "nbconvert_exporter": "python",
   "pygments_lexer": "ipython3",
   "version": "3.8.6"
  }
 },
 "nbformat": 4,
 "nbformat_minor": 4
}
