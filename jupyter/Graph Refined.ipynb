{
 "cells": [
  {
   "cell_type": "markdown",
   "metadata": {},
   "source": [
    "# General"
   ]
  },
  {
   "cell_type": "markdown",
   "metadata": {},
   "source": [
    "### All path DFS"
   ]
  },
  {
   "cell_type": "code",
   "execution_count": 8,
   "metadata": {},
   "outputs": [],
   "source": [
    "  def allPathDFSUtils(graph, source, dest, visited, stack):\n",
    "    visited[source] = True\n",
    "    stack.append(source)\n",
    "    if source == dest:\n",
    "        pri nt(stack)\n",
    "    else:\n",
    "        for neighbour in graph[source]:\n",
    "            if not visited[neighbour]:\n",
    "                allPathDFSUtils(graph, neighbour, dest, visited, stack) \n",
    "    stack.pop()\n",
    "    visited[source] = False\n",
    "    \n",
    "def allPathsDFS(graph, source, dest):\n",
    "    stack = []\n",
    "    visited = [False for i in range(len(graph))]\n",
    "    allPathDFSUtils(graph, source, dest, visited, stack)\n"
   ]
  },
  {
   "cell_type": "code",
   "execution_count": 9,
   "metadata": {},
   "outputs": [
    {
     "name": "stdout",
     "output_type": "stream",
     "text": [
      "[0, 1, 3, 2, 4, 5]\n",
      "[0, 1, 3, 4, 5]\n",
      "[0, 1, 3, 5]\n",
      "[0, 2, 3, 4, 5]\n",
      "[0, 2, 3, 5]\n",
      "[0, 2, 4, 3, 5]\n",
      "[0, 2, 4, 5]\n"
     ]
    }
   ],
   "source": [
    "graph = [[1, 2], [0, 3], [3, 4, 0], [1, 2, 4, 5], [3, 5, 2], [4, 3]]\n",
    "n = 6\n",
    "allPathsDFS(graph, 0, 5)"
   ]
  },
  {
   "cell_type": "markdown",
   "metadata": {},
   "source": [
    "### Shortestpath using BFS"
   ]
  },
  {
   "cell_type": "code",
   "execution_count": 1,
   "metadata": {},
   "outputs": [
    {
     "name": "stdout",
     "output_type": "stream",
     "text": [
      "[0, 1, 1, 2, 2, 3]\n"
     ]
    }
   ],
   "source": [
    "# NOTICE: here no need for visited because if you go back from where u came you increase distance, and  we ain't doing that.\n",
    "graph = [[1, 2], [0, 3], [3, 4, 0], [1, 2, 4, 5], [3, 5, 2], [4, 3]]\n",
    "n = 6; inf = int(1e10)\n",
    "start = 0\n",
    "from collections import deque\n",
    "dis = [inf]*n\n",
    "dis[start] = 0\n",
    "q = deque([start])\n",
    "while q:\n",
    "    node = q.popleft()\n",
    "    for i in graph[node]:\n",
    "        if dis[i]>dis[node]+1:\n",
    "            dis[i] = dis[node]+1 \n",
    "            q.append(i)\n",
    "print(dis)"
   ]
  },
  {
   "cell_type": "markdown",
   "metadata": {},
   "source": [
    "### Dijkstra"
   ]
  },
  {
   "cell_type": "code",
   "execution_count": 13,
   "metadata": {},
   "outputs": [
    {
     "name": "stdout",
     "output_type": "stream",
     "text": [
      "[0, 1, 3, 3, 5, 6]\n"
     ]
    }
   ],
   "source": [
    "# NOTICE: here no need for visited because if you go back from where u came you increase distance,\n",
    "# and we ain't doing that.\n",
    "from heapq import *\n",
    "graph = [[(1, 1), (2, 3)], [(0, 1), (3, 2)], [(3, 3), (4, 2), (0, 3)],\n",
    "         [(1, 2), (2, 3), (4, 4), (5, 4)], [(3, 4), (5, 1), (2, 2)], [(4, 1), (3, 4)]]\n",
    "n = 6; inf = int(1e10)\n",
    "dis =[inf]*n\n",
    "start = 0\n",
    "dis[start] = 0\n",
    "q = [(0, start)]\n",
    "while q:\n",
    "    d, node = heappop(q)\n",
    "    for i in graph[node]:\n",
    "        nn, w = i\n",
    "        if dis[nn]>dis[node]+w:\n",
    "            dis[nn] = dis[node]+w\n",
    "            heappush(q, (dis[nn], nn))\n",
    "print(dis)"
   ]
  },
  {
   "cell_type": "markdown",
   "metadata": {},
   "source": [
    "### Bellmon-Ford\n",
    "\n",
    "Any simple path will have max of V-1 node. So if we relax all edges V-1 times path should be minimum.  \n",
    "If no negetive cycle then Vth iteration does't relax."
   ]
  },
  {
   "cell_type": "code",
   "execution_count": 21,
   "metadata": {},
   "outputs": [
    {
     "name": "stdout",
     "output_type": "stream",
     "text": [
      "[0, 1, 3, 3, 5, 6]\n",
      "0\n"
     ]
    }
   ],
   "source": [
    "# code\n",
    "graph = [[(1, 1), (2, 3)], [(0, 1), (3, 2)], [(3, 3), (4, 2), (0, 3)], [(1, 2), (2, 3), (4, 4), (5, 4)], [(3, 4), (5, 1), (2, 2)], [(4, 1), (3, 4)]]\n",
    "n = 6; inf = int(1e10)\n",
    "dis =[inf]*n\n",
    "start = 0\n",
    "dis[start] = 0\n",
    "\n",
    "for _ in range(n-1):\n",
    "    for i in range(len(graph)):\n",
    "        for j in graph[i]:\n",
    "            nn, w = j\n",
    "            if dis[nn]>dis[i]+w: dis[nn] = dis[i]+w\n",
    "x = 0\n",
    "for i in range(len(graph)):\n",
    "    for j in graph[i]:\n",
    "        nn, w = j\n",
    "        if dis[nn]>dis[i]+w: x = 1; break\n",
    "print(dis)\n",
    "print(x)"
   ]
  },
  {
   "cell_type": "markdown",
   "metadata": {},
   "source": [
    "### Floyd Warshall\n",
    "\n",
    "Idea: for evey kth node assume it to be intermediate point of ith and jth node(This is strict). Perform relaxation"
   ]
  },
  {
   "cell_type": "code",
   "execution_count": 27,
   "metadata": {},
   "outputs": [
    {
     "name": "stdout",
     "output_type": "stream",
     "text": [
      "[0, 1, 3, 3, 5, 6]\n",
      "[1, 0, 4, 2, 6, 6]\n",
      "[3, 4, 0, 3, 2, 3]\n",
      "[3, 2, 3, 0, 4, 4]\n",
      "[5, 6, 2, 4, 0, 1]\n",
      "[6, 6, 3, 4, 1, 0]\n"
     ]
    }
   ],
   "source": [
    "graph = [[(1, 1), (2, 3)], [(0, 1), (3, 2)], [(3, 3), (4, 2), (0, 3)], [(1, 2), (2, 3), (4, 4), (5, 4)], [(3, 4), (5, 1), (2, 2)], [(4, 1), (3, 4)]]\n",
    "n = 6; inf = int(1e10)\n",
    "dis = [[inf if i != j else 0 for j in range(n)] for i in range(n)]\n",
    "# converting into adjancy matrix\n",
    "for i in range(len(graph)):\n",
    "    for nn, w in graph[i]:\n",
    "        dis[i][nn] = w\n",
    "# first k than i than j. Its is strictly like this. other wise wrong answer.\n",
    "for k in range(n):\n",
    "    for i in range(n):\n",
    "        for j in range(n):\n",
    "            dis[i][j] = min(dis[i][j], dis[i][k]+dis[k][j])\n",
    "for i in dis: print(i)"
   ]
  },
  {
   "cell_type": "markdown",
   "metadata": {},
   "source": [
    "# MST\n",
    "\n",
    "### Prims\n",
    "Simple greedy.Take a node and find the edge with lowest weight.  \n",
    "But if that edge has the other node already visited than don't take it and continue to other edge.  \n",
    "Only mark visited if that node is out of queue. This is not BFS so don't make mistake of marking visited as as soon as you visit it.    \n",
    "It may happend a node is already visited is inside queue becuase you are not inserting with respect of node but edges so simply ignore the visited nodes.  "
   ]
  },
  {
   "cell_type": "code",
   "execution_count": 3,
   "metadata": {},
   "outputs": [
    {
     "name": "stdout",
     "output_type": "stream",
     "text": [
      "16\n"
     ]
    }
   ],
   "source": [
    "from heapq import *\n",
    "# graph = [[(1, 1), (2, 3)], [(0, 1), (3, 2)], [(3, 3), (4, 2), (0, 3)], [(1, 2), (2, 3), (4, 4), (5, 4)], [(3, 4), (5, 1), (2, 2)], [(4, 1), (3, 4)]]\n",
    "ee  = [[0, 5, 7], [0, 2, 2], [0, 3, 5], [1, 5, 6], [1,2,3], [1,3,2], [3,4,4], [2,4,3]]\n",
    "n = 6\n",
    "\n",
    "graph = [[] for i in range(n)]\n",
    "\n",
    "for i in ee:\n",
    "    a, b, w = i\n",
    "    graph[a].append([b, w])\n",
    "    graph[b].append([a, w])\n",
    "\n",
    "q = [(0, 0)]\n",
    "v = [0]*n\n",
    "cost = 0\n",
    "while q:\n",
    "    w, node = heappop(q)\n",
    "    if v[node]: continue\n",
    "    cost += w\n",
    "    v[node] = 1\n",
    "    for i, k in graph[node]:\n",
    "        if not v[i]: heappush(q, (k, i))\n",
    "print(cost)"
   ]
  },
  {
   "cell_type": "markdown",
   "metadata": {},
   "source": [
    "### kruskal\n",
    "\n",
    "Sort all edges in increasing order. take them one by one and if an edge does not add cyle to graph include it. and take only $v-1$ edges."
   ]
  },
  {
   "cell_type": "code",
   "execution_count": 7,
   "metadata": {},
   "outputs": [
    {
     "name": "stdout",
     "output_type": "stream",
     "text": [
      "9\n"
     ]
    }
   ],
   "source": [
    "graph = [[(1, 1), (2, 3)], [(0, 1), (3, 2)], [(3, 3), (4, 2), (0, 3)], [(1, 2), (2, 3), (4, 4), (5, 4)], [(3, 4), (5, 1), (2, 2)], [(4, 1), (3, 4)]]\n",
    "n = 6\n",
    "parent = [-1]*n\n",
    "edges = []\n",
    "\n",
    "def find(x):\n",
    "    if parent[x] == -1: return x\n",
    "    parent[x] = find(parent[x])\n",
    "    return parent[x]\n",
    "\n",
    "for i in range(n):\n",
    "    for node, w in graph[i]:\n",
    "        edges.append((w, i, node))\n",
    "edges.sort()\n",
    "cnt = 0\n",
    "ans = 0\n",
    "for i in edges:\n",
    "    if cnt == n-1: break\n",
    "    w, a, b = i\n",
    "    x = find(a)\n",
    "    y = find(b)\n",
    "    if x != y:\n",
    "        ans += w\n",
    "        parent[x] = y\n",
    "        cnt+=1\n",
    "print(ans)"
   ]
  },
  {
   "cell_type": "markdown",
   "metadata": {},
   "source": [
    "# Topological sorting\n",
    "\n",
    "Only for connected directed acyclic graph. Order of nodes such dirction of flow is always forward while iterating through list."
   ]
  },
  {
   "cell_type": "markdown",
   "metadata": {},
   "source": [
    "## Recursive Apporach"
   ]
  },
  {
   "cell_type": "code",
   "execution_count": 2,
   "metadata": {},
   "outputs": [
    {
     "name": "stdout",
     "output_type": "stream",
     "text": [
      "[5, 4, 1, 2, 3, 0]\n"
     ]
    }
   ],
   "source": [
    "#code 1\n",
    "# simple dfs in forward direction, and while falling back keep append the node in left of deque.\n",
    "graph = [[], [2], [3], [], [0, 1], [0, 2]]\n",
    "n = 6\n",
    "from collections import deque\n",
    "stack = deque()\n",
    "v = [0]*n\n",
    "def dfs(node):\n",
    "    v[node] = 1\n",
    "    for i in graph[node]:\n",
    "        if not v[i]: dfs(i)\n",
    "    stack.appendleft(node)\n",
    "\n",
    "for i in range(n):\n",
    "    if not v[i]: dfs(i)\n",
    "print([*stack])"
   ]
  },
  {
   "cell_type": "markdown",
   "metadata": {},
   "source": [
    "## Queue Apporach"
   ]
  },
  {
   "cell_type": "code",
   "execution_count": null,
   "metadata": {},
   "outputs": [],
   "source": [
    "#code 2\n",
    "# start traversing from all nodes with 0 indegree using bfs. and only when reached some node reduce its indegree by 1. \n",
    "# if indegree is 0 then append\n",
    "# in q, whenever poping from q append that node to ans.\n",
    "# if asked in sorted order alway keep queue sorted.\n",
    "graph = [[] for _ in range(n)]\n",
    "indeg =  [0]*n\n",
    "for i in range(m):\n",
    "    a, b = map(int, input().split())\n",
    "    graph[a-1].append(b-1)\n",
    "    indeg[b-1]+=1\n",
    "q = deque()\n",
    "v = [0]*n\n",
    "ans = []\n",
    "for i in range(n):\n",
    "    if indeg[i] == 0: q.append(i)\n",
    "while q:\n",
    "    node = q.popleft()\n",
    "    ans.append(node+1)\n",
    "    for i in graph[node]:\n",
    "        if v[i] == 0:\n",
    "            indeg[i]-=1\n",
    "            if indeg[i] == 0:\n",
    "                q.append(i)\n",
    "                v[i] = 1\n",
    "if len(ans) == n: print(*ans)\n",
    "else: print(\"IMPOSSIBLE\")"
   ]
  },
  {
   "cell_type": "markdown",
   "metadata": {},
   "source": [
    "# Cycle Detection"
   ]
  },
  {
   "cell_type": "markdown",
   "metadata": {},
   "source": [
    "## CD in directed graph\n",
    "\n",
    "Color technique is good enough.  \n",
    "But topological technique works also cause topological sorting is only in DAC so if not in topo. order then not DAC."
   ]
  },
  {
   "cell_type": "markdown",
   "metadata": {},
   "source": [
    "### Color technique"
   ]
  },
  {
   "cell_type": "code",
   "execution_count": 48,
   "metadata": {},
   "outputs": [
    {
     "name": "stdout",
     "output_type": "stream",
     "text": [
      "1\n"
     ]
    }
   ],
   "source": [
    "#code\n",
    "graph = [[1, 2], [0, 3], [3, 4, 0], [1, 2, 4, 5], [3, 5, 2], [4, 3]]\n",
    "n = 6\n",
    "color = [0]*n\n",
    "def dfs(graph, color, node):\n",
    "    color[node] = 1\n",
    "    for i in graph[node]:\n",
    "        if color[i] == 1: return 1\n",
    "        elif color[i] == 0 and dfs(graph, color, i): return 1\n",
    "    color[node] = 2\n",
    "    return 0\n",
    "ans = 0\n",
    "for i in range(n):\n",
    "    if dfs(graph, color, i): ans = 1; break\n",
    "print(ans) # if cycle print 1 else 0"
   ]
  },
  {
   "cell_type": "markdown",
   "metadata": {},
   "source": [
    "## CD in Undirected graph"
   ]
  },
  {
   "cell_type": "markdown",
   "metadata": {},
   "source": [
    "### Color technique\n",
    "Same as in directed just don't consider the parent path."
   ]
  },
  {
   "cell_type": "code",
   "execution_count": 4,
   "metadata": {},
   "outputs": [
    {
     "name": "stdout",
     "output_type": "stream",
     "text": [
      "1\n"
     ]
    }
   ],
   "source": [
    "#code\n",
    "graph = [[1, 2], [0, 3], [3, 4, 0], [1, 2, 4, 5], [3, 5, 2], [4, 3]]\n",
    "n = 6\n",
    "color = [0]*n\n",
    "def dfs(node, p):\n",
    "    color[node] = 1\n",
    "    for i in graph[node]:\n",
    "        if i == p: continue\n",
    "        if color[i] == 1: return 1\n",
    "        if color[i] == 0 and dfs(i, node):  return 1\n",
    "    color[node] = 2\n",
    "    return 0\n",
    "ans = 0\n",
    "for i in range(n):\n",
    "    if dfs(i, -1): ans = 1; break\n",
    "print(ans) # if cycle print 1 else 0"
   ]
  },
  {
   "cell_type": "markdown",
   "metadata": {},
   "source": [
    "### Disjoint Set technique\n",
    "Go through each edge and while traversing find the node current set and if it is already in its ancestor's set there is a cycle. else union them."
   ]
  },
  {
   "cell_type": "code",
   "execution_count": 8,
   "metadata": {},
   "outputs": [
    {
     "name": "stdout",
     "output_type": "stream",
     "text": [
      "1\n"
     ]
    }
   ],
   "source": [
    "graph = [[1, 2], [0, 3], [3, 4, 0], [1, 2, 4, 5], [3, 5, 2], [4, 3]]\n",
    "n = 6\n",
    "parent = [-1]*n\n",
    "def findParent(node):\n",
    "    if parent[node] == -1: return node\n",
    "    parent[node] = findParent(parent[node])\n",
    "    return parent[node]\n",
    "    \n",
    "ans = 0\n",
    "for i in range(n):\n",
    "    for j in graph[i]:\n",
    "        x, y = findParent(i), findParent(j)\n",
    "        if x == y: ans = 1; break\n",
    "        else: parent[x] = y # unionParent(x, y)\n",
    "print(ans)"
   ]
  },
  {
   "cell_type": "markdown",
   "metadata": {},
   "source": [
    "# strongly Connnectivity - Kosaraju\n",
    "\n",
    "An undirected graph is always strongly connected unless its a forest.  \n",
    "This is mainly for directed graph.  "
   ]
  },
  {
   "cell_type": "markdown",
   "metadata": {},
   "source": [
    "If only to find strongly connectivity, just do a dfs in normal graph and then do a dfs from same point in reverse graph if both time all nodes visited then strongly connect else not.  \n",
    "The idea is, if every node can be reached from a vertex v, and every node can reach v, then the graph is strongly connected.  "
   ]
  },
  {
   "cell_type": "markdown",
   "metadata": {},
   "source": [
    "## Is Strongly connected ?"
   ]
  },
  {
   "cell_type": "code",
   "execution_count": 1,
   "metadata": {},
   "outputs": [
    {
     "name": "stdout",
     "output_type": "stream",
     "text": [
      "False\n"
     ]
    }
   ],
   "source": [
    "graph = [[], [2], [3], [], [0, 1], [0, 2]]\n",
    "n = 6\n",
    "matrix = [[0 for _ in range(n)] for _ in range(n)]\n",
    "for i in range(n):\n",
    "    for j in graph[i]:\n",
    "        matrix[i][j] = 1\n",
    "t_graph = [[] for _ in range(n)]\n",
    "for j in range(n):\n",
    "    for i in range(n):\n",
    "        if matrix[j][i] == 1: graph[j].append(i)\n",
    "\n",
    "v = [False]*n\n",
    "def dfs(graph, node):\n",
    "    v[node] = True\n",
    "    for i in graph[node]:\n",
    "        if not v[i]: dfs(graph, i)\n",
    "\n",
    "dfs(graph, 0)\n",
    "ans = True\n",
    "for i in v: ans = ans and i\n",
    "if ans:\n",
    "    v = [False]*n\n",
    "    dfs(t_graph, 0) \n",
    "    for i in v: ans = ans and i\n",
    "print(ans)"
   ]
  },
  {
   "cell_type": "markdown",
   "metadata": {},
   "source": [
    "## Finding Stronly connected components\n",
    "\n",
    "First do a forward dfs and store the processed points in stack, basically get the topological sorting. This way you make sure that when traversing reverse graph you don't go into other connected components.  \n",
    "eg. sub-graph A is strongly connect and sub-graph B is strongly connected in themselves.  \n",
    "and they have structure like this $$A->B$$ A connect to B.  \n",
    "Now in topological order A comes first so processed list will be A then B.\n",
    "but in reverse graph you can not go from A to B. because now $$A<-B$$\n",
    "so A get isolated from B becuase you are in topological order which is A and B. Now A is strongly connected so traverse in A and print them and then do it for B."
   ]
  },
  {
   "cell_type": "code",
   "execution_count": 2,
   "metadata": {},
   "outputs": [
    {
     "ename": "NameError",
     "evalue": "name 'sys' is not defined",
     "output_type": "error",
     "traceback": [
      "\u001b[1;31m---------------------------------------------------------------------------\u001b[0m",
      "\u001b[1;31mNameError\u001b[0m                                 Traceback (most recent call last)",
      "\u001b[1;32mC:\\Users\\DANISH~1.AMI\\AppData\\Local\\Temp/ipykernel_18624/580325368.py\u001b[0m in \u001b[0;36m<module>\u001b[1;34m\u001b[0m\n\u001b[1;32m----> 1\u001b[1;33m \u001b[0mn\u001b[0m\u001b[1;33m,\u001b[0m \u001b[0mm\u001b[0m \u001b[1;33m=\u001b[0m \u001b[0mmap\u001b[0m\u001b[1;33m(\u001b[0m\u001b[0mint\u001b[0m \u001b[1;33m,\u001b[0m\u001b[0msys\u001b[0m\u001b[1;33m.\u001b[0m\u001b[0mstdin\u001b[0m\u001b[1;33m.\u001b[0m\u001b[0mreadline\u001b[0m\u001b[1;33m(\u001b[0m\u001b[1;33m)\u001b[0m\u001b[1;33m.\u001b[0m\u001b[0msplit\u001b[0m\u001b[1;33m(\u001b[0m\u001b[1;33m)\u001b[0m\u001b[1;33m)\u001b[0m\u001b[1;33m\u001b[0m\u001b[1;33m\u001b[0m\u001b[0m\n\u001b[0m\u001b[0;32m      2\u001b[0m \u001b[0mgraph\u001b[0m \u001b[1;33m=\u001b[0m \u001b[1;33m[\u001b[0m\u001b[1;33m[\u001b[0m\u001b[1;33m]\u001b[0m \u001b[1;32mfor\u001b[0m \u001b[0mi\u001b[0m \u001b[1;32min\u001b[0m \u001b[0mrange\u001b[0m\u001b[1;33m(\u001b[0m\u001b[0mn\u001b[0m\u001b[1;33m)\u001b[0m\u001b[1;33m]\u001b[0m\u001b[1;33m\u001b[0m\u001b[1;33m\u001b[0m\u001b[0m\n\u001b[0;32m      3\u001b[0m \u001b[0mtrans\u001b[0m \u001b[1;33m=\u001b[0m \u001b[1;33m[\u001b[0m\u001b[1;33m[\u001b[0m\u001b[1;33m]\u001b[0m \u001b[1;32mfor\u001b[0m \u001b[0mi\u001b[0m \u001b[1;32min\u001b[0m \u001b[0mrange\u001b[0m\u001b[1;33m(\u001b[0m\u001b[0mn\u001b[0m\u001b[1;33m)\u001b[0m\u001b[1;33m]\u001b[0m\u001b[1;33m\u001b[0m\u001b[1;33m\u001b[0m\u001b[0m\n\u001b[0;32m      4\u001b[0m \u001b[1;33m\u001b[0m\u001b[0m\n\u001b[0;32m      5\u001b[0m \u001b[1;32mfor\u001b[0m \u001b[0mi\u001b[0m \u001b[1;32min\u001b[0m \u001b[0mrange\u001b[0m\u001b[1;33m(\u001b[0m\u001b[0mm\u001b[0m\u001b[1;33m)\u001b[0m\u001b[1;33m:\u001b[0m\u001b[1;33m\u001b[0m\u001b[1;33m\u001b[0m\u001b[0m\n",
      "\u001b[1;31mNameError\u001b[0m: name 'sys' is not defined"
     ]
    }
   ],
   "source": [
    "n, m = map(int ,sys.stdin.readline().split())\n",
    "graph = [[] for i in range(n)]\n",
    "trans = [[] for i in range(n)]\n",
    "\n",
    "for i in range(m):\n",
    "    a,b = map(int, sys.stdin.readline().split())\n",
    "    graph[a-1].append(b-1)\n",
    "    trans[b-1].append(a-1)\n",
    "\n",
    "stack = []\n",
    "v = [0]*n\n",
    "comp = []\n",
    "\n",
    "def dfs1(node):\n",
    "    v[node] = 1\n",
    "    for i in graph[node]:\n",
    "        if not v[i]: dfs1(i)\n",
    "    stack.append(node)\n",
    "\n",
    "\n",
    "def dfs2(node):\n",
    "    v[node] = 1\n",
    "    comp.append(node)\n",
    "    for i in trans[node]:\n",
    "        if not v[i]: dfs2(i)\n",
    "\n",
    "for i in range(n):\n",
    "    if not v[i]: dfs1(i)\n",
    "v = [0]*n\n",
    "ans = []\n",
    "stack.reverse()\n",
    "for i in stack:\n",
    "    if not v[i]:\n",
    "        dfs2(i)\n",
    "        if comp:\n",
    "            ans.append(comp[-1]+1)\n",
    "        if len(ans)>=2:\n",
    "            print(\"NO\")\n",
    "            print(ans[1], ans[0])\n",
    "            sys.exit()\n",
    "print(\"YES\")"
   ]
  },
  {
   "cell_type": "markdown",
   "metadata": {},
   "source": [
    "# Atriculation points\n",
    "\n",
    "Articulation points only occurs when there are no backedges connecting differents graph. To keep track of these backedges we create two arrays.\n",
    "discovery array and lowest time array. discovery array keeps the track of DFS traversal time of graph while lowest time array keeps the track of those components which are connect via some back edge. Threrefore the lowest time array is always the minimum discovery time of the connected componnents with the first backedge.\n",
    "\n",
    "video [link](https://www.youtube.com/watch?v=jFZsDDB0-vo) for better explanation."
   ]
  },
  {
   "cell_type": "code",
   "execution_count": 37,
   "metadata": {},
   "outputs": [
    {
     "name": "stdout",
     "output_type": "stream",
     "text": [
      "[4, 3]\n",
      "[4, 3]\n",
      "0 1 2 3 4 5 6 7\n",
      "1 2 4 3 5 6 8 7\n",
      "1 1 1 1 3 5 5 5\n"
     ]
    }
   ],
   "source": [
    "#code\n",
    "graph = [[1, 2], [0, 3], [0, 3], [1, 2, 4], [3, 5, 6], [4, 7], [4, 7], [5, 6]]\n",
    "n = len(graph)\n",
    "dis = [0]*n\n",
    "low = [0]*n\n",
    "root = 0\n",
    "time = 0\n",
    "\n",
    "ans = []\n",
    "def dfs(node):\n",
    "    global time\n",
    "    time += 1\n",
    "    low[node] = dis[node] = time\n",
    "    child = 0\n",
    "    for nb in graph[node]:\n",
    "        if dis[nb] == 0:\n",
    "            child += 1\n",
    "            dfs(nb)\n",
    "            \n",
    "            low[node] = min(low[node], low[nb])\n",
    "            \n",
    "            if node == root and child > 1: ans.append(root)\n",
    "                \n",
    "            # important to check for node not to be root.\n",
    "            # also >= is important.\n",
    "            if node != root and low[nb]>=dis[node]: ans.append(node)\n",
    "        else:\n",
    "            low[node] = min(low[node], dis[nb])\n",
    "            \n",
    "dfs(root)\n",
    "print(ans)\n",
    "print(ans)\n",
    "print(*range(n))\n",
    "print(*dis)\n",
    "print(*low)"
   ]
  },
  {
   "cell_type": "markdown",
   "metadata": {},
   "source": [
    "# Bridge\n",
    "\n",
    "To find a bridge, we need to make sure that the articulation point is connect to the other graph component via an edge and is not a part of it.\n",
    "So we only have change that '>=' to '>' in the condition. This makes sure that the discovery time of node is at least one unit apart from the lowest time of its child which is only possible when there is only one edge connecting the articuation point to the other graph component."
   ]
  },
  {
   "cell_type": "code",
   "execution_count": 35,
   "metadata": {},
   "outputs": [
    {
     "name": "stdout",
     "output_type": "stream",
     "text": [
      "[]\n",
      "0 1 2 3 4 5 6 7\n",
      "1 2 4 3 5 6 8 7\n",
      "1 1 1 1 3 5 5 5\n"
     ]
    }
   ],
   "source": [
    "#code\n",
    "graph = [[1, 2], [0, 3], [0, 3], [1, 2, 4], [3, 5, 6], [4, 7], [4, 7], [5, 6]]\n",
    "n = len(graph)\n",
    "dis = [0]*n\n",
    "low = [0]*n\n",
    "root = 0\n",
    "time = 0\n",
    "\n",
    "ans = []\n",
    "def dfs(node):\n",
    "    global time\n",
    "    time += 1\n",
    "    low[node] = dis[node] = time\n",
    "    child = 0\n",
    "    for nb in graph[node]:\n",
    "        if dis[nb] == 0:\n",
    "            child += 1\n",
    "            dfs(nb)\n",
    "            \n",
    "            low[node] = min(low[node], low[nb])\n",
    "            \n",
    "            if node == root and child > 1: \n",
    "                ans.append((root, nb))\n",
    "                \n",
    "            # important to check for node not to be root.\n",
    "            # also > is important.\n",
    "            if node != root and low[nb]>dis[node]: \n",
    "                ans.append((node, nb))\n",
    "                \n",
    "            if low[nb]>dis[node]: \n",
    "                ans.append((node, nb))\n",
    "        else:\n",
    "            low[node] = min(low[node], dis[nb])\n",
    "            \n",
    "dfs(root)\n",
    "print(ans)\n",
    "print(*range(n))\n",
    "print(*dis)\n",
    "print(*low)\n"
   ]
  },
  {
   "cell_type": "markdown",
   "metadata": {},
   "source": [
    "# Max-Flow Graph\n",
    "\n",
    "Make graph from dict it would be easy.  \n",
    "Graph format:\n",
    "~~~~\n",
    "graph = {\n",
    "            Node: {\n",
    "                    neighbours: [flow, capacity],\n",
    "                  }\n",
    "        }\n",
    "~~~~\n",
    "while making graph do make a reverse edge for every edge with 0 ***capacity*** and 0 ***flow***.\n",
    "Idea is to find a path with positive flow, then add that flow to ans(flow is minimum ***capacity - flow*** in path) and add flow to ***flow*** of original edges in path and subtract flow from ***flow*** of reverse edge. Keep doing this until no path left with positive flow.  \n",
    "To find path you can use DFS and BFS. But BFS recommended.\n"
   ]
  },
  {
   "cell_type": "code",
   "execution_count": null,
   "metadata": {},
   "outputs": [],
   "source": [
    "#code\n",
    "from collections import deque\n",
    "import sys; # input = sys.stdin.readline\n",
    "inf = int(1e18)\n",
    "n, m = map(int, input().split())\n",
    "start, dest = 1, n\n",
    "graph = dict()\n",
    "for _ in range(m):\n",
    "    a, b, c = map(int, input().split())\n",
    "    # making graph\n",
    "    if a in graph:\n",
    "        if b in graph[a]: graph[a][b][1] += c\n",
    "        else: graph[a][b] = [0, c]\n",
    "    else: graph[a] = dict(); graph[a][b] = [0, c]\n",
    "    #making reverse edges\n",
    "    if b in graph: graph[b][a] = [0, 0]\n",
    "    else: graph[b] = dict(); graph[b][a] = [0, 0]\n",
    "\n",
    "# path finding BFS...\n",
    "def bfs(node, visited):\n",
    "    parent = [-1]*(n+1)\n",
    "    # q stores node and min-flow during path finding.\n",
    "    # intitally min flow is inf.\n",
    "    q = deque([(node, inf)])\n",
    "    visited[node], re = True, False\n",
    "    while q:\n",
    "        node, c = q.popleft()\n",
    "        # if dest found Break.\n",
    "        if node == dest: re = True; break\n",
    "        for k, v in graph[node].items():\n",
    "            # checking if flow positive. this works with negetive flow too, cause reverse edge have 0 capacity, so 0-(neg no) = positive no.\n",
    "            if not visited[k] and v[1] - v[0] > 0:\n",
    "                visited[k] = True\n",
    "                parent[k] = node\n",
    "                q.append((k, min(c, v[1] - v[0])))\n",
    "    # tracing back to update flows.\n",
    "    if re:\n",
    "        while node != -1:\n",
    "            p = parent[node]\n",
    "            if p == -1: break\n",
    "            graph[p][node][0] += c\n",
    "            graph[node][p][0] -= c\n",
    "            node = p\n",
    "    return re, c  # If re is true, means got some path, c is flow of that path.\n",
    " \n",
    "val, ans = True, 0\n",
    "while val:\n",
    "    # while you get flow keep adding to ans.\n",
    "    v = [False]*(n+1)\n",
    "    val, flow = bfs(start, v)\n",
    "    if val: ans += flow\n",
    "print(ans)"
   ]
  },
  {
   "cell_type": "markdown",
   "metadata": {},
   "source": [
    "# Connectivity\n",
    "\n",
    "1. Edge connectivity - The edge connectivity λ of the graph G is the minimum number of edges that need to be deleted, such that the graph G gets disconnected.  \n",
    "2. Vertix connectivity - The vertex connectivity κ of the graph G is the minimum number of vertices that need to be deleted, such that the graph G gets disconnected.  \n",
    "\n",
    "The Whitney inequalities (1932) gives a relation between the edge connectivity λ, the vertex connectivity κ and the smallest degree of the vertices δ:\n",
    "$$ κ≤λ≤δ $$"
   ]
  },
  {
   "cell_type": "markdown",
   "metadata": {},
   "source": [
    "# Tree"
   ]
  },
  {
   "cell_type": "markdown",
   "metadata": {},
   "source": [
    "## Binary Lifting\n",
    "\n",
    "Idea is to store the parent of nodes in a logrithmic tabular fashion(like sparse table).  \n",
    "$up[i][k]$ stores the parent of $i_{th}$ node which is $2^k$ nodes above it.  \n",
    "It uses idea of dp to achive it.  \n",
    "following is the dp recursion.  \n",
    "$$up(v, k) = p$$\n",
    "$$up(\\frac{v}{2}, k-1) = p$$\n",
    "$$\\frac{v}{2} = up(v, k-1)$$\n",
    "so  \n",
    "$$up(v, k) = up(up(v, k-1), k-1)$$  \n",
    "\n",
    "Also as you traverse from a root using dfs, then in dfs tree ancestor always comes before child and exits after child.  \n",
    "So maintain *in* and *out* list for nodes using a *timer* variable, this will come handy to know if *v* is ancestor of *u* or not."
   ]
  },
  {
   "cell_type": "code",
   "execution_count": 3,
   "metadata": {},
   "outputs": [
    {
     "name": "stdout",
     "output_type": "stream",
     "text": [
      "0 0 0\n",
      "3 0 0\n",
      "3 0 0\n",
      "0 0 0\n",
      "3 0 0\n"
     ]
    }
   ],
   "source": [
    "#code\n",
    "from math import ceil, log2\n",
    "graph = [[3], [3], [3], [1, 0, 4, 2], [3]]\n",
    "n = 5\n",
    "k = ceil(log2(n))\n",
    "up = [[0 for _ in range(k)] for _ in range(n)]\n",
    "inn, out = [0]*n, [0]*n\n",
    "\n",
    "#to get rth ancestor\n",
    "def disup(u, r):\n",
    "    if r <= 0: return u #if r == 0 then u is parent of itself\n",
    "    e = int(log2(r)) #go to its furthest power of 2 which is less than r distance parent and reduce r by that amount\n",
    "    return disup(up[u][e], r-(2**e))\n",
    "\n",
    "# is u ancestor of v\n",
    "def isAncestor(u, v): return (inn[u]<=v) and (out[u]>=v)\n",
    "\n",
    "# return lca of u and v\n",
    "def lca(u, v):\n",
    "    if isAncestor(u, v): return u\n",
    "    if isAncestor(v, u): return v\n",
    "    for i in range(k, -1, -1):\n",
    "        if not isAncestor(up[u][i], v): u = up[u][i]\n",
    "    return up[u][0]\n",
    "\n",
    "# timer is a global variable but since global variable are slow in python, so its being passed and updated by dfs to keep its global essence alive.\n",
    "def dfs(node, p, timer):\n",
    "    timer+=1\n",
    "    inn[node] = timer\n",
    "    up[node][0] = p\n",
    "    # do not start with 0 because 0 done above.\n",
    "    for i in range(1, k): up[node][i] = up[up[node][i-1]][i-1]\n",
    "    for nn in graph[node]:\n",
    "        if nn!=p: timer = dfs(nn, node, timer)\n",
    "    timer += 1\n",
    "    out[node] = timer\n",
    "    return timer\n",
    "\n",
    "dfs(0, 0, 0)\n",
    "for i in up: print(*i)"
   ]
  },
  {
   "cell_type": "markdown",
   "metadata": {},
   "source": [
    "## Efficient way to represent Sub-tree\n",
    "Idea is that while doing dfs, a dfs tree only exits a node after traversing its sub graph, so maitain a time vairable(NOTE: This time variable is different than Binary lifting one. Here you only keep track of entering time and does not increase time while falling back).\n",
    "Make a *start* and *end* list to store the start time and end time of the sub tree under that node.  \n",
    "Now all the node in time span between start of node and end of node are sub-tree nodes of that node.  \n",
    "~~~~\n",
    "sub_tree = arr[start[b]: end[b]+1]\n",
    "~~~~"
   ]
  },
  {
   "cell_type": "code",
   "execution_count": 4,
   "metadata": {},
   "outputs": [
    {
     "name": "stdout",
     "output_type": "stream",
     "text": [
      "[0, 1, 2, 5, 3, 4, 6, 7]\n",
      "[0, 7, 4, 7, 3, 4, 6, 7]\n",
      "[0, 1, 2, 4, 5, 3, 6, 7]\n"
     ]
    }
   ],
   "source": [
    "#code\n",
    "# used 1-based indexing\n",
    "n = 7\n",
    "graph = [[], [2, 3], [4, 5], [6, 7], [], [], [], []]\n",
    "arr = [0]*(n+1)\n",
    "start = [0]*(n+1)\n",
    "end = [0]*(n+1)\n",
    "root = 1\n",
    "def dfs(node, time=1):\n",
    "    arr[time] = node\n",
    "    start[node] = time\n",
    "    for i in graph[node]:\n",
    "        time = dfs(i, time+1)\n",
    "    end[node] = time\n",
    "    return time\n",
    "dfs(root)\n",
    "print(start)\n",
    "print(end)\n",
    "print(arr)\n",
    "# sub-tree nodes of a node b is arr[start[b]: end[b]+1]"
   ]
  },
  {
   "cell_type": "markdown",
   "metadata": {},
   "source": [
    "## Common ancestor in a binary tree - Elegent method.\n",
    "\n",
    "Idea is that common ancestor will have both of given nodes in its subtree. So keep returning node if it is in the subtree else return None.\n",
    "Now if a node contains one of element it will return Some node, else it will return None, and if both its node return that node."
   ]
  },
  {
   "cell_type": "code",
   "execution_count": 5,
   "metadata": {},
   "outputs": [],
   "source": [
    "# very optimized technique to get common ancestor.\n",
    "def lowestCommonAncestor(self, root: 'TreeNode', p: 'TreeNode', q: 'TreeNode') -> 'TreeNode':\n",
    "    if root in (None, p, q): return root # we got p or q\n",
    "    left = self.lowestCommonAncestor(root.left, p, q)\n",
    "    right= self.lowestCommonAncestor(root.right, p, q)\n",
    "    return root if left and right else left or right\n",
    "#     if left is None and right is None: return None\n",
    "#     if left is not None and right is not None: return root\n",
    "#     return left if left else right"
   ]
  },
  {
   "cell_type": "markdown",
   "metadata": {},
   "source": [
    "# Eularian Circuit and graphs\n",
    "\n",
    "Circuits are complete in the sense that the don't have constraint of having fixed source and sink. This is not true for E-graph they have one fixed source and sink.  "
   ]
  },
  {
   "cell_type": "code",
   "execution_count": null,
   "metadata": {},
   "outputs": [],
   "source": [
    "n,m = map(int, input().split())\n",
    "graph = [set() for _ in range(n)] #using set for faster removal of edges.\n",
    "for _ in range(m):\n",
    "    a,b = map(int, input().split())\n",
    "    graph[a-1].add(b-1)\n",
    "    graph[b-1].add(a-1)\n",
    "\n",
    "g = 0\n",
    "# simple check for degree to be even.\n",
    "# if directed graph make indeg and outdeg list and they should have equal values.\n",
    "for i in graph:\n",
    "    if len(i)%2:\n",
    "        g = 1\n",
    "        break\n",
    "if g:\n",
    "    print(\"IMPOSSIBLE\")\n",
    "else:\n",
    "    # when node from stack have no edges left append it in answer, else visit that node and remove that edge.\n",
    "    stack = [0]\n",
    "    path = []\n",
    "    while stack:\n",
    "        node = stack[-1]\n",
    "        if len(graph[node]) == 0:\n",
    "            path.append(node+1)\n",
    "            stack.pop()\n",
    "        else:\n",
    "            nn = graph[node].pop()\n",
    "            graph[nn].remove(node)\n",
    "            stack.append(nn)\n",
    "    if len(path) == m+1:\n",
    "        print(*path)\n",
    "    else:\n",
    "        print(\"IMPOSSIBLE\")"
   ]
  },
  {
   "cell_type": "markdown",
   "metadata": {},
   "source": [
    "# Drawing graph"
   ]
  },
  {
   "cell_type": "code",
   "execution_count": 12,
   "metadata": {},
   "outputs": [
    {
     "data": {
      "image/png": "[encoded data removed]",
      "text/plain": [
       "<Figure size 432x288 with 1 Axes>"
      ]
     },
     "metadata": {
      "needs_background": "light"
     },
     "output_type": "display_data"
    }
   ],
   "source": [
    "import numpy as np\n",
    "import matplotlib.pyplot as plt\n",
    "\n",
    "graph = [[], [2, 0], [3], [4], [], [4]]\n",
    "def plotGraph(graph):\n",
    "    no_node = len(graph)\n",
    "    nodeX = []\n",
    "    nodeY = []\n",
    "    for i in range(no_node):\n",
    "        value = np.exp(-2j*np.pi*i/no_node)\n",
    "        value *= np.exp(1j*np.pi/3)\n",
    "        x, y = np.real(value), np.imag(value)\n",
    "        nodeX.append(x)\n",
    "        nodeY.append(y)\n",
    "    plt.scatter(nodeX, nodeY)\n",
    "    delta = 0.01\n",
    "    for i in range(len(graph)):\n",
    "        plt.text(nodeX[i]+0.05, nodeY[i], \"{}\".format(i))\n",
    "        for j in (graph[i]):\n",
    "            plt.plot([nodeX[i], nodeX[j]],[nodeY[i], nodeY[j]])\n",
    "            slope = (nodeY[j]-nodeY[i])/(nodeX[j]-nodeX[i])\n",
    "            direction = -(nodeX[i]-nodeX[j])/abs(nodeX[i]-nodeX[j])\n",
    "            plt.arrow((nodeX[i]+nodeX[j])/2,(nodeY[i]+nodeY[j])/2, direction*delta, direction*delta*slope, shape='full', lw=0, length_includes_head=True, head_width=.05)\n",
    "    plt.show()\n",
    "    \n",
    "plotGraph(graph)"
   ]
  },
  {
   "cell_type": "code",
   "execution_count": null,
   "metadata": {},
   "outputs": [],
   "source": []
  },
  {
   "cell_type": "code",
   "execution_count": null,
   "metadata": {},
   "outputs": [],
   "source": []
  },
  {
   "cell_type": "code",
   "execution_count": null,
   "metadata": {},
   "outputs": [],
   "source": []
  }
 ],
 "metadata": {
  "kernelspec": {
   "display_name": "Python 3 (ipykernel)",
   "language": "python",
   "name": "python3"
  },
  "language_info": {
   "codemirror_mode": {
    "name": "ipython",
    "version": 3
   },
   "file_extension": ".py",
   "mimetype": "text/x-python",
   "name": "python",
   "nbconvert_exporter": "python",
   "pygments_lexer": "ipython3",
   "version": "3.10.0"
  }
 },
 "nbformat": 4,
 "nbformat_minor": 4
}
