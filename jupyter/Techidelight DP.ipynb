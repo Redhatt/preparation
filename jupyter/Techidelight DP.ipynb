{
 "cells": [
  {
   "cell_type": "code",
   "execution_count": 1,
   "id": "10efa242-8916-4249-b148-0f43d23251ed",
   "metadata": {},
   "outputs": [],
   "source": [
    "from debug import *\n",
    "from treeVisuals import *\n",
    "from arrayVisuals import *"
   ]
  },
  {
   "cell_type": "markdown",
   "id": "905e60d6-dbe1-43c7-9ea7-b25cc6c948ae",
   "metadata": {},
   "source": [
    "[1. Find height of a binary tree represented by the parent array\n",
    "](https://www.techiedelight.com/find-height-of-binary-tree-represented-by-parent-array/)"
   ]
  },
  {
   "cell_type": "code",
   "execution_count": 2,
   "id": "b9d1dc33-0995-403e-8d55-4a63bd3977c8",
   "metadata": {},
   "outputs": [
    {
     "name": "stdout",
     "output_type": "stream",
     "text": [
      "[0, 1, 1, 2, 2, 2, 3, 3]\n"
     ]
    },
    {
     "data": {
      "text/plain": [
       "3"
      ]
     },
     "execution_count": 2,
     "metadata": {},
     "output_type": "execute_result"
    }
   ],
   "source": [
    "parent = [-1, 0, 0, 1, 2, 2, 4, 4]\n",
    "\n",
    "n = len(parent)\n",
    "\n",
    "def solve1():\n",
    "    height = [0]*n\n",
    "    ans = 0\n",
    "    for i, p in enumerate(parent):\n",
    "        if 0<=p<n:\n",
    "            height[i] = height[p] + 1\n",
    "            ans = max(ans, height[i])\n",
    "    print(height)\n",
    "    return ans\n",
    "\n",
    "solve1()"
   ]
  },
  {
   "cell_type": "markdown",
   "id": "f388712e-0902-487c-91d9-8992c8629354",
   "metadata": {},
   "source": [
    "[2. Find total arrangements such that no two balls of the same color are together](https://www.techiedelight.com/find-total-arrangements-such-that-no-two-balls-of-the-same-color-are-together/)"
   ]
  },
  {
   "cell_type": "code",
   "execution_count": 3,
   "id": "c3b788c4-f7d4-4884-ad58-727676b76670",
   "metadata": {},
   "outputs": [
    {
     "name": "stdout",
     "output_type": "stream",
     "text": [
      "2217072\n"
     ]
    }
   ],
   "source": [
    "r, g, b = 10, 20, 10\n",
    "\n",
    "table = dict()\n",
    "\n",
    "def solve2(r, g, b, last):\n",
    "    if r<0 or g<0 or b<0: return 0\n",
    "    if r==0 and g==0 and b==0: return 1\n",
    "    \n",
    "    if (r, g, b, last) in table: return table[(r, g, b, last)]\n",
    "    \n",
    "    if last == 0:\n",
    "        table[(r, g, b, last)] = solve2(r, g-1, b, 1) + solve2(r, g, b-1, 2)\n",
    "    elif last == 1:\n",
    "        table[(r, g, b, last)] = solve2(r-1, g, b, 0) + solve2(r, g, b-1, 2)\n",
    "    else:\n",
    "        table[(r, g, b, last)] = solve2(r-1, g, b, 0) + solve2(r, g-1, b, 1)\n",
    "    \n",
    "    return table[(r, g, b, last)]\n",
    "    \n",
    "ans = solve2(r-1, g, b, 0) + solve2(r, g-1, b, 1) + solve2(r, g, b-1, 2)\n",
    "print(ans)"
   ]
  },
  {
   "cell_type": "markdown",
   "id": "1fe0a480-6998-401f-848b-c4622257318c",
   "metadata": {},
   "source": [
    "[3. Truncate an integer array such that '2×min' becomes more than 'max'](https://www.techiedelight.com/truncate-array-such-that-twice-of-min-becomes-more-than-max/)"
   ]
  },
  {
   "cell_type": "code",
   "execution_count": 4,
   "id": "08e0adda-360f-4eb5-9cb0-06ff8149539a",
   "metadata": {},
   "outputs": [
    {
     "name": "stdout",
     "output_type": "stream",
     "text": [
      "4\n",
      "3\n"
     ]
    }
   ],
   "source": [
    "lis = [4, 6, 1, 7, 5, 9, 2]\n",
    "\n",
    "def solve3(lis):\n",
    "    if len(lis) <= 1: return 0\n",
    "    \n",
    "    if 2*min(lis) > max(lis): return 0\n",
    "    \n",
    "    return 1 + min(solve3(lis[1:]), solve3(lis[:-1]))\n",
    "\n",
    "print(solve3(lis))\n",
    "lis = [4, 2, 6, 4, 9]\n",
    "print(solve3(lis))"
   ]
  },
  {
   "cell_type": "code",
   "execution_count": 5,
   "id": "35ada175-e3e5-4b25-8595-7ed9479bec06",
   "metadata": {},
   "outputs": [
    {
     "name": "stdout",
     "output_type": "stream",
     "text": [
      "4\n",
      "3\n"
     ]
    }
   ],
   "source": [
    "# optimized version, can also use segement tree or sparse table to optimize min max query.\n",
    "def solve3OPT(lis):\n",
    "    n = len(lis)\n",
    "    table = [[-1 for i in range(n)] for i in range(n)]\n",
    "    def solve(i, j):\n",
    "        if i>= j: return 0\n",
    "        if 2*min(lis[i:j+1]) > max(lis[i:j+1]): return 0\n",
    "        if table[i][j] != -1: return table[i][j]\n",
    "        \n",
    "        table[i][j] = 1 + min(solve(i+1, j), solve(i, j-1))\n",
    "        return table[i][j]\n",
    "    return solve(0, n-1)\n",
    "\n",
    "lis = [4, 6, 1, 7, 5, 9, 2]\n",
    "print(solve3OPT(lis))\n",
    "lis = [4, 2, 6, 4, 9]\n",
    "print(solve3OPT(lis))"
   ]
  },
  {
   "cell_type": "markdown",
   "id": "50ba2d7d-fdab-4e29-bed8-8baa7b4b2b61",
   "metadata": {},
   "source": [
    "[4]()"
   ]
  },
  {
   "cell_type": "code",
   "execution_count": 6,
   "id": "0e7b8e1b-c7f2-4b44-a114-8a7f8e1c6fbe",
   "metadata": {},
   "outputs": [],
   "source": [
    "class Tree:\n",
    "    def __init__(self, val=0):\n",
    "        self.val = self.data = val\n",
    "        self.left = None\n",
    "        self.right = None\n",
    "\n",
    "def make_BT(lis):\n",
    "    n = len(lis)\n",
    "    nodes = [Tree(i) for i in lis if i is not None]\n",
    "    for i, node in enumerate(nodes):\n",
    "        if 2*i + 1<n: node.left = nodes[2*i + 1]\n",
    "        if 2*i + 2<n: node.right = nodes[2*i + 2]\n",
    "    return nodes[0]\n"
   ]
  },
  {
   "cell_type": "markdown",
   "id": "97bb47e3-2bb4-4581-9074-4ad8bc2d788b",
   "metadata": {},
   "source": [
    "[5. Maximum Independent Set Problem](https://www.techiedelight.com/maximum-independent-set-problem/)\n",
    "\n",
    "`Note: when you can take root, then pick the maximum of taking it or not taking it.`  \n",
    "`if you cannot take it then simply don't take that root`"
   ]
  },
  {
   "cell_type": "code",
   "execution_count": 20,
   "id": "499a3ad9-5681-41e6-afe1-20c1b2ab43c0",
   "metadata": {},
   "outputs": [
    {
     "name": "stdout",
     "output_type": "stream",
     "text": [
      "5\n"
     ]
    }
   ],
   "source": [
    "def solve4(root):\n",
    "    table = dict()\n",
    "    def solve(root, take=0):\n",
    "        if root is None: return 0\n",
    "        if (root, take) in table: return table[(root, take)]\n",
    "        if take:\n",
    "            table[(root, take)] = max(1 + solve(root.left, 0) + solve(root.right, 0),\n",
    "                                          solve(root.left, 1) + solve(root.right, 1))\n",
    "        else:\n",
    "            table[(root, take)] = solve(root.left, 1) + solve(root.right, 1)\n",
    "        \n",
    "        return table[(root, take)]\n",
    "        \n",
    "    return max(solve(root, 0), solve(root, 1))\n",
    "        \n",
    "        \n",
    "root = Tree(1)\n",
    "root.left = Tree(2)\n",
    "root.right = Tree(3)\n",
    "root.left.left = Tree(4)\n",
    "root.right.left = Tree(5)\n",
    "root.right.right = Tree(6)\n",
    "root.right.left.left = Tree(7)\n",
    "root.right.left.right = Tree(8)\n",
    "\n",
    "print(solve4(root))"
   ]
  },
  {
   "cell_type": "markdown",
   "id": "268236c7-36d0-4230-aeb7-4dd44091a3bd",
   "metadata": {},
   "source": [
    "[5. Find the minimum number of squares that sum to a given number](https://www.techiedelight.com/minimum-number-of-squares-that-sum-to-given-number/)"
   ]
  },
  {
   "cell_type": "code",
   "execution_count": 33,
   "id": "6d25f9ff-623e-4f71-a7ac-bb157835c3c9",
   "metadata": {},
   "outputs": [
    {
     "name": "stdout",
     "output_type": "stream",
     "text": [
      "0 0\n",
      "1 1\n",
      "2 2\n",
      "3 3\n",
      "4 1\n",
      "5 2\n",
      "6 3\n",
      "7 4\n",
      "8 2\n",
      "9 1\n"
     ]
    }
   ],
   "source": [
    "def solve5(n):\n",
    "    dp = [1e10]*(n+1)\n",
    "    def solve(n):\n",
    "        # this is tricky but at n == 0, it should be 1 right? but if we are coming to 0 from some number n then\n",
    "        # we should not add any extra value to it because we have already done it in min equation.\n",
    "        if n == 0: return 0\n",
    "        if dp[n] != 1e10: return dp[n]\n",
    "        \n",
    "        i = 1\n",
    "        while i*i <= n:\n",
    "            dp[n] = min(dp[n],1 + solve(n - i*i))\n",
    "            i+=1\n",
    "            \n",
    "        return dp[n]\n",
    "    return solve(n)\n",
    "\n",
    "for i in range(int(1e1)):\n",
    "    print(i, solve5(i))"
   ]
  },
  {
   "cell_type": "markdown",
   "id": "668d84c1-6a64-4332-bad2-38024eef1f7f",
   "metadata": {},
   "source": [
    "[6. Minimum-weight triangulation of a convex polygon](https://www.techiedelight.com/minimum-weight-triangulation-convex-polygon/)\n",
    "\n",
    "TODO: :\\"
   ]
  },
  {
   "cell_type": "code",
   "execution_count": 55,
   "id": "d0b4416b-664e-4bd8-9fd1-5f1e7b7489d4",
   "metadata": {},
   "outputs": [
    {
     "name": "stdout",
     "output_type": "stream",
     "text": [
      "15.30056307974577\n"
     ]
    }
   ],
   "source": [
    "class Point:\n",
    "    def __init__(self, x, y):\n",
    "        self.x = x\n",
    "        self.y = y\n",
    "    \n",
    "    def __repr__(self):\n",
    "        return f\"({self.x}, {self.y})\"\n",
    "    \n",
    "# using circular array concept\n",
    "\n",
    "def dis(a, b):\n",
    "    return ((a.x - b.x)**2 + (a.y - b.y)**2)**0.5\n",
    "\n",
    "def cal(a, b, c):\n",
    "    return dis(a, b) + dis(b, c) + dis(c, a)\n",
    "\n",
    "def solve6(verts):\n",
    "    n = len(verts)\n",
    "    \n",
    "    dp = [[-1 for _ in range(n)] for _ in range(n)]\n",
    "    \n",
    "    def solve(low, high):\n",
    "        if low < high: far = high - low\n",
    "        else: far = high + (n - low) + 1\n",
    "            \n",
    "        if far < 3: return 0\n",
    "        elif far == 3: return cal(verts[low] + verts[(low+1)%n] + verts[(low+2)%n])\n",
    "        elif dp[low][high] != -1: return dp[low][high]\n",
    "        \n",
    "        for edge in range(low, high):\n",
    "            a, b = edge, (edge+1)%n\n",
    "            \n",
    "            for k in range(low, high+1):\n",
    "                k = k%n\n",
    "                if k == a or k == b"
   ]
  },
  {
   "cell_type": "markdown",
   "id": "61416715-ad93-4c8f-b65c-92441cc95c43",
   "metadata": {},
   "source": [
    "[7. Find the minimum number of deletions required to convert a string into a palindrome](https://www.techiedelight.com/find-minimum-number-deletions-convert-string-into-palindrome/)"
   ]
  },
  {
   "cell_type": "code",
   "execution_count": 60,
   "id": "c38539e2-3b50-4803-9480-6e2b6b4bd5be",
   "metadata": {},
   "outputs": [
    {
     "name": "stdout",
     "output_type": "stream",
     "text": [
      "3\n"
     ]
    }
   ],
   "source": [
    "def solve7(s):\n",
    "    s2 = s[::-1]\n",
    "    \n",
    "    def LCS(s, s2):\n",
    "        n = len(s)\n",
    "        dp = [[0 for _ in range(n+1)] for _ in range(n+1)]\n",
    "        ans = 0\n",
    "        for i in range(1, n+1):\n",
    "            for j in range(1, n+1):\n",
    "                if s[i-1] == s2[j-1]: dp[i][j] += dp[i-1][j-1] + 1\n",
    "                else: dp[i][j] = max(dp[i-1][j], dp[i][j-1])\n",
    "                ans = max(ans, dp[i][j])\n",
    "        return n - ans\n",
    "    \n",
    "    return LCS(s, s2)\n",
    "\n",
    "s = \"ACBCDBAA\"\n",
    "print(solve7(s))"
   ]
  },
  {
   "cell_type": "code",
   "execution_count": null,
   "id": "ad37be81-97a3-461a-96d8-83c5f8e25c94",
   "metadata": {},
   "outputs": [],
   "source": []
  }
 ],
 "metadata": {
  "kernelspec": {
   "display_name": "Python 3",
   "language": "python",
   "name": "python3"
  },
  "language_info": {
   "codemirror_mode": {
    "name": "ipython",
    "version": 3
   },
   "file_extension": ".py",
   "mimetype": "text/x-python",
   "name": "python",
   "nbconvert_exporter": "python",
   "pygments_lexer": "ipython3",
   "version": "3.8.6"
  }
 },
 "nbformat": 4,
 "nbformat_minor": 5
}
