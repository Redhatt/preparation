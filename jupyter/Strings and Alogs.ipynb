{
 "cells": [
  {
   "cell_type": "markdown",
   "metadata": {},
   "source": [
    "# Knuth-Morris-Pratt\n",
    "\n",
    "LPS array is the key.  \n",
    "let the string be like this.  \n",
    "**abcaba + qwertyuytrew + abcabc**\n",
    "in the last string till last b our length will be increasing, because characters matched till that point.  \n",
    "but at **c** it will not match, but we know that before **c** our string matches so we will go 1 length less and try to match it again and keep doing it untill it becomes 0.  \n",
    "```\n",
    "abcaba \n",
    "abcabc\n",
    "123456 \n",
    "\n",
    "l = 6, a != c, so l-=1\n",
    "l = 5, b != c, so l-=1\n",
    "l = 4, a != c, so l-=1\n",
    "l = 3, c == c, so ans = l = 3.\n",
    "```"
   ]
  },
  {
   "cell_type": "code",
   "execution_count": 7,
   "metadata": {},
   "outputs": [
    {
     "name": "stdout",
     "output_type": "stream",
     "text": [
      "[0, 0, 0, 0, 0, 1, 2, 3, 4, 0]\n",
      "[]\n"
     ]
    }
   ],
   "source": [
    "# wiki and geeks for geeks are enough to recollect.\n",
    "def longest_prefix(patter):\n",
    "    n = len(patter)\n",
    "    index, length = 1, 0 \n",
    "    longest_prefix_sufix = [0]*n\n",
    "    while index<n: \n",
    "        if patter[index] == patter[length]:\n",
    "            length += 1\n",
    "            longest_prefix_sufix[index] = length\n",
    "            index += 1\n",
    "        else:\n",
    "            if length:\n",
    "                length = longest_prefix_sufix[length-1]\n",
    "            else:\n",
    "                longest_prefix_sufix[index] = 0\n",
    "                index += 1\n",
    "    return longest_prefix_sufix\n",
    "\n",
    "def KMPSearch(pat, string):\n",
    "    n, m = len(string), len(pat)\n",
    "    lps = longest_prefix(pat)\n",
    "    print(lps)\n",
    "    i = 0\n",
    "    j = 0\n",
    "    matched = []\n",
    "    while i<n:\n",
    "        # If pattern Matched\n",
    "        if pat[j] == string[i]:\n",
    "            i+=1\n",
    "            j+=1\n",
    "            \n",
    "        # If all of them matched.\n",
    "        if j == m:\n",
    "            matched.append(i+1-m)\n",
    "            j = lps[j-1]\n",
    "        # if not matched.\n",
    "        elif i<n and pat[j] != string[i]:\n",
    "            # if j not zero go back to previous matched string.\n",
    "            if j != 0:\n",
    "                j = lps[j-1]\n",
    "            # if j is zero just compare it to next letter.\n",
    "            else:\n",
    "                i += 1\n",
    "    return matched\n",
    "        \n",
    "string = \"abcdabcdabceabcd\"\n",
    "pat = \"abcbwabcbq\"\n",
    "\n",
    "print(KMPSearch(pat, string))"
   ]
  },
  {
   "cell_type": "markdown",
   "metadata": {},
   "source": [
    "# Rabin-Karp method\n",
    "This is more like efficient hashing and with mo's sliding window technique.  \n",
    "`NOTE: can be used in Mo's algorithm as successive operations are O(1)`"
   ]
  },
  {
   "cell_type": "code",
   "execution_count": 7,
   "metadata": {},
   "outputs": [
    {
     "name": "stdout",
     "output_type": "stream",
     "text": [
      "found at 11\n",
      "total found 1\n"
     ]
    }
   ],
   "source": [
    "# code\n",
    "s = 'abcdefghijklmnopqrstuvwxyz'\n",
    "p = 'lmno'\n",
    "A = lambda x: ord(x) - ord('a') + 1\n",
    "# mapping tools\n",
    "m = 31\n",
    "mod = int(1e9)+7\n",
    "a, b = len(s), len(p)\n",
    "# memoization of powers of 'm' to not calculate again.\n",
    "power = [pow(m, i, mod) for i in range(max(a, b))]\n",
    "\n",
    "# ph hash value of 'p', sh hash value of 's'\n",
    "ph = 0; sh = 0\n",
    "\n",
    "# calculating intitial values of p and s strings\n",
    "for i in range(b-1, -1, -1):\n",
    "    ph = (ph + A(p[i])*power[b-i-1])%mod\n",
    "    sh = (sh + A(s[i])*power[b-i-1])%mod\n",
    "ans = 0\n",
    "if ph == sh: print(f\"found at {0}\")\n",
    "\n",
    "# O(1) successive calculation of has value for substirng of 's'\n",
    "for i in range(b, a):\n",
    "    sh = ((sh - A(s[i-b])*power[b-1])*m + A(s[i]))%mod\n",
    "    if sh == ph: ans += 1; print(f\"found at {i-b+1}\")\n",
    "print(f\"total found {ans}\")    "
   ]
  },
  {
   "cell_type": "code",
   "execution_count": 3,
   "metadata": {},
   "outputs": [
    {
     "name": "stdout",
     "output_type": "stream",
     "text": [
      "found at index: 11\n",
      "Total found: 1\n"
     ]
    }
   ],
   "source": [
    "# ez way to dp rabin karp, go in reverse order because modulo makes it hard to divide.\n",
    "\n",
    "def RabinKarp(string, pattern):\n",
    "    d = {chr(a): i for i, a in enumerate(range(0, 184), 1)}\n",
    "    def hash_(s, power, mod): return sum(d[v]*pow(power, i, mod) for i, v in enumerate(s))%mod\n",
    "    \n",
    "    p, mod = 31, 10**9 + 7\n",
    "    n, m = len(string), len(pattern)\n",
    "    ph = hash_(pattern, p, mod)\n",
    "    sh = 0\n",
    "    pm = pow(p, m, mod)\n",
    "\n",
    "    found = 0\n",
    "    for i in reversed(range(n)):\n",
    "        sh = (sh*p + d[string[i]])%mod\n",
    "        if i+m<n:\n",
    "            sh = (sh - d[string[i+m]]*pm)%mod\n",
    "        if sh == ph:\n",
    "            print(f\"found at index: {i}\")    \n",
    "            found += 1\n",
    "    print(f\"Total found: {found}\")\n",
    "\n",
    "string = 'abcdefghijklmnopqrstuvwxyz'\n",
    "pattern = 'lmno'\n",
    "RabinKarp(string, pattern)"
   ]
  },
  {
   "cell_type": "markdown",
   "metadata": {},
   "source": [
    "# Z Function"
   ]
  },
  {
   "cell_type": "markdown",
   "metadata": {},
   "source": [
    "Let *s* is our string. **z function** returns a list of length of string, where list\\[i\\] represents length of prefix which is common in actual string and sufix of that string starting from ith index."
   ]
  },
  {
   "cell_type": "markdown",
   "metadata": {},
   "source": [
    "## Brute Force "
   ]
  },
  {
   "cell_type": "code",
   "execution_count": 34,
   "metadata": {},
   "outputs": [
    {
     "name": "stdout",
     "output_type": "stream",
     "text": [
      "[0, 3, 2, 1, 0, 2, 1]\n"
     ]
    }
   ],
   "source": [
    "s = 'aaaabaa'\n",
    "\n",
    "# simple\n",
    "def zfuncBruteSimple(s):\n",
    "    n = len(s)\n",
    "    lis = [0]*n\n",
    "    \n",
    "    for i in range(1, n):\n",
    "        k = 0\n",
    "        while i+k<n and s[k] == s[k+i]: k += 1\n",
    "        lis[i] = k\n",
    "    return lis\n",
    "\n",
    "# rather than making a variable k to store the lenght while the condition is valid, \n",
    "# we can directly use lis[i] since it is same vairable and is default 0\n",
    "def zfuncBruteBetter(s):\n",
    "    n = len(s)\n",
    "    lis = [0]*n\n",
    "    for i in range(1, n):\n",
    "        while i+lis[i]<n and s[lis[i]] == s[lis[i]+i]: lis[i] += 1\n",
    "    return lis\n",
    "\n",
    "print(zfuncBruteBetter(s))"
   ]
  },
  {
   "cell_type": "markdown",
   "metadata": {},
   "source": [
    "Make a range \\[l, r\\], to tell that we know ans till r.  \n",
    "if we are outside this range, then use burte force technique.  \n",
    "lets say we got answer 4 at index i after brute force.  \n",
    "then our l is i and our r = i+4, so at jth iteration, rather than starting from start we can start from z\\[j-l\\]."
   ]
  },
  {
   "cell_type": "code",
   "execution_count": 3,
   "metadata": {},
   "outputs": [
    {
     "name": "stdout",
     "output_type": "stream",
     "text": [
      "0 0 0 7 0 0 4 0 0 1\n",
      "0 1 2 3 4 5 6 7 8 9\n"
     ]
    }
   ],
   "source": [
    "s = \"abcabcabca\"\n",
    "\n",
    "def zfuncOpt(s):\n",
    "    n = len(s)\n",
    "    z = [0]*n\n",
    "    l = r = 0\n",
    "    for i in range(1, n):\n",
    "        if i<=r:\n",
    "            z[i] = min(r-i+1, z[i-l])\n",
    "        while i+z[i]<n and s[z[i]] == s[i+z[i]]: z[i]+=1\n",
    "        if i + z[i] - 1 > r:\n",
    "            l, r = i, i + z[i] - 1\n",
    "    return z\n",
    "\n",
    "print(*zfuncOpt(s))\n",
    "print(*range(len(s)))"
   ]
  },
  {
   "cell_type": "markdown",
   "metadata": {},
   "source": [
    "# Longest Palindromic Substring - Manacher's Alog *O(n)*"
   ]
  },
  {
   "cell_type": "markdown",
   "metadata": {},
   "source": [
    "[YouTube video Link](https://www.youtube.com/watch?v=IvakBbsAhUU) good explanation.\n",
    "\n",
    "Insight:  \n",
    "suppose this is the string ***abcdedcba*** its palindrome and center is ***e***, now if we are right ***c*** than we can get the   \n",
    "stored length till this is already a plaindrome from left ***c*** because they are inside a bigger palindrome and   \n",
    "will have mirror symmetry. In this case it will be `0` length.  \n",
    "for this string ***qabaeabap*** it will be `1` length at left ***b***.  \n",
    "\n",
    "**NOTE:** In Manacher's algo, we exploit the fact the, if we already know a palindrome,  \n",
    "then we can extract minimum distance till which the right side will be palindrome since we have already covered  \n",
    "that exact string on the left side of the center of palindrome."
   ]
  },
  {
   "cell_type": "code",
   "execution_count": 1,
   "metadata": {},
   "outputs": [
    {
     "name": "stdout",
     "output_type": "stream",
     "text": [
      "#a#y#b#a#b#t#u#\n",
      "bab\n"
     ]
    }
   ],
   "source": [
    "s = \"babad\"\n",
    "s = \"aybabtu\"\n",
    "\n",
    "# joining srtring with # to cover even length string cases\n",
    "s = \"#\" + \"#\".join(s) + \"#\"\n",
    "n = len(s)\n",
    "\n",
    "center = 0\n",
    "mlen, mindex = 0, 0\n",
    "d = [0]*n\n",
    "right = 0\n",
    "\n",
    "for i in range(n):\n",
    "    # use the mirror element to get the min length\n",
    "    mirror = 2*center - i\n",
    "    if right > i:\n",
    "        d[i] = min(d[mirror], right-i)\n",
    "\n",
    "    # these are left and right pointer to get palindrome, as we do in nomral O(n*n) algo\n",
    "    a = i + (d[i]+1)\n",
    "    b = i - (d[i]+1)\n",
    "\n",
    "    while b>-1 and a<n and s[b] == s[a]:\n",
    "        a+=1\n",
    "        b-=1\n",
    "        d[i]+=1\n",
    "\n",
    "    # update the max values\n",
    "    if d[i]>mlen:\n",
    "        mlen = d[i]\n",
    "        mindex = i\n",
    "\n",
    "    # if we got new long palindrome udate the values and center\n",
    "    if i+d[i]>right:\n",
    "        center = i\n",
    "        right = i + d[i]\n",
    "    \n",
    "ans = s[mindex-mlen:mindex+mlen+1].replace(\"#\", \"\")\n",
    "print(s)\n",
    "print(ans)"
   ]
  },
  {
   "cell_type": "markdown",
   "metadata": {},
   "source": [
    "# good problem on trie"
   ]
  },
  {
   "cell_type": "code",
   "execution_count": 7,
   "metadata": {},
   "outputs": [
    {
     "name": "stdout",
     "output_type": "stream",
     "text": [
      "2\n",
      "2\n",
      "4\n",
      "2\n"
     ]
    }
   ],
   "source": [
    "# problem link\n",
    "# https://www.geeksforgeeks.org/googles-online-challenge-for-2021-intern-india-experience/?ref=rp\n",
    "class node:\n",
    "    def __init__(self, val=\"\"):\n",
    "        self.val = val\n",
    "        self.end = 0\n",
    "        self.d = dict()\n",
    "\n",
    "def fill(root, w):\n",
    "    if w == \"\": root.end = 1\n",
    "    else:\n",
    "        if w[0] not in root.d: root.d[w[0]] = node(w[0])\n",
    "        fill(root.d[w[0]], w[1:])\n",
    "\n",
    "lis = ['cat','map', 'bat','man','pen']\n",
    "n = len(lis)\n",
    "root = node()\n",
    "for i in lis: fill(root, i)\n",
    "\n",
    "def find(root, w):\n",
    "    if w ==\"\": return 1\n",
    "    if w[0] == \"?\":\n",
    "        ans = 0\n",
    "        for i in root.d.values(): ans += find(i, w[1:])\n",
    "        return ans\n",
    "    elif w[0] not in root.d: return 0\n",
    "    return find(root.d[w[0]], w[1:])\n",
    "q = [\"?at\",\"ma?\",\"?a?\",\"??n\"]\n",
    "for a in q: print(find(root, a))"
   ]
  },
  {
   "cell_type": "markdown",
   "metadata": {},
   "source": [
    "# Algorithms"
   ]
  },
  {
   "cell_type": "markdown",
   "metadata": {},
   "source": [
    "## Counting inversions"
   ]
  },
  {
   "cell_type": "markdown",
   "metadata": {},
   "source": [
    "### Using MergeSort\n",
    "\n",
    "Do usual merge sort. But side by side keep counting inversions.  \n",
    "In two sorted array number of inversions are like this.  \n",
    "$ a[]$ and $b[]$ are subarray So actual array should be a+b.  \n",
    "so all elements of $a[]$ should be less than equal to $b[]$.  \n",
    "if not so then number of inversions are length of $a[]$ left from curr.  \n",
    "now inversion if a+b are inversions in $a[]$ + $b[]$ + inversion during merging."
   ]
  },
  {
   "cell_type": "code",
   "execution_count": 2,
   "metadata": {},
   "outputs": [
    {
     "name": "stdout",
     "output_type": "stream",
     "text": [
      "9\n"
     ]
    }
   ],
   "source": [
    "def merge(a, b):\n",
    "    i = j = ans = 0\n",
    "    n, m = len(a), len(b)\n",
    "    c = []\n",
    "    while i<n and j<m:\n",
    "        if a[i]<=b[j]: c.append(a[i]); i+=1\n",
    "        else: c.append(b[j]); j+=1; ans+=(n-i)\n",
    "    while i<n: c.append(a[i]); i+=1\n",
    "    while j<m: c.append(b[j]); j+=1\n",
    "    return c, ans\n",
    "def mergeSort(lis):\n",
    "    p = len(lis)\n",
    "    if p in {0, 1}: return lis, 0\n",
    "    mid = p//2\n",
    "    a, v1 = mergeSort(lis[:mid])\n",
    "    b, v2 = mergeSort(lis[mid:])\n",
    "    c, v3 = merge(a, b)\n",
    "    return c, v1+v2+v3\n",
    "\n",
    "lis = [1,2,6,7,5,4,3]\n",
    "_, ans = mergeSort(lis)\n",
    "print(ans)"
   ]
  },
  {
   "cell_type": "markdown",
   "metadata": {},
   "source": [
    "### Using Fenwick Tree\n",
    "Make a **BIT** (binary index tree) array. Then from reverse keep adding 1 for that element's mapped postition in **BIT** (here its the same becuase it permuation array but not always this happens).  \n",
    "Before adding 1 in bit, add sum upto element-1(not equal to elements) to answer."
   ]
  },
  {
   "cell_type": "code",
   "execution_count": 3,
   "metadata": {},
   "outputs": [
    {
     "name": "stdout",
     "output_type": "stream",
     "text": [
      "9\n"
     ]
    }
   ],
   "source": [
    "lis = [1,2,6,7,5,4,3]\n",
    "n = len(lis)\n",
    "bit = [0]*(n+1)\n",
    "\n",
    "def update(pos, delta):\n",
    "    pos += 1\n",
    "    while pos<n+1:\n",
    "        bit[pos] += delta\n",
    "        pos += (-pos & pos)\n",
    "\n",
    "def presum(pos):\n",
    "    ans = 0\n",
    "    pos += 1\n",
    "    while pos>0:\n",
    "        ans += bit[pos]\n",
    "        pos -= (-pos & pos)\n",
    "    return ans\n",
    "\n",
    "ans = 0\n",
    "for i in range(n-1, -1, -1):\n",
    "    ans += presum(lis[i]-2)\n",
    "    update(lis[i]-1, 1)\n",
    "print(ans)"
   ]
  },
  {
   "cell_type": "markdown",
   "metadata": {},
   "source": [
    "here is an example of a elegent mapping."
   ]
  },
  {
   "cell_type": "code",
   "execution_count": 4,
   "metadata": {},
   "outputs": [
    {
     "name": "stdout",
     "output_type": "stream",
     "text": [
      "6\n"
     ]
    }
   ],
   "source": [
    "from bisect import *\n",
    "\n",
    "# finding inversions\n",
    "lis = [1,2,3,4,5,6,0]\n",
    "n = len(lis)\n",
    "l = n+1\n",
    "bit = [0]*l\n",
    "def update(pos, delta):\n",
    "    pos += 1\n",
    "    while pos<l:\n",
    "        bit[pos] += delta\n",
    "        pos += (-pos & pos)\n",
    "def count(pos):\n",
    "    pos += 1\n",
    "    ans = 0\n",
    "    while pos>0:\n",
    "        ans += bit[pos]\n",
    "        pos -= (-pos & pos)\n",
    "    return ans\n",
    "\n",
    "sor = sorted(set(lis)) # d = dict((val, i) for i, val in enumerate(sorted(set)))\n",
    "ans = 0\n",
    "# so here basically you mapped elements to index of lis by sorting it, and you keep updating index position by finding postion of it using binary\n",
    "# search.\n",
    "for i in reversed(lis):\n",
    "    ans += count(bisect_left(sor, i)) # here it could be optimized by using map\n",
    "    update(bisect_left(sor, i), 1) # here it could be optimized by using map\n",
    "print(ans)"
   ]
  },
  {
   "cell_type": "markdown",
   "metadata": {},
   "source": [
    "## Closest Pair in a Plane"
   ]
  },
  {
   "cell_type": "code",
   "execution_count": 5,
   "metadata": {},
   "outputs": [
    {
     "name": "stdout",
     "output_type": "stream",
     "text": [
      "0 4 1.414214\n"
     ]
    }
   ],
   "source": [
    "# lis = [[x, y, index]... ]\n",
    "lis = [[0, 0, 0], [-4, 1, 1], [-7, -2, 2], [4, 5, 3], [1, 1, 4]]\n",
    "n = len(lis)\n",
    "lis.sort() # sorting wrt x\n",
    "\n",
    "def dis(a, b):\n",
    "    return ((a[0] - b[0])**2 + (a[1]  - b[1])**2)**0.5\n",
    "\n",
    "def brt(p, y=None):\n",
    "    from bisect import bisect_left, bisect\n",
    "    n = len(p)\n",
    "    ans = 1e10\n",
    "    a, b = -1, -1\n",
    "    if y is None:\n",
    "        for i in range(n):\n",
    "            for j in range(i+1, n):\n",
    "                val = dis(p[i], p[j])\n",
    "                if val<ans:\n",
    "                    ans = val\n",
    "                    a, b = min(p[i][2], p[j][2]), max(p[i][2], p[j][2])\n",
    "        return ans, a, b\n",
    "    p.sort(key=lambda x: x[1])\n",
    "    for i in range(n):\n",
    "        j = i-1\n",
    "        while j>=0 and p[i][1]-p[j][1]<=y:\n",
    "            val = dis(p[i], p[j])\n",
    "            if val<ans:\n",
    "                ans = val\n",
    "                a, b = min(p[i][2], p[j][2]), max(p[i][2], p[j][2])\n",
    "            j-=1   \n",
    "        j = i+1\n",
    "        while j<n and p[j][1]-p[i][1]<=y:\n",
    "            val = dis(p[i], p[j])\n",
    "            if val<ans:\n",
    "                ans = val\n",
    "                a, b = min(p[i][2], p[j][2]), max(p[i][2], p[j][2])\n",
    "            j+=1\n",
    "        return ans, a, b\n",
    "\n",
    "def sol(p):\n",
    "    n = len(p)\n",
    "    if n<=2: return brt(p)\n",
    "    mid = n//2\n",
    "    d1, a1, b1 = sol(p[:mid])\n",
    "    d2, a2, b2 = sol(p[mid:])\n",
    "    d, a, b = (d1, a1, b1) if d1<d2 else (d2, a2, b2)\n",
    "    \n",
    "    # so getting all points in \n",
    "    s = []\n",
    "    linex = p[mid][0]\n",
    "    for i in range(mid-1, -1, -1):\n",
    "        if linex-p[i][0]<d: s.append(p[i])\n",
    "        else: break\n",
    "    for i in range(mid, n):\n",
    "        if p[i][0]-linex<d: s.append(p[i])\n",
    "        else: break\n",
    "    d0, a0, b0 = brt(s, d)\n",
    "    d, a, b = (d0, a0, b0) if d0<d else (d, a, b)\n",
    "    return d, a, b\n",
    "\n",
    "d, a, b = sol(lis)\n",
    "print(a, b,'{:.6f}'.format(d))"
   ]
  },
  {
   "cell_type": "markdown",
   "metadata": {},
   "source": [
    "## Overlapping intervals - easy solution"
   ]
  },
  {
   "cell_type": "code",
   "execution_count": 6,
   "metadata": {},
   "outputs": [
    {
     "name": "stdout",
     "output_type": "stream",
     "text": [
      "[[1, 4], [6, 8], [9, 10]]\n"
     ]
    }
   ],
   "source": [
    "intervals = [(1, 3), (2, 4), (6, 8), (9, 10)]\n",
    "intervals.sort()\n",
    "ans = []\n",
    "for a, b in intervals:\n",
    "    if ans and a<=ans[-1][1]: \n",
    "        ans[-1][1] = max(ans[-1][1], b)\n",
    "    else:\n",
    "        ans.append([a, b])\n",
    "print(ans)"
   ]
  },
  {
   "cell_type": "markdown",
   "metadata": {},
   "source": [
    "## Farthest Right Maximum\n",
    "\n",
    "Idea is to sort the array, now for a postions $x$ the ones in right are the only ones greater than it so get the max index out of them, which can be easily done by right passing the array."
   ]
  },
  {
   "cell_type": "code",
   "execution_count": 7,
   "metadata": {},
   "outputs": [
    {
     "name": "stdout",
     "output_type": "stream",
     "text": [
      "[(1, 4), (4, 1), (5, 2), (7, 3), (10, 0)]\n",
      "[0, 3, 3, 3, 4]\n"
     ]
    }
   ],
   "source": [
    "A = [10, 4, 5, 7, 1]\n",
    "n = len(A)\n",
    "lis = [(A[i], i) for i in range(n)]\n",
    "lis.sort()\n",
    "print(lis)\n",
    "right = [0]*n\n",
    "m = 0\n",
    "for i in range(n-1, -1, -1):\n",
    "    right[i] = m = max(m, lis[i][1])\n",
    "ans = [0]*n\n",
    "for i in range(n):\n",
    "    ans[lis[i][1]] = right[i]\n",
    "print(ans)"
   ]
  },
  {
   "cell_type": "markdown",
   "metadata": {},
   "source": [
    "## Integer to Roman\n",
    "\n",
    "So generally if you would have to do this for base 15 or any other you would have made check points for every multiple of 15 by dividing number by 15 every time and passed remainder.  \n",
    "~~~~\n",
    "number = 145\n",
    "base = 15\n",
    "ans = []\n",
    "while number:\n",
    "    ans.append(number//base) # creating check point\n",
    "    number = number % base # passing remainder\n",
    "print(ans) # in base 15 with usual sysmbols\n",
    "~~~~\n",
    "`NOTE: python is awesome, to convert any number to another base just do this`  \n",
    "`ans = int(str(number), base)`  \n",
    "but here check points are a bit weird and so you have to manually make a list of them and a map for sysmbols.  \n",
    "Like for digits **4** and and **9**."
   ]
  },
  {
   "cell_type": "code",
   "execution_count": 8,
   "metadata": {},
   "outputs": [
    {
     "data": {
      "text/plain": [
       "'MMMCMXCIX'"
      ]
     },
     "execution_count": 8,
     "metadata": {},
     "output_type": "execute_result"
    }
   ],
   "source": [
    "#code\n",
    "def roman(A):\n",
    "    values = [ 1000, 900, 500, 400, 100, 90, 50, 40, 10, 9, 5, 4, 1 ] # check points\n",
    "    numerals = [ \"M\", \"CM\", \"D\", \"CD\", \"C\", \"XC\", \"L\", \"XL\", \"X\", \"IX\", \"V\", \"IV\", \"I\" ] # map\n",
    "    res = \"\"\n",
    "    for i, v in zip(numerals, values):\n",
    "        res += (A//v) * i\n",
    "        A %= v\n",
    "    return res\n",
    "roman(3999)"
   ]
  },
  {
   "cell_type": "code",
   "execution_count": 9,
   "metadata": {},
   "outputs": [
    {
     "name": "stdout",
     "output_type": "stream",
     "text": [
      "0\n",
      "1\n",
      "2\n",
      "3\n"
     ]
    }
   ],
   "source": [
    "# Roman numerals to Integer\n",
    "\n",
    "def numeral(s):\n",
    "    n = len(s)\n",
    "    i = 0\n",
    "    ans = 0\n",
    "    c = [\"M\", \"D\", \"C\", \"L\", \"X\", \"V\", \"I\"]\n",
    "    v = [1000, 500, 100, 50, 10, 5, 1]\n",
    "\n",
    "    while i<n:\n",
    "        e = i\n",
    "        while i+1<n and s[i+1] == s[i]: i+=1\n",
    "        l = i-e+1\n",
    "\n",
    "        if l == 1:\n",
    "            if i+1<n and c.index(s[i])>c.index(s[i+1]):\n",
    "                ans += v[c.index(s[i+1])] - v[c.index(s[i])]\n",
    "                i+=1\n",
    "            else: ans += v[c.index(s[i])]\n",
    "        else: ans += l*(v[c.index(s[i])])\n",
    "        i+=1\n",
    "    return ans\n",
    "\n",
    "for i in range(4): \n",
    "    print(numeral(roman(i)))"
   ]
  },
  {
   "cell_type": "markdown",
   "metadata": {},
   "source": [
    "## Two pointer nice solution\n",
    "\n",
    "Question: Given a sorted array, remove the duplicates in place such that each element can appear atmost twice and return the new length.  \n",
    " `A = [1,1,1,2]`\n",
    " `converted = [1,1,2].`"
   ]
  },
  {
   "cell_type": "code",
   "execution_count": 1,
   "metadata": {},
   "outputs": [
    {
     "name": "stdout",
     "output_type": "stream",
     "text": [
      "[1, 1, 2, 2, 3, 3, 4, 4, 5, 5, 6, 6]\n"
     ]
    }
   ],
   "source": [
    "# code \n",
    "A = [1,1,1,2,2,2,3,3,3,4,4,4,4,5,5,5,5,6,6,6]\n",
    "# A = [1,2,3,4,5]\n",
    "def sol(A):\n",
    "    n = len(A)\n",
    "    if n <= 1: return n\n",
    "    index = 0\n",
    "    for i in range(n):\n",
    "        if index<2 or A[i] != A[index-2]:\n",
    "            A[index] = A[i]\n",
    "            index+=1\n",
    "    for i in range(n-index): A.pop()\n",
    "    return len(A)\n",
    "sol(A)\n",
    "print(A)"
   ]
  },
  {
   "cell_type": "markdown",
   "metadata": {},
   "source": [
    "## All permutations \n",
    "To build permutations of length n, we need permutation of (n-1) length.  \n",
    "The below code build therefore builds the entire premutation tree of all possible length.  \n",
    "At level 0, we have original list.  \n",
    "At level 1 we build permutation of length 1, by swaping 1st index by all possible value from list.  \n",
    "Then at level 2 we build all possible permutations for all branches by swapping 2nd index for all   \n",
    "possible values except first index value of that branch.  \n",
    "This keeps going on.  "
   ]
  },
  {
   "cell_type": "markdown",
   "metadata": {},
   "source": [
    "<!-- ![image](https://media.geeksforgeeks.org/wp-content/cdn-uploads/NewPermutation.gif) -->\n",
    "<img src=\"https://media.geeksforgeeks.org/wp-content/cdn-uploads/NewPermutation.gif\" alt=\"drawing\" style=\"width:700px;\"/>\n"
   ]
  },
  {
   "cell_type": "code",
   "execution_count": 11,
   "metadata": {},
   "outputs": [
    {
     "name": "stdout",
     "output_type": "stream",
     "text": [
      "[]\n",
      "[1]\n",
      "[1, 2]\n",
      "[1, 2, 3]\n",
      "[1, 3]\n",
      "[1, 3, 2]\n",
      "[2]\n",
      "[2, 1]\n",
      "[2, 1, 3]\n",
      "[2, 3]\n",
      "[2, 3, 1]\n",
      "[3]\n",
      "[3, 2]\n",
      "[3, 2, 1]\n",
      "[3, 1]\n",
      "[3, 1, 2]\n"
     ]
    }
   ],
   "source": [
    "arr = [1,2,3]\n",
    "k = 2\n",
    "# swapping methond\n",
    "def allPermuationInpalce(a, l):\n",
    "    print(a[:l]) # use condition to get a specific level permuation\n",
    "    for i in range(l, len(a)):\n",
    "        a[i], a[l] = a[l], a[i]\n",
    "        allPermuationInpalce(a, l+1)\n",
    "        a[i], a[l] = a[l], a[i]\n",
    "\n",
    "# list reduction method\n",
    "def allPermuation(a, remain):\n",
    "    print(a) # use condition to get a specific level permuation\n",
    "    for i in range(len(remain)):\n",
    "        allPermuation(a + [remain[i]], remain[:i] + remain[i+1:])\n",
    "\n",
    "# allPermuation([], arr[:])\n",
    "allPermuationInpalce(arr, 0)"
   ]
  },
  {
   "cell_type": "markdown",
   "metadata": {},
   "source": [
    "## All SubSets\n",
    "\n",
    "simple $2^n$ concept, either select the element or not."
   ]
  },
  {
   "cell_type": "code",
   "execution_count": 12,
   "metadata": {},
   "outputs": [
    {
     "name": "stdout",
     "output_type": "stream",
     "text": [
      "[]\n",
      "[3]\n",
      "[2]\n",
      "[2, 3]\n",
      "[1]\n",
      "[1, 3]\n",
      "[1, 2]\n",
      "[1, 2, 3]\n"
     ]
    }
   ],
   "source": [
    "lis = [1,2,3]\n",
    "n = len(lis)\n",
    "\n",
    "def allSubSet(i=0, a=[]):\n",
    "    if i == n:\n",
    "        print(a)\n",
    "        return\n",
    "\n",
    "    allSubSet(i+1, a)\n",
    "    allSubSet(i+1, a + [lis[i]])\n",
    "\n",
    "allSubSet()"
   ]
  },
  {
   "cell_type": "markdown",
   "metadata": {},
   "source": [
    "## All possible Combination of K"
   ]
  },
  {
   "cell_type": "code",
   "execution_count": 13,
   "metadata": {},
   "outputs": [
    {
     "name": "stdout",
     "output_type": "stream",
     "text": [
      "[2, 3, 4]\n",
      "[1, 3, 4]\n",
      "[1, 2, 4]\n",
      "[1, 2, 3]\n"
     ]
    }
   ],
   "source": [
    "lis = [1,2,3,4]\n",
    "n = len(lis)\n",
    "k = 3\n",
    "\n",
    "def allCombination(i=0, a=[]):\n",
    "    if len(a) == k:\n",
    "        print(a)\n",
    "        return\n",
    "    if i == n:\n",
    "        return\n",
    "    allCombination(i+1, a)\n",
    "    allCombination(i+1, a+[lis[i]])\n",
    "    \n",
    "allCombination()"
   ]
  },
  {
   "cell_type": "markdown",
   "metadata": {},
   "source": [
    "## Next Permuations"
   ]
  },
  {
   "cell_type": "code",
   "execution_count": 16,
   "metadata": {},
   "outputs": [
    {
     "name": "stdout",
     "output_type": "stream",
     "text": [
      "[1, 2, 3, 5, 4, 6]\n"
     ]
    }
   ],
   "source": [
    "# NOTE: after finding index do remember that elements after index are reverse sorted, don't remember why? Think then!\n",
    "A = [1,2,3,4,6,5]\n",
    "n = len(A)\n",
    "index = 0\n",
    "# getting last unscrambled index\n",
    "for i in range(n-1):\n",
    "    if A[i]<A[i+1]:\n",
    "        index = i\n",
    "\n",
    "# means reverse sorted so return sorted one\n",
    "if index == -1:\n",
    "    print(sorted(A))\n",
    "else:\n",
    "    # get last element just bigger than index element\n",
    "    for i in range(n-1, index, -1):\n",
    "        if A[i]>A[index]:\n",
    "            A[index], A[i] = A[i], A[index]\n",
    "            break\n",
    "    # now reverse the elements after index elements\n",
    "    A = A[:index+1] + A[index+1:][::-1]\n",
    "    print(A)"
   ]
  },
  {
   "cell_type": "markdown",
   "metadata": {},
   "source": [
    "## Median finding Algorithm"
   ]
  },
  {
   "cell_type": "markdown",
   "metadata": {},
   "source": [
    "### Quick Select"
   ]
  },
  {
   "cell_type": "code",
   "execution_count": 14,
   "metadata": {},
   "outputs": [
    {
     "data": {
      "text/plain": [
       "3"
      ]
     },
     "execution_count": 14,
     "metadata": {},
     "output_type": "execute_result"
    }
   ],
   "source": [
    "from random import choice\n",
    "\n",
    "def QS(lis, k):\n",
    "    if len(lis)<=5: return sorted(lis)[k]\n",
    "    pivot = choice(lis)\n",
    "    low = [i for i in lis if i<pivot]\n",
    "    equal = [i for i in lis if i == pivot]\n",
    "    high = [i for i in lis if i>pivot]\n",
    "    l, e = len(low), len(equal)\n",
    "    \n",
    "    if k<l: return QS(low, k)\n",
    "    elif k>=l+e: return QS(high, k-l-e)\n",
    "    else: return pivot\n",
    "    \n",
    "QS([1,2,3,4,5,6,7,8,9,0], 3)"
   ]
  },
  {
   "cell_type": "markdown",
   "metadata": {},
   "source": [
    "### Median Of Medians\n",
    "the only problem with quick Select is that its random, therefore we can have $O(N^2)$ time complexity as in quick sort.  \n",
    "In MOM we get median by clever way of sorting medians.\n",
    "\n",
    "1. subdividing into set of 5.\n",
    "2. collecting medians of those small sets(simple sort).\n",
    "3. finding pivot, if around 5 then simple sort, else use recursion.\n",
    "4. quick sorting technique to partition around pivot.\n",
    "5. compare the rank(position) of pivot to what rank you want to find."
   ]
  },
  {
   "cell_type": "code",
   "execution_count": 18,
   "metadata": {},
   "outputs": [
    {
     "data": {
      "text/plain": [
       "5"
      ]
     },
     "execution_count": 18,
     "metadata": {},
     "output_type": "execute_result"
    }
   ],
   "source": [
    "def MOM(lis, k):\n",
    "    if len(lis)<=5: return sorted(lis)[k]\n",
    "    medians = [sorted(lis[i:i+5])[min(2, (len(lis)-i))//2] for i in range(0, len(lis), 5)]\n",
    "    pivot = MOM(medians, len(medians)//2)\n",
    "    low = [i for i in lis if i<pivot]\n",
    "    equal = [i for i in lis if i == pivot]\n",
    "    high = [i for i in lis if i>pivot]\n",
    "    r = len(low)\n",
    "    p = len(low) + len(equal)\n",
    "    if k<r: return MOM(low, k)\n",
    "    elif k>=r+p: return MOM(high, k-r-p)\n",
    "    else: return pivot\n",
    "    \n",
    "lis = [5,5,5,5,5,5,5,5,5]\n",
    "MOM(lis, 3)"
   ]
  },
  {
   "cell_type": "markdown",
   "metadata": {},
   "source": [
    "### Median of 2 sorted lists"
   ]
  },
  {
   "cell_type": "code",
   "execution_count": 19,
   "metadata": {},
   "outputs": [
    {
     "data": {
      "text/plain": [
       "51.0"
      ]
     },
     "execution_count": 19,
     "metadata": {},
     "output_type": "execute_result"
    }
   ],
   "source": [
    "import random\n",
    "def solve(a, b):\n",
    "    def kth(a, b, k):\n",
    "        if len(a) > len(b): return kth(b, a, k)\n",
    "        if len(a) == 0: return b[k-1]\n",
    "        if k == 1: return min(a[0], b[0])\n",
    "\n",
    "        i = min(len(a), k//2)\n",
    "        j = k - i\n",
    "\n",
    "        if a[i-1] <= b[j-1]: return kth(a[i:], b[:j], k-i)\n",
    "        else: return kth(a[:i], b[j:], k-j)\n",
    "\n",
    "    n, m = len(a), len(b)\n",
    "    k1 = 1 + (n+m)//2   # right mid\n",
    "    k2 = 1 + (n+m-1)//2 # left mid\n",
    "\n",
    "    return 0.5*(kth(a, b, k1) + kth(a, b, k2))\n",
    "\n",
    "a = sorted(random.sample(range(0,99), random.randint(0,10)))\n",
    "b = sorted(random.sample(range(0,99), random.randint(0,10)))\n",
    "solve(a, b)"
   ]
  },
  {
   "cell_type": "markdown",
   "metadata": {},
   "source": [
    "# Mo's Algorithm\n",
    "\n",
    "Very important [link](https://www.hackerearth.com/practice/notes/mos-algorithm/) to refer.\n",
    "  \n",
    "So basic idea is to sort the querry in intervals such that you don't have to move mo's right and mo's left not more than $n\\sqrt{n}$.\n",
    "And rule for that is.  \n",
    "Rearrange all queries in a way we will call “Mo’s order”. It is defined like this: `[L1, R1]` comes earlier than `[L2, R2]` in Mo’s order if and only   if:  \n",
    "   a) $\\frac{L1}{BLOCK\\_SIZE} < \\frac{L2}{BLOCK\\_SIZE}$  \n",
    "   b) $\\frac{L1}{BLOCK\\_SIZE} = \\frac{L2}{BLOCK\\_SIZE}$ and $R1 < R2$  \n",
    "\n",
    "[Here](https://codeforces.com/problemset/problem/86/D) is the question and below is the solution code.  "
   ]
  },
  {
   "cell_type": "code",
   "execution_count": null,
   "metadata": {},
   "outputs": [],
   "source": [
    "import sys; #input = sys.stdin.readline\n",
    "\n",
    "n, q = map(int, input().split())\n",
    "lis = list(map(int, input().split()))\n",
    "querry = []\n",
    "for i in range(q): \n",
    "    a,b = map(int, input().split())\n",
    "    querry.append((i, a, b))\n",
    "\n",
    "D = int(n**0.5)\n",
    "querry.sort(key=lambda x: (x[1]/D, x[2])) # sorting by the criteria\n",
    "cnt = [0]*int(1e6)\n",
    "ans = [0]*q\n",
    "ml, mr = 0, -1\n",
    "cur = 0\n",
    "for i, l, r in querry:\n",
    "    l-=1; r-=1\n",
    "    while ml<l:\n",
    "        p = cnt[lis[ml]]\n",
    "        cnt[lis[ml]] -= 1\n",
    "        # cur += (cnt[lis[ml]]**2 - p**2)*lis[ml]\n",
    "        cur -= (2*p -1)*lis[ml]\n",
    "        ml+=1\n",
    "    while ml>l:\n",
    "        ml-=1\n",
    "        p = cnt[lis[ml]]\n",
    "        cnt[lis[ml]] += 1\n",
    "        # cur += (cnt[lis[ml]]**2 - p**2)*lis[ml]\n",
    "        cur += (2*p+1)*lis[ml]\n",
    "    while mr<r:\n",
    "        mr+=1\n",
    "        p = cnt[lis[mr]]\n",
    "        cnt[lis[mr]] += 1\n",
    "        # cur += (cnt[lis[mr]]**2 - p**2)*lis[mr]\n",
    "        cur += (2*p+1)*lis[mr]\n",
    "    while mr>r:\n",
    "        p = cnt[lis[mr]]\n",
    "        cnt[lis[mr]] -= 1\n",
    "        # cur += (cnt[lis[ml]]**2 - p**2)*lis[ml]\n",
    "        cur -= (2*p -1)*lis[mr]\n",
    "        mr-=1\n",
    "    ans[i] = cur\n",
    "for i in ans: print(i)\n"
   ]
  },
  {
   "cell_type": "code",
   "execution_count": null,
   "metadata": {},
   "outputs": [],
   "source": []
  }
 ],
 "metadata": {
  "kernelspec": {
   "display_name": "Python 3 (ipykernel)",
   "language": "python",
   "name": "python3"
  },
  "language_info": {
   "codemirror_mode": {
    "name": "ipython",
    "version": 3
   },
   "file_extension": ".py",
   "mimetype": "text/x-python",
   "name": "python",
   "nbconvert_exporter": "python",
   "pygments_lexer": "ipython3",
   "version": "3.10.0"
  },
  "toc-autonumbering": true
 },
 "nbformat": 4,
 "nbformat_minor": 4
}
