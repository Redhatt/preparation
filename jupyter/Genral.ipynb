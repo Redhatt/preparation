{
 "cells": [
  {
   "cell_type": "code",
   "execution_count": 1,
   "id": "deeaf4dc-5f46-4b1d-9a9c-d14441e3776d",
   "metadata": {},
   "outputs": [],
   "source": [
    "import random\n",
    "from collections import defaultdict, Counter, deque\n",
    "from heapq import heappush, heappop, heapify\n",
    "from arrayVisuals import render\n",
    "\n",
    "def randlist(n=5, low=0, high=10):\n",
    "    return random.sample(range(low, high), n)\n"
   ]
  },
  {
   "cell_type": "markdown",
   "id": "e84f8a32-fbe4-4f74-b372-1d7fe38fc70c",
   "metadata": {},
   "source": [
    "# Sub Array problems"
   ]
  },
  {
   "cell_type": "markdown",
   "id": "7ec09af4-b3c7-4d96-9bdb-9b0d76095698",
   "metadata": {},
   "source": [
    "## Count Subarray with Sum Equals K"
   ]
  },
  {
   "cell_type": "code",
   "execution_count": 2,
   "id": "f90ed757-e66d-4fec-9150-be7f50bb40d9",
   "metadata": {},
   "outputs": [
    {
     "name": "stdout",
     "output_type": "stream",
     "text": [
      "[1, 2, 3, 4, 5, 6, 7]\n",
      "2\n"
     ]
    }
   ],
   "source": [
    "def subarraySum(nums, k) -> int:\n",
    "    n= len(nums)\n",
    "    if n == 0: return 0\n",
    "    ans = 0\n",
    "    d = defaultdict(int)\n",
    "    d[0] = 1\n",
    "    ps = 0 # running presum\n",
    "    for i in nums:\n",
    "        ps += i\n",
    "        v = ps - k\n",
    "        ans += d[v]\n",
    "        d[ps] += 1\n",
    "\n",
    "    return ans\n",
    "\n",
    "\n",
    "lis = [1,2,3,4,5,6,7]\n",
    "print(lis)\n",
    "print(subarraySum(lis, 5))"
   ]
  },
  {
   "cell_type": "markdown",
   "id": "5a198c81-335d-4d3d-be85-81657d07db8c",
   "metadata": {},
   "source": [
    "## Subarray Sums Divisible by K"
   ]
  },
  {
   "cell_type": "code",
   "execution_count": 3,
   "id": "1cfa8e50-2062-421f-b15d-58e12b1f08bc",
   "metadata": {},
   "outputs": [
    {
     "name": "stdout",
     "output_type": "stream",
     "text": [
      "7\n"
     ]
    }
   ],
   "source": [
    "def subarraysDivByK(nums, k) -> int:\n",
    "    ps = ans = 0\n",
    "    d = defaultdict(int)\n",
    "    d[0] = 1\n",
    "    # get mods of presum array\n",
    "    for i in nums:\n",
    "        ps += i\n",
    "        d[ps%k] += 1\n",
    "\n",
    "    for i in d.values():\n",
    "        ans += i*(i-1)//2\n",
    "\n",
    "    return ans\n",
    "\n",
    "print(subarraysDivByK([4,5,0,-2,-3,1], 5))"
   ]
  },
  {
   "cell_type": "markdown",
   "id": "bee00d19-5939-4007-94db-29a64d2f0f90",
   "metadata": {},
   "source": [
    "## Possible to build Sub array of minimum size 2 such that its sum is multiple of k"
   ]
  },
  {
   "cell_type": "code",
   "execution_count": 4,
   "id": "f0d1c457-0075-4dd3-a53f-7cec620c9b05",
   "metadata": {},
   "outputs": [
    {
     "name": "stdout",
     "output_type": "stream",
     "text": [
      "True\n"
     ]
    }
   ],
   "source": [
    "def solve(nums, k):\n",
    "    ps = 0\n",
    "    d = {0: -1}\n",
    "    for i in range(len(nums)):\n",
    "        ps += nums[i]\n",
    "        v = ps%k\n",
    "        if v in d and i - d[v]>1: return True\n",
    "        if v not in d: d[v] = i\n",
    "    return False\n",
    "\n",
    "print(solve([23,2,4,6,7], 6))"
   ]
  },
  {
   "cell_type": "markdown",
   "id": "e44a53e6-adbc-4fe7-8133-70ba01332dc1",
   "metadata": {},
   "source": [
    "## count Sub array such that its sum is multiple of k"
   ]
  },
  {
   "cell_type": "code",
   "execution_count": 5,
   "id": "34ecc06c-fdd4-4656-b803-7292ea9315a5",
   "metadata": {},
   "outputs": [
    {
     "name": "stdout",
     "output_type": "stream",
     "text": [
      "4\n"
     ]
    }
   ],
   "source": [
    "def solve(nums, k):\n",
    "    ps = ans = 0\n",
    "    d = defaultdict(int)\n",
    "    d[0] = 1 # set 0\n",
    "    for i in range(len(nums)):\n",
    "        ps += nums[i]\n",
    "        v = ps%k\n",
    "        ans += d[v] # just add length\n",
    "        d[v] += 1\n",
    "    return ans\n",
    "\n",
    "print(solve([23,2,4,6,7], 6))"
   ]
  },
  {
   "cell_type": "markdown",
   "id": "e54eb8fd-b73b-4835-b6f1-6a7cc2c09b49",
   "metadata": {},
   "source": [
    "## Maximum Number of Non-Overlapping Subarrays With Sum Equals Target"
   ]
  },
  {
   "cell_type": "code",
   "execution_count": 6,
   "id": "635694d0-64a5-4e4c-abaf-588293259960",
   "metadata": {},
   "outputs": [
    {
     "name": "stdout",
     "output_type": "stream",
     "text": [
      "[1, 4, 2, 3, 6]\n",
      "2\n"
     ]
    }
   ],
   "source": [
    "def maxNonOverlapping(nums, target):\n",
    "    s = {0}\n",
    "    ans = total = 0\n",
    "\n",
    "    for i in nums:\n",
    "        total += i # running presum\n",
    "        v = total-target\n",
    "\n",
    "        if v in s:\n",
    "            ans += 1\n",
    "            total = 0 # since we got the answer and arrays cannot be overlapping\n",
    "            s = {0}   # reset the presum and set from this point\n",
    "        else:\n",
    "            s.add(total) # keep adding processed presum for future loook ups.\n",
    "\n",
    "    return ans\n",
    "\n",
    "lis = [1, 4, 2, 3, 6]\n",
    "print(lis)\n",
    "print(maxNonOverlapping(lis, 5))"
   ]
  },
  {
   "cell_type": "markdown",
   "id": "1d45f214-f982-4141-b112-65f3e0681078",
   "metadata": {},
   "source": [
    "## Count Sub arrays with minimum K different values\n",
    "\n",
    "Keep adding new element at every iteration and updating different elements.  \n",
    "while different elements are less than `0` keep removing element from behind until  \n",
    "we have k == 0.  \n",
    "finally add the length to answer.  \n",
    "[1,2,3] + [4]  \n",
    "we have already added the answer till `3`.  \n",
    "we only need to add for new element '`4`.  \n",
    "which is 1+3(1 for itself, 3 from previous ones) = 4\n"
   ]
  },
  {
   "cell_type": "code",
   "execution_count": 7,
   "id": "080df449-fd68-4fab-bbee-bed178e626a0",
   "metadata": {},
   "outputs": [
    {
     "name": "stdout",
     "output_type": "stream",
     "text": [
      "12\n"
     ]
    }
   ],
   "source": [
    "def AtMaxKdiff(A, k):\n",
    "    ans = i = 0\n",
    "    d = defaultdict(int)\n",
    "    \n",
    "    for j in range(len(A)):\n",
    "        # update unique character count\n",
    "        if d[A[j]] == 0: k-=1\n",
    "        d[A[j]] += 1\n",
    "\n",
    "        # popleft until unique character count is 0\n",
    "        while k<0:\n",
    "            d[A[i]] -= 1\n",
    "            if d[A[i]] == 0: k+=1\n",
    "            i+=1\n",
    "        ans += j-i+1\n",
    "    return ans\n",
    "\n",
    "arr = [1,2,1,2,3]\n",
    "print(AtMaxKdiff(arr, 2))"
   ]
  },
  {
   "cell_type": "markdown",
   "id": "3443a2d1-b8c9-4f3a-897e-beb324b9463b",
   "metadata": {},
   "source": [
    "## Count Sub arrays with exactly K different values\n",
    "\n",
    "`exactly(k) = atmost(k) - atmost(k-1)`"
   ]
  },
  {
   "cell_type": "code",
   "execution_count": 8,
   "id": "e6dd7c5a-7793-4826-b4d8-b1379cd701d1",
   "metadata": {},
   "outputs": [
    {
     "name": "stdout",
     "output_type": "stream",
     "text": [
      "7\n"
     ]
    }
   ],
   "source": [
    "def AtMaxKdiff(A, k):\n",
    "    ans = i = 0\n",
    "    d = defaultdict(int)\n",
    "    \n",
    "    for j in range(len(A)):\n",
    "        # update unique character count\n",
    "        if d[A[j]] == 0: k-=1\n",
    "        d[A[j]] += 1\n",
    "\n",
    "        # popleft until unique character count is 0\n",
    "        while k<0:\n",
    "            d[A[i]] -= 1\n",
    "            if d[A[i]] == 0: k+=1\n",
    "            i+=1\n",
    "        ans += j-i+1\n",
    "    return ans\n",
    "\n",
    "def exacltyK(lis, k):\n",
    "    return AtMaxKdiff(lis, k) - AtMaxKdiff(lis, k-1)\n",
    "\n",
    "arr = [1,2,1,2,3]\n",
    "print(exacltyK(arr, 2))"
   ]
  },
  {
   "cell_type": "markdown",
   "id": "d64185f8-91b3-42ce-af96-8098349cf3cd",
   "metadata": {},
   "source": [
    "## Shortest Subarray with Sum at Least K\n",
    "\n",
    "Given an integer array nums and an integer k, return the length of the shortest non-empty subarray of nums with a sum of at least k.  \n",
    "NOTE: k > 0"
   ]
  },
  {
   "cell_type": "markdown",
   "id": "2a4cf38d-2a7a-4dc9-8085-526c4972607a",
   "metadata": {},
   "source": [
    "**Intution**:  \n",
    "We need presum array to get any length sum in *O(1)*.  \n",
    "suppose presum = [9,12,2,5,6,15,20] and k = 6  \n",
    "we got the answer for 9 with simple iteration, its 15.  \n",
    "so if next element is greater than that its answer is surely after 15.  \n"
   ]
  },
  {
   "cell_type": "code",
   "execution_count": 9,
   "id": "b63c6626-88f3-4f0b-ac8d-1b3d15ca7667",
   "metadata": {},
   "outputs": [
    {
     "name": "stdout",
     "output_type": "stream",
     "text": [
      "7\n"
     ]
    }
   ],
   "source": [
    "def shortestSubarray(nums, k: int) -> int:\n",
    "    n = len(nums)\n",
    "    if n == 1: return 1*(nums[0]>=k)\n",
    "    ans = 1e10\n",
    "    ps = [0]\n",
    "    for i in nums: ps.append(ps[-1] + i)\n",
    "\n",
    "    q = deque()\n",
    "    for i, val in enumerate(ps):\n",
    "        # any value grater than current value is useless, \n",
    "        # since it will give -ve results so by removing it from here it won't be considered in future\n",
    "        while q and val <= ps[q[-1]]: q.pop()\n",
    "        while q and (val - ps[q[0]]) >= k:\n",
    "            ans = min(ans, i - q.popleft())\n",
    "        q.append(i)\n",
    "    return ans if ans != 1e10 else -1\n",
    "\n",
    "print(shortestSubarray([1,2,3,4,5,-1,-2,4,5,6], 20))"
   ]
  },
  {
   "cell_type": "code",
   "execution_count": 10,
   "id": "879e086d-b97c-4f59-b141-221bf15d95e3",
   "metadata": {},
   "outputs": [
    {
     "name": "stdout",
     "output_type": "stream",
     "text": [
      "6\n"
     ]
    }
   ],
   "source": [
    "# if only positive numbers simple 2 pointer\n",
    "def minSubArrayLen(target: int, nums) -> int:\n",
    "    n = len(nums)\n",
    "    ans = 1e10\n",
    "    ps = 0 \n",
    "    i = 0\n",
    "    for j in range(len(nums)):\n",
    "        ps += nums[j]\n",
    "        while ps>=target:\n",
    "            ps -= nums[i]\n",
    "            ans = min(ans, j-i+1)\n",
    "            i+=1\n",
    "    return ans if ans != 1e10 else 0\n",
    "\n",
    "print(minSubArrayLen(20, [1,2,3,4,5,1,2,4,5,6]))"
   ]
  },
  {
   "cell_type": "markdown",
   "id": "5d796781-5f74-4ed9-ba5e-e99f287ea5dd",
   "metadata": {},
   "source": [
    "## Subarray Product Less Than K\n",
    "\n",
    "Given an array of integers nums and an integer k, return the number of contiguous subarrays where the product of all the elements in the subarray is strictly less than k."
   ]
  },
  {
   "cell_type": "code",
   "execution_count": 11,
   "id": "a970fd03-de27-4580-9afb-2ef25ae01fef",
   "metadata": {},
   "outputs": [
    {
     "data": {
      "text/plain": [
       "8"
      ]
     },
     "execution_count": 11,
     "metadata": {},
     "output_type": "execute_result"
    }
   ],
   "source": [
    "def numSubarrayProductLessThanK(nums, k: int) -> int:\n",
    "    if k <= 1: return 0\n",
    "    ps = 1\n",
    "    ans = 0\n",
    "    j = 0\n",
    "    for i in range(len(nums)):\n",
    "        ps *= nums[i]\n",
    "        while ps>=k:\n",
    "            ps //= nums[j]\n",
    "            j+=1\n",
    "        ans += i-j+1\n",
    "    return ans\n",
    "    \n",
    "numSubarrayProductLessThanK([10,5,2,6], 100)"
   ]
  },
  {
   "cell_type": "markdown",
   "id": "9464b67c-9866-4802-b00d-5d61013f62a9",
   "metadata": {},
   "source": [
    "## [Number of Subarrays with Bounded Maximum](https://leetcode.com/problems/number-of-subarrays-with-bounded-maximum/)"
   ]
  },
  {
   "cell_type": "code",
   "execution_count": 12,
   "id": "78b37d78-9cd5-4cd3-b9b3-16e7caafd24c",
   "metadata": {},
   "outputs": [
    {
     "name": "stdout",
     "output_type": "stream",
     "text": [
      "7\n"
     ]
    }
   ],
   "source": [
    "def numSubarrayBoundedMax(nums, left: int, right: int) -> int:\n",
    "    n = len(nums)\n",
    "    rm = -1  # last index which is greater than right\n",
    "    last = 0 # last continous count of element less than left\n",
    "    ans = 0\n",
    "    nums.append(1e10) \n",
    "\n",
    "    for i in range(n+1):\n",
    "        # if num is less than left than these are this countinous sub arrays must not to be counted\n",
    "        if nums[i]<left:\n",
    "            last += 1\n",
    "        else:\n",
    "            # now the continous sub array samller than left has broken, so subtract this from ans\n",
    "            ans -= last*(last+1)//2\n",
    "            last = 0 # set last\n",
    "\n",
    "        # this num greater than right will not allow to make any sub array possible so reset from here and count \n",
    "        # total sub array possible before it.\n",
    "        if nums[i]>right:\n",
    "            v = (i-1) -(rm+1) + 1\n",
    "            ans += v*(v+1)//2\n",
    "            rm = i\n",
    "\n",
    "    return ans\n",
    "\n",
    "nums = [2,9,2,5,6]\n",
    "left = 2\n",
    "right = 8\n",
    "\n",
    "print(numSubarrayBoundedMax(nums, left, right))"
   ]
  },
  {
   "cell_type": "markdown",
   "id": "3be1dec9-fccc-40b6-a30a-212ab1fe2112",
   "metadata": {},
   "source": [
    "# Heap"
   ]
  },
  {
   "cell_type": "markdown",
   "id": "d176de10-c19d-4f90-bceb-4ce865da15a5",
   "metadata": {},
   "source": [
    "## Rain water traping 1D"
   ]
  },
  {
   "cell_type": "code",
   "execution_count": 13,
   "id": "e6d260d0-0d90-487f-a039-4816bebf7f26",
   "metadata": {},
   "outputs": [
    {
     "name": "stdout",
     "output_type": "stream",
     "text": [
      "\u001b[31m \u001b[0m  \u001b[32m \u001b[0m  \u001b[33m \u001b[0m  \u001b[34m \u001b[0m  \u001b[35m \u001b[0m  \u001b[36m \u001b[0m  \u001b[37m \u001b[0m  \n",
      "\u001b[31m \u001b[0m  \u001b[32m \u001b[0m  \u001b[33m \u001b[0m  \u001b[34m \u001b[0m  \u001b[35m \u001b[0m  \u001b[36m \u001b[0m  \u001b[37m \u001b[0m  \n",
      "\u001b[31m \u001b[0m  \u001b[32m \u001b[0m  \u001b[33m \u001b[0m  \u001b[34m▒\u001b[0m  \u001b[35m \u001b[0m  \u001b[36m \u001b[0m  \u001b[37m \u001b[0m  \n",
      "\u001b[31m \u001b[0m  \u001b[32m \u001b[0m  \u001b[33m \u001b[0m  \u001b[34m▒\u001b[0m  \u001b[35m \u001b[0m  \u001b[36m \u001b[0m  \u001b[37m \u001b[0m  \n",
      "\u001b[31m \u001b[0m  \u001b[32m \u001b[0m  \u001b[33m \u001b[0m  \u001b[34m▒\u001b[0m  \u001b[35m \u001b[0m  \u001b[36m▒\u001b[0m  \u001b[37m▒\u001b[0m  \n",
      "\u001b[31m \u001b[0m  \u001b[32m \u001b[0m  \u001b[33m \u001b[0m  \u001b[34m▒\u001b[0m  \u001b[35m \u001b[0m  \u001b[36m▒\u001b[0m  \u001b[37m▒\u001b[0m  \n",
      "\u001b[31m \u001b[0m  \u001b[32m \u001b[0m  \u001b[33m \u001b[0m  \u001b[34m▒\u001b[0m  \u001b[35m \u001b[0m  \u001b[36m▒\u001b[0m  \u001b[37m▒\u001b[0m  \n",
      "\u001b[31m \u001b[0m  \u001b[32m▒\u001b[0m  \u001b[33m \u001b[0m  \u001b[34m▒\u001b[0m  \u001b[35m▒\u001b[0m  \u001b[36m▒\u001b[0m  \u001b[37m▒\u001b[0m  \n",
      "\u001b[31m \u001b[0m  \u001b[32m▒\u001b[0m  \u001b[33m \u001b[0m  \u001b[34m▒\u001b[0m  \u001b[35m▒\u001b[0m  \u001b[36m▒\u001b[0m  \u001b[37m▒\u001b[0m  \n",
      "\u001b[31m \u001b[0m  \u001b[32m▒\u001b[0m  \u001b[33m \u001b[0m  \u001b[34m▒\u001b[0m  \u001b[35m▒\u001b[0m  \u001b[36m▒\u001b[0m  \u001b[37m▒\u001b[0m  \n",
      "\u001b[31m▒\u001b[0m  \u001b[32m▒\u001b[0m  \u001b[33m▒\u001b[0m  \u001b[34m▒\u001b[0m  \u001b[35m▒\u001b[0m  \u001b[36m▒\u001b[0m  \u001b[37m▒\u001b[0m  \n",
      "\u001b[31m▒\u001b[0m  \u001b[32m▒\u001b[0m  \u001b[33m▒\u001b[0m  \u001b[34m▒\u001b[0m  \u001b[35m▒\u001b[0m  \u001b[36m▒\u001b[0m  \u001b[37m▒\u001b[0m  \n",
      "6\n"
     ]
    }
   ],
   "source": [
    "def trap(height) -> int:\n",
    "        n = len(height)\n",
    "        if n == 0: return 0\n",
    "        left, right = [0]*n , [0]*n\n",
    "        m1 = m2 = 0\n",
    "        for i in range(n):\n",
    "            m1, m2 = max(m1, height[i]), max(m2, height[n-i-1])\n",
    "            left[i], right[n-i-1] = m1, m2\n",
    "        ans = 0\n",
    "        for i in range(n): ans += min(left[i], right[i])-height[i]\n",
    "        return ans\n",
    "    \n",
    "lis = [2, 5, 2, 10, 5, 8, 8]\n",
    "render(lis)\n",
    "print(trap(lis))"
   ]
  },
  {
   "cell_type": "markdown",
   "id": "acff6ca6-5082-4e20-aebd-ae47aa3758c5",
   "metadata": {},
   "source": [
    "## Rain water trapping 2D"
   ]
  },
  {
   "cell_type": "code",
   "execution_count": 14,
   "id": "3a124179-b392-44d4-baa2-bf7c71010e5d",
   "metadata": {},
   "outputs": [
    {
     "name": "stdout",
     "output_type": "stream",
     "text": [
      "4\n"
     ]
    }
   ],
   "source": [
    "def trapRainWater(lis) -> int:\n",
    "        heap = []\n",
    "        if (not lis) or (not lis[0]): return 0\n",
    "        n, m = len(lis), len(lis[0])\n",
    "        \n",
    "        # changing heightMap(lis) itself in visited\n",
    "        def valid(x,y): return (0<=x<n) and (0<=y<m)\n",
    "        moves = [(1, 0), (0, 1), (-1, 0), (0, -1)]\n",
    "        \n",
    "        for i in range(n):\n",
    "            heappush(heap, (lis[i][0], i, 0))\n",
    "            heappush(heap, (lis[i][m-1], i, m-1))\n",
    "            lis[i][0] = lis[i][m-1] = -1\n",
    "            \n",
    "        for j in range(m):\n",
    "            heappush(heap, (lis[0][j], 0, j))\n",
    "            heappush(heap, (lis[n-1][j], n-1, j))\n",
    "            lis[0][j] = lis[n-1][j] = -1\n",
    "        \n",
    "        level = ans = 0\n",
    "        while heap:\n",
    "            height, x, y = heappop(heap)\n",
    "            level = max(height, level)\n",
    "            \n",
    "            for u, v in moves:\n",
    "                a, b = x+u, y+v\n",
    "                if valid(a, b) and lis[a][b] != -1:\n",
    "                    heappush(heap, (lis[a][b], a, b))\n",
    "                    ans += max(0, level - lis[a][b])\n",
    "                    lis[a][b] = -1\n",
    "        \n",
    "        return ans\n",
    "    \n",
    "heightMap = [[1,4,3,1,3,2],\n",
    "             [3,2,1,3,2,4],\n",
    "             [2,3,3,2,3,1]]\n",
    "print(trapRainWater(heightMap))"
   ]
  },
  {
   "cell_type": "markdown",
   "id": "ddda9067-e551-44f5-b17d-61a818f0b1c1",
   "metadata": {},
   "source": [
    "## Sky line problem\n",
    "\n",
    "make a line, with these values, (position, start/end, height, id).  \n",
    "key is to sort it correctly!  \n",
    "There are three cases.\n",
    "\n",
    "<img src=\"https://assets.leetcode.com/uploads/2020/12/01/merged.jpg\" alt=\"drawing\" style=\"width:400px;\"/>  \n",
    "\n",
    "\n",
    "1. **paritial overlapping or completely inside buildings.**  \n",
    "    For this only hieght matters.\n",
    "2. **touching buildings.** \n",
    "    We can solve this by sorting wrt to start/end, we will process start first,  \n",
    "    and while appending to answer if at same location already value exist we will pop it and append new one.  \n",
    "3. **exact overlapping height maybe different.**  \n",
    "    in this case greater heights should come later if they are starting points,  \n",
    "    and smaller heights should come first if they are ending heights.  \n",
    "    This is because we pop existing height, if at same position and we need to pop smaller hieghts.\n",
    "    \n",
    "set is needed to keep track if building already processed."
   ]
  },
  {
   "cell_type": "code",
   "execution_count": 15,
   "id": "e9189283-1b3a-4329-a75a-469f709ada04",
   "metadata": {},
   "outputs": [
    {
     "name": "stdout",
     "output_type": "stream",
     "text": [
      "[(1, 3), (2, 0)]\n"
     ]
    },
    {
     "data": {
      "text/plain": [
       "[(2, 10), (3, 15), (7, 12), (12, 0), (15, 10), (20, 8), (24, 0)]"
      ]
     },
     "execution_count": 15,
     "metadata": {},
     "output_type": "execute_result"
    }
   ],
   "source": [
    "def getSkyline(buildings):\n",
    "    line = sorted([(l, -h, 0, i) for i, (l, _, h) in enumerate(buildings)] + \n",
    "                  [(r, -h, 1, i) for i, (_, r, h) in enumerate(buildings)])\n",
    "                    # height must be greater, because we will be later popping height at same position\n",
    "                    # first get start because at same position we can have two heights and if ending is before\n",
    "                    # any starting we will miss that starting height at same position.\n",
    "    heap = []\n",
    "    ans = []\n",
    "    last = (-1, 0)\n",
    "    inside = set()\n",
    "\n",
    "    for x, h, s, i in line:\n",
    "        if s == 0: \n",
    "            heappush(heap, (h, x, i))\n",
    "            inside.add(i)\n",
    "        else: inside.discard(i)\n",
    "\n",
    "        while heap and heap[0][-1] not in inside: heappop(heap)\n",
    "        if heap and last[1] == -heap[0][0]: continue\n",
    "        if not heap: last = (x, 0)\n",
    "        else: last = (x, -heap[0][0])\n",
    "        if ans and ans[-1][0] == last[0]: ans.pop()\n",
    "        ans.append(last)\n",
    "\n",
    "    return ans\n",
    "            \n",
    "print(getSkyline([[1,2,1],[1,2,2],[1,2,3]]))\n",
    "getSkyline([[2,9,10],[3,7,15],[5,12,12],[15,20,10],[19,24,8]])"
   ]
  },
  {
   "cell_type": "markdown",
   "id": "7c186c3b-1368-4847-b414-1d6f856836ce",
   "metadata": {},
   "source": [
    "## Perfect Rectangle\n",
    "\n",
    "<img src=\"https://assets.leetcode.com/uploads/2021/03/27/perectrec1-plane.jpg\" alt=\"drawing\" style=\"width:200px;\"/>  \n",
    "\n",
    "Given rectangle find out if They make a perfect rectangle.\n"
   ]
  },
  {
   "cell_type": "markdown",
   "id": "af9c79f4-e9c2-4272-83d7-3064d5b4516a",
   "metadata": {},
   "source": [
    "A bigger complete rectangle will have only 4 corners.  \n",
    "For rectangles to not overlap area of smaller rectangle must sum up to bigger ones area.  "
   ]
  },
  {
   "cell_type": "code",
   "execution_count": 16,
   "id": "d7265456-e574-4672-aa95-2413436db03a",
   "metadata": {},
   "outputs": [
    {
     "data": {
      "text/plain": [
       "True"
      ]
     },
     "execution_count": 16,
     "metadata": {},
     "output_type": "execute_result"
    }
   ],
   "source": [
    "def isRectangleCover(rectangles) -> bool:\n",
    "    area = 0\n",
    "    a = lambda rec: (rec[2] - rec[0]) * (rec[3] - rec[1]) # area function\n",
    "    c = lambda r: {(r[0], r[1]), (r[0], r[3]), (r[2], r[3]), (r[2], r[1])} # corner function\n",
    "    corners = set()\n",
    "    for rec in rectangles:\n",
    "        area += a(rec) # get total area\n",
    "        corners ^= c(rec) # get (A union B) - (A intersection B), disolving common corners.\n",
    "    rec = [f(z) for f, z in zip((min, min, max, max), zip(*rectangles))] # making bigger rectangle\n",
    "    return area == a(rec) and corners == c(rec) # both condition must satisfy\n",
    "\n",
    "rectangles = [[1,1,3,3],[3,1,4,2],[3,2,4,4],[1,3,2,4],[2,3,3,4]]\n",
    "isRectangleCover(rectangles)"
   ]
  },
  {
   "cell_type": "markdown",
   "id": "14839e1b-541c-4d5c-8410-f0e45239c1b8",
   "metadata": {},
   "source": [
    "##  Rectangle Area II\n",
    "\n",
    "Find the total area covered by rectangles.\n",
    "\n",
    "<img src=\"https://s3-lc-upload.s3.amazonaws.com/uploads/2018/06/06/rectangle_area_ii_pic.png\" alt=\"drawing\" style=\"width:300px;\"/> "
   ]
  },
  {
   "cell_type": "markdown",
   "id": "902545ea-6270-4056-b62c-12a908ea49b7",
   "metadata": {},
   "source": [
    "sort the points for x axis.  \n",
    "get the points on the same x, and apply merge intervals to get total height in y axis.  "
   ]
  },
  {
   "cell_type": "code",
   "execution_count": 17,
   "id": "9935f951-96e5-472a-8064-5f2d5e37e8e8",
   "metadata": {},
   "outputs": [
    {
     "data": {
      "text/plain": [
       "6"
      ]
     },
     "execution_count": 17,
     "metadata": {},
     "output_type": "execute_result"
    }
   ],
   "source": [
    "def rectangleArea(rectangles) -> int:\n",
    "    # merge intervals\n",
    "    def getSize(s):\n",
    "        lis = sorted(s)\n",
    "        ans = []\n",
    "        for i in lis:\n",
    "            if ans and ans[-1][1]>=i[0]:\n",
    "                ans[-1][1] = max(i[1], ans[-1][1])\n",
    "            else:\n",
    "                ans.append(list(i))\n",
    "                \n",
    "        # getting total size after merging\n",
    "        size = 0\n",
    "        for i in ans:\n",
    "            size += abs(i[1] - i[0])\n",
    "        return size\n",
    "\n",
    "    line = []\n",
    "    for i, (x, y, a, b) in enumerate(rectangles):\n",
    "        line.append((x, 0, y, b, i))\n",
    "        line.append((a, 1, y, b, i))      \n",
    "    line.sort()\n",
    "\n",
    "    last = line[0][0]\n",
    "    s = set() # holding intervals\n",
    "    ans = 0\n",
    "    for x, f, b, t, i in line:\n",
    "        size = getSize(s)\n",
    "        ans += (x - last)*size\n",
    "        if f == 0: s.add((b, t, i)) # add or discard rectangles based on starting/ending a IDs.\n",
    "        else: s.discard((b, t, i))\n",
    "        last = x\n",
    "\n",
    "    return ans\n",
    "\n",
    "rectangles = [[0,0,2,2],[1,0,2,3],[1,0,3,1]]\n",
    "rectangleArea(rectangles)"
   ]
  },
  {
   "cell_type": "markdown",
   "id": "3c2082e0-5683-4268-82ad-631469eb13d0",
   "metadata": {},
   "source": [
    "## [Minimum Interval to Include Each Query](https://leetcode.com/problems/minimum-interval-to-include-each-query/)\n",
    "\n",
    "You are given a 2D integer array intervals, where intervals[i] = [lefti, righti] describes the ith interval starting at left and ending at right (inclusive). The size of an interval is defined as the number of integers it contains, or more formally righti - lefti + 1."
   ]
  },
  {
   "cell_type": "markdown",
   "id": "35cbc094-c00b-44b3-8891-5a4ab9e626cb",
   "metadata": {},
   "source": [
    "Brute force approach will be to got through al intervals for each qeurry and get the answer.  \n",
    "But we can use sorting since its an offline querry.  \n",
    "after sorting the queries we all readly knows that intervals ending early will now never come in use again.  \n",
    "We only need to iterate over intervals with possible intervals.  "
   ]
  },
  {
   "cell_type": "code",
   "execution_count": 18,
   "id": "e2f8348d-0f37-45c3-b7a4-03b79ee58cb4",
   "metadata": {},
   "outputs": [
    {
     "data": {
      "text/plain": [
       "[3, 3, 1, 4]"
      ]
     },
     "execution_count": 18,
     "metadata": {},
     "output_type": "execute_result"
    }
   ],
   "source": [
    "def minInterval(intervals, queries):\n",
    "    n, m = len(intervals), len(queries)\n",
    "    intervals.sort() # sort intervals based on starting points\n",
    "    heap = []\n",
    "    q = sorted((queries[i], i) for i in range(m)) # sort the queries and store its indexs\n",
    "    ans = [-1]*m  \n",
    "    x = 0\n",
    "    for pos, index in q:\n",
    "        # get all intervals in heap(by size of interval) which have starting less than current pos.\n",
    "        while x<n and intervals[x][0]<=pos:\n",
    "            a, b = intervals[x]\n",
    "            heappush(heap, (b-a+1, b))\n",
    "            x+=1\n",
    "            \n",
    "        # pop all index which ends early.\n",
    "        while heap and heap[0][1]<pos: heappop(heap)\n",
    "        \n",
    "        if heap: ans[index] = heap[0][0]\n",
    "    return ans\n",
    "\n",
    "intervals = [[1,4],[2,4],[3,6],[4,4]]\n",
    "queries = [2,3,4,5]\n",
    "\n",
    "minInterval(intervals, queries)"
   ]
  },
  {
   "cell_type": "markdown",
   "id": "cd51bd4e-f0d2-4b55-a8ce-3f19180cdfb7",
   "metadata": {},
   "source": [
    "## Running Median\n",
    "\n",
    "keep length tracking.  \n",
    "suppose \n",
    "```\n",
    "[1,2,3], [4,5] is current situation. so after adding number, right heap must get bigger, \n",
    "therefore push first in left, then get max from left and push it to right.\n",
    "similarly for even\n",
    "```"
   ]
  },
  {
   "cell_type": "code",
   "execution_count": 19,
   "id": "5afc51a5-c059-496d-b92c-22fae3721875",
   "metadata": {},
   "outputs": [
    {
     "name": "stdout",
     "output_type": "stream",
     "text": [
      "[7, 3, 9, 4, 6]\n",
      "[7, 5.0, 7, 5.5, 6]\n"
     ]
    }
   ],
   "source": [
    "class MedianFinder:\n",
    "\n",
    "    def __init__(self):\n",
    "        self.right = []\n",
    "        self.left =  []\n",
    "        self.curlen = 0\n",
    "\n",
    "    def addNum(self, num: int) -> None:\n",
    "        if self.curlen&1: \n",
    "            heappush(self.left, -num)\n",
    "            heappush(self.right, -heappop(self.left))\n",
    "        else: \n",
    "            heappush(self.right, num)\n",
    "            heappush(self.left, -heappop(self.right))\n",
    "        self.curlen += 1\n",
    "\n",
    "    def findMedian(self) -> float:\n",
    "        if self.curlen&1: return -self.left[0]\n",
    "        else: return (self.right[0] - self.left[0])/2\n",
    "\n",
    "fm = MedianFinder()\n",
    "lis = randlist()\n",
    "ans = []\n",
    "for i in lis:\n",
    "    fm.addNum(i)\n",
    "    ans.append(fm.findMedian())\n",
    "print(lis)\n",
    "print(ans)"
   ]
  },
  {
   "cell_type": "markdown",
   "id": "00cd48c9-b828-452a-a1ee-368f6f18efed",
   "metadata": {},
   "source": [
    "## Sliding window Median "
   ]
  },
  {
   "cell_type": "code",
   "execution_count": 4,
   "id": "b6aa1836-6554-45fa-af6a-112c54a5d613",
   "metadata": {},
   "outputs": [
    {
     "name": "stdout",
     "output_type": "stream",
     "text": [
      "[1, -1, -1, 3, 5, 6]\n",
      "[1, 1, 1, 1, 1, 1]\n"
     ]
    }
   ],
   "source": [
    "from bisect import *\n",
    "from heapq import *\n",
    "\n",
    "def medianSlidingWindow(nums, k: int):\n",
    "    lis = sorted(nums[i] for i in range(k))\n",
    "    n = len(nums)\n",
    "\n",
    "    def getmid():\n",
    "        if k&1: return lis[k//2]\n",
    "        else: return (lis[k//2] + lis[(k-1)//2])*0.5\n",
    "\n",
    "    ans = [getmid()]\n",
    "\n",
    "    for i in range(k, n):\n",
    "        lis.pop(bisect_left(lis, nums[i-k]))\n",
    "        insort(lis, nums[i])\n",
    "        ans.append(getmid())\n",
    "\n",
    "    return ans\n",
    "\n",
    "def newMid(nums, k):\n",
    "    n = len(nums)\n",
    "    maxheap, minheap = [], []\n",
    "    remove1, remove2 = set(), set()\n",
    "    l, r = k//2, k//2 + (1 if k&1 else 0)\n",
    "    \n",
    "    def getmid():\n",
    "        if k&1: return minheap[0][0]\n",
    "        else: return (minheap[0][0] - maxheap[0][0])/2\n",
    "        \n",
    "    for i in range(k):\n",
    "        heappush(maxheap, (-nums[i], i))\n",
    "    \n",
    "    for i in range(r):\n",
    "        val, index = heappop(maxheap)\n",
    "        heappush(minheap, (-val, index))\n",
    "    \n",
    "    ans = [getmid()]\n",
    "    for i in range(k, n):\n",
    "        remove1.add(i-k)\n",
    "        remove2.add(i-k+l)\n",
    "        \n",
    "        while maxheap and maxheap[0][1] in remove1:\n",
    "            heappop(maxheap)\n",
    "        \n",
    "        while minheap and minheap[0][1] in remove2:\n",
    "            heappop(minheap)\n",
    "        \n",
    "        heappush(maxheap, (-nums[i], i))\n",
    "        heappush(maxheap, (-nums[i-k+l], i-k+l))\n",
    "        \n",
    "        val, index = heappop(maxheap)\n",
    "        heappush(minheap, (-val, index))\n",
    "        \n",
    "        ans.append(getmid())\n",
    "        \n",
    "    return ans\n",
    "    \n",
    "nums = [1,3,-1,-3,5,3,6,7]\n",
    "k = 3\n",
    "print(medianSlidingWindow(nums, k))\n",
    "print(newMid(nums, k))"
   ]
  },
  {
   "cell_type": "markdown",
   "id": "6872878c-9694-4dd9-b252-5f2fb92bd51f",
   "metadata": {
    "tags": []
   },
   "source": [
    "# Bit Manupilation"
   ]
  },
  {
   "cell_type": "markdown",
   "id": "5be4922c-aec3-46bb-8dfe-a21e2fc69533",
   "metadata": {
    "tags": []
   },
   "source": [
    "## [Bit sum](https://binarysearch.com/problems/Bit-Sum)\n",
    "\n",
    "You are given a list of integers nums and an integer k. You must perform this operation k times:\n",
    "Choose any number on the list. In the binary representation of the number, choose a bit that is 0 and make it 1.\n",
    "Return the minimum possible sum of all the numbers (mod 10 ** 9 + 7) after performing k operations."
   ]
  },
  {
   "cell_type": "markdown",
   "id": "86a44339-8a6b-4ed9-bee6-1837d4c9b7e3",
   "metadata": {},
   "source": [
    "So make a table, and keed track of all numbers which its $x_{th}$ bit to zero."
   ]
  },
  {
   "cell_type": "code",
   "execution_count": 21,
   "id": "8c516886-8cad-4f29-bc40-1ff5a8d01f51",
   "metadata": {},
   "outputs": [
    {
     "name": "stdout",
     "output_type": "stream",
     "text": [
      "[4, 8, 5, 1, 9]\n",
      "33\n"
     ]
    }
   ],
   "source": [
    "def solve(nums, k):\n",
    "    limit = 33\n",
    "    table = [0]*limit\n",
    "    mod = int(1e9) + 7 \n",
    "    for i in reversed(range(limit)):\n",
    "        for x in nums:\n",
    "            if x&(1<<i) == 0: table[i] += 1\n",
    "                \n",
    "    # table will be like this: [0, 0, 1, 2, 5, 3, ....]\n",
    "    #--------------------------MSB------------------LSB\n",
    "\n",
    "    ans = sum(nums)\n",
    "\n",
    "    i = 0\n",
    "    # first add bits starting from LSB\n",
    "    while k>0 and i<limit:\n",
    "        left = min(k, table[i])\n",
    "        ans += left*(2**i)\n",
    "        k -= left\n",
    "        i += 1\n",
    "\n",
    "    return ans%mod\n",
    "\n",
    "lis = randlist()\n",
    "print(lis)\n",
    "print(solve(lis, 4))"
   ]
  },
  {
   "cell_type": "markdown",
   "id": "d37d602b-64d2-4404-abd0-2c3b94d1d92b",
   "metadata": {},
   "source": [
    "# Trie"
   ]
  },
  {
   "cell_type": "markdown",
   "id": "477fc561-e5c1-4de2-9012-27bcf6c0e9a3",
   "metadata": {},
   "source": [
    "## Word Search II\n",
    "\n",
    "Given an m x n board of characters and a list of strings words, return all words on the board.  \n",
    "<img src=\"https://assets.leetcode.com/uploads/2020/11/07/search1.jpg\" alt=\"drawing\" style=\"width:200px;\"/>  \n",
    "```\n",
    "words = [\"oath\",\"pea\",\"eat\",\"rain\"]  \n",
    "Output: [\"eat\",\"oath\"]\n",
    "```"
   ]
  },
  {
   "cell_type": "markdown",
   "id": "5d8a4957-7b6f-466f-9a02-125352704d8b",
   "metadata": {},
   "source": [
    "We will go through all combination using backtracking and while doing so, we will keep mathcing prefix until word found.  \n",
    "Trie is used to match prefix efficeintly."
   ]
  },
  {
   "cell_type": "code",
   "execution_count": 22,
   "id": "b9dee7b0-44ef-40be-9aa0-1db557705813",
   "metadata": {},
   "outputs": [
    {
     "data": {
      "text/plain": [
       "['oath', 'eat']"
      ]
     },
     "execution_count": 22,
     "metadata": {},
     "output_type": "execute_result"
    }
   ],
   "source": [
    "# better way to making a trie, or just use nested dictionary of python.\n",
    "class TrieNode:\n",
    "    def __init__(self):\n",
    "        self.children = defaultdict(TrieNode)\n",
    "        self.word = None\n",
    "\n",
    "    def addWord(self, word):\n",
    "        cur = self\n",
    "        for c in word:\n",
    "            cur = cur.children[c]\n",
    "        cur.word = word\n",
    "\n",
    "def findWords(board, words):\n",
    "    m, n = len(board), len(board[0])\n",
    "    DIR = [0, 1, 0, -1, 0]\n",
    "    trieNode = TrieNode()\n",
    "    ans = []\n",
    "    for word in words:\n",
    "        trieNode.addWord(word)\n",
    "\n",
    "    def dfs(r, c, cur, depth=0):\n",
    "        if depth>=10: return \n",
    "        if r < 0 or r == m or c < 0 or c == n or board[r][c] not in cur.children: return\n",
    "        orgChar = board[r][c]\n",
    "        cur = cur.children[orgChar]\n",
    "        board[r][c] = '#'  # Mark as visited\n",
    "        if cur.word != None:\n",
    "            ans.append(cur.word)\n",
    "            cur.word = None  # Avoid duplication!\n",
    "        for i in range(4): dfs(r + DIR[i], c + DIR[i + 1], cur, depth+1)\n",
    "        board[r][c] = orgChar  # Restore to org state\n",
    "\n",
    "    for r in range(m):\n",
    "        for c in range(n):\n",
    "            dfs(r, c, trieNode)\n",
    "    return ans\n",
    "    \n",
    "b = [[\"o\",\"a\",\"a\",\"n\"],[\"e\",\"t\",\"a\",\"e\"],[\"i\",\"h\",\"k\",\"r\"],[\"i\",\"f\",\"l\",\"v\"]]\n",
    "w = [\"oath\",\"pea\",\"eat\",\"rain\"]\n",
    "findWords(b, w)"
   ]
  },
  {
   "cell_type": "markdown",
   "id": "c63eea8e-63e6-46d9-987a-94844aba1de4",
   "metadata": {},
   "source": [
    "## [Word Ladder I](https://leetcode.com/problems/word-ladder/) and [Word Ladder II](https://leetcode.com/problems/word-ladder-ii/submissions/)"
   ]
  },
  {
   "cell_type": "code",
   "execution_count": 23,
   "id": "21abf2de-bcb5-4c0e-8db9-4c6f931ec280",
   "metadata": {},
   "outputs": [
    {
     "name": "stdout",
     "output_type": "stream",
     "text": [
      "['hit', 'hot', 'dot', 'dog', 'cog'] ['hit', 'hot', 'lot', 'log', 'cog']\n"
     ]
    }
   ],
   "source": [
    "def ladderLength(beginWord: str, endWord: str, wordList: list) -> int:\n",
    "    from collections import deque\n",
    "    \n",
    "    wordList.append(beginWord)\n",
    "    if endWord not in wordList: return []\n",
    "\n",
    "    n = len(wordList)\n",
    "    root = {}\n",
    "    dis = {w: float('inf') for w in wordList}\n",
    "    par = {w: [] for w in wordList}\n",
    "\n",
    "    def addword(root: dict, word: str):\n",
    "        cur = root\n",
    "        for i in word:\n",
    "            if i not in cur: cur[i] = {}\n",
    "            cur = cur[i]\n",
    "        cur['#'] = word\n",
    "\n",
    "    def graph(node: str, root: dict):\n",
    "        lis = []\n",
    "        search(root, node, lis, d=1)\n",
    "        return lis\n",
    "\n",
    "    def search(root: dict, word: str, lis: list, d:int = 1):\n",
    "        if word == \"\":\n",
    "            if '#' in root and d == 0: lis.append(root['#'])\n",
    "            return \n",
    "\n",
    "        if d == 0:\n",
    "            if word[0] not in root: return \n",
    "            search(root[word[0]], word[1:], lis, d)\n",
    "        else:\n",
    "            for i in root:\n",
    "                if i != word[0]: search(root[i], word[1:], lis, 0)\n",
    "                else: search(root[i], word[1:], lis, 1)\n",
    "\n",
    "    for w in wordList: addword(root, w)        \n",
    "    q = deque([(beginWord, 0)])\n",
    "    dis[beginWord] = 0\n",
    "\n",
    "    while q:\n",
    "        node, d = q.popleft()\n",
    "        for nbr in graph(node, root): # on demand builds graph\n",
    "            if dis[nbr]>dis[node]+1:\n",
    "                dis[nbr] = dis[node]+1\n",
    "                par[nbr].append(node)\n",
    "                q.append((nbr, dis[nbr]))\n",
    "            elif dis[nbr] == dis[node] + 1:\n",
    "                par[nbr].append(node)\n",
    "\n",
    "    def dfs(node, ans, path=[]):\n",
    "        path.append(node)\n",
    "        if node == beginWord:\n",
    "            ans.append(path[:][::-1])\n",
    "        else:\n",
    "            for p in par[node]: dfs(p, ans, path)\n",
    "        path.pop()\n",
    "\n",
    "    ans = []\n",
    "    path = []\n",
    "    dfs(endWord, ans, path)\n",
    "    return ans\n",
    "\n",
    "start = \"hit\"\n",
    "end   = \"cog\"\n",
    "wordList = [\"hot\",\"dot\",\"dog\",\"lot\",\"log\", \"cog\"]\n",
    "print(*ladderLength(start, end, wordList))"
   ]
  },
  {
   "cell_type": "markdown",
   "id": "dae56704-6f2b-4f8b-9c38-b4b42e9ac1f3",
   "metadata": {},
   "source": [
    "# Array"
   ]
  },
  {
   "cell_type": "markdown",
   "id": "762a3913-fad3-4fc8-a0ba-f396b269ac20",
   "metadata": {},
   "source": [
    "## First missing positive integer"
   ]
  },
  {
   "cell_type": "code",
   "execution_count": 24,
   "id": "c3de61ac-9ddf-46d5-8341-c05a889872b9",
   "metadata": {},
   "outputs": [
    {
     "name": "stdout",
     "output_type": "stream",
     "text": [
      "3\n"
     ]
    }
   ],
   "source": [
    "def firstMissingPositive(nums) -> int:\n",
    "    nums.append(0)\n",
    "    n = len(nums)\n",
    "    for i in range(n):\n",
    "        if nums[i]<0 or nums[i]>=n:\n",
    "            nums[i] = 0\n",
    "\n",
    "    for i in range(n):\n",
    "        nums[nums[i]%n] += n\n",
    "\n",
    "    for i in range(n):\n",
    "        if nums[i]//n == 0:\n",
    "            return i\n",
    "\n",
    "    return n\n",
    "\n",
    "print(firstMissingPositive([1,2,0]))"
   ]
  },
  {
   "cell_type": "markdown",
   "id": "d61251bd-e89a-47fb-ad57-9a48f9ff89d2",
   "metadata": {},
   "source": [
    "## Boyer-Moore Majority Vote algorithm and my elaboration"
   ]
  },
  {
   "cell_type": "code",
   "execution_count": 25,
   "id": "fe21d2ff-2193-4aee-a874-9a37d1a0e728",
   "metadata": {},
   "outputs": [
    {
     "data": {
      "text/plain": [
       "1"
      ]
     },
     "execution_count": 25,
     "metadata": {},
     "output_type": "execute_result"
    }
   ],
   "source": [
    "# for N/2\n",
    "\n",
    "def solve(lis):\n",
    "    element, count = 0, 0\n",
    "    for i in lis:\n",
    "        if element == i: count += 1\n",
    "        elif count == 0: element, count = i, 1\n",
    "        else: count -= 1\n",
    "    return element\n",
    "\n",
    "solve([1,2,3,4,1,2,3,4,1,1,1,1,1])"
   ]
  },
  {
   "cell_type": "code",
   "execution_count": 26,
   "id": "b4580875-8ac4-49be-8533-02282445bdc2",
   "metadata": {},
   "outputs": [
    {
     "data": {
      "text/plain": [
       "[1, 2]"
      ]
     },
     "execution_count": 26,
     "metadata": {},
     "output_type": "execute_result"
    }
   ],
   "source": [
    "# for N/3 \n",
    "\n",
    "def solve(lis):\n",
    "    element1, element2 = 0, 0 # put anything doesn't matter\n",
    "    count1, count2 = 0, 0\n",
    "    \n",
    "    for i in lis:\n",
    "        if element1 == i: count1 += 1\n",
    "        elif element2 == i: count2 += 1\n",
    "        elif count1 == 0: element1, count1 = i, 0\n",
    "        elif count2 == 0: element2, count2 = i, 0  \n",
    "        else: count1, count2 = count1 - 1, count2 - 1\n",
    "    \n",
    "    return [i for i in (element1, element2) if lis.count(i) > len(lis)//3]\n",
    "\n",
    "solve([1,1,1,1,2,2,2,4,5,6,2])"
   ]
  },
  {
   "cell_type": "markdown",
   "id": "2d4370a5-99ad-4b91-92f4-30857ce269be",
   "metadata": {},
   "source": [
    "## Sum of two/three element equals target"
   ]
  },
  {
   "cell_type": "code",
   "execution_count": 27,
   "id": "d3c9320b-009d-49c0-833f-a42290bb3e43",
   "metadata": {},
   "outputs": [],
   "source": [
    "# 1 sort the array, and then low and high pointer, or map \n",
    "\n",
    "def sum2(lis, k):\n",
    "    n = len(lis)\n",
    "    if n<2: return False\n",
    "    lis.sort()\n",
    "    low, high = 0, n-1\n",
    "    while low<high:\n",
    "        if lis[low] + lis[high]>k:\n",
    "            high -= 1\n",
    "        elif lis[low] + lis[high]<k:\n",
    "            high += 1\n",
    "        else:\n",
    "            return True\n",
    "    \n",
    "# choose a starting after that the problem has become to find sum2 in array. -> O(N*N)\n",
    "# choose high, low, and find target in between them, -> O(NlogN))\n",
    "\n",
    "\n",
    "def sum3(nums, k):\n",
    "    nums.sort()\n",
    "    n = len(nums)\n",
    "    if n < 3: return False\n",
    "\n",
    "    low, high = 0, n-1\n",
    "\n",
    "    while low<high:\n",
    "        v = nums[low] + nums[high]\n",
    "        if v>=k: high-=1\n",
    "        else:\n",
    "            target = k - v\n",
    "            index = bisect_left(nums, target, low+1, high-1)\n",
    "            if low<index<high and nums[index] == target:\n",
    "                return True\n",
    "            low+=1\n",
    "\n",
    "    return False"
   ]
  },
  {
   "cell_type": "markdown",
   "id": "0d627ef3-ccd2-4f78-9089-8c58980a5316",
   "metadata": {},
   "source": [
    "## Distribute Candy"
   ]
  },
  {
   "cell_type": "code",
   "execution_count": 28,
   "id": "a5906953-ecfa-40ac-b45d-d33dc8ab093c",
   "metadata": {},
   "outputs": [
    {
     "name": "stdout",
     "output_type": "stream",
     "text": [
      "7\n"
     ]
    }
   ],
   "source": [
    "def candy(A):\n",
    "    n = len(A)\n",
    "\n",
    "    # left right technique\n",
    "    def ss(lis):\n",
    "        left = [1]*n\n",
    "        for i in range(1, n):\n",
    "            if lis[i]>lis[i-1]:\n",
    "                left[i] = left[i-1] + 1\n",
    "        return left\n",
    "\n",
    "    return sum(max(l, r) for l, r in zip(ss(A), ss(A[::-1])[::-1]))\n",
    "\n",
    "A = [1, 5, 2, 1]\n",
    "print(candy(A))"
   ]
  },
  {
   "cell_type": "markdown",
   "id": "bb359db5-030d-4942-8408-c412621546f4",
   "metadata": {},
   "source": [
    "# Binary Search"
   ]
  },
  {
   "cell_type": "markdown",
   "id": "350dc505-55c0-4c3c-be1f-abfd1e5396ca",
   "metadata": {},
   "source": [
    "## Painter's partition "
   ]
  },
  {
   "cell_type": "code",
   "execution_count": 29,
   "id": "5c121e94-e646-4bdb-8bd2-2db71071854b",
   "metadata": {},
   "outputs": [
    {
     "name": "stdout",
     "output_type": "stream",
     "text": [
      "60\n"
     ]
    }
   ],
   "source": [
    "# add painter's partition\n",
    "arr = [10, 20, 30, 40]\n",
    "n = len(arr)\n",
    "k = 2\n",
    "\n",
    "def getit(m):\n",
    "    no = 1\n",
    "    total = 0\n",
    "    for i in arr:\n",
    "        total += i\n",
    "        if total > m:\n",
    "            total = i\n",
    "            no += 1\n",
    "    return no\n",
    "\n",
    "low, high = max(arr), sum(arr)\n",
    "while low < high:\n",
    "    mid = (high+low)//2\n",
    "    res = getit(mid)\n",
    "    if res<=k: high = mid\n",
    "    else: low = mid + 1\n",
    "print(low)"
   ]
  },
  {
   "cell_type": "markdown",
   "id": "7e9e2551-e4da-4c1b-b439-f8a6c8a9c0fb",
   "metadata": {},
   "source": [
    "## [Find K-th Smallest Pair Distance](https://leetcode.com/problems/find-k-th-smallest-pair-distance/)\n",
    "\n",
    "\n",
    "The distance of a pair of integers a and b is defined as the absolute difference between a and b.\n",
    "\n",
    "Given an integer array nums and an integer k, return the kth smallest distance among all the pairs nums[i] and nums[j] where 0 <= i < j < nums.length."
   ]
  },
  {
   "cell_type": "code",
   "execution_count": 30,
   "id": "317db1f9-5d3d-4fe3-922f-557eb6fe6531",
   "metadata": {},
   "outputs": [],
   "source": [
    "def smallestDistancePair(nums, k: int) -> int:\n",
    "\n",
    "    n = len(nums)\n",
    "    nums.sort()\n",
    "\n",
    "    def how(v):\n",
    "        ans = 0\n",
    "        for i in range(n):\n",
    "            t = nums[i]-v\n",
    "            index = bisect_left(nums, t)\n",
    "            ans += (i-index)\n",
    "\n",
    "        return ans\n",
    "            # ------t-----i---------\n",
    "\n",
    "    low = 0\n",
    "    high = max(nums) - min(nums) + 1\n",
    "\n",
    "    while low<high:\n",
    "        mid = (low+high)//2\n",
    "        if how(mid)>=k:\n",
    "            high = mid\n",
    "        else:\n",
    "            low = mid+1\n",
    "\n",
    "    return low\n",
    "\n",
    "\n"
   ]
  },
  {
   "cell_type": "code",
   "execution_count": null,
   "id": "92940ea5-0458-4b2f-a647-15e9581b4372",
   "metadata": {},
   "outputs": [],
   "source": []
  }
 ],
 "metadata": {
  "kernelspec": {
   "display_name": "Python 3 (ipykernel)",
   "language": "python",
   "name": "python3"
  },
  "language_info": {
   "codemirror_mode": {
    "name": "ipython",
    "version": 3
   },
   "file_extension": ".py",
   "mimetype": "text/x-python",
   "name": "python",
   "nbconvert_exporter": "python",
   "pygments_lexer": "ipython3",
   "version": "3.10.0"
  },
  "toc-autonumbering": true,
  "toc-showcode": false,
  "toc-showmarkdowntxt": false,
  "toc-showtags": false
 },
 "nbformat": 4,
 "nbformat_minor": 5
}
