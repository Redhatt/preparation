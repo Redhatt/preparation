{
 "cells": [
  {
   "cell_type": "markdown",
   "id": "962c38d3-8b9a-4312-8bd0-6698a61360da",
   "metadata": {},
   "source": [
    "# Set"
   ]
  },
  {
   "cell_type": "code",
   "execution_count": 23,
   "id": "deeaf4dc-5f46-4b1d-9a9c-d14441e3776d",
   "metadata": {},
   "outputs": [],
   "source": [
    "import random\n",
    "from collections import defaultdict, Counter, deque\n",
    "from heapq import heappush, heappop, heapify\n",
    "from arrayVisuals import render\n",
    "\n",
    "def randlist(n=5, low=0, high=10):\n",
    "    return random.sample(range(low, high), n)\n"
   ]
  },
  {
   "cell_type": "markdown",
   "id": "7ec09af4-b3c7-4d96-9bdb-9b0d76095698",
   "metadata": {},
   "source": [
    "## Subarray Sum Equals K"
   ]
  },
  {
   "cell_type": "code",
   "execution_count": 24,
   "id": "f90ed757-e66d-4fec-9150-be7f50bb40d9",
   "metadata": {},
   "outputs": [
    {
     "name": "stdout",
     "output_type": "stream",
     "text": [
      "[4, 0, 8, 6, 5]\n",
      "1\n"
     ]
    }
   ],
   "source": [
    "def subarraySum(nums, k) -> int:\n",
    "    n= len(nums)\n",
    "    if n == 0: return 0\n",
    "    ps = [0]*(n+1)\n",
    "    for i in range(n): ps[i+1] = ps[i] + nums[i]\n",
    "    d = defaultdict(int)\n",
    "    ans = 0\n",
    "\n",
    "    for i in ps:\n",
    "        v = i - k\n",
    "        ans += d[v]\n",
    "        d[i] += 1\n",
    "\n",
    "    return ans\n",
    "\n",
    "lis = randlist()\n",
    "print(lis)\n",
    "print(subarraySum(lis, 5))"
   ]
  },
  {
   "cell_type": "markdown",
   "id": "e54eb8fd-b73b-4835-b6f1-6a7cc2c09b49",
   "metadata": {},
   "source": [
    "## Maximum Number of Non-Overlapping Subarrays With Sum Equals Target"
   ]
  },
  {
   "cell_type": "code",
   "execution_count": 25,
   "id": "635694d0-64a5-4e4c-abaf-588293259960",
   "metadata": {},
   "outputs": [
    {
     "name": "stdout",
     "output_type": "stream",
     "text": [
      "[1, 4, 2, 3, 6]\n",
      "2\n"
     ]
    }
   ],
   "source": [
    "def maxNonOverlapping(nums, target):\n",
    "    s = {0}\n",
    "    ans = total = 0\n",
    "\n",
    "    for i in nums:\n",
    "        total += i\n",
    "        v = total-target\n",
    "\n",
    "        if v in s:\n",
    "            s = {0}\n",
    "            ans += 1\n",
    "            total = 0\n",
    "        else:\n",
    "            s.add(total)\n",
    "\n",
    "    return ans\n",
    "\n",
    "lis = [1, 4, 2, 3, 6]\n",
    "print(lis)\n",
    "print(maxNonOverlapping(lis, 5))"
   ]
  },
  {
   "cell_type": "markdown",
   "id": "1d45f214-f982-4141-b112-65f3e0681078",
   "metadata": {},
   "source": [
    "NOTE: Two Pointers on presum array can be used for non-negative integer values."
   ]
  },
  {
   "cell_type": "markdown",
   "id": "3be1dec9-fccc-40b6-a30a-212ab1fe2112",
   "metadata": {},
   "source": [
    "# Heap"
   ]
  },
  {
   "cell_type": "markdown",
   "id": "d176de10-c19d-4f90-bceb-4ce865da15a5",
   "metadata": {},
   "source": [
    "## Rain water traping 1D"
   ]
  },
  {
   "cell_type": "code",
   "execution_count": 26,
   "id": "e6d260d0-0d90-487f-a039-4816bebf7f26",
   "metadata": {},
   "outputs": [
    {
     "name": "stdout",
     "output_type": "stream",
     "text": [
      "\u001b[31m \u001b[0m  \u001b[32m \u001b[0m  \u001b[33m \u001b[0m  \u001b[34m \u001b[0m  \u001b[35m \u001b[0m  \n",
      "\u001b[31m \u001b[0m  \u001b[32m \u001b[0m  \u001b[33m \u001b[0m  \u001b[34m \u001b[0m  \u001b[35m \u001b[0m  \n",
      "\u001b[31m \u001b[0m  \u001b[32m▒\u001b[0m  \u001b[33m \u001b[0m  \u001b[34m \u001b[0m  \u001b[35m \u001b[0m  \n",
      "\u001b[31m \u001b[0m  \u001b[32m▒\u001b[0m  \u001b[33m \u001b[0m  \u001b[34m \u001b[0m  \u001b[35m \u001b[0m  \n",
      "\u001b[31m \u001b[0m  \u001b[32m▒\u001b[0m  \u001b[33m \u001b[0m  \u001b[34m▒\u001b[0m  \u001b[35m \u001b[0m  \n",
      "\u001b[31m \u001b[0m  \u001b[32m▒\u001b[0m  \u001b[33m \u001b[0m  \u001b[34m▒\u001b[0m  \u001b[35m▒\u001b[0m  \n",
      "\u001b[31m▒\u001b[0m  \u001b[32m▒\u001b[0m  \u001b[33m \u001b[0m  \u001b[34m▒\u001b[0m  \u001b[35m▒\u001b[0m  \n",
      "\u001b[31m▒\u001b[0m  \u001b[32m▒\u001b[0m  \u001b[33m \u001b[0m  \u001b[34m▒\u001b[0m  \u001b[35m▒\u001b[0m  \n",
      "\u001b[31m▒\u001b[0m  \u001b[32m▒\u001b[0m  \u001b[33m▒\u001b[0m  \u001b[34m▒\u001b[0m  \u001b[35m▒\u001b[0m  \n",
      "\u001b[31m▒\u001b[0m  \u001b[32m▒\u001b[0m  \u001b[33m▒\u001b[0m  \u001b[34m▒\u001b[0m  \u001b[35m▒\u001b[0m  \n",
      "\u001b[31m▒\u001b[0m  \u001b[32m▒\u001b[0m  \u001b[33m▒\u001b[0m  \u001b[34m▒\u001b[0m  \u001b[35m▒\u001b[0m  \n",
      "4\n"
     ]
    }
   ],
   "source": [
    "def trap(height) -> int:\n",
    "        n = len(height)\n",
    "        if n == 0: return 0\n",
    "        left, right = [0]*n , [0]*n\n",
    "        m1 = m2 = 0\n",
    "        for i in range(n):\n",
    "            m1, m2 = max(m1, height[i]), max(m2, height[n-i-1])\n",
    "            left[i], right[n-i-1] = m1, m2\n",
    "        ans = 0\n",
    "        for i in range(n): ans += min(left[i], right[i])-height[i]\n",
    "        return ans\n",
    "    \n",
    "lis = randlist()\n",
    "render(lis)\n",
    "print(trap(lis))"
   ]
  },
  {
   "cell_type": "markdown",
   "id": "acff6ca6-5082-4e20-aebd-ae47aa3758c5",
   "metadata": {},
   "source": [
    "## Rain water trapping 2D"
   ]
  },
  {
   "cell_type": "code",
   "execution_count": 27,
   "id": "3a124179-b392-44d4-baa2-bf7c71010e5d",
   "metadata": {},
   "outputs": [
    {
     "name": "stdout",
     "output_type": "stream",
     "text": [
      "4\n"
     ]
    }
   ],
   "source": [
    "def trapRainWater(lis) -> int:\n",
    "        heap = []\n",
    "        if (not lis) or (not lis[0]): return 0\n",
    "        n, m = len(lis), len(lis[0])\n",
    "        \n",
    "        # changing heightMap(lis) itself in visited\n",
    "        def valid(x,y): return (0<=x<n) and (0<=y<m)\n",
    "        moves = [(1, 0), (0, 1), (-1, 0), (0, -1)]\n",
    "        \n",
    "        for i in range(n):\n",
    "            heappush(heap, (lis[i][0], i, 0))\n",
    "            heappush(heap, (lis[i][m-1], i, m-1))\n",
    "            lis[i][0] = lis[i][m-1] = -1\n",
    "            \n",
    "        for j in range(m):\n",
    "            heappush(heap, (lis[0][j], 0, j))\n",
    "            heappush(heap, (lis[n-1][j], n-1, j))\n",
    "            lis[0][j] = lis[n-1][j] = -1\n",
    "        \n",
    "        level = ans = 0\n",
    "        while heap:\n",
    "            height, x, y = heappop(heap)\n",
    "            level = max(height, level)\n",
    "            \n",
    "            for u, v in moves:\n",
    "                a, b = x+u, y+v\n",
    "                if valid(a, b) and lis[a][b] != -1:\n",
    "                    heappush(heap, (lis[a][b], a, b))\n",
    "                    ans += max(0, level - lis[a][b])\n",
    "                    lis[a][b] = -1\n",
    "        \n",
    "        return ans\n",
    "    \n",
    "heightMap = [[1,4,3,1,3,2],\n",
    "             [3,2,1,3,2,4],\n",
    "             [2,3,3,2,3,1]]\n",
    "print(trapRainWater(heightMap))"
   ]
  },
  {
   "cell_type": "markdown",
   "id": "6872878c-9694-4dd9-b252-5f2fb92bd51f",
   "metadata": {},
   "source": [
    "# Bit Manupilation"
   ]
  },
  {
   "cell_type": "markdown",
   "id": "5be4922c-aec3-46bb-8dfe-a21e2fc69533",
   "metadata": {},
   "source": [
    "[Problem Link](https://binarysearch.com/problems/Bit-Sum)"
   ]
  },
  {
   "cell_type": "code",
   "execution_count": 31,
   "id": "8c516886-8cad-4f29-bc40-1ff5a8d01f51",
   "metadata": {},
   "outputs": [
    {
     "name": "stdout",
     "output_type": "stream",
     "text": [
      "[1, 3, 9, 6, 7]\n",
      "35\n"
     ]
    }
   ],
   "source": [
    "def solve(nums, k):\n",
    "    limit = 33\n",
    "    table = [0]*limit\n",
    "    mod = int(1e9) + 7 \n",
    "    for i in reversed(range(limit)):\n",
    "        for x in nums:\n",
    "            if x&(1<<i) == 0: table[i] += 1\n",
    "\n",
    "    ans = sum(nums)\n",
    "\n",
    "    i = 0\n",
    "    while k>0 and i<limit:\n",
    "        left = min(k, table[i])\n",
    "        ans += left*(2**i)\n",
    "        k -= left\n",
    "        i += 1\n",
    "\n",
    "    return ans%mod\n",
    "\n",
    "lis = randlist()\n",
    "print(lis)\n",
    "print(solve(lis, 4))"
   ]
  },
  {
   "cell_type": "code",
   "execution_count": null,
   "id": "8a6a4db8-c02b-4778-b03c-6c9782534f19",
   "metadata": {},
   "outputs": [],
   "source": []
  }
 ],
 "metadata": {
  "kernelspec": {
   "display_name": "Python 3 (ipykernel)",
   "language": "python",
   "name": "python3"
  },
  "language_info": {
   "codemirror_mode": {
    "name": "ipython",
    "version": 3
   },
   "file_extension": ".py",
   "mimetype": "text/x-python",
   "name": "python",
   "nbconvert_exporter": "python",
   "pygments_lexer": "ipython3",
   "version": "3.10.0"
  }
 },
 "nbformat": 4,
 "nbformat_minor": 5
}
