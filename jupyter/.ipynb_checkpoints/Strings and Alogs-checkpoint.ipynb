{
 "cells": [
  {
   "cell_type": "markdown",
   "metadata": {},
   "source": [
    "# Knuth-Morris-Pratt"
   ]
  },
  {
   "cell_type": "code",
   "execution_count": 1,
   "metadata": {},
   "outputs": [
    {
     "name": "stdout",
     "output_type": "stream",
     "text": [
      "[0, 0, 1]\n",
      "[]\n"
     ]
    }
   ],
   "source": [
    "# wiki and geeks for geeks are enough to recollect.\n",
    "def longest_prefix(patter):\n",
    "    n = len(patter)\n",
    "    index, length = 1, 0 \n",
    "    longest_prefix_sufix = [0]*n\n",
    "    while index<n: \n",
    "        if patter[index] == patter[length]:\n",
    "            length += 1\n",
    "            longest_prefix_sufix[index] = length\n",
    "            index += 1\n",
    "        else:\n",
    "            if length:\n",
    "                length = longest_prefix_sufix[length-1]\n",
    "            else:\n",
    "                longest_prefix_sufix[index] = 0\n",
    "                index += 1\n",
    "    return longest_prefix_sufix\n",
    "\n",
    "def KMPSearch(pat, string):\n",
    "    n, m = len(string), len(pat)\n",
    "    lps = longest_prefix(pat)\n",
    "    print(lps)\n",
    "    i = 0\n",
    "    j = 0\n",
    "    matched = []\n",
    "    while i<n:\n",
    "        # If pattern Matched\n",
    "        if pat[j] == string[i]:\n",
    "            i+=1\n",
    "            j+=1\n",
    "            \n",
    "        # If all of them matched.\n",
    "        if j == m:\n",
    "            matched.append(i+1-m)\n",
    "            j = lps[j-1]\n",
    "        # if not matched.\n",
    "        elif i<n and pat[j] != string[i]:\n",
    "            # if j not zero go back to previous matched string.\n",
    "            if j != 0:\n",
    "                j = lps[j-1]\n",
    "            # if j is zero just compare it to next letter.\n",
    "            else:\n",
    "                i += 1\n",
    "    return matched\n",
    "        \n",
    "string = \"abcdabcdabceabcd\"\n",
    "pat = \"aba\"\n",
    "\n",
    "print(KMPSearch(pat, string))"
   ]
  },
  {
   "cell_type": "markdown",
   "metadata": {},
   "source": [
    "# Rabin-Karp method\n",
    "This is more like efficient hashing and with mo's sliding window technique.  \n",
    "`NOTE: can be used in Mo's algorithm as successive operations are O(1)`"
   ]
  },
  {
   "cell_type": "code",
   "execution_count": 7,
   "metadata": {},
   "outputs": [
    {
     "name": "stdout",
     "output_type": "stream",
     "text": [
      "found at 11\n",
      "total found 1\n"
     ]
    }
   ],
   "source": [
    "# code\n",
    "s = 'abcdefghijklmnopqrstuvwxyz'\n",
    "p = 'lmno'\n",
    "A = lambda x: ord(x) - ord('a') + 1\n",
    "# mapping tools\n",
    "m = 31\n",
    "mod = int(1e9)+7\n",
    "a, b = len(s), len(p)\n",
    "# memoization of powers of 'm' to not calculate again.\n",
    "power = [pow(m, i, mod) for i in range(max(a, b))]\n",
    "\n",
    "# ph hash value of 'p', sh hash value of 's'\n",
    "ph = 0; sh = 0\n",
    "\n",
    "# calculating intitial values of p and s strings\n",
    "for i in range(b-1, -1, -1):\n",
    "    ph = (ph + A(p[i])*power[b-i-1])%mod\n",
    "    sh = (sh + A(s[i])*power[b-i-1])%mod\n",
    "ans = 0\n",
    "if ph == sh: print(f\"found at {0}\")\n",
    "\n",
    "# O(1) successive calculation of has value for substirng of 's'\n",
    "for i in range(b, a):\n",
    "    sh = ((sh - A(s[i-b])*power[b-1])*m + A(s[i]))%mod\n",
    "    if sh == ph: ans += 1; print(f\"found at {i-b+1}\")\n",
    "print(f\"total found {ans}\")    "
   ]
  },
  {
   "cell_type": "markdown",
   "metadata": {},
   "source": [
    "# Longest Palindromic Substring - Manacher's Alog *O(n)*"
   ]
  },
  {
   "cell_type": "markdown",
   "metadata": {},
   "source": [
    "[YouTube video Link](https://www.youtube.com/watch?v=IvakBbsAhUU) good explanation."
   ]
  },
  {
   "cell_type": "code",
   "execution_count": 1,
   "metadata": {},
   "outputs": [
    {
     "name": "stdout",
     "output_type": "stream",
     "text": [
      "bab\n"
     ]
    }
   ],
   "source": [
    "s = \"babad\"\n",
    "\n",
    "# joining srtring with # to cover even length string cases\n",
    "s = \"#\" + \"#\".join(s) + \"#\"\n",
    "n = len(s)\n",
    "\n",
    "center = 0\n",
    "mlen, mindex = 0, 0\n",
    "d = [0]*n\n",
    "right = 0\n",
    "\n",
    "for i in range(n):\n",
    "    # use the mirror element to get the min length\n",
    "    mirror = 2*center - i\n",
    "\n",
    "    if right > i:\n",
    "        d[i] = min(d[mirror], right-i)\n",
    "\n",
    "    # these are left and right pointer to get palindrome, as we do in nomral O(n*n) algo\n",
    "    a = i + (d[i]+1)\n",
    "    b = i - (d[i]+1)\n",
    "\n",
    "    while b>-1 and a<n and s[b] == s[a]:\n",
    "        a+=1\n",
    "        b-=1\n",
    "        d[i]+=1\n",
    "\n",
    "    # update the max values\n",
    "    if d[i]>mlen:\n",
    "        mlen = d[i]\n",
    "        mindex = i\n",
    "\n",
    "    # if we got new long palindrome udate the values and center\n",
    "    if i+d[i]>right:\n",
    "        center = i\n",
    "        right = i + d[i]\n",
    "\n",
    "ans = s[mindex-mlen:mindex+mlen+1].replace(\"#\", \"\")\n",
    "print(ans)"
   ]
  },
  {
   "cell_type": "markdown",
   "metadata": {},
   "source": [
    "# Easy string rotation in python"
   ]
  },
  {
   "cell_type": "code",
   "execution_count": 2,
   "metadata": {},
   "outputs": [
    {
     "name": "stdout",
     "output_type": "stream",
     "text": [
      "2345678901 0123456789\n",
      "3456789012 9012345678\n",
      "4567890123 8901234567\n",
      "5678901234 7890123456\n",
      "6789012345 6789012345\n",
      "7890123456 5678901234\n",
      "8901234567 4567890123\n",
      "9012345678 3456789012\n",
      "0123456789 2345678901\n"
     ]
    }
   ],
   "source": [
    "# string rotation same as array rotation\n",
    "\n",
    "s = \"1234567890\"\n",
    "def rotate(s, n):\n",
    "    k = len(s)\n",
    "    print(s[n:]+s[:n], s[k-n:]+s[:k-n])\n",
    "\n",
    "for i in range(1, 10):\n",
    "    rotate(s, i)"
   ]
  },
  {
   "cell_type": "markdown",
   "metadata": {},
   "source": [
    "# Matrix easy rotation in python (Transpose and reverse transpose)"
   ]
  },
  {
   "cell_type": "code",
   "execution_count": 3,
   "metadata": {},
   "outputs": [
    {
     "name": "stdout",
     "output_type": "stream",
     "text": [
      "_____________________\n",
      ">matrix = (3, 3)\n",
      " [\n",
      "   [1, 2, 3],\n",
      "   [4, 5, 6],\n",
      "   [7, 8, 9],\n",
      " ]\n",
      ">transpose = (3, 3)\n",
      " [\n",
      "   (3, 6, 9),\n",
      "   (2, 5, 8),\n",
      "   (1, 4, 7),\n",
      " ]\n",
      ">reverse_transpose = (3, 3)\n",
      " [\n",
      "   (7, 4, 1),\n",
      "   (8, 5, 2),\n",
      "   (9, 6, 3),\n",
      " ]\n",
      "---------------------\n"
     ]
    }
   ],
   "source": [
    "from debug import *\n",
    "matrix = [[1,2,3], [4,5,6], [7,8,9]]\n",
    "debug(matrix = matrix, transpose = [*zip(*matrix)][::-1], reverse_transpose = [*zip(*matrix[::-1])])"
   ]
  },
  {
   "cell_type": "markdown",
   "metadata": {},
   "source": [
    "The above can be used to print spiral matrix list.\n",
    "So a spiral list is frist row of matrix and then recursivly first row of transpose of matrix."
   ]
  },
  {
   "cell_type": "code",
   "execution_count": 4,
   "metadata": {},
   "outputs": [
    {
     "data": {
      "text/plain": [
       "[1, 2, 3, 6, 9, 8, 7, 4, 5]"
      ]
     },
     "execution_count": 4,
     "metadata": {},
     "output_type": "execute_result"
    }
   ],
   "source": [
    "# elegent code\n",
    "def spiralOrder(matrix):\n",
    "    return matrix and [*matrix.pop(0)] + spiralOrder([*zip(*matrix)][::-1])\n",
    "matrix = [[1,2,3], [4,5,6], [7,8,9]]\n",
    "spiralOrder(matrix)"
   ]
  },
  {
   "cell_type": "markdown",
   "metadata": {},
   "source": [
    "# good problem on trie"
   ]
  },
  {
   "cell_type": "code",
   "execution_count": 7,
   "metadata": {},
   "outputs": [
    {
     "name": "stdout",
     "output_type": "stream",
     "text": [
      "2\n",
      "2\n",
      "4\n",
      "2\n"
     ]
    }
   ],
   "source": [
    "# problem link\n",
    "# https://www.geeksforgeeks.org/googles-online-challenge-for-2021-intern-india-experience/?ref=rp\n",
    "class node:\n",
    "    def __init__(self, val=\"\"):\n",
    "        self.val = val\n",
    "        self.end = 0\n",
    "        self.d = dict()\n",
    "\n",
    "def fill(root, w):\n",
    "    if w == \"\": root.end = 1\n",
    "    else:\n",
    "        if w[0] not in root.d: root.d[w[0]] = node(w[0])\n",
    "        fill(root.d[w[0]], w[1:])\n",
    "\n",
    "lis = ['cat','map', 'bat','man','pen']\n",
    "n = len(lis)\n",
    "root = node()\n",
    "for i in lis: fill(root, i)\n",
    "\n",
    "def find(root, w):\n",
    "    if w ==\"\": return 1\n",
    "    if w[0] == \"?\":\n",
    "        ans = 0\n",
    "        for i in root.d.values(): ans += find(i, w[1:])\n",
    "        return ans\n",
    "    elif w[0] not in root.d: return 0\n",
    "    return find(root.d[w[0]], w[1:])\n",
    "q = [\"?at\",\"ma?\",\"?a?\",\"??n\"]\n",
    "for a in q: print(find(root, a))"
   ]
  },
  {
   "cell_type": "markdown",
   "metadata": {},
   "source": [
    "# Counting inversions"
   ]
  },
  {
   "cell_type": "markdown",
   "metadata": {},
   "source": [
    "## Using MergeSort\n",
    "\n",
    "Do usual merge sort. But side by side keep counting inversions.  \n",
    "In two sorted array number of inversions are like this.  \n",
    "$ a[]$ and $b[]$ are subarray So actual array should be a+b.  \n",
    "so all elements of $a[]$ should be less than equal to $b[]$.  \n",
    "if not so then number of inversions are length of $a[]$ left from curr.  \n",
    "now inversion if a+b are inversions in $a[]$ + $b[]$ + inversion during merging."
   ]
  },
  {
   "cell_type": "code",
   "execution_count": 8,
   "metadata": {},
   "outputs": [
    {
     "name": "stdout",
     "output_type": "stream",
     "text": [
      "9\n"
     ]
    }
   ],
   "source": [
    "def merge(a, b):\n",
    "    i = j = ans = 0\n",
    "    n, m = len(a), len(b)\n",
    "    c = []\n",
    "    while i<n and j<m:\n",
    "        if a[i]<=b[j]: c.append(a[i]); i+=1\n",
    "        else: c.append(b[j]); j+=1; ans+=(n-i)\n",
    "    while i<n: c.append(a[i]); i+=1\n",
    "    while j<m: c.append(b[j]); j+=1\n",
    "    return c, ans\n",
    "def mergeSort(lis):\n",
    "    p = len(lis)\n",
    "    if p in {0, 1}: return lis, 0\n",
    "    mid = p//2\n",
    "    a, v1 = mergeSort(lis[:mid])\n",
    "    b, v2 = mergeSort(lis[mid:])\n",
    "    c, v3 = merge(a, b)\n",
    "    return c, v1+v2+v3\n",
    "\n",
    "lis = [1,2,6,7,5,4,3]\n",
    "_, ans = mergeSort(lis)\n",
    "print(ans)"
   ]
  },
  {
   "cell_type": "markdown",
   "metadata": {},
   "source": [
    "## Using Fenwick Tree\n",
    "Make a **BIT** (binary index tree) array. Then from reverse keep adding 1 for that element's mapped postition in **BIT** (here its the same becuase it permuation array but not always this happens).  \n",
    "Before adding 1 in bit, add sum upto element-1(not equal to elements) to answer."
   ]
  },
  {
   "cell_type": "code",
   "execution_count": 9,
   "metadata": {},
   "outputs": [
    {
     "name": "stdout",
     "output_type": "stream",
     "text": [
      "9\n"
     ]
    }
   ],
   "source": [
    "lis = [1,2,6,7,5,4,3]\n",
    "n = len(lis)\n",
    "bit = [0]*(n+1)\n",
    "\n",
    "def update(pos, delta):\n",
    "    pos += 1\n",
    "    while pos<n+1:\n",
    "        bit[pos] += delta\n",
    "        pos += (-pos & pos)\n",
    "\n",
    "def presum(pos):\n",
    "    ans = 0\n",
    "    pos += 1\n",
    "    while pos>0:\n",
    "        ans += bit[pos]\n",
    "        pos -= (-pos & pos)\n",
    "    return ans\n",
    "\n",
    "ans = 0\n",
    "for i in range(n-1, -1, -1):\n",
    "    ans += presum(lis[i]-2)\n",
    "    update(lis[i]-1, 1)\n",
    "print(ans)"
   ]
  },
  {
   "cell_type": "markdown",
   "metadata": {},
   "source": [
    "here is an example of a elegent mapping."
   ]
  },
  {
   "cell_type": "code",
   "execution_count": 10,
   "metadata": {},
   "outputs": [
    {
     "name": "stdout",
     "output_type": "stream",
     "text": [
      "6\n"
     ]
    }
   ],
   "source": [
    "from bisect import *\n",
    "\n",
    "# finding inversions\n",
    "lis = [1,2,3,4,5,6,0]\n",
    "n = len(lis)\n",
    "l = n+1\n",
    "bit = [0]*l\n",
    "def update(pos, delta):\n",
    "    pos += 1\n",
    "    while pos<l:\n",
    "        bit[pos] += delta\n",
    "        pos += (-pos & pos)\n",
    "def count(pos):\n",
    "    pos += 1\n",
    "    ans = 0\n",
    "    while pos>0:\n",
    "        ans += bit[pos]\n",
    "        pos -= (-pos & pos)\n",
    "    return ans\n",
    "\n",
    "sor = sorted(set(lis))\n",
    "ans = 0\n",
    "# so here basically you mapped elements to index of lis by sorting it, and you keep updating index position by finding postion of it using binary\n",
    "# search.\n",
    "for i in lis:\n",
    "    ans += count(n-1) - count(bisect_left(sor, i))\n",
    "    update(bisect_left(sor, i), 1)\n",
    "print(ans)"
   ]
  },
  {
   "cell_type": "markdown",
   "metadata": {},
   "source": [
    "# Closest Pair in a Plane"
   ]
  },
  {
   "cell_type": "code",
   "execution_count": 11,
   "metadata": {},
   "outputs": [
    {
     "name": "stdout",
     "output_type": "stream",
     "text": [
      "0 4 1.414214\n"
     ]
    }
   ],
   "source": [
    "# lis = [[x, y, index]... ]\n",
    "lis = [[0, 0, 0], [-4, 1, 1], [-7, -2, 2], [4, 5, 3], [1, 1, 4]]\n",
    "n = len(lis)\n",
    "lis.sort() # sorting wrt x\n",
    "\n",
    "def dis(a, b):\n",
    "    return ((a[0] - b[0])**2 + (a[1]  - b[1])**2)**0.5\n",
    "\n",
    "def brt(p, y=None):\n",
    "    from bisect import bisect_left, bisect\n",
    "    n = len(p)\n",
    "    ans = 1e10\n",
    "    a, b = -1, -1\n",
    "    if y is None:\n",
    "        for i in range(n):\n",
    "            for j in range(i+1, n):\n",
    "                val = dis(p[i], p[j])\n",
    "                if val<ans:\n",
    "                    ans = val\n",
    "                    a, b = min(p[i][2], p[j][2]), max(p[i][2], p[j][2])\n",
    "        return ans, a, b\n",
    "    p.sort(key=lambda x: x[1])\n",
    "    for i in range(n):\n",
    "        j = i-1\n",
    "        while j>=0 and p[i][1]-p[j][1]<=y:\n",
    "            val = dis(p[i], p[j])\n",
    "            if val<ans:\n",
    "                ans = val\n",
    "                a, b = min(p[i][2], p[j][2]), max(p[i][2], p[j][2])\n",
    "            j-=1   \n",
    "        j = i+1\n",
    "        while j<n and p[j][1]-p[i][1]<=y:\n",
    "            val = dis(p[i], p[j])\n",
    "            if val<ans:\n",
    "                ans = val\n",
    "                a, b = min(p[i][2], p[j][2]), max(p[i][2], p[j][2])\n",
    "            j+=1\n",
    "        return ans, a, b\n",
    "\n",
    "def sol(p):\n",
    "    n = len(p)\n",
    "    if n<=2: return brt(p)\n",
    "    mid = n//2\n",
    "    d1, a1, b1 = sol(p[:mid])\n",
    "    d2, a2, b2 = sol(p[mid:])\n",
    "    d, a, b = (d1, a1, b1) if d1<d2 else (d2, a2, b2)\n",
    "    \n",
    "    # so getting all points in \n",
    "    s = []\n",
    "    linex = p[mid][0]\n",
    "    for i in range(mid-1, -1, -1):\n",
    "        if linex-p[i][0]<d: s.append(p[i])\n",
    "        else: break\n",
    "    for i in range(mid, n):\n",
    "        if p[i][0]-linex<d: s.append(p[i])\n",
    "        else: break\n",
    "    d0, a0, b0 = brt(s, d)\n",
    "    d, a, b = (d0, a0, b0) if d0<d else (d, a, b)\n",
    "    return d, a, b\n",
    "\n",
    "d, a, b = sol(lis)\n",
    "print(a, b,'{:.6f}'.format(d))"
   ]
  },
  {
   "cell_type": "markdown",
   "metadata": {},
   "source": [
    "# Overlapping intervals - easy solution"
   ]
  },
  {
   "cell_type": "code",
   "execution_count": 12,
   "metadata": {},
   "outputs": [
    {
     "name": "stdout",
     "output_type": "stream",
     "text": [
      "[[1, 4], [6, 8], [9, 10]]\n"
     ]
    }
   ],
   "source": [
    "intervals = [(1, 3), (2, 4), (6, 8), (9, 10)]\n",
    "intervals.sort()\n",
    "ans = []\n",
    "for a, b in intervals:\n",
    "    if ans and a<=ans[-1][1]: \n",
    "        ans[-1][1] = max(ans[-1][1], b)\n",
    "    else:\n",
    "        ans.append([a, b])\n",
    "print(ans)"
   ]
  },
  {
   "cell_type": "markdown",
   "metadata": {},
   "source": [
    "# Farthest Right Maximum\n",
    "\n",
    "Idea is sort the array, now for a postions $x$ the ones in right are the only ones greater than it so get the max index out of them, which can be easily done by right passing the array."
   ]
  },
  {
   "cell_type": "code",
   "execution_count": 1,
   "metadata": {},
   "outputs": [
    {
     "name": "stdout",
     "output_type": "stream",
     "text": [
      "[11, 11, 11, 9, 9, 9, 9, 9, 9, 9, 9, 9]\n",
      "[9, 9, 9, 11, 9, 9, 9, 9, 9, 9, 11, 11]\n"
     ]
    }
   ],
   "source": [
    "A = [4,2,7,1,8,3,6,3,7,9,0,1]\n",
    "n = len(A)\n",
    "lis = [(A[i], i) for i in range(n)]\n",
    "lis.sort()\n",
    "right = [0]*n\n",
    "m = 0\n",
    "for i in range(n-1, -1, -1):\n",
    "    right[i] = m = max(m, lis[i][1])\n",
    "ans = [0]*n\n",
    "for i in range(n):\n",
    "    ans[lis[i][1]] = right[i]\n",
    "print(ans)"
   ]
  },
  {
   "cell_type": "markdown",
   "metadata": {},
   "source": [
    "# Integer to Roman\n",
    "\n",
    "So generally if you would have to do this for base 15 or any other you would have made check points for every multiple of 15 by dividing number by 15 every time and passed remainder.  \n",
    "~~~~\n",
    "number = 145\n",
    "base = 15\n",
    "ans = []\n",
    "while number:\n",
    "    ans.append(number//base) # creating check point\n",
    "    number = number % base # passing remainder\n",
    "print(ans) # in base 15 with usual sysmbols\n",
    "~~~~\n",
    "`NOTE: python is awesome, to convert any number to another base just do this`  \n",
    "`ans = int(str(number), base)`  \n",
    "but here check points are a bit weird and so you have to manually make a list of them and a map for sysmbols.  \n",
    "Like for digits **4** and and **9**."
   ]
  },
  {
   "cell_type": "code",
   "execution_count": 13,
   "metadata": {},
   "outputs": [
    {
     "data": {
      "text/plain": [
       "'MMMDLXXIV'"
      ]
     },
     "execution_count": 13,
     "metadata": {},
     "output_type": "execute_result"
    }
   ],
   "source": [
    "#code\n",
    "def func(A):\n",
    "    values = [ 1000, 900, 500, 400, 100, 90, 50, 40, 10, 9, 5, 4, 1 ] # check points\n",
    "    numerals = [ \"M\", \"CM\", \"D\", \"CD\", \"C\", \"XC\", \"L\", \"XL\", \"X\", \"IX\", \"V\", \"IV\", \"I\" ] # map\n",
    "    res = \"\"\n",
    "    for i, v in zip(numerals, values):\n",
    "        res += (A//v) * i\n",
    "        A %= v\n",
    "    return res\n",
    "func(3574)"
   ]
  },
  {
   "cell_type": "markdown",
   "metadata": {},
   "source": [
    "# Two pointer nice solution\n",
    "\n",
    "Question: Given a sorted array, remove the duplicates in place such that each element can appear atmost twice and return the new length.  \n",
    " `A = [1,1,1,2]`\n",
    " `converted = [1,1,2].`"
   ]
  },
  {
   "cell_type": "code",
   "execution_count": 14,
   "metadata": {},
   "outputs": [
    {
     "name": "stdout",
     "output_type": "stream",
     "text": [
      "[1, 1, 2, 2, 3, 3, 4, 4, 5, 5, 6, 6]\n"
     ]
    }
   ],
   "source": [
    "# code \n",
    "A = [1,1,1,2,2,2,3,3,3,4,4,4,4,5,5,5,5,6,6,6]\n",
    "def sol(A):\n",
    "    n = len(A)\n",
    "    if n <= 1: return n\n",
    "    index = 0\n",
    "    for i in range(n):\n",
    "        if index<2 or A[i] != A[index-2]:\n",
    "            A[index] = A[i]\n",
    "            index+=1\n",
    "    for i in range(n-index): A.pop()\n",
    "    return len(A)\n",
    "sol(A)\n",
    "print(A)"
   ]
  },
  {
   "cell_type": "markdown",
   "metadata": {},
   "source": [
    "# All permutations "
   ]
  },
  {
   "cell_type": "code",
   "execution_count": 15,
   "metadata": {},
   "outputs": [
    {
     "name": "stdout",
     "output_type": "stream",
     "text": [
      "[1, 2, 3]\n",
      "[1, 3, 2]\n",
      "[2, 1, 3]\n",
      "[2, 3, 1]\n",
      "[3, 2, 1]\n",
      "[3, 1, 2]\n",
      "10\n"
     ]
    }
   ],
   "source": [
    "from debug import *\n",
    "arr = [1,2,3]\n",
    "\n",
    "@timit\n",
    "def allpermute(a, l):\n",
    "    if l == len(a)-1: print(a)\n",
    "    else:\n",
    "        for i in range(l, len(a)):\n",
    "            a[i], a[l] = a[l], a[i]\n",
    "            allpermute(a, l+1)\n",
    "            a[i], a[l] = a[l], a[i]\n",
    "\n",
    "allpermute(arr, 0)\n",
    "print(allpermute.call)"
   ]
  },
  {
   "cell_type": "markdown",
   "metadata": {},
   "source": [
    "# Next Permuations"
   ]
  },
  {
   "cell_type": "code",
   "execution_count": 16,
   "metadata": {},
   "outputs": [
    {
     "name": "stdout",
     "output_type": "stream",
     "text": [
      "[1, 2, 3, 5, 4, 6]\n"
     ]
    }
   ],
   "source": [
    "# NOTE: after finding index do remember that elements after index are reverse sorted, don't remember why? Think then!\n",
    "A = [1,2,3,4,6,5]\n",
    "n = len(A)\n",
    "index = 0\n",
    "# getting last unscrambled index\n",
    "for i in range(n-1):\n",
    "    if A[i]<A[i+1]:\n",
    "        index = i\n",
    "\n",
    "# means reverse sorted so return sorted one\n",
    "if index == -1:\n",
    "    print(sorted(A))\n",
    "else:\n",
    "    # get element just bigger than index element\n",
    "    for i in range(n-1, index, -1):\n",
    "        if A[i]>A[index]:\n",
    "            A[index], A[i] = A[i], A[index]\n",
    "            break\n",
    "    # now reverse the elements after index elements\n",
    "    A = A[:index+1] + A[index+1:][::-1]\n",
    "    print(A)"
   ]
  },
  {
   "cell_type": "code",
   "execution_count": null,
   "metadata": {},
   "outputs": [],
   "source": []
  },
  {
   "cell_type": "code",
   "execution_count": null,
   "metadata": {},
   "outputs": [],
   "source": []
  }
 ],
 "metadata": {
  "kernelspec": {
   "display_name": "Python 3 (ipykernel)",
   "language": "python",
   "name": "python3"
  },
  "language_info": {
   "codemirror_mode": {
    "name": "ipython",
    "version": 3
   },
   "file_extension": ".py",
   "mimetype": "text/x-python",
   "name": "python",
   "nbconvert_exporter": "python",
   "pygments_lexer": "ipython3",
   "version": "3.10.0"
  }
 },
 "nbformat": 4,
 "nbformat_minor": 4
}
