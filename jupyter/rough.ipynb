{
 "cells": [
  {
   "cell_type": "code",
   "execution_count": 2,
   "metadata": {},
   "outputs": [
    {
     "name": "stdout",
     "output_type": "stream",
     "text": [
      "['-211', '-154', '134', '-154', '+163', '2', '-79', '119']\n"
     ]
    }
   ],
   "source": [
    "a = \"(-211, -154) (134, -154)@(+163, 2) (-79, 119)@\"\n",
    "import re\n",
    "#/[-+]?[0-9]+/\n",
    "t = re.findall(r'\\-?\\+?\\d+', a)\n",
    "print(t)"
   ]
  },
  {
   "cell_type": "code",
   "execution_count": 3,
   "metadata": {},
   "outputs": [
    {
     "name": "stdout",
     "output_type": "stream",
     "text": [
      "<re.Match object; span=(13, 29), match='tim@somehost.com'>\n"
     ]
    }
   ],
   "source": [
    "import re\n",
    "s = \"tim email is tim@somehost.com\"\n",
    "match = re.search(r'[\\w.-]+@[\\w.-]+', s)\n",
    "print(match)"
   ]
  },
  {
   "cell_type": "code",
   "execution_count": 4,
   "metadata": {},
   "outputs": [
    {
     "data": {
      "text/plain": [
       "5"
      ]
     },
     "execution_count": 4,
     "metadata": {},
     "output_type": "execute_result"
    }
   ],
   "source": [
    "def median_of_medians(A, i):\n",
    "\n",
    "    #divide A into sublists of len 5\n",
    "    sublists = [A[j:j+5] for j in range(0, len(A), 5)]\n",
    "    medians = [sorted(sublist)[len(sublist)//2] for sublist in sublists]\n",
    "    if len(medians) <= 5:\n",
    "        pivot = sorted(medians)[len(medians)//2]\n",
    "    else:\n",
    "        #the pivot is the median of the medians\n",
    "        pivot = median_of_medians(medians, len(medians)//2)\n",
    "\n",
    "    #partitioning step\n",
    "    low = [j for j in A if j < pivot]\n",
    "    high = [j for j in A if j > pivot]\n",
    "\n",
    "    k = len(low)\n",
    "    if i < k:\n",
    "        return median_of_medians(low,i)\n",
    "    elif i > k:\n",
    "        return median_of_medians(high,i-k-1)\n",
    "    else: #pivot = k\n",
    "        return pivot\n",
    "\n",
    "lis = [0,3,6,1,2,9,7,4,8,5]\n",
    "median_of_medians(lis, 5)"
   ]
  },
  {
   "cell_type": "code",
   "execution_count": 5,
   "metadata": {},
   "outputs": [
    {
     "name": "stdout",
     "output_type": "stream",
     "text": [
      "2020-05-17 00:00:00\n"
     ]
    }
   ],
   "source": [
    "import datetime\n",
    "x = datetime.datetime(2020, 5, 17)\n",
    "v = datetime.datetime.strptime(\"2020-05-17 00:00:00\", '%Y-%m-%d %H:%M:%S')\n",
    "print(v)"
   ]
  },
  {
   "cell_type": "code",
   "execution_count": 8,
   "metadata": {},
   "outputs": [
    {
     "name": "stdout",
     "output_type": "stream",
     "text": [
      "63\n"
     ]
    }
   ],
   "source": [
    "a = [1,1,1,1,1,1]\n",
    "mod = int(1e3) + 1\n",
    "from functools import reduce\n",
    "v = reduce(lambda x, y: (x*2 + y)%mod, a)\n",
    "print(v)"
   ]
  },
  {
   "cell_type": "code",
   "execution_count": 9,
   "metadata": {},
   "outputs": [
    {
     "name": "stdout",
     "output_type": "stream",
     "text": [
      "((1, 2), (3, 4))\n",
      "((1, 2), (5, 6))\n",
      "((3, 4), (5, 6))\n"
     ]
    }
   ],
   "source": [
    "from itertools import combinations\n",
    "arr = [(1, 2), (3, 4), (5, 6)]\n",
    "v = combinations(arr, 2)\n",
    "for i in v: print(i)\n",
    "    \n"
   ]
  },
  {
   "cell_type": "code",
   "execution_count": 10,
   "metadata": {},
   "outputs": [
    {
     "name": "stdout",
     "output_type": "stream",
     "text": [
      "(1, 2) (1, 3) (2, 1) (2, 3) (3, 1) (3, 2)\n"
     ]
    }
   ],
   "source": [
    "from itertools import permutations as P\n",
    "print(*P([1,2,3], 2))"
   ]
  },
  {
   "cell_type": "code",
   "execution_count": 60,
   "metadata": {},
   "outputs": [
    {
     "name": "stdout",
     "output_type": "stream",
     "text": [
      "8.091211318969726e-07\n"
     ]
    }
   ],
   "source": [
    "from time import time\n",
    "a = 10000\n",
    "b = 1\n",
    "q = 0\n",
    "ss = 0\n",
    "avg = 0\n",
    "for i in range(a):\n",
    "    s = time()\n",
    "    for j in range(b):\n",
    "        v = (2, 3)[q==0]\n",
    "#         v = 2 if q == 0 else 3\n",
    "    ss = time() - s\n",
    "    avg += ss\n",
    "print(avg/a)"
   ]
  },
  {
   "cell_type": "code",
   "execution_count": null,
   "metadata": {},
   "outputs": [],
   "source": [
    "lis = 0.0020126192092895507\n",
    "ter = 0.0015638832807540893\n",
    "\n"
   ]
  }
 ],
 "metadata": {
  "kernelspec": {
   "display_name": "Python 3",
   "language": "python",
   "name": "python3"
  },
  "language_info": {
   "codemirror_mode": {
    "name": "ipython",
    "version": 3
   },
   "file_extension": ".py",
   "mimetype": "text/x-python",
   "name": "python",
   "nbconvert_exporter": "python",
   "pygments_lexer": "ipython3",
   "version": "3.8.6"
  }
 },
 "nbformat": 4,
 "nbformat_minor": 4
}
