{
 "cells": [
  {
   "cell_type": "code",
   "execution_count": 1,
   "metadata": {},
   "outputs": [
    {
     "name": "stdout",
     "output_type": "stream",
     "text": [
      "['-211', '-154', '134', '-154', '+163', '2', '-79', '119']\n"
     ]
    }
   ],
   "source": [
    "a = \"(-211, -154) (134, -154)@(+163, 2) (-79, 119)@\"\n",
    "import re\n",
    "#/[-+]?[0-9]+/\n",
    "t = re.findall(r'\\-?\\+?\\d+', a)\n",
    "print(t)"
   ]
  },
  {
   "cell_type": "code",
   "execution_count": 2,
   "metadata": {},
   "outputs": [
    {
     "name": "stdout",
     "output_type": "stream",
     "text": [
      "<re.Match object; span=(13, 29), match='tim@somehost.com'>\n"
     ]
    }
   ],
   "source": [
    "import re\n",
    "s = \"tim email is tim@somehost.com\"\n",
    "match = re.search(r'[\\w.-]+@[\\w.-]+', s)\n",
    "print(match)"
   ]
  },
  {
   "cell_type": "code",
   "execution_count": 3,
   "metadata": {},
   "outputs": [
    {
     "name": "stdout",
     "output_type": "stream",
     "text": [
      "2020-05-17 00:00:00\n"
     ]
    }
   ],
   "source": [
    "import datetime\n",
    "x = datetime.datetime(2020, 5, 17)\n",
    "v = datetime.datetime.strptime(\"2020-05-17 00:00:00\", '%Y-%m-%d %H:%M:%S')\n",
    "print(v)"
   ]
  },
  {
   "cell_type": "code",
   "execution_count": 4,
   "metadata": {},
   "outputs": [
    {
     "name": "stdout",
     "output_type": "stream",
     "text": [
      "1 3 6 10 15 21\n",
      "21\n"
     ]
    }
   ],
   "source": [
    "from itertools import accumulate\n",
    "from functools import reduce\n",
    "\n",
    "lis = [1,2,3,4,5,6]\n",
    "print(*accumulate(lis))\n",
    "print(reduce(lambda a, b: a+b, lis))"
   ]
  },
  {
   "cell_type": "code",
   "execution_count": 5,
   "metadata": {},
   "outputs": [
    {
     "name": "stdout",
     "output_type": "stream",
     "text": [
      "(1, 2)\n",
      "(1, 3)\n",
      "(2, 3)\n",
      "\n",
      "(1, 2, 3)\n",
      "(1, 3, 2)\n",
      "(2, 1, 3)\n",
      "(2, 3, 1)\n",
      "(3, 1, 2)\n",
      "(3, 2, 1)\n"
     ]
    }
   ],
   "source": [
    "from itertools import combinations, permutations\n",
    "arr = [1,2,3]\n",
    "c = combinations(arr, 2)\n",
    "p = permutations(arr)\n",
    "for i in c: print(i)\n",
    "print()\n",
    "for i in p: print(i)"
   ]
  },
  {
   "cell_type": "code",
   "execution_count": 6,
   "metadata": {},
   "outputs": [
    {
     "name": "stdout",
     "output_type": "stream",
     "text": [
      "[2, 4, 1, 3, 5, 7, 0, 8]\n"
     ]
    }
   ],
   "source": [
    "def merge(a, b):\n",
    "    return [max(a, b).pop(0) for _ in a+b]\n",
    "            \n",
    "a = [1,3,5,7]\n",
    "b = [2,4,0,8]\n",
    "print(merge(a, b))"
   ]
  },
  {
   "cell_type": "code",
   "execution_count": 7,
   "metadata": {},
   "outputs": [
    {
     "data": {
      "text/plain": [
       "[6, 7]"
      ]
     },
     "execution_count": 7,
     "metadata": {},
     "output_type": "execute_result"
    }
   ],
   "source": [
    "max([6, 7], [6,0,4])"
   ]
  },
  {
   "cell_type": "code",
   "execution_count": 23,
   "metadata": {},
   "outputs": [
    {
     "name": "stdout",
     "output_type": "stream",
     "text": [
      "0\n",
      "2\n",
      "5\n"
     ]
    }
   ],
   "source": [
    "# random usages\n",
    "import random\n",
    "\n",
    "rint = random.randint(0, 1) # its inclusive at both ends\n",
    "print(rint)\n",
    "\n",
    "rrange = random.randrange(0, 6, 2) # picks randomly from the range generated value\n",
    "print(rrange)\n",
    "\n",
    "rchoice = random.choice([1,2,3,4,5]) # picks randomly from input list\n",
    "print(rchoice)"
   ]
  },
  {
   "cell_type": "code",
   "execution_count": null,
   "metadata": {},
   "outputs": [],
   "source": []
  },
  {
   "cell_type": "code",
   "execution_count": 8,
   "metadata": {},
   "outputs": [],
   "source": [
    "from treeVisuals import *\n",
    "\n",
    "root = randomTree(10, 0.5, 10000)\n",
    "\n",
    "def prettyPrintTree(node, prefix=\"\", isLeft=True):\n",
    "    if not node:\n",
    "        print(\"Empty Tree\")\n",
    "        return\n",
    "\n",
    "    if node.right:\n",
    "        prettyPrintTree(node.right, prefix + (\"│   \" if isLeft else \"    \"), False)\n",
    "\n",
    "    print(prefix + (\"└── \" if isLeft else \"┌── \") + str(node.val))\n",
    "\n",
    "    if node.left:\n",
    "        prettyPrintTree(node.left, prefix + (\"    \" if isLeft else \"│   \"), True)\n",
    "        \n",
    "# prettyPrintTree(root)"
   ]
  },
  {
   "cell_type": "code",
   "execution_count": 9,
   "metadata": {},
   "outputs": [
    {
     "name": "stdout",
     "output_type": "stream",
     "text": [
      "Back Tracking\n",
      "Binary Search\n",
      "Binary Tree\n",
      "Bit Manupilation\n",
      "Bit Mask\n",
      "DSU\n",
      "Divide and Conquer\n",
      "Dynamic Programming\n",
      "Game Theory\n",
      "Graph\n",
      "Greedy\n",
      "Hash Table\n",
      "Heap\n",
      "Line Sweep\n",
      "Linked List\n",
      "Math\n",
      "Matrix\n",
      "Prefix Sum\n",
      "Segment Tree\n",
      "Sliding Window\n",
      "Sorting\n",
      "Stack\n",
      "String\n",
      "String matching\n",
      "Topological Sorting\n",
      "Trie\n",
      "Two Pointer\n"
     ]
    }
   ],
   "source": [
    "s = \"\"\"\n",
    "String\n",
    "Dynamic Programming\n",
    "Sorting\n",
    "Greedy\n",
    "Binary Search\n",
    "Matrix\n",
    "Two Pointer\n",
    "Bit Manupilation\n",
    "Stack\n",
    "Heap\n",
    "Graph\n",
    "Back Tracking\n",
    "Prefix Sum\n",
    "Sliding Window\n",
    "Linked List\n",
    "DSU\n",
    "Binary Tree\n",
    "Trie\n",
    "Divide and Conquer\n",
    "Bit Mask\n",
    "Game Theory\n",
    "Segment Tree\n",
    "Topological Sorting\n",
    "String matching\n",
    "Line Sweep\n",
    "Math\n",
    "Hash Table\n",
    "\"\"\"\n",
    "a = sorted(s.split(\"\\n\"))\n",
    "for i in a:\n",
    "    if len(i): print(i)"
   ]
  },
  {
   "cell_type": "code",
   "execution_count": 4,
   "metadata": {},
   "outputs": [
    {
     "name": "stdout",
     "output_type": "stream",
     "text": [
      "[1, 2, 1] [2, 3, 2] [1, 3, 2]\n"
     ]
    }
   ],
   "source": [
    "print(*[[1,2,1],[2,3,2],[1,3,2]])\n"
   ]
  },
  {
   "cell_type": "code",
   "execution_count": 5,
   "metadata": {},
   "outputs": [
    {
     "data": {
      "text/plain": [
       "False"
      ]
     },
     "execution_count": 5,
     "metadata": {},
     "output_type": "execute_result"
    }
   ],
   "source": [
    "'-'.isdigit()"
   ]
  },
  {
   "cell_type": "code",
   "execution_count": null,
   "metadata": {},
   "outputs": [],
   "source": [
    "[\"This    is    an\",\"example  of text\",\"justification.  \"]"
   ]
  },
  {
   "cell_type": "code",
   "execution_count": 1,
   "metadata": {},
   "outputs": [
    {
     "data": {
      "text/plain": [
       "1048576"
      ]
     },
     "execution_count": 1,
     "metadata": {},
     "output_type": "execute_result"
    }
   ],
   "source": [
    "1<<20"
   ]
  },
  {
   "cell_type": "code",
   "execution_count": 3,
   "metadata": {},
   "outputs": [
    {
     "name": "stdout",
     "output_type": "stream",
     "text": [
      "{'a': 1, 'b': 2, 'c': 3, 'd': 4, 'e': 5, 'f': 6, 'g': 7, 'h': 8, 'i': 9, 'j': 10, 'k': 11, 'l': 12, 'm': 13, 'n': 14, 'o': 15, 'p': 16, 'q': 17, 'r': 18, 's': 19, 't': 20, 'u': 21, 'v': 22, 'w': 23, 'x': 24, 'y': 25, 'z': 26}\n"
     ]
    }
   ],
   "source": [
    "d = {chr(a): i for i, a in enumerate(range(ord('a'), ord('z')+1), 1)}\n",
    "print(d)"
   ]
  },
  {
   "cell_type": "code",
   "execution_count": 19,
   "metadata": {},
   "outputs": [
    {
     "data": {
      "image/png": "[encoded data removed]",
      "text/plain": [
       "<PIL.Image.Image image mode=RGBA size=300x271 at 0x21D366F8EB0>"
      ]
     },
     "execution_count": 19,
     "metadata": {},
     "output_type": "execute_result"
    }
   ],
   "source": [
    "from treeVisuals import *\n",
    "\n",
    "jdraw(randomTree())"
   ]
  },
  {
   "cell_type": "code",
   "execution_count": 60,
   "metadata": {},
   "outputs": [
    {
     "name": "stdout",
     "output_type": "stream",
     "text": [
      "[0, 1, 3, 2]\n",
      "[1, 2, 4, 3]\n",
      "[8, 7, 5, 6]\n"
     ]
    }
   ],
   "source": [
    "n = 4\n",
    "graph = [[1, 2], [0, 3], [0, 3], [1, 2]]\n",
    "\n",
    "v = [0]*n\n",
    "inn = [0]*n\n",
    "out = [0]*n\n",
    "ans = []\n",
    "\n",
    "def dfs(node, time):\n",
    "    time += 1\n",
    "    inn[node] = time\n",
    "    v[node] = 1\n",
    "    ans.append(node)\n",
    "    for nbr in graph[node]:\n",
    "        if not v[nbr]:\n",
    "            time = dfs(nbr, time)\n",
    "    time += 1\n",
    "    out[node] = time\n",
    "    return time\n",
    "            \n",
    "dfs(0, 0)\n",
    "print(ans)\n",
    "print(inn)\n",
    "print(out)"
   ]
  },
  {
   "cell_type": "code",
   "execution_count": 86,
   "metadata": {},
   "outputs": [
    {
     "name": "stdout",
     "output_type": "stream",
     "text": [
      "[[0, 0]]\n",
      "[[0, 1], [2, 0], [1, 0]]\n",
      "[[0, 1], [2, 0], [1, 1], [3, 0]]\n",
      "[[0, 1], [2, 0], [1, 1], [3, 1], [2, 0]]\n",
      "[[0, 1], [2, 0], [1, 1], [3, 1], [2, 1]]\n",
      "[[0, 1], [2, 0], [1, 1], [3, 1]]\n",
      "[[0, 1], [2, 0], [1, 1]]\n",
      "[[0, 1], [2, 0]]\n",
      "[[0, 1]]\n",
      "[]\n",
      "[0, 1, 3, 2]\n",
      "[1, 2, 4, 3]\n",
      "[8, 7, 5, 6]\n"
     ]
    }
   ],
   "source": [
    "def dfsR(node):\n",
    "    ans = []\n",
    "    stack = [[node, 0]]\n",
    "    time = 0\n",
    "    v = [0]*n\n",
    "    \n",
    "    print(stack)\n",
    "    while stack:\n",
    "        node, location = stack.pop()\n",
    "        if location == 0:\n",
    "            if v[node] == 0:\n",
    "                v[node] = 1\n",
    "                time += 1\n",
    "                inn[node] = time\n",
    "                ans.append(node)\n",
    "\n",
    "                stack.append([node, 1])\n",
    "                for nbr in graph[node][::-1]:\n",
    "                    if v[nbr] == 0:\n",
    "                        stack.append([nbr, 0])\n",
    "        else:\n",
    "            time += 1\n",
    "            out[node] = time\n",
    "        \n",
    "        print(stack)\n",
    "    \n",
    "    print(ans)\n",
    "    print(inn)\n",
    "    print(out)\n",
    "\n",
    "dfsR(0)"
   ]
  },
  {
   "cell_type": "code",
   "execution_count": null,
   "metadata": {},
   "outputs": [],
   "source": []
  },
  {
   "cell_type": "code",
   "execution_count": 82,
   "metadata": {},
   "outputs": [
    {
     "name": "stdout",
     "output_type": "stream",
     "text": [
      "OK 0\n",
      "OK 1\n",
      "OK 3\n",
      "OK 2\n",
      "2\n",
      "3\n",
      "1\n",
      "2\n",
      "0\n"
     ]
    }
   ],
   "source": [
    "G = graph\n",
    "V = [1,1,1,1]\n",
    "T = [0]\n",
    "\n",
    "while T:\n",
    "    s=T.pop()\n",
    "    V[s]-=1\n",
    "    if V[s]:\n",
    "        print(s)\n",
    "    else:\n",
    "        print(\"OK\", s)\n",
    "        T+=s,\n",
    "        for e in G[s][::-1]:\n",
    "            if V[e]:T+=e,\n"
   ]
  },
  {
   "cell_type": "code",
   "execution_count": null,
   "metadata": {},
   "outputs": [],
   "source": []
  }
 ],
 "metadata": {
  "kernelspec": {
   "display_name": "Python 3",
   "language": "python",
   "name": "python3"
  },
  "language_info": {
   "codemirror_mode": {
    "name": "ipython",
    "version": 3
   },
   "file_extension": ".py",
   "mimetype": "text/x-python",
   "name": "python",
   "nbconvert_exporter": "python",
   "pygments_lexer": "ipython3",
   "version": "3.8.6"
  },
  "toc-autonumbering": true
 },
 "nbformat": 4,
 "nbformat_minor": 4
}
