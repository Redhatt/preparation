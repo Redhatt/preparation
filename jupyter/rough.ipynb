{
 "cells": [
  {
   "cell_type": "code",
   "execution_count": null,
   "metadata": {},
   "outputs": [],
   "source": [
    "a = \"(-211, -154) (134, -154)@(+163, 2) (-79, 119)@\"\n",
    "import re\n",
    "#/[-+]?[0-9]+/\n",
    "t = re.findall(r'\\-?\\+?\\d+', a)\n",
    "print(t)"
   ]
  },
  {
   "cell_type": "code",
   "execution_count": null,
   "metadata": {
    "jupyter": {
     "source_hidden": true
    },
    "tags": []
   },
   "outputs": [],
   "source": [
    "import re\n",
    "s = \"tim email is tim@somehost.com\"\n",
    "match = re.search(r'[\\w.-]+@[\\w.-]+', s)\n",
    "print(match)"
   ]
  },
  {
   "cell_type": "code",
   "execution_count": null,
   "metadata": {},
   "outputs": [],
   "source": [
    "import datetime\n",
    "x = datetime.datetime(2020, 5, 17)\n",
    "v = datetime.datetime.strptime(\"2020-05-17 00:00:00\", '%Y-%m-%d %H:%M:%S')\n",
    "print(v)"
   ]
  },
  {
   "cell_type": "code",
   "execution_count": null,
   "metadata": {},
   "outputs": [],
   "source": [
    "from itertools import accumulate\n",
    "from functools import reduce\n",
    "\n",
    "lis = [1,2,3,4,5,6]\n",
    "print(*accumulate(lis))\n",
    "print(reduce(lambda a, b: a+b, lis))"
   ]
  },
  {
   "cell_type": "code",
   "execution_count": null,
   "metadata": {},
   "outputs": [],
   "source": [
    "from itertools import combinations, permutations\n",
    "arr = [1,2,3]\n",
    "c = combinations(arr, 2)\n",
    "p = permutations(arr)\n",
    "for i in c: print(i)\n",
    "print()\n",
    "for i in p: print(i)"
   ]
  },
  {
   "cell_type": "code",
   "execution_count": null,
   "metadata": {},
   "outputs": [],
   "source": [
    "def merge(a, b):\n",
    "    return [max(a, b).pop(0) for _ in a+b]\n",
    "            \n",
    "a = [1,3,5,7]\n",
    "b = [2,4,0,8]\n",
    "print(merge(a, b))"
   ]
  },
  {
   "cell_type": "code",
   "execution_count": null,
   "metadata": {},
   "outputs": [],
   "source": [
    "max([6, 7], [6,0,4])"
   ]
  },
  {
   "cell_type": "code",
   "execution_count": null,
   "metadata": {},
   "outputs": [],
   "source": [
    "# random usages\n",
    "import random\n",
    "\n",
    "rint = random.randint(0, 1) # its inclusive at both ends\n",
    "print(rint)\n",
    "\n",
    "rrange = random.randrange(0, 6, 2) # picks randomly from the range generated value\n",
    "print(rrange)\n",
    "\n",
    "rchoice = random.choice([1,2,3,4,5]) # picks randomly from input list\n",
    "print(rchoice)"
   ]
  },
  {
   "cell_type": "code",
   "execution_count": null,
   "metadata": {},
   "outputs": [],
   "source": []
  },
  {
   "cell_type": "code",
   "execution_count": null,
   "metadata": {},
   "outputs": [],
   "source": [
    "from treeVisuals import *\n",
    "\n",
    "root = randomTree(10, 0.5, 10000)\n",
    "\n",
    "def prettyPrintTree(node, prefix=\"\", isLeft=True):\n",
    "    if not node:\n",
    "        print(\"Empty Tree\")\n",
    "        return\n",
    " u\n",
    "    if node.right:\n",
    "        prettyPrintTree(node.right, prefix + (\"│   \" if isLeft else \"    \"), False)\n",
    "\n",
    "    print(prefix + (\"└── \" if isLeft else \"┌── \") + str(node.val))\n",
    "\n",
    "    if node.left:\n",
    "        prettyPrintTree(node.left, prefix + (\"    \" if isLeft else \"│   \"), True)\n",
    "        \n",
    "# prettyPrintTree(root)"
   ]
  },
  {
   "cell_type": "code",
   "execution_count": null,
   "metadata": {
    "jupyter": {
     "source_hidden": true
    },
    "tags": []
   },
   "outputs": [],
   "source": [
    "s = \"\"\"\n",
    "String\n",
    "Dynamic Programming\n",
    "Sorting\n",
    "Greedy\n",
    "Binary Search\n",
    "Matrix\n",
    "Two Pointer\n",
    "Bit Manupilation\n",
    "Stack\n",
    "Heap\n",
    "Graph\n",
    "Back Tracking\n",
    "Prefix Sum\n",
    "Sliding Window\n",
    "Linked List\n",
    "DSU\n",
    "Binary Tree\n",
    "Trie\n",
    "Divide and Conquer\n",
    "Bit Mask\n",
    "Game Theory\n",
    "Segment Tree\n",
    "Topological Sorting\n",
    "String matching\n",
    "Line Sweep\n",
    "Math\n",
    "Hash Table\n",
    "\"\"\"\n",
    "a = sorted(s.split(\"\\n\"))\n",
    "for i in a:\n",
    "    if len(i): print(i)"
   ]
  },
  {
   "cell_type": "code",
   "execution_count": null,
   "metadata": {},
   "outputs": [],
   "source": [
    "from itertools import *\n",
    "# n, m = 3, 4\n",
    "# for a in (*product(range(n), (0, m-1)), *product((0, n-1), range(m))):\n",
    "#     print(a)\n",
    "    \n",
    "a = []\n",
    "print(a)"
   ]
  },
  {
   "cell_type": "code",
   "execution_count": null,
   "metadata": {},
   "outputs": [],
   "source": [
    "'-'.isdigit()"
   ]
  },
  {
   "cell_type": "code",
   "execution_count": null,
   "metadata": {},
   "outputs": [],
   "source": [
    "4/64"
   ]
  },
  {
   "cell_type": "code",
   "execution_count": null,
   "metadata": {},
   "outputs": [],
   "source": [
    "1<<20"
   ]
  },
  {
   "cell_type": "code",
   "execution_count": null,
   "metadata": {},
   "outputs": [],
   "source": [
    "d = {chr(a): i for i, a in enumerate(range(ord('a'), ord('z')+1), 1)}\n",
    "print(d)"
   ]
  },
  {
   "cell_type": "code",
   "execution_count": null,
   "metadata": {},
   "outputs": [],
   "source": [
    "from treeVisuals import *\n",
    "\n",
    "jdraw(randomTree())"
   ]
  },
  {
   "cell_type": "code",
   "execution_count": null,
   "metadata": {},
   "outputs": [],
   "source": [
    "import os\n",
    "from time import time\n",
    "    \n",
    "def Tree(d, prefix=\"\", last=\"\"):\n",
    "    basename = os.path.basename(d)\n",
    "\n",
    "    dirs = []\n",
    "    files = []\n",
    "    for name in os.listdir(d):\n",
    "        if os.path.isdir(os.path.join(d, name)):\n",
    "            dirs.append(name)\n",
    "        else:\n",
    "            files.append(name)\n",
    "\n",
    "    string = \"\"\n",
    "    \n",
    "    files.sort(key=lambda x: x.lower())\n",
    "    dirs.sort(key=lambda x: x.lower())\n",
    "    \n",
    "    for ff in files[:-1]:\n",
    "        string += prefix + \"├───\" + ff + \"\\n\"\n",
    "    \n",
    "    if files:\n",
    "        ff = files[-1]\n",
    "        if not dirs:\n",
    "            string += prefix + \"└───\" + ff + \"\\n\"\n",
    "        else:\n",
    "            string += prefix + \"├───\" + ff + \"\\n\"\n",
    "        \n",
    "    for dd in dirs[:-1]:\n",
    "        string += prefix + \"├──>\" + dd + \"\\n\"\n",
    "        string += Tree(os.path.join(d, dd), prefix + \"│    \")\n",
    "        \n",
    "    if dirs:\n",
    "        dd = dirs[-1]\n",
    "        string += prefix + \"└──>\" + dd + \"\\n\"\n",
    "        string += Tree(os.path.join(d, dd), prefix + \"     \")\n",
    "    \n",
    "    return string\n",
    "        \n",
    "d = r\"C:\\Users\\Danish.Amin\\Desktop\"#\\netmeds\\azure\\JioMart_pim\\smartpim\"\n",
    "\n",
    "from debug import profile\n",
    "\n",
    "val = profile(Tree, d)\n",
    "print(val[0])"
   ]
  },
  {
   "cell_type": "code",
   "execution_count": 7,
   "metadata": {},
   "outputs": [
    {
     "name": "stdout",
     "output_type": "stream",
     "text": [
      "{\"a\": [[[\"a\", \"b\", \"c\"], [1, 2, 3], [4, 5, 6]], [[], [], []]], \"1\": {\"2\": 3, \"4\": 5}}\n"
     ]
    }
   ],
   "source": [
    "import json\n",
    "b = [[['a', 'b', 'c'], [1, 2, 3], [4, 5, 6]], [[], [], []]]\n",
    "d = {'a': b, 1: {2: 3, 4: 5}}\n",
    "print(json.dumps(d))"
   ]
  },
  {
   "cell_type": "code",
   "execution_count": 5,
   "metadata": {},
   "outputs": [
    {
     "name": "stdin",
     "output_type": "stream",
     "text": [
      " [[[\"a\", \"b\", \"c\"], [1, 2, 3], [4, 5, 6]], [[], [], []]]\n"
     ]
    },
    {
     "name": "stdout",
     "output_type": "stream",
     "text": [
      "[[['a', 'b', 'c'], [1, 2, 3], [4, 5, 6]], [[], [], []]]\n"
     ]
    }
   ],
   "source": [
    "s = input()\n",
    "print(json.loads(s))"
   ]
  },
  {
   "cell_type": "code",
   "execution_count": 42,
   "metadata": {},
   "outputs": [
    {
     "name": "stdout",
     "output_type": "stream",
     "text": [
      "[0, 1, 2, 3, 4, 5, 6, 7, 8, 9, 10, 11, 12, 13, 14, 15, 16, 17, 18, 19, 20, 21, 22, 23, 24, 25, 26, 27, 28, 29, 0, 1, 2, 3, 4, 5, 6, 7, 8, 9, 10, 11, 12, 13, 14, 15, 16, 17, 18, 19, 20, 21, 22, 23, 24, 25, 26, 27, 28, 29, 0, 1, 2, 3, 4, 5, 6, 7, 8, 9, 10, 11, 12, 13, 14, 15, 16, 17, 18, 19, 20, 21, 22, 23, 24, 25, 26, 27, 28, 29, 0, 1, 2, 3, 4, 5, 6, 7, 8, 9]\n"
     ]
    }
   ],
   "source": [
    "r = 30\n",
    "a = 20\n",
    "\n",
    "value = [i for i in range(r)]\n",
    "h = list(range(100))\n",
    "ans = [value[(i + )%r] for i in h]\n",
    "print(ans)"
   ]
  },
  {
   "cell_type": "code",
   "execution_count": 1,
   "metadata": {},
   "outputs": [
    {
     "name": "stdout",
     "output_type": "stream",
     "text": [
      "[1, 2, 3] 4\n",
      "[2, 3, 4] 5\n"
     ]
    }
   ],
   "source": [
    "lis = [[1,2,3,4], [2,3,4,5]]\n",
    "for *e, i in lis:\n",
    "    print(e, i)"
   ]
  },
  {
   "cell_type": "code",
   "execution_count": 3,
   "metadata": {},
   "outputs": [],
   "source": [
    "import numpy as np"
   ]
  },
  {
   "cell_type": "code",
   "execution_count": 4,
   "metadata": {},
   "outputs": [],
   "source": [
    "a = np.ones((2,2))"
   ]
  },
  {
   "cell_type": "code",
   "execution_count": 7,
   "metadata": {},
   "outputs": [
    {
     "name": "stdout",
     "output_type": "stream",
     "text": [
      "-51\n"
     ]
    }
   ],
   "source": [
    "class Solution:\n",
    "    def calculate(self, s):    \n",
    "        def calc(it):\n",
    "            def update(op, v):\n",
    "                if op == \"+\": stack.append(v)\n",
    "                if op == \"-\": stack.append(-v)\n",
    "                if op == \"*\": stack.append(stack.pop() * v)\n",
    "                if op == \"/\": stack.append(int(stack.pop() / v))\n",
    "            num, stack, sign = 0, [], \"+\"\n",
    "            while it < len(s):\n",
    "                if s[it].isdigit():\n",
    "                    num = num * 10 + int(s[it])\n",
    "                elif s[it] in \"+-*/\":\n",
    "                    update(sign, num)\n",
    "                    num, sign = 0, s[it]\n",
    "                elif s[it] == \"(\":\n",
    "                    num, j = calc(it + 1)\n",
    "                    it = j - 1\n",
    "                elif s[it] == \")\":\n",
    "                    update(sign, num)\n",
    "                    return sum(stack), it + 1\n",
    "                it += 1\n",
    "            update(sign, num)\n",
    "            return sum(stack)\n",
    "        return calc(0)\n",
    "    \n",
    "s = \"-16-6-22+13*-14+13-6\"\n",
    "home = Solution().calculate(s)\n",
    "print(home)"
   ]
  },
  {
   "cell_type": "code",
   "execution_count": 8,
   "metadata": {},
   "outputs": [],
   "source": [
    "from sortedcontainers import *"
   ]
  },
  {
   "cell_type": "code",
   "execution_count": 17,
   "metadata": {},
   "outputs": [],
   "source": [
    "a = SortedList()\n",
    "b = SortedDict()"
   ]
  },
  {
   "cell_type": "code",
   "execution_count": 18,
   "metadata": {},
   "outputs": [
    {
     "name": "stdout",
     "output_type": "stream",
     "text": [
      "Sorted list is a sorted mutable sequence.\n",
      "\n",
      "    Sorted list values are maintained in sorted order.\n",
      "\n",
      "    Sorted list values must be comparable. The total ordering of values must\n",
      "    not change while they are stored in the sorted list.\n",
      "\n",
      "    Methods for adding values:\n",
      "\n",
      "    * :func:`SortedList.add`\n",
      "    * :func:`SortedList.update`\n",
      "    * :func:`SortedList.__add__`\n",
      "    * :func:`SortedList.__iadd__`\n",
      "    * :func:`SortedList.__mul__`\n",
      "    * :func:`SortedList.__imul__`\n",
      "\n",
      "    Methods for removing values:\n",
      "\n",
      "    * :func:`SortedList.clear`\n",
      "    * :func:`SortedList.discard`\n",
      "    * :func:`SortedList.remove`\n",
      "    * :func:`SortedList.pop`\n",
      "    * :func:`SortedList.__delitem__`\n",
      "\n",
      "    Methods for looking up values:\n",
      "\n",
      "    * :func:`SortedList.bisect_left`\n",
      "    * :func:`SortedList.bisect_right`\n",
      "    * :func:`SortedList.count`\n",
      "    * :func:`SortedList.index`\n",
      "    * :func:`SortedList.__contains__`\n",
      "    * :func:`SortedList.__getitem__`\n",
      "\n",
      "    Methods for iterating values:\n",
      "\n",
      "    * :func:`SortedList.irange`\n",
      "    * :func:`SortedList.islice`\n",
      "    * :func:`SortedList.__iter__`\n",
      "    * :func:`SortedList.__reversed__`\n",
      "\n",
      "    Methods for miscellany:\n",
      "\n",
      "    * :func:`SortedList.copy`\n",
      "    * :func:`SortedList.__len__`\n",
      "    * :func:`SortedList.__repr__`\n",
      "    * :func:`SortedList._check`\n",
      "    * :func:`SortedList._reset`\n",
      "\n",
      "    Sorted lists use lexicographical ordering semantics when compared to other\n",
      "    sequences.\n",
      "\n",
      "    Some methods of mutable sequences are not supported and will raise\n",
      "    not-implemented error.\n",
      "\n",
      "    \n"
     ]
    }
   ],
   "source": [
    "print(a.__doc__)"
   ]
  },
  {
   "cell_type": "code",
   "execution_count": 19,
   "metadata": {},
   "outputs": [
    {
     "name": "stdout",
     "output_type": "stream",
     "text": [
      "Sorted dict is a sorted mutable mapping.\n",
      "\n",
      "    Sorted dict keys are maintained in sorted order. The design of sorted dict\n",
      "    is simple: sorted dict inherits from dict to store items and maintains a\n",
      "    sorted list of keys.\n",
      "\n",
      "    Sorted dict keys must be hashable and comparable. The hash and total\n",
      "    ordering of keys must not change while they are stored in the sorted dict.\n",
      "\n",
      "    Mutable mapping methods:\n",
      "\n",
      "    * :func:`SortedDict.__getitem__` (inherited from dict)\n",
      "    * :func:`SortedDict.__setitem__`\n",
      "    * :func:`SortedDict.__delitem__`\n",
      "    * :func:`SortedDict.__iter__`\n",
      "    * :func:`SortedDict.__len__` (inherited from dict)\n",
      "\n",
      "    Methods for adding items:\n",
      "\n",
      "    * :func:`SortedDict.setdefault`\n",
      "    * :func:`SortedDict.update`\n",
      "\n",
      "    Methods for removing items:\n",
      "\n",
      "    * :func:`SortedDict.clear`\n",
      "    * :func:`SortedDict.pop`\n",
      "    * :func:`SortedDict.popitem`\n",
      "\n",
      "    Methods for looking up items:\n",
      "\n",
      "    * :func:`SortedDict.__contains__` (inherited from dict)\n",
      "    * :func:`SortedDict.get` (inherited from dict)\n",
      "    * :func:`SortedDict.peekitem`\n",
      "\n",
      "    Methods for views:\n",
      "\n",
      "    * :func:`SortedDict.keys`\n",
      "    * :func:`SortedDict.items`\n",
      "    * :func:`SortedDict.values`\n",
      "\n",
      "    Methods for miscellany:\n",
      "\n",
      "    * :func:`SortedDict.copy`\n",
      "    * :func:`SortedDict.fromkeys`\n",
      "    * :func:`SortedDict.__reversed__`\n",
      "    * :func:`SortedDict.__eq__` (inherited from dict)\n",
      "    * :func:`SortedDict.__ne__` (inherited from dict)\n",
      "    * :func:`SortedDict.__repr__`\n",
      "    * :func:`SortedDict._check`\n",
      "\n",
      "    Sorted list methods available (applies to keys):\n",
      "\n",
      "    * :func:`SortedList.bisect_left`\n",
      "    * :func:`SortedList.bisect_right`\n",
      "    * :func:`SortedList.count`\n",
      "    * :func:`SortedList.index`\n",
      "    * :func:`SortedList.irange`\n",
      "    * :func:`SortedList.islice`\n",
      "    * :func:`SortedList._reset`\n",
      "\n",
      "    Additional sorted list methods available, if key-function used:\n",
      "\n",
      "    * :func:`SortedKeyList.bisect_key_left`\n",
      "    * :func:`SortedKeyList.bisect_key_right`\n",
      "    * :func:`SortedKeyList.irange_key`\n",
      "\n",
      "    Sorted dicts may only be compared for equality and inequality.\n",
      "\n",
      "    \n"
     ]
    }
   ],
   "source": [
    "print(b.__doc__)"
   ]
  },
  {
   "cell_type": "code",
   "execution_count": 10,
   "metadata": {},
   "outputs": [
    {
     "name": "stdout",
     "output_type": "stream",
     "text": [
      "done\n"
     ]
    }
   ],
   "source": [
    "def check(a):\n",
    "    for i in range(9):\n",
    "        for j in range(9):\n",
    "            u = [*a[i]]\n",
    "            v = [a[x][j] for x in range(9)]\n",
    "            u.pop(j)\n",
    "            v.pop(i)\n",
    "            temp = a[i][j]\n",
    "            if temp in u or temp in v or int(temp)>9 or int(temp)<1:\n",
    "                print(temp, i, j)\n",
    "                \n",
    "    print(\"done\")\n",
    "a = [[\"5\",\"3\",\"9\",\"2\",\"7\",\"6\",\"4\",\"1\",\"8\"],[\"6\",\"2\",\"3\",\"1\",\"9\",\"5\",\"8\",\"4\",\"7\"],[\"3\",\"9\",\"8\",\"7\",\"4\",\"1\",\"5\",\"6\",\"2\"],[\"8\",\"1\",\"2\",\"9\",\"6\",\"4\",\"7\",\"5\",\"3\"],[\"4\",\"7\",\"6\",\"8\",\"5\",\"3\",\"9\",\"2\",\"1\"],[\"7\",\"4\",\"5\",\"3\",\"2\",\"8\",\"1\",\"9\",\"6\"],[\"9\",\"6\",\"1\",\"5\",\"3\",\"7\",\"2\",\"8\",\"4\"],[\"2\",\"8\",\"7\",\"4\",\"1\",\"9\",\"6\",\"3\",\"5\"],[\"1\",\"5\",\"4\",\"6\",\"8\",\"2\",\"3\",\"7\",\"9\"]]\n",
    "check(a)"
   ]
  },
  {
   "cell_type": "code",
   "execution_count": 27,
   "metadata": {},
   "outputs": [
    {
     "name": "stdout",
     "output_type": "stream",
     "text": [
      "\u001b[31m  \u001b[0m  \u001b[32m  \u001b[0m  \u001b[33m⇓ \u001b[0m  \u001b[34m  \u001b[0m  \u001b[35m⇓ \u001b[0m  \u001b[36m  \u001b[0m  \u001b[97m  \u001b[0m  \u001b[31m  \u001b[0m  \u001b[32m⇓ \u001b[0m  \u001b[33m  \u001b[0m  \u001b[34m  \u001b[0m  \u001b[35m  \u001b[0m  \n",
      "\u001b[31m  \u001b[0m  \u001b[32m  \u001b[0m  \u001b[33m2\u001b[0m   \u001b[34m  \u001b[0m  \u001b[35m4\u001b[0m   \u001b[36m  \u001b[0m  \u001b[97m  \u001b[0m  \u001b[31m  \u001b[0m  \u001b[32m8\u001b[0m   \u001b[33m  \u001b[0m  \u001b[34m  \u001b[0m  \u001b[35m  \u001b[0m  \n",
      "\u001b[31m  \u001b[0m  \u001b[32m  \u001b[0m  \u001b[33m| \u001b[0m  \u001b[34m  \u001b[0m  \u001b[35m| \u001b[0m  \u001b[36m  \u001b[0m  \u001b[97m  \u001b[0m  \u001b[31m  \u001b[0m  \u001b[32m| \u001b[0m  \u001b[33m  \u001b[0m  \u001b[34m  \u001b[0m  \u001b[35m  \u001b[0m  \n",
      "\u001b[31m  \u001b[0m  \u001b[32m  \u001b[0m  \u001b[33m| \u001b[0m  \u001b[34m  \u001b[0m  \u001b[35m| \u001b[0m  \u001b[36m██\u001b[0m  \u001b[97m  \u001b[0m  \u001b[31m  \u001b[0m  \u001b[32m| \u001b[0m  \u001b[33m  \u001b[0m  \u001b[34m  \u001b[0m  \u001b[35m  \u001b[0m  \n",
      "\u001b[31m  \u001b[0m  \u001b[32m  \u001b[0m  \u001b[33m| \u001b[0m  \u001b[34m  \u001b[0m  \u001b[35m| \u001b[0m  \u001b[36m██\u001b[0m  \u001b[97m  \u001b[0m  \u001b[31m  \u001b[0m  \u001b[32m| \u001b[0m  \u001b[33m  \u001b[0m  \u001b[34m  \u001b[0m  \u001b[35m  \u001b[0m  \n",
      "\u001b[31m  \u001b[0m  \u001b[32m  \u001b[0m  \u001b[33m| \u001b[0m  \u001b[34m  \u001b[0m  \u001b[35m██\u001b[0m  \u001b[36m██\u001b[0m  \u001b[97m  \u001b[0m  \u001b[31m  \u001b[0m  \u001b[32m| \u001b[0m  \u001b[33m  \u001b[0m  \u001b[34m  \u001b[0m  \u001b[35m██\u001b[0m  \n",
      "\u001b[31m  \u001b[0m  \u001b[32m  \u001b[0m  \u001b[33m| \u001b[0m  \u001b[34m██\u001b[0m  \u001b[35m██\u001b[0m  \u001b[36m██\u001b[0m  \u001b[97m  \u001b[0m  \u001b[31m  \u001b[0m  \u001b[32m| \u001b[0m  \u001b[33m  \u001b[0m  \u001b[34m  \u001b[0m  \u001b[35m██\u001b[0m  \n",
      "\u001b[31m  \u001b[0m  \u001b[32m  \u001b[0m  \u001b[33m| \u001b[0m  \u001b[34m██\u001b[0m  \u001b[35m██\u001b[0m  \u001b[36m██\u001b[0m  \u001b[97m  \u001b[0m  \u001b[31m  \u001b[0m  \u001b[32m██\u001b[0m  \u001b[33m  \u001b[0m  \u001b[34m  \u001b[0m  \u001b[35m██\u001b[0m  \n",
      "\u001b[31m  \u001b[0m  \u001b[32m  \u001b[0m  \u001b[33m| \u001b[0m  \u001b[34m██\u001b[0m  \u001b[35m██\u001b[0m  \u001b[36m██\u001b[0m  \u001b[97m  \u001b[0m  \u001b[31m  \u001b[0m  \u001b[32m██\u001b[0m  \u001b[33m  \u001b[0m  \u001b[34m  \u001b[0m  \u001b[35m██\u001b[0m  \n",
      "\u001b[31m  \u001b[0m  \u001b[32m  \u001b[0m  \u001b[33m| \u001b[0m  \u001b[34m██\u001b[0m  \u001b[35m██\u001b[0m  \u001b[36m██\u001b[0m  \u001b[97m  \u001b[0m  \u001b[31m██\u001b[0m  \u001b[32m██\u001b[0m  \u001b[33m  \u001b[0m  \u001b[34m  \u001b[0m  \u001b[35m██\u001b[0m  \n",
      "\u001b[31m  \u001b[0m  \u001b[32m  \u001b[0m  \u001b[33m| \u001b[0m  \u001b[34m██\u001b[0m  \u001b[35m██\u001b[0m  \u001b[36m██\u001b[0m  \u001b[97m  \u001b[0m  \u001b[31m██\u001b[0m  \u001b[32m██\u001b[0m  \u001b[33m  \u001b[0m  \u001b[34m  \u001b[0m  \u001b[35m██\u001b[0m  \n",
      "\u001b[31m  \u001b[0m  \u001b[32m  \u001b[0m  \u001b[33m| \u001b[0m  \u001b[34m██\u001b[0m  \u001b[35m██\u001b[0m  \u001b[36m██\u001b[0m  \u001b[97m  \u001b[0m  \u001b[31m██\u001b[0m  \u001b[32m██\u001b[0m  \u001b[33m██\u001b[0m  \u001b[34m  \u001b[0m  \u001b[35m██\u001b[0m  \n",
      "\u001b[31m██\u001b[0m  \u001b[32m  \u001b[0m  \u001b[33m| \u001b[0m  \u001b[34m██\u001b[0m  \u001b[35m██\u001b[0m  \u001b[36m██\u001b[0m  \u001b[97m  \u001b[0m  \u001b[31m██\u001b[0m  \u001b[32m██\u001b[0m  \u001b[33m██\u001b[0m  \u001b[34m  \u001b[0m  \u001b[35m██\u001b[0m  \n",
      "\u001b[31m  \u001b[0m  \u001b[32m  \u001b[0m  \u001b[33m██\u001b[0m  \u001b[34m  \u001b[0m  \u001b[35m  \u001b[0m  \u001b[36m  \u001b[0m  \u001b[97m██\u001b[0m  \u001b[31m  \u001b[0m  \u001b[32m  \u001b[0m  \u001b[33m  \u001b[0m  \u001b[34m██\u001b[0m  \u001b[35m  \u001b[0m  \n",
      "\u001b[31m  \u001b[0m  \u001b[32m  \u001b[0m  \u001b[33m██\u001b[0m  \u001b[34m  \u001b[0m  \u001b[35m  \u001b[0m  \u001b[36m  \u001b[0m  \u001b[97m  \u001b[0m  \u001b[31m  \u001b[0m  \u001b[32m  \u001b[0m  \u001b[33m  \u001b[0m  \u001b[34m██\u001b[0m  \u001b[35m  \u001b[0m  \n",
      "\u001b[31m  \u001b[0m  \u001b[32m  \u001b[0m  \u001b[33m██\u001b[0m  \u001b[34m  \u001b[0m  \u001b[35m  \u001b[0m  \u001b[36m  \u001b[0m  \u001b[97m  \u001b[0m  \u001b[31m  \u001b[0m  \u001b[32m  \u001b[0m  \u001b[33m  \u001b[0m  \u001b[34m██\u001b[0m  \u001b[35m  \u001b[0m  \n",
      "\u001b[31m  \u001b[0m  \u001b[32m  \u001b[0m  \u001b[33m  \u001b[0m  \u001b[34m  \u001b[0m  \u001b[35m  \u001b[0m  \u001b[36m  \u001b[0m  \u001b[97m  \u001b[0m  \u001b[31m  \u001b[0m  \u001b[32m  \u001b[0m  \u001b[33m  \u001b[0m  \u001b[34m██\u001b[0m  \u001b[35m  \u001b[0m  \n",
      "\u001b[31m  \u001b[0m  \u001b[32m  \u001b[0m  \u001b[33m  \u001b[0m  \u001b[34m  \u001b[0m  \u001b[35m  \u001b[0m  \u001b[36m  \u001b[0m  \u001b[97m  \u001b[0m  \u001b[31m  \u001b[0m  \u001b[32m  \u001b[0m  \u001b[33m  \u001b[0m  \u001b[34m██\u001b[0m  \u001b[35m  \u001b[0m  \n",
      "\u001b[31m  \u001b[0m  \u001b[32m  \u001b[0m  \u001b[33m  \u001b[0m  \u001b[34m  \u001b[0m  \u001b[35m  \u001b[0m  \u001b[36m  \u001b[0m  \u001b[97m  \u001b[0m  \u001b[31m  \u001b[0m  \u001b[32m  \u001b[0m  \u001b[33m  \u001b[0m  \u001b[34m  \u001b[0m  \u001b[35m  \u001b[0m  \n",
      "\u001b[31m  \u001b[0m  \u001b[32m  \u001b[0m  \u001b[33m  \u001b[0m  \u001b[34m  \u001b[0m  \u001b[35m  \u001b[0m  \u001b[36m  \u001b[0m  \u001b[97m  \u001b[0m  \u001b[31m  \u001b[0m  \u001b[32m  \u001b[0m  \u001b[33m  \u001b[0m  \u001b[34m  \u001b[0m  \u001b[35m  \u001b[0m  \n"
     ]
    }
   ],
   "source": [
    "from bisect import *\n",
    "\n",
    "from time import sleep\n",
    "from IPython.display import clear_output, display\n",
    "\n",
    "from termcolor import colored\n",
    "color = ['red', 'green', 'yellow', 'blue', 'magenta', 'cyan', 'white']\n",
    "\n",
    "\n",
    "def render(lis, selector=set(), x='██', m='██', b='  ', s='  ', t='⇓ ', d='| ',w=True, depth=None):\n",
    "    '''\n",
    "    x: space filler\n",
    "    b: blank space btw lines\n",
    "    s: empty space filler\n",
    "    '''\n",
    "    \n",
    "    n = len(lis)\n",
    "    p = len(color)\n",
    "    up = max(0, max(lis))\n",
    "    down = min(0, min(lis))\n",
    "\n",
    "    depth = (up - down) if depth is None else depth\n",
    "\n",
    "    for j in range(n):\n",
    "        if j in selector: print(colored(t, color[j%p]), end=b)\n",
    "        else: print(colored(s, color[j%p]), end=b)\n",
    "    print()\n",
    "        \n",
    "    for j in range(n):\n",
    "        if j in selector: print(colored(j, color[j%p]) + \" \", end=b)\n",
    "        else: print(colored(s, color[j%p]), end=b)\n",
    "    print()\n",
    "\n",
    "    for i in range(depth+2):\n",
    "        for j in range(n):\n",
    "            if up - i>=0:\n",
    "                if lis[j] - (up - i) > 0:\n",
    "                    print(colored(x, color[j%p]), end=b)\n",
    "                else:\n",
    "                    e = d if j in selector else s\n",
    "                    print(colored(e, color[j%p]), end=b)\n",
    "            else:\n",
    "                if up - i > lis[j]:\n",
    "                    print(colored(m, color[j%p]), end=b)\n",
    "                else:\n",
    "                    print(colored(s, color[j%p]), end=b)\n",
    "        print()\n",
    "        \n",
    "        \n",
    "lis = [1,0,-4,7,8,10,-2,4,6,2,-6,8]\n",
    "render(lis, selector={2,8,4})"
   ]
  },
  {
   "cell_type": "code",
   "execution_count": 28,
   "metadata": {},
   "outputs": [
    {
     "name": "stdout",
     "output_type": "stream",
     "text": [
      "11 -17\n",
      "\u001b[31m  \u001b[0m  \u001b[32m  \u001b[0m  \u001b[33m  \u001b[0m  \u001b[34m  \u001b[0m  \u001b[35m  \u001b[0m  \u001b[36m  \u001b[0m  \u001b[97m  \u001b[0m  \u001b[31m  \u001b[0m  \u001b[32m  \u001b[0m  \u001b[33m  \u001b[0m  \u001b[34m⇓ \u001b[0m  \u001b[35m⇓ \u001b[0m  \n",
      "\u001b[31m  \u001b[0m  \u001b[32m  \u001b[0m  \u001b[33m  \u001b[0m  \u001b[34m  \u001b[0m  \u001b[35m  \u001b[0m  \u001b[36m  \u001b[0m  \u001b[97m  \u001b[0m  \u001b[31m  \u001b[0m  \u001b[32m  \u001b[0m  \u001b[33m  \u001b[0m  \u001b[34m10\u001b[0m   \u001b[35m11\u001b[0m   \n",
      "\u001b[31m  \u001b[0m  \u001b[32m  \u001b[0m  \u001b[33m  \u001b[0m  \u001b[34m  \u001b[0m  \u001b[35m  \u001b[0m  \u001b[36m  \u001b[0m  \u001b[97m  \u001b[0m  \u001b[31m  \u001b[0m  \u001b[32m  \u001b[0m  \u001b[33m  \u001b[0m  \u001b[34m| \u001b[0m  \u001b[35m| \u001b[0m  \n",
      "\u001b[31m  \u001b[0m  \u001b[32m  \u001b[0m  \u001b[33m  \u001b[0m  \u001b[34m  \u001b[0m  \u001b[35m  \u001b[0m  \u001b[36m  \u001b[0m  \u001b[97m  \u001b[0m  \u001b[31m  \u001b[0m  \u001b[32m  \u001b[0m  \u001b[33m  \u001b[0m  \u001b[34m| \u001b[0m  \u001b[35m██\u001b[0m  \n",
      "\u001b[31m  \u001b[0m  \u001b[32m  \u001b[0m  \u001b[33m  \u001b[0m  \u001b[34m  \u001b[0m  \u001b[35m  \u001b[0m  \u001b[36m  \u001b[0m  \u001b[97m  \u001b[0m  \u001b[31m  \u001b[0m  \u001b[32m  \u001b[0m  \u001b[33m  \u001b[0m  \u001b[34m| \u001b[0m  \u001b[35m██\u001b[0m  \n",
      "\u001b[31m  \u001b[0m  \u001b[32m  \u001b[0m  \u001b[33m  \u001b[0m  \u001b[34m  \u001b[0m  \u001b[35m  \u001b[0m  \u001b[36m  \u001b[0m  \u001b[97m  \u001b[0m  \u001b[31m  \u001b[0m  \u001b[32m  \u001b[0m  \u001b[33m██\u001b[0m  \u001b[34m██\u001b[0m  \u001b[35m██\u001b[0m  \n",
      "\u001b[31m  \u001b[0m  \u001b[32m  \u001b[0m  \u001b[33m  \u001b[0m  \u001b[34m  \u001b[0m  \u001b[35m  \u001b[0m  \u001b[36m  \u001b[0m  \u001b[97m  \u001b[0m  \u001b[31m  \u001b[0m  \u001b[32m██\u001b[0m  \u001b[33m██\u001b[0m  \u001b[34m██\u001b[0m  \u001b[35m██\u001b[0m  \n",
      "\u001b[31m  \u001b[0m  \u001b[32m  \u001b[0m  \u001b[33m  \u001b[0m  \u001b[34m  \u001b[0m  \u001b[35m  \u001b[0m  \u001b[36m  \u001b[0m  \u001b[97m██\u001b[0m  \u001b[31m██\u001b[0m  \u001b[32m██\u001b[0m  \u001b[33m██\u001b[0m  \u001b[34m██\u001b[0m  \u001b[35m██\u001b[0m  \n",
      "\u001b[31m  \u001b[0m  \u001b[32m  \u001b[0m  \u001b[33m  \u001b[0m  \u001b[34m  \u001b[0m  \u001b[35m  \u001b[0m  \u001b[36m  \u001b[0m  \u001b[97m██\u001b[0m  \u001b[31m██\u001b[0m  \u001b[32m██\u001b[0m  \u001b[33m██\u001b[0m  \u001b[34m██\u001b[0m  \u001b[35m██\u001b[0m  \n",
      "\u001b[31m  \u001b[0m  \u001b[32m  \u001b[0m  \u001b[33m  \u001b[0m  \u001b[34m  \u001b[0m  \u001b[35m  \u001b[0m  \u001b[36m██\u001b[0m  \u001b[97m██\u001b[0m  \u001b[31m██\u001b[0m  \u001b[32m██\u001b[0m  \u001b[33m██\u001b[0m  \u001b[34m██\u001b[0m  \u001b[35m██\u001b[0m  \n",
      "\u001b[31m  \u001b[0m  \u001b[32m  \u001b[0m  \u001b[33m  \u001b[0m  \u001b[34m  \u001b[0m  \u001b[35m  \u001b[0m  \u001b[36m██\u001b[0m  \u001b[97m██\u001b[0m  \u001b[31m██\u001b[0m  \u001b[32m██\u001b[0m  \u001b[33m██\u001b[0m  \u001b[34m██\u001b[0m  \u001b[35m██\u001b[0m  \n",
      "\u001b[31m  \u001b[0m  \u001b[32m  \u001b[0m  \u001b[33m  \u001b[0m  \u001b[34m  \u001b[0m  \u001b[35m██\u001b[0m  \u001b[36m██\u001b[0m  \u001b[97m██\u001b[0m  \u001b[31m██\u001b[0m  \u001b[32m██\u001b[0m  \u001b[33m██\u001b[0m  \u001b[34m██\u001b[0m  \u001b[35m██\u001b[0m  \n",
      "\u001b[31m  \u001b[0m  \u001b[32m  \u001b[0m  \u001b[33m  \u001b[0m  \u001b[34m██\u001b[0m  \u001b[35m██\u001b[0m  \u001b[36m██\u001b[0m  \u001b[97m██\u001b[0m  \u001b[31m██\u001b[0m  \u001b[32m██\u001b[0m  \u001b[33m██\u001b[0m  \u001b[34m██\u001b[0m  \u001b[35m██\u001b[0m  \n",
      "\u001b[31m██\u001b[0m  \u001b[32m██\u001b[0m  \u001b[33m██\u001b[0m  \u001b[34m  \u001b[0m  \u001b[35m  \u001b[0m  \u001b[36m  \u001b[0m  \u001b[97m  \u001b[0m  \u001b[31m  \u001b[0m  \u001b[32m  \u001b[0m  \u001b[33m  \u001b[0m  \u001b[34m  \u001b[0m  \u001b[35m  \u001b[0m  \n",
      "\u001b[31m██\u001b[0m  \u001b[32m██\u001b[0m  \u001b[33m  \u001b[0m  \u001b[34m  \u001b[0m  \u001b[35m  \u001b[0m  \u001b[36m  \u001b[0m  \u001b[97m  \u001b[0m  \u001b[31m  \u001b[0m  \u001b[32m  \u001b[0m  \u001b[33m  \u001b[0m  \u001b[34m  \u001b[0m  \u001b[35m  \u001b[0m  \n",
      "\u001b[31m██\u001b[0m  \u001b[32m██\u001b[0m  \u001b[33m  \u001b[0m  \u001b[34m  \u001b[0m  \u001b[35m  \u001b[0m  \u001b[36m  \u001b[0m  \u001b[97m  \u001b[0m  \u001b[31m  \u001b[0m  \u001b[32m  \u001b[0m  \u001b[33m  \u001b[0m  \u001b[34m  \u001b[0m  \u001b[35m  \u001b[0m  \n",
      "\u001b[31m██\u001b[0m  \u001b[32m  \u001b[0m  \u001b[33m  \u001b[0m  \u001b[34m  \u001b[0m  \u001b[35m  \u001b[0m  \u001b[36m  \u001b[0m  \u001b[97m  \u001b[0m  \u001b[31m  \u001b[0m  \u001b[32m  \u001b[0m  \u001b[33m  \u001b[0m  \u001b[34m  \u001b[0m  \u001b[35m  \u001b[0m  \n",
      "\u001b[31m██\u001b[0m  \u001b[32m  \u001b[0m  \u001b[33m  \u001b[0m  \u001b[34m  \u001b[0m  \u001b[35m  \u001b[0m  \u001b[36m  \u001b[0m  \u001b[97m  \u001b[0m  \u001b[31m  \u001b[0m  \u001b[32m  \u001b[0m  \u001b[33m  \u001b[0m  \u001b[34m  \u001b[0m  \u001b[35m  \u001b[0m  \n",
      "\u001b[31m  \u001b[0m  \u001b[32m  \u001b[0m  \u001b[33m  \u001b[0m  \u001b[34m  \u001b[0m  \u001b[35m  \u001b[0m  \u001b[36m  \u001b[0m  \u001b[97m  \u001b[0m  \u001b[31m  \u001b[0m  \u001b[32m  \u001b[0m  \u001b[33m  \u001b[0m  \u001b[34m  \u001b[0m  \u001b[35m  \u001b[0m  \n",
      "\u001b[31m  \u001b[0m  \u001b[32m  \u001b[0m  \u001b[33m  \u001b[0m  \u001b[34m  \u001b[0m  \u001b[35m  \u001b[0m  \u001b[36m  \u001b[0m  \u001b[97m  \u001b[0m  \u001b[31m  \u001b[0m  \u001b[32m  \u001b[0m  \u001b[33m  \u001b[0m  \u001b[34m  \u001b[0m  \u001b[35m  \u001b[0m  \n",
      "1\n"
     ]
    }
   ],
   "source": [
    "nums = [-1,2,1,-4]\n",
    "nums = [1,6,-4,7,8,10,-2,4,6,2,-6,8]\n",
    "target = 1\n",
    "\n",
    "\n",
    "def a(nums, target):\n",
    "    nums.sort()\n",
    "    n = len(nums)\n",
    "    low, high = 0, n-1\n",
    "    ans = 1e20\n",
    "\n",
    "    while low<high:\n",
    "        val = target - (nums[low] + nums[high])\n",
    "        index = bisect_left(nums, val, low+1, high)\n",
    "        \n",
    "        clear_output(wait=True)\n",
    "        print(index, val)\n",
    "        render(nums, selector={low, index, high})\n",
    "        sleep(1)\n",
    "\n",
    "        if index<low:\n",
    "            high -= 1\n",
    "        elif index>high:\n",
    "            low += 1\n",
    "        else:\n",
    "            temp = target-(nums[low]+nums[index]+nums[high])\n",
    "            ans = min(ans, abs(temp))\n",
    "            if temp>=0:\n",
    "                high -= 1\n",
    "            else:\n",
    "                low += 1\n",
    "    print(ans)\n",
    "\n",
    "    \n",
    "a(nums, target)"
   ]
  },
  {
   "cell_type": "code",
   "execution_count": 18,
   "metadata": {},
   "outputs": [
    {
     "name": "stdout",
     "output_type": "stream",
     "text": [
      "██████      ████  ██\n",
      "████                \n",
      "██    ██    ██  ████\n",
      "██    ██    ██  ██  \n",
      "  ████      ██  ██  \n",
      "██  ████            \n",
      "    ████      ██  ██\n",
      "  ██            ████\n",
      "██    ████    ████  \n",
      "██████  ████  ██    \n"
     ]
    }
   ],
   "source": [
    "from time import sleep\n",
    "from IPython.display import clear_output, display\n",
    "\n",
    "import numpy as np\n",
    "\n",
    "def draw(grid):\n",
    "    clear_output(wait=True)\n",
    "    for x in grid:\n",
    "        for y in x:\n",
    "            if y<=0:print(\"██\",end=\"\")\n",
    "            else: print(\"  \", end=\"\")\n",
    "        print()\n",
    "    sleep(0.2)\n",
    "    \n",
    "for i in range(10):\n",
    "    a = 2*np.random.rand(10, 10) - 1\n",
    "    draw(a)"
   ]
  },
  {
   "cell_type": "code",
   "execution_count": 6,
   "metadata": {},
   "outputs": [
    {
     "name": "stdout",
     "output_type": "stream",
     "text": [
      "[32, 60, 87, 41, 21, 43, 7, 95, 90, 17]\n"
     ]
    }
   ],
   "source": [
    "import random\n",
    "from debug import *\n",
    "\n",
    "def rl(s=10):\n",
    "    lis = range(100)\n",
    "    value = random.sample(lis, k=s)\n",
    "    return value\n",
    "\n",
    "def one(lis, t):\n",
    "    n = len(lis)\n",
    "    dp = [[0]*(n+1) for i in range(t+1)]\n",
    "    for i in range(n+1):\n",
    "        dp[0][i] = 1\n",
    "    \n",
    "    for i in range(1, t+1):\n",
    "        for j in range(1, n+1):\n",
    "            index = j-1\n",
    "            \n",
    "            if i>=lis[index]:\n",
    "                dp[i][j] = dp[i][j-1] + dp[i-lis[index]][j-1]\n",
    "            else:\n",
    "                dp[i][j] = dp[i][j-1]\n",
    "    return dp[-1][-1]\n",
    "\n",
    "\n",
    "lis = rl()\n",
    "print(lis)"
   ]
  },
  {
   "cell_type": "code",
   "execution_count": 52,
   "metadata": {},
   "outputs": [],
   "source": [
    "def two(lis, t):\n",
    "    n = len(lis)\n",
    "    dp = [0]*(t+1)\n",
    "    dp[0] = 1\n",
    "    \n",
    "    for x in lis:\n",
    "        temp = [0]*(t+1)\n",
    "        \n",
    "        for val in range(t+1):\n",
    "            if x>val:\n",
    "                temp[val] = dp[val]\n",
    "            else:\n",
    "                temp[val] = dp[val] + dp[val - x]\n",
    "        dp = temp[:]\n",
    "    return dp[-1]\n",
    "\n",
    "\n",
    "def three(lis, t):\n",
    "    n = len(lis)\n",
    "    dp = [0]*(t+1)\n",
    "    dp[0] = 1\n",
    "    \n",
    "    for val in range(1, t+1):\n",
    "        temp = [0]*(t+1)\n",
    "        temp[0] = 1\n",
    "        \n",
    "        for x in lis:\n",
    "            if x>val:\n",
    "                temp[val] = dp[val]\n",
    "            else:\n",
    "                temp[val] = dp[val] + dp[val - x]\n",
    "        \n",
    "        dp = temp[:]\n",
    "        \n",
    "    return dp[-1]"
   ]
  },
  {
   "cell_type": "code",
   "execution_count": 53,
   "metadata": {},
   "outputs": [
    {
     "name": "stdout",
     "output_type": "stream",
     "text": [
      "one 3\n",
      "two 4\n",
      "three 0\n"
     ]
    }
   ],
   "source": [
    "print(\"one\", one(lis, 60))\n",
    "print(\"two\", two(lis, 60))\n",
    "print(\"three\", three(lis, 60))"
   ]
  },
  {
   "cell_type": "code",
   "execution_count": 23,
   "metadata": {},
   "outputs": [],
   "source": [
    "import random\n",
    "from collections import defaultdict\n",
    "\n",
    "def randomArray(n):\n",
    "    r = range(100)\n",
    "    rand_array = [random.choice(r) for _ in range(n)] \n",
    "    return rand_array\n",
    "\n",
    "\n",
    "def ans(nums):\n",
    "    count = 0\n",
    "    n = len(nums)\n",
    "    for i in range(n):\n",
    "        for j in range(i+1):\n",
    "            count += len(set(nums[j:i+1]))\n",
    "    return count\n",
    "\n",
    "def sol(nums):\n",
    "    count = 0\n",
    "    n = len(nums)\n",
    "    pre = [-1]*n\n",
    "    suf = [n]*n\n",
    "\n",
    "    prev = defaultdict(lambda: -1)\n",
    "    for i in range(n):\n",
    "        pre[i] = prev[nums[i]]\n",
    "        prev[nums[i]] = i\n",
    "\n",
    "    prev = defaultdict(lambda: n)\n",
    "    for i in reversed(range(n)):\n",
    "        suf[i] = prev[nums[i]]\n",
    "        prev[nums[i]] = i\n",
    "        \n",
    "    for i in range(n):\n",
    "        count += (i-pre[i])*(suf[i]-i)\n",
    "    return count"
   ]
  },
  {
   "cell_type": "code",
   "execution_count": 35,
   "metadata": {},
   "outputs": [
    {
     "name": "stdout",
     "output_type": "stream",
     "text": [
      "Button 1 Pressed!\n",
      "Button 2 Pressed!\n",
      "Button 4 Pressed!\n",
      "Button 6 Pressed!\n",
      "Button 8 Pressed!\n",
      "Button 10 Pressed!\n"
     ]
    }
   ],
   "source": [
    "import tkinter as tk\n",
    "import time\n",
    "\n",
    "def on_button_click(button_number):\n",
    "    print(f\"Button {button_number} Pressed!\")\n",
    "\n",
    "# Create the main window\n",
    "root = tk.Tk()\n",
    "root.title(\"Tkinter Button Example\")\n",
    "\n",
    "# Create and pack ten buttons with corresponding click handlers\n",
    "for i in range(1, 11):\n",
    "    button = tk.Button(root, text=f\"Button {i}\", command=lambda i=i: on_button_click(i))\n",
    "    button.pack(pady=5)\n",
    "\n",
    "# Start the GUI event loop\n",
    "root.mainloop()"
   ]
  },
  {
   "cell_type": "code",
   "execution_count": 5,
   "metadata": {},
   "outputs": [],
   "source": [
    "from collections import deque\n",
    "from bisect import *\n",
    "from dataclasses import dataclass\n",
    "from enum import Enum\n",
    "\n",
    "\n",
    "class LiftService:\n",
    "    def __init__(self, floorCount=10, liftCount=3):\n",
    "        self.floorCount = floorCount\n",
    "        self.liftCount = liftCount\n",
    "        self.gates: list[Gate] = []\n",
    "        self.liftList: list[Lift] = []\n",
    "        self.strategy: Strategy = Strategy()\n",
    "\n",
    "        for i in range(floorCount):\n",
    "            self.gates.append(Gate(i))\n",
    "\n",
    "        for i in range(liftCount):\n",
    "            self.liftList.append(Lift(self))\n",
    "\n",
    "    def createFloorRequest(floor, direction):\n",
    "        if direction:\n",
    "            Request(floor, Direct.up)\n",
    "        else:\n",
    "            Request(floor, Direct.down)\n",
    "            \n",
    "        self.strategy.acceptRequest(request)\n",
    "\n",
    "\n",
    "@dataclass\n",
    "class Direction(Enum):\n",
    "    up = 1\n",
    "    down = -1\n",
    "    idle = 0\n",
    "\n",
    "\n",
    "@dataclass\n",
    "class Request:\n",
    "    floor: int = 0\n",
    "    direction: Direction = Direction.up\n",
    "\n",
    "\n",
    "@dataclass\n",
    "class Gate:\n",
    "    floor: int = 0\n",
    "    upRequest = None\n",
    "    downRequest = None\n",
    "\n",
    "    def putUpRequest(self):\n",
    "        upRequest = Request(floor, Direction.up)\n",
    "\n",
    "    def putDownRequest(self):\n",
    "        downRequest = Request(floor, Direction.down)\n",
    "\n",
    "    def clearUpRequest(self):\n",
    "        upRequest = None\n",
    "\n",
    "    def clearDownRequest(self):\n",
    "        downRequest = None\n",
    "        \n",
    "\n",
    "\n",
    "class Lift:\n",
    "    def __init__(self, liftService: LiftService):\n",
    "        self.max_weight: int = 500\n",
    "        self.direction: Direction = Direction.idle\n",
    "        self.target_requests: list[Request] = []\n",
    "        self.current_floor: int = 0\n",
    "        self.liftService: LiftService = liftService\n",
    "\n",
    "    def moveLift(self):\n",
    "        gate: Gate = liftService.getGate(current_floor)\n",
    "\n",
    "        if self.direction == Direction.up:\n",
    "            if gate.upRequest is not None and gate.upRequest.floor == self.current_floor:\n",
    "                try:\n",
    "                    self.target_requests.remove(gate.upRequest)\n",
    "                except:\n",
    "                    print(\"error\")\n",
    "\n",
    "                gate.clearUpRequest()\n",
    "            else:\n",
    "                if self.target_requests and max(self.target_floors, key=lambda x: x.floor) > self.current_floor:\n",
    "                    self.current_floor += 1\n",
    "                else:\n",
    "                    self.direction = Direction.down if self.target_floors else Direction.idle\n",
    "\n",
    "        elif self.direction == Direction.down:\n",
    "            if gate.downRequest is not None and gate.downRequest.floor == self.current_floor:\n",
    "                try:\n",
    "                    self.target_requests.remove(gate.downRequest)\n",
    "                except:\n",
    "                    print(\"error\")\n",
    "                gate.clearDownRequest()\n",
    "            else:\n",
    "                if self.target_requests and min(self.target_floors,  key=lambda x: x.floor) < self.current_floor:\n",
    "                    self.current_floor -= 1\n",
    "                else:\n",
    "                    self.direction = Direction.up if self.target_floors else Direction.idle\n",
    "\n",
    "        elif self.direction == Direction.idle:\n",
    "            while self.target_requests:\n",
    "                if self.target_requests[0].floor > self.current_floor:\n",
    "                    self.direction = Direction.up\n",
    "                elif self.target_requests[0].floor < self.current_floor:\n",
    "                    self.direction = Direction.down\n",
    "                else:\n",
    "                    self.removeRequest(self.target_requests[0])\n",
    "                    continue\n",
    "\n",
    "                break\n",
    "        else:\n",
    "            print(\"it should not be here\")\n",
    "\n",
    "\n",
    "    def acceptFloor(self, floor: int):\n",
    "        request: Request = None\n",
    "        if self.current_floor > floor:\n",
    "            request: Request = Request(floor, Direction.down)\n",
    "        elif self.current_floor < floor:\n",
    "            request: Request = Request(floor, Direction.up)\n",
    "        else:\n",
    "            return\n",
    "\n",
    "        self.liftService.strategy.acceptRequest(request)\n",
    "\n",
    "\n",
    "    def acceptRequest(self, request: Request):\n",
    "        if request: self.target_requests.append(request)\n",
    "\n",
    "\n",
    "    def removeRequest(self, request: Request):\n",
    "        try:\n",
    "            self.target_requests.remove(gate.downRequest)\n",
    "        except:\n",
    "            print(\"error\")\n",
    "            pass\n",
    "\n",
    "\n",
    "class TimeCalculator:\n",
    "    def __init__(self):\n",
    "        pass\n",
    "\n",
    "    def getTime(self, lift: Lift):\n",
    "        return len(lift.target_requests)\n",
    "\n",
    "\n",
    "class Strategy:\n",
    "    def __init__(self):\n",
    "        self.externalRequestList: list[Request] = []\n",
    "        self.liftList: list[Lift] = []\n",
    "        self.timCalculator: TimeCalculator = TimeCalculator()\n",
    "\n",
    "    def acceptRequest(self, request: Request):\n",
    "        lift: Lift = min(self.liftList, key=lambda x: timCalculator(x))\n",
    "        lift.acceptRequest(request)\n",
    "\n",
    "\n",
    "\n",
    "lf = LiftService()"
   ]
  },
  {
   "cell_type": "code",
   "execution_count": 6,
   "metadata": {},
   "outputs": [
    {
     "name": "stdout",
     "output_type": "stream",
     "text": [
      "9______________\n",
      "8______________\n",
      "7______________\n",
      "6______________\n",
      "5______________\n",
      "4______________\n",
      "3______________\n",
      "2______________\n",
      "1______________\n",
      "0__██__██__██__\n",
      "\n"
     ]
    }
   ],
   "source": [
    "from bisect import *\n",
    "\n",
    "from time import sleep\n",
    "from IPython.display import clear_output, display\n",
    "\n",
    "from termcolor import colored\n",
    "color = ['red', 'green', 'yellow', 'blue', 'magenta', 'cyan', 'white']\n",
    "\n",
    "\n",
    "def render(lf):\n",
    "    lfc = lf.floorCount\n",
    "    table = []\n",
    "    table.append(list(map(str, range(lfc))))\n",
    "    table.append([\"__\"]*lfc)\n",
    "    for lift in lf.liftList:\n",
    "        table.append([\"__\" if i != lift.current_floor else \"██\" for i in range(lfc)])\n",
    "        table.append([\"__\"]*lfc)\n",
    "\n",
    "    t = [r for r in zip(*table)]\n",
    "    a = \"\"\n",
    "    for i in t[::-1]:\n",
    "        a += \"\".join(i) + \"\\n\"\n",
    "\n",
    "    return a\n",
    "\n",
    "print(render(lf))"
   ]
  },
  {
   "cell_type": "code",
   "execution_count": null,
   "metadata": {},
   "outputs": [],
   "source": [
    "import tkinter as tk\n",
    "\n",
    "\n",
    "lf = LiftService()\n",
    "\n",
    "def on_closing():\n",
    "    root.destroy()\n",
    "\n",
    "    \n",
    "root = tk.Tk()\n",
    "root.title(\"Tkinter Button Example\")\n",
    "\n",
    "\n",
    "for j in range(lf.floorCount):\n",
    "    button = tk.Button(root, text=f\"ext up {j}\", command=lambda j=j: lf.createFloorRequest(j, 1))\n",
    "    button.grid(row=j, column=0, pady=5)\n",
    "\n",
    "for j in range(lf.floorCount):\n",
    "    button = tk.Button(root, text=f\"ext down {j}\", command=lambda j=j: lf.createFloorRequest(j, 0))\n",
    "    button.grid(row=j, column=1, pady=5)\n",
    "\n",
    "for i in range(lf.liftCount):\n",
    "    for j in range(lf.floorCount):\n",
    "        button = tk.Button(root, text=f\"floor {j}\", command=lambda i=i,j=j: lf.liftList[i].acceptFloor(j))\n",
    "        button.grid(row=j, column=i+2, pady=5)\n",
    "\n",
    "text_box = tk.Text(root, height=5, width=30)\n",
    "text_box.grid(row=11, column=0, columnspan=2, padx=5, pady=5)\n",
    "text_box.insert(tk.END, render(lf))\n",
    "\n",
    "\n",
    "def while_loop():\n",
    "    while 1:\n",
    "        text_box.delete(1.0, tk.END)\n",
    "        text_box.insert(tk.END, render(lf))\n",
    "        sleep(0.5)\n",
    "\n",
    "\n",
    "# root.after(0, while_loop) \n",
    "root.protocol(\"WM_DELETE_WINDOW\", on_closing)\n",
    "\n",
    "# Start the GUI event loop\n",
    "root.mainloop()\n"
   ]
  },
  {
   "cell_type": "code",
   "execution_count": 10,
   "metadata": {},
   "outputs": [],
   "source": []
  },
  {
   "cell_type": "code",
   "execution_count": 1,
   "metadata": {},
   "outputs": [],
   "source": [
    "import tkinter as tk\n",
    "from tkinter.filedialog import askopenfilename, asksaveasfilename\n",
    "\n",
    "def open_file():\n",
    "    \"\"\"Open a file for editing.\"\"\"\n",
    "    filepath = askopenfilename(\n",
    "        filetypes=[(\"Text Files\", \"*.txt\"), (\"All Files\", \"*.*\")]\n",
    "    )\n",
    "    if not filepath:\n",
    "        return\n",
    "    txt_edit.delete(1.0, tk.END)\n",
    "    with open(filepath, \"r\") as input_file:\n",
    "        text = input_file.read()\n",
    "        txt_edit.insert(tk.END, text)\n",
    "    window.title(f\"Text Editor Application - {filepath}\")\n",
    "\n",
    "def save_file():\n",
    "    \"\"\"Save the current file as a new file.\"\"\"\n",
    "    filepath = asksaveasfilename(\n",
    "        defaultextension=\"txt\",\n",
    "        filetypes=[(\"Text Files\", \"*.txt\"), (\"All Files\", \"*.*\")],\n",
    "    )\n",
    "    if not filepath:\n",
    "        return\n",
    "    with open(filepath, \"w\") as output_file:\n",
    "        text = txt_edit.get(1.0, tk.END)\n",
    "        output_file.write(text)\n",
    "    window.title(f\"Text Editor Application - {filepath}\")\n",
    "\n",
    "window = tk.Tk()\n",
    "window.title(\"Text Editor Application\")\n",
    "window.rowconfigure(0, minsize=800, weight=1)\n",
    "window.columnconfigure(1, minsize=800, weight=1)\n",
    "\n",
    "txt_edit = tk.Text(window)\n",
    "fr_buttons = tk.Frame(window, relief=tk.RAISED, bd=2)\n",
    "btn_open = tk.Button(fr_buttons, text=\"Open\", command=open_file)\n",
    "btn_save = tk.Button(fr_buttons, text=\"Save As...\", command=save_file)\n",
    "\n",
    "btn_open.grid(row=0, column=0, sticky=\"ew\", padx=5, pady=5)\n",
    "btn_save.grid(row=1, column=0, sticky=\"ew\", padx=5)\n",
    "\n",
    "fr_buttons.grid(row=0, column=0, sticky=\"ns\")\n",
    "txt_edit.grid(row=0, column=1, sticky=\"nsew\")\n",
    "\n",
    "window.mainloop()\n"
   ]
  },
  {
   "cell_type": "code",
   "execution_count": null,
   "metadata": {},
   "outputs": [],
   "source": []
  }
 ],
 "metadata": {
  "kernelspec": {
   "display_name": "Python 3 (ipykernel)",
   "language": "python",
   "name": "python3"
  },
  "language_info": {
   "codemirror_mode": {
    "name": "ipython",
    "version": 3
   },
   "file_extension": ".py",
   "mimetype": "text/x-python",
   "name": "python",
   "nbconvert_exporter": "python",
   "pygments_lexer": "ipython3",
   "version": "3.8.9"
  },
  "toc-autonumbering": true
 },
 "nbformat": 4,
 "nbformat_minor": 4
}
