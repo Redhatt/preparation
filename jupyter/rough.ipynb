{
 "cells": [
  {
   "cell_type": "code",
   "execution_count": 1,
   "metadata": {},
   "outputs": [
    {
     "name": "stdout",
     "output_type": "stream",
     "text": [
      "['-211', '-154', '134', '-154', '+163', '2', '-79', '119']\n"
     ]
    }
   ],
   "source": [
    "a = \"(-211, -154) (134, -154)@(+163, 2) (-79, 119)@\"\n",
    "import re\n",
    "#/[-+]?[0-9]+/\n",
    "t = re.findall(r'\\-?\\+?\\d+', a)\n",
    "print(t)"
   ]
  },
  {
   "cell_type": "code",
   "execution_count": 2,
   "metadata": {},
   "outputs": [
    {
     "name": "stdout",
     "output_type": "stream",
     "text": [
      "<re.Match object; span=(13, 29), match='tim@somehost.com'>\n"
     ]
    }
   ],
   "source": [
    "import re\n",
    "s = \"tim email is tim@somehost.com\"\n",
    "match = re.search(r'[\\w.-]+@[\\w.-]+', s)\n",
    "print(match)"
   ]
  },
  {
   "cell_type": "code",
   "execution_count": 3,
   "metadata": {},
   "outputs": [
    {
     "name": "stdout",
     "output_type": "stream",
     "text": [
      "2020-05-17 00:00:00\n"
     ]
    }
   ],
   "source": [
    "import datetime\n",
    "x = datetime.datetime(2020, 5, 17)\n",
    "v = datetime.datetime.strptime(\"2020-05-17 00:00:00\", '%Y-%m-%d %H:%M:%S')\n",
    "print(v)"
   ]
  },
  {
   "cell_type": "code",
   "execution_count": 4,
   "metadata": {},
   "outputs": [
    {
     "name": "stdout",
     "output_type": "stream",
     "text": [
      "1 3 6 10 15 21\n",
      "21\n"
     ]
    }
   ],
   "source": [
    "from itertools import accumulate\n",
    "from functools import reduce\n",
    "\n",
    "lis = [1,2,3,4,5,6]\n",
    "print(*accumulate(lis))\n",
    "print(reduce(lambda a, b: a+b, lis))"
   ]
  },
  {
   "cell_type": "code",
   "execution_count": 5,
   "metadata": {},
   "outputs": [
    {
     "name": "stdout",
     "output_type": "stream",
     "text": [
      "(1, 2)\n",
      "(1, 3)\n",
      "(2, 3)\n",
      "\n",
      "(1, 2, 3)\n",
      "(1, 3, 2)\n",
      "(2, 1, 3)\n",
      "(2, 3, 1)\n",
      "(3, 1, 2)\n",
      "(3, 2, 1)\n"
     ]
    }
   ],
   "source": [
    "from itertools import combinations, permutations\n",
    "arr = [1,2,3]\n",
    "c = combinations(arr, 2)\n",
    "p = permutations(arr)\n",
    "for i in c: print(i)\n",
    "print()\n",
    "for i in p: print(i)"
   ]
  },
  {
   "cell_type": "code",
   "execution_count": 6,
   "metadata": {},
   "outputs": [
    {
     "name": "stdout",
     "output_type": "stream",
     "text": [
      "[2, 4, 1, 3, 5, 7, 0, 8]\n"
     ]
    }
   ],
   "source": [
    "def merge(a, b):\n",
    "    return [max(a, b).pop(0) for _ in a+b]\n",
    "            \n",
    "a = [1,3,5,7]\n",
    "b = [2,4,0,8]\n",
    "print(merge(a, b))"
   ]
  },
  {
   "cell_type": "code",
   "execution_count": 7,
   "metadata": {},
   "outputs": [
    {
     "data": {
      "text/plain": [
       "[6, 7]"
      ]
     },
     "execution_count": 7,
     "metadata": {},
     "output_type": "execute_result"
    }
   ],
   "source": [
    "max([6, 7], [6,0,4])"
   ]
  },
  {
   "cell_type": "code",
   "execution_count": 8,
   "metadata": {},
   "outputs": [],
   "source": [
    "from treeVisuals import *\n",
    "\n",
    "root = randomTree(10, 0.5, 10000)\n",
    "\n",
    "def prettyPrintTree(node, prefix=\"\", isLeft=True):\n",
    "    if not node:\n",
    "        print(\"Empty Tree\")\n",
    "        return\n",
    "\n",
    "    if node.right:\n",
    "        prettyPrintTree(node.right, prefix + (\"│   \" if isLeft else \"    \"), False)\n",
    "\n",
    "    print(prefix + (\"└── \" if isLeft else \"┌── \") + str(node.val))\n",
    "\n",
    "    if node.left:\n",
    "        prettyPrintTree(node.left, prefix + (\"    \" if isLeft else \"│   \"), True)\n",
    "        \n",
    "# prettyPrintTree(root)"
   ]
  },
  {
   "cell_type": "code",
   "execution_count": 9,
   "metadata": {},
   "outputs": [
    {
     "name": "stdout",
     "output_type": "stream",
     "text": [
      "Back Tracking\n",
      "Binary Search\n",
      "Binary Tree\n",
      "Bit Manupilation\n",
      "Bit Mask\n",
      "DSU\n",
      "Divide and Conquer\n",
      "Dynamic Programming\n",
      "Game Theory\n",
      "Graph\n",
      "Greedy\n",
      "Hash Table\n",
      "Heap\n",
      "Line Sweep\n",
      "Linked List\n",
      "Math\n",
      "Matrix\n",
      "Prefix Sum\n",
      "Segment Tree\n",
      "Sliding Window\n",
      "Sorting\n",
      "Stack\n",
      "String\n",
      "String matching\n",
      "Topological Sorting\n",
      "Trie\n",
      "Two Pointer\n"
     ]
    }
   ],
   "source": [
    "s = \"\"\"\n",
    "String\n",
    "Dynamic Programming\n",
    "Sorting\n",
    "Greedy\n",
    "Binary Search\n",
    "Matrix\n",
    "Two Pointer\n",
    "Bit Manupilation\n",
    "Stack\n",
    "Heap\n",
    "Graph\n",
    "Back Tracking\n",
    "Prefix Sum\n",
    "Sliding Window\n",
    "Linked List\n",
    "DSU\n",
    "Binary Tree\n",
    "Trie\n",
    "Divide and Conquer\n",
    "Bit Mask\n",
    "Game Theory\n",
    "Segment Tree\n",
    "Topological Sorting\n",
    "String matching\n",
    "Line Sweep\n",
    "Math\n",
    "Hash Table\n",
    "\"\"\"\n",
    "a = sorted(s.split(\"\\n\"))\n",
    "for i in a:\n",
    "    if len(i): print(i)"
   ]
  },
  {
   "cell_type": "code",
   "execution_count": 2,
   "metadata": {},
   "outputs": [
    {
     "name": "stdout",
     "output_type": "stream",
     "text": [
      "[(4, 8, 1, 9, 5, 6, 7, 2, 3), (2, 5, 3, 7, 4, 8, 9, 6, 1), (6, 7, 9, 1, 3, 2, 4, 5, 8), (5, 2, 4, 3, 7, 1, 6, 8, 9), (7, 9, 6, 8, 2, 4, 3, 1, 5), (1, 3, 8, 5, 6, 9, 2, 4, 7), (3, 1, 2, 6, 8, 7, 5, 9, 4), (9, 4, 7, 2, 1, 5, 8, 3, 6), (8, 6, 5, 4, 9, 3, 1, 7, 2)]\n"
     ]
    }
   ],
   "source": [
    "matrix = [\n",
    "    [4, 2, 6, 5, 7, 1, 3, 9, 8],\n",
    "    [8, 5, 7, 2, 9, 3, 1, 4, 6],\n",
    "    [1, 3, 9, 4, 6, 8, 2, 7, 5],\n",
    "    [9, 7, 1, 3, 8, 5, 6, 2, 4],\n",
    "    [5, 4, 3, 7, 2, 6, 8, 1, 9],\n",
    "    [6, 8, 2, 1, 4, 9, 7, 5, 3],\n",
    "    [7, 9, 4, 6, 3, 2, 5, 8, 1],\n",
    "    [2, 6, 5, 8, 1, 4, 9, 3, 7],\n",
    "    [3, 1, 8, 9, 5, 7, 4, 6, 2]\n",
    "]\n",
    "\n",
    "a = list(zip(*matrix))\n",
    "print(a)"
   ]
  },
  {
   "cell_type": "code",
   "execution_count": 18,
   "metadata": {},
   "outputs": [
    {
     "name": "stdout",
     "output_type": "stream",
     "text": [
      "[0, 0, 0, 0, 0]\n"
     ]
    },
    {
     "data": {
      "image/png": "[encoded data removed]",
      "text/plain": [
       "<PIL.Image.Image image mode=RGBA size=503x180 at 0x1F546F21580>"
      ]
     },
     "execution_count": 18,
     "metadata": {},
     "output_type": "execute_result"
    }
   ],
   "source": []
  },
  {
   "cell_type": "code",
   "execution_count": 23,
   "metadata": {},
   "outputs": [
    {
     "name": "stdout",
     "output_type": "stream",
     "text": [
      "[]\n"
     ]
    }
   ],
   "source": [
    "s = [1,2,3,4,5]\n",
    "\n",
    "print(s[0:0])"
   ]
  },
  {
   "cell_type": "code",
   "execution_count": 11,
   "metadata": {},
   "outputs": [
    {
     "data": {
      "text/plain": [
       "True"
      ]
     },
     "execution_count": 11,
     "metadata": {},
     "output_type": "execute_result"
    }
   ],
   "source": [
    "from collections import Counter\n",
    "lis = [1,2,3]\n",
    "e = [1,2,3]\n",
    "\n",
    "Counter(lis) == Counter(e)"
   ]
  },
  {
   "cell_type": "code",
   "execution_count": null,
   "metadata": {},
   "outputs": [],
   "source": []
  },
  {
   "cell_type": "code",
   "execution_count": null,
   "metadata": {},
   "outputs": [],
   "source": []
  },
  {
   "cell_type": "code",
   "execution_count": null,
   "metadata": {},
   "outputs": [],
   "source": []
  }
 ],
 "metadata": {
  "kernelspec": {
   "display_name": "Python 3 (ipykernel)",
   "language": "python",
   "name": "python3"
  },
  "language_info": {
   "codemirror_mode": {
    "name": "ipython",
    "version": 3
   },
   "file_extension": ".py",
   "mimetype": "text/x-python",
   "name": "python",
   "nbconvert_exporter": "python",
   "pygments_lexer": "ipython3",
   "version": "3.10.0"
  }
 },
 "nbformat": 4,
 "nbformat_minor": 4
}
