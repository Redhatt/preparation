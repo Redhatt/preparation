{
 "cells": [
  {
   "cell_type": "code",
   "execution_count": null,
   "metadata": {},
   "outputs": [],
   "source": [
    "a = \"(-211, -154) (134, -154)@(+163, 2) (-79, 119)@\"\n",
    "import re\n",
    "#/[-+]?[0-9]+/\n",
    "t = re.findall(r'\\-?\\+?\\d+', a)\n",
    "print(t)"
   ]
  },
  {
   "cell_type": "code",
   "execution_count": null,
   "metadata": {},
   "outputs": [],
   "source": [
    "import re\n",
    "s = \"tim email is tim@somehost.com\"\n",
    "match = re.search(r'[\\w.-]+@[\\w.-]+', s)\n",
    "print(match)"
   ]
  },
  {
   "cell_type": "code",
   "execution_count": null,
   "metadata": {},
   "outputs": [],
   "source": [
    "import datetime\n",
    "x = datetime.datetime(2020, 5, 17)\n",
    "v = datetime.datetime.strptime(\"2020-05-17 00:00:00\", '%Y-%m-%d %H:%M:%S')\n",
    "print(v)"
   ]
  },
  {
   "cell_type": "code",
   "execution_count": null,
   "metadata": {},
   "outputs": [],
   "source": [
    "from itertools import accumulate\n",
    "from functools import reduce\n",
    "\n",
    "lis = [1,2,3,4,5,6]\n",
    "print(*accumulate(lis))\n",
    "print(reduce(lambda a, b: a+b, lis))"
   ]
  },
  {
   "cell_type": "code",
   "execution_count": null,
   "metadata": {},
   "outputs": [],
   "source": [
    "from itertools import combinations, permutations\n",
    "arr = [1,2,3]\n",
    "c = combinations(arr, 2)\n",
    "p = permutations(arr)\n",
    "for i in c: print(i)\n",
    "print()\n",
    "for i in p: print(i)"
   ]
  },
  {
   "cell_type": "code",
   "execution_count": null,
   "metadata": {},
   "outputs": [],
   "source": [
    "def merge(a, b):\n",
    "    return [max(a, b).pop(0) for _ in a+b]\n",
    "            \n",
    "a = [1,3,5,7]\n",
    "b = [2,4,0,8]\n",
    "print(merge(a, b))"
   ]
  },
  {
   "cell_type": "code",
   "execution_count": null,
   "metadata": {},
   "outputs": [],
   "source": [
    "max([6, 7], [6,0,4])"
   ]
  },
  {
   "cell_type": "code",
   "execution_count": null,
   "metadata": {},
   "outputs": [],
   "source": [
    "# random usages\n",
    "import random\n",
    "\n",
    "rint = random.randint(0, 1) # its inclusive at both ends\n",
    "print(rint)\n",
    "\n",
    "rrange = random.randrange(0, 6, 2) # picks randomly from the range generated value\n",
    "print(rrange)\n",
    "\n",
    "rchoice = random.choice([1,2,3,4,5]) # picks randomly from input list\n",
    "print(rchoice)"
   ]
  },
  {
   "cell_type": "code",
   "execution_count": null,
   "metadata": {},
   "outputs": [],
   "source": []
  },
  {
   "cell_type": "code",
   "execution_count": null,
   "metadata": {},
   "outputs": [],
   "source": [
    "from treeVisuals import *\n",
    "\n",
    "root = randomTree(10, 0.5, 10000)\n",
    "\n",
    "def prettyPrintTree(node, prefix=\"\", isLeft=True):\n",
    "    if not node:\n",
    "        print(\"Empty Tree\")\n",
    "        return\n",
    " u\n",
    "    if node.right:\n",
    "        prettyPrintTree(node.right, prefix + (\"│   \" if isLeft else \"    \"), False)\n",
    "\n",
    "    print(prefix + (\"└── \" if isLeft else \"┌── \") + str(node.val))\n",
    "\n",
    "    if node.left:\n",
    "        prettyPrintTree(node.left, prefix + (\"    \" if isLeft else \"│   \"), True)\n",
    "        \n",
    "# prettyPrintTree(root)"
   ]
  },
  {
   "cell_type": "code",
   "execution_count": null,
   "metadata": {},
   "outputs": [],
   "source": [
    "s = \"\"\"\n",
    "String\n",
    "Dynamic Programming\n",
    "Sorting\n",
    "Greedy\n",
    "Binary Search\n",
    "Matrix\n",
    "Two Pointer\n",
    "Bit Manupilation\n",
    "Stack\n",
    "Heap\n",
    "Graph\n",
    "Back Tracking\n",
    "Prefix Sum\n",
    "Sliding Window\n",
    "Linked List\n",
    "DSU\n",
    "Binary Tree\n",
    "Trie\n",
    "Divide and Conquer\n",
    "Bit Mask\n",
    "Game Theory\n",
    "Segment Tree\n",
    "Topological Sorting\n",
    "String matching\n",
    "Line Sweep\n",
    "Math\n",
    "Hash Table\n",
    "\"\"\"\n",
    "a = sorted(s.split(\"\\n\"))\n",
    "for i in a:\n",
    "    if len(i): print(i)"
   ]
  },
  {
   "cell_type": "code",
   "execution_count": null,
   "metadata": {},
   "outputs": [],
   "source": [
    "from itertools import *\n",
    "# n, m = 3, 4\n",
    "# for a in (*product(range(n), (0, m-1)), *product((0, n-1), range(m))):\n",
    "#     print(a)\n",
    "    \n",
    "a = []\n",
    "print(a)"
   ]
  },
  {
   "cell_type": "code",
   "execution_count": null,
   "metadata": {},
   "outputs": [],
   "source": [
    "'-'.isdigit()"
   ]
  },
  {
   "cell_type": "code",
   "execution_count": null,
   "metadata": {},
   "outputs": [],
   "source": [
    "4/64"
   ]
  },
  {
   "cell_type": "code",
   "execution_count": null,
   "metadata": {},
   "outputs": [],
   "source": [
    "1<<20"
   ]
  },
  {
   "cell_type": "code",
   "execution_count": null,
   "metadata": {},
   "outputs": [],
   "source": [
    "d = {chr(a): i for i, a in enumerate(range(ord('a'), ord('z')+1), 1)}\n",
    "print(d)"
   ]
  },
  {
   "cell_type": "code",
   "execution_count": null,
   "metadata": {},
   "outputs": [],
   "source": [
    "from treeVisuals import *\n",
    "\n",
    "jdraw(randomTree())"
   ]
  },
  {
   "cell_type": "code",
   "execution_count": null,
   "metadata": {},
   "outputs": [],
   "source": [
    "import os\n",
    "from time import time\n",
    "    \n",
    "def Tree(d, prefix=\"\", last=\"\"):\n",
    "    basename = os.path.basename(d)\n",
    "\n",
    "    dirs = []\n",
    "    files = []\n",
    "    for name in os.listdir(d):\n",
    "        if os.path.isdir(os.path.join(d, name)):\n",
    "            dirs.append(name)\n",
    "        else:\n",
    "            files.append(name)\n",
    "\n",
    "    string = \"\"\n",
    "    \n",
    "    files.sort(key=lambda x: x.lower())\n",
    "    dirs.sort(key=lambda x: x.lower())\n",
    "    \n",
    "    for ff in files[:-1]:\n",
    "        string += prefix + \"├───\" + ff + \"\\n\"\n",
    "    \n",
    "    if files:\n",
    "        ff = files[-1]\n",
    "        if not dirs:\n",
    "            string += prefix + \"└───\" + ff + \"\\n\"\n",
    "        else:\n",
    "            string += prefix + \"├───\" + ff + \"\\n\"\n",
    "        \n",
    "    for dd in dirs[:-1]:\n",
    "        string += prefix + \"├──>\" + dd + \"\\n\"\n",
    "        string += Tree(os.path.join(d, dd), prefix + \"│    \")\n",
    "        \n",
    "    if dirs:\n",
    "        dd = dirs[-1]\n",
    "        string += prefix + \"└──>\" + dd + \"\\n\"\n",
    "        string += Tree(os.path.join(d, dd), prefix + \"     \")\n",
    "    \n",
    "    return string\n",
    "        \n",
    "d = r\"C:\\Users\\Danish.Amin\\Desktop\"#\\netmeds\\azure\\JioMart_pim\\smartpim\"\n",
    "\n",
    "from debug import profile\n",
    "\n",
    "val = profile(Tree, d)\n",
    "print(val[0])"
   ]
  },
  {
   "cell_type": "code",
   "execution_count": 7,
   "metadata": {},
   "outputs": [
    {
     "name": "stdout",
     "output_type": "stream",
     "text": [
      "{\"a\": [[[\"a\", \"b\", \"c\"], [1, 2, 3], [4, 5, 6]], [[], [], []]], \"1\": {\"2\": 3, \"4\": 5}}\n"
     ]
    }
   ],
   "source": [
    "import json\n",
    "b = [[['a', 'b', 'c'], [1, 2, 3], [4, 5, 6]], [[], [], []]]\n",
    "d = {'a': b, 1: {2: 3, 4: 5}}\n",
    "print(json.dumps(d))"
   ]
  },
  {
   "cell_type": "code",
   "execution_count": 5,
   "metadata": {},
   "outputs": [
    {
     "name": "stdin",
     "output_type": "stream",
     "text": [
      " [[[\"a\", \"b\", \"c\"], [1, 2, 3], [4, 5, 6]], [[], [], []]]\n"
     ]
    },
    {
     "name": "stdout",
     "output_type": "stream",
     "text": [
      "[[['a', 'b', 'c'], [1, 2, 3], [4, 5, 6]], [[], [], []]]\n"
     ]
    }
   ],
   "source": [
    "s = input()\n",
    "print(json.loads(s))"
   ]
  },
  {
   "cell_type": "code",
   "execution_count": 42,
   "metadata": {},
   "outputs": [
    {
     "name": "stdout",
     "output_type": "stream",
     "text": [
      "[0, 1, 2, 3, 4, 5, 6, 7, 8, 9, 10, 11, 12, 13, 14, 15, 16, 17, 18, 19, 20, 21, 22, 23, 24, 25, 26, 27, 28, 29, 0, 1, 2, 3, 4, 5, 6, 7, 8, 9, 10, 11, 12, 13, 14, 15, 16, 17, 18, 19, 20, 21, 22, 23, 24, 25, 26, 27, 28, 29, 0, 1, 2, 3, 4, 5, 6, 7, 8, 9, 10, 11, 12, 13, 14, 15, 16, 17, 18, 19, 20, 21, 22, 23, 24, 25, 26, 27, 28, 29, 0, 1, 2, 3, 4, 5, 6, 7, 8, 9]\n"
     ]
    }
   ],
   "source": [
    "r = 30\n",
    "a = 20\n",
    "\n",
    "value = [i for i in range(r)]\n",
    "h = list(range(100))\n",
    "ans = [value[(i + )%r] for i in h]\n",
    "print(ans)"
   ]
  },
  {
   "cell_type": "code",
   "execution_count": 1,
   "metadata": {},
   "outputs": [
    {
     "name": "stdout",
     "output_type": "stream",
     "text": [
      "[1, 2, 3] 4\n",
      "[2, 3, 4] 5\n"
     ]
    }
   ],
   "source": [
    "lis = [[1,2,3,4], [2,3,4,5]]\n",
    "for *e, i in lis:\n",
    "    print(e, i)"
   ]
  },
  {
   "cell_type": "code",
   "execution_count": 3,
   "metadata": {},
   "outputs": [],
   "source": [
    "import numpy as np"
   ]
  },
  {
   "cell_type": "code",
   "execution_count": 4,
   "metadata": {},
   "outputs": [],
   "source": [
    "a = np.ones((2,2))"
   ]
  },
  {
   "cell_type": "code",
   "execution_count": 7,
   "metadata": {},
   "outputs": [
    {
     "name": "stdout",
     "output_type": "stream",
     "text": [
      "-51\n"
     ]
    }
   ],
   "source": [
    "class Solution:\n",
    "    def calculate(self, s):    \n",
    "        def calc(it):\n",
    "            def update(op, v):\n",
    "                if op == \"+\": stack.append(v)\n",
    "                if op == \"-\": stack.append(-v)\n",
    "                if op == \"*\": stack.append(stack.pop() * v)\n",
    "                if op == \"/\": stack.append(int(stack.pop() / v))\n",
    "            num, stack, sign = 0, [], \"+\"\n",
    "            while it < len(s):\n",
    "                if s[it].isdigit():\n",
    "                    num = num * 10 + int(s[it])\n",
    "                elif s[it] in \"+-*/\":\n",
    "                    update(sign, num)\n",
    "                    num, sign = 0, s[it]\n",
    "                elif s[it] == \"(\":\n",
    "                    num, j = calc(it + 1)\n",
    "                    it = j - 1\n",
    "                elif s[it] == \")\":\n",
    "                    update(sign, num)\n",
    "                    return sum(stack), it + 1\n",
    "                it += 1\n",
    "            update(sign, num)\n",
    "            return sum(stack)\n",
    "        return calc(0)\n",
    "    \n",
    "s = \"-16-6-22+13*-14+13-6\"\n",
    "home = Solution().calculate(s)\n",
    "print(home)"
   ]
  },
  {
   "cell_type": "code",
   "execution_count": 8,
   "metadata": {},
   "outputs": [],
   "source": [
    "from sortedcontainers import *"
   ]
  },
  {
   "cell_type": "code",
   "execution_count": 17,
   "metadata": {},
   "outputs": [],
   "source": [
    "a = SortedList()\n",
    "b = SortedDict()"
   ]
  },
  {
   "cell_type": "code",
   "execution_count": 18,
   "metadata": {},
   "outputs": [
    {
     "name": "stdout",
     "output_type": "stream",
     "text": [
      "Sorted list is a sorted mutable sequence.\n",
      "\n",
      "    Sorted list values are maintained in sorted order.\n",
      "\n",
      "    Sorted list values must be comparable. The total ordering of values must\n",
      "    not change while they are stored in the sorted list.\n",
      "\n",
      "    Methods for adding values:\n",
      "\n",
      "    * :func:`SortedList.add`\n",
      "    * :func:`SortedList.update`\n",
      "    * :func:`SortedList.__add__`\n",
      "    * :func:`SortedList.__iadd__`\n",
      "    * :func:`SortedList.__mul__`\n",
      "    * :func:`SortedList.__imul__`\n",
      "\n",
      "    Methods for removing values:\n",
      "\n",
      "    * :func:`SortedList.clear`\n",
      "    * :func:`SortedList.discard`\n",
      "    * :func:`SortedList.remove`\n",
      "    * :func:`SortedList.pop`\n",
      "    * :func:`SortedList.__delitem__`\n",
      "\n",
      "    Methods for looking up values:\n",
      "\n",
      "    * :func:`SortedList.bisect_left`\n",
      "    * :func:`SortedList.bisect_right`\n",
      "    * :func:`SortedList.count`\n",
      "    * :func:`SortedList.index`\n",
      "    * :func:`SortedList.__contains__`\n",
      "    * :func:`SortedList.__getitem__`\n",
      "\n",
      "    Methods for iterating values:\n",
      "\n",
      "    * :func:`SortedList.irange`\n",
      "    * :func:`SortedList.islice`\n",
      "    * :func:`SortedList.__iter__`\n",
      "    * :func:`SortedList.__reversed__`\n",
      "\n",
      "    Methods for miscellany:\n",
      "\n",
      "    * :func:`SortedList.copy`\n",
      "    * :func:`SortedList.__len__`\n",
      "    * :func:`SortedList.__repr__`\n",
      "    * :func:`SortedList._check`\n",
      "    * :func:`SortedList._reset`\n",
      "\n",
      "    Sorted lists use lexicographical ordering semantics when compared to other\n",
      "    sequences.\n",
      "\n",
      "    Some methods of mutable sequences are not supported and will raise\n",
      "    not-implemented error.\n",
      "\n",
      "    \n"
     ]
    }
   ],
   "source": [
    "print(a.__doc__)"
   ]
  },
  {
   "cell_type": "code",
   "execution_count": 19,
   "metadata": {},
   "outputs": [
    {
     "name": "stdout",
     "output_type": "stream",
     "text": [
      "Sorted dict is a sorted mutable mapping.\n",
      "\n",
      "    Sorted dict keys are maintained in sorted order. The design of sorted dict\n",
      "    is simple: sorted dict inherits from dict to store items and maintains a\n",
      "    sorted list of keys.\n",
      "\n",
      "    Sorted dict keys must be hashable and comparable. The hash and total\n",
      "    ordering of keys must not change while they are stored in the sorted dict.\n",
      "\n",
      "    Mutable mapping methods:\n",
      "\n",
      "    * :func:`SortedDict.__getitem__` (inherited from dict)\n",
      "    * :func:`SortedDict.__setitem__`\n",
      "    * :func:`SortedDict.__delitem__`\n",
      "    * :func:`SortedDict.__iter__`\n",
      "    * :func:`SortedDict.__len__` (inherited from dict)\n",
      "\n",
      "    Methods for adding items:\n",
      "\n",
      "    * :func:`SortedDict.setdefault`\n",
      "    * :func:`SortedDict.update`\n",
      "\n",
      "    Methods for removing items:\n",
      "\n",
      "    * :func:`SortedDict.clear`\n",
      "    * :func:`SortedDict.pop`\n",
      "    * :func:`SortedDict.popitem`\n",
      "\n",
      "    Methods for looking up items:\n",
      "\n",
      "    * :func:`SortedDict.__contains__` (inherited from dict)\n",
      "    * :func:`SortedDict.get` (inherited from dict)\n",
      "    * :func:`SortedDict.peekitem`\n",
      "\n",
      "    Methods for views:\n",
      "\n",
      "    * :func:`SortedDict.keys`\n",
      "    * :func:`SortedDict.items`\n",
      "    * :func:`SortedDict.values`\n",
      "\n",
      "    Methods for miscellany:\n",
      "\n",
      "    * :func:`SortedDict.copy`\n",
      "    * :func:`SortedDict.fromkeys`\n",
      "    * :func:`SortedDict.__reversed__`\n",
      "    * :func:`SortedDict.__eq__` (inherited from dict)\n",
      "    * :func:`SortedDict.__ne__` (inherited from dict)\n",
      "    * :func:`SortedDict.__repr__`\n",
      "    * :func:`SortedDict._check`\n",
      "\n",
      "    Sorted list methods available (applies to keys):\n",
      "\n",
      "    * :func:`SortedList.bisect_left`\n",
      "    * :func:`SortedList.bisect_right`\n",
      "    * :func:`SortedList.count`\n",
      "    * :func:`SortedList.index`\n",
      "    * :func:`SortedList.irange`\n",
      "    * :func:`SortedList.islice`\n",
      "    * :func:`SortedList._reset`\n",
      "\n",
      "    Additional sorted list methods available, if key-function used:\n",
      "\n",
      "    * :func:`SortedKeyList.bisect_key_left`\n",
      "    * :func:`SortedKeyList.bisect_key_right`\n",
      "    * :func:`SortedKeyList.irange_key`\n",
      "\n",
      "    Sorted dicts may only be compared for equality and inequality.\n",
      "\n",
      "    \n"
     ]
    }
   ],
   "source": [
    "print(b.__doc__)"
   ]
  },
  {
   "cell_type": "code",
   "execution_count": 8,
   "metadata": {},
   "outputs": [
    {
     "ename": "TypeError",
     "evalue": "Random.randint() takes 3 positional arguments but 4 were given",
     "output_type": "error",
     "traceback": [
      "\u001b[1;31m---------------------------------------------------------------------------\u001b[0m",
      "\u001b[1;31mTypeError\u001b[0m                                 Traceback (most recent call last)",
      "\u001b[1;32mC:\\Users\\DANISH~1.AMI\\AppData\\Local\\Temp/ipykernel_25808/585387245.py\u001b[0m in \u001b[0;36m<module>\u001b[1;34m\u001b[0m\n\u001b[0;32m      2\u001b[0m \u001b[1;33m\u001b[0m\u001b[0m\n\u001b[0;32m      3\u001b[0m \u001b[0ma\u001b[0m \u001b[1;33m=\u001b[0m \u001b[0mrandom\u001b[0m\u001b[1;33m.\u001b[0m\u001b[0msample\u001b[0m\u001b[1;33m(\u001b[0m\u001b[0mlist\u001b[0m\u001b[1;33m(\u001b[0m\u001b[0mrange\u001b[0m\u001b[1;33m(\u001b[0m\u001b[1;36m100\u001b[0m\u001b[1;33m)\u001b[0m\u001b[1;33m)\u001b[0m\u001b[1;33m,\u001b[0m \u001b[1;36m10\u001b[0m\u001b[1;33m)\u001b[0m\u001b[1;33m\u001b[0m\u001b[1;33m\u001b[0m\u001b[0m\n\u001b[1;32m----> 4\u001b[1;33m \u001b[0mb\u001b[0m \u001b[1;33m=\u001b[0m \u001b[0mrandom\u001b[0m\u001b[1;33m.\u001b[0m\u001b[0mrandint\u001b[0m\u001b[1;33m(\u001b[0m\u001b[1;36m0\u001b[0m\u001b[1;33m,\u001b[0m \u001b[1;36m10\u001b[0m\u001b[1;33m,\u001b[0m \u001b[1;36m100\u001b[0m\u001b[1;33m)\u001b[0m\u001b[1;33m\u001b[0m\u001b[1;33m\u001b[0m\u001b[0m\n\u001b[0m\u001b[0;32m      5\u001b[0m \u001b[0mb\u001b[0m\u001b[1;33m\u001b[0m\u001b[1;33m\u001b[0m\u001b[0m\n",
      "\u001b[1;31mTypeError\u001b[0m: Random.randint() takes 3 positional arguments but 4 were given"
     ]
    }
   ],
   "source": [
    "import random\n",
    "\n",
    "a = random.sample(list(range(100)), 10)\n",
    "b = random.choice\n",
    "b"
   ]
  },
  {
   "cell_type": "code",
   "execution_count": 5,
   "metadata": {},
   "outputs": [
    {
     "data": {
      "text/plain": [
       "[89, 70, 32, 34, 49, 37, 35, 68, 42, 54]"
      ]
     },
     "execution_count": 5,
     "metadata": {},
     "output_type": "execute_result"
    }
   ],
   "source": [
    "a"
   ]
  },
  {
   "cell_type": "code",
   "execution_count": null,
   "metadata": {},
   "outputs": [],
   "source": []
  }
 ],
 "metadata": {
  "kernelspec": {
   "display_name": "Python 3 (ipykernel)",
   "language": "python",
   "name": "python3"
  },
  "language_info": {
   "codemirror_mode": {
    "name": "ipython",
    "version": 3
   },
   "file_extension": ".py",
   "mimetype": "text/x-python",
   "name": "python",
   "nbconvert_exporter": "python",
   "pygments_lexer": "ipython3",
   "version": "3.10.0"
  },
  "toc-autonumbering": true
 },
 "nbformat": 4,
 "nbformat_minor": 4
}
