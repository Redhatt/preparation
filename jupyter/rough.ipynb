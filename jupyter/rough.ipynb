{
 "cells": [
  {
   "cell_type": "code",
   "execution_count": 2,
   "metadata": {},
   "outputs": [
    {
     "name": "stdout",
     "output_type": "stream",
     "text": [
      "['-211', '-154', '134', '-154', '+163', '2', '-79', '119']\n"
     ]
    }
   ],
   "source": [
    "a = \"(-211, -154) (134, -154)@(+163, 2) (-79, 119)@\"\n",
    "import re\n",
    "#/[-+]?[0-9]+/\n",
    "t = re.findall(r'\\-?\\+?\\d+', a)\n",
    "print(t)"
   ]
  },
  {
   "cell_type": "code",
   "execution_count": 3,
   "metadata": {},
   "outputs": [
    {
     "name": "stdout",
     "output_type": "stream",
     "text": [
      "<re.Match object; span=(13, 29), match='tim@somehost.com'>\n"
     ]
    }
   ],
   "source": [
    "import re\n",
    "s = \"tim email is tim@somehost.com\"\n",
    "match = re.search(r'[\\w.-]+@[\\w.-]+', s)\n",
    "print(match)"
   ]
  },
  {
   "cell_type": "code",
   "execution_count": 5,
   "metadata": {},
   "outputs": [
    {
     "name": "stdout",
     "output_type": "stream",
     "text": [
      "2020-05-17 00:00:00\n"
     ]
    }
   ],
   "source": [
    "import datetime\n",
    "x = datetime.datetime(2020, 5, 17)\n",
    "v = datetime.datetime.strptime(\"2020-05-17 00:00:00\", '%Y-%m-%d %H:%M:%S')\n",
    "print(v)"
   ]
  },
  {
   "cell_type": "code",
   "execution_count": 8,
   "metadata": {},
   "outputs": [
    {
     "name": "stdout",
     "output_type": "stream",
     "text": [
      "63\n"
     ]
    }
   ],
   "source": [
    "a = [1,1,1,1,1,1]\n",
    "mod = int(1e3) + 1\n",
    "from functools import reduce\n",
    "v = reduce(lambda x, y: (x*2 + y)%mod, a)\n",
    "print(v)"
   ]
  },
  {
   "cell_type": "code",
   "execution_count": 9,
   "metadata": {},
   "outputs": [
    {
     "name": "stdout",
     "output_type": "stream",
     "text": [
      "((1, 2), (3, 4))\n",
      "((1, 2), (5, 6))\n",
      "((3, 4), (5, 6))\n"
     ]
    }
   ],
   "source": [
    "from itertools import combinations\n",
    "arr = [(1, 2), (3, 4), (5, 6)]\n",
    "v = combinations(arr, 2)\n",
    "for i in v: print(i)\n",
    "    \n"
   ]
  },
  {
   "cell_type": "code",
   "execution_count": 44,
   "metadata": {},
   "outputs": [
    {
     "name": "stdout",
     "output_type": "stream",
     "text": [
      "(1, 2) (1, 3) (2, 1) (2, 3) (3, 1) (3, 2)\n"
     ]
    }
   ],
   "source": [
    "from itertools import permutations as P\n",
    "print(*P([1,2,3], 2))"
   ]
  },
  {
   "cell_type": "code",
   "execution_count": 68,
   "metadata": {},
   "outputs": [
    {
     "name": "stdout",
     "output_type": "stream",
     "text": [
      "[0, 1, 1, 0]\n",
      "[1, 0, 1, 0]\n",
      "[0, 0, 0, 0]\n",
      "[1, 0, 1, 0]\n",
      "[0, 1, 1, 0]\n",
      "[0, 1, 1, 0]\n",
      "2222\n",
      "[0, 1, 1, 0]\n"
     ]
    }
   ],
   "source": [
    "nums = [1,0,1,0]\n",
    "k = 10\n",
    "\n",
    "l1 = nums[:]\n",
    "temp = nums[:]\n",
    "temp[0] = temp[-1] = 0\n",
    "while k:\n",
    "    for i in range(1, 3):\n",
    "        temp[i] = 1 - nums[i-1]^nums[i+1]\n",
    "\n",
    "    print(temp)\n",
    "    print(l1)\n",
    "    if temp == l1: \n",
    "        print(2222)\n",
    "        break\n",
    "    l1 = nums[:]\n",
    "    nums = temp[:]\n",
    "    k-=1\n",
    "\n",
    "if k == 0: alpha = nums\n",
    "else : alpha = nums if k&1 else l1\n",
    "print(alpha)"
   ]
  },
  {
   "cell_type": "code",
   "execution_count": 22,
   "metadata": {},
   "outputs": [
    {
     "name": "stdout",
     "output_type": "stream",
     "text": [
      "[2, 4, 1, 3, 5, 7, 0, 8]\n"
     ]
    }
   ],
   "source": [
    "def merge(a, b):\n",
    "    return [max(a, b).pop(0) for _ in a+b]\n",
    "            \n",
    "a = [1,3,5,7]\n",
    "b = [2,4,0,8]\n",
    "print(merge(a, b))"
   ]
  },
  {
   "cell_type": "code",
   "execution_count": 23,
   "metadata": {},
   "outputs": [
    {
     "data": {
      "text/plain": [
       "[6, 7]"
      ]
     },
     "execution_count": 23,
     "metadata": {},
     "output_type": "execute_result"
    }
   ],
   "source": [
    "max([6, 7], [6,0,4])"
   ]
  },
  {
   "cell_type": "code",
   "execution_count": 27,
   "metadata": {},
   "outputs": [
    {
     "name": "stdout",
     "output_type": "stream",
     "text": [
      "[6, 7, 6, 0, 4]\n"
     ]
    }
   ],
   "source": [
    "def maxNumber(nums1, nums2, k):\n",
    "\n",
    "    def prep(nums, k):\n",
    "        drop = len(nums) - k\n",
    "        out = []\n",
    "        for num in nums:\n",
    "            while drop and out and out[-1] < num:\n",
    "                out.pop()\n",
    "                drop -= 1\n",
    "            out.append(num)\n",
    "        return out[:k]\n",
    "\n",
    "    def merge(a, b):\n",
    "        return [max(a, b).pop(0) for _ in a+b]\n",
    "\n",
    "    return max(merge(prep(nums1, i), prep(nums2, k-i))\n",
    "               for i in range(k+1)\n",
    "               if i <= len(nums1) and k-i <= len(nums2))\n",
    "\n",
    "a = [6,7]\n",
    "b = [6,0,4]\n",
    "maxNumber(a, b, 5)\n",
    "def merge(a, b):\n",
    "    return [max(a, b).pop(0) for i in a+b]\n",
    "\n",
    "print(merge(a, b))"
   ]
  },
  {
   "cell_type": "code",
   "execution_count": 30,
   "metadata": {},
   "outputs": [],
   "source": [
    "from treeVisuals import *"
   ]
  },
  {
   "cell_type": "code",
   "execution_count": 48,
   "metadata": {},
   "outputs": [],
   "source": [
    "root = randomTree(10, 0.5, 10000)\n",
    "\n",
    "def prettyPrintTree(node, prefix=\"\", isLeft=True):\n",
    "    if not node:\n",
    "        print(\"Empty Tree\")\n",
    "        return\n",
    "\n",
    "    if node.right:\n",
    "        prettyPrintTree(node.right, prefix + (\"│   \" if isLeft else \"    \"), False)\n",
    "\n",
    "    print(prefix + (\"└── \" if isLeft else \"┌── \") + str(node.val))\n",
    "\n",
    "    if node.left:\n",
    "        prettyPrintTree(node.left, prefix + (\"    \" if isLeft else \"│   \"), True)\n",
    "        \n",
    "# prettyPrintTree(root)"
   ]
  },
  {
   "cell_type": "code",
   "execution_count": 10,
   "metadata": {},
   "outputs": [
    {
     "name": "stdout",
     "output_type": "stream",
     "text": [
      "Back Tracking\n",
      "Binary Search\n",
      "Binary Tree\n",
      "Bit Manupilation\n",
      "Bit Mask\n",
      "DSU\n",
      "Divide and Conquer\n",
      "Dynamic Programming\n",
      "Game Theory\n",
      "Graph\n",
      "Greedy\n",
      "Hash Table\n",
      "Heap\n",
      "Line Sweep\n",
      "Linked List\n",
      "Math\n",
      "Matrix\n",
      "Prefix Sum\n",
      "Segment Tree\n",
      "Sliding Window\n",
      "Sorting\n",
      "Stack\n",
      "String\n",
      "String matching\n",
      "Topological Sorting\n",
      "Trie\n",
      "Two Pointer\n"
     ]
    }
   ],
   "source": [
    "s = \"\"\"\n",
    "String\n",
    "Dynamic Programming\n",
    "Sorting\n",
    "Greedy\n",
    "Binary Search\n",
    "Matrix\n",
    "Two Pointer\n",
    "Bit Manupilation\n",
    "Stack\n",
    "Heap\n",
    "Graph\n",
    "Back Tracking\n",
    "Prefix Sum\n",
    "Sliding Window\n",
    "Linked List\n",
    "DSU\n",
    "Binary Tree\n",
    "Trie\n",
    "Divide and Conquer\n",
    "Bit Mask\n",
    "Game Theory\n",
    "Segment Tree\n",
    "Topological Sorting\n",
    "String matching\n",
    "Line Sweep\n",
    "Math\n",
    "Hash Table\n",
    "\"\"\"\n",
    "a = sorted(s.split(\"\\n\"))\n",
    "for i in a:\n",
    "    if len(i): print(i)"
   ]
  },
  {
   "cell_type": "code",
   "execution_count": 96,
   "metadata": {},
   "outputs": [
    {
     "name": "stdout",
     "output_type": "stream",
     "text": [
      "[0, 0, 2, 0, 0, 0, 4, 0, 2, 0]\n"
     ]
    },
    {
     "data": {
      "text/plain": [
       "[0, 0, 1, 0, 0, 0, 1, 0, 1, 0]"
      ]
     },
     "execution_count": 96,
     "metadata": {},
     "output_type": "execute_result"
    }
   ],
   "source": [
    "s = \"ababcdabab\"\n",
    "n = len(s)\n",
    "lps = [0]*n\n",
    "\n",
    "for i in range(1, n):\n",
    "    j = 0\n",
    "    k = i\n",
    "    while k<n and s[k] == s[j]:\n",
    "        k+=1\n",
    "        j+=1\n",
    "        lps[i]+=1\n",
    "print(lps)\n",
    "\n",
    "def sol(s):\n",
    "    n = len(s)\n",
    "    i, l = 1, 0\n",
    "    lps = [0]*n\n",
    "    while i<n:\n",
    "        if s[i] == s[j]:\n",
    "            l += 1\n",
    "            lps[i] = l\n",
    "            i+=1\n",
    "        else:\n",
    "            if l == 0: i+=1\n",
    "            else: l = lps[l-1]\n",
    "    return lps\n",
    "\n",
    "sol(s)"
   ]
  },
  {
   "cell_type": "code",
   "execution_count": 94,
   "metadata": {},
   "outputs": [
    {
     "name": "stdout",
     "output_type": "stream",
     "text": [
      "a b\n",
      "ab ab\n",
      "abx xab\n",
      "2\n"
     ]
    }
   ],
   "source": [
    "lps = 0\n",
    "s = \"abxab\"\n",
    "n = len(s)\n",
    "for i in range(n-2):\n",
    "    print(s[:i+1], s[~i:])\n",
    "    if s[:i+1] == s[~i:]:\n",
    "        lps = max(lps, len(s[:i+1]))\n",
    "print(lps)"
   ]
  },
  {
   "cell_type": "code",
   "execution_count": 101,
   "metadata": {},
   "outputs": [
    {
     "name": "stdout",
     "output_type": "stream",
     "text": [
      "C A A\n",
      "A A A\n",
      "B C D\n"
     ]
    }
   ],
   "source": [
    "for i in [[\"C\",\"A\",\"A\"],[\"A\",\"A\",\"A\"],[\"B\",\"C\",\"D\"]]: print(*i)"
   ]
  },
  {
   "cell_type": "code",
   "execution_count": 107,
   "metadata": {},
   "outputs": [
    {
     "name": "stdout",
     "output_type": "stream",
     "text": [
      "5\n"
     ]
    }
   ],
   "source": [
    "nums = [1,0,1]\n",
    "state = sum([2**i for i, val in enumerate(nums) if val])\n",
    "print(state)"
   ]
  },
  {
   "cell_type": "code",
   "execution_count": 90,
   "metadata": {},
   "outputs": [
    {
     "name": "stdout",
     "output_type": "stream",
     "text": [
      "[3, 4, 3, 7]\n",
      "[7, 4, 2, 4]\n"
     ]
    },
    {
     "data": {
      "text/plain": [
       "7"
      ]
     },
     "execution_count": 90,
     "metadata": {},
     "output_type": "execute_result"
    }
   ],
   "source": [
    "# Solves \"half\" of the problem:\n",
    "# For each prefix `P` of `nums`, find the increasing sequence bounded by `P`\n",
    "# with the maximum sum, and return that sum.\n",
    "def increasing_prefix_sums(nums):\n",
    "    # Store the current best increasing sequence, in the form (value, number of occurrences)\n",
    "    stack = []\n",
    "    current_sum = 0  # always equal to sum(x * c for x in stack)\n",
    "\n",
    "    ans = []\n",
    "\n",
    "    for x in nums:\n",
    "        count = 1\n",
    "\n",
    "        # We need to include `x` in our sequence. Values to the left may need to be reduced.\n",
    "        while stack and stack[-1][0] > x:\n",
    "            # Anything greater than `x` gets clamped down to `x`.\n",
    "            # Since `stack` is increasing we only need to look at its tail.\n",
    "            # This is similar to the min-queue algorithm.\n",
    "            current_sum -= stack[-1][0] * stack[-1][1]\n",
    "            count += stack[-1][1]\n",
    "            stack.pop()\n",
    "\n",
    "        stack.append((x, count))\n",
    "        current_sum += x * count\n",
    "        ans.append(current_sum)\n",
    "\n",
    "    return ans\n",
    "\n",
    "\n",
    "\n",
    "nums = [3,2,1,4]\n",
    "left = increasing_prefix_sums(nums)\n",
    "right = list(reversed(increasing_prefix_sums(reversed(nums))))\n",
    "print(left)\n",
    "print(right)\n",
    "max(l + r - x for l, r, x in zip(left, right, nums))"
   ]
  },
  {
   "cell_type": "code",
   "execution_count": 92,
   "metadata": {},
   "outputs": [
    {
     "name": "stdout",
     "output_type": "stream",
     "text": [
      "3\n"
     ]
    }
   ],
   "source": [
    "a = [1,2,3,4,5]\n",
    "print(a[~2])"
   ]
  },
  {
   "cell_type": "code",
   "execution_count": null,
   "metadata": {},
   "outputs": [],
   "source": []
  }
 ],
 "metadata": {
  "kernelspec": {
   "display_name": "Python 3",
   "language": "python",
   "name": "python3"
  },
  "language_info": {
   "codemirror_mode": {
    "name": "ipython",
    "version": 3
   },
   "file_extension": ".py",
   "mimetype": "text/x-python",
   "name": "python",
   "nbconvert_exporter": "python",
   "pygments_lexer": "ipython3",
   "version": "3.8.6"
  }
 },
 "nbformat": 4,
 "nbformat_minor": 4
}
