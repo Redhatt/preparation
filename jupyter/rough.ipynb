{
 "cells": [
  {
   "cell_type": "code",
   "execution_count": 2,
   "metadata": {},
   "outputs": [
    {
     "name": "stdout",
     "output_type": "stream",
     "text": [
      "['-211', '-154', '134', '-154', '+163', '2', '-79', '119']\n"
     ]
    }
   ],
   "source": [
    "a = \"(-211, -154) (134, -154)@(+163, 2) (-79, 119)@\"\n",
    "import re\n",
    "#/[-+]?[0-9]+/\n",
    "t = re.findall(r'\\-?\\+?\\d+', a)\n",
    "print(t)"
   ]
  },
  {
   "cell_type": "code",
   "execution_count": 3,
   "metadata": {},
   "outputs": [
    {
     "name": "stdout",
     "output_type": "stream",
     "text": [
      "<re.Match object; span=(13, 29), match='tim@somehost.com'>\n"
     ]
    }
   ],
   "source": [
    "import re\n",
    "s = \"tim email is tim@somehost.com\"\n",
    "match = re.search(r'[\\w.-]+@[\\w.-]+', s)\n",
    "print(match)"
   ]
  },
  {
   "cell_type": "code",
   "execution_count": 5,
   "metadata": {},
   "outputs": [
    {
     "name": "stdout",
     "output_type": "stream",
     "text": [
      "2020-05-17 00:00:00\n"
     ]
    }
   ],
   "source": [
    "import datetime\n",
    "x = datetime.datetime(2020, 5, 17)\n",
    "v = datetime.datetime.strptime(\"2020-05-17 00:00:00\", '%Y-%m-%d %H:%M:%S')\n",
    "print(v)"
   ]
  },
  {
   "cell_type": "code",
   "execution_count": 8,
   "metadata": {},
   "outputs": [
    {
     "name": "stdout",
     "output_type": "stream",
     "text": [
      "63\n"
     ]
    }
   ],
   "source": [
    "a = [1,1,1,1,1,1]\n",
    "mod = int(1e3) + 1\n",
    "from functools import reduce\n",
    "v = reduce(lambda x, y: (x*2 + y)%mod, a)\n",
    "print(v)"
   ]
  },
  {
   "cell_type": "code",
   "execution_count": 9,
   "metadata": {},
   "outputs": [
    {
     "name": "stdout",
     "output_type": "stream",
     "text": [
      "((1, 2), (3, 4))\n",
      "((1, 2), (5, 6))\n",
      "((3, 4), (5, 6))\n"
     ]
    }
   ],
   "source": [
    "from itertools import combinations\n",
    "arr = [(1, 2), (3, 4), (5, 6)]\n",
    "v = combinations(arr, 2)\n",
    "for i in v: print(i)\n",
    "    \n"
   ]
  },
  {
   "cell_type": "code",
   "execution_count": 44,
   "metadata": {},
   "outputs": [
    {
     "name": "stdout",
     "output_type": "stream",
     "text": [
      "(1, 2) (1, 3) (2, 1) (2, 3) (3, 1) (3, 2)\n"
     ]
    }
   ],
   "source": [
    "from itertools import permutations as P\n",
    "print(*P([1,2,3], 2))"
   ]
  },
  {
   "cell_type": "code",
   "execution_count": 68,
   "metadata": {},
   "outputs": [
    {
     "name": "stdout",
     "output_type": "stream",
     "text": [
      "[0, 1, 1, 0]\n",
      "[1, 0, 1, 0]\n",
      "[0, 0, 0, 0]\n",
      "[1, 0, 1, 0]\n",
      "[0, 1, 1, 0]\n",
      "[0, 1, 1, 0]\n",
      "2222\n",
      "[0, 1, 1, 0]\n"
     ]
    }
   ],
   "source": [
    "nums = [1,0,1,0]\n",
    "k = 10\n",
    "\n",
    "l1 = nums[:]\n",
    "temp = nums[:]\n",
    "temp[0] = temp[-1] = 0\n",
    "while k:\n",
    "    for i in range(1, 3):\n",
    "        temp[i] = 1 - nums[i-1]^nums[i+1]\n",
    "\n",
    "    print(temp)\n",
    "    print(l1)\n",
    "    if temp == l1: \n",
    "        print(2222)\n",
    "        break\n",
    "    l1 = nums[:]\n",
    "    nums = temp[:]\n",
    "    k-=1\n",
    "\n",
    "if k == 0: alpha = nums\n",
    "else : alpha = nums if k&1 else l1\n",
    "print(alpha)"
   ]
  },
  {
   "cell_type": "code",
   "execution_count": 78,
   "metadata": {},
   "outputs": [
    {
     "name": "stdout",
     "output_type": "stream",
     "text": [
      "5\n"
     ]
    }
   ],
   "source": [
    "nums = [1,0,1]\n",
    "state = sum([2**i for i, val in enumerate(nums) if val])\n",
    "print(state)"
   ]
  },
  {
   "cell_type": "code",
   "execution_count": 90,
   "metadata": {},
   "outputs": [
    {
     "name": "stdout",
     "output_type": "stream",
     "text": [
      "[3, 4, 3, 7]\n",
      "[7, 4, 2, 4]\n"
     ]
    },
    {
     "data": {
      "text/plain": [
       "7"
      ]
     },
     "execution_count": 90,
     "metadata": {},
     "output_type": "execute_result"
    }
   ],
   "source": [
    "# Solves \"half\" of the problem:\n",
    "# For each prefix `P` of `nums`, find the increasing sequence bounded by `P`\n",
    "# with the maximum sum, and return that sum.\n",
    "def increasing_prefix_sums(nums):\n",
    "    # Store the current best increasing sequence, in the form (value, number of occurrences)\n",
    "    stack = []\n",
    "    current_sum = 0  # always equal to sum(x * c for x in stack)\n",
    "\n",
    "    ans = []\n",
    "\n",
    "    for x in nums:\n",
    "        count = 1\n",
    "\n",
    "        # We need to include `x` in our sequence. Values to the left may need to be reduced.\n",
    "        while stack and stack[-1][0] > x:\n",
    "            # Anything greater than `x` gets clamped down to `x`.\n",
    "            # Since `stack` is increasing we only need to look at its tail.\n",
    "            # This is similar to the min-queue algorithm.\n",
    "            current_sum -= stack[-1][0] * stack[-1][1]\n",
    "            count += stack[-1][1]\n",
    "            stack.pop()\n",
    "\n",
    "        stack.append((x, count))\n",
    "        current_sum += x * count\n",
    "        ans.append(current_sum)\n",
    "\n",
    "    return ans\n",
    "\n",
    "\n",
    "\n",
    "nums = [3,2,1,4]\n",
    "left = increasing_prefix_sums(nums)\n",
    "right = list(reversed(increasing_prefix_sums(reversed(nums))))\n",
    "print(left)\n",
    "print(right)\n",
    "max(l + r - x for l, r, x in zip(left, right, nums))"
   ]
  },
  {
   "cell_type": "code",
   "execution_count": 92,
   "metadata": {},
   "outputs": [
    {
     "name": "stdout",
     "output_type": "stream",
     "text": [
      "3\n"
     ]
    }
   ],
   "source": [
    "a = [1,2,3,4,5]\n",
    "print(a[~2])"
   ]
  },
  {
   "cell_type": "code",
   "execution_count": null,
   "metadata": {},
   "outputs": [],
   "source": []
  }
 ],
 "metadata": {
  "kernelspec": {
   "display_name": "Python 3 (ipykernel)",
   "language": "python",
   "name": "python3"
  },
  "language_info": {
   "codemirror_mode": {
    "name": "ipython",
    "version": 3
   },
   "file_extension": ".py",
   "mimetype": "text/x-python",
   "name": "python",
   "nbconvert_exporter": "python",
   "pygments_lexer": "ipython3",
   "version": "3.10.0"
  }
 },
 "nbformat": 4,
 "nbformat_minor": 4
}
