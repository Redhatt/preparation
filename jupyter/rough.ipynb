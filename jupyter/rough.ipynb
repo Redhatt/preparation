{
 "cells": [
  {
   "cell_type": "code",
   "execution_count": 2,
   "metadata": {},
   "outputs": [
    {
     "name": "stdout",
     "output_type": "stream",
     "text": [
      "['-211', '-154', '134', '-154', '+163', '2', '-79', '119']\n"
     ]
    }
   ],
   "source": [
    "a = \"(-211, -154) (134, -154)@(+163, 2) (-79, 119)@\"\n",
    "import re\n",
    "#/[-+]?[0-9]+/\n",
    "t = re.findall(r'\\-?\\+?\\d+', a)\n",
    "print(t)"
   ]
  },
  {
   "cell_type": "code",
   "execution_count": 3,
   "metadata": {},
   "outputs": [
    {
     "name": "stdout",
     "output_type": "stream",
     "text": [
      "<re.Match object; span=(13, 29), match='tim@somehost.com'>\n"
     ]
    }
   ],
   "source": [
    "import re\n",
    "s = \"tim email is tim@somehost.com\"\n",
    "match = re.search(r'[\\w.-]+@[\\w.-]+', s)\n",
    "print(match)"
   ]
  },
  {
   "cell_type": "code",
   "execution_count": 4,
   "metadata": {},
   "outputs": [
    {
     "data": {
      "text/plain": [
       "5"
      ]
     },
     "execution_count": 4,
     "metadata": {},
     "output_type": "execute_result"
    }
   ],
   "source": [
    "def median_of_medians(A, i):\n",
    "\n",
    "    #divide A into sublists of len 5\n",
    "    sublists = [A[j:j+5] for j in range(0, len(A), 5)]\n",
    "    medians = [sorted(sublist)[len(sublist)//2] for sublist in sublists]\n",
    "    if len(medians) <= 5:\n",
    "        pivot = sorted(medians)[len(medians)//2]\n",
    "    else:\n",
    "        #the pivot is the median of the medians\n",
    "        pivot = median_of_medians(medians, len(medians)//2)\n",
    "\n",
    "    #partitioning step\n",
    "    low = [j for j in A if j < pivot]\n",
    "    high = [j for j in A if j > pivot]\n",
    "\n",
    "    k = len(low)\n",
    "    if i < k:\n",
    "        return median_of_medians(low,i)\n",
    "    elif i > k:\n",
    "        return median_of_medians(high,i-k-1)\n",
    "    else: #pivot = k\n",
    "        return pivot\n",
    "\n",
    "lis = [0,3,6,1,2,9,7,4,8,5]\n",
    "median_of_medians(lis, 5)"
   ]
  },
  {
   "cell_type": "code",
   "execution_count": 5,
   "metadata": {},
   "outputs": [
    {
     "name": "stdout",
     "output_type": "stream",
     "text": [
      "2020-05-17 00:00:00\n"
     ]
    }
   ],
   "source": [
    "import datetime\n",
    "x = datetime.datetime(2020, 5, 17)\n",
    "v = datetime.datetime.strptime(\"2020-05-17 00:00:00\", '%Y-%m-%d %H:%M:%S')\n",
    "print(v)"
   ]
  },
  {
   "cell_type": "code",
   "execution_count": 8,
   "metadata": {},
   "outputs": [
    {
     "name": "stdout",
     "output_type": "stream",
     "text": [
      "63\n"
     ]
    }
   ],
   "source": [
    "a = [1,1,1,1,1,1]\n",
    "mod = int(1e3) + 1\n",
    "from functools import reduce\n",
    "v = reduce(lambda x, y: (x*2 + y)%mod, a)\n",
    "print(v)"
   ]
  },
  {
   "cell_type": "code",
   "execution_count": 9,
   "metadata": {},
   "outputs": [
    {
     "name": "stdout",
     "output_type": "stream",
     "text": [
      "((1, 2), (3, 4))\n",
      "((1, 2), (5, 6))\n",
      "((3, 4), (5, 6))\n"
     ]
    }
   ],
   "source": [
    "from itertools import combinations\n",
    "arr = [(1, 2), (3, 4), (5, 6)]\n",
    "v = combinations(arr, 2)\n",
    "for i in v: print(i)\n",
    "    \n"
   ]
  },
  {
   "cell_type": "code",
   "execution_count": 10,
   "metadata": {},
   "outputs": [
    {
     "name": "stdout",
     "output_type": "stream",
     "text": [
      "(1, 2) (1, 3) (2, 1) (2, 3) (3, 1) (3, 2)\n"
     ]
    }
   ],
   "source": [
    "from itertools import permutations as P\n",
    "print(*P([1,2,3], 2))"
   ]
  },
  {
   "cell_type": "code",
   "execution_count": 60,
   "metadata": {},
   "outputs": [
    {
     "name": "stdout",
     "output_type": "stream",
     "text": [
      "8.091211318969726e-07\n"
     ]
    }
   ],
   "source": [
    "from time import time\n",
    "a = 10000\n",
    "b = 1\n",
    "q = 0\n",
    "ss = 0\n",
    "avg = 0\n",
    "for i in range(a):\n",
    "    s = time()\n",
    "    for j in range(b):\n",
    "        v = (2, 3)[q==0]\n",
    "#         v = 2 if q == 0 else 3\n",
    "    ss = time() - s\n",
    "    avg += ss\n",
    "print(avg/a)"
   ]
  },
  {
   "cell_type": "code",
   "execution_count": 22,
   "metadata": {},
   "outputs": [
    {
     "name": "stdout",
     "output_type": "stream",
     "text": [
      "[2, 4, 1, 3, 5, 7, 0, 8]\n"
     ]
    }
   ],
   "source": [
    "def merge(a, b):\n",
    "    return [max(a, b).pop(0) for _ in a+b]\n",
    "            \n",
    "a = [1,3,5,7]\n",
    "b = [2,4,0,8]\n",
    "print(merge(a, b))"
   ]
  },
  {
   "cell_type": "code",
   "execution_count": 23,
   "metadata": {},
   "outputs": [
    {
     "data": {
      "text/plain": [
       "[6, 7]"
      ]
     },
     "execution_count": 23,
     "metadata": {},
     "output_type": "execute_result"
    }
   ],
   "source": [
    "max([6, 7], [6,0,4])"
   ]
  },
  {
   "cell_type": "code",
   "execution_count": 27,
   "metadata": {},
   "outputs": [
    {
     "name": "stdout",
     "output_type": "stream",
     "text": [
      "[6, 7, 6, 0, 4]\n"
     ]
    }
   ],
   "source": [
    "def maxNumber(nums1, nums2, k):\n",
    "\n",
    "    def prep(nums, k):\n",
    "        drop = len(nums) - k\n",
    "        out = []\n",
    "        for num in nums:\n",
    "            while drop and out and out[-1] < num:\n",
    "                out.pop()\n",
    "                drop -= 1\n",
    "            out.append(num)\n",
    "        return out[:k]\n",
    "\n",
    "    def merge(a, b):\n",
    "        return [max(a, b).pop(0) for _ in a+b]\n",
    "\n",
    "    return max(merge(prep(nums1, i), prep(nums2, k-i))\n",
    "               for i in range(k+1)\n",
    "               if i <= len(nums1) and k-i <= len(nums2))\n",
    "\n",
    "a = [6,7]\n",
    "b = [6,0,4]\n",
    "maxNumber(a, b, 5)\n",
    "def merge(a, b):\n",
    "    return [max(a, b).pop(0) for i in a+b]\n",
    "\n",
    "print(merge(a, b))"
   ]
  },
  {
   "cell_type": "code",
   "execution_count": 30,
   "metadata": {},
   "outputs": [],
   "source": [
    "from treeVisuals import *"
   ]
  },
  {
   "cell_type": "code",
   "execution_count": 48,
   "metadata": {},
   "outputs": [],
   "source": [
    "root = randomTree(10, 0.5, 10000)\n",
    "\n",
    "def prettyPrintTree(node, prefix=\"\", isLeft=True):\n",
    "    if not node:\n",
    "        print(\"Empty Tree\")\n",
    "        return\n",
    "\n",
    "    if node.right:\n",
    "        prettyPrintTree(node.right, prefix + (\"│   \" if isLeft else \"    \"), False)\n",
    "\n",
    "    print(prefix + (\"└── \" if isLeft else \"┌── \") + str(node.val))\n",
    "\n",
    "    if node.left:\n",
    "        prettyPrintTree(node.left, prefix + (\"    \" if isLeft else \"│   \"), True)\n",
    "        \n",
    "# prettyPrintTree(root)"
   ]
  },
  {
   "cell_type": "code",
   "execution_count": 10,
   "metadata": {},
   "outputs": [
    {
     "name": "stdout",
     "output_type": "stream",
     "text": [
      "Back Tracking\n",
      "Binary Search\n",
      "Binary Tree\n",
      "Bit Manupilation\n",
      "Bit Mask\n",
      "DSU\n",
      "Divide and Conquer\n",
      "Dynamic Programming\n",
      "Game Theory\n",
      "Graph\n",
      "Greedy\n",
      "Hash Table\n",
      "Heap\n",
      "Line Sweep\n",
      "Linked List\n",
      "Math\n",
      "Matrix\n",
      "Prefix Sum\n",
      "Segment Tree\n",
      "Sliding Window\n",
      "Sorting\n",
      "Stack\n",
      "String\n",
      "String matching\n",
      "Topological Sorting\n",
      "Trie\n",
      "Two Pointer\n"
     ]
    }
   ],
   "source": [
    "s = \"\"\"\n",
    "String\n",
    "Dynamic Programming\n",
    "Sorting\n",
    "Greedy\n",
    "Binary Search\n",
    "Matrix\n",
    "Two Pointer\n",
    "Bit Manupilation\n",
    "Stack\n",
    "Heap\n",
    "Graph\n",
    "Back Tracking\n",
    "Prefix Sum\n",
    "Sliding Window\n",
    "Linked List\n",
    "DSU\n",
    "Binary Tree\n",
    "Trie\n",
    "Divide and Conquer\n",
    "Bit Mask\n",
    "Game Theory\n",
    "Segment Tree\n",
    "Topological Sorting\n",
    "String matching\n",
    "Line Sweep\n",
    "Math\n",
    "Hash Table\n",
    "\"\"\"\n",
    "a = sorted(s.split(\"\\n\"))\n",
    "for i in a:\n",
    "    if len(i): print(i)"
   ]
  },
  {
   "cell_type": "code",
   "execution_count": 96,
   "metadata": {},
   "outputs": [
    {
     "name": "stdout",
     "output_type": "stream",
     "text": [
      "[0, 0, 2, 0, 0, 0, 4, 0, 2, 0]\n"
     ]
    },
    {
     "data": {
      "text/plain": [
       "[0, 0, 1, 0, 0, 0, 1, 0, 1, 0]"
      ]
     },
     "execution_count": 96,
     "metadata": {},
     "output_type": "execute_result"
    }
   ],
   "source": [
    "s = \"ababcdabab\"\n",
    "n = len(s)\n",
    "lps = [0]*n\n",
    "\n",
    "for i in range(1, n):\n",
    "    j = 0\n",
    "    k = i\n",
    "    while k<n and s[k] == s[j]:\n",
    "        k+=1\n",
    "        j+=1\n",
    "        lps[i]+=1\n",
    "print(lps)\n",
    "\n",
    "def sol(s):\n",
    "    n = len(s)\n",
    "    i, l = 1, 0\n",
    "    lps = [0]*n\n",
    "    while i<n:\n",
    "        if s[i] == s[j]:\n",
    "            l += 1\n",
    "            lps[i] = l\n",
    "            i+=1\n",
    "        else:\n",
    "            if l == 0: i+=1\n",
    "            else: l = lps[l-1]\n",
    "    return lps\n",
    "\n",
    "sol(s)"
   ]
  },
  {
   "cell_type": "code",
   "execution_count": 94,
   "metadata": {},
   "outputs": [
    {
     "name": "stdout",
     "output_type": "stream",
     "text": [
      "a b\n",
      "ab ab\n",
      "abx xab\n",
      "2\n"
     ]
    }
   ],
   "source": [
    "lps = 0\n",
    "s = \"abxab\"\n",
    "n = len(s)\n",
    "for i in range(n-2):\n",
    "    print(s[:i+1], s[~i:])\n",
    "    if s[:i+1] == s[~i:]:\n",
    "        lps = max(lps, len(s[:i+1]))\n",
    "print(lps)"
   ]
  },
  {
   "cell_type": "code",
   "execution_count": 101,
   "metadata": {},
   "outputs": [
    {
     "name": "stdout",
     "output_type": "stream",
     "text": [
      "C A A\n",
      "A A A\n",
      "B C D\n"
     ]
    }
   ],
   "source": [
    "for i in [[\"C\",\"A\",\"A\"],[\"A\",\"A\",\"A\"],[\"B\",\"C\",\"D\"]]: print(*i)"
   ]
  },
  {
   "cell_type": "code",
   "execution_count": 107,
   "metadata": {},
   "outputs": [],
   "source": [
    "a = [[] for i in range(16)]\n",
    "\n",
    "for i in range(15):\n",
    "    for j in range(i):\n",
    "        if i <= 2*j:\n",
    "            a[j].append(i)\n",
    "            "
   ]
  },
  {
   "cell_type": "code",
   "execution_count": 108,
   "metadata": {},
   "outputs": [
    {
     "data": {
      "text/plain": [
       "[[],\n",
       " [2],\n",
       " [3, 4],\n",
       " [4, 5, 6],\n",
       " [5, 6, 7, 8],\n",
       " [6, 7, 8, 9, 10],\n",
       " [7, 8, 9, 10, 11, 12],\n",
       " [8, 9, 10, 11, 12, 13, 14],\n",
       " [9, 10, 11, 12, 13, 14],\n",
       " [10, 11, 12, 13, 14],\n",
       " [11, 12, 13, 14],\n",
       " [12, 13, 14],\n",
       " [13, 14],\n",
       " [14],\n",
       " [],\n",
       " []]"
      ]
     },
     "execution_count": 108,
     "metadata": {},
     "output_type": "execute_result"
    }
   ],
   "source": [
    "a"
   ]
  },
  {
   "cell_type": "code",
   "execution_count": null,
   "metadata": {},
   "outputs": [],
   "source": []
  }
 ],
 "metadata": {
  "kernelspec": {
   "display_name": "Python 3",
   "language": "python",
   "name": "python3"
  },
  "language_info": {
   "codemirror_mode": {
    "name": "ipython",
    "version": 3
   },
   "file_extension": ".py",
   "mimetype": "text/x-python",
   "name": "python",
   "nbconvert_exporter": "python",
   "pygments_lexer": "ipython3",
   "version": "3.8.6"
  }
 },
 "nbformat": 4,
 "nbformat_minor": 4
}
