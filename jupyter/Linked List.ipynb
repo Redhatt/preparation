{
 "cells": [
  {
   "cell_type": "code",
   "execution_count": 1,
   "id": "5b8aad42-7cab-45e5-8f91-017a0b68e2b3",
   "metadata": {},
   "outputs": [
    {
     "name": "stdout",
     "output_type": "stream",
     "text": [
      "0->1->2->3->4->5->6->7->8->9->None\n"
     ]
    }
   ],
   "source": [
    "from heapq import *\n",
    "\n",
    "class Node:\n",
    "    def __init__(self, val=0):\n",
    "        self.data = val\n",
    "        self.val = val\n",
    "        self.next = val\n",
    "        self.random = None\n",
    "    \n",
    "    def size(self):\n",
    "        temp = self\n",
    "        count = 0\n",
    "        while temp:\n",
    "            count += 1\n",
    "            temp = temp.next\n",
    "        return count\n",
    "    \n",
    "    def print(self):\n",
    "        print(self.data)\n",
    "    \n",
    "    def __str__(self):\n",
    "        s = \"\"\n",
    "        temp = self\n",
    "        while temp:\n",
    "            s += str(temp.val) + '->'\n",
    "            temp = temp.next\n",
    "        s += 'None'\n",
    "        return s\n",
    "    \n",
    "    def __repr__(self):\n",
    "        return self.__str__()\n",
    "    \n",
    "def convert(lis=list(range(10))):\n",
    "    lis = list(lis)\n",
    "    nodes = [Node(i) for i in lis] + [None]\n",
    "    for i in range(len(lis)):\n",
    "        nodes[i].next = nodes[i+1]\n",
    "    return nodes[0]\n",
    "\n",
    "print(convert())"
   ]
  },
  {
   "cell_type": "markdown",
   "id": "43328022-bfab-4b04-9116-44b6aa5fed0c",
   "metadata": {},
   "source": [
    "# Nth node from Last"
   ]
  },
  {
   "cell_type": "code",
   "execution_count": 2,
   "id": "d1462da0-969c-44f0-8ed9-213d17259317",
   "metadata": {},
   "outputs": [
    {
     "name": "stdout",
     "output_type": "stream",
     "text": [
      "0\n",
      "8\n"
     ]
    }
   ],
   "source": [
    "root = convert()\n",
    "root.print()\n",
    "\n",
    "def solve(head,n):\n",
    "    first = sec = head\n",
    "    count = 0\n",
    "    while sec:\n",
    "        if count >= n:\n",
    "            first = first.next\n",
    "        sec = sec.next\n",
    "        count += 1\n",
    "    \n",
    "    if count < n: return -1\n",
    "    return first.data\n",
    "\n",
    "\n",
    "print(solve(root, 2))"
   ]
  },
  {
   "cell_type": "markdown",
   "id": "90af5440-3e1c-41d0-9c95-7a1c4e888ac6",
   "metadata": {},
   "source": [
    "# Reverse K Group Nodes alternatively"
   ]
  },
  {
   "cell_type": "code",
   "execution_count": 3,
   "id": "19eae144-ed3b-41ab-a72a-7db863c3ebed",
   "metadata": {},
   "outputs": [
    {
     "name": "stdout",
     "output_type": "stream",
     "text": [
      "0->1->2->3->4->5->6->7->8->9->None\n",
      "1->0->2->3->5->4->6->7->9->8->None\n"
     ]
    }
   ],
   "source": [
    "root = convert()\n",
    "print(root)\n",
    "\n",
    "def solve(root, k, flag=True):\n",
    "    # base case\n",
    "    if root is None or root.next is None: return root\n",
    "    \n",
    "    # chopping the required LL\n",
    "    last = head = root\n",
    "    count = 0\n",
    "    while last:\n",
    "        count += 1\n",
    "        if count == k: break\n",
    "        last = last.next\n",
    "    \n",
    "    nhead = last.next if last else None\n",
    "    if last: last.next = None\n",
    "    \n",
    "    # if to reverse or not\n",
    "    if flag:\n",
    "        prev = nex = None\n",
    "        cur = root\n",
    "\n",
    "        while cur:\n",
    "            nex = cur.next\n",
    "            cur.next = prev\n",
    "            prev = cur\n",
    "            cur = nex\n",
    "        \n",
    "        # set head and prev\n",
    "        head.next = solve(nhead, k, not flag)\n",
    "        return prev\n",
    "        \n",
    "    else:\n",
    "        # simlply return set last and return head \n",
    "        if last: last.next = solve(nhead, k, not flag)\n",
    "        return head\n",
    "\n",
    "print(solve(root, 2))"
   ]
  },
  {
   "cell_type": "markdown",
   "id": "a2bb73d9-930d-49c4-b2fa-0d2046924620",
   "metadata": {},
   "source": [
    "# Rotate a linked list\n",
    "\n",
    "The given k should be smaller than length."
   ]
  },
  {
   "cell_type": "code",
   "execution_count": 4,
   "id": "b66fd6f0-4186-4091-90c9-137bcf9fcb5f",
   "metadata": {},
   "outputs": [
    {
     "name": "stdout",
     "output_type": "stream",
     "text": [
      "0->1->2->3->4->5->6->7->8->9->None\n",
      "0 0->1->2->3->4->5->6->7->8->9->None\n",
      "1 1->2->3->4->5->6->7->8->9->0->None\n",
      "2 2->3->4->5->6->7->8->9->0->1->None\n",
      "3 3->4->5->6->7->8->9->0->1->2->None\n",
      "4 4->5->6->7->8->9->0->1->2->3->None\n",
      "5 5->6->7->8->9->0->1->2->3->4->None\n",
      "6 6->7->8->9->0->1->2->3->4->5->None\n",
      "7 7->8->9->0->1->2->3->4->5->6->None\n",
      "8 8->9->0->1->2->3->4->5->6->7->None\n",
      "9 9->0->1->2->3->4->5->6->7->8->None\n"
     ]
    }
   ],
   "source": [
    "root = convert()\n",
    "print(root)\n",
    "\n",
    "def solve(root, k):\n",
    "    if k == 0: return root\n",
    "    count = 0\n",
    "    temp = head = root\n",
    "    while temp:\n",
    "        count += 1\n",
    "        if count >= k: break\n",
    "        temp = temp.next   \n",
    "    \n",
    "    if not temp: return None\n",
    "    \n",
    "    nhead = temp.next\n",
    "    temp.next = None\n",
    "    \n",
    "    temp2 = nhead\n",
    "    while temp2.next:\n",
    "        temp2 = temp2.next\n",
    "    \n",
    "    temp2.next = head\n",
    "    return nhead\n",
    "\n",
    "for i in range(root.size()):\n",
    "    print(i, solve(convert(), i))"
   ]
  },
  {
   "cell_type": "markdown",
   "id": "8f65921e-7829-4568-b304-a04d437920f6",
   "metadata": {},
   "source": [
    "# Delete middle Node\n",
    "Delete right mid.\n",
    "\n",
    "The idea is to get node before right mid, and to get that stop one iteration before by checking fast.next.next"
   ]
  },
  {
   "cell_type": "code",
   "execution_count": 5,
   "id": "2f5a9ceb-2ee4-4147-a103-d6852fe9d1fb",
   "metadata": {},
   "outputs": [
    {
     "name": "stdout",
     "output_type": "stream",
     "text": [
      "0->1->2->3->4->5->6->7->8->9->None\n",
      "0->1->2->3->4->6->7->8->9->None\n"
     ]
    }
   ],
   "source": [
    "root = convert()\n",
    "print(root)\n",
    "\n",
    "def solve(root):\n",
    "    dummy = Node(0)\n",
    "    dummy.next = root\n",
    "    slow = fast = dummy\n",
    "    \n",
    "    while fast and fast.next and fast.next.next:\n",
    "        slow = slow.next\n",
    "        fast = fast.next.next\n",
    "    \n",
    "    mid = slow.next\n",
    "    arc = mid.next\n",
    "    mid.next = None\n",
    "    slow.next = arc\n",
    "    \n",
    "    return dummy.next\n",
    "\n",
    "print(solve(root))"
   ]
  },
  {
   "cell_type": "markdown",
   "id": "87371940-9ab5-4827-80d7-c869c3e80efc",
   "metadata": {},
   "source": [
    "# Left and Right mid"
   ]
  },
  {
   "cell_type": "code",
   "execution_count": 6,
   "id": "dfcef2ce-d44b-43a4-8a4a-134f0aa18671",
   "metadata": {},
   "outputs": [
    {
     "name": "stdout",
     "output_type": "stream",
     "text": [
      "0->1->2->3->4->5->6->7->8->9->10->11->None\n",
      "5\n",
      "6\n",
      "1->2->3->4->5->6->7->8->9->10->11->None\n",
      "6\n",
      "6\n"
     ]
    }
   ],
   "source": [
    "def left_mid(root):\n",
    "    dummy = Node(0)\n",
    "    dummy.next = root\n",
    "    slow = fast = dummy\n",
    "    \n",
    "    while fast and fast.next:\n",
    "        slow = slow.next\n",
    "        fast = fast.next.next\n",
    "    slow.print()\n",
    "\n",
    "def right_mid(root):\n",
    "    dummy = Node(0)\n",
    "    dummy.next = root\n",
    "    slow = fast = dummy\n",
    "    \n",
    "    while fast:\n",
    "        slow = slow.next\n",
    "        if fast.next:fast = fast.next.next\n",
    "        else: break\n",
    "    slow.print()\n",
    "\n",
    "root = convert(range(0, 12))\n",
    "print(root)\n",
    "left_mid(root)\n",
    "right_mid(root)\n",
    "\n",
    "root = convert(range(1, 12))\n",
    "print(root)\n",
    "left_mid(root)\n",
    "right_mid(root)"
   ]
  },
  {
   "cell_type": "markdown",
   "id": "46e3b9cb-5f57-4a5c-bc86-af0dc2c47f13",
   "metadata": {},
   "source": [
    "# Merge k sorted LinedLists"
   ]
  },
  {
   "cell_type": "code",
   "execution_count": 7,
   "id": "780ff584-364b-490d-bd02-5e8daa2f1d0b",
   "metadata": {},
   "outputs": [
    {
     "name": "stdout",
     "output_type": "stream",
     "text": [
      "0->1->2->3->4->5->6->7->8->9->None\n"
     ]
    }
   ],
   "source": [
    "def mergeKLists(lists):\n",
    "    ans = dummy = Node(0)\n",
    "    heap = []\n",
    "    x = 0\n",
    "    for node in lists:\n",
    "        if node:\n",
    "            heappush(heap, (node.val, x, node))\n",
    "            x += 1\n",
    "\n",
    "    while heap:\n",
    "        _, _, node = heappop(heap)\n",
    "        dummy.next = node\n",
    "        dummy = dummy.next\n",
    "        node = node.next\n",
    "        if node: heappush(heap, (node.val, x, node)); x+=1\n",
    "\n",
    "    return ans.next\n",
    "r1 = convert(range(0, 10, 3))\n",
    "r2 = convert(range(1, 10, 3))\n",
    "r3 = convert(range(2, 10, 3))\n",
    "\n",
    "r = mergeKLists([r1, r2, r3])\n",
    "print(r)"
   ]
  },
  {
   "cell_type": "markdown",
   "id": "05c0102e-8a77-4e4e-8d0d-9997fc069acc",
   "metadata": {},
   "source": [
    "# Detect loop"
   ]
  },
  {
   "cell_type": "code",
   "execution_count": 8,
   "id": "46d90e07-d704-4e53-875d-ee7bcc25ab68",
   "metadata": {},
   "outputs": [
    {
     "name": "stdout",
     "output_type": "stream",
     "text": [
      "False\n"
     ]
    }
   ],
   "source": [
    "root = convert()\n",
    "\n",
    "def solve(head):\n",
    "    slow = fast = head\n",
    "    while fast and fast.next:\n",
    "        slow = slow.next\n",
    "        fast = fast.next.next\n",
    "        if slow == fast: return True\n",
    "\n",
    "    return False\n",
    "\n",
    "print(solve(root))"
   ]
  },
  {
   "cell_type": "markdown",
   "id": "180a01d1-a49a-44f3-9f4c-da8504cb15cc",
   "metadata": {},
   "source": [
    "# Remove loop"
   ]
  },
  {
   "cell_type": "markdown",
   "id": "45813e9e-d446-4db3-b79a-9dc2eb60d0ea",
   "metadata": {},
   "source": [
    "## Hash Map technique"
   ]
  },
  {
   "cell_type": "code",
   "execution_count": 9,
   "id": "4dd973f2-6613-41c2-b9d0-4e1d6b3a8cde",
   "metadata": {},
   "outputs": [],
   "source": [
    " def solve(head):\n",
    "    d = set()\n",
    "    temp = head\n",
    "    prev = head\n",
    "    while temp:\n",
    "        if temp not in d:\n",
    "            d.add(temp)\n",
    "            prev = temp\n",
    "            temp = temp.next\n",
    "        else:\n",
    "            prev.next = None\n",
    "            return head\n",
    "\n",
    "    return head"
   ]
  },
  {
   "cell_type": "code",
   "execution_count": 10,
   "id": "f1148331-2ecb-4b80-b9a3-3063f7baa89d",
   "metadata": {},
   "outputs": [],
   "source": [
    "# merge k LL\n",
    "# interleaving LL\n",
    "# back to front ll"
   ]
  },
  {
   "cell_type": "markdown",
   "id": "fb26ef33-13b4-425f-a629-edbd1e53e87b",
   "metadata": {},
   "source": [
    "# Random pointer Clonning"
   ]
  },
  {
   "cell_type": "markdown",
   "id": "1adf04cb-961b-4f66-aea8-7cfb168a4220",
   "metadata": {},
   "source": [
    "## Hash Map technique"
   ]
  },
  {
   "cell_type": "code",
   "execution_count": 16,
   "id": "5734e6e8-7644-4d93-bb3b-45777c18d051",
   "metadata": {},
   "outputs": [
    {
     "name": "stdout",
     "output_type": "stream",
     "text": [
      "0->1->2->3->4->5->6->7->8->9->None\n"
     ]
    }
   ],
   "source": [
    "def solve(head):\n",
    "    if head is None: return None\n",
    "    d = dict()\n",
    "    temp = head\n",
    "    while temp:\n",
    "        d[temp] = Node(temp.val)\n",
    "        temp = temp.next\n",
    "\n",
    "    temp = head\n",
    "    while temp:\n",
    "        if temp.next:\n",
    "            d[temp].next = d[temp.next]\n",
    "        if temp.random:\n",
    "            d[temp].random = d[temp.random]\n",
    "\n",
    "        temp = temp.next\n",
    "\n",
    "    return d[head]\n",
    "\n",
    "root = convert()\n",
    "print(root)"
   ]
  },
  {
   "cell_type": "markdown",
   "id": "5e74f8ec-12da-4e65-a0a9-8036a319a82b",
   "metadata": {},
   "source": [
    "## Random Pointer with *O(N)* TC and *O(1)* SC\n",
    "\n",
    "To temporarily store the connnections of clone Nodes we make a 'N' space connection with them.  \n",
    "Using this we can make random pointer connections.  \n",
    "Then restore the correct connection.  "
   ]
  },
  {
   "cell_type": "code",
   "execution_count": 12,
   "id": "a1e8c6bd-2fc9-4f4d-b621-b7737b7ee119",
   "metadata": {},
   "outputs": [],
   "source": [
    "def solve(head):\n",
    "    if not head: return head\n",
    "    \n",
    "    # create N connection with new clone Nodes\n",
    "    temp = head\n",
    "    while temp:\n",
    "        nex = temp.next\n",
    "        dtemp = Node(temp.val)\n",
    "        temp.next = dtemp\n",
    "        dtemp.next = nex\n",
    "        temp = nex\n",
    "\n",
    "    # set random pointer connection of clone Nodes\n",
    "    temp = head\n",
    "    while temp:\n",
    "        rtemp = temp.random\n",
    "        if rtemp:\n",
    "            drtemp = rtemp.next\n",
    "            dtemp = temp.next\n",
    "            dtemp.random = drtemp\n",
    "        else:\n",
    "            dtemp.random = None\n",
    "\n",
    "        temp = temp.next.next\n",
    "\n",
    "    # restore next pointers of both LL\n",
    "    temp = head\n",
    "    store = head.next\n",
    "    while temp:\n",
    "        dtemp = temp.next\n",
    "        nex = dtemp.next\n",
    "        if nex:\n",
    "            dnex = nex.next\n",
    "\n",
    "            temp.next = nex\n",
    "            dtemp.next = dnex\n",
    "        else:\n",
    "            dtemp.next = None\n",
    "\n",
    "        temp = nex\n",
    "\n",
    "    return store"
   ]
  },
  {
   "cell_type": "code",
   "execution_count": 15,
   "id": "fb8fa51b-592e-4d62-b35f-8369d6074e64",
   "metadata": {},
   "outputs": [
    {
     "data": {
      "text/plain": [
       "False"
      ]
     },
     "execution_count": 15,
     "metadata": {},
     "output_type": "execute_result"
    }
   ],
   "source": [
    "float('-inf') == float('inf')"
   ]
  },
  {
   "cell_type": "code",
   "execution_count": null,
   "id": "858af56a-126a-4487-82df-0a24deef982b",
   "metadata": {},
   "outputs": [],
   "source": []
  }
 ],
 "metadata": {
  "kernelspec": {
   "display_name": "Python 3",
   "language": "python",
   "name": "python3"
  },
  "language_info": {
   "codemirror_mode": {
    "name": "ipython",
    "version": 3
   },
   "file_extension": ".py",
   "mimetype": "text/x-python",
   "name": "python",
   "nbconvert_exporter": "python",
   "pygments_lexer": "ipython3",
   "version": "3.8.6"
  },
  "toc-autonumbering": true,
  "toc-showcode": false,
  "toc-showmarkdowntxt": false
 },
 "nbformat": 4,
 "nbformat_minor": 5
}
