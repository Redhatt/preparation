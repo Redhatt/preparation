{
 "cells": [
  {
   "cell_type": "code",
   "execution_count": 1,
   "id": "388556f9-2844-42e3-b96f-195bd28be06f",
   "metadata": {},
   "outputs": [],
   "source": [
    "import matplotlib.pyplot as plt\n",
    "import numpy as np"
   ]
  },
  {
   "cell_type": "code",
   "execution_count": 3,
   "id": "5596683c-bdc2-40b6-b15d-5dc8d9b56726",
   "metadata": {},
   "outputs": [],
   "source": [
    "def color_block(canvas):\n",
    "    \n",
    "\n",
    "def getCanvas(l=500, w=500, c=np.ones((3,), dtype=np.float32)):\n",
    "    canvas = np.ones((l, w), dtype=np.float32)\n",
    "    "
   ]
  },
  {
   "cell_type": "code",
   "execution_count": null,
   "id": "00779e1d-d8d2-43e9-b34e-499d67ae8df1",
   "metadata": {},
   "outputs": [],
   "source": []
  }
 ],
 "metadata": {
  "kernelspec": {
   "display_name": "Python 3",
   "language": "python",
   "name": "python3"
  },
  "language_info": {
   "codemirror_mode": {
    "name": "ipython",
    "version": 3
   },
   "file_extension": ".py",
   "mimetype": "text/x-python",
   "name": "python",
   "nbconvert_exporter": "python",
   "pygments_lexer": "ipython3",
   "version": "3.8.6"
  }
 },
 "nbformat": 4,
 "nbformat_minor": 5
}
