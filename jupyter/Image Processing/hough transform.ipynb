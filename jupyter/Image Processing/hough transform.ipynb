{
 "cells": [
  {
   "cell_type": "code",
   "execution_count": 21,
   "id": "8e213661-b1bf-4f72-a02d-085211a8364b",
   "metadata": {},
   "outputs": [
    {
     "data": {
      "image/png": "[encoded data removed]",
      "text/plain": [
       "<Figure size 432x288 with 1 Axes>"
      ]
     },
     "metadata": {
      "needs_background": "light"
     },
     "output_type": "display_data"
    }
   ],
   "source": [
    "import numpy as np \n",
    "import matplotlib.pyplot as plt\n",
    "import cv2    \n",
    "from heapq import *\n",
    "from math import cos, sin, pi, radians as d2r, degrees as r2d\n",
    "\n",
    "def draw(o, p, image):\n",
    "    \n",
    "    height, width = image.shape[:2]\n",
    "    d     = int(height + width)\n",
    "        \n",
    "    con = lambda x, y: (x, height-y)\n",
    "\n",
    "    start = con(int(p * cos(d2r(o)) + d * cos(d2r(o-90))), int((p * sin(d2r(o)) + d * sin(d2r(o-90)))))\n",
    "    stop  = con(int(p * cos(d2r(o)) - d * cos(d2r(o-90))), int((p * sin(d2r(o)) - d * sin(d2r(o-90)))))\n",
    "\n",
    "    return cv2.line(image, start, stop, 255*np.random.rand(3), 1)\n",
    "\n",
    "\n",
    "def HT(image,\n",
    "       min_ang=0, max_ang=180,\n",
    "       dang=1, drho=1,\n",
    "       threshold=200, top=100, \n",
    "       length=200, resize=0):\n",
    "    \n",
    "    height, width = image.shape[:2]\n",
    "\n",
    "    if resize>1:\n",
    "        image = cv2.resize(image, (int(width/resize), int(height/resize)))\n",
    "        height, width = image.shape[:2]\n",
    "        length = int(length/resize)\n",
    "\n",
    "    edges = cv2.Canny(cv2.cvtColor(image, cv2.COLOR_RGB2GRAY),50,200)\n",
    "\n",
    "    min_rho, max_rho = 0, int((height**2 + width**2)**0.5 + 1)\n",
    "    \n",
    "    total_ang = 1 + (max_ang - min_ang)//dang\n",
    "\n",
    "    rho_arr = np.arange(min_rho, max_rho, drho)\n",
    "    ang_arr = np.linspace(min_ang, max_ang, total_ang)\n",
    "    total_rho = len(rho_arr)\n",
    "    \n",
    "    con = lambda col, row: (col, height-row)\n",
    "    \n",
    "    hough_space = [[0 for i in range(total_rho)] for i in range(total_ang)]\n",
    "    \n",
    "    for row in range(height):\n",
    "        for col in range(width):\n",
    "            if edges[row][col] > threshold:\n",
    "                for i, angle in enumerate(ang_arr):\n",
    "                    x, y = con(col, row)\n",
    "                    rho = int((x*cos(d2r(angle)) + y*sin(d2r(angle)))/drho)\n",
    "                    if 0<=rho<total_rho:\n",
    "                        hough_space[i][rho] += 1\n",
    "                    \n",
    "    max_heap = []\n",
    "    for i in range(total_ang):\n",
    "        for j in range(total_rho):\n",
    "            heappush(max_heap, (-hough_space[i][j], ang_arr[i], rho_arr[j]))\n",
    "\n",
    "    for i in range(top):\n",
    "        val, o, p = heappop(max_heap)\n",
    "        if -val < length:\n",
    "            break\n",
    "        \n",
    "        image = draw(o, p, image)\n",
    "                    \n",
    "    return image\n",
    "    \n",
    "\n",
    "path = 'C:\\\\Users\\\\Danish Amin\\\\Desktop\\\\'\n",
    "# file = path + 'table.jpeg'\n",
    "# file = path + 'line1.png'\n",
    "# file = path + 'sqaure.png'\n",
    "file = path + 'test1.png'\n",
    "\n",
    "kernel = np.ones((2,2))\n",
    "\n",
    "im1 = cv2.imread(file, 0)\n",
    "image = cv2.imread(file)\n",
    "\n",
    "final = HT(image,\n",
    "       min_ang=0, max_ang=180,\n",
    "       dang=3, drho=1,\n",
    "       threshold=200, top=50,\n",
    "       length=200, resize=1.3)\n",
    "\n",
    "# cv2.imshow('final', final)\n",
    "cv2.waitKey(0)\n",
    "cv2.destroyAllWindows()\n",
    "\n",
    "\n",
    "plt.imshow(final)\n",
    "plt.show()"
   ]
  },
  {
   "cell_type": "code",
   "execution_count": null,
   "id": "c8219a5d-c041-4d86-8e1a-cce151c79e0a",
   "metadata": {},
   "outputs": [],
   "source": []
  },
  {
   "cell_type": "code",
   "execution_count": null,
   "id": "56de0884-6256-42e2-8668-ea13df927aff",
   "metadata": {},
   "outputs": [],
   "source": []
  },
  {
   "cell_type": "code",
   "execution_count": null,
   "id": "4414c2c1-1ffa-4427-94b4-ac6e2b248489",
   "metadata": {},
   "outputs": [],
   "source": []
  },
  {
   "cell_type": "code",
   "execution_count": null,
   "id": "1a49204c-32e4-41fe-8247-573791b85580",
   "metadata": {},
   "outputs": [],
   "source": []
  },
  {
   "cell_type": "code",
   "execution_count": null,
   "id": "8edde491-0c8a-482d-8950-488320b5a7bd",
   "metadata": {},
   "outputs": [],
   "source": []
  },
  {
   "cell_type": "code",
   "execution_count": null,
   "id": "d52734a1-6ad1-412d-b894-9de4b059b805",
   "metadata": {},
   "outputs": [],
   "source": []
  }
 ],
 "metadata": {
  "kernelspec": {
   "display_name": "Python 3",
   "language": "python",
   "name": "python3"
  },
  "language_info": {
   "codemirror_mode": {
    "name": "ipython",
    "version": 3
   },
   "file_extension": ".py",
   "mimetype": "text/x-python",
   "name": "python",
   "nbconvert_exporter": "python",
   "pygments_lexer": "ipython3",
   "version": "3.8.6"
  }
 },
 "nbformat": 4,
 "nbformat_minor": 5
}
