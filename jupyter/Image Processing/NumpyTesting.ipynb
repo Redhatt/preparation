{
 "cells": [
  {
   "cell_type": "markdown",
   "id": "c9fa59fe-1ab8-4350-bed1-3abf527ed886",
   "metadata": {},
   "source": [
    "[Tutorial](http://scipy.github.io/old-wiki/pages/Tentative_NumPy_Tutorial#head-864862d3f2bb4c32f04260fac61eb4ef34788c4c)"
   ]
  },
  {
   "cell_type": "code",
   "execution_count": 25,
   "id": "d86b30db-13e6-4372-b17a-9ba5f0386a4c",
   "metadata": {},
   "outputs": [],
   "source": [
    "import numpy as np\n",
    "\n",
    "#line splitter\n",
    "def sp(x=\"-\", y=20):\n",
    "    print(x*y)\n",
    "    \n",
    "ran = np.random.rand"
   ]
  },
  {
   "cell_type": "markdown",
   "id": "218831f7-8847-493e-8b20-5cb6524d09e1",
   "metadata": {},
   "source": [
    "The dots (...) represent as many colons as needed to produce a complete indexing tuple.  \n",
    "For example, if x is a rank 5 array (i.e., it has 5 axes), then  \n",
    "```\n",
    "x[1,2,...] is equivalent to x[1,2,:,:,:],\n",
    "x[...,3] to x[:,:,:,:,3] and\n",
    "x[4,...,5,:] to x[4,:,:,5,:].\n",
    "```"
   ]
  },
  {
   "cell_type": "code",
   "execution_count": 39,
   "id": "119521af-9575-4582-a9ce-9322775707af",
   "metadata": {},
   "outputs": [
    {
     "name": "stdout",
     "output_type": "stream",
     "text": [
      "(2, 6)\n",
      "[[0.60054848 0.78484613 0.65134828 0.1435338  0.80616109 0.25302254]\n",
      " [0.925334   0.61462913 0.49445052 0.57934554 0.88633389 0.04360018]]\n"
     ]
    }
   ],
   "source": [
    "a = ran(2, 3)\n",
    "b = ran(2, 3)\n",
    "c = np.concatenate([a, b], -1)\n",
    "print(c.shape)\n",
    "print(c)"
   ]
  },
  {
   "cell_type": "code",
   "execution_count": 44,
   "id": "1efbb469-bd06-4d78-b712-ac0e2b07c146",
   "metadata": {},
   "outputs": [
    {
     "data": {
      "text/plain": [
       "array([1.52131292, 1.17583906])"
      ]
     },
     "execution_count": 44,
     "metadata": {},
     "output_type": "execute_result"
    }
   ],
   "source": [
    "np.random.uniform((2, 3))"
   ]
  },
  {
   "cell_type": "code",
   "execution_count": null,
   "id": "dbaf3194-baf5-490c-9c96-348c1519e880",
   "metadata": {},
   "outputs": [],
   "source": []
  }
 ],
 "metadata": {
  "kernelspec": {
   "display_name": "Python 3 (ipykernel)",
   "language": "python",
   "name": "python3"
  },
  "language_info": {
   "codemirror_mode": {
    "name": "ipython",
    "version": 3
   },
   "file_extension": ".py",
   "mimetype": "text/x-python",
   "name": "python",
   "nbconvert_exporter": "python",
   "pygments_lexer": "ipython3",
   "version": "3.10.4"
  }
 },
 "nbformat": 4,
 "nbformat_minor": 5
}
