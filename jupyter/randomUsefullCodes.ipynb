{
 "cells": [
  {
   "cell_type": "code",
   "execution_count": null,
   "metadata": {},
   "outputs": [],
   "source": [
    "# zip and unzip-->zip(*)\n",
    "value  = [1,2,3,4,2,6,7,8,9,1,3,7,5]\n",
    "weight = [3,4,5,6,7,8,9,1,4,7,9,5,2]\n",
    "\n",
    "car = list(zip(value, weight))\n",
    "print(car)\n",
    "v, w = zip(*car)\n",
    "print()\n",
    "print(v)\n",
    "print()\n",
    "print(w)\n",
    "# key in the sort method works like this. item.value = keyFunction(item), and then item are arranged by their values."
   ]
  },
  {
   "cell_type": "code",
   "execution_count": null,
   "metadata": {},
   "outputs": [],
   "source": [
    "import operator # 400 ms faster than normal on 10^7 len list.\n",
    "lis.sort(key=operator.itemgetter(1))"
   ]
  },
  {
   "cell_type": "raw",
   "metadata": {},
   "source": [
    "string methods in python\n",
    "Note: All string methods returns new values. They do not change the original string.\n",
    "1. string.upper(), string.lower()\n",
    "2. string.replace(a,v)\n",
    "3. string.endswith(a)\n",
    "4. string.find(a) --> returns left index and does not raise error if not found returns -1.\n",
    "5. string.index(a) --> returns left index and does raise error if not found"
   ]
  },
  {
   "cell_type": "raw",
   "metadata": {},
   "source": [
    "list methods\n",
    "insert(pos, value) -> insert value at pos\n",
    "remove(value) -> raises error\n",
    "clear() -> empties the list\n",
    "count(val) -> return no of val in list\n",
    "IMPORTANT: when u copy a 2D list copy every inner list like below\n",
    "x = [1,2,3,4]\n",
    "x_copy = x[:]\n",
    "\n",
    "x = [[1,2], [3,4]]\n",
    "x_copy = [i[:] for i in x]\n",
    "and so on\n",
    "\n",
    "# NOTE: append() and pop() operations are O(1) but insert(0, v) and pop(0) are O(N).\n",
    "        So if implementing queue or deque use collections deque, but for stack list is good enough.\n",
    "        deque is much faster in insert and pop(0) but only 1.15x faster in append and pop."
   ]
  },
  {
   "cell_type": "code",
   "execution_count": null,
   "metadata": {},
   "outputs": [],
   "source": [
    "import bisect\n",
    "lis = [1,2,3,4,6,7]\n",
    "print(bisect.bisect_left(lis, 4)) # will return index in such a way that lis is still sorted and ele is at left of repeating ele.\n",
    "print(bisect.bisect_right(lis, 4)) # will return index in such a way that lis is still sorted and ele is at right of repeating ele."
   ]
  },
  {
   "cell_type": "raw",
   "metadata": {},
   "source": [
    "from bisect import *\n",
    "a = [1,2,3,4,4,6,7]\n",
    "# ascending\n",
    "    # bisect_left\n",
    "        # x not in lis --> returned pos of ele just greater than x\n",
    "        # x once in lis --> returned pos of ele equal to x\n",
    "        # x more than once in lis --> returned left most pos of ele equal to x\n",
    "    # biesct_right\n",
    "         # x not in lis --> returned pos of ele just greater than x\n",
    "        # x once in lis --> returned pos of just greater than x\n",
    "        # x more than once in lis --> returned pos of just greater than x\n",
    "# summary:\n",
    "#     bisect_left tries to return left most position but if not found returns position of just greater ele(lower bound c++)\n",
    "#     bisect_right alway returns postions of just greater than ele(upper bound c++)\n",
    "#     lower_bound(ideally) means value either equal to x or just less than x.\n",
    "#     upper_bound(ideally) means valie either equal to x or just greater than x."
   ]
  },
  {
   "cell_type": "code",
   "execution_count": 2,
   "metadata": {},
   "outputs": [
    {
     "name": "stdout",
     "output_type": "stream",
     "text": [
      "1 2 3 4 4 4 5 6 7\n",
      "0 1 2 3 4 5 6 7 8\n",
      "3 6\n"
     ]
    }
   ],
   "source": [
    "# logic behind bisect left and right\n",
    "\n",
    "lis = [1,2,3,4,4,4,5,6,7]\n",
    "\n",
    "def searchright(lis, x):\n",
    "    n = len(lis)\n",
    "    low, high = 0, n\n",
    "    \n",
    "    while low<high:\n",
    "        mid = (low + high)//2\n",
    "        if lis[mid] < x: low = mid+1\n",
    "        if lis[mid] == x: low = mid+1\n",
    "        else: high = mid-1\n",
    "    return low\n",
    "\n",
    "def searchleft(lis, x):\n",
    "    n = len(lis)\n",
    "    low, high = 0, n\n",
    "    \n",
    "    while low<high:\n",
    "        mid = (low + high)//2\n",
    "        if lis[mid] < x: low = mid+1\n",
    "        if lis[mid] == x: high = mid\n",
    "        else: high = mid-1\n",
    "    return low\n",
    "\n",
    "print(*lis)\n",
    "print(*range(len(lis)))\n",
    "print(searchleft(lis, 4), searchright(lis, 4))"
   ]
  },
  {
   "cell_type": "raw",
   "metadata": {},
   "source": [
    "# re\n",
    "A regular expression that matches only integers with a sign could be for example\n",
    "\n",
    "^[-+]?[0-9]+$\n",
    "meaning\n",
    "\n",
    "^ - start of string\n",
    "[-+]? - an optional (this is what ? means) minus or plus sign\n",
    "[0-9]+ - one or more digits (the plus means \"one or more\" and [0-9] is another way to say \\d)\n",
    "$ - end of string"
   ]
  },
  {
   "cell_type": "code",
   "execution_count": 92,
   "metadata": {},
   "outputs": [
    {
     "name": "stdout",
     "output_type": "stream",
     "text": [
      "5 4\n"
     ]
    }
   ],
   "source": [
    "##  int swapping\n",
    "a = 4\n",
    "b = 5\n",
    "\n",
    "a = a+b\n",
    "b = a-b\n",
    "a = a-b\n",
    "print(a, b)"
   ]
  },
  {
   "cell_type": "code",
   "execution_count": 1,
   "metadata": {},
   "outputs": [],
   "source": [
    "###   binary search in matrix\n",
    "def matrixSearch(matrix, x0, x1, y0, y1, element):\n",
    "    print(x0, x1, y0, y1)\n",
    "    if (x1-x0<=1) or (y1-y0<=1):\n",
    "        for i in range(x0, x1):\n",
    "            for j in range(y0, y1):\n",
    "                if matrix[i][j] == element:\n",
    "                    return (i, j)\n",
    "        return \"not found\"\n",
    "                               \n",
    "    midR, midC = (x1+x0)//2, (y1+y0)//2 \n",
    "    if matrix[midR][midC] == element:\n",
    "        return (midR, midC)\n",
    "    elif matrix[midR][midC] > element:\n",
    "        x1, y1 = midR, midC\n",
    "        matrixSearch(matrix, x0, x1, y0, y1, element)\n",
    "    else:\n",
    "        x0, y0 = midR//2, midC//2\n",
    "        matrixSearch(matrix, x0, x1, y0, y1, element)"
   ]
  },
  {
   "cell_type": "code",
   "execution_count": 1,
   "metadata": {},
   "outputs": [],
   "source": [
    "A = [[10, 20, 30, 40],\n",
    "     [15, 25, 35, 45],\n",
    "     [27, 29, 37, 48],\n",
    "     [32, 33, 39, 50]];\n",
    "e = 29\n",
    "#print(matrixSearch(A, 0, len(A)-1, 0, len(A)-1, e))\n"
   ]
  },
  {
   "cell_type": "code",
   "execution_count": 2,
   "metadata": {},
   "outputs": [
    {
     "name": "stdout",
     "output_type": "stream",
     "text": [
      "1 2 3 4 5 10 15 20 19 18 17 16 11 6 7 8 9 14 13 12\n"
     ]
    }
   ],
   "source": [
    "# printing matrix in spiral clockwise.\n",
    "def rec(matrix, i, j, a, b):\n",
    "    ans = []\n",
    "    if i>a or j>b:\n",
    "        return ans\n",
    "    if i == a:\n",
    "        ans += [matrix[i][x] for x in range(j,b+1)]\n",
    "        return ans\n",
    "    if  j == b:\n",
    "        ans += [matrix[x][j] for x in range(i, a+1)]\n",
    "        return ans\n",
    "    else:\n",
    "        ans += [matrix[i][x] for x in range(j, b)]\n",
    "        ans += [matrix[x][b] for x in range(i, a)]\n",
    "        ans += [matrix[a][x] for x in range(b, j, -1)]\n",
    "        ans += [matrix[x][j] for x in range(a, i, -1)]\n",
    "        return ans + rec(matrix, i+1, j+1, a-1, b-1)\n",
    "\n",
    "ans = []\n",
    "matrix =  [\n",
    "   ['1', '2', '3', '4', '5'],\n",
    "   ['6', '7', '8', '9', '10'],\n",
    "   ['11', '12', '13', '14', '15'],\n",
    "   ['16', '17', '18', '19', '20'],\n",
    " ]\n",
    "n, m = len(matrix), len(matrix[0])\n",
    "print(*rec(matrix, 0, 0, n-1, m-1))"
   ]
  },
  {
   "cell_type": "code",
   "execution_count": 7,
   "metadata": {},
   "outputs": [
    {
     "name": "stdout",
     "output_type": "stream",
     "text": [
      "'car \\n truck \\t'\n",
      "97\n",
      "a\n"
     ]
    }
   ],
   "source": [
    "a = 'car \\n truck \\t'\n",
    "check = repr(a)\n",
    "print(check)\n",
    "q = 'a'\n",
    "val = ord(q)\n",
    "print(val)\n",
    "print(chr(val))"
   ]
  },
  {
   "cell_type": "code",
   "execution_count": 6,
   "metadata": {},
   "outputs": [
    {
     "data": {
      "image/png": "[encoded data removed]",
      "text/plain": [
       "<Figure size 432x288 with 1 Axes>"
      ]
     },
     "metadata": {
      "needs_background": "light"
     },
     "output_type": "display_data"
    }
   ],
   "source": [
    "# convex hull creator\n",
    "import numpy as np\n",
    "import matplotlib.pyplot as plt\n",
    "import math\n",
    "\n",
    "# xlis = [1,8,3,4,3,8,10,6,8,4,5,10,10,8]\n",
    "# ylis = [1,5,10,6,6,0,4,1,6,9,1,10,0,-1]\n",
    "xlis = [0, 3, 2, 5]\n",
    "ylis = [5, -1, -2, -10]\n",
    "\n",
    "line = (xlis[0], ylis[0], xlis[1], ylis[1])\n",
    "point = (xlis[2], ylis[2])\n",
    "plt.scatter(xlis, ylis)\n",
    "for i in range(len(xlis)):\n",
    "    plt.text(xlis[i], ylis[i], f\"({xlis[i]},{ylis[i]})\")\n",
    "# plt.show()\n",
    "\n",
    "def point_dir(line, point, tol=1e-10):\n",
    "    x1, y1, x2, y2 = line\n",
    "    a, b = point\n",
    "    \n",
    "    l1, l2 = x2-x1, y2-y1\n",
    "    m1, m2 = a-x1, b-y1\n",
    "    ans = l1*m2 - l2*m1\n",
    "    if abs(ans)<=tol:\n",
    "        return 0\n",
    "    else:\n",
    "        return -1 if ans<0 else 1\n",
    "    \n",
    "def convex_hull(xlis, ylis):\n",
    "    points = sorted(list(zip(xlis, ylis)))\n",
    "    up, down = [], []\n",
    "    x0, y0 = points[0]\n",
    "    for i in points:\n",
    "        if i[1] >= y0:\n",
    "            up.append(i)\n",
    "        else:\n",
    "            down.append(i)\n",
    "    down.reverse()\n",
    "    up.append((up[-1][0]+1, -1))\n",
    "    down.append((down[-1][0]+1, -1))\n",
    "    \n",
    "    s, e, f = 0, 0, 0\n",
    "    for i in range(len(up)-1):\n",
    "        if up[i][0] == up[i+1][0]:\n",
    "            if f == 0:\n",
    "                s = i\n",
    "            e = i+1\n",
    "            f = 1\n",
    "        elif f:\n",
    "            up[s:e+1] = sorted(up[s:e+1], key=lambda x: x[1], reverse=True)\n",
    "            f = 0\n",
    "            \n",
    "    s, e, f = 0, 0, 0\n",
    "    for i in range(len(down)-1):\n",
    "        if down[i][0] == down[i+1][0]:\n",
    "            if f == 0:\n",
    "                s = i\n",
    "            e = i+1\n",
    "            f = 1\n",
    "        elif f:\n",
    "            down[s:e+1] = sorted(down[s:e+1], key=lambda x: x[1], reverse=True)\n",
    "            f = 0\n",
    "    up.pop()\n",
    "    down.pop()\n",
    "    points = up+down\n",
    "    if len(points) > 3:\n",
    "        i = 1\n",
    "        hull = [points[0], points[1]]\n",
    "        x, y = points[2]\n",
    "        while x != x0 or y != y0:\n",
    "            point, line = (x, y), (hull[-2][0], hull[-2][1], hull[-1][0], hull[-1][1])\n",
    "            if point_dir(line, point) != 1:\n",
    "                hull.append((x, y))\n",
    "                i+=1\n",
    "                x, y = points[(i+1)%len(points)]\n",
    "            else:\n",
    "                if len(hull)>=2:\n",
    "                    hull.pop()\n",
    "                if len(hull) <= 1:\n",
    "                    hull.append((x,y))\n",
    "                    i+=1\n",
    "                    x, y = points[(i+1)%len(points)]\n",
    "    hull.append((x0, y0))\n",
    "    return hull\n",
    "\n",
    "hull = convex_hull(xlis, ylis)\n",
    "X, Y = zip(*hull)\n",
    "plt.plot(X, Y)\n",
    "for i in range(len(X)):\n",
    "    plt.text(X[i], Y[i], f\"({X[i]},{Y[i]})\")\n",
    "plt.show()"
   ]
  },
  {
   "cell_type": "code",
   "execution_count": null,
   "metadata": {},
   "outputs": [],
   "source": []
  }
 ],
 "metadata": {
  "kernelspec": {
   "display_name": "Python 3",
   "language": "python",
   "name": "python3"
  },
  "language_info": {
   "codemirror_mode": {
    "name": "ipython",
    "version": 3
   },
   "file_extension": ".py",
   "mimetype": "text/x-python",
   "name": "python",
   "nbconvert_exporter": "python",
   "pygments_lexer": "ipython3",
   "version": "3.8.6"
  }
 },
 "nbformat": 4,
 "nbformat_minor": 4
}
