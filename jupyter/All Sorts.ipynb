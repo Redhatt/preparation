{
 "cells": [
  {
   "cell_type": "markdown",
   "metadata": {},
   "source": [
    "# Insertion Sort"
   ]
  },
  {
   "cell_type": "code",
   "execution_count": 3,
   "metadata": {},
   "outputs": [
    {
     "name": "stdout",
     "output_type": "stream",
     "text": [
      "[0, 1, 2, 3, 5, 6, 7, 8]\n"
     ]
    }
   ],
   "source": [
    "#code\n",
    "lis = [5,3,7,2,8,0,1,6]\n",
    "n = len(lis)\n",
    "for i in range(n):\n",
    "    j = i-1\n",
    "    key = lis[i]\n",
    "    while j>=0 and lis[j]>key:\n",
    "        lis[j+1] = lis[j]\n",
    "        j -= 1\n",
    "    lis[j+1] = key\n",
    "print(lis)"
   ]
  },
  {
   "cell_type": "markdown",
   "metadata": {},
   "source": [
    "# Bubble Sort"
   ]
  },
  {
   "cell_type": "code",
   "execution_count": 7,
   "metadata": {},
   "outputs": [
    {
     "name": "stdout",
     "output_type": "stream",
     "text": [
      "[0, 1, 2, 3, 5, 6, 7, 8]\n"
     ]
    }
   ],
   "source": [
    "#code\n",
    "lis = [5,3,7,2,8,0,1,6]\n",
    "n = len(lis)\n",
    "for i in range(n):\n",
    "    for j in range(n-1):\n",
    "        if lis[j]>lis[j+1]: lis[j], lis[j+1] = lis[j+1], lis[j]\n",
    "print(lis)"
   ]
  },
  {
   "cell_type": "markdown",
   "metadata": {},
   "source": [
    "# Selection Sort"
   ]
  },
  {
   "cell_type": "code",
   "execution_count": 32,
   "metadata": {},
   "outputs": [
    {
     "name": "stdout",
     "output_type": "stream",
     "text": [
      "[-1, 0, 1, 2, 3, 5, 6, 7, 8]\n"
     ]
    }
   ],
   "source": [
    "#code\n",
    "lis = [-1,5,3,7,2,8,0,1,6]\n",
    "n = len(lis)\n",
    "for i in range(n):\n",
    "    index, m = -1, 10000\n",
    "    # getting least element from rest of the arr\n",
    "    for j in range(i, n):\n",
    "        if lis[j]<m: m, index = lis[j], j # this whole process can done using heaps.\n",
    "    lis[i], lis[index] = lis[index], lis[i]\n",
    "print(lis)"
   ]
  },
  {
   "cell_type": "code",
   "execution_count": 37,
   "metadata": {},
   "outputs": [
    {
     "name": "stdout",
     "output_type": "stream",
     "text": [
      "[-1, 0, 1, 2, 3, 5, 6, 7, 8]\n"
     ]
    }
   ],
   "source": [
    "# dont know what but can be used\n",
    "from heapq import heappush, heappop, heapify\n",
    "q = []\n",
    "lis = [-1,5,3,7,2,8,0,1,6]\n",
    "n = len(lis)\n",
    "for i in range(n): q.append(lis[i])\n",
    "heapify(q)\n",
    "for i in range(n):\n",
    "    val = heappop(q)\n",
    "    lis[i] = val\n",
    "print(lis)"
   ]
  },
  {
   "cell_type": "markdown",
   "metadata": {},
   "source": [
    "# Bucket Sort"
   ]
  },
  {
   "cell_type": "code",
   "execution_count": 23,
   "metadata": {},
   "outputs": [
    {
     "name": "stdout",
     "output_type": "stream",
     "text": [
      "[0, 1, 2, 3, 5, 6, 7, 8]\n"
     ]
    }
   ],
   "source": [
    "#code\n",
    "def insertions_sort(a):\n",
    "    for i in range(len(a)):\n",
    "        key = a[i]\n",
    "        j = i-1\n",
    "        while j>=0 and a[j]>key:\n",
    "            a[j+1] = a[j]\n",
    "            j -= 1\n",
    "        a[j+1] = key\n",
    "        \n",
    "lis = [5,3,7,2,8,0,1,6]\n",
    "n = len(lis)\n",
    "mn, mx = min(lis), max(lis)\n",
    "no = 5\n",
    "slot = (mx-mn)/no\n",
    "arr = [[] for i in range(no+1)]\n",
    "for i in lis: arr[int((i-mn)/slot)].append(i)\n",
    "for a in arr: insertions_sort(a)\n",
    "val = []\n",
    "for i in arr:\n",
    "    for j in i: val.append(j)\n",
    "print(val)"
   ]
  },
  {
   "cell_type": "markdown",
   "metadata": {},
   "source": [
    "# Merge Sort"
   ]
  },
  {
   "cell_type": "code",
   "execution_count": 32,
   "metadata": {},
   "outputs": [
    {
     "name": "stdout",
     "output_type": "stream",
     "text": [
      "[0, 1, 2, 3, 5, 6, 7, 8]\n"
     ]
    }
   ],
   "source": [
    "#code\n",
    "lis = [5,3,7,2,8,0,1,6]\n",
    "n = len(lis)\n",
    "\n",
    "def merge(arr, start, mid, end):\n",
    "    i, j, k = start, mid+1, 0\n",
    "    temp = [0]*(end-start+1)\n",
    "    while i<=mid and j<=end:\n",
    "        if arr[i]<=arr[j]:\n",
    "            temp[k] = arr[i]\n",
    "            i+=1\n",
    "        else:\n",
    "            temp[k] = arr[j]\n",
    "            j+=1\n",
    "        k+=1\n",
    "    while i<=mid:\n",
    "        temp[k] = arr[i]\n",
    "        i+=1; k+=1\n",
    "    while j<=end:\n",
    "        temp[k] = arr[j]\n",
    "        j+=1; k+=1\n",
    "    for i in range(end-start+1): arr[start+i] = temp[i]\n",
    "\n",
    "def mergeSort(lis, start, end):\n",
    "    if start<end:\n",
    "        mid = (start+end)//2\n",
    "        mergeSort(lis, start, mid)\n",
    "        mergeSort(lis, mid+1, end)\n",
    "        merge(lis, start, mid, end)\n",
    "mergeSort(lis, 0, len(lis)-1)\n",
    "print(lis)"
   ]
  },
  {
   "cell_type": "markdown",
   "metadata": {},
   "source": [
    "# Quick Sort"
   ]
  },
  {
   "cell_type": "code",
   "execution_count": 1,
   "metadata": {},
   "outputs": [
    {
     "name": "stdout",
     "output_type": "stream",
     "text": [
      "[3, 5, 2, 2, 1, 0, 8, 6, 7]\n"
     ]
    }
   ],
   "source": [
    "#code\n",
    "import random\n",
    "lis = [5,3,7,2,8,0,1,6,2]\n",
    "n = len(lis)\n",
    "\n",
    "def  quick(lis, pivot, low, high):\n",
    "    print(pivot)\n",
    "    print(lis)\n",
    "    while low<high:\n",
    "        if lis[low] == pivot:\n",
    "                lis[low], lis[low+1] = lis[low+1], lis[low]\n",
    "                \n",
    "        while low<high and lis[low]<=pivot: \n",
    "            low += 1\n",
    "        while high>low and lis[high]>=pivot: \n",
    "            if lis[high] == pivot:\n",
    "                lis[high], lis[high-1] = lis[high-1], lis[high]\n",
    "            high -= 1\n",
    "        lis[low], lis[high] = lis[high], lis[low]\n",
    "    print(lis)\n",
    "    print(low, lis[low])\n",
    "    print()\n",
    "    return low\n",
    "    \n",
    "def quickSort(arr, low=0, high=None):\n",
    "    if high is None: high = len(arr)-1\n",
    "    if low<high:\n",
    "        pivot_val = 5 #random.choice(arr[low:high+1])\n",
    "        pivot = quick(arr, pivot_val, low, high)\n",
    "        quickSort(arr, low, pivot-1)\n",
    "        quickSort(arr, pivot+1, high)\n",
    "quickSort(lis)\n",
    "print(lis)"
   ]
  },
  {
   "cell_type": "code",
   "execution_count": 13,
   "metadata": {},
   "outputs": [
    {
     "name": "stdout",
     "output_type": "stream",
     "text": [
      "[1, 5, 2, 8, 4, 4, 4, 4, 3, 6, 3, 5, 8]\n",
      "\n",
      "6\n",
      "[1, 5, 2, 4, 4, 4, 4, 3, 3, 5, 8, 6, 8]\n"
     ]
    }
   ],
   "source": [
    "def  quick(lis, pivot, low, high):\n",
    "    last = low\n",
    "    index = 0\n",
    "    for i in range(low, high+1):\n",
    "        if pivot == lis[i]: index = i\n",
    "        if lis[i]<pivot:\n",
    "            lis[i], lis[last] = lis[last], lis[i]\n",
    "            last += 1\n",
    "    if last<index:\n",
    "        lis[last], lis[index] = lis[index], lis[last]\n",
    "    return last\n",
    "\n",
    "lis = [1,5,2,8,4,4,4,4,3,6,3,5,8]\n",
    "\n",
    "print(lis)\n",
    "print()\n",
    "for i in lis:\n",
    "    v = lis[:]\n",
    "    quick(v, i, 0, len(lis)-1)\n",
    "    index = v.index(i)\n",
    "    flag = True\n",
    "    for k in range(index):\n",
    "        if v[k]>i:\n",
    "            flag = False\n",
    "            break\n",
    "    \n",
    "    for k in range(index+1, len(v)):\n",
    "        if v[k]<i:\n",
    "            flag = False\n",
    "            break\n",
    "    \n",
    "    if not flag:\n",
    "        print(i)\n",
    "        print(v)"
   ]
  },
  {
   "cell_type": "code",
   "execution_count": 43,
   "metadata": {},
   "outputs": [
    {
     "name": "stdout",
     "output_type": "stream",
     "text": [
      "0\n",
      "[5, 7, 6]\n"
     ]
    }
   ],
   "source": [
    "v = [7, 5, 6]\n",
    "print(pivotFinder(v, 0, len(v)-1))\n",
    "print(v)"
   ]
  },
  {
   "cell_type": "markdown",
   "metadata": {},
   "source": [
    "# Count Sort\n",
    "This is more like efficient mapping of elements when you already know the range of input.  \n",
    "Make count array which covers the range of input. Now make a shift variable to map  elements to the indices.  \n",
    "Then make a prefix array of this count array so that you know where they are going to be found in output array.  \n",
    "like if index 3 has value 4 in prefix array, we know element mapped to index 3 is at 4th place(1 based index) in out put array so fill places from 4th in reverse order to untill all 3 mapped elements finishes."
   ]
  },
  {
   "cell_type": "code",
   "execution_count": 24,
   "metadata": {},
   "outputs": [
    {
     "name": "stdout",
     "output_type": "stream",
     "text": [
      "[1, 1, 2, 2, 4, 5, 7]\n"
     ]
    }
   ],
   "source": [
    "arr = [1, 4, 1, 2, 7, 5, 2]\n",
    "n = len(arr)\n",
    "mn, mx = min(arr), max(arr)\n",
    "diff = mx-mn+1\n",
    "shift = mn\n",
    "mn -= shift\n",
    "mx -= shift\n",
    "\n",
    "count = [0]*(diff)\n",
    "for i in range(n): count[arr[i]-shift] += 1\n",
    "\n",
    "prefix = [0]*(diff)\n",
    "prefix[0] = count[0]\n",
    "for i in range(1, diff): prefix[i] = count[i]+prefix[i-1]\n",
    "\n",
    "out = [0]*n\n",
    "prev = 0\n",
    "for i in range(diff):\n",
    "    curr = prefix[i]\n",
    "    while prefix[i]-prev:\n",
    "        out[prefix[i]-1] = i+shift\n",
    "        prefix[i] -= 1\n",
    "    prev = curr\n",
    "print(out)"
   ]
  },
  {
   "cell_type": "code",
   "execution_count": null,
   "metadata": {},
   "outputs": [],
   "source": []
  },
  {
   "cell_type": "code",
   "execution_count": null,
   "metadata": {},
   "outputs": [],
   "source": []
  },
  {
   "cell_type": "code",
   "execution_count": null,
   "metadata": {},
   "outputs": [],
   "source": []
  },
  {
   "cell_type": "code",
   "execution_count": null,
   "metadata": {},
   "outputs": [],
   "source": []
  }
 ],
 "metadata": {
  "kernelspec": {
   "display_name": "Python 3",
   "language": "python",
   "name": "python3"
  },
  "language_info": {
   "codemirror_mode": {
    "name": "ipython",
    "version": 3
   },
   "file_extension": ".py",
   "mimetype": "text/x-python",
   "name": "python",
   "nbconvert_exporter": "python",
   "pygments_lexer": "ipython3",
   "version": "3.8.6"
  }
 },
 "nbformat": 4,
 "nbformat_minor": 4
}
